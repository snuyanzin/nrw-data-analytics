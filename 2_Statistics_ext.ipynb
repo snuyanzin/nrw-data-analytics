{
  "nbformat": 4,
  "nbformat_minor": 0,
  "metadata": {
    "colab": {
      "provenance": [],
      "collapsed_sections": [
        "BIIOTUNRAf0q",
        "3QSOcnFgVUZ4",
        "GhkLdq4sVced",
        "Y8col7-UWixq"
      ],
      "include_colab_link": true
    },
    "kernelspec": {
      "name": "python3",
      "display_name": "Python 3"
    }
  },
  "cells": [
    {
      "cell_type": "markdown",
      "metadata": {
        "id": "view-in-github",
        "colab_type": "text"
      },
      "source": [
        "<a href=\"https://colab.research.google.com/github/snuyanzin/nrw-data-analytics/blob/main/2_Statistics_ext.ipynb\" target=\"_parent\"><img src=\"https://colab.research.google.com/assets/colab-badge.svg\" alt=\"Open In Colab\"/></a>"
      ]
    },
    {
      "cell_type": "markdown",
      "source": [
        "Main guiding reference: https://www.crashkurs-statistik.de/ (unfortunately rather unusable as of September 2022)<br>\n",
        "A possible strong help is the chrome extension https://support.deepl.com/hc/de/articles/4407516019218-Verf%C3%BCgbarkeit-von-Browsererweiterungen"
      ],
      "metadata": {
        "id": "B0jnuyvIt-fD"
      }
    },
    {
      "cell_type": "markdown",
      "metadata": {
        "id": "rQoxNcYMVvkd"
      },
      "source": [
        "## Statistics and repeated events\n",
        "\n",
        "**Statistics** is a field that deals with the collection and analysis of data\n",
        "\n",
        "A key assumption in classical statistics, is the fact that you can observe a certain event **repeatdely**\n",
        "\n",
        "Examples:\n",
        "- *Height*: you can go outside and you will see lots of people! You can observe the different heights, so this fulfills the assumption of repeated observations\n",
        "\n",
        "- *World War*: in the last 5000 years there have only been two big world wars. This is **not** something we can observe repeatedly (and we don't want to repeat it!)\n",
        "\n",
        "- *Seasonal flu*: every year during spring or fall, people usually get a flu. You might not get sick, or you might get sick more than once in a given year. But it is something you can observe repeatedly year after year\n",
        "\n",
        "- *Coronavirus*: a new kind of virus that we have not seen before. It didn't even exist a year ago. This is **not** something we observe repeatedly\n",
        "\n",
        "\n",
        "\n"
      ]
    },
    {
      "cell_type": "markdown",
      "source": [
        "Why do we care about `count` from the `describe` function? Well, it tells us something about the size of the data set, and about missing values (more on that later in the course). Most importantly, it tells us something about whether we have **enough data** to do a good analysis (number n of data points)\n"
      ],
      "metadata": {
        "id": "CaZlwCjozdZW"
      }
    },
    {
      "cell_type": "markdown",
      "source": [
        "## Statistics and its subdivisions\n",
        "Statistics is commonly subdivided in several subfields:\n",
        "* descriptive statistics\n",
        "* inferential statistics\n",
        "* exploratory data analysis\n",
        "\n",
        "\n",
        "A typical introductory course in statistics will restrict itself on that agenda:\n",
        "* descriptive statistics\n",
        "  * metrics/statistics/parameters/modes/moments\n",
        "  * diagrams, tables\n",
        "\n",
        "* probability theory\n",
        "  * combinatorics\n",
        "  * Law of Large Numbers\n",
        "  * Central Limit Theorem\n",
        "  * Law of Bayes\n",
        "  * Distributions\n",
        "\n",
        "* inferential statistics\n",
        "  * hypothesis testing\n",
        "    * one-sided vs two-sided\n",
        "  * choose a test\n",
        "  * validity of assumptions\n",
        "  * sensitivity / specificity\n",
        "\n",
        "\n"
      ],
      "metadata": {
        "id": "eGlAyQj91T1W"
      }
    },
    {
      "cell_type": "markdown",
      "source": [
        "An advanced course in statistics such as \"multivariate statiscs\" implicitly covers exploratory data analysis. It typically present ANOVA, linear regression techniques and dimensionality reduction techniques. Those may or may not be presented as part of a machine learning course that uses minor, but important differences in definition. Perhaps most notably as an example inferential statistics is understood in machine learning as \"probability inference\" (calculating a probability value from a model), whilst it has a complete different meaning in classical statistics (infering models for a statistical test)."
      ],
      "metadata": {
        "id": "_z-OCcd6RsH0"
      }
    },
    {
      "cell_type": "markdown",
      "source": [
        "A few crash courses on the path to understanding statistics:\n",
        "* https://www.youtube.com/watch?v=I10q6fjPxJ0 (an overly optimistic overview covering a basic course's knowledge)\n",
        "* https://www.youtube.com/watch?v=hZxnzfnt5v8 (types of data)\n",
        "* https://www.youtube.com/watch?v=UaptUhOushw (which test should one chose and what is the motivation for regression)\n",
        "* https://www.youtube.com/watch?v=rulIUAN0U3w (another way of chosing tests)\n",
        "* https://www.youtube.com/watch?v=ulk_JWckJ78 (again the same idea about chosing tests according to type of data, sample and purpose)\n",
        "* https://www.youtube.com/watch?v=p2c4C2D7ZZc (specifically fisher's exact test as an example; compare categories) => Exercise\n",
        "\n",
        "\n"
      ],
      "metadata": {
        "id": "XsIKUjVwcbAM"
      }
    },
    {
      "cell_type": "markdown",
      "source": [
        "Note that nowdays machine learning typically is the basis for roles of a work as a data analyst. The above concepts coming from statistics and exploratory data-analysis are reorganized and additional concepts get introduced suc as different scoring metrics like Precision and Recall in addition to sensitivity and specificity."
      ],
      "metadata": {
        "id": "fbRB1u2Bla_e"
      }
    },
    {
      "cell_type": "markdown",
      "source": [
        "EDA can be understood as an initial practice of machine learning. Although there is no theory connecting AI, ML and statistics including EDA, the wikipedia gives a good overview of what the connection are. In the latter I adopt an ML point of view."
      ],
      "metadata": {
        "id": "unaknsBdmu26"
      }
    },
    {
      "cell_type": "markdown",
      "metadata": {
        "id": "uB361ru2OyDx"
      },
      "source": [
        "## Import Packages"
      ]
    },
    {
      "cell_type": "code",
      "metadata": {
        "id": "JPFyTLeRO5Yz"
      },
      "source": [
        "import pandas as pd\n",
        "import inspect"
      ],
      "execution_count": null,
      "outputs": []
    },
    {
      "cell_type": "markdown",
      "metadata": {
        "id": "NCcK1TjtO7IQ"
      },
      "source": [
        "## Import dataset"
      ]
    },
    {
      "cell_type": "code",
      "metadata": {
        "id": "2-uvgXBNZ7po"
      },
      "source": [
        "# function help hit 'TAB' or 'ctrl-space' after a '.'\n",
        "# but first import the library for which documentation is requested\n",
        "# also check 'Tools - kexboard shortcuts'\n",
        "df = pd.read_csv(\n",
        "  filepath_or_buffer='https://raw.githubusercontent.com/aaronmcdaid/P2---Data-Analytics-With-Python/master/Berlin/WS%202019/5.%20Datasets/titanic_dataset/train.csv',\n",
        ")"
      ],
      "execution_count": null,
      "outputs": []
    },
    {
      "cell_type": "code",
      "metadata": {
        "id": "8NL4dkK5aLPP",
        "colab": {
          "base_uri": "https://localhost:8080/"
        },
        "outputId": "2e1921cc-9d4d-4c43-c811-f19725348f97"
      },
      "source": [
        "df.head(4)\n",
        "\n",
        "bins = df['Sex'].value_counts().sort_values().tolist()\n",
        "bins\n",
        "from scipy.stats import binomtest\n",
        "binomtest(bins[0], bins[1])\n",
        "\n",
        "# the n is for the amount of rows you want to see"
      ],
      "execution_count": null,
      "outputs": [
        {
          "output_type": "execute_result",
          "data": {
            "text/plain": [
              "BinomTestResult(k=314, n=577, alternative='two-sided', statistic=0.5441941074523396, pvalue=0.037293959056508265)"
            ]
          },
          "metadata": {},
          "execution_count": 26
        }
      ]
    },
    {
      "cell_type": "markdown",
      "source": [
        "## First Statistical Concepts (Who, What, How?)"
      ],
      "metadata": {
        "id": "lYQb0DZMhNDM"
      }
    },
    {
      "cell_type": "markdown",
      "source": [
        "It is about who got the data (its objectivity)? What is the data (its validity)? How has it been obatined (its reliability)? More generally this step is about cognitive bias. e.g. what do the column SibSp and Parch mean? (https://towardsdatascience.com/predicting-the-survival-of-titanic-passengers-30870ccc7e8). More generally all sorts of bias can/must be taken into account (https://en.wikipedia.org/wiki/List_of_cognitive_biases, https://en.wikipedia.org/wiki/List_of_fallacies)"
      ],
      "metadata": {
        "id": "6l_NB1fBo9Ye"
      }
    },
    {
      "cell_type": "code",
      "source": [
        "df.head(5)"
      ],
      "metadata": {
        "id": "LOs9N32e2EtB",
        "outputId": "d902ad61-2307-43b8-9f25-917586d01664",
        "colab": {
          "base_uri": "https://localhost:8080/",
          "height": 206
        }
      },
      "execution_count": null,
      "outputs": [
        {
          "output_type": "execute_result",
          "data": {
            "text/plain": [
              "   PassengerId  Survived  Pclass  \\\n",
              "0            1         0       3   \n",
              "1            2         1       1   \n",
              "2            3         1       3   \n",
              "3            4         1       1   \n",
              "4            5         0       3   \n",
              "\n",
              "                                                Name     Sex   Age  SibSp  \\\n",
              "0                            Braund, Mr. Owen Harris    male  22.0      1   \n",
              "1  Cumings, Mrs. John Bradley (Florence Briggs Th...  female  38.0      1   \n",
              "2                             Heikkinen, Miss. Laina  female  26.0      0   \n",
              "3       Futrelle, Mrs. Jacques Heath (Lily May Peel)  female  35.0      1   \n",
              "4                           Allen, Mr. William Henry    male  35.0      0   \n",
              "\n",
              "   Parch            Ticket     Fare Cabin Embarked  \n",
              "0      0         A/5 21171   7.2500   NaN        S  \n",
              "1      0          PC 17599  71.2833   C85        C  \n",
              "2      0  STON/O2. 3101282   7.9250   NaN        S  \n",
              "3      0            113803  53.1000  C123        S  \n",
              "4      0            373450   8.0500   NaN        S  "
            ],
            "text/html": [
              "\n",
              "  <div id=\"df-79f237b4-4095-4ebc-bc95-94147245e3fa\" class=\"colab-df-container\">\n",
              "    <div>\n",
              "<style scoped>\n",
              "    .dataframe tbody tr th:only-of-type {\n",
              "        vertical-align: middle;\n",
              "    }\n",
              "\n",
              "    .dataframe tbody tr th {\n",
              "        vertical-align: top;\n",
              "    }\n",
              "\n",
              "    .dataframe thead th {\n",
              "        text-align: right;\n",
              "    }\n",
              "</style>\n",
              "<table border=\"1\" class=\"dataframe\">\n",
              "  <thead>\n",
              "    <tr style=\"text-align: right;\">\n",
              "      <th></th>\n",
              "      <th>PassengerId</th>\n",
              "      <th>Survived</th>\n",
              "      <th>Pclass</th>\n",
              "      <th>Name</th>\n",
              "      <th>Sex</th>\n",
              "      <th>Age</th>\n",
              "      <th>SibSp</th>\n",
              "      <th>Parch</th>\n",
              "      <th>Ticket</th>\n",
              "      <th>Fare</th>\n",
              "      <th>Cabin</th>\n",
              "      <th>Embarked</th>\n",
              "    </tr>\n",
              "  </thead>\n",
              "  <tbody>\n",
              "    <tr>\n",
              "      <th>0</th>\n",
              "      <td>1</td>\n",
              "      <td>0</td>\n",
              "      <td>3</td>\n",
              "      <td>Braund, Mr. Owen Harris</td>\n",
              "      <td>male</td>\n",
              "      <td>22.0</td>\n",
              "      <td>1</td>\n",
              "      <td>0</td>\n",
              "      <td>A/5 21171</td>\n",
              "      <td>7.2500</td>\n",
              "      <td>NaN</td>\n",
              "      <td>S</td>\n",
              "    </tr>\n",
              "    <tr>\n",
              "      <th>1</th>\n",
              "      <td>2</td>\n",
              "      <td>1</td>\n",
              "      <td>1</td>\n",
              "      <td>Cumings, Mrs. John Bradley (Florence Briggs Th...</td>\n",
              "      <td>female</td>\n",
              "      <td>38.0</td>\n",
              "      <td>1</td>\n",
              "      <td>0</td>\n",
              "      <td>PC 17599</td>\n",
              "      <td>71.2833</td>\n",
              "      <td>C85</td>\n",
              "      <td>C</td>\n",
              "    </tr>\n",
              "    <tr>\n",
              "      <th>2</th>\n",
              "      <td>3</td>\n",
              "      <td>1</td>\n",
              "      <td>3</td>\n",
              "      <td>Heikkinen, Miss. Laina</td>\n",
              "      <td>female</td>\n",
              "      <td>26.0</td>\n",
              "      <td>0</td>\n",
              "      <td>0</td>\n",
              "      <td>STON/O2. 3101282</td>\n",
              "      <td>7.9250</td>\n",
              "      <td>NaN</td>\n",
              "      <td>S</td>\n",
              "    </tr>\n",
              "    <tr>\n",
              "      <th>3</th>\n",
              "      <td>4</td>\n",
              "      <td>1</td>\n",
              "      <td>1</td>\n",
              "      <td>Futrelle, Mrs. Jacques Heath (Lily May Peel)</td>\n",
              "      <td>female</td>\n",
              "      <td>35.0</td>\n",
              "      <td>1</td>\n",
              "      <td>0</td>\n",
              "      <td>113803</td>\n",
              "      <td>53.1000</td>\n",
              "      <td>C123</td>\n",
              "      <td>S</td>\n",
              "    </tr>\n",
              "    <tr>\n",
              "      <th>4</th>\n",
              "      <td>5</td>\n",
              "      <td>0</td>\n",
              "      <td>3</td>\n",
              "      <td>Allen, Mr. William Henry</td>\n",
              "      <td>male</td>\n",
              "      <td>35.0</td>\n",
              "      <td>0</td>\n",
              "      <td>0</td>\n",
              "      <td>373450</td>\n",
              "      <td>8.0500</td>\n",
              "      <td>NaN</td>\n",
              "      <td>S</td>\n",
              "    </tr>\n",
              "  </tbody>\n",
              "</table>\n",
              "</div>\n",
              "    <div class=\"colab-df-buttons\">\n",
              "\n",
              "  <div class=\"colab-df-container\">\n",
              "    <button class=\"colab-df-convert\" onclick=\"convertToInteractive('df-79f237b4-4095-4ebc-bc95-94147245e3fa')\"\n",
              "            title=\"Convert this dataframe to an interactive table.\"\n",
              "            style=\"display:none;\">\n",
              "\n",
              "  <svg xmlns=\"http://www.w3.org/2000/svg\" height=\"24px\" viewBox=\"0 -960 960 960\">\n",
              "    <path d=\"M120-120v-720h720v720H120Zm60-500h600v-160H180v160Zm220 220h160v-160H400v160Zm0 220h160v-160H400v160ZM180-400h160v-160H180v160Zm440 0h160v-160H620v160ZM180-180h160v-160H180v160Zm440 0h160v-160H620v160Z\"/>\n",
              "  </svg>\n",
              "    </button>\n",
              "\n",
              "  <style>\n",
              "    .colab-df-container {\n",
              "      display:flex;\n",
              "      gap: 12px;\n",
              "    }\n",
              "\n",
              "    .colab-df-convert {\n",
              "      background-color: #E8F0FE;\n",
              "      border: none;\n",
              "      border-radius: 50%;\n",
              "      cursor: pointer;\n",
              "      display: none;\n",
              "      fill: #1967D2;\n",
              "      height: 32px;\n",
              "      padding: 0 0 0 0;\n",
              "      width: 32px;\n",
              "    }\n",
              "\n",
              "    .colab-df-convert:hover {\n",
              "      background-color: #E2EBFA;\n",
              "      box-shadow: 0px 1px 2px rgba(60, 64, 67, 0.3), 0px 1px 3px 1px rgba(60, 64, 67, 0.15);\n",
              "      fill: #174EA6;\n",
              "    }\n",
              "\n",
              "    .colab-df-buttons div {\n",
              "      margin-bottom: 4px;\n",
              "    }\n",
              "\n",
              "    [theme=dark] .colab-df-convert {\n",
              "      background-color: #3B4455;\n",
              "      fill: #D2E3FC;\n",
              "    }\n",
              "\n",
              "    [theme=dark] .colab-df-convert:hover {\n",
              "      background-color: #434B5C;\n",
              "      box-shadow: 0px 1px 3px 1px rgba(0, 0, 0, 0.15);\n",
              "      filter: drop-shadow(0px 1px 2px rgba(0, 0, 0, 0.3));\n",
              "      fill: #FFFFFF;\n",
              "    }\n",
              "  </style>\n",
              "\n",
              "    <script>\n",
              "      const buttonEl =\n",
              "        document.querySelector('#df-79f237b4-4095-4ebc-bc95-94147245e3fa button.colab-df-convert');\n",
              "      buttonEl.style.display =\n",
              "        google.colab.kernel.accessAllowed ? 'block' : 'none';\n",
              "\n",
              "      async function convertToInteractive(key) {\n",
              "        const element = document.querySelector('#df-79f237b4-4095-4ebc-bc95-94147245e3fa');\n",
              "        const dataTable =\n",
              "          await google.colab.kernel.invokeFunction('convertToInteractive',\n",
              "                                                    [key], {});\n",
              "        if (!dataTable) return;\n",
              "\n",
              "        const docLinkHtml = 'Like what you see? Visit the ' +\n",
              "          '<a target=\"_blank\" href=https://colab.research.google.com/notebooks/data_table.ipynb>data table notebook</a>'\n",
              "          + ' to learn more about interactive tables.';\n",
              "        element.innerHTML = '';\n",
              "        dataTable['output_type'] = 'display_data';\n",
              "        await google.colab.output.renderOutput(dataTable, element);\n",
              "        const docLink = document.createElement('div');\n",
              "        docLink.innerHTML = docLinkHtml;\n",
              "        element.appendChild(docLink);\n",
              "      }\n",
              "    </script>\n",
              "  </div>\n",
              "\n",
              "\n",
              "<div id=\"df-d14295b8-fb26-4211-8465-dae77b666e15\">\n",
              "  <button class=\"colab-df-quickchart\" onclick=\"quickchart('df-d14295b8-fb26-4211-8465-dae77b666e15')\"\n",
              "            title=\"Suggest charts\"\n",
              "            style=\"display:none;\">\n",
              "\n",
              "<svg xmlns=\"http://www.w3.org/2000/svg\" height=\"24px\"viewBox=\"0 0 24 24\"\n",
              "     width=\"24px\">\n",
              "    <g>\n",
              "        <path d=\"M19 3H5c-1.1 0-2 .9-2 2v14c0 1.1.9 2 2 2h14c1.1 0 2-.9 2-2V5c0-1.1-.9-2-2-2zM9 17H7v-7h2v7zm4 0h-2V7h2v10zm4 0h-2v-4h2v4z\"/>\n",
              "    </g>\n",
              "</svg>\n",
              "  </button>\n",
              "\n",
              "<style>\n",
              "  .colab-df-quickchart {\n",
              "      --bg-color: #E8F0FE;\n",
              "      --fill-color: #1967D2;\n",
              "      --hover-bg-color: #E2EBFA;\n",
              "      --hover-fill-color: #174EA6;\n",
              "      --disabled-fill-color: #AAA;\n",
              "      --disabled-bg-color: #DDD;\n",
              "  }\n",
              "\n",
              "  [theme=dark] .colab-df-quickchart {\n",
              "      --bg-color: #3B4455;\n",
              "      --fill-color: #D2E3FC;\n",
              "      --hover-bg-color: #434B5C;\n",
              "      --hover-fill-color: #FFFFFF;\n",
              "      --disabled-bg-color: #3B4455;\n",
              "      --disabled-fill-color: #666;\n",
              "  }\n",
              "\n",
              "  .colab-df-quickchart {\n",
              "    background-color: var(--bg-color);\n",
              "    border: none;\n",
              "    border-radius: 50%;\n",
              "    cursor: pointer;\n",
              "    display: none;\n",
              "    fill: var(--fill-color);\n",
              "    height: 32px;\n",
              "    padding: 0;\n",
              "    width: 32px;\n",
              "  }\n",
              "\n",
              "  .colab-df-quickchart:hover {\n",
              "    background-color: var(--hover-bg-color);\n",
              "    box-shadow: 0 1px 2px rgba(60, 64, 67, 0.3), 0 1px 3px 1px rgba(60, 64, 67, 0.15);\n",
              "    fill: var(--button-hover-fill-color);\n",
              "  }\n",
              "\n",
              "  .colab-df-quickchart-complete:disabled,\n",
              "  .colab-df-quickchart-complete:disabled:hover {\n",
              "    background-color: var(--disabled-bg-color);\n",
              "    fill: var(--disabled-fill-color);\n",
              "    box-shadow: none;\n",
              "  }\n",
              "\n",
              "  .colab-df-spinner {\n",
              "    border: 2px solid var(--fill-color);\n",
              "    border-color: transparent;\n",
              "    border-bottom-color: var(--fill-color);\n",
              "    animation:\n",
              "      spin 1s steps(1) infinite;\n",
              "  }\n",
              "\n",
              "  @keyframes spin {\n",
              "    0% {\n",
              "      border-color: transparent;\n",
              "      border-bottom-color: var(--fill-color);\n",
              "      border-left-color: var(--fill-color);\n",
              "    }\n",
              "    20% {\n",
              "      border-color: transparent;\n",
              "      border-left-color: var(--fill-color);\n",
              "      border-top-color: var(--fill-color);\n",
              "    }\n",
              "    30% {\n",
              "      border-color: transparent;\n",
              "      border-left-color: var(--fill-color);\n",
              "      border-top-color: var(--fill-color);\n",
              "      border-right-color: var(--fill-color);\n",
              "    }\n",
              "    40% {\n",
              "      border-color: transparent;\n",
              "      border-right-color: var(--fill-color);\n",
              "      border-top-color: var(--fill-color);\n",
              "    }\n",
              "    60% {\n",
              "      border-color: transparent;\n",
              "      border-right-color: var(--fill-color);\n",
              "    }\n",
              "    80% {\n",
              "      border-color: transparent;\n",
              "      border-right-color: var(--fill-color);\n",
              "      border-bottom-color: var(--fill-color);\n",
              "    }\n",
              "    90% {\n",
              "      border-color: transparent;\n",
              "      border-bottom-color: var(--fill-color);\n",
              "    }\n",
              "  }\n",
              "</style>\n",
              "\n",
              "  <script>\n",
              "    async function quickchart(key) {\n",
              "      const quickchartButtonEl =\n",
              "        document.querySelector('#' + key + ' button');\n",
              "      quickchartButtonEl.disabled = true;  // To prevent multiple clicks.\n",
              "      quickchartButtonEl.classList.add('colab-df-spinner');\n",
              "      try {\n",
              "        const charts = await google.colab.kernel.invokeFunction(\n",
              "            'suggestCharts', [key], {});\n",
              "      } catch (error) {\n",
              "        console.error('Error during call to suggestCharts:', error);\n",
              "      }\n",
              "      quickchartButtonEl.classList.remove('colab-df-spinner');\n",
              "      quickchartButtonEl.classList.add('colab-df-quickchart-complete');\n",
              "    }\n",
              "    (() => {\n",
              "      let quickchartButtonEl =\n",
              "        document.querySelector('#df-d14295b8-fb26-4211-8465-dae77b666e15 button');\n",
              "      quickchartButtonEl.style.display =\n",
              "        google.colab.kernel.accessAllowed ? 'block' : 'none';\n",
              "    })();\n",
              "  </script>\n",
              "</div>\n",
              "    </div>\n",
              "  </div>\n"
            ],
            "application/vnd.google.colaboratory.intrinsic+json": {
              "type": "dataframe",
              "variable_name": "df",
              "summary": "{\n  \"name\": \"df\",\n  \"rows\": 891,\n  \"fields\": [\n    {\n      \"column\": \"PassengerId\",\n      \"properties\": {\n        \"dtype\": \"number\",\n        \"std\": 257,\n        \"min\": 1,\n        \"max\": 891,\n        \"num_unique_values\": 891,\n        \"samples\": [\n          710,\n          440,\n          841\n        ],\n        \"semantic_type\": \"\",\n        \"description\": \"\"\n      }\n    },\n    {\n      \"column\": \"Survived\",\n      \"properties\": {\n        \"dtype\": \"number\",\n        \"std\": 0,\n        \"min\": 0,\n        \"max\": 1,\n        \"num_unique_values\": 2,\n        \"samples\": [\n          1,\n          0\n        ],\n        \"semantic_type\": \"\",\n        \"description\": \"\"\n      }\n    },\n    {\n      \"column\": \"Pclass\",\n      \"properties\": {\n        \"dtype\": \"number\",\n        \"std\": 0,\n        \"min\": 1,\n        \"max\": 3,\n        \"num_unique_values\": 3,\n        \"samples\": [\n          3,\n          1\n        ],\n        \"semantic_type\": \"\",\n        \"description\": \"\"\n      }\n    },\n    {\n      \"column\": \"Name\",\n      \"properties\": {\n        \"dtype\": \"string\",\n        \"num_unique_values\": 891,\n        \"samples\": [\n          \"Moubarek, Master. Halim Gonios (\\\"William George\\\")\",\n          \"Kvillner, Mr. Johan Henrik Johannesson\"\n        ],\n        \"semantic_type\": \"\",\n        \"description\": \"\"\n      }\n    },\n    {\n      \"column\": \"Sex\",\n      \"properties\": {\n        \"dtype\": \"category\",\n        \"num_unique_values\": 2,\n        \"samples\": [\n          \"female\",\n          \"male\"\n        ],\n        \"semantic_type\": \"\",\n        \"description\": \"\"\n      }\n    },\n    {\n      \"column\": \"Age\",\n      \"properties\": {\n        \"dtype\": \"number\",\n        \"std\": 14.526497332334042,\n        \"min\": 0.42,\n        \"max\": 80.0,\n        \"num_unique_values\": 88,\n        \"samples\": [\n          0.75,\n          22.0\n        ],\n        \"semantic_type\": \"\",\n        \"description\": \"\"\n      }\n    },\n    {\n      \"column\": \"SibSp\",\n      \"properties\": {\n        \"dtype\": \"number\",\n        \"std\": 1,\n        \"min\": 0,\n        \"max\": 8,\n        \"num_unique_values\": 7,\n        \"samples\": [\n          1,\n          0\n        ],\n        \"semantic_type\": \"\",\n        \"description\": \"\"\n      }\n    },\n    {\n      \"column\": \"Parch\",\n      \"properties\": {\n        \"dtype\": \"number\",\n        \"std\": 0,\n        \"min\": 0,\n        \"max\": 6,\n        \"num_unique_values\": 7,\n        \"samples\": [\n          0,\n          1\n        ],\n        \"semantic_type\": \"\",\n        \"description\": \"\"\n      }\n    },\n    {\n      \"column\": \"Ticket\",\n      \"properties\": {\n        \"dtype\": \"string\",\n        \"num_unique_values\": 681,\n        \"samples\": [\n          \"11774\",\n          \"248740\"\n        ],\n        \"semantic_type\": \"\",\n        \"description\": \"\"\n      }\n    },\n    {\n      \"column\": \"Fare\",\n      \"properties\": {\n        \"dtype\": \"number\",\n        \"std\": 49.6934285971809,\n        \"min\": 0.0,\n        \"max\": 512.3292,\n        \"num_unique_values\": 248,\n        \"samples\": [\n          11.2417,\n          51.8625\n        ],\n        \"semantic_type\": \"\",\n        \"description\": \"\"\n      }\n    },\n    {\n      \"column\": \"Cabin\",\n      \"properties\": {\n        \"dtype\": \"category\",\n        \"num_unique_values\": 147,\n        \"samples\": [\n          \"D45\",\n          \"B49\"\n        ],\n        \"semantic_type\": \"\",\n        \"description\": \"\"\n      }\n    },\n    {\n      \"column\": \"Embarked\",\n      \"properties\": {\n        \"dtype\": \"category\",\n        \"num_unique_values\": 3,\n        \"samples\": [\n          \"S\",\n          \"C\"\n        ],\n        \"semantic_type\": \"\",\n        \"description\": \"\"\n      }\n    }\n  ]\n}"
            }
          },
          "metadata": {},
          "execution_count": 27
        }
      ]
    },
    {
      "cell_type": "markdown",
      "source": [
        "**First Statistical Concepts**<br>\n",
        "**- Data types?**"
      ],
      "metadata": {
        "id": "1BllyQNF8eMj"
      }
    },
    {
      "cell_type": "code",
      "source": [
        "mean_male = []\n",
        "n = 1\n",
        "\n",
        "while n < 500:\n",
        "  n += 1\n",
        "  sample = df[df[\"Sex\"] == \"male\"].sample(100)[\"Age\"].mean()\n",
        "  mean_male.append(sample)\n",
        "\n",
        "mean_female = []\n",
        "n = 1\n",
        "\n",
        "while n < 500:\n",
        "  n += 1\n",
        "  sample = df[df[\"Sex\"] == \"female\"].sample(100)[\"Age\"].mean()\n",
        "  mean_female.append(sample)\n",
        "\n",
        "from scipy.stats import shapiro\n",
        "shapiro(mean_male)\n",
        "shapiro(mean_female)"
      ],
      "metadata": {
        "id": "fE3z3N0A9CmW",
        "outputId": "511b1e6d-eebe-4f6e-bd17-029643274a0b",
        "colab": {
          "base_uri": "https://localhost:8080/"
        }
      },
      "execution_count": null,
      "outputs": [
        {
          "output_type": "execute_result",
          "data": {
            "text/plain": [
              "ShapiroResult(statistic=0.996344804763794, pvalue=0.31120964884757996)"
            ]
          },
          "metadata": {},
          "execution_count": 41
        }
      ]
    },
    {
      "cell_type": "markdown",
      "source": [
        "see https://www.crashkurs-statistik.de/merkmals-und-skalentypen/#skalentypen, but keep in mind that Tukey had an own vision about this. He noticeably treated rank separately<br>\n",
        "object, int64 => typically categorical, qualitative (nominal, ordinal) e.g. Madrid, Spain?! <br>\n",
        "int64 => quantitative, categorical?! <br>\n",
        "float64 => typically numerical<br>\n",
        "An important classification is found under the terminology \"level of measurment\" discrete, continuous, nominal, ordinal(rank), ratio<br>\n",
        "Tukey had his own definitions for this.<br>\n",
        "Any rank based column in the dataset?\n",
        "\n",
        "\n"
      ],
      "metadata": {
        "id": "vMrlhrywUVoB"
      }
    },
    {
      "cell_type": "markdown",
      "metadata": {
        "id": "2UBIqeI3VIWb"
      },
      "source": [
        "## First statistical functions\n",
        "\n",
        "Let's take a look at the data with `describe`. It will show you different values, but what do they mean?"
      ]
    },
    {
      "cell_type": "code",
      "metadata": {
        "id": "finNRDnnVmEu",
        "colab": {
          "base_uri": "https://localhost:8080/",
          "height": 300
        },
        "outputId": "ee6847f6-8254-40ca-ad88-ed4a42974689"
      },
      "source": [
        "# salary series:   10, 20, 30, 20 (mean =20)\n",
        "# salary series:   10, 20, 30, 20, 1000 (q25 = 20, q50 = 30, q100 = 1000)\n",
        "\n",
        "# summary statistics\n",
        "df.describe()"
      ],
      "execution_count": null,
      "outputs": [
        {
          "output_type": "execute_result",
          "data": {
            "text/plain": [
              "       PassengerId    Survived      Pclass         Age       SibSp  \\\n",
              "count   891.000000  891.000000  891.000000  714.000000  891.000000   \n",
              "mean    446.000000    0.383838    2.308642   29.699118    0.523008   \n",
              "std     257.353842    0.486592    0.836071   14.526497    1.102743   \n",
              "min       1.000000    0.000000    1.000000    0.420000    0.000000   \n",
              "25%     223.500000    0.000000    2.000000   20.125000    0.000000   \n",
              "50%     446.000000    0.000000    3.000000   28.000000    0.000000   \n",
              "75%     668.500000    1.000000    3.000000   38.000000    1.000000   \n",
              "max     891.000000    1.000000    3.000000   80.000000    8.000000   \n",
              "\n",
              "            Parch        Fare  \n",
              "count  891.000000  891.000000  \n",
              "mean     0.381594   32.204208  \n",
              "std      0.806057   49.693429  \n",
              "min      0.000000    0.000000  \n",
              "25%      0.000000    7.910400  \n",
              "50%      0.000000   14.454200  \n",
              "75%      0.000000   31.000000  \n",
              "max      6.000000  512.329200  "
            ],
            "text/html": [
              "\n",
              "  <div id=\"df-01ffac25-ea2c-4a2b-8bdf-60e914f3bb31\" class=\"colab-df-container\">\n",
              "    <div>\n",
              "<style scoped>\n",
              "    .dataframe tbody tr th:only-of-type {\n",
              "        vertical-align: middle;\n",
              "    }\n",
              "\n",
              "    .dataframe tbody tr th {\n",
              "        vertical-align: top;\n",
              "    }\n",
              "\n",
              "    .dataframe thead th {\n",
              "        text-align: right;\n",
              "    }\n",
              "</style>\n",
              "<table border=\"1\" class=\"dataframe\">\n",
              "  <thead>\n",
              "    <tr style=\"text-align: right;\">\n",
              "      <th></th>\n",
              "      <th>PassengerId</th>\n",
              "      <th>Survived</th>\n",
              "      <th>Pclass</th>\n",
              "      <th>Age</th>\n",
              "      <th>SibSp</th>\n",
              "      <th>Parch</th>\n",
              "      <th>Fare</th>\n",
              "    </tr>\n",
              "  </thead>\n",
              "  <tbody>\n",
              "    <tr>\n",
              "      <th>count</th>\n",
              "      <td>891.000000</td>\n",
              "      <td>891.000000</td>\n",
              "      <td>891.000000</td>\n",
              "      <td>714.000000</td>\n",
              "      <td>891.000000</td>\n",
              "      <td>891.000000</td>\n",
              "      <td>891.000000</td>\n",
              "    </tr>\n",
              "    <tr>\n",
              "      <th>mean</th>\n",
              "      <td>446.000000</td>\n",
              "      <td>0.383838</td>\n",
              "      <td>2.308642</td>\n",
              "      <td>29.699118</td>\n",
              "      <td>0.523008</td>\n",
              "      <td>0.381594</td>\n",
              "      <td>32.204208</td>\n",
              "    </tr>\n",
              "    <tr>\n",
              "      <th>std</th>\n",
              "      <td>257.353842</td>\n",
              "      <td>0.486592</td>\n",
              "      <td>0.836071</td>\n",
              "      <td>14.526497</td>\n",
              "      <td>1.102743</td>\n",
              "      <td>0.806057</td>\n",
              "      <td>49.693429</td>\n",
              "    </tr>\n",
              "    <tr>\n",
              "      <th>min</th>\n",
              "      <td>1.000000</td>\n",
              "      <td>0.000000</td>\n",
              "      <td>1.000000</td>\n",
              "      <td>0.420000</td>\n",
              "      <td>0.000000</td>\n",
              "      <td>0.000000</td>\n",
              "      <td>0.000000</td>\n",
              "    </tr>\n",
              "    <tr>\n",
              "      <th>25%</th>\n",
              "      <td>223.500000</td>\n",
              "      <td>0.000000</td>\n",
              "      <td>2.000000</td>\n",
              "      <td>20.125000</td>\n",
              "      <td>0.000000</td>\n",
              "      <td>0.000000</td>\n",
              "      <td>7.910400</td>\n",
              "    </tr>\n",
              "    <tr>\n",
              "      <th>50%</th>\n",
              "      <td>446.000000</td>\n",
              "      <td>0.000000</td>\n",
              "      <td>3.000000</td>\n",
              "      <td>28.000000</td>\n",
              "      <td>0.000000</td>\n",
              "      <td>0.000000</td>\n",
              "      <td>14.454200</td>\n",
              "    </tr>\n",
              "    <tr>\n",
              "      <th>75%</th>\n",
              "      <td>668.500000</td>\n",
              "      <td>1.000000</td>\n",
              "      <td>3.000000</td>\n",
              "      <td>38.000000</td>\n",
              "      <td>1.000000</td>\n",
              "      <td>0.000000</td>\n",
              "      <td>31.000000</td>\n",
              "    </tr>\n",
              "    <tr>\n",
              "      <th>max</th>\n",
              "      <td>891.000000</td>\n",
              "      <td>1.000000</td>\n",
              "      <td>3.000000</td>\n",
              "      <td>80.000000</td>\n",
              "      <td>8.000000</td>\n",
              "      <td>6.000000</td>\n",
              "      <td>512.329200</td>\n",
              "    </tr>\n",
              "  </tbody>\n",
              "</table>\n",
              "</div>\n",
              "    <div class=\"colab-df-buttons\">\n",
              "\n",
              "  <div class=\"colab-df-container\">\n",
              "    <button class=\"colab-df-convert\" onclick=\"convertToInteractive('df-01ffac25-ea2c-4a2b-8bdf-60e914f3bb31')\"\n",
              "            title=\"Convert this dataframe to an interactive table.\"\n",
              "            style=\"display:none;\">\n",
              "\n",
              "  <svg xmlns=\"http://www.w3.org/2000/svg\" height=\"24px\" viewBox=\"0 -960 960 960\">\n",
              "    <path d=\"M120-120v-720h720v720H120Zm60-500h600v-160H180v160Zm220 220h160v-160H400v160Zm0 220h160v-160H400v160ZM180-400h160v-160H180v160Zm440 0h160v-160H620v160ZM180-180h160v-160H180v160Zm440 0h160v-160H620v160Z\"/>\n",
              "  </svg>\n",
              "    </button>\n",
              "\n",
              "  <style>\n",
              "    .colab-df-container {\n",
              "      display:flex;\n",
              "      gap: 12px;\n",
              "    }\n",
              "\n",
              "    .colab-df-convert {\n",
              "      background-color: #E8F0FE;\n",
              "      border: none;\n",
              "      border-radius: 50%;\n",
              "      cursor: pointer;\n",
              "      display: none;\n",
              "      fill: #1967D2;\n",
              "      height: 32px;\n",
              "      padding: 0 0 0 0;\n",
              "      width: 32px;\n",
              "    }\n",
              "\n",
              "    .colab-df-convert:hover {\n",
              "      background-color: #E2EBFA;\n",
              "      box-shadow: 0px 1px 2px rgba(60, 64, 67, 0.3), 0px 1px 3px 1px rgba(60, 64, 67, 0.15);\n",
              "      fill: #174EA6;\n",
              "    }\n",
              "\n",
              "    .colab-df-buttons div {\n",
              "      margin-bottom: 4px;\n",
              "    }\n",
              "\n",
              "    [theme=dark] .colab-df-convert {\n",
              "      background-color: #3B4455;\n",
              "      fill: #D2E3FC;\n",
              "    }\n",
              "\n",
              "    [theme=dark] .colab-df-convert:hover {\n",
              "      background-color: #434B5C;\n",
              "      box-shadow: 0px 1px 3px 1px rgba(0, 0, 0, 0.15);\n",
              "      filter: drop-shadow(0px 1px 2px rgba(0, 0, 0, 0.3));\n",
              "      fill: #FFFFFF;\n",
              "    }\n",
              "  </style>\n",
              "\n",
              "    <script>\n",
              "      const buttonEl =\n",
              "        document.querySelector('#df-01ffac25-ea2c-4a2b-8bdf-60e914f3bb31 button.colab-df-convert');\n",
              "      buttonEl.style.display =\n",
              "        google.colab.kernel.accessAllowed ? 'block' : 'none';\n",
              "\n",
              "      async function convertToInteractive(key) {\n",
              "        const element = document.querySelector('#df-01ffac25-ea2c-4a2b-8bdf-60e914f3bb31');\n",
              "        const dataTable =\n",
              "          await google.colab.kernel.invokeFunction('convertToInteractive',\n",
              "                                                    [key], {});\n",
              "        if (!dataTable) return;\n",
              "\n",
              "        const docLinkHtml = 'Like what you see? Visit the ' +\n",
              "          '<a target=\"_blank\" href=https://colab.research.google.com/notebooks/data_table.ipynb>data table notebook</a>'\n",
              "          + ' to learn more about interactive tables.';\n",
              "        element.innerHTML = '';\n",
              "        dataTable['output_type'] = 'display_data';\n",
              "        await google.colab.output.renderOutput(dataTable, element);\n",
              "        const docLink = document.createElement('div');\n",
              "        docLink.innerHTML = docLinkHtml;\n",
              "        element.appendChild(docLink);\n",
              "      }\n",
              "    </script>\n",
              "  </div>\n",
              "\n",
              "\n",
              "<div id=\"df-cd02b82d-ff77-4aef-911e-e829b5df6d59\">\n",
              "  <button class=\"colab-df-quickchart\" onclick=\"quickchart('df-cd02b82d-ff77-4aef-911e-e829b5df6d59')\"\n",
              "            title=\"Suggest charts\"\n",
              "            style=\"display:none;\">\n",
              "\n",
              "<svg xmlns=\"http://www.w3.org/2000/svg\" height=\"24px\"viewBox=\"0 0 24 24\"\n",
              "     width=\"24px\">\n",
              "    <g>\n",
              "        <path d=\"M19 3H5c-1.1 0-2 .9-2 2v14c0 1.1.9 2 2 2h14c1.1 0 2-.9 2-2V5c0-1.1-.9-2-2-2zM9 17H7v-7h2v7zm4 0h-2V7h2v10zm4 0h-2v-4h2v4z\"/>\n",
              "    </g>\n",
              "</svg>\n",
              "  </button>\n",
              "\n",
              "<style>\n",
              "  .colab-df-quickchart {\n",
              "      --bg-color: #E8F0FE;\n",
              "      --fill-color: #1967D2;\n",
              "      --hover-bg-color: #E2EBFA;\n",
              "      --hover-fill-color: #174EA6;\n",
              "      --disabled-fill-color: #AAA;\n",
              "      --disabled-bg-color: #DDD;\n",
              "  }\n",
              "\n",
              "  [theme=dark] .colab-df-quickchart {\n",
              "      --bg-color: #3B4455;\n",
              "      --fill-color: #D2E3FC;\n",
              "      --hover-bg-color: #434B5C;\n",
              "      --hover-fill-color: #FFFFFF;\n",
              "      --disabled-bg-color: #3B4455;\n",
              "      --disabled-fill-color: #666;\n",
              "  }\n",
              "\n",
              "  .colab-df-quickchart {\n",
              "    background-color: var(--bg-color);\n",
              "    border: none;\n",
              "    border-radius: 50%;\n",
              "    cursor: pointer;\n",
              "    display: none;\n",
              "    fill: var(--fill-color);\n",
              "    height: 32px;\n",
              "    padding: 0;\n",
              "    width: 32px;\n",
              "  }\n",
              "\n",
              "  .colab-df-quickchart:hover {\n",
              "    background-color: var(--hover-bg-color);\n",
              "    box-shadow: 0 1px 2px rgba(60, 64, 67, 0.3), 0 1px 3px 1px rgba(60, 64, 67, 0.15);\n",
              "    fill: var(--button-hover-fill-color);\n",
              "  }\n",
              "\n",
              "  .colab-df-quickchart-complete:disabled,\n",
              "  .colab-df-quickchart-complete:disabled:hover {\n",
              "    background-color: var(--disabled-bg-color);\n",
              "    fill: var(--disabled-fill-color);\n",
              "    box-shadow: none;\n",
              "  }\n",
              "\n",
              "  .colab-df-spinner {\n",
              "    border: 2px solid var(--fill-color);\n",
              "    border-color: transparent;\n",
              "    border-bottom-color: var(--fill-color);\n",
              "    animation:\n",
              "      spin 1s steps(1) infinite;\n",
              "  }\n",
              "\n",
              "  @keyframes spin {\n",
              "    0% {\n",
              "      border-color: transparent;\n",
              "      border-bottom-color: var(--fill-color);\n",
              "      border-left-color: var(--fill-color);\n",
              "    }\n",
              "    20% {\n",
              "      border-color: transparent;\n",
              "      border-left-color: var(--fill-color);\n",
              "      border-top-color: var(--fill-color);\n",
              "    }\n",
              "    30% {\n",
              "      border-color: transparent;\n",
              "      border-left-color: var(--fill-color);\n",
              "      border-top-color: var(--fill-color);\n",
              "      border-right-color: var(--fill-color);\n",
              "    }\n",
              "    40% {\n",
              "      border-color: transparent;\n",
              "      border-right-color: var(--fill-color);\n",
              "      border-top-color: var(--fill-color);\n",
              "    }\n",
              "    60% {\n",
              "      border-color: transparent;\n",
              "      border-right-color: var(--fill-color);\n",
              "    }\n",
              "    80% {\n",
              "      border-color: transparent;\n",
              "      border-right-color: var(--fill-color);\n",
              "      border-bottom-color: var(--fill-color);\n",
              "    }\n",
              "    90% {\n",
              "      border-color: transparent;\n",
              "      border-bottom-color: var(--fill-color);\n",
              "    }\n",
              "  }\n",
              "</style>\n",
              "\n",
              "  <script>\n",
              "    async function quickchart(key) {\n",
              "      const quickchartButtonEl =\n",
              "        document.querySelector('#' + key + ' button');\n",
              "      quickchartButtonEl.disabled = true;  // To prevent multiple clicks.\n",
              "      quickchartButtonEl.classList.add('colab-df-spinner');\n",
              "      try {\n",
              "        const charts = await google.colab.kernel.invokeFunction(\n",
              "            'suggestCharts', [key], {});\n",
              "      } catch (error) {\n",
              "        console.error('Error during call to suggestCharts:', error);\n",
              "      }\n",
              "      quickchartButtonEl.classList.remove('colab-df-spinner');\n",
              "      quickchartButtonEl.classList.add('colab-df-quickchart-complete');\n",
              "    }\n",
              "    (() => {\n",
              "      let quickchartButtonEl =\n",
              "        document.querySelector('#df-cd02b82d-ff77-4aef-911e-e829b5df6d59 button');\n",
              "      quickchartButtonEl.style.display =\n",
              "        google.colab.kernel.accessAllowed ? 'block' : 'none';\n",
              "    })();\n",
              "  </script>\n",
              "</div>\n",
              "    </div>\n",
              "  </div>\n"
            ],
            "application/vnd.google.colaboratory.intrinsic+json": {
              "type": "dataframe",
              "summary": "{\n  \"name\": \"df\",\n  \"rows\": 8,\n  \"fields\": [\n    {\n      \"column\": \"PassengerId\",\n      \"properties\": {\n        \"dtype\": \"number\",\n        \"std\": 320.8159711429855,\n        \"min\": 1.0,\n        \"max\": 891.0,\n        \"num_unique_values\": 6,\n        \"samples\": [\n          891.0,\n          446.0,\n          668.5\n        ],\n        \"semantic_type\": \"\",\n        \"description\": \"\"\n      }\n    },\n    {\n      \"column\": \"Survived\",\n      \"properties\": {\n        \"dtype\": \"number\",\n        \"std\": 314.8713661874558,\n        \"min\": 0.0,\n        \"max\": 891.0,\n        \"num_unique_values\": 5,\n        \"samples\": [\n          0.3838383838383838,\n          1.0,\n          0.4865924542648575\n        ],\n        \"semantic_type\": \"\",\n        \"description\": \"\"\n      }\n    },\n    {\n      \"column\": \"Pclass\",\n      \"properties\": {\n        \"dtype\": \"number\",\n        \"std\": 314.2523437079694,\n        \"min\": 0.836071240977049,\n        \"max\": 891.0,\n        \"num_unique_values\": 6,\n        \"samples\": [\n          891.0,\n          2.308641975308642,\n          3.0\n        ],\n        \"semantic_type\": \"\",\n        \"description\": \"\"\n      }\n    },\n    {\n      \"column\": \"Age\",\n      \"properties\": {\n        \"dtype\": \"number\",\n        \"std\": 242.9056731818781,\n        \"min\": 0.42,\n        \"max\": 714.0,\n        \"num_unique_values\": 8,\n        \"samples\": [\n          29.69911764705882,\n          28.0,\n          714.0\n        ],\n        \"semantic_type\": \"\",\n        \"description\": \"\"\n      }\n    },\n    {\n      \"column\": \"SibSp\",\n      \"properties\": {\n        \"dtype\": \"number\",\n        \"std\": 314.4908277465442,\n        \"min\": 0.0,\n        \"max\": 891.0,\n        \"num_unique_values\": 6,\n        \"samples\": [\n          891.0,\n          0.5230078563411896,\n          8.0\n        ],\n        \"semantic_type\": \"\",\n        \"description\": \"\"\n      }\n    },\n    {\n      \"column\": \"Parch\",\n      \"properties\": {\n        \"dtype\": \"number\",\n        \"std\": 314.65971717879,\n        \"min\": 0.0,\n        \"max\": 891.0,\n        \"num_unique_values\": 5,\n        \"samples\": [\n          0.38159371492704824,\n          6.0,\n          0.8060572211299483\n        ],\n        \"semantic_type\": \"\",\n        \"description\": \"\"\n      }\n    },\n    {\n      \"column\": \"Fare\",\n      \"properties\": {\n        \"dtype\": \"number\",\n        \"std\": 330.6256632228578,\n        \"min\": 0.0,\n        \"max\": 891.0,\n        \"num_unique_values\": 8,\n        \"samples\": [\n          32.204207968574636,\n          14.4542,\n          891.0\n        ],\n        \"semantic_type\": \"\",\n        \"description\": \"\"\n      }\n    }\n  ]\n}"
            }
          },
          "metadata": {},
          "execution_count": 6
        }
      ]
    },
    {
      "cell_type": "markdown",
      "source": [
        "- Something else than the mean, anybody?\n",
        "- What are Quantiles?\n",
        "- curtosis? Gini coefficient? Mode?\n",
        "- std?\n",
        "for Panda"
      ],
      "metadata": {
        "id": "VQHHZWUe2qxx"
      }
    },
    {
      "cell_type": "code",
      "source": [
        "print(df.std.__doc__)"
      ],
      "metadata": {
        "colab": {
          "base_uri": "https://localhost:8080/"
        },
        "id": "xAE4rudk-UiC",
        "outputId": "13130a64-206d-47c5-be02-1c40de3a6992"
      },
      "execution_count": null,
      "outputs": [
        {
          "output_type": "stream",
          "name": "stdout",
          "text": [
            "\n",
            "Return sample standard deviation over requested axis.\n",
            "\n",
            "Normalized by N-1 by default. This can be changed using the ddof argument.\n",
            "\n",
            "Parameters\n",
            "----------\n",
            "axis : {index (0), columns (1)}\n",
            "    For `Series` this parameter is unused and defaults to 0.\n",
            "skipna : bool, default True\n",
            "    Exclude NA/null values. If an entire row/column is NA, the result\n",
            "    will be NA.\n",
            "level : int or level name, default None\n",
            "    If the axis is a MultiIndex (hierarchical), count along a\n",
            "    particular level, collapsing into a Series.\n",
            "\n",
            "    .. deprecated:: 1.3.0\n",
            "        The level keyword is deprecated. Use groupby instead.\n",
            "ddof : int, default 1\n",
            "    Delta Degrees of Freedom. The divisor used in calculations is N - ddof,\n",
            "    where N represents the number of elements.\n",
            "numeric_only : bool, default None\n",
            "    Include only float, int, boolean columns. If None, will attempt to use\n",
            "    everything, then use only numeric data. Not implemented for Series.\n",
            "\n",
            "    .. deprecated:: 1.5.0\n",
            "        Specifying ``numeric_only=None`` is deprecated. The default value will be\n",
            "        ``False`` in a future version of pandas.\n",
            "\n",
            "Returns\n",
            "-------\n",
            "Series or DataFrame (if level specified) \n",
            "\n",
            "Notes\n",
            "-----\n",
            "To have the same behaviour as `numpy.std`, use `ddof=0` (instead of the\n",
            "default `ddof=1`)\n",
            "\n",
            "Examples\n",
            "--------\n",
            ">>> df = pd.DataFrame({'person_id': [0, 1, 2, 3],\n",
            "...                   'age': [21, 25, 62, 43],\n",
            "...                   'height': [1.61, 1.87, 1.49, 2.01]}\n",
            "...                  ).set_index('person_id')\n",
            ">>> df\n",
            "           age  height\n",
            "person_id\n",
            "0           21    1.61\n",
            "1           25    1.87\n",
            "2           62    1.49\n",
            "3           43    2.01\n",
            "\n",
            "The standard deviation of the columns can be found as follows:\n",
            "\n",
            ">>> df.std()\n",
            "age       18.786076\n",
            "height     0.237417\n",
            "\n",
            "Alternatively, `ddof=0` can be set to normalize by N instead of N-1:\n",
            "\n",
            ">>> df.std(ddof=0)\n",
            "age       16.269219\n",
            "height     0.205609\n",
            "\n"
          ]
        }
      ]
    },
    {
      "cell_type": "code",
      "source": [
        "df2 = pd.DataFrame([['tom', 'cat'],['jerry', 'mouse']], columns=['Name', 'Animal'])\n",
        "print(inspect.getfile(df2.std))"
      ],
      "metadata": {
        "colab": {
          "base_uri": "https://localhost:8080/"
        },
        "id": "6wLPMEfYCk6g",
        "outputId": "4633d7fb-e007-466e-c6d2-5a49f53dd7f2"
      },
      "execution_count": null,
      "outputs": [
        {
          "output_type": "stream",
          "name": "stdout",
          "text": [
            "/usr/local/lib/python3.10/dist-packages/pandas/core/generic.py\n"
          ]
        }
      ]
    },
    {
      "cell_type": "code",
      "source": [
        "#!cat /usr/local/lib/python3.7/dist-packages/pandas/core/generic.py"
      ],
      "metadata": {
        "id": "EoIgTab-DVXI"
      },
      "execution_count": null,
      "outputs": []
    },
    {
      "cell_type": "markdown",
      "metadata": {
        "id": "UYH1vuuUZQws"
      },
      "source": [
        "## Descriptive statistics\n",
        "\n",
        "In descriptive statistics we observe properties of a sample without \"infering\" anything about the underlying distribution.\n",
        "\n",
        "In statistics, we need **measures** to give us information about the data. In most cases, the data set is too large to even get any useful information by looking at it.\n",
        "\n",
        "Therefore, we need **location** and **dispersion** measures (fancy words for a very simple concept that leads to disturbing analytical calculations).\n",
        "\n",
        "**Location measures** answer the question, what is a typical observation for a variable?\n",
        "\n",
        "**Dispersion measures** tell us how much variation we have in our variable\n",
        "\n"
      ]
    },
    {
      "cell_type": "markdown",
      "metadata": {
        "id": "5Ogb4f7N9t7L"
      },
      "source": [
        "**Mean**\n",
        "\n",
        "Add all the values up and then divide by the number of values"
      ]
    },
    {
      "cell_type": "code",
      "metadata": {
        "id": "5ETciexobrBJ"
      },
      "source": [
        "x = pd.Series([1, 3, 3, 4, 7])"
      ],
      "execution_count": null,
      "outputs": []
    },
    {
      "cell_type": "code",
      "source": [
        "x"
      ],
      "metadata": {
        "colab": {
          "base_uri": "https://localhost:8080/"
        },
        "id": "qTKuGbjfMij9",
        "outputId": "c0ff1d56-8d38-43b4-b9a6-ad25a737632c"
      },
      "execution_count": null,
      "outputs": [
        {
          "output_type": "execute_result",
          "data": {
            "text/plain": [
              "0    1\n",
              "1    3\n",
              "2    3\n",
              "3    4\n",
              "4    7\n",
              "dtype: int64"
            ]
          },
          "metadata": {},
          "execution_count": 45
        }
      ]
    },
    {
      "cell_type": "code",
      "source": [
        "x.hist()"
      ],
      "metadata": {
        "colab": {
          "base_uri": "https://localhost:8080/",
          "height": 447
        },
        "id": "dMXe5y-gMR-o",
        "outputId": "29338a92-aec6-40d2-e29a-de7e57da9e89"
      },
      "execution_count": null,
      "outputs": [
        {
          "output_type": "execute_result",
          "data": {
            "text/plain": [
              "<Axes: >"
            ]
          },
          "metadata": {},
          "execution_count": 11
        },
        {
          "output_type": "display_data",
          "data": {
            "text/plain": [
              "<Figure size 640x480 with 1 Axes>"
            ],
            "image/png": "[encoded data removed]"
          },
          "metadata": {}
        }
      ]
    },
    {
      "cell_type": "code",
      "source": [
        "# First: 1 + 3 + 3 + 4 + 7 = 10\n",
        "#\n",
        "# Second: 18 / 5 = 3.6\n",
        "\n",
        "# 1, 3, 3  , 4, 7, q50 = 3\n",
        "\n",
        "#  Salary: 1, 2, 1, 3, 3, 100, avg/mean > 10\n",
        "\n",
        "# 1, 1, 2 | 3, 3, 100\n",
        "#  q50 = 2  (<=2),  [1, 1, 2]\n",
        "# 1, 1 | 2,  3, 3, 100\n",
        "#  q25 = 1  (<= 1)\n",
        "# max = q100\n",
        "# median = q50\n",
        "x.mean()"
      ],
      "metadata": {
        "colab": {
          "base_uri": "https://localhost:8080/"
        },
        "id": "hrCur-tWRZiC",
        "outputId": "5143db66-3a7d-4ff3-c9fe-764fd517a147"
      },
      "execution_count": null,
      "outputs": [
        {
          "output_type": "execute_result",
          "data": {
            "text/plain": [
              "3.6"
            ]
          },
          "metadata": {},
          "execution_count": 12
        }
      ]
    },
    {
      "cell_type": "markdown",
      "metadata": {
        "id": "iVowvcZjak7U"
      },
      "source": [
        "#### Measures of Location\n",
        "\n",
        "**Min/Max**\n",
        "\n",
        "Lowest and highest observed values\n",
        "\n",
        "\n"
      ]
    },
    {
      "cell_type": "code",
      "metadata": {
        "id": "D5xGAvBecIM8",
        "colab": {
          "base_uri": "https://localhost:8080/"
        },
        "outputId": "d8cae20d-6fdd-4e80-cf81-45f3615aa284"
      },
      "source": [
        "# For completeness, min and max\n",
        "print(x.min())\n",
        "print(x.max())"
      ],
      "execution_count": null,
      "outputs": [
        {
          "output_type": "stream",
          "name": "stdout",
          "text": [
            "1\n",
            "7\n"
          ]
        }
      ]
    },
    {
      "cell_type": "markdown",
      "metadata": {
        "id": "--W2WG7AccPP"
      },
      "source": [
        "**Median**\n",
        "Value separating the lower and the upper half of the variable (note that the values have to be sorted in ascendent order)"
      ]
    },
    {
      "cell_type": "code",
      "metadata": {
        "id": "JMwAelPNcSnC",
        "colab": {
          "base_uri": "https://localhost:8080/"
        },
        "outputId": "30d68e5a-3dc0-4762-b52a-e9ce302c76dd"
      },
      "source": [
        "x = pd.Series([1, 3, 3, 4, 7, 8, 8, 8, 8])\n",
        "x.median()\n",
        "x.mode()"
      ],
      "execution_count": null,
      "outputs": [
        {
          "output_type": "execute_result",
          "data": {
            "text/plain": [
              "0    8\n",
              "dtype: int64"
            ]
          },
          "metadata": {},
          "execution_count": 43
        }
      ]
    },
    {
      "cell_type": "code",
      "metadata": {
        "id": "RsLWtsG1eeSn",
        "colab": {
          "base_uri": "https://localhost:8080/"
        },
        "outputId": "a3a6ac8c-e29d-489c-ad1e-0b26ee427514"
      },
      "source": [
        "# If we change the order, the median does not change!\n",
        "pd.Series([3, 7, 1, 4, 3]).median()"
      ],
      "execution_count": null,
      "outputs": [
        {
          "output_type": "execute_result",
          "data": {
            "text/plain": [
              "3.0"
            ]
          },
          "metadata": {},
          "execution_count": 26
        }
      ]
    },
    {
      "cell_type": "markdown",
      "metadata": {
        "id": "TjU7M1koc5LX"
      },
      "source": [
        "**Median vs. mean**\n",
        "\n",
        "If we can always take the average, why should we ever use the median?\n",
        "The median is **robust** against outliers. If you have a very extreme value in you data the mean will be affected very strongly by it. As the median is always the middle value, it is not affected by its extremes"
      ]
    },
    {
      "cell_type": "code",
      "metadata": {
        "id": "YqVNjo5geX7j",
        "colab": {
          "base_uri": "https://localhost:8080/"
        },
        "outputId": "fd8319a9-b0e0-4007-f368-a2ec8c5b1b37"
      },
      "source": [
        "x = pd.Series([1, 3, 3, 4, 100])\n",
        "\n",
        "# The mean gets very large!\n",
        "x.mean()"
      ],
      "execution_count": null,
      "outputs": [
        {
          "output_type": "execute_result",
          "data": {
            "text/plain": [
              "22.2"
            ]
          },
          "metadata": {},
          "execution_count": 38
        }
      ]
    },
    {
      "cell_type": "code",
      "metadata": {
        "id": "y4pjN0Lre9is",
        "colab": {
          "base_uri": "https://localhost:8080/"
        },
        "outputId": "671ea14c-f7f5-4602-d224-aafb16b46843"
      },
      "source": [
        "# The median is unchanged\n",
        "x.median()"
      ],
      "execution_count": null,
      "outputs": [
        {
          "output_type": "execute_result",
          "data": {
            "text/plain": [
              "3.0"
            ]
          },
          "metadata": {},
          "execution_count": 51
        }
      ]
    },
    {
      "cell_type": "markdown",
      "metadata": {
        "id": "zr9BgP6-fKaG"
      },
      "source": [
        "**Quantiles**\n",
        "\n",
        "Quantiles are related to the median. Remember how the median was the value that split our data in half? In other words 50% of observations are less than the median!\n",
        "\n",
        "Are we limited to only 50%? No! 25% of all values are below the 25%-quantile. 75% of all values are below the 75%-quantile. This is what the `describe` method is showing to you"
      ]
    },
    {
      "cell_type": "code",
      "metadata": {
        "id": "peTWsItDgcOZ",
        "colab": {
          "base_uri": "https://localhost:8080/"
        },
        "outputId": "8638ccce-083b-4bba-d4f2-999cbf49ece7"
      },
      "source": [
        "x = pd.Series([1, 3, 3, 5, 6, 9, 10, 15])\n",
        "# 25%-quantile\n",
        "x.quantile(0.25)"
      ],
      "execution_count": null,
      "outputs": [
        {
          "output_type": "execute_result",
          "data": {
            "text/plain": [
              "3.0"
            ]
          },
          "metadata": {},
          "execution_count": 53
        }
      ]
    },
    {
      "cell_type": "code",
      "metadata": {
        "id": "biB4xlpMhYws",
        "colab": {
          "base_uri": "https://localhost:8080/"
        },
        "outputId": "e6608529-83ca-427f-964f-754f720ff72d"
      },
      "source": [
        "# 75%-quantile\n",
        "x.quantile(0.75, interpolation='midpoint')"
      ],
      "execution_count": null,
      "outputs": [
        {
          "output_type": "execute_result",
          "data": {
            "text/plain": [
              "9.5"
            ]
          },
          "metadata": {},
          "execution_count": 64
        }
      ]
    },
    {
      "cell_type": "markdown",
      "metadata": {
        "id": "w2KAf3lt6Qkw"
      },
      "source": [
        "#### Measures of Dispersion\n",
        "\n",
        "**Standard deviation (related to mean)**\n",
        "\n",
        "To get an idea of how much variation we have in our data we can take the difference between our observation and the mean. We are not interested in the direction of the deviation (if our observation is above or below mean). We want to know how large the deviation is for a particular observation. The average over the deviations is our standard deviation\n",
        "\n",
        "(*Mathematical Note:* This is a simplification of how it is actually [calculated](#https://en.wikipedia.org/wiki/Standard_deviation). Normally you square each deviation to eliminate negative values, then take the average of the squared deviations. This is the variance. At the end you have to take the square root of the variance to get the standard deviation. If you do not understand is, it is ok for now.)\n",
        "\n",
        "\n",
        "\n"
      ]
    },
    {
      "cell_type": "code",
      "metadata": {
        "id": "pqildp-997YL",
        "colab": {
          "base_uri": "https://localhost:8080/"
        },
        "outputId": "125f98c3-457a-4046-df18-3eaec7449a12"
      },
      "source": [
        "x = pd.Series([1, 3, 3, 5, 6, 9, 10, 15])\n",
        "# 25%-quantile\n",
        "x.mean()"
      ],
      "execution_count": null,
      "outputs": [
        {
          "output_type": "execute_result",
          "data": {
            "text/plain": [
              "6.5"
            ]
          },
          "metadata": {},
          "execution_count": 142
        }
      ]
    },
    {
      "cell_type": "code",
      "metadata": {
        "id": "jxZARx1S-Ncn",
        "colab": {
          "base_uri": "https://localhost:8080/"
        },
        "outputId": "ef181d2a-22c8-40bb-8a4f-e395a2e8906c"
      },
      "source": [
        "x.std()"
      ],
      "execution_count": null,
      "outputs": [
        {
          "output_type": "execute_result",
          "data": {
            "text/plain": [
              "4.59813626840888"
            ]
          },
          "metadata": {},
          "execution_count": 15
        }
      ]
    },
    {
      "cell_type": "markdown",
      "metadata": {
        "id": "5WHiv5re9iEs"
      },
      "source": [
        "**Interquantile range (related to quantiles)**\n",
        "\n",
        "Another common way of checking how much variation we have in out data. The calculation is very simple – just take the difference between the 75%-quantile and the 25%-quantile. Since this is not based on the mean, it is more robust"
      ]
    },
    {
      "cell_type": "code",
      "metadata": {
        "id": "5PiRz7A1-YGZ",
        "colab": {
          "base_uri": "https://localhost:8080/"
        },
        "outputId": "9faa4aea-e406-4ef0-c526-9c66f4e1e69e"
      },
      "source": [
        "x = pd.Series([1, 3, 3, 5, 6, 9, 10, 15])\n",
        "x.quantile(0.75) - x.quantile(0.25)"
      ],
      "execution_count": null,
      "outputs": [
        {
          "output_type": "execute_result",
          "data": {
            "text/plain": [
              "6.25"
            ]
          },
          "metadata": {},
          "execution_count": 33
        }
      ]
    },
    {
      "cell_type": "markdown",
      "metadata": {
        "id": "UvTDBS5M-oSS"
      },
      "source": [
        "Pandas does not have a built-in IQR function. You can calculated it by hand as in the last example or take a look at `describe`, which gives you both the 75%- and the 25%-quantile"
      ]
    },
    {
      "cell_type": "code",
      "metadata": {
        "id": "2eVUO3-G-lvc",
        "colab": {
          "base_uri": "https://localhost:8080/"
        },
        "outputId": "1cde6717-c64b-47f7-949f-95f8a386dcfd"
      },
      "source": [
        "x.describe()"
      ],
      "execution_count": null,
      "outputs": [
        {
          "output_type": "execute_result",
          "data": {
            "text/plain": [
              "count     8.000000\n",
              "mean      6.500000\n",
              "std       4.598136\n",
              "min       1.000000\n",
              "25%       3.000000\n",
              "50%       5.500000\n",
              "75%       9.250000\n",
              "max      15.000000\n",
              "dtype: float64"
            ]
          },
          "metadata": {},
          "execution_count": 34
        }
      ]
    },
    {
      "cell_type": "markdown",
      "metadata": {
        "id": "BIIOTUNRAf0q"
      },
      "source": [
        "# Back to the data set\n",
        "Question : What is the average age for male and female ?"
      ]
    },
    {
      "cell_type": "code",
      "metadata": {
        "id": "yyN9VE3JBu9h",
        "colab": {
          "base_uri": "https://localhost:8080/"
        },
        "outputId": "3c311b0b-8dac-41af-e977-e6d1ddeb4b21"
      },
      "source": [
        "df[df.Sex == 'male'].Age.mean()"
      ],
      "execution_count": null,
      "outputs": [
        {
          "output_type": "execute_result",
          "data": {
            "text/plain": [
              "30.72664459161148"
            ]
          },
          "metadata": {},
          "execution_count": 16
        }
      ]
    },
    {
      "cell_type": "code",
      "metadata": {
        "id": "1hQEAntGVRe6",
        "colab": {
          "base_uri": "https://localhost:8080/"
        },
        "outputId": "e4a4bf48-ce50-4d66-8dd8-d582faa94dbc"
      },
      "source": [
        "df[df.Sex == 'female'].Age.mean()"
      ],
      "execution_count": null,
      "outputs": [
        {
          "output_type": "execute_result",
          "data": {
            "text/plain": [
              "27.915708812260537"
            ]
          },
          "metadata": {},
          "execution_count": 17
        }
      ]
    },
    {
      "cell_type": "markdown",
      "metadata": {
        "id": "3QSOcnFgVUZ4"
      },
      "source": [
        "# Exercises"
      ]
    },
    {
      "cell_type": "markdown",
      "metadata": {
        "id": "GhkLdq4sVced"
      },
      "source": [
        "## Exercise 1\n",
        "Calculate the following statistics for the Titanic dataset over all passengers, for `Age` and `Fare`:\n",
        "\n",
        "- Average value\n",
        "- Median value (or 50th quantile)\n",
        "- Standard Deviation\n",
        "- IQR\n",
        "- Range (max-min)\n"
      ]
    },
    {
      "cell_type": "code",
      "metadata": {
        "id": "93XBI9_2VTNP",
        "colab": {
          "base_uri": "https://localhost:8080/"
        },
        "outputId": "a6829588-6cd1-4f81-a2a4-434544c11eda"
      },
      "source": [
        "df[\"Age\"].mean()"
      ],
      "execution_count": null,
      "outputs": [
        {
          "output_type": "execute_result",
          "data": {
            "text/plain": [
              "29.69911764705882"
            ]
          },
          "metadata": {},
          "execution_count": 44
        }
      ]
    },
    {
      "cell_type": "code",
      "metadata": {
        "id": "wKuvOokGVTXT",
        "colab": {
          "base_uri": "https://localhost:8080/"
        },
        "outputId": "47b1b27a-6873-4fa3-a62c-51edfce01e48"
      },
      "source": [
        "df[\"Age\"].median()"
      ],
      "execution_count": null,
      "outputs": [
        {
          "output_type": "execute_result",
          "data": {
            "text/plain": [
              "28.0"
            ]
          },
          "metadata": {},
          "execution_count": 19
        }
      ]
    },
    {
      "cell_type": "code",
      "metadata": {
        "id": "AOEEpeaOV0Sf",
        "colab": {
          "base_uri": "https://localhost:8080/"
        },
        "outputId": "85661458-98f7-4bad-df9e-e343dddcebfb"
      },
      "source": [
        "df[\"Age\"].std()"
      ],
      "execution_count": null,
      "outputs": [
        {
          "output_type": "execute_result",
          "data": {
            "text/plain": [
              "14.526497332334042"
            ]
          },
          "metadata": {},
          "execution_count": 20
        }
      ]
    },
    {
      "cell_type": "code",
      "metadata": {
        "id": "wDVtno8MV0V4",
        "colab": {
          "base_uri": "https://localhost:8080/"
        },
        "outputId": "254a7570-0cc7-4201-9515-62fad0b503b0"
      },
      "source": [
        "df[\"Age\"].quantile(.75) - df[\"Age\"].quantile(.25)"
      ],
      "execution_count": null,
      "outputs": [
        {
          "output_type": "execute_result",
          "data": {
            "text/plain": [
              "17.875"
            ]
          },
          "metadata": {},
          "execution_count": 21
        }
      ]
    },
    {
      "cell_type": "code",
      "metadata": {
        "id": "_WlVfeXHC4qz",
        "colab": {
          "base_uri": "https://localhost:8080/"
        },
        "outputId": "00b37874-1a03-400e-d30e-50761e342c4a"
      },
      "source": [
        "df[\"Age\"].max()"
      ],
      "execution_count": null,
      "outputs": [
        {
          "output_type": "execute_result",
          "data": {
            "text/plain": [
              "80.0"
            ]
          },
          "metadata": {},
          "execution_count": 22
        }
      ]
    },
    {
      "cell_type": "code",
      "metadata": {
        "id": "MPHdNkNLC5F1",
        "colab": {
          "base_uri": "https://localhost:8080/"
        },
        "outputId": "2d07db0f-f978-4cd8-ef76-006d586b2275"
      },
      "source": [
        "df[\"Age\"].min()"
      ],
      "execution_count": null,
      "outputs": [
        {
          "output_type": "execute_result",
          "data": {
            "text/plain": [
              "0.42"
            ]
          },
          "metadata": {},
          "execution_count": 23
        }
      ]
    },
    {
      "cell_type": "code",
      "metadata": {
        "id": "3gf35NNFDFPz",
        "colab": {
          "base_uri": "https://localhost:8080/"
        },
        "outputId": "7f98c21b-518e-4d0d-9246-5052335aac45"
      },
      "source": [
        "df[\"Fare\"].mean()"
      ],
      "execution_count": null,
      "outputs": [
        {
          "output_type": "execute_result",
          "data": {
            "text/plain": [
              "32.204207968574636"
            ]
          },
          "metadata": {},
          "execution_count": 24
        }
      ]
    },
    {
      "cell_type": "code",
      "metadata": {
        "id": "HnLCAFoaDFbG",
        "colab": {
          "base_uri": "https://localhost:8080/"
        },
        "outputId": "839662df-5138-4859-d57d-8d39566e41fb"
      },
      "source": [
        "df[\"Fare\"].median()"
      ],
      "execution_count": null,
      "outputs": [
        {
          "output_type": "execute_result",
          "data": {
            "text/plain": [
              "14.4542"
            ]
          },
          "metadata": {},
          "execution_count": 25
        }
      ]
    },
    {
      "cell_type": "code",
      "metadata": {
        "id": "zZSrQyK0DFj2",
        "colab": {
          "base_uri": "https://localhost:8080/"
        },
        "outputId": "fd75d46a-f888-4657-c09d-7af04ab247d8"
      },
      "source": [
        "df[\"Fare\"].std()"
      ],
      "execution_count": null,
      "outputs": [
        {
          "output_type": "execute_result",
          "data": {
            "text/plain": [
              "49.6934285971809"
            ]
          },
          "metadata": {},
          "execution_count": 26
        }
      ]
    },
    {
      "cell_type": "code",
      "metadata": {
        "id": "3mIR1rSWDFtL",
        "colab": {
          "base_uri": "https://localhost:8080/"
        },
        "outputId": "bb72d2c4-8c87-4fa0-eca6-e6e90e1dd37d"
      },
      "source": [
        "df[\"Fare\"].quantile(.75) - df[\"Fare\"].quantile(.25)"
      ],
      "execution_count": null,
      "outputs": [
        {
          "output_type": "execute_result",
          "data": {
            "text/plain": [
              "23.0896"
            ]
          },
          "metadata": {},
          "execution_count": 27
        }
      ]
    },
    {
      "cell_type": "code",
      "metadata": {
        "id": "ZTvUK8s4DF2P",
        "colab": {
          "base_uri": "https://localhost:8080/"
        },
        "outputId": "95dd483d-fb12-452c-f4ee-f3ac105184b5"
      },
      "source": [
        "df[\"Fare\"].max()"
      ],
      "execution_count": null,
      "outputs": [
        {
          "output_type": "execute_result",
          "data": {
            "text/plain": [
              "512.3292"
            ]
          },
          "metadata": {},
          "execution_count": 28
        }
      ]
    },
    {
      "cell_type": "code",
      "metadata": {
        "id": "ui-q9rbFDkuS",
        "colab": {
          "base_uri": "https://localhost:8080/"
        },
        "outputId": "a7e05cdd-6dc8-445b-d0e1-10bb98ad7353"
      },
      "source": [
        "df[\"Fare\"].sort_values()"
      ],
      "execution_count": null,
      "outputs": [
        {
          "output_type": "execute_result",
          "data": {
            "text/plain": [
              "271      0.0000\n",
              "597      0.0000\n",
              "302      0.0000\n",
              "633      0.0000\n",
              "277      0.0000\n",
              "         ...   \n",
              "438    263.0000\n",
              "341    263.0000\n",
              "737    512.3292\n",
              "258    512.3292\n",
              "679    512.3292\n",
              "Name: Fare, Length: 891, dtype: float64"
            ]
          },
          "metadata": {},
          "execution_count": 72
        }
      ]
    },
    {
      "cell_type": "markdown",
      "metadata": {
        "id": "bi1iJgMHXsOX"
      },
      "source": [
        "What can you conclude about these two metrics? Can you picture their distributions?\n"
      ]
    },
    {
      "cell_type": "code",
      "metadata": {
        "id": "JU-5FVRgV0Zr",
        "colab": {
          "base_uri": "https://localhost:8080/",
          "height": 647
        },
        "outputId": "55f96956-24c5-4d44-e725-d423d726a246"
      },
      "source": [
        "df[['Age', 'Fare']].agg(\n",
        " ['min',\n",
        "  'max',\n",
        "  'median',\n",
        "  'std'\n",
        " ]\n",
        ")"
      ],
      "execution_count": null,
      "outputs": [
        {
          "output_type": "execute_result",
          "data": {
            "text/plain": [
              "              Age        Fare\n",
              "min      0.420000    0.000000\n",
              "max     80.000000  512.329200\n",
              "median  28.000000   14.454200\n",
              "std     14.526497   49.693429"
            ],
            "text/html": [
              "\n",
              "  <div id=\"df-7e6d6363-f7b5-4b9d-8d19-68eca2f61287\" class=\"colab-df-container\">\n",
              "    <div>\n",
              "<style scoped>\n",
              "    .dataframe tbody tr th:only-of-type {\n",
              "        vertical-align: middle;\n",
              "    }\n",
              "\n",
              "    .dataframe tbody tr th {\n",
              "        vertical-align: top;\n",
              "    }\n",
              "\n",
              "    .dataframe thead th {\n",
              "        text-align: right;\n",
              "    }\n",
              "</style>\n",
              "<table border=\"1\" class=\"dataframe\">\n",
              "  <thead>\n",
              "    <tr style=\"text-align: right;\">\n",
              "      <th></th>\n",
              "      <th>Age</th>\n",
              "      <th>Fare</th>\n",
              "    </tr>\n",
              "  </thead>\n",
              "  <tbody>\n",
              "    <tr>\n",
              "      <th>min</th>\n",
              "      <td>0.420000</td>\n",
              "      <td>0.000000</td>\n",
              "    </tr>\n",
              "    <tr>\n",
              "      <th>max</th>\n",
              "      <td>80.000000</td>\n",
              "      <td>512.329200</td>\n",
              "    </tr>\n",
              "    <tr>\n",
              "      <th>median</th>\n",
              "      <td>28.000000</td>\n",
              "      <td>14.454200</td>\n",
              "    </tr>\n",
              "    <tr>\n",
              "      <th>std</th>\n",
              "      <td>14.526497</td>\n",
              "      <td>49.693429</td>\n",
              "    </tr>\n",
              "  </tbody>\n",
              "</table>\n",
              "</div>\n",
              "    <div class=\"colab-df-buttons\">\n",
              "\n",
              "  <div class=\"colab-df-container\">\n",
              "    <button class=\"colab-df-convert\" onclick=\"convertToInteractive('df-7e6d6363-f7b5-4b9d-8d19-68eca2f61287')\"\n",
              "            title=\"Convert this dataframe to an interactive table.\"\n",
              "            style=\"display:none;\">\n",
              "\n",
              "  <svg xmlns=\"http://www.w3.org/2000/svg\" height=\"24px\" viewBox=\"0 -960 960 960\">\n",
              "    <path d=\"M120-120v-720h720v720H120Zm60-500h600v-160H180v160Zm220 220h160v-160H400v160Zm0 220h160v-160H400v160ZM180-400h160v-160H180v160Zm440 0h160v-160H620v160ZM180-180h160v-160H180v160Zm440 0h160v-160H620v160Z\"/>\n",
              "  </svg>\n",
              "    </button>\n",
              "\n",
              "  <style>\n",
              "    .colab-df-container {\n",
              "      display:flex;\n",
              "      gap: 12px;\n",
              "    }\n",
              "\n",
              "    .colab-df-convert {\n",
              "      background-color: #E8F0FE;\n",
              "      border: none;\n",
              "      border-radius: 50%;\n",
              "      cursor: pointer;\n",
              "      display: none;\n",
              "      fill: #1967D2;\n",
              "      height: 32px;\n",
              "      padding: 0 0 0 0;\n",
              "      width: 32px;\n",
              "    }\n",
              "\n",
              "    .colab-df-convert:hover {\n",
              "      background-color: #E2EBFA;\n",
              "      box-shadow: 0px 1px 2px rgba(60, 64, 67, 0.3), 0px 1px 3px 1px rgba(60, 64, 67, 0.15);\n",
              "      fill: #174EA6;\n",
              "    }\n",
              "\n",
              "    .colab-df-buttons div {\n",
              "      margin-bottom: 4px;\n",
              "    }\n",
              "\n",
              "    [theme=dark] .colab-df-convert {\n",
              "      background-color: #3B4455;\n",
              "      fill: #D2E3FC;\n",
              "    }\n",
              "\n",
              "    [theme=dark] .colab-df-convert:hover {\n",
              "      background-color: #434B5C;\n",
              "      box-shadow: 0px 1px 3px 1px rgba(0, 0, 0, 0.15);\n",
              "      filter: drop-shadow(0px 1px 2px rgba(0, 0, 0, 0.3));\n",
              "      fill: #FFFFFF;\n",
              "    }\n",
              "  </style>\n",
              "\n",
              "    <script>\n",
              "      const buttonEl =\n",
              "        document.querySelector('#df-7e6d6363-f7b5-4b9d-8d19-68eca2f61287 button.colab-df-convert');\n",
              "      buttonEl.style.display =\n",
              "        google.colab.kernel.accessAllowed ? 'block' : 'none';\n",
              "\n",
              "      async function convertToInteractive(key) {\n",
              "        const element = document.querySelector('#df-7e6d6363-f7b5-4b9d-8d19-68eca2f61287');\n",
              "        const dataTable =\n",
              "          await google.colab.kernel.invokeFunction('convertToInteractive',\n",
              "                                                    [key], {});\n",
              "        if (!dataTable) return;\n",
              "\n",
              "        const docLinkHtml = 'Like what you see? Visit the ' +\n",
              "          '<a target=\"_blank\" href=https://colab.research.google.com/notebooks/data_table.ipynb>data table notebook</a>'\n",
              "          + ' to learn more about interactive tables.';\n",
              "        element.innerHTML = '';\n",
              "        dataTable['output_type'] = 'display_data';\n",
              "        await google.colab.output.renderOutput(dataTable, element);\n",
              "        const docLink = document.createElement('div');\n",
              "        docLink.innerHTML = docLinkHtml;\n",
              "        element.appendChild(docLink);\n",
              "      }\n",
              "    </script>\n",
              "  </div>\n",
              "\n",
              "\n",
              "<div id=\"df-5fbeee4a-6696-4231-b599-1ac1f34b5936\">\n",
              "  <button class=\"colab-df-quickchart\" onclick=\"quickchart('df-5fbeee4a-6696-4231-b599-1ac1f34b5936')\"\n",
              "            title=\"Suggest charts\"\n",
              "            style=\"display:none;\">\n",
              "\n",
              "<svg xmlns=\"http://www.w3.org/2000/svg\" height=\"24px\"viewBox=\"0 0 24 24\"\n",
              "     width=\"24px\">\n",
              "    <g>\n",
              "        <path d=\"M19 3H5c-1.1 0-2 .9-2 2v14c0 1.1.9 2 2 2h14c1.1 0 2-.9 2-2V5c0-1.1-.9-2-2-2zM9 17H7v-7h2v7zm4 0h-2V7h2v10zm4 0h-2v-4h2v4z\"/>\n",
              "    </g>\n",
              "</svg>\n",
              "  </button>\n",
              "\n",
              "<style>\n",
              "  .colab-df-quickchart {\n",
              "      --bg-color: #E8F0FE;\n",
              "      --fill-color: #1967D2;\n",
              "      --hover-bg-color: #E2EBFA;\n",
              "      --hover-fill-color: #174EA6;\n",
              "      --disabled-fill-color: #AAA;\n",
              "      --disabled-bg-color: #DDD;\n",
              "  }\n",
              "\n",
              "  [theme=dark] .colab-df-quickchart {\n",
              "      --bg-color: #3B4455;\n",
              "      --fill-color: #D2E3FC;\n",
              "      --hover-bg-color: #434B5C;\n",
              "      --hover-fill-color: #FFFFFF;\n",
              "      --disabled-bg-color: #3B4455;\n",
              "      --disabled-fill-color: #666;\n",
              "  }\n",
              "\n",
              "  .colab-df-quickchart {\n",
              "    background-color: var(--bg-color);\n",
              "    border: none;\n",
              "    border-radius: 50%;\n",
              "    cursor: pointer;\n",
              "    display: none;\n",
              "    fill: var(--fill-color);\n",
              "    height: 32px;\n",
              "    padding: 0;\n",
              "    width: 32px;\n",
              "  }\n",
              "\n",
              "  .colab-df-quickchart:hover {\n",
              "    background-color: var(--hover-bg-color);\n",
              "    box-shadow: 0 1px 2px rgba(60, 64, 67, 0.3), 0 1px 3px 1px rgba(60, 64, 67, 0.15);\n",
              "    fill: var(--button-hover-fill-color);\n",
              "  }\n",
              "\n",
              "  .colab-df-quickchart-complete:disabled,\n",
              "  .colab-df-quickchart-complete:disabled:hover {\n",
              "    background-color: var(--disabled-bg-color);\n",
              "    fill: var(--disabled-fill-color);\n",
              "    box-shadow: none;\n",
              "  }\n",
              "\n",
              "  .colab-df-spinner {\n",
              "    border: 2px solid var(--fill-color);\n",
              "    border-color: transparent;\n",
              "    border-bottom-color: var(--fill-color);\n",
              "    animation:\n",
              "      spin 1s steps(1) infinite;\n",
              "  }\n",
              "\n",
              "  @keyframes spin {\n",
              "    0% {\n",
              "      border-color: transparent;\n",
              "      border-bottom-color: var(--fill-color);\n",
              "      border-left-color: var(--fill-color);\n",
              "    }\n",
              "    20% {\n",
              "      border-color: transparent;\n",
              "      border-left-color: var(--fill-color);\n",
              "      border-top-color: var(--fill-color);\n",
              "    }\n",
              "    30% {\n",
              "      border-color: transparent;\n",
              "      border-left-color: var(--fill-color);\n",
              "      border-top-color: var(--fill-color);\n",
              "      border-right-color: var(--fill-color);\n",
              "    }\n",
              "    40% {\n",
              "      border-color: transparent;\n",
              "      border-right-color: var(--fill-color);\n",
              "      border-top-color: var(--fill-color);\n",
              "    }\n",
              "    60% {\n",
              "      border-color: transparent;\n",
              "      border-right-color: var(--fill-color);\n",
              "    }\n",
              "    80% {\n",
              "      border-color: transparent;\n",
              "      border-right-color: var(--fill-color);\n",
              "      border-bottom-color: var(--fill-color);\n",
              "    }\n",
              "    90% {\n",
              "      border-color: transparent;\n",
              "      border-bottom-color: var(--fill-color);\n",
              "    }\n",
              "  }\n",
              "</style>\n",
              "\n",
              "  <script>\n",
              "    async function quickchart(key) {\n",
              "      const quickchartButtonEl =\n",
              "        document.querySelector('#' + key + ' button');\n",
              "      quickchartButtonEl.disabled = true;  // To prevent multiple clicks.\n",
              "      quickchartButtonEl.classList.add('colab-df-spinner');\n",
              "      try {\n",
              "        const charts = await google.colab.kernel.invokeFunction(\n",
              "            'suggestCharts', [key], {});\n",
              "      } catch (error) {\n",
              "        console.error('Error during call to suggestCharts:', error);\n",
              "      }\n",
              "      quickchartButtonEl.classList.remove('colab-df-spinner');\n",
              "      quickchartButtonEl.classList.add('colab-df-quickchart-complete');\n",
              "    }\n",
              "    (() => {\n",
              "      let quickchartButtonEl =\n",
              "        document.querySelector('#df-5fbeee4a-6696-4231-b599-1ac1f34b5936 button');\n",
              "      quickchartButtonEl.style.display =\n",
              "        google.colab.kernel.accessAllowed ? 'block' : 'none';\n",
              "    })();\n",
              "  </script>\n",
              "</div>\n",
              "    </div>\n",
              "  </div>\n"
            ],
            "application/vnd.google.colaboratory.intrinsic+json": {
              "type": "dataframe",
              "summary": "{\n  \"name\": \")\",\n  \"rows\": 4,\n  \"fields\": [\n    {\n      \"column\": \"Age\",\n      \"properties\": {\n        \"dtype\": \"number\",\n        \"std\": 34.71904003652704,\n        \"min\": 0.42,\n        \"max\": 80.0,\n        \"num_unique_values\": 4,\n        \"samples\": [\n          80.0,\n          14.526497332334042,\n          0.42\n        ],\n        \"semantic_type\": \"\",\n        \"description\": \"\"\n      }\n    },\n    {\n      \"column\": \"Fare\",\n      \"properties\": {\n        \"dtype\": \"number\",\n        \"std\": 246.35894303411382,\n        \"min\": 0.0,\n        \"max\": 512.3292,\n        \"num_unique_values\": 4,\n        \"samples\": [\n          512.3292,\n          49.6934285971809,\n          0.0\n        ],\n        \"semantic_type\": \"\",\n        \"description\": \"\"\n      }\n    }\n  ]\n}"
            }
          },
          "metadata": {},
          "execution_count": 41
        },
        {
          "output_type": "display_data",
          "data": {
            "text/plain": [
              "<google.colab._quickchart_helpers.SectionTitle at 0x7acd3a7364d0>"
            ],
            "text/html": [
              "<h4 class=\"colab-quickchart-section-title\">Distributions</h4>\n",
              "<style>\n",
              "  .colab-quickchart-section-title {\n",
              "      clear: both;\n",
              "  }\n",
              "</style>"
            ]
          },
          "metadata": {}
        },
        {
          "output_type": "display_data",
          "data": {
            "text/plain": [
              "from matplotlib import pyplot as plt\n",
              "_df_0['Age'].plot(kind='hist', bins=20, title='Age')\n",
              "plt.gca().spines[['top', 'right',]].set_visible(False)"
            ],
            "text/html": [
              "      <div class=\"colab-quickchart-chart-with-code\" id=\"chart-b001b09f-1a95-4167-a4e8-b9a4d8ae153a\">\n",
              "        <img style=\"width: 180px;\" src=\"data:image/png;base64,iVBORw0KGgoAAAANSUhEUgAAAioAAAGrCAYAAADuNLxTAAAAOXRFWHRTb2Z0d2FyZQBNYXRwbG90\n",
              "bGliIHZlcnNpb24zLjcuMSwgaHR0cHM6Ly9tYXRwbG90bGliLm9yZy/bCgiHAAAACXBIWXMAAA9h\n",
              "AAAPYQGoP6dpAAAgjUlEQVR4nO3de3BU9f3/8deS6HopIRDApAlLCrkAAglgMhDwgtSKfjEo2NYq\n",
              "SlSSiFpk6FREdBRrDZ22VrSDBKFRjCIKkWa8FoUiIgpBbgY1CSbsqoEoQoIigSSf3x/U/bGNsQb3\n",
              "sJ+sz8fMzrCHw+H9yQmZ5+we9riMMUYAAAAW6hTqAQAAANpCqAAAAGsRKgAAwFqECgAAsBahAgAA\n",
              "rEWoAAAAaxEqAADAWoQKAACwFqECAACsRagAAABrESoAQqKoqEgul0t33HFHqEcBYDEX9/oBEAoZ\n",
              "GRmqrq5Wp06d5PP55Ha7Qz0SAAvxigqAk27Tpk0qKytTcXGx6uvr9dxzz/l/7+DBg8rJyVFMTIwS\n",
              "EhI0b948JSQk6PHHH/fv88EHH2jcuHE666yzFB8fr5tvvllfffVVCFYCwGmECoCTbv78+UpPT9fY\n",
              "sWN1xRVXaP78+f7fu+2227Rz507t2LFDFRUV2rFjh/bu3ev//c8//1znnnuuxowZI6/Xq23btqmi\n",
              "okLTp08PwUoAOI23fgCcVPv371d8fLz++te/aurUqVq9erXGjBmjrVu3auDAgTrjjDP0/PPP69JL\n",
              "L5UkNTQ0qGvXrlq8eLFycnL04IMP6rnnntOGDRv8x1y/fr0uvPBCHTp0SBEREaFaGgAH8IoKgJPq\n",
              "m4tor7nmGknS6NGjlZSUpPnz5+vzzz/XkSNH1Lt3b//+UVFR6tq1q/95ZWWlNm/erOjoaP/j0ksv\n",
              "lcvl0p49e076egA4i1ABcNIYY7RgwQIdOXJEKSkpio2NVVxcnD7++GM99dRTOu2003Tqqadq9+7d\n",
              "/j/T0NCg/fv3+5/HxsZq1KhROnDggP9RX1+vw4cPKz4+PhTLAuAgQgXASbNq1SpVVlbqX//6l7Zu\n",
              "3ep/bN++XZK0ZMkSXX311brvvvtUW1urQ4cO6fe//706dfr/P6quv/56bdmyRfPnz9ehQ4dkjJHP\n",
              "59PKlStDtCoATiJUAJw0jz76qH7+859r9OjRio2N9T+Sk5M1ZcoUPfroo5o3b55SUlJ09tlnKzk5\n",
              "WQMGDFC3bt102mmnSZI8Ho82bNigVatWqW/fvoqOjtbFF1+sHTt2hHh1AJzAxbQArLZ//37FxMRo\n",
              "/fr1GjFiRKjHAXCS8YoKAKt4vV6tXbtWzc3N2rdvn26++WYlJycrIyMj1KMBCAFCBYBVjhw5ot/+\n",
              "9reKjo5WcnKyDhw4oNLSUkVGRoZ6NAAhwFs/AADAWryiAgAArEWoAAAAaxEqAADAWoQKAACwVliE\n",
              "yrx580I9AgAAcEBYhMrx9wUBAADhIyxCBQAAhCdCBQAAWItQAQAA1iJUAACAtQgVAABgLUIFAABY\n",
              "i1ABAADWIlQAAIC1CBUAAGAtQgUAAFiLUAEAANYiVAAAgLUcDZVp06YpMTFRLpdLW7dubXO/xYsX\n",
              "Kzk5WX379lVubq6OHj3q5FgAAKCDcDRUrrzySr355pvq3bt3m/tUV1fr7rvv1rp161RVVaW9e/dq\n",
              "4cKFTo4FAAA6CEdD5bzzzlNCQsJ37rN8+XJlZ2crNjZWLpdLN910k5YuXdrm/o2NjWpoaAh4NDc3\n",
              "B3t0AABggchQD+D1egNecUlMTJTX621z/4KCAs2ZMydg2/Dhwx2ZLfGOFx05riTVzP0/x47tFL4e\n",
              "gZz6enTErwWA0AvXn0kd7mLaWbNmqb6+PuCRmZkZ6rEAAIADQv6Kisfj0a5du/zPa2pq5PF42tzf\n",
              "7XbL7XYHbIuIiHBsPgAAEDohf0Vl4sSJKi0t1Z49e2SM0YIFC3TVVVeFeiwAAGABR0MlPz9fCQkJ\n",
              "+vjjj3XxxRcrKSlJkjRlyhSVlpZKkvr06aM5c+Zo5MiRSkpKUo8ePZSfn+/kWAAAoINw9K2fwsLC\n",
              "b92+aNGigOe5ubnKzc11chQAANABhfytHwAAgLYQKgAAwFqECgAAsBahAgAArEWoAAAAaxEqAADA\n",
              "WoQKAACwFqECAACsRagAAABrESoAAMBahAoAALAWoQIAAKxFqAAAAGsRKgAAwFqECgAAsBahAgAA\n",
              "rEWoAAAAaxEqAADAWoQKAACwFqECAACsRagAAABrESoAAMBahAoAALAWoQIAAKxFqAAAAGsRKgAA\n",
              "wFqECgAAsBahAgAArEWoAAAAaxEqAADAWoQKAACwFqECAACsRagAAABrESoAAMBahAoAALAWoQIA\n",
              "AKxFqAAAAGsRKgAAwFqECgAAsBahAgAArEWoAAAAaxEqAADAWoQKAACwFqECAACsRagAAABrESoA\n",
              "AMBahAoAALAWoQIAAKxFqAAAAGsRKgAAwFqECgAAsBahAgAArEWoAAAAaxEqAADAWoQKAACwFqEC\n",
              "AACsRagAAABrESoAAMBahAoAALAWoQIAAKxFqAAAAGs5GiqVlZXKyspSSkqKMjIyVF5e3mqflpYW\n",
              "zZgxQwMGDNDgwYM1evRoVVVVOTkWAADoIBwNlfz8fOXl5amiokIzZ85UTk5Oq31KS0u1fv16bdu2\n",
              "Tdu3b9eYMWN05513OjkWAADoIBwLlbq6OpWVlWnSpEmSpIkTJ8rn87V6tcTlcqmxsVGHDx+WMUYN\n",
              "DQ1KSEhwaiwAANCBRDp1YJ/Pp7i4OEVGHvsrXC6XPB6PvF6vkpKS/PtddtllWrNmjWJjY9W5c2fF\n",
              "x8dr7dq1bR63sbFRjY2NAduam5udWQQAAAipkF9MW1ZWpvfee0+ffPKJPv30U40ZM0Y33XRTm/sX\n",
              "FBSoS5cuAY+NGzeexIkBAMDJ4lio9OrVS7W1tWpqapIkGWPk9Xrl8XgC9luyZIkuvPBCRUdHq1On\n",
              "Tpo8ebLWrFnT5nFnzZql+vr6gEdmZqZTywAAACHkWKj07NlTQ4cOVXFxsSRpxYoVSkhICHjbR5L6\n",
              "9Omj1atX68iRI5KkF154QQMHDmzzuG63W1FRUQGPiIgIp5YBAABCyLFrVCSpsLBQOTk5euCBBxQV\n",
              "FaWioiJJ0pQpU5Sdna3s7Gzdcsstev/995WWlqZTTjlFsbGxWrBggZNjAQCADsLRUElNTdWGDRta\n",
              "bV+0aJH/1263W4899piTYwAAgA4q5BfTAgAAtIVQAQAA1iJUAACAtQgVAABgLUIFAABYi1ABAADW\n",
              "IlQAAIC1CBUAAGAtQgUAAFiLUAEAANYiVAAAgLUIFQAAYC1CBQAAWItQAQAA1iJUAACAtQgVAABg\n",
              "LUIFAABYi1ABAADWIlQAAIC1CBUAAGAtQgUAAFiLUAEAANYiVAAAgLUIFQAAYC1CBQAAWItQAQAA\n",
              "1iJUAACAtQgVAABgLUIFAABYi1ABAADWIlQAAIC1CBUAAGAtQgUAAFiLUAEAANYiVAAAgLUIFQAA\n",
              "YC1CBQAAWItQAQAA1iJUAACAtQgVAABgLUIFAABYi1ABAADWIlQAAIC1CBUAAGAtQgUAAFiLUAEA\n",
              "ANYiVAAAgLUIFQAAYC1CBQAAWItQAQAA1iJUAACAtQgVAABgLUIFAABYi1ABAADWIlQAAIC1CBUA\n",
              "AGAtQgUAAFiLUAEAANYiVAAAgLUIFQAAYC1CBQAAWItQAQAA1nI0VCorK5WVlaWUlBRlZGSovLz8\n",
              "W/fbsWOHLrjgAvXv31/9+/dXSUmJk2MBAIAOItLJg+fn5ysvL085OTlavny5cnJytGnTpoB9Dh06\n",
              "pPHjx2vJkiUaNWqUmpub9cUXXzg5FgAA6CAce0Wlrq5OZWVlmjRpkiRp4sSJ8vl8qqqqCtjv6aef\n",
              "1vDhwzVq1ChJUkREhHr06NHmcRsbG9XQ0BDwaG5udmoZAAAghBwLFZ/Pp7i4OEVGHnvRxuVyyePx\n",
              "yOv1Buy3c+dOud1ujRs3Tunp6bruuuv02WeftXncgoICdenSJeCxceNGp5YBAABCqN2h8uqrrwZ1\n",
              "gKamJr322msqLCzUli1bFB8fr6lTp7a5/6xZs1RfXx/wyMzMDOpMAADADu0Olfvuu0+pqamaN2+e\n",
              "Ghoa2tyvV69eqq2tVVNTkyTJGCOv1yuPxxOwn8fj0ejRoxUfHy+Xy6VJkybp7bffbvO4brdbUVFR\n",
              "AY+IiIj2LgMAAHQA7Q6V9evX65lnntF7772nlJQU3Xzzzdq5c2er/Xr27KmhQ4equLhYkrRixQol\n",
              "JCQoKSkpYL9f/epX2rRpkz96XnrpJaWlpZ3IWgAAQJg5oWtUhgwZoscee0yvvPKKXnjhBQ0ePFgX\n",
              "XXSRduzYEbBfYWGhCgsLlZKSorlz56qoqEiSNGXKFJWWlko69orKnXfeqaysLA0ePFirV6/WggUL\n",
              "fuCyAABAODih/5782muv6ZFHHtGOHTt0yy236MYbb9S///1vXXHFFQH/qyc1NVUbNmxo9ecXLVoU\n",
              "8Pzaa6/VtddeeyKjAACAMNbuUOnfv7+6d++uadOmacKECf7rQ6688kotXrw46AMCAIAfr3aHSnFx\n",
              "sYYNG/atv/fyyy//4IEAAAC+0e5rVDZv3hzwybH79u3TY489FtShAAAApBMIlfnz56tbt27+5zEx\n",
              "MZo/f35QhwIAAJBOIFSMMa228RH2AADACe0Olbi4OD377LP+58uWLVNcXFxQhwIAAJBO4GLahx56\n",
              "SOPHj9ftt98uSTrjjDP0z3/+M+iDAQAAtDtU+vXrp507d+rDDz+UdOyzUvgIewAA4IQT+sA3l8ul\n",
              "6OhoNTU16ZNPPpGkVvfwAQAA+KHaHSqPP/64pk2bplNOOUWdOh27xMXlcqmuri7owwEAgB+3dofK\n",
              "H/7wB23atEmpqalOzAMAAODX7v/10717dyIFAACcFO0Olcsvv1wPPfSQ6urq1NDQ4H8AAAAEW7vf\n",
              "+pk9e7YkacaMGXK5XDLGyOVy8aFvAAAg6NodKi0tLU7MAQAA0Eq73/qRjt2Y8Mknn5QkHThwQLW1\n",
              "tUEdCgAAQDrBmxLecMMNuvfeeyUdu3vy1VdfHey5AAAA2h8qCxcu1Ntvv62oqChJUt++ffXZZ58F\n",
              "fTAAAIB2h4rb7dbpp58esC0y8oQ+4BYAAOA7tTtUevTooYqKCrlcLknHPqmWj88HAABOOKG7J//m\n",
              "N7/RBx98oF69eikqKkovvPCCE7MBAIAfuXaHSlJSkt555x19+OGHMsZw92QAAOCYdoeK1+uVJJ15\n",
              "5pmSxN2TAQCAY9odKsOGDfN/Iu3hw4d16NAhxcTEcPdkAAAQdO0Olf/+r8glJSXatm1b0AYCAAD4\n",
              "xgl9Mu3xJkyYoBdffDEYswAAAARo9ysqx98pubm5We+88w53TwYAAI5od6hER0f7r1GJiIhQcnKy\n",
              "Hn74YSdmAwAAP3LcPRkAAFjrB1+jAgAA4JR2v6LSqVMn/8fnH88YI5fLpebm5qAMBgAA0O5Que++\n",
              "+/T1119r6tSpkqQFCxbo9NNP1/Tp04M9GwAA+JFrd6g8//zz2rx5s//5/fffr2HDhmn27NlBHQwA\n",
              "AKDd16gcPHgw4FNo6+rqdPDgwaAOBQAAIJ3AKyq/+93vlJaWpksvvVSS9Morr+jee+8N9lwAAADt\n",
              "D5X8/HyNHDlSa9askSTNmDFDZ599dtAHAwAAaHeoSFJMTIwGDRqkCy64QE1NTTpy5IhOPfXUYM8G\n",
              "AAB+5Np9jcry5cs1fPhwXX/99ZKk8vJyXX755cGeCwAAoP2hUlBQoHfffVfR0dGSpLS0NO3evTvY\n",
              "cwEAALQ/VCIiIhQTExOwjbd9AACAE9odKp07d9bevXv9n077+uuvq1u3bkEfDAAAoN0X0/7pT3/S\n",
              "JZdcoo8++kijRo1SdXW1XnzxRSdmAwAAP3LtCpWWlhY1NzdrzZo1euutt2SMUVZWlv96FQAAgGBq\n",
              "V6h06tRJeXl52rZtmy655BKnZgIAAJB0AteoJCcnq6qqyolZAAAAArT7GpUvvvhC6enpysrK0k9+\n",
              "8hP/9pKSkqAOBgAA8L1DJS8vTwsXLtTkyZOVnZ2trl27OjkXAADA9w+VsrIySdLkyZM1dOhQvfvu\n",
              "u44NBQAAIJ3ANSqSZIwJ9hwAAACtfO9XVL7++mvt2LFDxhgdPnzY/+tvDB482JEBAQDAj1e7QiU7\n",
              "O9v//Phfu1wuffTRR8GdDAAA/Oh971CpqalxcAwAAIDWTugaFQAAgJOBUAEAANYiVAAAgLUIFQAA\n",
              "YC1CBQAAWItQAQAA1iJUAACAtQgVAABgLUIFAABYy9FQqaysVFZWllJSUpSRkaHy8vI29zXG6MIL\n",
              "L1R0dLSTIwEAgA7E0VDJz89XXl6eKioqNHPmTOXk5LS579/+9jf17dvXyXEAAEAH41io1NXVqays\n",
              "TJMmTZIkTZw4UT6fT1VVVa32LS8v18qVK3XHHXf8z+M2NjaqoaEh4NHc3Bz0+QEAQOg5Fio+n09x\n",
              "cXGKjDx230OXyyWPxyOv1xuw39GjR5Wbm6vCwkJFRET8z+MWFBSoS5cuAY+NGzc6sgYAABBaIb+Y\n",
              "ds6cOZowYYL69+//vfafNWuW6uvrAx6ZmZkOTwkAAEIh0qkD9+rVS7W1tWpqalJkZKSMMfJ6vfJ4\n",
              "PAH7rV27Vl6vV3//+9/V1NSkhoYGJSYmatOmTerRo0er47rdbrnd7oBt3+eVGAAA0PE49opKz549\n",
              "NXToUBUXF0uSVqxYoYSEBCUlJQXst27dOu3evVs1NTV68803FRUVpZqamm+NFAAA8OPi6Fs/hYWF\n",
              "KiwsVEpKiubOnauioiJJ0pQpU1RaWurkXw0AAMKAY2/9SFJqaqo2bNjQavuiRYu+df/ExEQdOHDA\n",
              "yZEAAEAHEvKLaQEAANpCqAAAAGsRKgAAwFqECgAAsBahAgAArEWoAAAAaxEqAADAWoQKAACwFqEC\n",
              "AACsRagAAABrESoAAMBahAoAALAWoQIAAKxFqAAAAGsRKgAAwFqECgAAsBahAgAArEWoAAAAaxEq\n",
              "AADAWoQKAACwFqECAACsRagAAABrESoAAMBahAoAALAWoQIAAKxFqAAAAGsRKgAAwFqECgAAsBah\n",
              "AgAArEWoAAAAaxEqAADAWoQKAACwFqECAACsRagAAABrESoAAMBahAoAALAWoQIAAKxFqAAAAGsR\n",
              "KgAAwFqECgAAsBahAgAArEWoAAAAaxEqAADAWoQKAACwFqECAACsRagAAABrESoAAMBahAoAALAW\n",
              "oQIAAKxFqAAAAGsRKgAAwFqECgAAsBahAgAArEWoAAAAaxEqAADAWoQKAACwFqECAACsRagAAABr\n",
              "ESoAAMBahAoAALAWoQIAAKxFqAAAAGs5GiqVlZXKyspSSkqKMjIyVF5e3mqf1atXKzMzUwMGDNDZ\n",
              "Z5+t22+/XS0tLU6OBQAAOghHQyU/P195eXmqqKjQzJkzlZOT02qfrl276plnntHOnTu1efNmvfXW\n",
              "W1qyZImTYwEAgA7CsVCpq6tTWVmZJk2aJEmaOHGifD6fqqqqAvYbMmSI+vTpI0k67bTTlJ6erpqa\n",
              "mjaP29jYqIaGhoBHc3OzU8sAAAAh5Fio+Hw+xcXFKTIyUpLkcrnk8Xjk9Xrb/DN79uzR8uXLNW7c\n",
              "uDb3KSgoUJcuXQIeGzduDPr8AAAg9Ky5mLahoUGXXXaZbr/9dp1zzjlt7jdr1izV19cHPDIzM0/i\n",
              "pAAA4GSJdOrAvXr1Um1trZqamhQZGSljjLxerzweT6t9Dx48qLFjx2r8+PGaMWPGdx7X7XbL7XYH\n",
              "bIuIiAjq7AAAwA6OvaLSs2dPDR06VMXFxZKkFStWKCEhQUlJSQH7ffnllxo7dqzGjh2ru+66y6lx\n",
              "AABAB+ToWz+FhYUqLCxUSkqK5s6dq6KiIknSlClTVFpaKkmaN2+eNm7cqJKSEqWnpys9PV1//OMf\n",
              "nRwLAAB0EI699SNJqamp2rBhQ6vtixYt8v969uzZmj17tpNjAACADsqai2kBAAD+G6ECAACsRagA\n",
              "AABrESoAAMBahAoAALAWoQIAAKxFqAAAAGsRKgAAwFqECgAAsBahAgAArEWoAAAAaxEqAADAWoQK\n",
              "AACwFqECAACsRagAAABrESoAAMBahAoAALAWoQIAAKxFqAAAAGsRKgAAwFqECgAAsBahAgAArEWo\n",
              "AAAAaxEqAADAWoQKAACwFqECAACsRagAAABrESoAAMBahAoAALAWoQIAAKxFqAAAAGsRKgAAwFqE\n",
              "CgAAsBahAgAArEWoAAAAaxEqAADAWoQKAACwFqECAACsRagAAABrESoAAMBahAoAALAWoQIAAKxF\n",
              "qAAAAGsRKgAAwFqECgAAsBahAgAArEWoAAAAaxEqAADAWoQKAACwFqECAACsRagAAABrESoAAMBa\n",
              "hAoAALAWoQIAAKxFqAAAAGsRKgAAwFqECgAAsBahAgAArEWoAAAAaxEqAADAWoQKAACwlqOhUllZ\n",
              "qaysLKWkpCgjI0Pl5eXfut/ixYuVnJysvn37Kjc3V0ePHnVyLAAA0EE4Gir5+fnKy8tTRUWFZs6c\n",
              "qZycnFb7VFdX6+6779a6detUVVWlvXv3auHChU6OBQAAOgjHQqWurk5lZWWaNGmSJGnixIny+Xyq\n",
              "qqoK2G/58uXKzs5WbGysXC6XbrrpJi1durTN4zY2NqqhoSHg0dzc7NQyAABACEU6dWCfz6e4uDhF\n",
              "Rh77K1wulzwej7xer5KSkvz7eb1e9e7d2/88MTFRXq+3zeMWFBRozpw5Adv69eunGTNmBGXu5uZm\n",
              "bdy4UZmZmZoQERGUY36bGTNed+zY/8vxa4xoxxonODhTML8eJ7q+9nLq6/F9vhYna42hFO5rDPf1\n",
              "SazxZHPiZ1Jzc7NGjLjfsfX17t1bt91223fu41ioOGXWrFmtosTtdsvtdgfl+A0NDerSpYteffVV\n",
              "RUVFBeWYtgn3NYb7+iTWGA7CfX0SawwHNqzPsVDp1auXamtr1dTUpMjISBlj5PV65fF4AvbzeDza\n",
              "tWuX/3lNTU2rfY4XzCgBAAB2c+walZ49e2ro0KEqLi6WJK1YsUIJCQkBb/tIx65dKS0t1Z49e2SM\n",
              "0YIFC3TVVVc5NRYAAOhAHP1fP4WFhSosLFRKSormzp2roqIiSdKUKVNUWloqSerTp4/mzJmjkSNH\n",
              "KikpST169FB+fr6TYwEAgA7C0WtUUlNTtWHDhlbbFy1aFPA8NzdXubm5To7yvbndbt1zzz1h/fZS\n",
              "uK8x3NcnscZwEO7rk1hjOLBhfS5jjAnZ3w4AAPAd+Ah9AABgLUIFAABYi1ABAADWIlQAAIC1CJXj\n",
              "fN+7PXck06ZNU2Jiolwul7Zu3erfHi5rPXz4sC6//HKlpKQoLS1NF110kf9+UnV1dRo7dqySk5M1\n",
              "cOBAvfHGGyGe9sT94he/0ODBg5Wenq5zzz1XW7ZskRQ+5/EbRUVFcrlcWrlypaTwOoeJiYlKTU1V\n",
              "enq60tPTtWzZMknhdQ4bGxt16623Kjk5WYMGDfLf6y0c1rhv3z7/uUtPT1dKSooiIyP1xRdfhNX3\n",
              "6UsvvaShQ4cqPT1dAwcO1BNPPCEpxP8WDfxGjx5tioqKjDHGPPfcc+acc84J7UBBsHbtWuPz+Uzv\n",
              "3r3Nli1b/NvDZa1ff/21efHFF01LS4sxxphHHnnEnH/++cYYY66//npzzz33GGOM2bhxo4mPjzdH\n",
              "jhwJ0aQ/zP79+/2/LikpMYMHDzbGhM95NMaY6upqM2LECDN8+HDz/PPPG2PC6xz+97/Bb4TTOZw+\n",
              "fbq59dZb/f8ea2trjTHhtcZv/PnPfzbjxo0zxoTP92lLS4vp2rWr2bZtmzHm2L9Jt9ttGhoaQrpG\n",
              "QuU/9u7dazp37myOHj1qjDl2ws466yxTWVkZ4smC4/gfkuG81k2bNpnevXsbY4w588wz/T8ojTEm\n",
              "IyPDrFq1KkSTBU9RUZFJS0sLq/PY3NxsxowZY8rKysz555/vD5VwOoffFirhdA6//PJL07lzZ1Nf\n",
              "Xx+wPZzWeLx+/fqF3fdpS0uL6datm1m7dq0xxpht27aZn/70p6axsTGka+Stn//4rrs9h5twXuu8\n",
              "efM0fvx47du3T0ePHlVsbKz/9/7Xnbltd91116lXr166++679eSTT4bVeXzwwQc1cuRIDRs2zL8t\n",
              "XM/hoEGDdOONN+qzzz4Lq3O4a9cudevWTQ888IDOOeccnXvuuXr99dfDao3feOutt7R//36NGzcu\n",
              "rL5PXS6Xli1bpgkTJqh3794aNWqUnnjiCR08eDCkayRUEDYeeOABVVVVqaCgINSjOGLJkiXy+Xy6\n",
              "//77NXPmzFCPEzTvvfeeVqxYobvuuivUozjqjTfe0Pbt2/Xuu++qe/fumjx5cqhHCqqmpibt3r1b\n",
              "AwYMUFlZmR5++GH9+te/VlNTU6hHC7rFixfruuuu88dXuGhqatL999+vkpIS7d69W6+//rquvfba\n",
              "kJ9DQuU/jr/bs6Q27/YcDsJxrX/5y19UUlKil19+WWeccYZiYmIUGRmpPXv2+Pf5X3fm7igmT56s\n",
              "NWvWKCEhISzO47p161RTU6Pk5GQlJibq7bffVl5enp599tmwOoffzH3KKado+vTpWrduXVj9W/R4\n",
              "POrUqZOuueYaSdKQIUP0s5/9TLt37w6bNUrSl19+qWeffVY33HCDJIXVz5qtW7fq008/1XnnnSdJ\n",
              "ysjIUEJCgrZv3x7SNRIq//F97/YcDsJtrQ8++KCWLl2qVatWKTo62r/9l7/8pRYsWCBJ2rRpkz75\n",
              "5BOdf/75IZryxB04cECffvqp//nKlSsVExMTNudx6tSpqq2tVU1NjWpqajR8+HAtXLhQU6dODZtz\n",
              "+NVXX+nAgQP+50uXLtWQIUPC5hxKUvfu3TVmzBi9+uqrkqTq6mpVV1dr5MiRYbNGSVq2bJnS0tLU\n",
              "r18//7Zw+T79Jpzff/99SVJVVZV27dql1NTU0K7xpFwJ00F88MEHZvjw4SY5OdkMGzbMbN++PdQj\n",
              "/WB5eXkmPj7eREREmJ49e5q+ffsaY8JnrT6fz0gyffr0MWlpaSYtLc1kZmYaY4zZs2ePueiii0xS\n",
              "UpIZMGCAWb16dYinPTE1NTUmIyPDDBw40AwePNiMGTPGf1FmuJzH4x1/MW24nMNdu3aZ9PR0M2jQ\n",
              "IDNw4ECTnZ1tqqurjTHhdQ537dplLrjgAv/36vLly40x4bXGESNGmH/84x8B28Ll+9QYY55++mn/\n",
              "+Rs4cKB56qmnjDGhXSM3JQQAANbirR8AAGAtQgUAAFiLUAEAANYiVAAAgLUIFQAAYC1CBQAAWItQ\n",
              "AQAA1iJUAACAtQgVAABgLUIFAABY6/8B1nRPs36ZPrsAAAAASUVORK5CYII=\n",
              "\">\n",
              "      </div>\n",
              "      <script type=\"text/javascript\">\n",
              "        (() => {\n",
              "          const chartElement = document.getElementById(\"chart-b001b09f-1a95-4167-a4e8-b9a4d8ae153a\");\n",
              "          async function getCodeForChartHandler(event) {\n",
              "            const chartCodeResponse =  await google.colab.kernel.invokeFunction(\n",
              "                'getCodeForChart', [\"chart-b001b09f-1a95-4167-a4e8-b9a4d8ae153a\"], {});\n",
              "            const responseJson = chartCodeResponse.data['application/json'];\n",
              "            await google.colab.notebook.addCell(responseJson.code, 'code');\n",
              "          }\n",
              "          chartElement.onclick = getCodeForChartHandler;\n",
              "        })();\n",
              "      </script>\n",
              "      <style>\n",
              "        .colab-quickchart-chart-with-code  {\n",
              "            display: block;\n",
              "            float: left;\n",
              "            border: 1px solid transparent;\n",
              "        }\n",
              "\n",
              "        .colab-quickchart-chart-with-code:hover {\n",
              "            cursor: pointer;\n",
              "            border: 1px solid #aaa;\n",
              "        }\n",
              "      </style>"
            ]
          },
          "metadata": {}
        },
        {
          "output_type": "display_data",
          "data": {
            "text/plain": [
              "from matplotlib import pyplot as plt\n",
              "_df_1['Fare'].plot(kind='hist', bins=20, title='Fare')\n",
              "plt.gca().spines[['top', 'right',]].set_visible(False)"
            ],
            "text/html": [
              "      <div class=\"colab-quickchart-chart-with-code\" id=\"chart-d1d5c004-5afa-4c88-8a06-4579b80f1b3d\">\n",
              "        <img style=\"width: 180px;\" src=\"data:image/png;base64,iVBORw0KGgoAAAANSUhEUgAAAjEAAAGrCAYAAAAxesZMAAAAOXRFWHRTb2Z0d2FyZQBNYXRwbG90\n",
              "bGliIHZlcnNpb24zLjcuMSwgaHR0cHM6Ly9tYXRwbG90bGliLm9yZy/bCgiHAAAACXBIWXMAAA9h\n",
              "AAAPYQGoP6dpAAAkeUlEQVR4nO3de3BU5cHH8d+S6IpKwjUmuiQpuVluSRaTpmBRx6HEW0CgFesN\n",
              "MBesHdpJO2iKqFA1dEYyYqcMQdNUZQoqRJuBQUfqLVQlQYwXGJGkLBtoQpy2JEAh5nLePxi27ksS\n",
              "2Lgnmwe+n5kzkz3n2bPPnlnId3ZP9jgsy7IEAABgmEGhngAAAEBfEDEAAMBIRAwAADASEQMAAIxE\n",
              "xAAAACMRMQAAwEhEDAAAMBIRAwAAjETEAAAAIxExAADASEQMgAHh+uuv18UXX6zLL7/ct0ydOjXU\n",
              "0wIwgBExAAaMxYsX69ixY77l/fffD+j+lmWpo6PDptkBGGiIGAAD1hdffKEbb7xRo0aNUmRkpH7w\n",
              "gx/o7bff9m33eDxyOBwqKytTamqqLr30Uu3cuVMnT57Ub3/7WyUkJGjYsGGaOnWqPvnkkxA+EwB2\n",
              "IGIADGgPP/ywvF6vmpubddNNN+n2229Xc3Oz35g//elP2rx5s44dO6b09HQtXLhQ1dXVeu+99/T1\n",
              "11/rpz/9qaZPn64jR46E5kkAsAURA2DAePrppzV06FDf8sknn2jatGkaPHiwnE6nHn/8cTkcDu3Y\n",
              "scPvfo8++qhGjx6tsLAwHTt2TC+88IL++Mc/yuVyKTw8XL/4xS8UGRmpzZs3h+iZAbBDeKgnAACn\n",
              "/eY3v9ETTzzhu+31ejV37lx98MEHOnLkiAYNGqTW1tYz3on53ve+5/u5rq5OkvSDH/zAb8w333yj\n",
              "gwcP2jh7AP2NiAEwYOXl5SkyMlI1NTW64oorZFmWhg0bJsuy/MYNGvS/N5Wjo6MlSZ999pliY2P7\n",
              "db4A+hcfJwEYsFpaWnT55Zdr2LBhOn78uIqKinTs2LFe7xMXF6eZM2fqwQcf1IEDByRJR48e1dat\n",
              "W9XY2Ngf0wbQT4gYAAPWs88+q08//VTDhg3T2LFjddVVV8nlcp31fn/5y180adIkTZs2TUOGDFFK\n",
              "Soqee+65M97BAWA2h8W/agAAYCDeiQEAAEYiYgAAgJGIGAAAYCQiBgAAGImIAQAARiJiAACAkYgY\n",
              "AABgpPM+YlatWhXqKQAAABuc9xFz+mvHAQDA+eW8jxgAAHB+ImIAAICRiBgAAGAkIgYAABiJiAEA\n",
              "AEYiYgAAgJGIGAAAYCQiBgAAGImIAQAARiJiAACAkYgYAABgJCIGAAAYybaIOXnypGbOnKnk5GSl\n",
              "pqZq2rRpqqur63bs5s2bdfXVVyspKUmzZs1Sa2vrOW0DAAAXLlvficnPz9fevXv16aefasaMGcrN\n",
              "zT1jzLFjx3T//ffr9ddf1759+3TllVfqd7/73Vm3AQCAC5ttEXPJJZfo5ptvlsPhkCRlZWXJ4/Gc\n",
              "MW7r1q1KT0/X1VdfLUn6+c9/rvXr1591W3fa2trU2trqt3R2dgb5mQEAgIEgvL8eaNWqVZoxY8YZ\n",
              "671er+Li4ny34+Pj1djYqI6Ojl63hYefOfXi4mItW7bMb11WVlYQn8X/xD+8xZb9SpJnxS227RsA\n",
              "gPNFv5zY+9RTT6murk7FxcW2Pk5RUZFaWlr8lszMTFsfEwAAhIbtEfP000+roqJCW7du1aWXXnrG\n",
              "9tjYWB04cMB32+PxKCYmRuHh4b1u647T6VRERITfEhYWFvwnBQAAQs7WiCkpKdH69ev11ltvaejQ\n",
              "od2Oyc7O1q5du/Tll19KklavXq25c+eedRsAALiw2XZOzMGDB/XrX/9aY8aM0Q033CDp1DslO3bs\n",
              "0KOPPqorr7xSCxcu1JAhQ/T8889r5syZ6ujo0Pjx4/XCCy9IUq/bAADAhc1hWZYV6knYqbCwUCUl\n",
              "JUHfLyf2AgAQWnxjLwAAMBIRAwAAjETEAAAAIxExAADASEQMAAAwEhEDAACMRMQAAAAjETEAAMBI\n",
              "RAwAADASEQMAAIxExAAAACMRMQAAwEhEDAAAMBIRAwAAjETEAAAAIxExAADASEQMAAAwEhEDAACM\n",
              "RMQAAAAjETEAAMBIRAwAADASEQMAAIxExAAAACMRMQAAwEhEDAAAMBIRAwAAjETEAAAAIxExAADA\n",
              "SEQMAAAwEhEDAACMRMQAAAAjETEAAMBIRAwAADASEQMAAIxExAAAACPZGjGLFi1SfHy8HA6Hamtr\n",
              "ux1TXl6utLQ03zJy5EjNmjVLkuTxeBQWFua3vb6+3s4pAwAAQ4TbufM5c+Zo8eLFuvbaa3scM3/+\n",
              "fM2fP993e/z48brrrrt8t4cMGdJjAAEAgAuXrREzderUgMbv2LFDzc3NysnJ6dPjtbW1qa2tzW9d\n",
              "Z2dnn/YFAAAGtgF1TkxZWZnuueceXXTRRb51x48fV0ZGhtxut5YvX95rlBQXFysyMtJvqa6u7o+p\n",
              "AwCAfjZgIub48ePasGGD7r//ft+6mJgYHTp0SDU1Ndq2bZuqqqq0cuXKHvdRVFSklpYWvyUzM7M/\n",
              "pg8AAPrZgImYV199VePGjdPYsWN965xOp6KioiRJw4cP14IFC1RVVdXjPpxOpyIiIvyWsLAw2+cO\n",
              "AAD634CJmLKyMr93YSSpublZ7e3tkk6d71JRUaH09PRQTA8AAAwwtkZMQUGBXC6XDh48qOnTpysx\n",
              "MVGSlJubq8rKSt+4vXv3qra2VnfccYff/bdv36709HSlpqbK7XYrOjpaS5YssXPKAADAEA7LsqxQ\n",
              "T8JOhYWFKikpCfp+4x/eEvR9nuZZcYtt+wYA4HwxYD5OAgAACAQRAwAAjETEAAAAIxExAADASEQM\n",
              "AAAwEhEDAACMRMQAAAAjETEAAMBIRAwAADASEQMAAIxExAAAACMRMQAAwEhEDAAAMBIRAwAAjETE\n",
              "AAAAIxExAADASEQMAAAwEhEDAACMRMQAAAAjETEAAMBIRAwAADASEQMAAIxExAAAACMRMQAAwEhE\n",
              "DAAAMBIRAwAAjETEAAAAIxExAADASEQMAAAwEhEDAACMRMQAAAAjETEAAMBIRAwAADASEQMAAIxE\n",
              "xAAAACPZGjGLFi1SfHy8HA6Hamtrux3z7rvvavDgwUpLS/MtJ06c8G0vKytTUlKSEhISlJeXp/b2\n",
              "djunDAAADGFrxMyZM0fbt29XXFxcr+NSUlJUW1vrWwYPHixJ2r9/v5YuXaqqqirV1dXp8OHDWrt2\n",
              "rZ1TBgAAhrA1YqZOnSqXy9Xn+2/cuFE5OTmKjo6Ww+HQwoULtX79+h7Ht7W1qbW11W/p7Ozs8+MD\n",
              "AICBa0CcE1NfXy+3262MjAytXr3at97r9fq9ixMfHy+v19vjfoqLixUZGem3VFdX2zp3AAAQGiGP\n",
              "GLfbrYMHD2rXrl167bXXtGbNGr3yyit92ldRUZFaWlr8lszMzCDPGAAADAQhj5iIiAhFRkZKklwu\n",
              "l+68805VVVVJkmJjY3XgwAHfWI/Ho9jY2B735XQ6FRER4beEhYXZ+wQAAEBIhDxiGhsb1dXVJUk6\n",
              "evSoNm/erPT0dEnS7NmzVVlZqaamJlmWpTVr1mju3LmhnC4AABggbI2YgoICuVwuHTx4UNOnT1di\n",
              "YqIkKTc3V5WVlZKkTZs2acKECUpNTVVWVpamTZum+fPnS5LGjBmjZcuWacqUKUpMTNSoUaNUUFBg\n",
              "55QBAIAhHJZlWaGehJ0KCwtVUlIS9P3GP7wl6Ps8zbPiFtv2DQDA+SLkHycBAAD0BREDAACMRMQA\n",
              "AAAjETEAAMBIRAwAADASEQMAAIxExAAAACMRMQAAwEhEDAAAMBIRAwAAjETEAAAAIxExAADASEQM\n",
              "AAAwEhEDAACMRMQAAAAjETEAAMBIRAwAADASEQMAAIxExAAAACMRMQAAwEhEDAAAMBIRAwAAjETE\n",
              "AAAAIxExAADASEQMAAAwEhEDAACMRMQAAAAjETEAAMBIRAwAADASEQMAAIxExAAAACMRMQAAwEhE\n",
              "DAAAMBIRAwAAjETEAAAAI9kaMYsWLVJ8fLwcDodqa2u7HfP2228rMzNTY8eO1bhx47R48WJ1dXVJ\n",
              "kjwej8LCwpSWluZb6uvr7ZwyAAAwhK0RM2fOHG3fvl1xcXE9jhk2bJg2bNigPXv26OOPP9YHH3yg\n",
              "F1980bd9yJAhqq2t9S0JCQl2ThkAABgi3M6dT5069axj0tPTfT9fcsklSktLk8fj6dPjtbW1qa2t\n",
              "zW9dZ2dnn/YFAAAGtgF1TkxTU5M2btyoW2+91bfu+PHjysjIkNvt1vLly3uNkuLiYkVGRvot1dXV\n",
              "/TF1AADQzwZMxLS2tuq2227T4sWLdc0110iSYmJidOjQIdXU1Gjbtm2qqqrSypUre9xHUVGRWlpa\n",
              "/JbMzMz+egoAAKAfDYiIOXr0qLKzszVjxgwVFhb61judTkVFRUmShg8frgULFqiqqqrH/TidTkVE\n",
              "RPgtYWFhts8fAAD0v5BHzLFjx5Sdna3s7Gw98sgjftuam5vV3t4u6dT5LhUVFX7n0AAAgAuXrRFT\n",
              "UFAgl8ulgwcPavr06UpMTJQk5ebmqrKyUpK0atUqVVdXq6Kiwvdn1E8++aQkafv27UpPT1dqaqrc\n",
              "breio6O1ZMkSO6cMAAAM4bAsywr1JOxUWFiokpKSoO83/uEtQd/naZ4Vt9i2bwAAzhch/zgJAACg\n",
              "L4gYAABgJCIGAAAYiYgBAABGCjhi3nzzTTvmAQAAEJCAI2b58uVKSUnRqlWr1NraasecAAAAzirg\n",
              "iPn73/+uDRs26IsvvlBycrJ+/vOfa8+ePXbMDQAAoEd9OicmPT1dzz33nN544w1t3rxZEydO1LRp\n",
              "0/T5558He34AAADd6lPEbNu2TTNmzNCsWbP04IMPqqmpSQUFBbr99tuDPT8AAIBuhQd6h+9///sa\n",
              "OXKkFi1apFmzZvkusDhnzhyVlZUFfYIAAADdCThi1q1bp0mTJnW7bevWrd95QgAAAOci4I+TPv74\n",
              "Y/373//23f7Xv/6l5557LqiTAgAAOJuAI2b16tUaPny47/aIESO0evXqoE4KAADgbAKOmO4uet3Z\n",
              "2RmUyQAAAJyrgCMmJiZGr7zyiu/2yy+/rJiYmKBOCgAA4GwCPrH3mWee0YwZM7R48WJJ0qWXXqq/\n",
              "/vWvQZ8YAABAbwKOmKuvvlp79uzR3r17JUkpKSm+P7MGAADoLwFHjCQ5HA4NHTpUHR0dOnTokCQp\n",
              "NjY2qBMDAADoTcAR8+c//1mLFi3SRRddpEGDTp1S43A41NzcHPTJAQAA9CTgiPnd736nmpoapaSk\n",
              "2DEfAACAcxLwXyeNHDmSgAEAACEXcMTMnDlTzzzzjJqbm9Xa2upbAAAA+lPAHyctWbJEklRYWCiH\n",
              "wyHLsuRwOPjCOwAA0K8Cjpiuri475gEAABCQgD9Okk5dBPKll16SJB05ckSNjY1BnRQAAMDZ9OkC\n",
              "kAsWLNDjjz8u6dRVrH/2s58Fe14AAAC9Cjhi1q5dq48++kgRERGSpISEBH399ddBnxgAAEBvAo4Y\n",
              "p9OpwYMH+60LD+/TF/8CAAD0WcARM2rUKH311VdyOBySTn2DL5ccAAAA/a1PV7G+88479eWXX2r0\n",
              "6NGKiIjQ5s2b7ZgbAABAjwKOmMTERO3YsUN79+6VZVlcxRoAAIREwBHj9XolSZdddpkkcRVrAAAQ\n",
              "EgFHzKRJk3zf1Hvy5En997//1YgRI7iKNQAA6FcBR8z//3PqiooKffrpp0GbEAAAwLno0zf2ftus\n",
              "WbO0ZcuWYMwFAADgnAUcMd++cvV//vMfvfHGGz1exXrRokWKj4+Xw+FQbW1tj/ssKytTUlKSEhIS\n",
              "lJeXp/b29nPaBgAALlwBR8zQoUM1bNgwDR06VFFRUSosLNSzzz7b7dg5c+Zo+/btiouL63F/+/fv\n",
              "19KlS1VVVaW6ujodPnxYa9euPes2AABwYQs4Yrq6utTZ2amuri61t7drz549ys7O7nbs1KlT5XK5\n",
              "et3fxo0blZOTo+joaDkcDi1cuFDr168/67butLW1+b1T1Nraqs7OzkCfIgAAMEDIrxfg9Xr93qmJ\n",
              "j4/3/Rl3b9u6U1xcrGXLlvmty8rKCvKM7Rf/sD3nGHlW3GLLfgEAA9v5+nsl4HdiBg0apLCwsDOW\n",
              "0+tDqaioSC0tLX5LZmZmSOcEAADsEfA7McuXL9eJEyf0wAMPSJLWrFmjwYMH61e/+lWfJhAbG6v6\n",
              "+nrfbY/H4/vivN62dcfpdMrpdPqtC3VYAQAAewT8Tsxrr72mJ598Ui6XSy6XS0888YQqKip02WWX\n",
              "+b7FNxCzZ89WZWWlmpqaZFmW1qxZo7lz5551GwAAuLAFHDFHjx71+3be5uZmHT16tNuxBQUFcrlc\n",
              "OnjwoKZPn67ExERJUm5uriorKyVJY8aM0bJlyzRlyhQlJiZq1KhRKigoOOs2AABwYQv446Rf//rX\n",
              "Sk1N1c033yxJeuONN/T44493O7a0tLTb9c8//7zf7by8POXl5XU7trdtAADgwhVwxBQUFGjKlCl6\n",
              "5513JEmFhYUaN25c0CcGAADQmz79ifWIESM0YcIEXX/99ero6NA333yjiy++ONhzAwAA6FHA58Rs\n",
              "3LhRWVlZmj9/viRp9+7dmjlzZrDnBQAA0KuAI6a4uFi7du3S0KFDJUmpqak6cOBAsOcFAADQq4Aj\n",
              "JiwsTCNGjPBbx0dJAACgvwUcMUOGDNHhw4flcDgkSX/72980fPjwoE8MAACgNwGf2Pv73/9eN910\n",
              "k/7xj3/o2muv1f79+7Vliz3XZAAAAOhJQBFz+grW77zzjj744ANZlqXJkyf7zo8BAADoLwFFzKBB\n",
              "g5Sfn69PP/1UN910k11zAgAAOKuAz4lJSkpSXV2dHXMBAAA4ZwGfE/Pvf/9baWlpmjx5si6//HLf\n",
              "+oqKiqBODAAAoDfnHDH5+flau3at7rvvPuXk5GjYsGF2zgsAAKBX5xwxO3fulCTdd999crvd2rVr\n",
              "l22TAgAAOJuAz4mRJMuygj0PAACAgJzzOzEnTpzQ559/LsuydPLkSd/Pp02cONGWCQIAAHQnoIjJ\n",
              "ycnx3f72zw6HQ//4xz+COzMAAIBenHPEeDweG6cBAAAQmD6dEwMAABBqRAwAADASEQMAAIxExAAA\n",
              "ACMRMQAAwEhEDAAAMBIRAwAAjETEAAAAIxExAADASEQMAAAwEhEDAACMRMQAAAAjETEAAMBIRAwA\n",
              "ADASEQMAAIxExAAAACMRMQAAwEhEDAAAMJKtEbNv3z5NnjxZycnJysjI0O7du88YU15errS0NN8y\n",
              "cuRIzZo1S5Lk8XgUFhbmt72+vt7OKQMAAEOE27nzgoIC5efna968edq4caPmzZunmpoavzHz58/X\n",
              "/PnzfbfHjx+vu+66y3d7yJAhqq2ttXOaAADAQLa9E9Pc3KydO3fq7rvvliTNnj1bDQ0Nqqur6/E+\n",
              "O3bsUHNzs3Jycvr0mG1tbWptbfVbOjs7+7QvAAAwsNkWMQ0NDYqJiVF4+Kk3exwOh2JjY+X1enu8\n",
              "T1lZme655x5ddNFFvnXHjx9XRkaG3G63li9f3muUFBcXKzIy0m+prq4O3pMCAAADxoA5sff48ePa\n",
              "sGGD7r//ft+6mJgYHTp0SDU1Ndq2bZuqqqq0cuXKHvdRVFSklpYWvyUzM7M/pg8AAPqZbREzevRo\n",
              "NTY2qqOjQ5JkWZa8Xq9iY2O7Hf/qq69q3LhxGjt2rG+d0+lUVFSUJGn48OFasGCBqqqqenxMp9Op\n",
              "iIgIvyUsLCyIzwoAAAwUtkVMVFSU3G631q1bJ0natGmTXC6XEhMTux1fVlbm9y6MdOq8mvb2dkmn\n",
              "znepqKhQenq6XVMGAAAGsfXjpNLSUpWWlio5OVkrVqxQeXm5JCk3N1eVlZW+cXv37lVtba3uuOMO\n",
              "v/tv375d6enpSk1NldvtVnR0tJYsWWLnlAEAgCFs/RPrlJQUffjhh2esf/75588Yd/To0TPGzZo1\n",
              "y/edMQAAAN82YE7sBQAACAQRAwAAjETEAAAAIxExAADASEQMAAAwEhEDAACMRMQAAAAjETEAAMBI\n",
              "RAwAADASEQMAAIxExAAAACMRMQAAwEhEDAAAMBIRAwAAjETEAAAAIxExAADASEQMAAAwEhEDAACM\n",
              "RMQAAAAjETEAAMBIRAwAADASEQMAAIxExAAAACMRMQAAwEhEDAAAMBIRAwAAjETEAAAAIxExAADA\n",
              "SEQMAAAwEhEDAACMRMQAAAAjETEAAMBIRAwAADASEQMAAIxExAAAACPZGjH79u3T5MmTlZycrIyM\n",
              "DO3evfuMMe+++64GDx6stLQ033LixAnf9rKyMiUlJSkhIUF5eXlqb2+3c8oAAMAQtkZMQUGB8vPz\n",
              "9dVXX+mhhx7SvHnzuh2XkpKi2tpa3zJ48GBJ0v79+7V06VJVVVWprq5Ohw8f1tq1a+2cMgAAMIRt\n",
              "EdPc3KydO3fq7rvvliTNnj1bDQ0NqqurO+d9bNy4UTk5OYqOjpbD4dDChQu1fv36Hse3tbWptbXV\n",
              "b+ns7PzOzwUAAAw8tkVMQ0ODYmJiFB4eLklyOByKjY2V1+s9Y2x9fb3cbrcyMjK0evVq33qv16u4\n",
              "uDjf7fj4+G7vf1pxcbEiIyP9lurq6iA+KwAAMFCE/MRet9utgwcPateuXXrttde0Zs0avfLKK33a\n",
              "V1FRkVpaWvyWzMzMIM8YAAAMBLZFzOjRo9XY2KiOjg5JkmVZ8nq9io2N9RsXERGhyMhISZLL5dKd\n",
              "d96pqqoqSVJsbKwOHDjgG+vxeM64/7c5nU5FRET4LWFhYcF+agAAYACwLWKioqLkdru1bt06SdKm\n",
              "TZvkcrmUmJjoN66xsVFdXV2SpKNHj2rz5s1KT0+XdOo8msrKSjU1NcmyLK1Zs0Zz5861a8oAAMAg\n",
              "tn6cVFpaqtLSUiUnJ2vFihUqLy+XJOXm5qqyslLSqbiZMGGCUlNTlZWVpWnTpmn+/PmSpDFjxmjZ\n",
              "smWaMmWKEhMTNWrUKBUUFNg5ZQAAYAiHZVlWqCdhp8LCQpWUlAR9v/EPbwn6Pu3mWXFLqKcAAAgB\n",
              "u35nhfr3SshP7AUAAOgLIgYAABiJiAEAAEYiYgAAgJGIGAAAYCQiBgAAGImIAQAARiJiAACAkYgY\n",
              "AABgJCIGAAAYiYgBAABGImIAAICRiBgAAGAkIgYAABiJiAEAAEYiYgAAgJGIGAAAYCQiBgAAGImI\n",
              "AQAARiJiAACAkYgYAABgJCIGAAAYiYgBAABGImIAAICRiBgAAGAkIgYAABiJiAEAAEYiYgAAgJGI\n",
              "GAAAYCQiBgAAGImIAQAARiJiAACAkYgYAABgJCIGAAAYiYgBAABGsjVi9u3bp8mTJys5OVkZGRna\n",
              "vXv3GWPefvttZWZmauzYsRo3bpwWL16srq4uSZLH41FYWJjS0tJ8S319vZ1TBgAAhrA1YgoKCpSf\n",
              "n6+vvvpKDz30kObNm3fGmGHDhmnDhg3as2ePPv74Y33wwQd68cUXfduHDBmi2tpa35KQkGDnlAEA\n",
              "gCFsi5jm5mbt3LlTd999tyRp9uzZamhoUF1dnd+49PR0jRkzRpJ0ySWXKC0tTR6Pp0+P2dbWptbW\n",
              "Vr+ls7PzOz0PAAAwMNkWMQ0NDYqJiVF4eLgkyeFwKDY2Vl6vt8f7NDU1aePGjbr11lt9644fP66M\n",
              "jAy53W4tX7681ygpLi5WZGSk31JdXR28JwUAAAaMAXNib2trq2677TYtXrxY11xzjSQpJiZGhw4d\n",
              "Uk1NjbZt26aqqiqtXLmyx30UFRWppaXFb8nMzOyvpwAAAPqRbREzevRoNTY2qqOjQ5JkWZa8Xq9i\n",
              "Y2PPGHv06FFlZ2drxowZKiws9K13Op2KioqSJA0fPlwLFixQVVVVj4/pdDoVERHht4SFhQX5mQEA\n",
              "gIHAtoiJioqS2+3WunXrJEmbNm2Sy+VSYmKi37hjx44pOztb2dnZeuSRR/y2NTc3q729XdKp810q\n",
              "KiqUnp5u15QBAIBBbP04qbS0VKWlpUpOTtaKFStUXl4uScrNzVVlZaUkadWqVaqurlZFRYXvz6if\n",
              "fPJJSdL27duVnp6u1NRUud1uRUdHa8mSJXZOGQAAGMJhWZYV6knYqbCwUCUlJUHfb/zDW4K+T7t5\n",
              "VtwS6ikAAELArt9Zof69MmBO7AUAAAgEEQMAAIxExAAAACMRMQAAwEhEDAAAMBIRAwAAjETEAAAA\n",
              "IxExAADASEQMAAAwEhEDAACMRMQAAAAjETEAAMBIRAwAADASEQMAAIxExAAAACMRMQAAwEhEDAAA\n",
              "MBIRAwAAjETEAAAAIxExAADASEQMAAAwEhEDAACMRMQAAAAjETEAAMBIRAwAADASEQMAAIxExAAA\n",
              "ACMRMQAAwEhEDAAAMBIRAwAAjETEAAAAIxExAADASEQMAAAwEhEDAACMRMQAAAAj2Rox+/bt0+TJ\n",
              "k5WcnKyMjAzt3r2723FlZWVKSkpSQkKC8vLy1N7efk7bAADAhcvWiCkoKFB+fr6++uorPfTQQ5o3\n",
              "b94ZY/bv36+lS5eqqqpKdXV1Onz4sNauXXvWbQAA4MJmW8Q0Nzdr586duvvuuyVJs2fPVkNDg+rq\n",
              "6vzGbdy4UTk5OYqOjpbD4dDChQu1fv36s27rTltbm1pbW/2Wzs5Ou54iAAAIoXC7dtzQ0KCYmBiF\n",
              "h596CIfDodjYWHm9XiUmJvrGeb1excXF+W7Hx8fL6/WedVt3iouLtWzZMr91V199tQoLC4PynE7r\n",
              "7OxUTHW1MjMzFRYWFtR926mw8G+hnsI56ezsVLWBx9cUHF97cXztxfHtm1nnOC7Q42vn75W4uDj9\n",
              "8pe/7HWMbRETCkVFRWcEi9PplNPpDOrjtLa2KjIyUm+++aYiIiKCum9wfO3G8bUXx9deHF97mXZ8\n",
              "bYuY0aNHq7GxUR0dHQoPD5dlWfJ6vYqNjfUbFxsbq/r6et9tj8fjG9Pbtu7YESwAAGBgsu2cmKio\n",
              "KLndbq1bt06StGnTJrlcLr+PkqRT58pUVlaqqalJlmVpzZo1mjt37lm3AQCAC5utf51UWlqq0tJS\n",
              "JScna8WKFSovL5ck5ebmqrKyUpI0ZswYLVu2TFOmTFFiYqJGjRqlgoKCs24DAAAXNlvPiUlJSdGH\n",
              "H354xvrnn3/e73ZeXp7y8vK63Udv20LF6XTqscce46Mrm3B87cXxtRfH114cX3uZdnwdlmVZoZ4E\n",
              "AABAoLjsAAAAMBIRAwAAjETEAAAAIxExAADASERMH5zr1bnRvUWLFik+Pl4Oh0O1tbW+9b0dV475\n",
              "uTt58qRmzpyp5ORkpaamatq0ab5rljU3Nys7O1tJSUkaP3683n//fd/9etsGfz/+8Y81ceJEpaWl\n",
              "6Uc/+pE++eQTSbyGg6m8vFwOh0Ovv/66JF67wRQfH6+UlBSlpaUpLS1NL7/8siRDX78WAnbDDTdY\n",
              "5eXllmVZ1quvvmpdc801oZ2QYd577z2roaHBiouLsz755BPf+t6OK8f83J04ccLasmWL1dXVZVmW\n",
              "Zf3hD3+wrrvuOsuyLGv+/PnWY489ZlmWZVVXV1tXXXWV9c0335x1G/z95z//8f1cUVFhTZw40bIs\n",
              "XsPBsn//fuuHP/yhlZWVZb322muWZfHaDab//3/vaSa+fomYAB0+fNgaMmSI1d7eblmWZXV1dVlX\n",
              "XHGFtW/fvhDPzDzf/ofU23HlmH83NTU1VlxcnGVZlnXZZZdZjY2Nvm0ZGRnWW2+9ddZt6Fl5ebmV\n",
              "mprKazhIOjs7rRtvvNHauXOndd111/kihtdu8HQXMaa+fvk4KUC9XZ0bfdfbceWYfzerVq3SjBkz\n",
              "9K9//Uvt7e2Kjo72bTt9ZfjetqF79957r0aPHq2lS5fqpZde4jUcJCUlJZoyZYomTZrkW8drN/ju\n",
              "vfdeTZgwQffff7++/vprY1+/RAxwHnvqqadUV1en4uLiUE/lvPPiiy+qoaFBTzzxhB566KFQT+e8\n",
              "8MUXX2jTpk165JFHQj2V89r777+vzz77TLt27dLIkSN13333hXpKfUbEBOjbV+eW1OPVuRGY3o4r\n",
              "x7xvnn76aVVUVGjr1q269NJLNWLECIWHh6upqck35vSV4Xvbht7dd999euedd+RyuXgNf0dVVVXy\n",
              "eDxKSkpSfHy8PvroI+Xn5+uVV17htRtEp4/NRRddpF/96leqqqoy9v9gIiZA53p1bgSmt+PKMQ9c\n",
              "SUmJ1q9fr7feektDhw71rf/JT36iNWvWSJJqamp06NAhXXfddWfdhv85cuSI/vnPf/puv/766xox\n",
              "YgSv4SB44IEH1NjYKI/HI4/Ho6ysLK1du1YPPPAAr90gOX78uI4cOeK7vX79eqWnp5v7+g3h+TjG\n",
              "+vLLL62srCwrKSnJmjRpkvXZZ5+FekpGyc/Pt6666iorLCzMioqKshISEizL6v24cszPXUNDgyXJ\n",
              "GjNmjJWammqlpqZamZmZlmVZVlNTkzVt2jQrMTHRGjt2rPX222/77tfbNvyPx+OxMjIyrPHjx1sT\n",
              "J060brzxRt9JkryGg+vbJ/by2g2O+vp6Ky0tzZowYYI1fvx4Kycnx9q/f79lWWa+frkAJAAAMBIf\n",
              "JwEAACMRMQAAwEhEDAAAMBIRAwAAjETEAAAAIxExAADASEQMAAAwEhEDAACMRMQAAAAjETEAAMBI\n",
              "/wdPKAMEnpemJAAAAABJRU5ErkJggg==\n",
              "\">\n",
              "      </div>\n",
              "      <script type=\"text/javascript\">\n",
              "        (() => {\n",
              "          const chartElement = document.getElementById(\"chart-d1d5c004-5afa-4c88-8a06-4579b80f1b3d\");\n",
              "          async function getCodeForChartHandler(event) {\n",
              "            const chartCodeResponse =  await google.colab.kernel.invokeFunction(\n",
              "                'getCodeForChart', [\"chart-d1d5c004-5afa-4c88-8a06-4579b80f1b3d\"], {});\n",
              "            const responseJson = chartCodeResponse.data['application/json'];\n",
              "            await google.colab.notebook.addCell(responseJson.code, 'code');\n",
              "          }\n",
              "          chartElement.onclick = getCodeForChartHandler;\n",
              "        })();\n",
              "      </script>\n",
              "      <style>\n",
              "        .colab-quickchart-chart-with-code  {\n",
              "            display: block;\n",
              "            float: left;\n",
              "            border: 1px solid transparent;\n",
              "        }\n",
              "\n",
              "        .colab-quickchart-chart-with-code:hover {\n",
              "            cursor: pointer;\n",
              "            border: 1px solid #aaa;\n",
              "        }\n",
              "      </style>"
            ]
          },
          "metadata": {}
        },
        {
          "output_type": "display_data",
          "data": {
            "text/plain": [
              "<google.colab._quickchart_helpers.SectionTitle at 0x7acd3a736d70>"
            ],
            "text/html": [
              "<h4 class=\"colab-quickchart-section-title\">2-d distributions</h4>\n",
              "<style>\n",
              "  .colab-quickchart-section-title {\n",
              "      clear: both;\n",
              "  }\n",
              "</style>"
            ]
          },
          "metadata": {}
        },
        {
          "output_type": "display_data",
          "data": {
            "text/plain": [
              "from matplotlib import pyplot as plt\n",
              "_df_2.plot(kind='scatter', x='Age', y='Fare', s=32, alpha=.8)\n",
              "plt.gca().spines[['top', 'right',]].set_visible(False)"
            ],
            "text/html": [
              "      <div class=\"colab-quickchart-chart-with-code\" id=\"chart-06471999-69e2-438c-bf45-ee40abe3434c\">\n",
              "        <img style=\"width: 180px;\" src=\"data:image/png;base64,iVBORw0KGgoAAAANSUhEUgAAAi4AAAGkCAYAAAAWia78AAAAOXRFWHRTb2Z0d2FyZQBNYXRwbG90\n",
              "bGliIHZlcnNpb24zLjcuMSwgaHR0cHM6Ly9tYXRwbG90bGliLm9yZy/bCgiHAAAACXBIWXMAAA9h\n",
              "AAAPYQGoP6dpAAAgEklEQVR4nO3de2xUZf7H8c90TpkipRXBClraLrb1VqAUWgoKaAyKLlFXJK5Y\n",
              "oLu4BTZeCCZbSTRmE0LX/ZluXPYPL4tdoUJgF2Q33tZrgL1waeSysK60bIfOYqGIUFqkw8z0+f1B\n",
              "nFgshWqnp8/wfiWTtOe0ne+T05K3Z45nPMYYIwAAAAskuD0AAADAxSJcAACANQgXAABgDcIFAABY\n",
              "g3ABAADWIFwAAIA1CBcAAGANwgUAAFgj7sLlhRdecHsEAAAQI3EXLgcPHnR7BAAAECNxFy4AACB+\n",
              "ES4AAMAahAsAALAG4QIAAKxBuAAAAGsQLgAAwBqECwAAsAbhAgAArEG4AAAAaxAuAADAGoQLAAC4\n",
              "KG2hiL5oDaotFHFtBse1ZwYAAFY42hJU9Va/3t17RKdDEfVP9OquvKEqmZCpIcm+Xp2FMy4AAOC8\n",
              "jrYE9dianXp9W4NOBcNyEjw6FQyrettBPbp6p75oDfbqPIQLAAA4r+qtftU1tejKZJ8GDeinAT5H\n",
              "gwb005XJPtU1taj6nwd7dR7CBQAAdKotFNG7e48oyfHK8XZMBsebIJ/j1Tv7DvfqNS+ECwAA6FRr\n",
              "MKzToYj6OZ3ngs9J0OkzEbUGw702E+ECAAA6lexz1D/RqzPh9k73B8Pt6t/Pq2Rf7/2/PoQLAADo\n",
              "VFKiV9PyrlJbOKJwpGO8hCPtCoYjuuumoUpK9PbaTPzv0AAA4LxmT8jStvrjqmtqkc/xyuckKBg+\n",
              "Gy05aQNVMiGzV+fhjAsAADivIck+/W7WGJWMz1RykqNwu1FykqOS8ZlaPmtMr9/HJaZnXLKysuTz\n",
              "+dS/f39J0pIlS/Tggw+qtrZWc+fO1RdffKHU1FT94Q9/0E033SRJXe4DAAC9b0iyT4um5mrBrdeq\n",
              "NRhWss/p1ZeHvinmZ1zWrl2rXbt2adeuXXrwwQclSfPnz1dZWZn279+v8vJylZaWRr++q30AAMA9\n",
              "SYleDUn2uRYtkgsvFTU1NammpkYlJSWSpBkzZigQCKiurq7LfZ0JBoM6efJkh0ck4t77JwAAgNiK\n",
              "ebjMmTNHI0eO1Lx583T06FEFAgENGzZMjnP2VSqPx6OMjAw1NDR0ua8zFRUVSk1N7fDYvn17rJcE\n",
              "AABcEtNw2bx5s/bs2aNPPvlEQ4YM0dy5c3v05y9ZskTNzc0dHkVFRT36HAAAoO+I6cW5GRkZkqTE\n",
              "xEQtWrRIubm5Gj58uBobGxUOh+U4jowxamhoUEZGhlJSUs67rzM+n08+X8ermb1e9153AwAAsRWz\n",
              "My6nTp3SiRMnop+vWbNGY8aMUVpamgoKClRdXS1JWr9+vdLT05Wdnd3lPgAAgJidcTly5IhmzJih\n",
              "SCQiY4xGjBihlStXSpJeeukllZaWatmyZUpJSVFVVVX0+7raBwAALm0eY4xxe4ietHjxYlVWVro9\n",
              "BgAAiAHunAsAAKxBuAAAAGsQLgAAwBqECwAAsAbhAgAArEG4AAAAaxAuAADAGoQLAACwBuECAACs\n",
              "QbgAAABrEC4AAMAahAsAALAG4QIAAKxBuAAAAGsQLgAAwBqECwAAsAbhAgAArEG4AAAAaxAuAADA\n",
              "GoQLAACwBuECAACsQbgAAABrEC4AAMAahAsAALAG4QIAAKxBuAAAAGsQLgAAwBqECwAAsAbhAgAA\n",
              "rEG4AAAAaxAuAADAGoQLAACwBuECAACsQbgAAABrEC4AAMAahAsAALAG4QIAAKxBuAAAAGsQLgAA\n",
              "wBqECwAAsAbhAgAArEG4AAAAaxAuAADAGoQLAACwBuECAACsQbgAAABrEC4AAMAahAsAALAG4QIA\n",
              "AKxBuAAAAGsQLgAAwBqECwAAsAbhAgAArEG4AAAAaxAuAADAGoQLAACwRq+ES1VVlTwejzZu3ChJ\n",
              "ampq0rRp05STk6O8vDxt3rw5+rVd7QMAAJe2mIeL3+/XK6+8ouLi4ui2p556SsXFxaqtrVVVVZVm\n",
              "zZqlUCh0wX0AAODSFtNwaW9v1yOPPKLly5fL5/NFt69bt04LFiyQJBUWFurqq6/Wpk2bLrgPAABc\n",
              "2pxY/vDKykrdfPPNGjt2bHTbsWPHFAqFNHTo0Oi2rKwsNTQ0dLmvM8FgUMFgsMO2SCTSw6sAAAB9\n",
              "RczOuOzdu1fr16/X008/HaunUEVFhVJTUzs8tm/fHrPnAwAA7opZuGzZskV+v185OTnKysrS1q1b\n",
              "VVZWpnXr1slxHB0+fDj6tX6/XxkZGRo8ePB593VmyZIlam5u7vAoKiqK1ZIAAIDLYhYuCxcuVGNj\n",
              "o/x+v/x+v4qLi/Xyyy9r4cKFmjlzpl588UVJ0o4dO3To0CFNmTJFkrrcdy6fz6eUlJQOD6/XG6sl\n",
              "AQAAl8X0Gpfzee655zR79mzl5OSoX79+qq6uVmJi4gX3AQCAS5vHGGPcHqInLV68WJWVlW6PAQAA\n",
              "YoA75wIAAGsQLgAAwBqECwAAsAbhAgAArEG4AAAAaxAuAADAGoQLAACwBuECAACsQbgAAABrEC4A\n",
              "AMAahAsAALAG4QIAAKxBuAAAAGsQLgAAwBqECwAAsAbhAgAArEG4AAAAaxAuAADAGoQLAACwBuEC\n",
              "AACsQbgAAABrEC4AAMAahAsAALAG4QIAAKxBuAAAAGsQLgAAwBqECwAAsAbhAgAArEG4AAAAaxAu\n",
              "AADAGoQLAACwBuECAACsQbgAAABrEC4AAMAahAsAALAG4QIAAKxBuAAAAGsQLgAAwBqECwAAsAbh\n",
              "AgAArEG4AAAAaxAuAADAGoQLAACwBuECAACsQbgAAABrEC4AAMAahAsAALAG4QIAAKxBuAAAAGsQ\n",
              "LgAAwBqECwAAsAbhAgAArEG4AAAAaxAuAADAGoQLAACwBuECAACsQbgAAABrxDRc7rjjDo0aNUr5\n",
              "+fmaNGmSdu7cKUmqra3VxIkTlZubq8LCQu3bty/6PV3tAwAAl7aYhsu6deu0Z88e7dq1S4sXL1Zp\n",
              "aakkaf78+SorK9P+/ftVXl4e3X6hfQAA4NIW03C5/PLLox83NzfL4/GoqalJNTU1KikpkSTNmDFD\n",
              "gUBAdXV1Xe7rTDAY1MmTJzs8IpFILJcEAABc5MT6CebMmaOPP/5YkvT2228rEAho2LBhcpyzT+3x\n",
              "eJSRkaGGhgalpqaed192dva3fnZFRYV++ctfdthWXFwc4xUBAAC3xPzi3JUrVyoQCGjp0qUqLy/v\n",
              "0Z+9ZMkSNTc3d3gUFRX16HMAAIC+I+ZnXL42d+5cLViwQOnp6WpsbFQ4HJbjODLGqKGhQRkZGUpJ\n",
              "STnvvs74fD75fL4O27xeb28sBwAAuCBmZ1xOnDihzz//PPr5xo0bNXjwYKWlpamgoEDV1dWSpPXr\n",
              "1ys9PV3Z2dld7gMAAIjZGZfm5mbNnDlTp0+fVkJCgq688kq9+eab8ng8eumll1RaWqply5YpJSVF\n",
              "VVVV0e/rah8AALi0eYwxxu0hetLixYtVWVnp9hgAACAGuHMuAACwBuECAACsQbgAAABrEC4AAMAa\n",
              "hAsAALAG4QIAAKxBuAAAAGsQLgAAwBqECwAAsAbhAgAArEG4AAAAaxAuAADAGoQLAACwBuECAACs\n",
              "QbgAAABrEC4AAMAa3Q6XQCCg6dOnKz8/X5K0a9cu/eY3v+npuQAAAL6l2+Eyf/58/fjHP5YxRpKU\n",
              "l5enV199tccHAwAAOFe3w6WpqUklJSVKSDj7rY7jyHGcHh8MAADgXN0OF8dxomdbJOn48eMdPgcA\n",
              "AIiVbofLzJkzNX/+fJ08eVK///3vNXXqVD3yyCOxmA0AAKCDbr/G8+STT2rNmjVqbm7We++9p8WL\n",
              "F2vWrFmxmA0AAKCDboVLJBLRnXfeqQ8++EAPPfRQrGYCAADoVLdeKvJ6vfrqq6/U3t4eq3kAAADO\n",
              "q9svFRUWFmr69OkqKSlRcnJydPs999zTo4MBAACcq9vhsmfPHknSK6+8Et3m8XgIFwAAEHPdDpeP\n",
              "P/44FnMAAABc0He6c1woFFJ9fb3a2tqi20aNGtVjQwEAAHSm2+Hy5ptv6mc/+5mOHz+uAQMG6Pjx\n",
              "48rMzFR9fX0s5gMAAIjq9g3onnnmGW3dulU33HCDjh07ppUrV+qBBx6IxWwAAAAddDtcEhISlJmZ\n",
              "qXA4LEkqKSnRRx991OODAQAAnKvbLxUlJiZKktLT0/XGG28oKytLx48f7/HBAAAAznXRZ1zKysok\n",
              "SU888YTeeOMNLV26VL/4xS90xx13aOnSpTEbEAAA4GsXfcalpqZGkvTQQw+poKBAn3zyiWpra2M2\n",
              "GAAAwLm6fY2LJBljenoOAACAC7roMy6nT5/Wv/71Lxlj1NbWFv34a9zHBQAAxFq3wuWbt/X/5sce\n",
              "j0f//e9/e3YyAACAc1x0uPj9/hiOAQAAcGHf6RoXAAAANxAuAADAGoQLAACwBuECAACsQbgAAABr\n",
              "EC4AAMAahAsAALAG4QIAAKxBuAAAAGsQLgAAwBqECwAAsAbhAgAArEG4AAAAaxAuAADAGoQLAACw\n",
              "BuECAACsQbgAAABrEC4AAMAahAsAALBGzMKlra1N9913n3JzczV69GhNnTpVdXV1kqSmpiZNmzZN\n",
              "OTk5ysvL0+bNm6Pf19U+AABwaYvpGZeysjJ99tln2r17t+6991498sgjkqSnnnpKxcXFqq2tVVVV\n",
              "lWbNmqVQKHTBfQAA4NIWs3BJSkrS3XffLY/HI0kqLi6W3++XJK1bt04LFiyQJBUWFurqq6/Wpk2b\n",
              "LrjvXMFgUCdPnuzwiEQisVoSAABwWa9d4/LCCy/o3nvv1bFjxxQKhTR06NDovqysLDU0NHS5rzMV\n",
              "FRVKTU3t8Ni+fXvM1wIAANzRK+GybNky1dXVqaKiokd/7pIlS9Tc3NzhUVRU1KPPAQAA+g4n1k/w\n",
              "/PPPa8OGDfrggw902WWX6bLLLpPjODp8+HD0zIrf71dGRoYGDx583n2d8fl88vl8HbZ5vd7YLggA\n",
              "ALgmpmdcKisrtWbNGr3//vu6/PLLo9tnzpypF198UZK0Y8cOHTp0SFOmTLngPgAAcGmL2RmX//3v\n",
              "f3ryySc1YsQI3XbbbZLOniHZtm2bnnvuOc2ePVs5OTnq16+fqqurlZiYKEld7gMAAJe2mIVLenq6\n",
              "jDGd7rvqqqv03nvvdXsfAAC4tHHnXAAAYA3CBQAAWINwAQAA1iBcAACANQgXAABgDcIFAABYg3AB\n",
              "AADWIFwAAIA1CBcAAGANwgUAAFiDcAEAANYgXAAAgDUIFwAAYA3CBQAAWINwAQAA1iBcAACANQgX\n",
              "AABgDcIFAABYg3ABAADWIFwAAIA1CBcAAGANwgUAAFiDcAEAANYgXAAAgDUIFwAAYA3CBQAAWINw\n",
              "AQAA1iBcAACANQgXAABgDcIFAABYg3ABAADWIFwAAIA1CBcAAGANwgUAAFiDcAEAANYgXAAAgDUI\n",
              "FwAAYA3CBQAAWINwAQAA1iBcAACANQgXAABgDcIFAABYg3ABAADWIFwAAIA1CBcAAGANwgUAAFiD\n",
              "cAEAANYgXAAAgDUIFwAAYA3CBQAAWINwAQAA1iBcAACANQgXAABgDcIFAABYg3ABAADWIFwAAIA1\n",
              "Yhoujz/+uLKysuTxeLRr167o9traWk2cOFG5ubkqLCzUvn37LmofAAC4tMU0XB544AH97W9/U2Zm\n",
              "Zoft8+fPV1lZmfbv36/y8nKVlpZe1D4AAHBpi2m4TJ48Wenp6R22NTU1qaamRiUlJZKkGTNmKBAI\n",
              "qK6urst9AAAATm8/YSAQ0LBhw+Q4Z5/a4/EoIyNDDQ0NSk1NPe++7Ozsb/2sYDCoYDDYYVskEon9\n",
              "IgAAgCusvji3oqJCqampHR7bt293eywAABAjvR4uw4cPV2Njo8LhsCTJGKOGhgZlZGR0ua8zS5Ys\n",
              "UXNzc4dHUVFRr60FAAD0rl4Pl7S0NBUUFKi6ulqStH79eqWnpys7O7vLfZ3x+XxKSUnp8PB6vb22\n",
              "FgAA0Ls8xhgTqx8+f/58vfXWWzp8+LAGDx6sgQMHqq6uTp999plKS0t17NgxpaSkqKqqSiNHjpSk\n",
              "LvddjMWLF6uysjJWSwIAAC6Kabi4gXABACB+WX1xLgAAuLQQLgAAwBqECwAAsAbhAgAArEG4AAAA\n",
              "axAuAADAGoQLAACwBuECAACsQbgAAABrEC4AAMAahAsAALAG4QIAAKxBuAAAAGsQLgAAwBqECwAA\n",
              "sAbhAgAArEG4AAAAaxAuAADAGoQLAACwBuECAACsQbgAAABrEC4AAMAahAt6RVsooi9ag2oLRdwe\n",
              "BQBgMcftARDfjrYEVb3Vr3f3HtHpUET9E726K2+oSiZkakiyz+3xAACW4YwLYuZoS1CPrdmp17c1\n",
              "6FQwLCfBo1PBsKq3HdSjq3fqi9ag2yMCACxDuCBmqrf6VdfUoiuTfRo0oJ8G+BwNGtBPVyb7VNfU\n",
              "oup/HnR7RACAZQgXxERbKKJ39x5RkuOV4+34a+Z4E+RzvHpn32GueQEAdAvhgphoDYZ1OhRRP6fz\n",
              "XzGfk6DTZyJqDYZ7eTIAgM0IF8REss9R/0SvzoTbO90fDLerfz+vkn1cHw4AuHiEC2IiKdGraXlX\n",
              "qS0cUTjSMV7CkXYFwxHdddNQJSV6XZoQAGAj/nMXMTN7Qpa21R9XXVOLfI5XPidBwfDZaMlJG6iS\n",
              "CZlujwgAsAxnXBAzQ5J9+t2sMSoZn6nkJEfhdqPkJEcl4zO1fNYY7uMCAOg2zrggpoYk+7Roaq4W\n",
              "3HqtWoNhJfscXh4CAHxnhAt6RVKil2ABAHxvvFQEAACsQbgAAABrEC4AAMAahAsAALAG4QIAAKxB\n",
              "uAAAAGsQLgAAwBqECwAAsAbhAgAArEG4AAAAaxAuAADAGoQLAACwBuEC9EFtoYi+aA2qLRRxexQA\n",
              "6FN4d2igDznaElT1Vr/e3XtEp0MR9U/06q68oSqZkKkhyT63xwMA13HGBegjjrYE9dianXp9W4NO\n",
              "BcNyEjw6FQyrettBPbp6p75oDbo9IgC4jnAB+ojqrX7VNbXoymSfBg3opwE+R4MG9NOVyT7VNbWo\n",
              "+p8H3R4RAFxHuAB9QFsoonf3HlGS45Xj7fhn6XgT5HO8emffYa55AXDJI1yAPqA1GNbpUET9nM7/\n",
              "JH1Ogk6fiag1GO7lyQCgbyFcgD4g2eeof6JXZ8Ltne4PhtvVv59XyT6upwdwaSNcgD4gKdGraXlX\n",
              "qS0cUTjSMV7CkXYFwxHdddNQJSV6XZoQAPoG/vMN6CNmT8jStvrjqmtqkc/xyuckKBg+Gy05aQNV\n",
              "MiHT7REBwHWccblI3BAMsTYk2affzRqjkvGZSk5yFG43Sk5yVDI+U8tnjeE+LgAgzrhcEDcEQ28a\n",
              "kuzToqm5WnDrtWoNhpXsc3h5CAC+oU+ecamtrdXEiROVm5urwsJC7du3z5U5uCEY3JKU6NWQZB/R\n",
              "AgDn6JPhMn/+fJWVlWn//v0qLy9XaWmpK3NwQzAAAPqWPhcuTU1NqqmpUUlJiSRpxowZCgQCqqur\n",
              "+9bXBoNBnTx5ssMjEumZa1C4IRgAAH1PnwuXQCCgYcOGyXHOXn7j8XiUkZGhhoaGb31tRUWFUlNT\n",
              "Ozy2b9/eI3NwQzAAAPqePhcu3bFkyRI1Nzd3eBQVFfXIz+aGYAAA9D19LlyGDx+uxsZGhcNnz2QY\n",
              "Y9TQ0KCMjIxvfa3P51NKSkqHh9fbMxczckMwAAD6nj4XLmlpaSooKFB1dbUkaf369UpPT1d2dnav\n",
              "zzJ7Qpay0wbqaGtQX546o1PBsL48dUZHW4PcEAwAABf0ydc5XnrpJZWWlmrZsmVKSUlRVVWVK3N8\n",
              "fUOw6n8e1Dv7Duv0mYiSkxzNvCmd+7gAAOACjzHGuD1ET1q8eLEqKyt7/Oe2hSLcEAwAAJf1yTMu\n",
              "fVFSopdgAQDAZX3uGhcAAIDzIVwAAIA1CBcAAGANwgUAAFiDcAEAANYgXAAAgDUIFwAAYA3CBQAA\n",
              "WINwAQAA1iBcAACANeLuvYruv/9+ZWVl9cjPikQi2r59u4qKiuT1xuft/lmj/eJ9fRJrjAfxvj6J\n",
              "NX5fmZmZeuKJJy74dXEXLj3p5MmTSk1NVXNzs1JSUtweJyZYo/3ifX0Sa4wH8b4+iTX2Fl4qAgAA\n",
              "1iBcAACANQgXAABgDcKlCz6fT88++6x8Pp/bo8QMa7RfvK9PYo3xIN7XJ7HG3sLFuQAAwBqccQEA\n",
              "ANYgXAAAgDUIFwAAYA3CpQu1tbWaOHGicnNzVVhYqH379rk90vfy+OOPKysrSx6PR7t27Ypuj6d1\n",
              "trW16b777lNubq5Gjx6tqVOnqq6uTpLU1NSkadOmKScnR3l5edq8ebPL0343d9xxh0aNGqX8/HxN\n",
              "mjRJO3fulBRfx/FrVVVV8ng82rhxo6T4OYaSlJWVpeuuu075+fnKz8/X2rVrJcXPcQwGg3r00UeV\n",
              "k5OjkSNHqqSkRFL8rO/YsWPRY5efn6/c3Fw5jqMvv/wybn5P3377bRUUFCg/P195eXl67bXXJPWB\n",
              "v0OD87rttttMVVWVMcaYP/7xj2bcuHHuDvQ9bdq0yQQCAZOZmWl27twZ3R5P6zx9+rR56623THt7\n",
              "uzHGmOXLl5spU6YYY4z5yU9+Yp599lljjDHbt28311xzjTlz5oxLk353x48fj368YcMGM2rUKGNM\n",
              "fB1HY4ypr683EyZMMMXFxeaNN94wxsTPMTTGfOvv8GvxchwXLVpkHn300ejfYmNjozEmftZ3rv/7\n",
              "v/8z06dPN8bEx+9pe3u7GTRokNm9e7cx5uzfo8/nMydPnnR9fYTLeRw5csQMHDjQhEIhY8zZg3jV\n",
              "VVeZ2tpalyf7/r75D2Y8r9MYY3bs2GEyMzONMcYMGDAg+o+nMcYUFhaa999/36XJekZVVZUZPXp0\n",
              "3B3HSCRibr/9dlNTU2OmTJkSDZd4OoadhUu8HMfW1lYzcOBA09zc3GF7vKyvM9dff31c/Z62t7eb\n",
              "K664wmzatMkYY8zu3bvN1VdfbYLBoOvr46Wi8wgEAho2bJgcx5EkeTweZWRkqKGhweXJela8r/OF\n",
              "F17Qvffeq2PHjikUCmno0KHRfVlZWdauc86cORo+fLieeeYZrVq1Ku6OY2VlpW6++WaNHTs2ui3e\n",
              "jqF09jiOHDlS8+bN09GjR+PmOB44cEBXXHGFli1bpnHjxmnSpEn68MMP42Z95/rHP/6h48ePa/r0\n",
              "6XHze+rxeLR27Vrdf//9yszM1C233KLXXntNLS0trq+PcEHcWrZsmerq6lRRUeH2KD1u5cqVCgQC\n",
              "Wrp0qcrLy90ep0ft3btX69ev19NPP+32KDG1efNm7dmzR5988omGDBmiuXPnuj1SjwmHwzp48KBu\n",
              "vPFG1dTU6Le//a0efPBBhcNht0eLiRUrVmjOnDnRIIsH4XBYS5cu1YYNG3Tw4EF9+OGHmj17dp84\n",
              "hoTLeQwfPlyNjY3Rg2SMUUNDgzIyMlyerGfF6zqff/55bdiwQe+8844uu+wyDR48WI7j6PDhw9Gv\n",
              "8fv91q9z7ty5+vjjj5Wenh43x3HLli3y+/3KyclRVlaWtm7dqrKyMq1bty6ujuHXcycmJmrRokXa\n",
              "smVL3Pw9ZmRkKCEhQQ8//LAkacyYMfrBD36ggwcPxsX6vqm1tVXr1q3TT3/6U0mKm39rdu3apc8/\n",
              "/1yTJ0+WJBUWFio9PV179uxxfX2Ey3mkpaWpoKBA1dXVkqT169crPT1d2dnZLk/Ws+JxnZWVlVqz\n",
              "Zo3ef/99XX755dHtM2fO1IsvvihJ2rFjhw4dOqQpU6a4NOV3c+LECX3++efRzzdu3KjBgwfH1XFc\n",
              "uHChGhsb5ff75ff7VVxcrJdfflkLFy6Mi2MoSadOndKJEyein69Zs0ZjxoyJm+M4ZMgQ3X777frr\n",
              "X/8qSaqvr1d9fb1uvvnmuFjfN61du1ajR4/W9ddfH90WD7+nX0f0p59+Kkmqq6vTgQMHdN1117m/\n",
              "vl67msZC//nPf0xxcbHJyckxY8eONXv27HF7pO+lrKzMXHPNNcbr9Zq0tDRz7bXXGmPia52BQMBI\n",
              "MiNGjDCjR482o0ePNkVFRcYYYw4fPmymTp1qsrOzzY033mg++ugjl6ftPr/fbwoLC01eXp4ZNWqU\n",
              "uf3226MXeMbTcfymb16cGw/H0BhjDhw4YPLz883IkSNNXl6eueeee0x9fb0xJn6O44EDB8ytt94a\n",
              "/V3905/+ZIyJn/V9bcKECebVV1/tsC1efk9Xr14dPX55eXnm9ddfN8a4vz7eqwgAAFiDl4oAAIA1\n",
              "CBcAAGANwgUAAFiDcAHQZ7S0tCg5OVnz5s1zexQAfRThAqDPWLt2rcaOHasNGzaotbXV7XEA9EGE\n",
              "C4A+Y8WKFSovL9fkyZOj75YcCoX085//XLm5uSouLtaTTz6pW2+9Nfo9q1at0vjx41VQUKDJkydr\n",
              "9+7dLk0PoDfEz/2JAVjt3//+twKBgO68806Fw2H96le/0rx58/Tyyy+rtrZW+/btkyTdfffd0e/5\n",
              "+9//rjVr1mjz5s3y+XzasmWLZs2aFf1aAPGHMy4A+oSv3+/F6/Xq7rvvVn19vT799FN9+OGHKikp\n",
              "UWJiohITEzu8p8+f//xn7d69W+PHj1d+fr4ee+wxffnllzp9+rSLKwEQS5xxAeC6UCikVatWKTEx\n",
              "UatXr5YkffXVV1qxYsW3vtbj8UQ/NsZo7ty5WrZsWa/NCsBdnHEB4Lq//OUvGjFihA4dOhR9j6Kt\n",
              "W7dq1apVuu2227R69WqFQiGFQiGtXLky+n333HOPqqur1dDQIElqb29XTU2NW8sA0As44wLAdStW\n",
              "rIi+k/DXbrjhBl1zzTVKS0tTVlaWbrzxRg0aNEjjxo2LvtHkpEmT9Otf/1o/+tGPFA6HdebMGf3w\n",
              "hz/UuHHj3FgGgF7AexUB6PNaWlo0cOBAhUIhPfzwwxo7dqzKy8vdHguACwgXAH3e+PHjFQwG1dbW\n",
              "pltuuUXLly9X//793R4LgAsIFwAAYA0uzgUAANYgXAAAgDUIFwAAYA3CBQAAWINwAQAA1iBcAACA\n",
              "NQgXAABgDcIFAABY4/8BjAHXlbYvjXYAAAAASUVORK5CYII=\n",
              "\">\n",
              "      </div>\n",
              "      <script type=\"text/javascript\">\n",
              "        (() => {\n",
              "          const chartElement = document.getElementById(\"chart-06471999-69e2-438c-bf45-ee40abe3434c\");\n",
              "          async function getCodeForChartHandler(event) {\n",
              "            const chartCodeResponse =  await google.colab.kernel.invokeFunction(\n",
              "                'getCodeForChart', [\"chart-06471999-69e2-438c-bf45-ee40abe3434c\"], {});\n",
              "            const responseJson = chartCodeResponse.data['application/json'];\n",
              "            await google.colab.notebook.addCell(responseJson.code, 'code');\n",
              "          }\n",
              "          chartElement.onclick = getCodeForChartHandler;\n",
              "        })();\n",
              "      </script>\n",
              "      <style>\n",
              "        .colab-quickchart-chart-with-code  {\n",
              "            display: block;\n",
              "            float: left;\n",
              "            border: 1px solid transparent;\n",
              "        }\n",
              "\n",
              "        .colab-quickchart-chart-with-code:hover {\n",
              "            cursor: pointer;\n",
              "            border: 1px solid #aaa;\n",
              "        }\n",
              "      </style>"
            ]
          },
          "metadata": {}
        },
        {
          "output_type": "display_data",
          "data": {
            "text/plain": [
              "<google.colab._quickchart_helpers.SectionTitle at 0x7acd3a735d80>"
            ],
            "text/html": [
              "<h4 class=\"colab-quickchart-section-title\">Values</h4>\n",
              "<style>\n",
              "  .colab-quickchart-section-title {\n",
              "      clear: both;\n",
              "  }\n",
              "</style>"
            ]
          },
          "metadata": {}
        },
        {
          "output_type": "display_data",
          "data": {
            "text/plain": [
              "from matplotlib import pyplot as plt\n",
              "_df_3['Age'].plot(kind='line', figsize=(8, 4), title='Age')\n",
              "plt.gca().spines[['top', 'right']].set_visible(False)"
            ],
            "text/html": [
              "      <div class=\"colab-quickchart-chart-with-code\" id=\"chart-cab80ab2-8068-400e-a896-474f366b82fb\">\n",
              "        <img style=\"width: 180px;\" src=\"data:image/png;base64,iVBORw0KGgoAAAANSUhEUgAAApcAAAFuCAYAAADUGTPdAAAAOXRFWHRTb2Z0d2FyZQBNYXRwbG90\n",
              "bGliIHZlcnNpb24zLjcuMSwgaHR0cHM6Ly9tYXRwbG90bGliLm9yZy/bCgiHAAAACXBIWXMAAA9h\n",
              "AAAPYQGoP6dpAABOX0lEQVR4nO3deXgUhf3H8fceyYbcJCEECCGEHByBcIaAIqWi4l0FBBUUL/Do\n",
              "4c9qlVartRbqRWtrFbAWDxQBUbRqPVBExYRwyH0lkJAQAiH3vUl25/dHaFosKoFNJsfn9TzzPDDZ\n",
              "nf3MPiH5MN+dGYthGAYiIiIiIh5gNTuAiIiIiHQcKpciIiIi4jEqlyIiIiLiMSqXIiIiIuIxKpci\n",
              "IiIi4jEqlyIiIiLiMSqXIiIiIuIxKpciIiIi4jEqlyIiIiLiMSqXIiIiIuIxKpciIs20ZMkSLBYL\n",
              "DzzwgNlRRETaHIvuLS4i0jyjRo0iKysLq9VKbm4uDofD7EgiIm2GjlyKiDTDxo0b2bRpE0uXLqWs\n",
              "rIyVK1c2fa2iooJZs2YRGhpKZGQkzzzzDJGRkbz00ktNj9m7dy+XXXYZ3bt3p1evXtx5551UVVWZ\n",
              "sCciIi1D5VJEpBmee+45hg4dyqRJk7jqqqt47rnnmr72i1/8gt27d7Njxw7279/Pjh07OHbsWNPX\n",
              "CwsLGTduHOeffz45OTls27aN/fv3c/fdd5uwJyIiLUNjcRGR01RSUkKvXr14+umnueOOO/jss884\n",
              "//zz2bp1K4mJifj6+vL2229zySWXAFBeXk7Xrl158cUXmTVrFgsWLGDlypWkpqY2bXP9+vX8+Mc/\n",
              "prq6GpvNZtauiYh4jI5cioicpn+fyHP99dcDMGHCBGJjY3nuuecoLCykrq6OPn36ND0+MDCQrl27\n",
              "Nv09IyODzZs3Exwc3LRccsklWCwWjh492ur7IyLSElQuRUROg2EYLFy4kLq6OuLj44mIiKBHjx4c\n",
              "PnyY1157DR8fH7y9vTl06FDTc8rLyykpKWn6e0REBOeeey6lpaVNS1lZGbW1tfTq1cuM3RIR8TiV\n",
              "SxGR0/DJJ5+QkZHBxx9/zNatW5uW7du3A/DKK69w3XXX8eijj5Kfn091dTX33XcfVut/fszedNNN\n",
              "fPPNNzz33HNUV1djGAa5ubmsXr3apL0SEfE8lUsRkdPw/PPPM3HiRCZMmEBERETTEhcXx6233srz\n",
              "zz/PM888Q3x8PIMGDSIuLo6BAwcSEhKCj48PAFFRUaSmpvLJJ5/Qr18/goODueiii9ixY4fJeyci\n",
              "4jk6oUdEpIWUlJQQGhrK+vXrGTNmjNlxRERahY5cioh4SE5ODuvWrcPlclFUVMSdd95JXFwco0aN\n",
              "MjuaiEirUbkUEfGQuro6fvaznxEcHExcXBylpaW8++672O12s6OJiLQajcVFRERExGN05FJERERE\n",
              "PEblUkREREQ8RuVSRERERDxG5VJEREREPKbNlMtnnnnG7AgiIiIicpbaTLn87/vxioiIiEj71GbK\n",
              "pYiIiIi0fyqXIiIiIuIxKpciIiIi4jEqlyIiIiLiMSqXIiIiIuIxKpciIiIi4jEqlyIiIiLiMSqX\n",
              "IiIiIuIxzS6XH3zwAcOHD2fo0KEkJiby8ssvA1BQUMCkSZOIi4sjMTGRL774wuNhRURERKRtszfn\n",
              "wYZhMGPGDD7//HOGDBlCdnY2/fv35+qrr+aBBx4gJSWFDz/8kI0bN3LVVVeRlZWFl5dXS2UXERER\n",
              "kTam2UcuLRYLpaWlAJSXlxMaGorD4WDFihXcfvvtAIwaNYqePXuybt06j4YVERERkbatWUcuLRYL\n",
              "y5cv5+qrr8bPz4+SkhLeeustKioqqK+vJyIioumx0dHR5OTknHI7TqcTp9N50jqXy3UG8UXk+9S7\n",
              "3Mz/YC+h/t7cMb4fVqvF7EgiItLBNevIZUNDA4899hhvvfUWhw4d4tNPP2XmzJk0NDQ060Xnz59P\n",
              "UFDQSUt6enqztiEiP+xvazP5x/osnvxoH79atR2X2zA7koiIdHDNKpdbt27lyJEjnHfeeUDj+Dsy\n",
              "MpLt27djt9s5evRo02Ozs7OJioo65Xbmzp1LWVnZSUtycvJZ7IaIfNvOvDKe/SwTAIsF3tx8mHtW\n",
              "bKXB5TY5mYiIdGTNKpe9e/cmPz+fPXv2AJCZmcmBAwdISEhg6tSpLFy4EICNGzeSl5fH+PHjT7kd\n",
              "h8NBYGDgSYvNZjvLXRGRf6trcHPvym00uA0uTozgueuGY7daeGfrEX7xxlbqVTBFRKSFNOszl927\n",
              "d2fx4sVcc801WK1W3G43zz77LFFRUTz++OPMnDmTuLg4vL29Wbp0qc4UFzHJXz/LYO/RCkL8vPn9\n",
              "TxIJ83fwvM3KXa9t4f0d+dS73Pz1umE47PpPnYiIeJbFMIw28SGse+65hwULFpgdQ6Td23G4jJ88\n",
              "tx6X2+Bv1w3n0iE9mr72+b4CZr+6mboGNxMSuvH8jBH4eKlgioiI5+gOPSIdiLPBxS9XbsXlNrhs\n",
              "SI+TiiXAjxLCWTJrFD5eVtbuO85tr2yipk5XahAREc9RuRTpQJ5Zk8H+Y5WE+Xvz6JWJp3zMObFh\n",
              "vHRTMr7eNr7MKOSml9Kpcjbvig8iIiLfReVSpIPYmlvKwnUHAHjsJ4MJ8fP+zsemxITy6i3J+Dvs\n",
              "pB0s5sZ/pFNRW99aUUVEpANTuRTpAGrrXdy7chtuA64c2pNJiRE/+JwRfUJYeutoAn3sbDpUwswX\n",
              "0ymrUcEUEZGzo3Ip0gH8ac1+Mgsq6Rbg4JHLB53284b2Dub121II9vVia24p1/89jZKquhZMKiIi\n",
              "HZ3KpUg7t/lQCS98cRCAeVcNpuv3jMNPJbFXEG/MTiHUz5udeeVc+0IaRZXOH36iiIjIKahcirRj\n",
              "tfUu7jsxDr96WC8uGNj9jLbTPyKQN2an0C3Awd6jFUxfnEZBRa2H04qISGegcinSjj398T4OFlYR\n",
              "HuDg4WaMw08lrnsAy2enEBHoQ0ZBJdMXpXG0TAVTRESaR+VSpJ3alF3M37/KAuCPkwcT5Hv2d8SK\n",
              "6ebPijlj6BXchYOFVUxbnEpeac1Zb1dERDoPlUuRdqimrvHscMOAqSMi+XH/MxuHn0pUqC/L56QQ\n",
              "FeLLoaJqrlmYSk5Rtce2LyIiHZvKpUg79MRHe8kuqiYi0IcHLxvo8e1HdvVlxZwxxIT5kVdaw7TF\n",
              "qWQVVnn8dUREpONRuRRpZzYcLGLJ+mzgxDi8y9mPw08lIsiHN2anEBfuT35ZLdcsSiWzoKJFXktE\n",
              "RDoOlUuRdqS6roH73twOwPRRvflRQniLvl54oA/LZqfQPyKA4xVOpi1KY+/R8hZ9TRERad9ULkXa\n",
              "kcf/tZec4mp6Bvnwm0sHtMprhvk7WHZbCom9AimqquPaxWnszCtrldcWEZH2R+VSpJ34+kAhL6ce\n",
              "AuCJKUkE+LTMOPxUuvp589qtKST1Dqakup7rXkhjW25pq72+iIi0HyqXIu1AlbOBX50Yh183Oopz\n",
              "48JaPUNQFy+W3pLMyD5dKa9tYMbfN7D5UHGr5xARkbZN5VKkHZj/rz0cLqmhV3AXfn1J64zDTyXA\n",
              "x4uXb04mJSaECmcDM19MZ8PBItPyiIhI26NyKdLGfZVRyNK0HACenDIEf4fd1Dx+DjtLZiUzLi6M\n",
              "6joXNy5JZ31moamZRESk7VC5FGnDKmrruX9V4zj8hjF9GBvb+uPwU+nibeOFG0YyIaEbtfVubn5p\n",
              "I5/vKzA7loiItAEqlyJt2LwP9pBXWkPvkC7cP6m/2XFO4uNlY+HMEVwwsDvOBjezX9nMmt3HzI4l\n",
              "IiImU7kUaaPW7T/OsvRcAJ6ckoSfyePwU3HYbTx3/XAuGRxBncvN7Us3868d+WbHEhERE6lcirRB\n",
              "5bX1PHBiHD5rbDQpMaEmJ/puXjYrf5k+jCuH9qTBbfDTZd/wztY8s2OJiIhJVC5F2qDH3ttNflkt\n",
              "0aG+/GpSgtlxfpDdZmXBNUOZMiISl9vg/5ZvZdXmw2bHEhERE6hcirQxa/cWsGLTYSwWeHJqEr7e\n",
              "bW8cfio2q4UnJg/h2uQo3Abc++Y2lm/MMTuWiIi0MpVLkTakrLqeB95qHIfffE5fRkWHmJyoeaxW\n",
              "C/OuSuTGMX0wDLh/1Q5eTc02O5aIiLQilUuRNuTR93ZzrNxJTJgf917Y9sfhp2KxWHjkikHcNq4v\n",
              "AA+9s4sXv8oyOZWIiLQWlUuRNmLN7mOs2nIY64lxeBdvm9mRzpjFYuHXlwzgzh/1A+D37+3m+c8P\n",
              "mJxKRERaQ7PKZVFREUOHDm1a4uPjsdvtFBcXU1BQwKRJk4iLiyMxMZEvvviipTKLdDil1XXMfXsH\n",
              "ALeNi2FEn64mJzp7FouF+y5K4O6JcQA8/uFe/vJphsmpRESkpTXrTIHQ0FC2bt3a9PennnqKdevW\n",
              "ERISws0330xKSgoffvghGzdu5KqrriIrKwsvLy9PZxbpcB55dxfHK5z06+bH/10Qb3Ycj7FYLNw9\n",
              "MR4vm5UnP9rHgk/2U9fg5pcXxmOxWMyOJyIiLeCsTkN98cUXmT9/PgArVqwgMzMTgFGjRtGzZ0/W\n",
              "rVvHxIkT/+d5TqcTp9N50jqXy3U2UUTarY92HWX11iNYLfDU1CR8vNrvOPy73DUhFofdymPv7+HZ\n",
              "tZnUudzMvbi/CqaISAd0xp+5/PrrrykpKeGyyy6jqKiI+vp6IiIimr4eHR1NTs6pL0Myf/58goKC\n",
              "TlrS09PPNIpIu1VcVcdvTozD54zvx7Co9j8O/y63jovhd1cMAmDxFwf53T93YxiGyalERMTTzrhc\n",
              "vvjii9xwww3Y7c0/+Dl37lzKyspOWpKTk880iki79fC7uyisrCO+u3/TZxM7shvHRjPvqsFYLPDS\n",
              "19k8uHonbrcKpohIR3JGY/HKykpWrFjBxo0bgcbPYtrtdo4ePdp09DI7O5uoqKhTPt/hcOBwOE5a\n",
              "Z7N1vFGgyPf5YEc+/9x2BJvVwlNTk3DYO8e/getGR+Fls/CrVdt5bUMO9S43868egs2qEbmISEdw\n",
              "Rkculy9fTlJSEv37929aN3XqVBYuXAjAxo0bycvLY/z48Z5JKdLBFFU6eWj1TgDuGN+PIZHB5gZq\n",
              "ZVNH9ubP04Zis1pYsekw967cRoPLbXYsERHxgDM6cvniiy9y2223nbTu8ccfZ+bMmcTFxeHt7c3S\n",
              "pUt1prjId/jtO7soqqqjf0QAPzs/1uw4prhyaC+8bFZ+vuwb3v4mjzqXmz9PG4qXTZffFRFpz86o\n",
              "XH799df/s6579+58/PHHZx1IpKN7b/sR3t+Rj72TjcNP5ZLBPbBbLdz1+hbe355Pg8vNX68djrdd\n",
              "BVNEpL3ST3CRVnS84j/j8LsmxJLYK8jkROa7cFAEi2eOxNtu5aNdx7h96WZq63VpMhGR9krlUqSV\n",
              "GIbBg6t3UFJdz4Aegdw1oXOOw09lQv9wXrxxJD5eVj7bW8Btr2yipk4FU0SkPVK5FGkl7247wke7\n",
              "jmG3Wnh6apJGv98yLq4bS2Yl4+tt48uMQm5+aSPVdQ1mxxIRkWbSbzeRVlBQXstv39kFwM/Pj2Ng\n",
              "z0CTE7VNY/qF8srNyfg77KQeLOLGf6RT6VTBFBFpT1QuRVqYYRj8+u0dlNXUk9grkDt+1M/sSG3a\n",
              "yOgQXr0lmQAfOxuzS5j54gbKaurNjiUiIqdJ5VKkhb39TR5r9hTgZbPw9FRdaud0DIvqyrLbUgj2\n",
              "9eKbnFJm/H0DpdV1ZscSEZHToN9yIi3oWHktj7zbOA6/e2I8CREBJidqPxJ7BbHsthRC/bzZkVfG\n",
              "tS9soKjSaXYsERH5ASqXIi3EMAzmvrWD8toGhkQGMee8GLMjtTsDegTyxuwUwvwd7Mkv59oX0iio\n",
              "qDU7loiIfA+VS5EW8ubmw3y2twBvm5WnpyZh1zj8jMR1D2D5nBS6BzrYf6yS6YvTOFqmgiki0lbp\n",
              "t51IC8gvq+HRf+4G4J4L44nrrnH42ejXzZ8Vc8bQK7gLB49XMW1xKnmlNWbHEhGRU1C5FPEwwzC4\n",
              "f9UOKpwNDO0dzG3jNA73hD6hfiyfk0LvkC4cKqpm2qJUcourzY4lIiLfonIp4mHLN+byxf7jeNut\n",
              "PDU1CZvVYnakDiOyqy8r5oyhb5gfh0tquGZRKlmFVWbHEhGR/6JyKeJBeaU1PPb+HgDuuzCB2HB/\n",
              "kxN1PD2CurB8dgqx4f7kl9UybVEqmQWVZscSEZETVC5FPMQwDO5/czuVzgZG9OnKzef2NTtShxUe\n",
              "6MMbs1PoHxFAQYWT6YtT2Xe0wuxYIiKCyqWIx7yensNXmYX4eFl5csoQjcNbWJi/g2W3pTCoZyCF\n",
              "lXVMX5zKriNlZscSEen0VC5FPCC3uJp5/x6HX9SfmG4ah7eGrn7evH5rCkmRQZRU13PdCxvYfrjU\n",
              "7FgiIp2ayqXIWXK7De5ftZ2qOhfJ0SHcNDba7EidSpCvF6/eOpoRfbpSVlPP9S9sYPOhErNjiYh0\n",
              "WiqXImfptQ2H+PpAEV28bDwxZQhWjcNbXaCPFy/fnExy3xAqnA3c8OIGNhwsMjuWiEinpHIpchZy\n",
              "iqqZ98FeAB64uD/RYX4mJ+q8/B12XrppFOfEhlJV52LWko2szyw0O5aISKejcilyhtxug3vf3EZN\n",
              "vYuUmBBmpvQxO1Kn5+tt58UbRzE+vhs19S5ufmkj6/YfNzuWiEinonIpcoZeTs0mPasYX28bT0xO\n",
              "0ji8jfDxsrH4hhFMHNAdZ4Ob217exKd7jpkdS0Sk01C5FDkD2YVVPP5h4zh87iUDiAr1NTmR/DeH\n",
              "3cZz1w/n4sQI6lxubl+6mQ93HjU7lohIp6ByKdJMLrfBvSu3UVvv5pzYUK5PjjI7kpyCt93KX68d\n",
              "xhVJPal3Gdz1+hb+ue2I2bFERDo8lUuRZlqyPotNh0rw87bx+GSdHd6W2W1W/jRtKFcP74XLbfCL\n",
              "N77hrS2HzY4lItKhqVyKNMOB45U8+dE+AH5z6UAiu2oc3tbZrBaempLE9FG9cRvwy5XbWLEx1+xY\n",
              "IiIdlsqlyGlyuQ3uW7kNZ4ObcXFhXJvc2+xIcpqsVgvzrhrMzJQ+GAb8atV2Xk07ZHYsEZEOqdnl\n",
              "0ul08tOf/pS4uDgGDx7MjBkzAMjIyGDs2LHEx8czatQodu3a5fGwImZ68auDbMkpJcBh5/HJQ7BY\n",
              "NA5vT6xWC49eOYhbzu0LwEOrd/KPr7JMTiUi0vHYm/uEBx54AIvFwv79+7FYLBw92ngG5pw5c5g9\n",
              "ezazZs3izTffZNasWWzcuNHjgUXMkFlQwVMf7wfgocsG0jO4i8mJ5ExYLBYevHQA3nYrz39+gEff\n",
              "2914Nvn4fmZHExHpMCyGYRin++Cqqip69OjB4cOHCQwMbFpfUFBAbGwsxcXF2O12DMOgR48efPXV\n",
              "V8TGxp7Wtu+55x4WLFjQ/D0QaWENLjeTF6ayLbeUHyV0Y8msUTpq2c4ZhsGf12TwzKcZANxzQTw/\n",
              "Pz/O5FQiIh1Ds8biBw4cICQkhHnz5jFy5EjGjRvHp59+Sm5uLj169MBubzwQarFYiIqKIicn55Tb\n",
              "cTqdlJeXn7S4XK6z3xuRFrD4y4Nsyy0lwMfO/KsHq1h2ABaLhf+7IJ77LkoAYMEn+3n643004//a\n",
              "IiLyHZpVLhsaGjh06BADBw5k06ZN/OUvf2HatGk0NDQ060Xnz59PUFDQSUt6enqztiHSGvYfq+DP\n",
              "nzQe3Xr48kH0CNI4vCO5a0Isv7lkAAB//SyTP364VwVTROQsNatcRkVFYbVauf766wEYNmwYffv2\n",
              "5dChQ+Tn5zeVTMMwyMnJISrq1BeXnjt3LmVlZSctycnJZ7krIp5V73LzyxXbqHO5Ob9/OJOH9zI7\n",
              "krSA286L4ZHLBwKwaN1BHn1vtwqmiMhZaFa5DAsL4/zzz+ejjz4CICsri6ysLM455xyGDx/O0qVL\n",
              "AVi1ahWRkZHf+XlLh8NBYGDgSYvNZjvLXRHxrEXrDrAjr4ygLl7M0zi8Q5t1Tl/+cFUiAEvWZ/PQ\n",
              "Oztxu1UwRUTORLPPFl+4cCG33HIL999/P1arlUWLFtGrVy8WLVrErFmzmDdvHoGBgSxZsqQl8oq0\n",
              "ij355U0nezxyxUC6B/qYnEha2vWj++Bls3L/qu0sTcuhvsFg3tWDsekOTCIizdLschkTE8PatWv/\n",
              "Z31CQgKpqakeCSVipnqXm3tXbqPeZXDBwO78ZKjG4Z3FNSN742Wz8MsV21i+KZd6l5snpgzBbtP9\n",
              "JkRETpd+Yop8y3NrD7DrSDnBvl784apEjcM7mauGRfKXa4dhs1p465s87l6+lXqX2+xYIiLthsql\n",
              "yH/ZdaSMv37WOA5/9MpEwgM0Du+MLhvSk+euH46XzcJ72/P56etbqGtQwRQROR0qlyIn1DU0nh3e\n",
              "4DaYNCiCy4f0MDuSmOiiQREsmjkCb7uVj3Yd446lm3E26Hq8IiI/ROVS5IRnP8tg79EKQvy8eUzj\n",
              "cAF+3L87f79hJA67lU/3FnDbK5uprVfBFBH5PiqXIsDOvDL+9vkBAH5/ZSJh/g6TE0lbcV58N5bc\n",
              "NIouXja+2H+cm1/aSHVd824cISLSmahcSqfnbHDxyxXbcLkNLh3Sg0s1DpdvGdsvjJdvTsbP28bX\n",
              "B4qY9Y+NVDpVMEVETkXlUjq9v3yawb5jFYT5e/P7KxPNjiNtVHLfEF69dTQBPnbSs4u54cUNlNfW\n",
              "mx1LRKTNUbmUTm1bbinPnxiHP/aTREL8vE1OJG3Z8KiuvH5rCkFdvNiSU8qMv2+gtLrO7FgiIm2K\n",
              "yqV0WrX1Lu5duQ23AVck9WRSosbh8sMGRwax7LYUQvy82X64jOte2EBxlQqmiMi/qVxKp/XnNRlk\n",
              "FFQS5u/gd1cMMjuOtCMDewbyxuwUwvwd7M4vZ/riVI5XOM2OJSLSJqhcSqe0JaeExV80jsPnXZVI\n",
              "V43DpZniuwewfE4K3QMd7D9WyfTFqRwrrzU7loiI6VQupdP573H4VcN6ceGgCLMjSTvVr5s/y2eP\n",
              "oWeQDweOVzFtUSpHSmvMjiUiYiqVS+l0nv54HwePVxEe4ODhyweaHUfauegwP5bPGUNk1y5kF1Uz\n",
              "bXEqucXVZscSETGNyqV0KpsPFfP3r7IAmH/1YIJ9NQ6Xs9c7xJcVc8YQHepLbnEN0xalkl1YZXYs\n",
              "ERFTqFxKp1FT5+LeldsxDJgyIpLzB3Q3O5J0ID2Du7B8zhj6dfPjSFkt0xankllQaXYsEZFWp3Ip\n",
              "ncaTH+0jq7CKiEAfHrpM43DxvO6BPrwxewwJ3QM4Vu5k+uI09h2tMDuWiEirUrmUTiE9q5glX58Y\n",
              "h08eTFAXL5MTSUfVLcDBstkpDOwRSGGlk2tfSGP3kXKzY4mItBqVS+nwqusauO/NbRgGTBvZmwkJ\n",
              "4WZHkg4uxM+b128bzZDIIIqr6rj2hTS2Hy41O5aISKtQuZQO74kP93GoqJqeQT785rIBZseRTiLY\n",
              "15ult45meFQwZTX1XP/CBrbklJgdS0SkxalcSoeWeqCIl77OBuDxKUMI9NE4XFpPoI8Xr9wymuS+\n",
              "IVQ4G5j59w2kZxWbHUtEpEWpXEqHVeVsHIcDXJscxbi4biYnks7I32HnpZtGMbZfKFV1Lm78Rzpf\n",
              "Hyg0O5aISItRuZQOa/6/9nC4pIZewV34zaUah4t5fL3t/GPWKM6L70ZNvYublmzki/3HzY4lItIi\n",
              "VC6lQ1qfWcjStBwAnpgyBH+H3eRE0tn5eNlYPHME5/cPx9ng5taXN/HZ3mNmxxIR8TiVS+lwKmrr\n",
              "+dWb2wGYmdKHc2LDTE4k0sjHy8bzM0YwaVAEdS43c17dzIc7j5odS0TEo1QupcOZ98Fe8kpr6B3S\n",
              "hQcu7m92HJGTeNut/PW6YVye1JN6l8Fdr2/hve1HzI4lIuIxKpfSoXyx/zjL0k+Mwycn4adxuLRB\n",
              "XjYrf542lKuH9cLlNvj5sm94+5vDZscSEfGIZpfL6OhoEhISGDp0KEOHDmX58uUAZGRkMHbsWOLj\n",
              "4xk1ahS7du3yeFiR71NeW88DqxrH4bPGRjOmX6jJiUS+m81q4cmpSUwb2Ru3Afes2MaKjblmxxIR\n",
              "OWtndFhn+fLlDB069KR1c+bMYfbs2cyaNYs333yTWbNmsXHjRk9kFDktf3hvD0fKaukT6suvJiWY\n",
              "HUfkB9msFuZfPRgvu4WlaTn8atV26lxuZqT0MTuaiMgZ88hYvKCggE2bNjFjxgwAJk+eTG5uLpmZ\n",
              "mZ7YvMgPWruvgOWbcrFY4MkpSfh6axwu7YPVauH3VyZy0znRADy4eidL1meZG0pE5CycUbm84YYb\n",
              "GDx4MLfccgvHjx8nNzeXHj16YLc3/kK3WCxERUWRk5Nzyuc7nU7Ky8tPWlwu15nvhXRqZdX/GYff\n",
              "NLYvyX1DTE4k0jwWi4XfXjaQOeNjAPjdP3ez+IsDJqcSETkzzS6XX3zxBdu3b2fLli2EhYVx4403\n",
              "NvtF58+fT1BQ0ElLenp6s7cjAvDoe7s5Vu6kb5gf912kcbi0TxaLhQcm9efnP44FGq968OxnGSan\n",
              "EhFpvmaXy6ioKAC8vLy4++67+fLLL+nduzf5+fk0NDQAYBgGOTk5TY/9trlz51JWVnbSkpycfBa7\n",
              "IZ3Vp3uOsWrLYSwWeGrqELp428yOJHLGLBYL91yYwC8viAfgqY/3s+CT/RiGYXIyEZHT16xyWVVV\n",
              "RWlpadPfly1bxrBhwwgPD2f48OEsXboUgFWrVhEZGUlsbOwpt+NwOAgMDDxpsdlUCqR5SqvrmPvW\n",
              "DgBuGxfDiD4ah0vH8LPz45h74hqtf/k0g8c/3KeCKSLtRrPOejh27BiTJ0/G5XJhGAYxMTG88sor\n",
              "ACxatIhZs2Yxb948AgMDWbJkSYsEFvm33/1zNwUVTvp18+OeE0d6RDqKOeP74WWz8uh7u1m47gB1\n",
              "DW4eumwAFovF7GgiIt+rWeUyJiaGb7755pRfS0hIIDU11SOhRH7Ix7uO8vY3eVgt8NTUJHy8dORb\n",
              "Op6bz+2Lt93Kg6t38o/1WdS73PzuikFYrSqYItJ26Q490u6UVNXx67d3AjD7vH4Mi+pqciKRljMj\n",
              "pQ9PTB6CxQKvph3i12/vwO3WiFxE2i6VS2l3Hn53F4WVTuLC/bl7YpzZcURa3DWjerPgmiSsFnhj\n",
              "Yy73vrkNlwqmiLRRKpfSrvxrRz7vbjuCzWrROFw6lauGRfLM9GHYrBbe2pLH3cu30uBymx1LROR/\n",
              "qFxKu1FU6eTB1Y3j8NvHx5DUO9jcQCKt7PKknvztumF42Sz8c9sRfrbsG+oaVDBFpG1RuZR247fv\n",
              "7KKoqo6E7gH8/HyNw6VzmpTYg4UzRuBts/KvnUe587XNOBt0hzMRaTtULqVdeG/7Ed7fkY/NauHp\n",
              "a5Jw2DUOl87r/AHdeeHGkTjsVtbsKWD2K5uprVfBFJG2QeVS2rzjFU4eOjEOv2tCLIm9gkxOJGK+\n",
              "8fHdWDJrFF28bKzbf5xbXt5IdV2D2bFERFQupW0zDIMHV++gpLqeAT0C+emEU9/1SaQzGhsbxss3\n",
              "J+PnbWN9ZhGzlmyk0qmCKSLmUrmUNu3dbUf4aNcx7FYLT00dgrdd37Ii/y25bwiv3DKaAIed9Kxi\n",
              "bnhxA+W19WbHEpFOTL+ppc0qqKjl4Xd3AfCzH8cxqKfG4SKnMqJPV167bTSBPna25JQy8+8bKKtW\n",
              "wRQRc6hcSptkGAa/eXsnpdX1DOoZyJ0T+pkdSaRNGxIZzLLZKXT19WLb4TKufSGN4qo6s2OJSCek\n",
              "cilt0uqteXyy+xhetsazw71s+lYV+SGDegbxxuwxhPl7szu/nOteSKOw0ml2LBHpZPQbW9qcY+W1\n",
              "PPxO4zj8F+fH0T8i0OREIu1HQkQAb8weQ3iAg71HK5i+OI2C8lqzY4lIJ6JyKW2KYRjMfWsH5bUN\n",
              "DO4VxO3jNQ4Xaa7YcH+WzxlDjyAfMgsqmbY4jfyyGrNjiUgnoXIpbcqqLXl8trcAb5uVp69Jwq5x\n",
              "uMgZ6Rvmx4o5Y4js2oWswiquWZRKbnG12bFEpBPQb25pM/LLavjdPxvH4f93QTzx3QNMTiTSvvUO\n",
              "8WX5nDH0CfUlt7iG6YvTOFRUZXYsEengVC6lTTAMgwdW7aCitoGhvYO5bVxfsyOJdAi9gruwYs4Y\n",
              "Yrr5kVdawzWLUjlwvNLsWCLSgalcSpuwYlMu6/Yfx9tu5ampGoeLeFL3QB+Wzx5DfHd/jpU7mbYo\n",
              "jf3HKsyOJSIdlH6Di+nySmt47L09ANx7YTyx4f4mJxLpeLoFOFh2WwoDegRSWOlk+uI0dh8pNzuW\n",
              "iHRAKpdiqsZx+HYqnA0MjwrmlnNjzI4k0mGF+jtYdttoBvcKoriqjmtfSGPH4TKzY4lIB6NyKaZa\n",
              "lp7LlxmFOE6Mw21Wi9mRRDq0YF9vlt46mmFRwZTV1HPd39P4JqfE7Fgi0oGoXIppcour+cP7uwG4\n",
              "76IEYrppHC7SGoK6ePHqLaMZFd2VitoGZr6YzsbsYrNjiUgHoXIppnC7De5ftZ2qOhejorty0zk6\n",
              "O1ykNfk77Lx8czJjYkKpdDZw4z/SST1QZHYsEekAVC7FFK+l5/D1gSJ8vKw8OUXjcBEz+Hrb+ces\n",
              "UYyLC6O6zsVNL6XzZcZxs2OJSDuncimtLqeomvkfNJ4d/sCk/kSH+ZmcSKTz6uJt44UbRvLj/uHU\n",
              "1ru55eVNrN1bYHYsEWnHVC6lVbndBve9uY3qOhej+4Zww5hosyOJdHo+XjYWzhjBRYO6U9fgZvar\n",
              "m/ho11GzY4lIO3XG5XLJkiVYLBZWr14NQEFBAZMmTSIuLo7ExES++OILT2WUDuSV1Gw2ZBXj623j\n",
              "ySlJWDUOF2kTvO1Wnr1uOJcO6UG9y+Cu17bw/vZ8s2OJSDt0RuUyOzubF154gZSUlKZ1DzzwACkp\n",
              "KWRkZLBkyRKuu+466uvrPRZU2r/swioe/3AfAHMv7k9UqK/JiUTkv3nZrDwzbShXDetFg9vgZ8u2\n",
              "sPqbPLNjiUg70+xy6Xa7ufXWW/nrX/+Kw+FoWr9ixQpuv/12AEaNGkXPnj1Zt26d55JKu/bvcXhN\n",
              "vYux/UK5fnQfsyOJyCnYbY3XnJ06IhK3Af+3YisrN+WaHUtE2hF7c5+wYMECzjnnHEaMGNG0rqio\n",
              "iPr6eiIiIprWRUdHk5OTc8ptOJ1OnE7nSetcLldzo0g7suTrbDZml+DnbePxyUM0Dhdpw2xWC49P\n",
              "HoK33cprG3K4783t1LsMrhsdZXY0EWkHmnXkcufOnaxatYoHH3zwrF50/vz5BAUFnbSkp6ef1Tal\n",
              "7Tp4vJInPtwLwK8vHUDvEI3DRdo6q9XCYz9JZNbYaAB+/fYOXv4629RMItI+NKtcfvnll2RnZxMX\n",
              "F0d0dDRpaWnMnj2bFStWYLfbOXr0P2cXZmdnExV16v/lzp07l7KyspOW5OTks9sTaZNcboN7V27D\n",
              "2eDm3NgwrkvWkQ+R9sJisfDw5QOZc14MAA+/u4sXvjhocioRaeuaVS7vuOMO8vPzyc7OJjs7m5SU\n",
              "FBYvXswdd9zB1KlTWbhwIQAbN24kLy+P8ePHn3I7DoeDwMDAkxabzXb2eyNtzj++ymJLTin+DjuP\n",
              "TxmCxaJxuEh7YrFYeODi/vzsx7EA/OGDPfxtbabJqUSkLWv2Zy6/y+OPP87MmTOJi4vD29ubpUuX\n",
              "4uXl5anNSzuUWVDJkx83nh3+0GUD6BXcxeREInImLBYLv7wwAS+blQWf7OfJj/ZR1+Dm7olx+g+j\n",
              "iPyPsyqXn3/+edOfu3fvzscff3y2eaSDaHC5+eXKbdQ1uBkf341rRvY2O5KInKWfnx+Hl83K4x/u\n",
              "5ZlPM6hzufnVRQkqmCJyEt2hR1rEC19msS23lAAfO3+cPFi/fEQ6iDt+1I8HLx0AwPOfH+Cx9/dg\n",
              "GIbJqUSkLVG5FI/LOFbBnz7ZD8BvLxtIjyCNw0U6klvHxfD7KwcB8OJXWTz87i7cbhVMEWmkcike\n",
              "1TQOd7n5cf9wpoyINDuSiLSAmWOi+ePVg7FY4JXUQ/xm9Q4VTBEBVC7FwxZ9cZDth8sI9LEz/2qN\n",
              "w0U6sunJUTw1JQmrBZal53Lfm9txqWCKdHoql+Ixe4+W8+c1jePwR64YRPdAH5MTiUhLmzwikj9P\n",
              "H4bNamHVlsPcs2IrDS632bFExEQql+IR9S43v1yxjXqXwcQB3blqWC+zI4lIK7kiqSfPXjsMu9XC\n",
              "O1uP8PM3vqFeBVOk01K5FI94/vMD7DpSTrCvF/OuTtQ4XKSTuXhwDxbOGIG3zcoHO45yx9ItOBtc\n",
              "ZscSEROoXMpZ23WkjL98mgHA764YRHiAxuEindHEgd1ZfMMIvO1W1uw5xpxXN1Nbr4Ip0tmoXMpZ\n",
              "qWtwc+/K7TS4DS4a1J0rknqaHUlETPSjhHCWzBqFj5eVz/cd59aXN1FTp4Ip0pmoXMpZeXZtJnvy\n",
              "y+nq68VjP9HZ4SIC58SG8dJNyfh62/gqs5BZS9KpcjaYHUtEWonKpZyxnXllPLc2E4Df/ySRbgEO\n",
              "kxOJSFuREhPKq7ckE+CwsyGrmBv/kU5Fbb3ZsUSkFahcyhlxNri4d+U2GtwGlw7uwWVDNA4XkZON\n",
              "6BPC0ltHE+hjZ9OhEma8mE5ZtQqmSEenciln5K+fZrL3aAWhft48euI2cCIi35bUO5jXb0uhq68X\n",
              "23JLue7vaZRU1ZkdS0RakMqlNNu23FKeX3cAgMd+kkiov8bhIvLdEnsFsWx2CmH+3uw6Us61L6RR\n",
              "WOk0O5aItBCVS2mW2vrGcbjLbXB5Uk8uHtzD7Egi0g70jwjkjdkpdAtwsPdoBdMXp1FQXmt2LBFp\n",
              "ASqX0izPfJpBRkElYf4OHr1C43AROX2x4QEsn51CRKAPmQWVTFucRn5ZjdmxRMTDVC7ltH2TU8Ki\n",
              "E+PweVcl0tXP2+REItLexHTzZ8WcMfQK7kJWYRXTFqVxuKTa7Fgi4kEql3Ja/j0Odxvwk6E9uXBQ\n",
              "hNmRRKSdigr1ZfmcFKJCfMkprmbaojQOFVWZHUtEPETlUk7Lgk/2c+B4Fd0CHDyicbiInKXIrr6s\n",
              "mDOGmDA/8kprmLYojYPHK82OJSIeoHIpP2jzoWJe+PIgAPOvGkywr8bhInL2IoJ8eGNOCnHh/hwt\n",
              "r2Xa4jQyjlWYHUtEzpLKpXyvmjoX967cjmHA5OGRTBzY3exIItKBhAf48MbsFPpHBHC8wsn0xWns\n",
              "yS83O5aInAWVS/leT328j6zCKroHOvjt5QPNjiMiHVCov4Nlt6WQ2CuQoqo6rn0hjZ15ZWbHEpEz\n",
              "pHIp3yk9q5h/rM8C4I+ThxDUxcvkRCLSUXX18+a1W1MY2juY0up6rnshja25pWbHEpEzoHIpp1Rd\n",
              "18B9b27DMOCakZFMSAg3O5KIdHBBXbx49ZZkRvbpSnltAzP+voFN2cVmxxKRZlK5lFN64sN9HCqq\n",
              "pkeQDw9epnG4iLSOAB8vXr45mZSYECqdDdzwj3RSDxSZHUtEmkHlUv5H2sEiXvo6G4DHJw8h0Efj\n",
              "cBFpPX4OO0tmJTMuLozqOhc3vZTOVxmFZscSkdPU7HJ54YUXMmTIEIYOHcq4ceP45ptvAMjIyGDs\n",
              "2LHEx8czatQodu3a5fGw0vKqnI3jcIBrk3tzXnw3kxOJSGfUxdvGCzeMZEJCN2rr3dz88kbW7i0w\n",
              "O5aInIZml8sVK1awfft2tm7dyj333MOsWbMAmDNnDrNnz2b//v3cf//9Teulffnjv/aSW1xDr+Au\n",
              "/PqSAWbHEZFOzMfLxsKZI7hgYHfqGtzMfnUTH+86anYsEfkBzS6XwcHBTX8uKyvDYrFQUFDApk2b\n",
              "mDFjBgCTJ08mNzeXzMxMjwWVlvd1ZiGvph0CGsfhARqHi4jJHHYbz10/nEsH96DeZXDna1v4YEe+\n",
              "2bFE5HvYz+RJN9xwA2vXrgXggw8+IDc3lx49emC3N27OYrEQFRVFTk4OsbGx//N8p9OJ0+k8aZ3L\n",
              "5TqTKOIhlc4G7ntzOwAzUqI4Ny7M5EQiIo28bFaemT4UL5uF1VuP8LNl31DvcnPl0F5mRxORUzij\n",
              "E3peeeUVcnNzeeyxx7j//vub/fz58+cTFBR00pKenn4mUcRD5n2wh7zSGiK7dmHuxRqHi0jbYrdZ\n",
              "efqaoUwZEYnLbXD38q28ufmw2bFE5BTO6mzxG2+8kbVr1xIZGUl+fj4NDQ0AGIZBTk4OUVFRp3ze\n",
              "3LlzKSsrO2lJTk4+myhyFr7Yf5zXN+QA8OSUJPwcZ3RAW0SkRdmsFp6YPIRrk6MwDLjvzW0sS88x\n",
              "O5aIfEuzymVpaSlHjhxp+vvq1asJDQ0lPDyc4cOHs3TpUgBWrVpFZGTkKUfiAA6Hg8DAwJMWm812\n",
              "FrshZ6q8tp4HVjWOw28c04cx/UJNTiQi8t2sVgvzrkrkxjF9MAyY+9YOXknNNjuWiPyXZh2iKisr\n",
              "Y+rUqdTU1GC1WunWrRvvvfceFouFRYsWMWvWLObNm0dgYCBLlixpqcziQfPe38ORslqiQny5/+L+\n",
              "ZscREflBFouFR64YhLfdygtfZvHbd3ZR1+Dm1nExZkcTEZpZLvv06fOdn41MSEggNTXVI6GkdXy+\n",
              "r4A3NuZiscBTU5Pw9dY4XETaB4vFwq8vGYC33crf1h7gsff34Gxwc9eEU0/MRKT16A49nVRZTT0P\n",
              "rNoBwKyx0ST3DTE5kYhI81gsFu69MIH/mxgPwJMf7ePPa/ZjGIbJyUQ6Nx2q6qR+/95ujpbXEh3q\n",
              "y68u0jhcRNoni8XCLybG4WW38MSH+/jzmgx25pXzo4RujOkXSkyYHxaLxeyYIp2KymUn9NneY7y5\n",
              "+XDTOLyLt06mEpH27c4fxeJts/LY+3tYs+cYa/YcAyA8wEFKTCgpMaGM6RdKdKivyqZIC1O57GTK\n",
              "qv8zDr/13L6MjNY4XEQ6hlvHxZDcN4S1e4+TerCQLTmlFFQ4eXfbEd7d1nilk4hAH1JiQhjTr7Fw\n",
              "RoWobIp4msplJ/O7f+6ioMJJTDc/fnlhgtlxREQ8akhkMEMig/kFcdTWu/gmp5TUg0WkHSxia04p\n",
              "R8trWb31CKu3NpbNnkE+pJwommNiQukd4mvyHoi0fyqXncjHu47y1jd5WE+Mw328NA4XkY7Lx8vG\n",
              "mH6hTdfvralzsSWnhLSDRaQeKGLb4VKOlNXy1pY83tqSB0Bk1y5NRTOlXyi9gruYuQsi7ZLKZSdR\n",
              "UlXHr9/eCcBt58UwPKqryYlERFpXF28b58SGcU5sGADVdQ1sPlRC6oHGI5vbD5dxuKSGNzcfbrq1\n",
              "ZFSI70lj9B5BKpsiP0TlspN45J+7KKx0Ehvu33TZDhGRzszX2864uG6Mi+sGQJWzgU0nymbqwSJ2\n",
              "5pWRU1xNTnE1KzY1ls3oUN+mojkmJpTwQB8zd0GkTVK57AQ+3JnPO1uPYLNaeFrjcBGRU/Jz2Bkf\n",
              "343x8Y1ls6K2nk3ZJ8boJ8pmdlE12UXVLEvPBSCmm19T0RwdE0J4gMqmiMplB1dU6eQ3J8bhc86L\n",
              "Ial3sLmBRETaiQAfLyb0D2dC/3Cg8eYTm7KLG8foWUXsOlLOweNVHDxexesbcgCIDfdvHKPHhJES\n",
              "E0Kov8PMXRAxhcplB/fbd3dRVFVHfHd/fjExzuw4IiLtVlAXL84f0J3zB3QHGi/tln6ibKYeLGJP\n",
              "fjmZBZVkFlSyNK2xbMZ39288OSgmlNExoYT4eZu5CyKtQuWyA3t/ez7vb88/MQ4fisOucbiIiKcE\n",
              "+XpxwcDuXDCwsWyWVNWxIauYtBOXPtp7tIL9xyrZf6ySl1MPAdA/IqDpgu6j+4YQ7KuyKR2PymUH\n",
              "VVjp5KF3Gsfhd/2oH4Mjg0xOJCLSsXX182ZSYgSTEiOAxo8lpWcVN11nc/+xSvYerWDv0Qpe+job\n",
              "iwUGRAQ2nSCU3DeEoC5eJu+FyNlTueyADMPgodU7Ka6qo39EAD/9scbhIiKtLdTfwcWDe3Dx4B5A\n",
              "43/6/31UM/VAEQeOV7E7v5zd+eW8+FUWFgsM6hnImBNHNkdGhxDoo7Ip7Y/KZQf0z+35/GvnUexW\n",
              "C09fk4S33Wp2JBGRTi/M38FlQ3py2ZCeABRU1JJ2sPEzmxsOFnGwsIqdeeXszCvnhS+zsFpgcK+g\n",
              "pjsIjYoOwd+hX9vS9um7tIMpqKjltyfG4T/9cSyDemocLiLSFoUH+HBFUk+uSGosm0fLatmQVdR0\n",
              "Uffsomq2HS5j2+EyFq07iM1qYXCvoMa7DsWEMjK6K77e+jUubY++KzsQwzD4zds7Ka2uZ2CPQO6a\n",
              "EGt2JBEROU0RQT5cObQXVw7tBcCR0pr/jNEPFpFbXMPW3FK25pby/OcHsFstJPUObrr00Yg+Xeni\n",
              "rRM3xXwqlx3IO1uP8MnuY3jZGsfhXjaNw0VE2quewV24engkVw+PBOBwSXXTGD3tYBF5pTVsPlTC\n",
              "5kMl/G3tAbxsFob2Dm669NHwPl110wwxhcplB3GsvJaH390FwM9/HMeAHoEmJxIREU+K7OrLlBG+\n",
              "TBnRWDZzi6ubimbqwSLyy2rZmF3CxuwS/vJZJt42K0OjgptOEBraO1hlU1qFymUHYBgGv35rB2U1\n",
              "9QzuFcTtP+pndiQREWlhvUN86R3iyzWjemMYBjnfKpvHyhsvhZSeVcwzn2bgsFsZHtW16TqbSb2D\n",
              "dP1jaREqlx3AW1vy+HRvAd42K09N1ThcRKSzsVgs9An1o0+oH9OTozAMg6zCqsYx+onPbR6vcJJ6\n",
              "onj+aQ34eFkZ0adr0xh9SGSwri4iHqFy2c4dLavlkX82jsPvviCOhIgAkxOJiIjZLBYLMd38ienm\n",
              "z3WjG8vmgeNVTUVzw8EiCivrWJ9ZxPrMIgC6eNkYGf2fI5uDewXpYIWcEZXLdswwDB54azsVtQ0k\n",
              "9Q5m9rgYsyOJiEgbZLFYiA33Jzbcn5kpfTAMg8yCysYjmSdG6SXV9XyZUciXGYUA+HnbGBkd0nQH\n",
              "ocSegdhVNuU0qFy2Yys3Hebzfcfxtlt5euoQ/aMXEZHTYrFYiOseQFz3AG4YE43bbbC/oIK0A41j\n",
              "8w1ZxZRW17Nu/3HW7T8OgL/DzqjorieusxnGwJ6B2KwWk/dE2iKVy3bqSGkNv39vNwC/vCCe2HCN\n",
              "w0VE5MxYrRb6RwTSPyKQWef0xe022Hu04qQxenltA2v3HWftvsayGeBjZ3TfEFJOfGZzYI9ArCqb\n",
              "gsplu2QYBvev2k6Fs4FhUcHcqnG4iIh4kNVqYWDPQAb2DOSWc/vichvsyS9vui96elYxFbUNrNlT\n",
              "wJo9BQAEdfEiuW9I0wlC/SMCVDY7qWaVy9raWqZPn87u3bvp0qUL4eHhPP/888TGxlJQUMANN9zA\n",
              "gQMHcDgcPPfcc5x33nktlbtTe2NjLl9mFOKwN54drrGEiIi0JJvVQmKvIBJ7BXHruBhcboNdR8qa\n",
              "yubG7BLKaur5ZPcxPtl9DIBgXy9GnyibY/qFERfur7LZSTT7yOXs2bO5+OKLsVgsPPvss9x66618\n",
              "/vnnPPDAA6SkpPDhhx+yceNGrrrqKrKysvDy8mqJ3J3W4ZJqHjsxDr/vogT6dfM3OZGIiHQ2NquF\n",
              "IZHBDIkMZvZ5/Whwudl5pLzp5KCN2Y2f2fxo1zE+2tVYNkP8vE/cqrLxyGZsuD8Wi8pmR2QxDMM4\n",
              "0ydv2rSJKVOmkJ2djb+/P5mZmURERACQnJzMvHnzmDhx4mlt65577mHBggVnGqVTMAyDGS9uYH1m\n",
              "ESP7dGX5nDE6aikiIm1OvcvN9sNlTfdG35RdQk2966THhPl7MzomtKls9uvmp7LZQZzVZy6feeYZ\n",
              "rrzySoqKiqivr28qlgDR0dHk5OSc8nlOpxOn03nSOpfLdcrHyn+8tiGH9ZlF+HhZeVLjcBERaaO8\n",
              "bI0XaB/Rpyt3TYilrsHN9sOljUc2sxrLZmFlHe9vz+f97fkAhAc4mk4OGtMvlOhQX5XNduqMy+W8\n",
              "efPIzMzk008/paamplnPnT9/Pr/73e9OWpeSknKmUTqF3OJq5n2wB4D7J/Wnb5ifyYlEREROj7fd\n",
              "ysjoEEZGh/Az4nA2uNiWW9Y0Rt+cU0JBhZN3tx3h3W1HAIgI9Gkco5+4zmZUiMpme3FGY/GnnnqK\n",
              "N954gzVr1hAcHAyAn58fBw4cOK2x+KmOXD700EM888wzZ7ALHZ/bbXDd39NIO1hMct8Q3rgtRR+K\n",
              "FhGRDqO23sU3OaVN90XfmlNKnct90mN6Bvk0Htns1zhK7x3ia1Ja+SHNPnK5YMECli1bdlKxBJg6\n",
              "dSoLFy7kkUceYePGjeTl5TF+/PhTbsPhcOBwOE5aZ7PZmhul03g17RBpB4vp4mXjqSlJKpYiItKh\n",
              "+HjZGi/O3i+U/6OxbG45VNJ0nc2tuaUcKavlrW/yeOubPAB6BXdpOqo5pl8ovYK7mLsT0qRZRy4P\n",
              "Hz5M7969iYmJISCg8aLdDoeDDRs2cOzYMWbOnElWVhbe3t48++yzTJgw4bSD6ISeUztUVMWkP39J\n",
              "Tb2LR68cxA1jos2OJCIi0qqq6xrYcqiU1IOFpB4oYvvhMhrcJ9eXqBDfk8boPYJUNs1yVmeLe5LK\n",
              "5f9yuw2mL04jPbuYMTGhvHbraB21FBGRTq/K2cCmQyVN19nckVeG61tlMzrUt6lopsSE0j3Qx6S0\n",
              "nY/u0NOGvfR1NunZxfh523hiyhAVSxEREcDPYWd8fDfGx3cDoKK2vrFsnjhBaEdeGdlF1WQXVbMs\n",
              "PReAmDC/ps9rjo4JITxAZbOlqFy2UQePV/LER3sBmHvJAH1wWURE5DsE+HgxISGcCQnhAJTX1rMx\n",
              "q7jpBKFdR8o5WFjFwcIqXt/QeJnE2HD/Exd1DyMlJoRQf8f3vYQ0g8plG+RyG9z35nZq692cGxvG\n",
              "9aOjzI4kIiLSbgT6eHH+gO6cP6A7AGU19aRnFTdd+mjP0XIyCyrJLKhkaVpj2Yzv7t90QffRMaGE\n",
              "+HmbuQvtmsplG7RkfRabD5Xg77Dzx8mDdV0vERGRsxDUxYsLBnbngoGNZbO0uo4N/1U29x6tYP+x\n",
              "SvYfq+Tl1EMA9I8IaDoTfXTfEIJ9VTZPl8plG5NZUMmTH+0D4MFLBxDZVeNwERERTwr29eaiQRFc\n",
              "NKjx2tzFVXVsOHHZo9SDRew/VsneoxXsPVrBS19nY7HAgIjAprKZ3DeEoC5eJu9F26Vy2Ya43Ab3\n",
              "rtyGs8HNefHdmDaqt9mRREREOrwQP28uHtyDiwf3AKCw0smGg8WkHiwk7WAxmQWV7M4vZ3d+Of9Y\n",
              "n4XFAoN6BjaN0Uf1DSHQR2Xz31Qu25AXvjzI1txSAhx2Htc4XERExBRh/g4uHdKDS4c0ls2CitoT\n",
              "ZbOItANFHCysYmdeOTvzynnhyyysFhjcK6jpDkKjokPwd3TeitV597yNyThWwYKP9wPw0OUDdfFX\n",
              "ERGRNiI8wIfLk3pyeVJPAI6V15L27zH6gSKyi6rZdriMbYfLWPTFQWxWC4N7BTVdZ3Nkn674daKy\n",
              "2Xn2tA1rcLm5d+U26lxuJiR0Y+qISLMjiYiIyHfoHujDlUN7ceXQXgDkl9U0Fc20g8XkFFezNbeU\n",
              "rbmlPP/5AexWC0MiG8vmmJgwRvTpShfvjnvba5XLNmDRFwfZdriMQB87868eonG4iIhIO9IjqAtX\n",
              "DYvkqmGNB4cOl1STdrC4qXDmldawJaeULTml/G3tAbxsFob2Dm48QSgmlOF9uuLj1XHKpsqlyfYe\n",
              "LefPaxrH4Q9fPoiIIN0xQEREpD2L7OrLlBG+TDkxicwtrm78vOaJz2weKatlY3YJG7NL+OtnmXjb\n",
              "rAyNCm46QWhYVHC7LpsqlyaqPzEOr3cZTBwQztXDe5kdSURERDysd4gvvUN8uWZkbwzDIKe4uumo\n",
              "ZurBIo6VO0nPKiY9q5hnPs3A225lRFTXpksfJfUOwmFvP2VT5dJECz8/wM68coK6eDHvKp0dLiIi\n",
              "0tFZLBb6hPrRJ9SPaaOiMAyD7KLqpgu6px4s4niFk9QTf/7TGvDxsjKiT9emI5tDIoPxtlvN3pXv\n",
              "pHJpkt1HyvnLZxkAPHrlIMIDNQ4XERHpbCwWC33D/Ogb5sd1oxvL5sHCqqajmhsOFlFYWcf6zCLW\n",
              "ZxYB0MXLxsjoxiOb58SGMbR3sLk78S0qlyaoa/jPOPyiQd254sSlDURERKRzs1gs9OvmT79u/sxI\n",
              "6YNhGGQWVDYd1Uw7WExxVR1fZhTyZUYhn+45xlt3nmN27JOoXJrgb2sz2Z1fTldfLx77icbhIiIi\n",
              "cmoWi4W47gHEdQ9g5pho3G6DjIJKUg803j0oqY0dtQSVy1a3M6+Mv63NBODRKxPpFuAwOZGIiIi0\n",
              "F1arhYSIABIiAph1Tl+z45xS2/00aAf073F4g9vgksERXHbitlIiIiIiHYXKZSv662cZ7D1aQaif\n",
              "N7+/MlHjcBEREelwVC5byfbDpTz3+QEAfv+TREL9NQ4XERGRjkflshU4G1zcu3IbLrfBZUN6cMlg\n",
              "jcNFRESkY1K5bAXPrMlg/7FKwvy9efTKRLPjiIiIiLQYlcsWtjW3lIXrGsfhj/1kMCF+3iYnEhER\n",
              "EWk5KpctqLbexS9XbMVtwE+G9mRSYoTZkURERERalMplC/rTJ/s5cLyKbgEOHrlikNlxRERERFqc\n",
              "ymUL2XyohMVfHgRg3lWDCfbVOFxEREQ6PpXLFlBb7+K+ldswDLh6eC8uGNjd7EgiIiIiraJZ5fLn\n",
              "P/850dHRWCwWtm7d2rQ+IyODsWPHEh8fz6hRo9i1a5enc7YrT320j4OFVXQPdPDwZRqHi4iISOfR\n",
              "rHI5ZcoUvvrqK/r06XPS+jlz5jB79mz279/P/fffz6xZszyZsV3ZmF3Mi+uzAPjj1UMI8vUyOZGI\n",
              "iIhI62lWuTzvvPOIjIw8aV1BQQGbNm1ixowZAEyePJnc3FwyMzM9l7KdqKn7zzh86ohIJvQPNzuS\n",
              "iIiISKuyn+0GcnNz6dGjB3Z746YsFgtRUVHk5OQQGxt7yuc4nU6cTudJ61wu19lGMd0TH+0lu6ia\n",
              "HkE+PHjZQLPjiIiIiLQ6U07omT9/PkFBQSct6enpZkTxmLSDRSxZnw3AHycPIaiLxuEiIiLS+Zx1\n",
              "uezduzf5+fk0NDQAYBgGOTk5REVFfedz5s6dS1lZ2UlLcnLy2UYxTZWzgV+9uR2Aa5N7Mz6+m8mJ\n",
              "RERERMxx1uUyPDyc4cOHs3TpUgBWrVpFZGTkd47EARwOB4GBgSctNpvtbKOY5vEP95JTXE2v4C78\n",
              "+pIBZscRERERMU2zyuWcOXOIjIzk8OHDXHTRRU0FctGiRSxatIj4+Hj++Mc/smTJkhYJ2xZ9nVnI\n",
              "K6mHAHh88hACfDQOFxERkc6rWSf0LFq06JTrExISSE1N9Uig9qTS2cCvVjWOw68fHcW5cWEmJxIR\n",
              "ERExl+7Qcxbmf7CHwyU1RHbtwlyNw0VERERULs/UlxnHeW1DDgBPTBmCv+Osr+okIiIi0u6pXJ6B\n",
              "itp67j9xdvgNY/owtp/G4SIiIiKgcnlG5n2whyNltUSF+HL/pP5mxxERERFpM1Qum2nd/uMsS88F\n",
              "4MkpQ/DTOFxERESkicplM5TV/GccPmtsNKNjQk1OJCIiItK2qFw2w2Pv7eZoeS3Rob78alKC2XFE\n",
              "RERE2hyVy9P02d5jrNx8GIsFnpyahK+3xuEiIiIi36ZyeRrKquuZ+9YOAG45py+jokNMTiQiIiLS\n",
              "NqlcnobfvbeLY+VOYsL8uPcijcNFREREvovK5Q/4ZPcx3tqSh/XEONzHy2Z2JBEREZE2S+Xye5RW\n",
              "1/HrtxvH4beNi2FEn64mJxIRERFp21Quv8cj7+7ieIWTft38+L8L4s2OIyIiItLmqVx+hw93HmX1\n",
              "1iNYLfD0NUM1DhcRERE5DSqXp1BcVceDqxvH4XPG92No72BzA4mIiIi0EyqXp/Dbd3ZSWFlHfHd/\n",
              "7p4YZ3YcERERkXZD5fJbPtiRz3vb87FZLTw1NQmHXeNwERERkdOlcvlfCiudPLh6JwB3/qgfQyKD\n",
              "zQ0kIiIi0s6oXJ5gGAYPrd5JcVUd/SMC+NmPNQ4XERERaS6VyxPe257Pv3YexX5iHO5t11sjIiIi\n",
              "0lxqUMDxCie/fadxHH7XhFgSewWZnEhERESkfer05dIwDB5cvYOS6noG9gjkrgmxZkcSERERabc6\n",
              "fbl8d9sRPtp1DC+bxuEiIiIiZ6tTN6mC8lp++84uAH724zgG9gw0OZGIiIhI+9Zpy6VhGPz67R2U\n",
              "1dST2CuQO37Uz+xIIiIiIu1epy2Xb23JY82eArxsFp6eOhQvW6d9K0REREQ8xqONKiMjg7FjxxIf\n",
              "H8+oUaPYtWuXJzfvMUfLavndPxuz3T0xnoSIAJMTiYiIiHQMHi2Xc+bMYfbs2ezfv5/777+fWbNm\n",
              "eXLzHmEYBnPf2k55bQNJkUHMOS/G7EgiIiIiHYbHymVBQQGbNm1ixowZAEyePJnc3FwyMzM99RIe\n",
              "setIOV9kFOJts/LU1CTsGoeLiIiIeIzdUxvKzc2lR48e2O2Nm7RYLERFRZGTk0Ns7MnXjnQ6nTid\n",
              "zpPWuVwuT0X5Xom9glh95znsO1ZBXHeNw0VEREQ8yZTDdvPnzycoKOikJT09vdVef3BkEFNGRLba\n",
              "64mIiIh0Fh4rl7179yY/P5+Ghgag8bONOTk5REVF/c9j586dS1lZ2UlLcnKyp6KIiIiIiEk8Vi7D\n",
              "w8MZPnw4S5cuBWDVqlVERkb+z0gcwOFwEBgYeNJis9k8FUVERERETOKxz1wCLFq0iFmzZjFv3jwC\n",
              "AwNZsmSJJzcvIiIiIm2cR8tlQkICqampntykiIiIiLQjug6PiIiIiHiMyqWIiIiIeIzKpYiIiIh4\n",
              "jMqliIiIiHiMyqWIiIiIeIzKpYiIiIh4jMqliIiIiHiMxTAMw+wQAFdffTXR0dGt8loul4v09HSS\n",
              "k5N1Z6BWpPfdHHrfzaH33Rx6382h990cZrzvffr04Re/+MX3PqbNlMvWVF5eTlBQEGVlZQQGBpod\n",
              "p9PQ+24Ove/m0PtuDr3v5tD7bo62+r5rLC4iIiIiHqNyKSIiIiIeo3IpIiIiIh7TKculw+Hg4Ycf\n",
              "xuFwmB2lU9H7bg697+bQ+24Ove/m0Ptujrb6vnfKE3pEREREpGV0yiOXIiIiItIyVC5FRERExGNU\n",
              "LkVERETEYzptuTxy5Ajjxo0zO4aIiLSAnTt3Nt31TT/vpaPJzs5m4cKF3/uYkSNH8vnnn7dOoG/p\n",
              "tOWyZ8+efPnll2bHEBGRFqaf99LRnE65NFOHK5cWi4U//OEPjB49mujoaFavXs38+fMZOXIkcXFx\n",
              "TS0+Ozub4ODgk543b948kpOT6du3L0uWLDFnB0RO0+l+rzc0NHDRRRcxcuRIBg0axHXXXUdVVRUA\n",
              "r732GiNHjsTpdGIYBpdffjl/+MMfTNwr6YxO93sZ4KOPPuLcc89lxIgRJCcns3bt2qavPfLII8TF\n",
              "xTFixAjeeOONpvXf/nl//fXXM3LkSIYMGcKll17K0aNHT3rcww8/zIgRI4iNjeWDDz5o8f0X+T41\n",
              "NTVMmzaNgQMHkpSUxIUXXsjtt9/Ovn37GDp0KFdccQUAX3/9NUOHDiUxMZGbbrqJhoYG80IbHQxg\n",
              "/PnPfzYMwzDWrFlj+Pn5GUuWLDEMwzBWrFhhjBw50jAMw8jKyjKCgoJOet5TTz1lGIZh7Nmzx/D3\n",
              "9zfq6+tbNbtIc5zu97rb7TYKCwub/nz77bcb8+fPb9rO7Nmzjbvuust44oknjEmTJhlut7t1d0Q6\n",
              "vdP9Xj5w4ICRkpJilJWVGYZhGBkZGUZERIRRW1trvPfee8bAgQONsrIyw+12G9dff73Rp08fwzD+\n",
              "9+d9QUFB05/nz59vzJkzp+lxgPHmm28ahmEY//rXv4z4+PiW3HWRH/TWW28ZF154YdPfi4qKjLVr\n",
              "1xpJSUlN65xOpxEZGWl88sknhmEYxkcffWQAxtq1a1s5bSO7ebW25UybNg1o/LxBVVUV06dPByA5\n",
              "OZmMjIzvfN71118PQP/+/bHb7Rw9epTIyMiWDyxyhk7ne90wDP70pz/x/vvv09DQQFlZGWPHjm3a\n",
              "xjPPPMPo0aN599132bJlCxaLpfV3RDq90/le/vDDD8nMzOS8885rep7VaiUnJ4dPP/2Ua665hsDA\n",
              "QADmzJnDV199dcrXev3113n11Vepra2ltraWsLCwpq/5+Phw9dVXAzBmzBgOHDjg+Z0VaYakpCT2\n",
              "7NnDnXfeyfjx47nkkkv+5zF79+7FbrczceJEAC688EJiYmJaO2qTDjcWh8YfDgA2m+1//v59h4n/\n",
              "/bjTeaxIW3A63+uvv/46n332GevWrWPHjh3ce++91NbWNm2joKCAkpIS3G43paWlrbsDIieczvey\n",
              "YRhccMEFbN26tWnJy8sjLi7uf7b3Xf9J+uqrr/jLX/7CBx98wM6dO1mwYMFJ/x4cDkfTc202Gy6X\n",
              "y3M7KXIGYmJi2L17N5MmTWL9+vUkJiZSUlLyg88z80BBhyyXIvIfJSUlhIWFERgYSEVFBS+99FLT\n",
              "1xoaGpg+fTq///3vWbBgAddccw1Op9O8sCLf46KLLmLNmjVs3769aV16ejoAEydOZOXKlVRUVGAY\n",
              "BosXLz7lNkpKSggICCA0NJS6ujoWLVrUKtlFztThw4exWCxcccUVPPXUUxiGQWhoKGVlZU2P6d+/\n",
              "Pw0NDU2fQV6zZo2pR9075FhcRP7jhhtu4J133iEhIYFu3boxbtw4Dh06BMADDzxAQkICN954IwDr\n",
              "1q3j7rvv5vnnnzczssgpxcbG8vrrrzNnzhyqq6upq6tj2LBhvP7661xyySWkp6czfPhwAgMDufji\n",
              "i0+5jUmTJrF06VISEhIIDQ1l4sSJ5OXltfKeiJy+HTt2MHfuXAzDoKGhgZkzZzJ27FgGDRpEYmIi\n",
              "MTExvPvuuyxfvpw777wTl8vFqFGjSEpKMi2z7i0uIiIiIh6jsbiIiIiIeIzKpYiIiIh4jMqliIiI\n",
              "iHiMyqWIiIiIeIzKpYiIiIh4jMqliIiIiHiMyqWIiIiIeIzKpYiIiIh4jMqliIiIiHiMyqWIiIiI\n",
              "eIzKpYiIiIh4zP8DDOTvplhipGQAAAAASUVORK5CYII=\n",
              "\">\n",
              "      </div>\n",
              "      <script type=\"text/javascript\">\n",
              "        (() => {\n",
              "          const chartElement = document.getElementById(\"chart-cab80ab2-8068-400e-a896-474f366b82fb\");\n",
              "          async function getCodeForChartHandler(event) {\n",
              "            const chartCodeResponse =  await google.colab.kernel.invokeFunction(\n",
              "                'getCodeForChart', [\"chart-cab80ab2-8068-400e-a896-474f366b82fb\"], {});\n",
              "            const responseJson = chartCodeResponse.data['application/json'];\n",
              "            await google.colab.notebook.addCell(responseJson.code, 'code');\n",
              "          }\n",
              "          chartElement.onclick = getCodeForChartHandler;\n",
              "        })();\n",
              "      </script>\n",
              "      <style>\n",
              "        .colab-quickchart-chart-with-code  {\n",
              "            display: block;\n",
              "            float: left;\n",
              "            border: 1px solid transparent;\n",
              "        }\n",
              "\n",
              "        .colab-quickchart-chart-with-code:hover {\n",
              "            cursor: pointer;\n",
              "            border: 1px solid #aaa;\n",
              "        }\n",
              "      </style>"
            ]
          },
          "metadata": {}
        },
        {
          "output_type": "display_data",
          "data": {
            "text/plain": [
              "from matplotlib import pyplot as plt\n",
              "_df_4['Fare'].plot(kind='line', figsize=(8, 4), title='Fare')\n",
              "plt.gca().spines[['top', 'right']].set_visible(False)"
            ],
            "text/html": [
              "      <div class=\"colab-quickchart-chart-with-code\" id=\"chart-ef776d58-3e1a-4083-bad5-f6658c7cca22\">\n",
              "        <img style=\"width: 180px;\" src=\"data:image/png;base64,iVBORw0KGgoAAAANSUhEUgAAAp4AAAFuCAYAAAAoDBgXAAAAOXRFWHRTb2Z0d2FyZQBNYXRwbG90\n",
              "bGliIHZlcnNpb24zLjcuMSwgaHR0cHM6Ly9tYXRwbG90bGliLm9yZy/bCgiHAAAACXBIWXMAAA9h\n",
              "AAAPYQGoP6dpAABGjklEQVR4nO3deXhU9d3+8fdMJgshCyGQsISwJkCAJLJJoeAK4o6sXWyLfVqw\n",
              "2kURRRSrViWICNU+tcX+ntLFatlRQaqoKCgVBCUBwpIAIQmEBELISraZ8/sjGAQRCCTznZncr+s6\n",
              "l0nOLPeMA7k5n7PYLMuyEBERERFpYnbTAURERESkeVDxFBERERG3UPEUEREREbdQ8RQRERERt1Dx\n",
              "FBERERG3UPEUEREREbdQ8RQRERERt1DxFBERERG3UPEUEREREbdQ8RQRERERt1DxFBG5Qtdeey0B\n",
              "AQGEhITULyNGjDAdS0TE46h4iog0gkceeYSysrL6ZcOGDQ26v2VZ1NbWNlE6ERHPoOIpItIEdu7c\n",
              "yQ033EDbtm0JDw/n6quv5sMPP6xfn5WVhc1m4//+7/9ISkoiODiYrVu3UllZyWOPPUb37t2JiIhg\n",
              "xIgRfPnllwZfiYhI41HxFBFpIo8++ijZ2dkUFBRw8803c9ddd1FQUHDWbf7617+yevVqysrKuOqq\n",
              "q7j33nvZsmULH3/8MceOHWPixIncdNNNnDx50syLEBFpRCqeIiKNYN68ebRq1ap++fLLLxk5ciQt\n",
              "WrQgMDCQp556CpvNxubNm8+6329/+1s6deqEn58fZWVl/P3vf+ePf/wjMTExOBwOfvnLXxIeHs7q\n",
              "1asNvTIRkcbjMB1ARMQXTJ8+nWeffbb+++zsbL73ve+xadMmTp48id1up6Sk5BtbPLt27Vr/dWZm\n",
              "JgBXX331Wbeprq4mNze3CdOLiLiHiqeISBP4+c9/Tnh4OJ9//jnR0dFYlkVERASWZZ11O7v9zOCp\n",
              "Xbt2AKSlpREbG+vWvCIi7qBRu4hIEyguLiYkJISIiAjKy8uZOXMmZWVlF7xP586dGTNmDPfffz+H\n",
              "Dh0CoLS0lLVr15KXl+eO2CIiTUrFU0SkCbz88sukpqYSERFBQkICHTt2JCYm5qL3e/311xkwYAAj\n",
              "R44kNDSUnj178pe//OUbW0pFRLyRzdLfZiIiIiLiBtriKSIiIiJuoeIpIiIiIm6h4ikiIiIibqHi\n",
              "KSIiIiJuoeIpIiIiIm6h4ikiIiIibqHiKSIiIiJu4RXF86WXXjIdQURERESukFcUz68uHSciIiIi\n",
              "3ssriqeIiIiIeD8VTxERERFxCxVPEREREXELFU8RERERcQsVTxERERFxCxVPEREREXELFU8RERER\n",
              "cQsVTxERERFxCxVPEREREXELFU8RERERcQsVTxERERFxCxVPkWaqxuniiVU7+eP6TNNRRESkmXCY\n",
              "DiAiZvxxfSb//OwQAF3btOSWfu0NJxIREV+nLZ4izdDOw8X874dntnQ+vnIHBSWVBhOJiEhzoOIp\n",
              "0sxU17qYvjSVWpfFqIRo+nQIo6iihhnL07Asy3Q8ERHxYQ0unl26dKFnz54kJyeTnJzM4sWLAcjI\n",
              "yGDo0KHEx8czaNAgdu3aVX+fC60TEff6w4cZ7DlaSuuWAcwe248Fk5IJcNhZv/cYb2zJMR1PRER8\n",
              "2GVt8Vy8eDHbt29n+/btTJo0CYCpU6cyZcoU9u3bx4wZM5g8eXL97S+0TkTcZ0duMa98tB+AZ+7s\n",
              "S5uQQOKjQ3nkpp4APLsmnUOF5SYjioiID2uUUXtBQQFbt27l7rvvBmDcuHHk5OSQmZl5wXUi4j5V\n",
              "tU4eWrodp8vi1sT23Jp45mCinw7rypBuramodjJtSSpOl0buIiLS+C6reP74xz+mX79+/M///A/H\n",
              "jh0jJyeH9u3b43DUHSRvs9mIjY0lOzv7guvOp6qqipKSkrMWp9N5mS9PRL7y0vsZ7Msvo01IAM/c\n",
              "2fesdXa7jXkTkggNdLDtUBELN+w3lFJERHxZg4vnhg0bSEtL44svvqBNmzb85Cc/adRAKSkphIeH\n",
              "n7Vs2bKlUZ9DpLnZnnOSP39cVyafHdOP1i0DvnGbmIhgnryjDwAL1u1j15Fit2YUERHf1+DiGRsb\n",
              "C4C/vz8PPPAAGzdupFOnTuTl5VFbWwuAZVlkZ2cTGxt7wXXnM3PmTIqLi89aBg8efLmvT6TZq6xx\n",
              "Mn1pKi4L7kzuwOi+7b71tuP6d2RUQjQ1Totpi1OprNG0QUREGk+Dimd5eTknT56s//6NN97gqquu\n",
              "Iioqiv79+/Paa68BsHz5cmJiYujRo8cF151PYGAgYWFhZy1+fn6X+fJEZMH7+8gsKKNtaCBP3d7n\n",
              "gre12WykjO1Hm5AA9uaXsmDdPjelFBGR5qBBVy7Kz89n3LhxOJ1OLMuiW7du/OMf/wBg4cKFTJ48\n",
              "mdmzZxMWFsaiRYvq73ehdSLSdLYdKuIvGw4AMPuufkScZ8R+rsiQQOaMTeRn/9jKqxsPcH2vKK7u\n",
              "FtnUUUVEpBmwWV5wxuhp06Yxf/580zFEvEpljZNbXtrIgePljL2qI/MnJTfo/jOWpbF4aw4xES1Y\n",
              "+5vhhAb5N01QERFpNnTlIhEf9eJ7ezlwvJyo0ECevMiI/Xxm3dabmIgW5Bad4pnV6U2QUEREmhsV\n",
              "TxEftDXrBP/vk4MAzBnXj/Dghm+tDA3yZ/7EZGw2WLI1l3Xp+Y0dU0REmhkVTxEfc6q67ih2y4Lx\n",
              "A2K4vlf0ZT/W4K6tmTK8GwAzV6RRWFbVWDFFRKQZUvEU8TFz391DVmEF7cKCeOK2hCt+vGmj4ukZ\n",
              "HcrxsmpmrtiBF+wWLiIiHkrFU8SHbD5QyKJPs4DTI/YWV35AUKDDjwWTkvH3s/Feej7LtuVe8WOK\n",
              "iEjzpOIp4iMqqmt5eFkaAN8b1Ilre0Y12mMndAjjwZHxADz9djq5RRWN9tgiItJ8qHiK+Ijn1+4h\n",
              "+0QFHcKDePzW3o3++FNHdGdg5wjKqmrrroTk0shdREQaRsVTxAds2n+cv//3EADPj09sknNu+tlt\n",
              "vDgxieAAPz47cIK/fnqw0Z9DRER8m4qniJcrr6rlkdMj9h9cHcvwuLZN9lydI1sy69a6A5bmvruX\n",
              "ffmlTfZcIiLie1Q8Rbxcytrd5BadomOrFjx2S+OP2M/1/cGduL5XFNW1Lh7493aqa11N/pwiIuIb\n",
              "VDxFvNgnGcd57bNsAF4Yn0hIoKPJn9NmszFnXD8igv1Jzyvh5Q8ymvw5RUTEN6h4inip0soaZiyv\n",
              "G7H/aEhnhvZo47bnjgoNYvZd/QB45aNMth0qcttzi4iI91LxFPFSs9/ZzeGTp+jUugWP3tzL7c9/\n",
              "c7/23HVVR1wWPLRkOxXVtW7PICIi3kXFU8QLfbzvGG9syQHghfFJtHTDiP18nrqjD+3Dg8gqrOC5\n",
              "NbuNZBAREe+h4iniZUoqa3j09Ih98tAuDOkWaSxLeAt/5k1IAuBfm7NZv7fAWBYREfF8Kp4iXubZ\n",
              "1enkFVfSJTKYR0b3NB2HYT3acM+wLgDMWJZGUXm12UAiIuKxVDxFvMj6PQUs2ZqLzQYvTEgiOMDM\n",
              "iP1cM0b3onvblhSUVjHrzZ1Ylq5qJCIi36TiKeIliitqeHRF3Yj9p8O6MqhLa8OJzgjy92PBpGQc\n",
              "dhtr0vJ4K/WI6UgiIuKBVDxFvMTvVqeTX1JFtzYtmT7K/Ij9XIkxrfjV9XEAPLFqJ3nFpwwnEhER\n",
              "T6PiKeIF3k/PZ/kXudhPj9hbBPiZjnRe91/XnaROrSiprLuMp8ulkbuIiJyh4ini4U5WVDNz5Q4A\n",
              "fja8GwM6RxhO9O0cfnbmT0wiyN/Oxozj/POzQ6YjiYiIB1HxFPFwT721i2OlVXRv25JpI+NNx7mo\n",
              "7m1DmHlz3TXjU9buZv+xMsOJRETEU6h4iniwd3cdZdX2I9htMG9CEkH+njliP9ePhnRmeFwbKmtc\n",
              "TFu8nVqny3QkERHxACqeIh7qRHk1j58esU+9pjtXxXruiP1cdruNF8YnERbkIDW3mD+u3286koiI\n",
              "eAAVTxEP9eRbuzheVk18dAgP3BhnOk6DtQsP4pkxfQF4+cMM0nJPmg0kIiLGqXiKeKB3duTxduoR\n",
              "/Ow25k1IItDhHSP2c92R1IFbE9vjdFk8uHg7lTVO05FERMQgFU8RD1NYVsUTq3YC8ItrupMY08ps\n",
              "oCtgs9l4bkxfokID2X+snOf/s8d0JBERMUjFU8TD/PbNXRSWV9OrXSi/uqGH6ThXrFVwAHPHJwKw\n",
              "6NMsPs08bjiRiIiYouIp4kFWpx1hzY48HF4+Yj/XtT2juHtILADTl6ZSfKrGcCIRETFBxVPEQxwr\n",
              "PTNiv++6HvTtGG44UeN67JbedIkMJq+4kqfe2mU6joiIGKDiKeIBLMti1qodFFXU0Lt9GL+8zvtH\n",
              "7OcKDnAwf1Iydhus/PIw7+zIMx1JRETcTMVTxAO8lXqEd3fl47DbeHFCEgEO3/yj2T82gvuurSvV\n",
              "j6/cQUFJpeFEIiLiTr75203EixSUVPLbN+tGz7++IY6EDmGGEzWtX98QR58OYRRV1DBjeRqWZZmO\n",
              "JCIibqLiKWKQZVk8tnIHxadq6NsxjF9c2910pCYX4LCzYFIyAQ476/ce440tOaYjiYiIm6h4ihi0\n",
              "8svDvL+7AH+/uqPY/f2axx/J+OhQHrmpJwDPrknnUGG54UQiIuIOzeO3nIgHyi85c3T3AzfG06ud\n",
              "b4/Yz/XTYV0Z0q01FdVOpi1JxenSyF1ExNepeIoYYFkWM1fsoKSylsSYcKaO6GY6ktvZT5+rNCTQ\n",
              "wbZDRSzcsN90JBERaWIqniIGLNuWy4d7Cgjws/PihCQczWTEfq6YiGCevD0BgAXr9rHrSLHhRCIi\n",
              "0pSa5287EYPyik/xu7fTAXhwZDxx0aGGE5k1fkAMoxKiqXFaTFucSmWN03QkERFpIiqeIm5kWRYz\n",
              "lu+gtKqW5E6t+PnwrqYjGWez2UgZ2482IQHszS9lwbp9piOJiEgTUfEUcaPFn+ewYd8xAhx25jXj\n",
              "Efu5IkMCmTM2EYBXNx5g84FCw4lERKQp6LeeiJscPnmKZ9fsBuDhUT3pERViOJFnuTEhmkkDO2FZ\n",
              "8NDSVEora0xHEhGRRqbiKeIGlmUxY1kaZVW1DOgcwU+/qxH7+cy6rTcxES3ILTrFM6vTTccREZFG\n",
              "puIp4gavb8nmk8zjBDrsvDA+ET+7zXQkjxQa5M/8icnYbLBkay7r0vNNRxIRkUak4inSxHJOVDD7\n",
              "9Ij9kdG96NZWI/YLGdy1NVOG153XdOaKNArLqgwnEhGRxqLiKdKEXC6LGcvTKK92MrhLa+4Z2sV0\n",
              "JK8wbVQ8PaNDOV5WzcwVO7AsXdVIRMQXXHbxXLRoETabjVWrVgFQUFDA6NGjiYuLo2/fvmzYsKH+\n",
              "thdaJ+LL/rX5EJv2F9LC34+54xOxa8R+SQIdfiyYlIy/n4330vNZti3XdCQREWkEl1U8s7Ky+Mtf\n",
              "/sKQIUPqf/boo48yZMgQMjIyWLRoET/4wQ+oqam56DoRX5VdWMHsd/YAMGN0T7q0aWk4kXdJ6BDG\n",
              "gyPjAXj67XRyTlQYTiQiIleqwcXT5XLxs5/9jD/84Q8EBgbW/3zJkiXce++9AAwaNIgOHTrw8ccf\n",
              "X3SdiC9yuSymL0vlVI2Tq7u25sff6WI6kleaOqI7AztHUFZVy/SlqbhcGrmLiHizBhfP+fPnM2zY\n",
              "MAYMGFD/s8LCQmpqamjXrl39z7p06UJ2dvYF151PVVUVJSUlZy1Opy6hJ97l7//NYsvBEwQH+PHC\n",
              "+CSN2C+Tn93GixOTCA7wY/PBE/z104OmI4mIyBVoUPHcuXMny5cvZ9asWU2Vh5SUFMLDw89atmzZ\n",
              "0mTPJ9LYso6X8/x/6kbsM2/pTWxksOFE3q1zZEtm3ZoAwNx397Ivv9RwIhERuVwNKp4bN24kKyuL\n",
              "uLg4unTpwmeffcaUKVNYsmQJDoeDo0eP1t82KyuL2NhYIiMjv3Xd+cycOZPi4uKzlsGDB1/myxNx\n",
              "L6fLYvrSVCprXAzrEckPB5//cy4N8/3Bnbi+VxTVtS4e+Pd2qmtdpiOJiMhlaFDx/MUvfkFeXh5Z\n",
              "WVlkZWUxZMgQXn31VX7xi18wYcIE/vznPwPw+eefc/jwYa655hqAC647V2BgIGFhYWctfn5+V/Ia\n",
              "Rdxm0acH2XqoiJYBfjw/TkexNxabzcaccf2ICPYnPa+Elz/IMB1JREQuQ6Odx/P5559n06ZNxMXF\n",
              "MXnyZF577TX8/f0vuk7EV+w/VsYL7+4F4PFbE4iJ0Ii9MUWFBjH7rn4AvPJRJtsOFRlOJCIiDWWz\n",
              "vODMzNOmTWP+/PmmY4h8K6fLYsKfN/FF9kmGx7XhHz8djM2mrZ1N4cHF21n55WG6RAbzzm+GExzg\n",
              "MB1JREQuka5cJNII/u+TA3yRfZLQQAfPj0tU6WxCT93Rh/bhQWQVVvDc6UuRioiId1DxFLlCmQWl\n",
              "zHtvHwCzbutNh1YtDCfybeEt/Jk3IQmAf23OZv3eAsOJRETkUql4ilyBWqeLh5amUV3r4pr4tkwc\n",
              "2Ml0pGZhWI823DOsCwAzlqVRVF5tNpCIiFwSFU+RK/DqxgOk5pwkNMjBnHH9NGJ3oxmje9G9bUsK\n",
              "SquY9eZOvGB3dRGRZk/FU+Qy7csv5ffr6k7r8+TtfWgfrhG7OwX5+7FgUjIOu401aXm8lXrEdCQR\n",
              "EbkIFU+Ry1DjdPHQklSqnS5u6BXFuP4dTUdqlhJjWvGr6+MAeGLVTvKKTxlOJCIiF6LiKXIZFn68\n",
              "nx2HiwkLcjB7rEbsJt1/XXeSOrWipLKWR5al4XJp5C4i4qlUPEUaaHdeCS+dvnLO03f2ITosyHCi\n",
              "5s3hZ2f+xCSC/O1szDjOPz87ZDqSiIh8CxVPkQaocbqYvjSVGqfFyIRoxiRrxO4JurcNYebNvQFI\n",
              "Wbub/cfKDCcSEZHzUfEUaYBX1u9n15ESWgX789xdfTVi9yA/GtKZ4XFtqKxxMW3xdmqdLtORRETk\n",
              "HCqeIpdo15Fi/vDh6RH7HX2ICtWI3ZPY7TZeGJ9EWJCD1Nxi/rh+v+lIIiJyDhVPkUtQXVt3FHut\n",
              "y2J0n3bckdTBdCQ5j3bhQTwzpi8AL3+YQVruSbOBRETkLCqeIpfgfz/MYM/RUlq3DOBZjdg92h1J\n",
              "Hbg1sT1Ol8WDi7dTWeM0HUlERE5T8RS5iJ2Hi/njR3Vj22fu7EubkEDDieRCbDYbz43pS1RoIPuP\n",
              "lTNn7R7TkURE5DQVT5ELqKp18tCSVJwui1sT23NrYnvTkeQStAoOYO74RAD+timLTzOPG04kIiKg\n",
              "4ilyQS9/kMHe/FIiWwbwuzv6mI4jDXBtzyjuHhILwPSlqRSfqjGcSEREVDxFvkVqzkn+dHrE/uyY\n",
              "vkRqxO51HrulN10ig8krruSpt3aZjiMi0uypeIqcR2WNk+lLU3FZdQer3NxPI3ZvFBzgYP6kZOw2\n",
              "WPnlYd7ZkWc6kohIs6biKXIev38/g4yCMtqEBPK0RuxerX9sBPdd2wOAx1fuoKCk0nAiEZHmS8VT\n",
              "5BxfZBfx6oa6Efvsu/oS0TLAcCK5Ur++IY4+HcIoqqhhxvI0LMsyHUlEpFlS8RT5mq+P2O+6qiOj\n",
              "+rQzHUkaQYDDzoJJyQQ47Kzfe4w3tuSYjiQi0iypeIp8zYvv7eXAsXKiQgN58vYE03GkEcVHh/LI\n",
              "TT0BeHZNOocKyw0nEhFpflQ8RU7bdugE/++TgwCkjO1Hq2CN2H3NT4d1ZUi31lRUO5l2+vysIiLi\n",
              "PiqeIsCpaifTl6ZhWTB+QAw39I42HUmagN1uY96EJEICHWw7VMTC0/vyioiIe6h4igAvvLuXg8fL\n",
              "aRcWxBO3acTuy2Iigut3o1iwbh+7jhQbTiQi0nyoeEqzt+XgCRZtOj1iH9eP8Bb+hhNJUxs/IIZR\n",
              "CdHUOC2mLU6lssZpOpKISLOg4inNWkV1LQ8vS8WyYNLATlzXM8p0JHEDm81Gyth+tAkJYG9+KQvW\n",
              "7TMdSUSkWVDxlGZt7n/2cqiwgg7hQTx+W2/TccSNIkMCmTM2EYBXNx5g84FCw4lERHyfiqc0W//d\n",
              "X8jfNmUBMGdcImFBGrE3NzcmRDNpYCcsCx5amkppZY3pSCIiPk3FU5ql8qq6ETvA9wfHMiK+reFE\n",
              "Ysqs23oTE9GC3KJTPLM63XQcERGfpuIpzVLK2t3kFp2iY6sWPH6rRuzNWWiQP/MnJmOzwZKtuaxL\n",
              "zzcdSUTEZ6l4SrPzaeZxXvssG4C54xMJCXQYTiSmDe7aminDuwEwc0UahWVVhhOJiPgmFU9pVkor\n",
              "a3hkWRoAPxrSmWE92hhOJJ5i2qh4ekaHcrysmpkrdmBZuqqRiEhjU/GUZmX2O3s4fPIUnVq34NGb\n",
              "e5mOIx4k0OHHgknJ+PvZeC89n2Xbck1HEhHxOSqe0mxs2HeMN7acHrGPS6KlRuxyjoQOYTw4Mh6A\n",
              "p99OJ+dEheFEIiK+RcVTmoWSyhoeXV43Yp88tAvf6R5pOJF4qqkjujOwcwRlVbVMX5qKy6WRu4hI\n",
              "Y1HxlGbhudW7OVJcSefIYB4Z3dN0HPFgfnYbL05MIjjAj80HT/DXTw+ajiQi4jNUPMXnrd9bwOKt\n",
              "Odhs8ML4JIIDNGKXC+sc2ZJZtyYAMPfdvezLLzWcSETEN6h4ik8rrjgzYr9naFcGd21tOJF4i+8P\n",
              "7sT1vaKornXxwL+3U13rMh1JRMTrqXiKT/vd6nTyS6ro2qYlD9+kEbtcOpvNxpxx/YgI9ic9r4SX\n",
              "P8gwHUlExOupeIrP+mB3Psu/yMVmg3kTEmkR4Gc6kniZqNAgZt/VD4BXPspk26Eiw4lERLybiqf4\n",
              "pJMVdScBB/j58G4M6KwRu1yem/u1566rOuKy4KEl26morjUdSUTEa6l4ik96+u10Ckqr6Na2JdNO\n",
              "n5dR5HI9dUcf2ocHkVVYwXNrdpuOIyLitVQ8xee8t+soK788jN0G8yYkEeSvEbtcmfAW/sybkATA\n",
              "vzZns35vgeFEIiLeScVTfEpReTWPrdwJwJQR3ekfG2E4kfiKYT3acM+wLgDMWJZGUXm12UAiIl6o\n",
              "wcVz1KhRJCYmkpyczPDhw/nyyy8ByMjIYOjQocTHxzNo0CB27dpVf58LrRNpTE++tYvjZVXERYXw\n",
              "wI1xpuOIj5kxuhfd27akoLSKWW/uxLJ0VSMRkYZocPFcsmQJaWlpbN++nWnTpjF58mQApk6dypQp\n",
              "U9i3bx8zZsyo//nF1ok0lrU78ngr9Qh+dptG7NIkgvz9WDApGYfdxpq0us+biIhcugYXz1atWtV/\n",
              "XVxcjM1mo6CggK1bt3L33XcDMG7cOHJycsjMzLzgOpHGUlhWxaxVdSP2e6/pRlKnVmYDic9KjGnF\n",
              "r66v25r+xKqd5BWfMpxIRMR7XNa1A3/84x+zfv16AN555x1ycnJo3749Dkfdw9lsNmJjY8nOziY8\n",
              "PPxb1/Xo0eMbj11VVUVVVdVZP3M6nZcTU5qR3765i8LyanpGh/LrGzRil6Z1/3Xd+XBvAak5J3lk\n",
              "WRp/v2cwdrvNdCwREY93WQcX/eMf/yAnJ4dnn32WGTNmNGqglJQUwsPDz1q2bNnSqM8hvmV12hHW\n",
              "7MjDz27jxYlJBDo0Ypem5fCzM39iEkH+djZmHOefnx0yHUlExCtc0VHtP/nJT1i/fj0xMTHk5eVR\n",
              "W1t3YmXLssjOziY2NpZOnTp967rzmTlzJsXFxWctgwcPvpKY4sOOlVbxxOkR+/3X9aBvx3DDiaS5\n",
              "6N42hJk39wYgZe1u9h8rM5xIRMTzNah4njx5kiNHzuxMv2rVKiIjI4mKiqJ///689tprACxfvpyY\n",
              "mBh69OhxwXXnExgYSFhY2FmLn5+2YMk3WZbFrFU7KKqooXf7MH553fk/UyJN5UdDOjM8rg2VNS6m\n",
              "Ld5OjdNlOpKIiEdr0D6excXFTJgwgVOnTmG322nbti2rV6/GZrOxcOFCJk+ezOzZswkLC2PRokX1\n",
              "97vQOpHL9VbqEd7dlY/DbmPehEQCHDotrbiX3W7jhfFJjFrwMam5xbyyfj+/0Wm8RES+lc3yghPR\n",
              "TZs2jfnz55uOIR6koLSSUQs2cLKihgdvjNcvezHqze2H+c2/t+Nnt7HyvqEkxrQyHUlExCNpE5F4\n",
              "HcuyeHzlTk5W1NCnQxj3XdfddCRp5u5I6sCtie1xuiweXLydyhqdiUNE5HxUPMXrrNp+mHXp+fj7\n",
              "1R3F7u+nj7GYZbPZeG5MX6JCA9l/rJw5a/eYjiQi4pH0G1u8Sn5JJU++WXfJ1d/cEEevdmGGE4nU\n",
              "aRUcwNzxiQD8bVMWn2YeN5xIRMTzqHiK17Asi5krdlBSWUu/juHce41G7OJZru0Zxd1D6k4VN31p\n",
              "KsWnagwnEhHxLCqe4jWWf3GYD/cUEOBn58WJSTg0YhcP9NgtvekSGUxecSVPvbXLdBwREY+i39zi\n",
              "FfKKT/H023W/xB8cGU98dKjhRCLnFxzgYP6kZOw2WPnlYd7ZkWc6koiIx1DxFI9nWRaPLt9BaWUt\n",
              "SZ1a8fPhXU1HErmg/rER3Hdt3QUNHl+5g4KSSsOJREQ8g4qneLwlW3P4eN8xAhx2XpyQqBG7eIVf\n",
              "3xBHnw5hFFXUMGN5Gl5wymQRkSan3+Di0Q6fPMWzq3cDMH1UPD2iNGIX7xDgsLNgUjIBDjvr9x7j\n",
              "jS05piOJiBin4ikeq27EnkZpVS39Y1vxP9/tZjqSSIPER4fyyE09AXh2TTqHCssNJxIRMUvFUzzW\n",
              "G1ty2JhxnECHnXkTkvCz20xHEmmwnw7rypBuramodjJtSSpOl0buItJ8qXiKR8o5UcFza9IBePim\n",
              "nnRrG2I4kcjlsdttzJuQREigg22Hili4Yb/pSCIixqh4isdxuSxmLE+jvNrJoC4R3DNMR7GLd4uJ\n",
              "CObJ2xMAWLBuH7uOFBtOJCJihoqneJx/bclm0/5CgvztvDBeI3bxDeMHxDAqIZoap8W0xalU1jhN\n",
              "RxIRcTsVT/Eo2YUVpLxTdxT7o6N70aVNS8OJRBqHzWYjZWw/2oQEsDe/lAXr9pmOJCLidiqe4jFc\n",
              "LouHl6VSUe3k6q6t+fF3upiOJNKoIkMCSRmbCMCrGw+w+UCh4UQiIu6l4ike4x//zWLzwRMEB/jx\n",
              "wvgk7Bqxiw8amRDNxIExWBY8tDSV0soa05FERNxGxVM8Qtbxcp7/z14AZt7ci9jIYMOJRJrOE7cl\n",
              "EBPRgtyiUzyzOt10HBERt1HxFOO+GrGfqnEytHskP7y6s+lIIk0qNMif+ROTsdlgydZc3tt11HQk\n",
              "ERG3UPEU4xZtyuLzrCJaBvjx/LhEjdilWRjctTVThtddjWvmih0cL6synEhEpOmpeIpRB46VMfc/\n",
              "ewB47NbedGqtEbs0H9NGxdMzOpTC8moeW7EDy9JVjUTEt6l4ijFOl8X0palU1br4bo82/GBwrOlI\n",
              "Im4V6PBjwaRk/P1svJeez7JtuaYjiYg0KRVPMeavnxzki+yThAQ6eH58IjabRuzS/CR0COPBkfEA\n",
              "PP12OjknKgwnEhFpOiqeYkRmQRkvvFd3FPsTt/WmY6sWhhOJmDN1RHcGdo6grKqW6UtTcbk0chcR\n",
              "36TiKW5X63Tx0NJUqmtdXBPflokDO5mOJGKUn93GixOTCA7wY/PBE/z104OmI4mINAkVT3G7v2w8\n",
              "SGrOSUKDHMwZ108jdhGgc2RLZt2aAMDcd/eyL7/UcCIRkcan4ilulfG1a1T/9rYE2odrxC7yle8P\n",
              "7sT1vaKornXxwL+3U13rMh1JRKRRqXiK29SP2J0uru8VxfgBMaYjiXgUm83GnHH9iAj2Jz2vhJc/\n",
              "yDAdSUSkUal4itss3HCAtNxiwoIcpIzViF3kfKJCg5h9Vz8AXvkok22HigwnEhFpPCqe4hZ7jpbw\n",
              "+/frRuxP3dGH6LAgw4lEPNfN/dpz11UdcVnw0JLtVFTXmo4kItIoVDylydU4XTy0JJUap8WNvaO5\n",
              "66qOpiOJeLyn7uhD+/AgsgoreG7NbtNxREQahYqnNLk/fbSfXUdKaBXsz+yxfTViF7kE4S38mTch\n",
              "CYB/bc5m/d4Cw4lERK6ciqc0qV1HiusPkHj6jj5EhWrELnKphvVowz3DugAwY1kaReXVZgOJiFwh\n",
              "FU9pMtW1LqYvTaPWZXFTn2juSOpgOpKI15kxuhfd27akoLSKWW/uxLJ0VSMR8V4qntJk/nd9Jrvz\n",
              "SogI9ufZMTqKXeRyBPn7sWBSMg67jTVpebyVesR0JBGRy6biKU1i5+FiXlmfCcAzY/rSNjTQcCIR\n",
              "75UY04pfXR8HwBOrdpJXfMpwIhGRy6PiKY2uqtbJ9KWp1Losbu3XntsSNWIXuVL3X9edpE6tKKms\n",
              "5eGlabhcGrmLiPdR8ZRG94cPMtlztJTIlgH87s4+puOI+ASHn535E5MI8rfzSeZx/vnZIdORREQa\n",
              "TMVTGlVqzkn+9PF+AJ4d05fIEI3YRRpL97YhzLy5NwApa3ez/1iZ4UQiIg2j4imNprKmbsTudFnc\n",
              "ntSBm/u1Nx1JxOf8aEhnhse1obLGxbTF26lxukxHEhG5ZCqe0mhe+iCDjIIy2oQE8rs7NGIXaQp2\n",
              "u40XxicRFuQgNbeYV9bvNx1JROSSqXhKo/gyu4iFp0fss+/qS0TLAMOJRHxXu/AgnhnTF4CXP8wg\n",
              "Lfek2UAiIpdIxVOu2FcjdpcFY5I7MKpPO9ORRHzeHUkduDWxPU6XxYOLt1NZ4zQdSUTkolQ85YrN\n",
              "X7eP/cfKaRsayFMasYu4hc1m47kxfYkKDWT/sXLmrN1jOpKIyEWpeMoV2XboBH/ZeACAlLv60SpY\n",
              "I3YRd2kVHMDc8YkA/G1TFp9mHjecSETkwlQ85bKdqnYyfWkalgXj+sdwY0K06Ugizc61PaO4e0gs\n",
              "ANOXplJ8qsZwIhGRb9eg4llZWcmYMWOIj48nKSmJkSNHkplZd1nEgoICRo8eTVxcHH379mXDhg31\n",
              "97vQOvFe897by8Hj5USHBfLb2xNMxxFpth67pTddIoPJK67kqbd2mY4jIvKtGrzFc8qUKezdu5fU\n",
              "1FTuvPNOfvaznwHw6KOPMmTIEDIyMli0aBE/+MEPqKmpueg68U5bDp7gr58eBGDO2ETCW/gbTiTS\n",
              "fAUHOJg/KRm7DVZ+eZh3duSZjiQicl4NKp5BQUHccsst2Gw2AIYMGUJWVhYAS5Ys4d577wVg0KBB\n",
              "dOjQgY8//vii68T7VFTX8vCyVCwLJg6M4bpeUaYjiTR7/WMjuO/aHgA8vnIHBSWVhhOJiHzTFe3j\n",
              "+dJLL3HnnXdSWFhITU0N7dqdOY1Oly5dyM7OvuC686mqqqKkpOSsxenUaUI8ydz/7OVQYQXtw4OY\n",
              "dZtG7CKe4tc3xNGnQxhFFTXMWJ6GZVmmI4mInOWyi+fs2bPJzMwkJSWlMfOQkpJCeHj4WcuWLVsa\n",
              "9Tnk8n12oJC/bcoC4PlxiYQFacQu4ikCHHYWTEomwGFn/d5jvLElx3QkEZGzXFbxnDdvHitWrGDt\n",
              "2rUEBwcTGRmJw+Hg6NGj9bfJysoiNjb2guvOZ+bMmRQXF5+1DB48+HJiSiMrr6obsQN8f3AnRsS3\n",
              "NZxIRM4VHx3KIzf1BODZNekcKiw3nEhE5IwGF8/58+fzxhtvsG7dOlq1alX/8wkTJvDnP/8ZgM8/\n",
              "/5zDhw9zzTXXXHTduQIDAwkLCztr8fPza2hMaQJz1u4h58QpOrZqwWO39DYdR0S+xU+HdWVIt9ZU\n",
              "VDuZtiQVp0sjdxHxDA0qnrm5uTz00EOcPHmS6667juTkZK6++moAnn/+eTZt2kRcXByTJ0/mtdde\n",
              "w9/f/6LrxDtsyjzOPz87BNSN2EM1YhfxWHa7jXkTkggJdLDtUBELN+w3HUlEBABHQ24cExPzrTur\n",
              "R0dH89577zV4nXi+sqpaHl6WBsDdQ2L5blwbw4lE5GJiIoJ58vYEHl6WxoJ1+7gmvi19OoSbjiUi\n",
              "zZyuXCQXNfud3Rw+eYqYiBbMvFkjdhFvMX5ADKMSoqlxWkxbnEpljc4QIiJmqXjKBW3Yd4zXN9ed\n",
              "+mru+ERaBjZoI7mIGGSz2UgZ2482IQHszS9l/rp9piOJSDOn4infqqSyhkeX143Yf/KdzgztrhG7\n",
              "iLeJDAkkZWwiAH/ZeIDNBwoNJxKR5kzFU77V7DW7OVJcSWzrYGbc3Mt0HBG5TCMTopk4MAbLgoeW\n",
              "plJaqUsWi4gZKp5yXh/tLeDfn+dgs8G8CUkEB2jELuLNnrgtgZiIFuQWneKZ1emm44hIM6XiKd9Q\n",
              "fKqGR5fvAGDy0C4M7tracCIRuVKhQf7Mn5iMzQZLtuby3q6jF7+TiEgjU/GUb3hmdTpHSyrpEhnM\n",
              "IzdpxC7iKwZ3bc2U4d0AmLliB8fLqgwnEpHmRsVTzvLhnnyWbcutH7G3CNBVo0R8ybRR8fSMDqWw\n",
              "vJrHVuz41nMzi4g0BRVPqVdccWbE/rPvdmVgF43YRXxNoMOPBZOS8fez8V563T80RUTcRcVT6j39\n",
              "9i4KSqvo1rYlD43qaTqOiDSRhA5hPDgyHoCn304n50SF4UQi0lyoeAoA7+06yoovD2M/PWIP8teI\n",
              "XcSXTR3RnYGdIyirqmX60lRcLo3cRaTpqXgKReXVPLZyJwA/H9GN/rERhhOJSFPzs9t4cWISwQF+\n",
              "bD54gr9+etB0JBFpBlQ8hafe3sXxsip6RIXw4I3xpuOIiJt0jmzJrFsTAJj77l725ZcaTiQivk7F\n",
              "s5n7z8483tx+pG7rh0bsIs3O9wd34vpeUVTXunjg39uprnWZjiQiPkzFsxkrLKvi8dMj9qkjupHU\n",
              "qZXZQCLidjabjTnj+hER7E96Xgkvf5BhOpKI+DAVz2bst2/torC8mvjoEH5zY5zpOCJiSFRoELPv\n",
              "6gfAKx9lsu1QkeFEIuKrVDybqTVpeaxJyzs9Yk8m0KERu0hzdnO/9tx1VUdcFjy0ZDsV1bWmI4mI\n",
              "D1LxbIaOl1XxxJt1I/b7r+1Ov5hww4lExBM8dUcf2ocHkVVYwXNrdpuOIyI+SMWzmbEsiydW7eRE\n",
              "eTW92oXyy+s1YheROuEt/Jk3IQmAf23OZv3eAsOJRMTXqHg2M2+n5bF251EcdhvzJiQR4NBHQETO\n",
              "GNajDfcM6wLAjGVpFJVXmw0kIj5FraMZKSit5LenR+y/vL4HfTtqxC4i3zRjdC+6t21JQWkVs97c\n",
              "iWXpqkYi0jhUPJsJy7J4fOVOTlbUkNA+jPuv62E6koh4qCB/PxZMSsZht7EmLY+3Uo+YjiQiPkLF\n",
              "s5l4c/sR1qXn4+9Xd5k8fz/9rxeRb5cY04pfnd4H/IlVO8krPmU4kYj4ArWPZiC/pJIn39oFwK+v\n",
              "j6N3+zDDiUTEG9x/XXeSOrWipLKWh5em4XJp5C4iV0bF08dZlsVjK3ZQfKqGfh3Duffa7qYjiYiX\n",
              "cPjZmT8xiSB/O59kHuefnx0yHUlEvJyKp49b8cVhPthTQICfnXkTNGIXkYbp3jaEmTf3BiBl7W72\n",
              "HysznEhEvJlaiA87WlzJU2/XjdgfGBlHz3ahhhOJiDf60ZDODI9rQ2WNi2mLt1PjdJmOJCJeSsXT\n",
              "R1mWxaMr0iitrCWpUyumDO9mOpKIeCm73cbc8YmEBTlIzS3mlfX7TUcSES+l4umjlm7N5aO9xwhw\n",
              "2Jk3PhGHRuwicgXah7fgmTF9AXj5wwzSck+aDSQiXkltxAcdOXmKZ1anA/DQyHjiojViF5Erd0dS\n",
              "B25NbI/TZfHg4u1U1jhNRxIRL6Pi6WMsy2LG8jRKq2q5KrYVP9OIXUQaic1m47kxfYkKDWT/sXLm\n",
              "rN1jOpKIeBkVTx/z789z2JhxnEBH3VHsfnab6Ugi4kNaBQcwd3wiAH/blMWnmccNJxIRb6Li6UNy\n",
              "iyp49vSI/eGbetK9bYjhRCLii67tGcXdQ2IBmL40leJTNYYTiYi3UPH0EV+N2MurnQzsHME9w7qa\n",
              "jiQiPuyxW3rTJTKYvOJKnjp9ZTQRkYtR8fQR/9qczaeZhQT523lBI3YRaWLBAQ7mT0rGboOVXx7m\n",
              "nR15piOJiBdQ8fQBOScqmP3ObgBmjO5F1zYtDScSkeagf2wE913bA4DHV+6goKTScCIR8XQqnl7O\n",
              "5bJ4eFkqFdVOBndtzU++08V0JBFpRn59Qxx9OoRRVFHDjOVpWJZlOpKIeDAVTy/3z88O8dmBE7Tw\n",
              "9+OF8YnYNWIXETcKcNhZMCmZAIed9XuP8caWHNORRMSDqXh6sUOFZ86jN/OWXnSO1IhdRNwvPjqU\n",
              "R27qCcCza9I5VFhuOJGIeCoVTy/lclk8vDSNUzVOvtMtkruv7mw6kog0Yz8d1pUh3VpTUe1k2pJU\n",
              "nC6N3EXkm1Q8vdTfNmWxJesELQP8mKsRu4gYZrfbmDchiZBAB9sOFbFww37TkUTEA6l4eqEDx8qY\n",
              "++5XI/bedGodbDiRiAjERATz5O0JACxYt49dR4oNJxIRT6Pi6WWcLouHl6VRWePiuz3a8MOrY01H\n",
              "EhGpN35ADKMSoqlxWkxbnEpljdN0JBHxICqeXmbRpwfZdqiIkEAHc8b1w2bTiF1EPIfNZiNlbD/a\n",
              "hASwN7+U+ev2mY4kIh5ExdOLZBaU8cK7ewGYdWtvYiI0YhcRzxMZEkjK2EQA/rLxAJsPFBpOJCKe\n",
              "QsXTSzhdFtOXplJV62JEfFsmDepkOpKIyLcamRDNxIExWBY8tDSV0soa05FExAM0qHj++te/pkuX\n",
              "LthsNrZv317/84yMDIYOHUp8fDyDBg1i165dl7ROLt1fNh5ge85JQgMdzBmrEbuIeL4nbksgJqIF\n",
              "uUWneGZ1uuk4IuIBGlQ8x48fzyeffELnzmefM3Lq1KlMmTKFffv2MWPGDCZPnnxJ6+TSZOSXMv+9\n",
              "uv2knrg9gQ6tWhhOJCJycaFB/syfmIzNBku25vLerqOmI4mIYQ0qniNGjCAmJuasnxUUFLB161bu\n",
              "vvtuAMaNG0dOTg6ZmZkXXCeXptbpYvrSVKqdLq7r2ZYJA2IuficREQ8xuGtrpgzvBsDMFTs4XlZl\n",
              "OJGImHTF+3jm5OTQvn17HA4HUHdEY2xsLNnZ2Rdc922qqqooKSk5a3E6m+/pOBZuOEBqbjFhQQ5S\n",
              "xiZqxC4iXufBkfH0jA6lsLyax1bswLJ0VSOR5srjDi5KSUkhPDz8rGXLli2mYxmx52gJv3+/bsT+\n",
              "5O19aBceZDiRiEjDBfn7sWBSMv5+Nt5Lz2fZtlzTkUTEkCsunp06dSIvL4/a2loALMsiOzub2NjY\n",
              "C677NjNnzqS4uPisZfDgwVca0+vUnB6x1zgtbuwdxdj+HU1HEhG5bAkdwnhwZDwAT7+dTs6JCsOJ\n",
              "RMSEKy6eUVFR9O/fn9deew2A5cuXExMTQ48ePS647tsEBgYSFhZ21uLn53elMb3Onz/az87DJYS3\n",
              "8Gf2XTqKXUS839QR3RnYOYKyqlqmL03F5dLIXaS5aVDxnDp1KjExMeTm5nLTTTfVF8iFCxeycOFC\n",
              "4uPjmTNnDosWLaq/z4XWyfmlHynh5Q8zAPjdnX2ICtOIXUS8n5/dxosTkwgO8GPzwRP89dODpiOJ\n",
              "iJvZLC/Yy3vatGnMnz/fdAy3qK51MeaPn5KeV8KohGgW/miAtnaKiE95fXM2j63cQYDDzupffZf4\n",
              "6FDTkUTETTzu4KLm7o/rM0nPKyEi2J/nNGIXER/0/cGduL5XFNW1Lh7493aqa12mI4mIm6h4epCd\n",
              "h4v54/q6c5z+7s6+tA0NNJxIRKTx2Ww25ozrR0SwP+l5Jbz8QYbpSCLiJiqeHqK6tu4o9lqXxS39\n",
              "2nFbYnvTkUREmkxUaBCz7+oHwCsfZbLtUJHhRCLiDiqeHuIPH2aw52gpkS0DeObOvhqxi4jPu7lf\n",
              "e+66qiMuCx5asp2K6lrTkUSkial4eoC03JO88tF+AJ4Z05fIEI3YRaR5eOqOPrQPDyKrsILn1uw2\n",
              "HUdEmpiKp2FVtU6mL03F6bK4LbE9t/TTiF1Emo/wFv7Mm5AEwL82Z7N+b4HhRCLSlFQ8DXvp/Qz2\n",
              "5ZfRJiSA393Z13QcERG3G9ajDfcM6wLAjGVpFJVXmw0kIk1GxdOg7Tkn+fPHdSP2Z8f0o3XLAMOJ\n",
              "RETMmDG6F93btqSgtIpZb+7EC04xLSKXQcXTkMoaJw8t2Y7LgjuTOzC6bzvTkUREjAny92PBpGQc\n",
              "dhtr0vJ4K/WI6Ugi0gRUPA1ZsG4f+4+V0zY0kKdu72M6joiIcYkxrfjV9XEAPLFqJ3nFpwwnEpHG\n",
              "puJpwLZDRby68QAAs+/qR4RG7CIiANx/XXeSOrWipLKWh5em4XJp5C7iS1Q83ayyxsnDS1OxLBjb\n",
              "vyMjE6JNRxIR8RgOPzvzJyYR5G/nk8zj/POzQ6YjiUgjUvF0s3nv7uXA8XKiwwJ58jaN2EVEztW9\n",
              "bQgzb+4NQMra3ew/VmY4kYg0FhVPN/o86wT/9+lBAOaMTSQ82N9wIhERz/SjIZ0ZHteGyhoX0xZv\n",
              "p8bpMh1JRBqBiqebnKo+M2KfMCCG63pFmY4kIuKx7HYbc8cnEhbkIDW3mFfW7zcdSUQagYqnm8x9\n",
              "dw9ZhRW0Dw9i1m0JpuOIiHi89uEteGZM3YU1Xv4wg7Tck2YDicgVU/F0g88OFLLo0ywA5oxLJLyF\n",
              "RuwiIpfijqQO3JrYHqfL4sHF26mscZqOJCJXQMWziZVX1fLIsjQAvjeoE9fEtzWcSETEe9hsNp4b\n",
              "05eo0ED2Hytnzto9piOJyBVQ8Wxiz/9nD9knKugQHsTjt/Y2HUdExOu0Cg5g7vhEAP62KYtPM48b\n",
              "TiQil0vFswltyjzOP/5bdw66ueOTCA3SiF1E5HJc2zOKu4fEAjB9aSrFp2oMJxKRy6Hi2UTKqmp5\n",
              "ZHndiP2HV8fy3bg2hhOJiHi3x27pTZfIYPKKK3nqrV2m44h4PMvyvCt/OUwH8FUp7+wmt+gUMREt\n",
              "mHmLRuwiIlcqOMDB/EnJjP/TJlZ+eZiRCdHc0q+96Vgibud0WRSWV1FQUsXR4krySyvJL6mioKSS\n",
              "/JJKjp7+enhcG37/vatMxz2LimcT2JhxjH9tzgZg7vhEQgL1NouINIb+sRHcd20P/nd9Jo+t3MHA\n",
              "zhFEhQWZjiXSKCzLovhUDfklVeSfLpF1y+nvS6vIL67kWFkVTtfFt2bmFVe6IXXDqBE1stLKGmac\n",
              "Por9x9/pzNDuGrGLiDSmX98Qx/q9Bew6UsKM5Wn8dfIgbDab6VgiF1RRXVu3dbKkioLSM4XyaEnl\n",
              "6S2VdeWyqvbSrtJls0GbkEDahQURHRZIVFgQ0aFBtAs/83X7cM/7R5mKZyOb/c5ujhRXEts6mBmj\n",
              "e5mOIyLicwIcdhZMSua2P3zC+r3HeGNLDj+4OtZ0LGmmqmtdp4tk1VlbKAtKKjl6+vuCkipKq2ov\n",
              "+TFbBfsTHRpEdHgQ0aGBRH+tXNYVzSDahATg8PO+Q3VUPBvRx/vq/gIEeGF8Ii01YhcRaRLx0aE8\n",
              "clNPnl2zm2fXpDOsRySdI1uajiU+xOmyKCyr+tqYu5L801ss879WNE+UV1/yYwYH+NEuLIiosLoy\n",
              "Wfd1Xan86vu2oYEE+fs14SszS82okRSfOjNinzy0C1d3izScSETEt/10WFfe353PZwdOMG1JKkum\n",
              "fgc/u0bucmFf7Ud59Gvj7YLzjL0vdT9KAH8/G1GhQbQLP71lMrRuq2S78ECiQ8+US51WUcWz0Ty7\n",
              "Op2jJZV0iQzmkdE9TccREfF5druNeROSGP37jWw7VMTCDfu579oepmOJQeVVtWcfjFPytS2UXzv6\n",
              "u/oS96O0n96PMvr0ePurLZNn/lu3RAT7az/jS6Ti2Qg+3JPP0m252GzwwoQkggP0toqIuENMRDBP\n",
              "3p7Aw8vSWLBuH9fEt6VPh3DTsaSRVdU6Kag/KKfq9CmD6vad/HrBLGvAfpQRwf5EfzXqDg2kXfiZ\n",
              "r+u2VgYR2dI796P0ZGpIV6i4ooaZK3YA8D/DujKoS2vDiUREmpfxA2JYl57Pe+n5TFucypu/HObT\n",
              "+8j5kq/2ozx37H3W96VVDdqPsmWA3+mDcs5smTxzUE7d976+H6UnU/G8Qk+v3kV+SRXd2rRk+k0a\n",
              "sYuIuJvNZiNlbD++yC5ib34p89ft4zFduMMoy7I4WVFz5iCc4sozB+h8bSvlsdIqLnE3SgL87Occ\n",
              "lHP+sbfOne3Z9H/nCqxLz2fFF4exnx6x619PIiJmRIYEkjI2kZ//Yyt/2XiAG3pF6SDPJlJWvx/l\n",
              "mVH3WWPvy9iPsu3p8XbU6a2UX50y6OtFs5X2o/QJKp6X6WRFNY+trBux/3x4NwZ0jjCcSESkeRuZ\n",
              "EM3EgTEs2ZrLQ0tTWfub4TqKuAG+2o/y7CvlnH0KoYLL3I/yfFsmv/pe+1E2Lyqel+mpt3ZxrLSK\n",
              "7m1b8uDIeNNxREQEeOK2BDbtLyS36BTPrE5n7vgk05GMq3W6KCyvPs+Vcs4eexdV1FzyY4YEOuq2\n",
              "Rp4+hdBXX391CqGoUO1HKeen4nkZ/rPzKKu2H8FugxcnJusPloiIhwgN8mf+xGQmvfpflmzN5cbe\n",
              "0Yzq0850rCZhWRZFFTVnjb2Pfq1QfnVZxgbtR+mw122JDD0z6j537K39KOVK6JPTQCfKq5m1qm7E\n",
              "PvWa7iR3amU2kIiInGVw19ZMGd6NhRsOMHPFDvp3jqBNSKDpWA1Svx9l8TcPyDlz9HcV1c6G7Ud5\n",
              "1pVyvrok49e+136U0tRUPBvot2/u5HhZNfHRITxwY5zpOCIich4Pjozno73H2JtfymMrdrDwRwM8\n",
              "olBV1jg5VnrmgJyvrul97ti7vNp5yY/ZumUAUaFnDsL56preX/8+MiRQV3USj6Di2QDv7MhjdVoe\n",
              "fqevlhHo0IhdRMQTBfn7sWBSMnf+8RPeS89n2bZcJgzs1GTPV+t0cbys+sxWydKvn0Koqv7clCcb\n",
              "sB9l6Ff7UZ7ngJyvn49Sv4vEm6h4XqLjZVXMWrUTgPuu7U5iTCuzgURE5IISOoTx4Mh45v5nL0+/\n",
              "nc6QbpF0ah3coMf4+n6UX7+O97lj7+NlDd+Psn7s/dUphMLPnE4oOiyIltqPUnyQPtWXwLIsnli1\n",
              "kxPl1fRqF8qvrteIXUTEG0wd0Z0Pdxew9VAR05em8sbPh2C327As6/R+lFXnuVLO6aO/i+sOzLnU\n",
              "/Sj97DbahgSec9qgb469w1toP0ppvlQ8L8HqtDzW7jyK4/SIPcCh842JiHgDP7uNFycmcfNLG9l8\n",
              "8AS3/+8nnKp2crSkkooG7EcZ2TLgPAflnDn6Ozo8kMiW2o9S5GJUPC/iWGkVv32zbsR+/3U96Nsx\n",
              "3HAiERFpiM6RLZl1awKPrdzBriMlZ637aj/Kdqev7f1Vufz60d/aj1Kk8ah4XoBlWcxatYOiihoS\n",
              "2odx/3U9TEcSEZHL8P3BnWgTEsCpGmf9GDwqNFD7UYq4mf7EXcBbqUd4d1c+/n4asYuIeDObzeaz\n",
              "J5IX8SZqUt+ioKSS3765C4BfXR9HQocww4lEREREvJvbimdGRgZDhw4lPj6eQYMGsWvXLnc9dYNZ\n",
              "lsVjK3dQfKqGvh3D+MW13U1HEhEREfF6biueU6dOZcqUKezbt48ZM2YwefJkdz11g6344jDv7y7A\n",
              "38/GixOS8ffThmERERGRK+WWRlVQUMDWrVu5++67ARg3bhw5OTlkZma64+kb5GhxJU+/Xbc19oEb\n",
              "4+nZLtRwIhERERHf4JaDi3Jycmjfvj0OR93T2Ww2YmNjyc7OpkePs48Ur6qqoqqq6qyfOZ2Xfq61\n",
              "K2FZFjNXpFFSWUtSTDhTR3Rzy/OKiIiINAceN0NOSUkhPDz8rGXLli1uee5dR0rYkHGcAD878yYk\n",
              "4dCIXURERKTR2CzLusSry16+goICevTowYkTJ3A4HFiWRfv27fnkk08uaYvnE088wUsvvdTUMQHY\n",
              "kVvM3vxSxg+IccvziYiIiDQXbtmkFxUVRf/+/XnttdcAWL58OTExMd8onQCBgYGEhYWdtfj5ue+K\n",
              "Ef1iwlU6RURERJqA204gv3DhQiZPnszs2bMJCwtj0aJF7npqEREREfEAbiuePXv25L///a+7nk5E\n",
              "REREPIyOnhERERERt1DxFBERERG3UPEUEREREbdQ8RQRERERt1DxFBERERG3UPEUEREREbdQ8RQR\n",
              "ERERt1DxFBERERG3UPEUEREREbewWZZlmQ5xMWPHjqVLly5ueS6n08mWLVsYPHiwW68R39zpfTdD\n",
              "77sZet/N0Ptuht53M0y87507d+Y3v/nNBW/jFcXTnUpKSggPD6e4uJiwsDDTcZoNve9m6H03Q++7\n",
              "GXrfzdD7boanvu8atYuIiIiIW6h4ioiIiIhbqHiKiIiIiFuoeJ4jMDCQJ598ksDAQNNRmhW972bo\n",
              "fTdD77sZet/N0Ptuhqe+7zq4SERERETcQls8RURERMQtVDxFRERExC1UPEVERETELVQ8z+PIkSMM\n",
              "Hz7cdAwREWkCO3furL8anv6+F1+TlZXFn//85wveZuDAgXz00UfuCXQOFc/z6NChAxs3bjQdQ0RE\n",
              "mpj+vhdfcynF06RmVTxtNhvPPfccV199NV26dGHVqlWkpKQwcOBA4uLi6tt/VlYWrVq1Out+s2fP\n",
              "ZvDgwXTt2pVFixaZeQEil+hSP+u1tbXcdNNNDBw4kD59+vCDH/yA8vJyAP71r38xcOBAqqqqsCyL\n",
              "22+/neeee87gq5Lm6FI/ywDvvvsu3/3udxkwYACDBw9m/fr19eueeuop4uLiGDBgAP/+97/rf37u\n",
              "3/c//OEPGThwIImJidx6660cPXr0rNs9+eSTDBgwgB49evDOO+80+esXuZBTp04xadIkEhISSEpK\n",
              "YtSoUdx7773s3buX5ORk7rjjDgA2bdpEcnIyffv25Z577qG2ttZcaKsZAazf//73lmVZ1vvvv2+1\n",
              "bNnSWrRokWVZlrVkyRJr4MCBlmVZ1sGDB63w8PCz7jdv3jzLsixr9+7dVkhIiFVTU+PW7CINcamf\n",
              "dZfLZR0/frz+63vvvddKSUmpf5wpU6ZY999/vzV37lxr9OjRlsvlcu8LkWbvUj/L+/fvt4YMGWIV\n",
              "FxdblmVZGRkZVrt27azKykpr9erVVkJCglVcXGy5XC7rhz/8odW5c2fLsr75931BQUH91ykpKdbU\n",
              "qVPrbwdYy5YtsyzLstauXWvFx8c35UsXuagVK1ZYo0aNqv++sLDQWr9+vZWUlFT/s6qqKismJsZa\n",
              "t26dZVmW9e6771qAtX79ejenreMwV3nNmDRpElC3f0N5eTnf+973ABg8eDAZGRnfer8f/vCHAPTq\n",
              "1QuHw8HRo0eJiYlp+sAil+lSPuuWZbFgwQLWrFlDbW0txcXFDB06tP4xXnrpJa6++mreeustvvji\n",
              "C2w2m/tfiDR7l/JZ/s9//kNmZiYjRoyov5/dbic7O5sPPviAiRMnEhYWBsDUqVP55JNPzvtcr7/+\n",
              "Ov/85z+prKyksrKSNm3a1K8LCgpi7NixAHznO99h//79jf9iRRogKSmJ3bt3c99993HNNddwyy23\n",
              "fOM2e/bsweFwcOONNwIwatQounXr5u6o9ZrVqB3q/uIA8PPz+8b3F9r0/NXtLuW2Ip7gUj7rr7/+\n",
              "Oh9++CEff/wxO3bsYPr06VRWVtY/RkFBAUVFRbhcLk6ePOneFyBy2qV8li3LYuTIkWzfvr1+OXz4\n",
              "MHFxcd94vG/7B9Qnn3zCyy+/zDvvvMPOnTuZP3/+WX8eAgMD6+/r5+eH0+lsvBcpchm6detGeno6\n",
              "o0eP5tNPP6Vv374UFRVd9H4mNyI0u+IpImcUFRXRpk0bwsLCKC0t5W9/+1v9utraWr73ve/xzDPP\n",
              "MH/+fCZOnEhVVZW5sCIXcNNNN/H++++TlpZW/7MtW7YAcOONN7J06VJKS0uxLItXX331vI9RVFRE\n",
              "aGgokZGRVFdXs3DhQrdkF7lcubm52Gw27rjjDubNm4dlWURGRlJcXFx/m169elFbW1u/z/P7779v\n",
              "dGt9sxu1i8gZP/7xj3nzzTfp2bMnbdu2Zfjw4Rw6dAiARx99lJ49e/KTn/wEgI8//pgHHniAP/3p\n",
              "TyYji5xXjx49eP3115k6dSoVFRVUV1dz1VVX8frrr3PLLbewZcsW+vfvT1hYGDfffPN5H2P06NG8\n",
              "9tpr9OzZk8jISG688UYOHz7s5lcicul27NjBzJkzsSyL2tpafvSjHzF06FD69OlD37596datG2+9\n",
              "9RaLFy/mvvvuw+l0MmjQIJKSkoxl1rXaRURERMQtNGoXEREREbdQ8RQRERERt1DxFBERERG3UPEU\n",
              "EREREbdQ8RQRERERt1DxFBERERG3UPEUEREREbdQ8RQRERERt1DxFBERERG3UPEUEREREbdQ8RQR\n",
              "ERERt/j/knY+JrYGvhUAAAAASUVORK5CYII=\n",
              "\">\n",
              "      </div>\n",
              "      <script type=\"text/javascript\">\n",
              "        (() => {\n",
              "          const chartElement = document.getElementById(\"chart-ef776d58-3e1a-4083-bad5-f6658c7cca22\");\n",
              "          async function getCodeForChartHandler(event) {\n",
              "            const chartCodeResponse =  await google.colab.kernel.invokeFunction(\n",
              "                'getCodeForChart', [\"chart-ef776d58-3e1a-4083-bad5-f6658c7cca22\"], {});\n",
              "            const responseJson = chartCodeResponse.data['application/json'];\n",
              "            await google.colab.notebook.addCell(responseJson.code, 'code');\n",
              "          }\n",
              "          chartElement.onclick = getCodeForChartHandler;\n",
              "        })();\n",
              "      </script>\n",
              "      <style>\n",
              "        .colab-quickchart-chart-with-code  {\n",
              "            display: block;\n",
              "            float: left;\n",
              "            border: 1px solid transparent;\n",
              "        }\n",
              "\n",
              "        .colab-quickchart-chart-with-code:hover {\n",
              "            cursor: pointer;\n",
              "            border: 1px solid #aaa;\n",
              "        }\n",
              "      </style>"
            ]
          },
          "metadata": {}
        }
      ]
    },
    {
      "cell_type": "markdown",
      "metadata": {
        "id": "Y8col7-UWixq"
      },
      "source": [
        "## Exercise 2\n",
        "Use the `plot.hist` method to visualise the distribution of `Age` and `Fare`. Do you think the previously used aggregations gave you a good enough understanding of the distributions?\n"
      ]
    },
    {
      "cell_type": "code",
      "metadata": {
        "id": "HUP3wNLya4rc",
        "colab": {
          "base_uri": "https://localhost:8080/",
          "height": 447
        },
        "outputId": "b185134a-3ea6-4675-da09-bcae79f4b2d4"
      },
      "source": [
        "df.Age.plot.hist()"
      ],
      "execution_count": null,
      "outputs": [
        {
          "output_type": "execute_result",
          "data": {
            "text/plain": [
              "<Axes: ylabel='Frequency'>"
            ]
          },
          "metadata": {},
          "execution_count": 31
        },
        {
          "output_type": "display_data",
          "data": {
            "text/plain": [
              "<Figure size 640x480 with 1 Axes>"
            ],
            "image/png": "[encoded data removed]"
          },
          "metadata": {}
        }
      ]
    },
    {
      "cell_type": "code",
      "metadata": {
        "id": "xxa3t9YcXo-G",
        "colab": {
          "base_uri": "https://localhost:8080/",
          "height": 447
        },
        "outputId": "93ccf4e0-0808-4bfb-af3c-0b20e6e86af1"
      },
      "source": [
        "df.Fare.plot.hist()"
      ],
      "execution_count": null,
      "outputs": [
        {
          "output_type": "execute_result",
          "data": {
            "text/plain": [
              "<Axes: ylabel='Frequency'>"
            ]
          },
          "metadata": {},
          "execution_count": 32
        },
        {
          "output_type": "display_data",
          "data": {
            "text/plain": [
              "<Figure size 640x480 with 1 Axes>"
            ],
            "image/png": "[encoded data removed]"
          },
          "metadata": {}
        }
      ]
    },
    {
      "cell_type": "markdown",
      "metadata": {
        "id": "rbaGwQYJXyVW"
      },
      "source": [
        "# Are 'statistics' the only way we can aggregate data?\n",
        "Statistics are a good example of aggregation functions, but by far not the only ones!\n",
        "\n",
        "An aggregation is any function that takes in a set of elements and returns a single element. Some examples of aggregation functions that are pre-implemented by pandas:\n",
        "\n",
        "- `.mean()`\n",
        "- `.median()`\n",
        "- `.sum()` Sum over one entire axis\n",
        "- `.prod()` Product of all elements over one entire axis\n",
        "- `.count()` Count all **non null** items along one axis\n",
        "- `.nunique()` Count unique items along one axis\n",
        "\n",
        "They all behave very similarly, so we won't explore them too deeply."
      ]
    },
    {
      "cell_type": "code",
      "metadata": {
        "id": "gf4Vi4OPZ8Bu"
      },
      "source": [],
      "execution_count": null,
      "outputs": []
    },
    {
      "cell_type": "markdown",
      "metadata": {
        "id": "kdtla7WwZ9OH"
      },
      "source": [
        "## Aggregating a DataFrame\n",
        "\n",
        "So far we have worked mostly with aggregating functions on a column (i.e. `Series`).\n",
        "\n",
        "What do you think will happen if you call it on a DataFrame?\n",
        "\n",
        "Try it out:"
      ]
    },
    {
      "cell_type": "code",
      "metadata": {
        "id": "XJo8EnrGaP0b",
        "colab": {
          "base_uri": "https://localhost:8080/",
          "height": 204
        },
        "outputId": "8f110306-8d64-4ca1-c43c-601034f1485b"
      },
      "source": [
        "df.sum()"
      ],
      "execution_count": null,
      "outputs": [
        {
          "output_type": "execute_result",
          "data": {
            "text/plain": [
              "PassengerId                                               460009\n",
              "Pclass                                                       947\n",
              "Name           Kelly, Mr. JamesWilkes, Mrs. James (Ellen Need...\n",
              "Sex            malefemalemalemalefemalemalefemalemalefemalema...\n",
              "Age                                                      10050.5\n",
              "SibSp                                                        187\n",
              "Parch                                                        164\n",
              "Ticket         3309113632722402763151543101298753833097224873...\n",
              "Fare                                                     14856.5\n",
              "Embarked       QSQSSSQSCSSSSSSCQCSCCSSCCSCCSCSSSSCCSSSSCSSSSS...\n",
              "dtype: object"
            ]
          },
          "metadata": {
            "tags": []
          },
          "execution_count": 37
        }
      ]
    },
    {
      "cell_type": "markdown",
      "metadata": {
        "id": "hY_ZA5myZ6xY"
      },
      "source": [
        "When working with DataFrames, you will see that most functions expect an input `axis`.\n",
        "\n",
        "This tells the function along which axis you want to work. For the case of aggregation, along which to run the aggregation.\n",
        "\n",
        "Try the following:"
      ]
    },
    {
      "cell_type": "code",
      "metadata": {
        "id": "Id6y5LFUam0u",
        "colab": {
          "base_uri": "https://localhost:8080/",
          "height": 162
        },
        "outputId": "65144952-532e-42da-fe8a-d33687d33a08"
      },
      "source": [
        "# We will create a fake dataframe to make things easier.\n",
        "\n",
        "fake_data = pd.DataFrame(\n",
        "    [\n",
        "     [4,4,4,2,3,2,1,3,2],\n",
        "     [4,4,4,2,3,2,1,3,2],\n",
        "     [4,2,4,3,3,1,1,3,2],\n",
        "     [4,2,4,3,3,1,1,3,2],\n",
        "    ]\n",
        "    )\n",
        "\n",
        "fake_data.head()"
      ],
      "execution_count": null,
      "outputs": [
        {
          "output_type": "execute_result",
          "data": {
            "text/html": [
              "<div>\n",
              "<style scoped>\n",
              "    .dataframe tbody tr th:only-of-type {\n",
              "        vertical-align: middle;\n",
              "    }\n",
              "\n",
              "    .dataframe tbody tr th {\n",
              "        vertical-align: top;\n",
              "    }\n",
              "\n",
              "    .dataframe thead th {\n",
              "        text-align: right;\n",
              "    }\n",
              "</style>\n",
              "<table border=\"1\" class=\"dataframe\">\n",
              "  <thead>\n",
              "    <tr style=\"text-align: right;\">\n",
              "      <th></th>\n",
              "      <th>0</th>\n",
              "      <th>1</th>\n",
              "      <th>2</th>\n",
              "      <th>3</th>\n",
              "      <th>4</th>\n",
              "      <th>5</th>\n",
              "      <th>6</th>\n",
              "      <th>7</th>\n",
              "      <th>8</th>\n",
              "    </tr>\n",
              "  </thead>\n",
              "  <tbody>\n",
              "    <tr>\n",
              "      <th>0</th>\n",
              "      <td>4</td>\n",
              "      <td>4</td>\n",
              "      <td>4</td>\n",
              "      <td>2</td>\n",
              "      <td>3</td>\n",
              "      <td>2</td>\n",
              "      <td>1</td>\n",
              "      <td>3</td>\n",
              "      <td>2</td>\n",
              "    </tr>\n",
              "    <tr>\n",
              "      <th>1</th>\n",
              "      <td>4</td>\n",
              "      <td>4</td>\n",
              "      <td>4</td>\n",
              "      <td>2</td>\n",
              "      <td>3</td>\n",
              "      <td>2</td>\n",
              "      <td>1</td>\n",
              "      <td>3</td>\n",
              "      <td>2</td>\n",
              "    </tr>\n",
              "    <tr>\n",
              "      <th>2</th>\n",
              "      <td>4</td>\n",
              "      <td>2</td>\n",
              "      <td>4</td>\n",
              "      <td>3</td>\n",
              "      <td>3</td>\n",
              "      <td>1</td>\n",
              "      <td>1</td>\n",
              "      <td>3</td>\n",
              "      <td>2</td>\n",
              "    </tr>\n",
              "    <tr>\n",
              "      <th>3</th>\n",
              "      <td>4</td>\n",
              "      <td>2</td>\n",
              "      <td>4</td>\n",
              "      <td>3</td>\n",
              "      <td>3</td>\n",
              "      <td>1</td>\n",
              "      <td>1</td>\n",
              "      <td>3</td>\n",
              "      <td>2</td>\n",
              "    </tr>\n",
              "  </tbody>\n",
              "</table>\n",
              "</div>"
            ],
            "text/plain": [
              "   0  1  2  3  4  5  6  7  8\n",
              "0  4  4  4  2  3  2  1  3  2\n",
              "1  4  4  4  2  3  2  1  3  2\n",
              "2  4  2  4  3  3  1  1  3  2\n",
              "3  4  2  4  3  3  1  1  3  2"
            ]
          },
          "metadata": {
            "tags": []
          },
          "execution_count": 3
        }
      ]
    },
    {
      "cell_type": "code",
      "metadata": {
        "id": "nQpVrqbba9HI",
        "colab": {
          "base_uri": "https://localhost:8080/",
          "height": 180
        },
        "outputId": "ca361f28-dfac-41f6-85ae-937b191611b2"
      },
      "source": [
        "fake_data.sum(axis=0)"
      ],
      "execution_count": null,
      "outputs": [
        {
          "output_type": "execute_result",
          "data": {
            "text/plain": [
              "0    16\n",
              "1    12\n",
              "2    16\n",
              "3    10\n",
              "4    12\n",
              "5     6\n",
              "6     4\n",
              "7    12\n",
              "8     8\n",
              "dtype: int64"
            ]
          },
          "metadata": {
            "tags": []
          },
          "execution_count": 4
        }
      ]
    },
    {
      "cell_type": "code",
      "metadata": {
        "id": "08XmD486bD66",
        "colab": {
          "base_uri": "https://localhost:8080/",
          "height": 98
        },
        "outputId": "f5fd5277-8c16-49dc-9316-9deead422f06"
      },
      "source": [
        "fake_data.sum(axis=1)"
      ],
      "execution_count": null,
      "outputs": [
        {
          "output_type": "execute_result",
          "data": {
            "text/plain": [
              "0    25\n",
              "1    25\n",
              "2    23\n",
              "3    23\n",
              "dtype: int64"
            ]
          },
          "metadata": {
            "tags": []
          },
          "execution_count": 5
        }
      ]
    },
    {
      "cell_type": "code",
      "metadata": {
        "id": "fVZFZ-XubH0G",
        "colab": {
          "base_uri": "https://localhost:8080/",
          "height": 180
        },
        "outputId": "1bded245-b2b6-4f58-d028-6a7047ceb4e8"
      },
      "source": [
        "fake_data.sum()"
      ],
      "execution_count": null,
      "outputs": [
        {
          "output_type": "execute_result",
          "data": {
            "text/plain": [
              "0    16\n",
              "1    12\n",
              "2    16\n",
              "3    10\n",
              "4    12\n",
              "5     6\n",
              "6     4\n",
              "7    12\n",
              "8     8\n",
              "dtype: int64"
            ]
          },
          "metadata": {
            "tags": []
          },
          "execution_count": 6
        }
      ]
    },
    {
      "cell_type": "markdown",
      "metadata": {
        "id": "cwdcoV5_bwDG"
      },
      "source": [
        "## What if I need to use an aggregation function that is not defined in Pandas?\n",
        "\n",
        "You'll find that this is a rare case, but if you need some strange statistic or a function that comes from another library, you have two options:\n",
        "\n",
        "- Use the numpy or scipy libraries, they have plenty of specific functions\n",
        "- Use the `agg` method with a self-defined function"
      ]
    },
    {
      "cell_type": "markdown",
      "metadata": {
        "id": "SoYORBIScVD-"
      },
      "source": [
        "### Using numpy functions with Pandas data"
      ]
    },
    {
      "cell_type": "code",
      "metadata": {
        "id": "0zyptgUGcT01",
        "colab": {
          "base_uri": "https://localhost:8080/"
        },
        "outputId": "7e9da9af-42b0-4136-d41f-7d0e8810d305"
      },
      "source": [
        "# Numpy is an extremely powerful library for managing datasets in python, and it can easily interoperate with pandas\n",
        "\n",
        "import numpy as np\n",
        "\n",
        "np.mean(df.Age.values)"
      ],
      "execution_count": null,
      "outputs": [
        {
          "output_type": "execute_result",
          "data": {
            "text/plain": [
              "nan"
            ]
          },
          "metadata": {},
          "execution_count": 59
        }
      ]
    },
    {
      "cell_type": "markdown",
      "metadata": {
        "id": "r-QIt23bdM46"
      },
      "source": [
        "### Using agg\n",
        "\n",
        "Agg can take any function or list of functions and run it on your series or dataframe.\n",
        "\n"
      ]
    },
    {
      "cell_type": "code",
      "metadata": {
        "id": "7_Ynt81ydmsJ",
        "colab": {
          "base_uri": "https://localhost:8080/"
        },
        "outputId": "72efbf89-a4b8-424c-8f4f-2f1b736fca44"
      },
      "source": [
        "df.Age.agg('mean')"
      ],
      "execution_count": null,
      "outputs": [
        {
          "output_type": "execute_result",
          "data": {
            "text/plain": [
              "29.69911764705882"
            ]
          },
          "metadata": {},
          "execution_count": 62
        }
      ]
    },
    {
      "cell_type": "code",
      "metadata": {
        "id": "kabwQUcfdp8O",
        "colab": {
          "base_uri": "https://localhost:8080/"
        },
        "outputId": "cb1d37c2-a13f-4235-dceb-443b7acb9a19"
      },
      "source": [
        "df.Age.agg(['mean', 'median'])"
      ],
      "execution_count": null,
      "outputs": [
        {
          "output_type": "execute_result",
          "data": {
            "text/plain": [
              "mean      29.699118\n",
              "median    28.000000\n",
              "Name: Age, dtype: float64"
            ]
          },
          "metadata": {},
          "execution_count": 61
        }
      ]
    },
    {
      "cell_type": "code",
      "metadata": {
        "id": "uG-aTcDYdtAc",
        "colab": {
          "base_uri": "https://localhost:8080/"
        },
        "outputId": "32e9d834-511c-4eee-d001-fdb1003a91a1"
      },
      "source": [
        "def my_agg_func(series):\n",
        "  return series.sum()\n",
        "\n",
        "\n",
        "df.Age.agg(my_agg_func)"
      ],
      "execution_count": null,
      "outputs": [
        {
          "output_type": "execute_result",
          "data": {
            "text/plain": [
              "21205.17"
            ]
          },
          "metadata": {},
          "execution_count": 35
        }
      ]
    },
    {
      "cell_type": "code",
      "source": [
        "import pandas as pd\n",
        "import inspect"
      ],
      "metadata": {
        "id": "8O45xd9rhoHK"
      },
      "execution_count": null,
      "outputs": []
    },
    {
      "cell_type": "code",
      "source": [
        "# function help hit 'TAB' or 'ctrl-space' after a '.'\n",
        "# but first import the library for which documentation is requested\n",
        "# also check 'Tools - kexboard shortcuts'\n",
        "df = pd.read_csv(\n",
        "  filepath_or_buffer='https://raw.githubusercontent.com/aaronmcdaid/P2---Data-Analytics-With-Python/master/Berlin/WS%202019/5.%20Datasets/titanic_dataset/train.csv',\n",
        ")\n",
        "df.head(5)"
      ],
      "metadata": {
        "colab": {
          "base_uri": "https://localhost:8080/",
          "height": 206
        },
        "id": "qYS1eKiihsBH",
        "outputId": "ba1d4162-80e8-4640-e6c9-2aa7762e56d5"
      },
      "execution_count": null,
      "outputs": [
        {
          "output_type": "execute_result",
          "data": {
            "text/plain": [
              "   PassengerId  Survived  Pclass  \\\n",
              "0            1         0       3   \n",
              "1            2         1       1   \n",
              "2            3         1       3   \n",
              "3            4         1       1   \n",
              "4            5         0       3   \n",
              "\n",
              "                                                Name     Sex   Age  SibSp  \\\n",
              "0                            Braund, Mr. Owen Harris    male  22.0      1   \n",
              "1  Cumings, Mrs. John Bradley (Florence Briggs Th...  female  38.0      1   \n",
              "2                             Heikkinen, Miss. Laina  female  26.0      0   \n",
              "3       Futrelle, Mrs. Jacques Heath (Lily May Peel)  female  35.0      1   \n",
              "4                           Allen, Mr. William Henry    male  35.0      0   \n",
              "\n",
              "   Parch            Ticket     Fare Cabin Embarked  \n",
              "0      0         A/5 21171   7.2500   NaN        S  \n",
              "1      0          PC 17599  71.2833   C85        C  \n",
              "2      0  STON/O2. 3101282   7.9250   NaN        S  \n",
              "3      0            113803  53.1000  C123        S  \n",
              "4      0            373450   8.0500   NaN        S  "
            ],
            "text/html": [
              "\n",
              "  <div id=\"df-e70dc5cc-1ae1-4789-a10b-6eb00d2080df\" class=\"colab-df-container\">\n",
              "    <div>\n",
              "<style scoped>\n",
              "    .dataframe tbody tr th:only-of-type {\n",
              "        vertical-align: middle;\n",
              "    }\n",
              "\n",
              "    .dataframe tbody tr th {\n",
              "        vertical-align: top;\n",
              "    }\n",
              "\n",
              "    .dataframe thead th {\n",
              "        text-align: right;\n",
              "    }\n",
              "</style>\n",
              "<table border=\"1\" class=\"dataframe\">\n",
              "  <thead>\n",
              "    <tr style=\"text-align: right;\">\n",
              "      <th></th>\n",
              "      <th>PassengerId</th>\n",
              "      <th>Survived</th>\n",
              "      <th>Pclass</th>\n",
              "      <th>Name</th>\n",
              "      <th>Sex</th>\n",
              "      <th>Age</th>\n",
              "      <th>SibSp</th>\n",
              "      <th>Parch</th>\n",
              "      <th>Ticket</th>\n",
              "      <th>Fare</th>\n",
              "      <th>Cabin</th>\n",
              "      <th>Embarked</th>\n",
              "    </tr>\n",
              "  </thead>\n",
              "  <tbody>\n",
              "    <tr>\n",
              "      <th>0</th>\n",
              "      <td>1</td>\n",
              "      <td>0</td>\n",
              "      <td>3</td>\n",
              "      <td>Braund, Mr. Owen Harris</td>\n",
              "      <td>male</td>\n",
              "      <td>22.0</td>\n",
              "      <td>1</td>\n",
              "      <td>0</td>\n",
              "      <td>A/5 21171</td>\n",
              "      <td>7.2500</td>\n",
              "      <td>NaN</td>\n",
              "      <td>S</td>\n",
              "    </tr>\n",
              "    <tr>\n",
              "      <th>1</th>\n",
              "      <td>2</td>\n",
              "      <td>1</td>\n",
              "      <td>1</td>\n",
              "      <td>Cumings, Mrs. John Bradley (Florence Briggs Th...</td>\n",
              "      <td>female</td>\n",
              "      <td>38.0</td>\n",
              "      <td>1</td>\n",
              "      <td>0</td>\n",
              "      <td>PC 17599</td>\n",
              "      <td>71.2833</td>\n",
              "      <td>C85</td>\n",
              "      <td>C</td>\n",
              "    </tr>\n",
              "    <tr>\n",
              "      <th>2</th>\n",
              "      <td>3</td>\n",
              "      <td>1</td>\n",
              "      <td>3</td>\n",
              "      <td>Heikkinen, Miss. Laina</td>\n",
              "      <td>female</td>\n",
              "      <td>26.0</td>\n",
              "      <td>0</td>\n",
              "      <td>0</td>\n",
              "      <td>STON/O2. 3101282</td>\n",
              "      <td>7.9250</td>\n",
              "      <td>NaN</td>\n",
              "      <td>S</td>\n",
              "    </tr>\n",
              "    <tr>\n",
              "      <th>3</th>\n",
              "      <td>4</td>\n",
              "      <td>1</td>\n",
              "      <td>1</td>\n",
              "      <td>Futrelle, Mrs. Jacques Heath (Lily May Peel)</td>\n",
              "      <td>female</td>\n",
              "      <td>35.0</td>\n",
              "      <td>1</td>\n",
              "      <td>0</td>\n",
              "      <td>113803</td>\n",
              "      <td>53.1000</td>\n",
              "      <td>C123</td>\n",
              "      <td>S</td>\n",
              "    </tr>\n",
              "    <tr>\n",
              "      <th>4</th>\n",
              "      <td>5</td>\n",
              "      <td>0</td>\n",
              "      <td>3</td>\n",
              "      <td>Allen, Mr. William Henry</td>\n",
              "      <td>male</td>\n",
              "      <td>35.0</td>\n",
              "      <td>0</td>\n",
              "      <td>0</td>\n",
              "      <td>373450</td>\n",
              "      <td>8.0500</td>\n",
              "      <td>NaN</td>\n",
              "      <td>S</td>\n",
              "    </tr>\n",
              "  </tbody>\n",
              "</table>\n",
              "</div>\n",
              "    <div class=\"colab-df-buttons\">\n",
              "\n",
              "  <div class=\"colab-df-container\">\n",
              "    <button class=\"colab-df-convert\" onclick=\"convertToInteractive('df-e70dc5cc-1ae1-4789-a10b-6eb00d2080df')\"\n",
              "            title=\"Convert this dataframe to an interactive table.\"\n",
              "            style=\"display:none;\">\n",
              "\n",
              "  <svg xmlns=\"http://www.w3.org/2000/svg\" height=\"24px\" viewBox=\"0 -960 960 960\">\n",
              "    <path d=\"M120-120v-720h720v720H120Zm60-500h600v-160H180v160Zm220 220h160v-160H400v160Zm0 220h160v-160H400v160ZM180-400h160v-160H180v160Zm440 0h160v-160H620v160ZM180-180h160v-160H180v160Zm440 0h160v-160H620v160Z\"/>\n",
              "  </svg>\n",
              "    </button>\n",
              "\n",
              "  <style>\n",
              "    .colab-df-container {\n",
              "      display:flex;\n",
              "      gap: 12px;\n",
              "    }\n",
              "\n",
              "    .colab-df-convert {\n",
              "      background-color: #E8F0FE;\n",
              "      border: none;\n",
              "      border-radius: 50%;\n",
              "      cursor: pointer;\n",
              "      display: none;\n",
              "      fill: #1967D2;\n",
              "      height: 32px;\n",
              "      padding: 0 0 0 0;\n",
              "      width: 32px;\n",
              "    }\n",
              "\n",
              "    .colab-df-convert:hover {\n",
              "      background-color: #E2EBFA;\n",
              "      box-shadow: 0px 1px 2px rgba(60, 64, 67, 0.3), 0px 1px 3px 1px rgba(60, 64, 67, 0.15);\n",
              "      fill: #174EA6;\n",
              "    }\n",
              "\n",
              "    .colab-df-buttons div {\n",
              "      margin-bottom: 4px;\n",
              "    }\n",
              "\n",
              "    [theme=dark] .colab-df-convert {\n",
              "      background-color: #3B4455;\n",
              "      fill: #D2E3FC;\n",
              "    }\n",
              "\n",
              "    [theme=dark] .colab-df-convert:hover {\n",
              "      background-color: #434B5C;\n",
              "      box-shadow: 0px 1px 3px 1px rgba(0, 0, 0, 0.15);\n",
              "      filter: drop-shadow(0px 1px 2px rgba(0, 0, 0, 0.3));\n",
              "      fill: #FFFFFF;\n",
              "    }\n",
              "  </style>\n",
              "\n",
              "    <script>\n",
              "      const buttonEl =\n",
              "        document.querySelector('#df-e70dc5cc-1ae1-4789-a10b-6eb00d2080df button.colab-df-convert');\n",
              "      buttonEl.style.display =\n",
              "        google.colab.kernel.accessAllowed ? 'block' : 'none';\n",
              "\n",
              "      async function convertToInteractive(key) {\n",
              "        const element = document.querySelector('#df-e70dc5cc-1ae1-4789-a10b-6eb00d2080df');\n",
              "        const dataTable =\n",
              "          await google.colab.kernel.invokeFunction('convertToInteractive',\n",
              "                                                    [key], {});\n",
              "        if (!dataTable) return;\n",
              "\n",
              "        const docLinkHtml = 'Like what you see? Visit the ' +\n",
              "          '<a target=\"_blank\" href=https://colab.research.google.com/notebooks/data_table.ipynb>data table notebook</a>'\n",
              "          + ' to learn more about interactive tables.';\n",
              "        element.innerHTML = '';\n",
              "        dataTable['output_type'] = 'display_data';\n",
              "        await google.colab.output.renderOutput(dataTable, element);\n",
              "        const docLink = document.createElement('div');\n",
              "        docLink.innerHTML = docLinkHtml;\n",
              "        element.appendChild(docLink);\n",
              "      }\n",
              "    </script>\n",
              "  </div>\n",
              "\n",
              "\n",
              "<div id=\"df-2d58a638-09c1-4866-9d49-307c4d92c80a\">\n",
              "  <button class=\"colab-df-quickchart\" onclick=\"quickchart('df-2d58a638-09c1-4866-9d49-307c4d92c80a')\"\n",
              "            title=\"Suggest charts\"\n",
              "            style=\"display:none;\">\n",
              "\n",
              "<svg xmlns=\"http://www.w3.org/2000/svg\" height=\"24px\"viewBox=\"0 0 24 24\"\n",
              "     width=\"24px\">\n",
              "    <g>\n",
              "        <path d=\"M19 3H5c-1.1 0-2 .9-2 2v14c0 1.1.9 2 2 2h14c1.1 0 2-.9 2-2V5c0-1.1-.9-2-2-2zM9 17H7v-7h2v7zm4 0h-2V7h2v10zm4 0h-2v-4h2v4z\"/>\n",
              "    </g>\n",
              "</svg>\n",
              "  </button>\n",
              "\n",
              "<style>\n",
              "  .colab-df-quickchart {\n",
              "      --bg-color: #E8F0FE;\n",
              "      --fill-color: #1967D2;\n",
              "      --hover-bg-color: #E2EBFA;\n",
              "      --hover-fill-color: #174EA6;\n",
              "      --disabled-fill-color: #AAA;\n",
              "      --disabled-bg-color: #DDD;\n",
              "  }\n",
              "\n",
              "  [theme=dark] .colab-df-quickchart {\n",
              "      --bg-color: #3B4455;\n",
              "      --fill-color: #D2E3FC;\n",
              "      --hover-bg-color: #434B5C;\n",
              "      --hover-fill-color: #FFFFFF;\n",
              "      --disabled-bg-color: #3B4455;\n",
              "      --disabled-fill-color: #666;\n",
              "  }\n",
              "\n",
              "  .colab-df-quickchart {\n",
              "    background-color: var(--bg-color);\n",
              "    border: none;\n",
              "    border-radius: 50%;\n",
              "    cursor: pointer;\n",
              "    display: none;\n",
              "    fill: var(--fill-color);\n",
              "    height: 32px;\n",
              "    padding: 0;\n",
              "    width: 32px;\n",
              "  }\n",
              "\n",
              "  .colab-df-quickchart:hover {\n",
              "    background-color: var(--hover-bg-color);\n",
              "    box-shadow: 0 1px 2px rgba(60, 64, 67, 0.3), 0 1px 3px 1px rgba(60, 64, 67, 0.15);\n",
              "    fill: var(--button-hover-fill-color);\n",
              "  }\n",
              "\n",
              "  .colab-df-quickchart-complete:disabled,\n",
              "  .colab-df-quickchart-complete:disabled:hover {\n",
              "    background-color: var(--disabled-bg-color);\n",
              "    fill: var(--disabled-fill-color);\n",
              "    box-shadow: none;\n",
              "  }\n",
              "\n",
              "  .colab-df-spinner {\n",
              "    border: 2px solid var(--fill-color);\n",
              "    border-color: transparent;\n",
              "    border-bottom-color: var(--fill-color);\n",
              "    animation:\n",
              "      spin 1s steps(1) infinite;\n",
              "  }\n",
              "\n",
              "  @keyframes spin {\n",
              "    0% {\n",
              "      border-color: transparent;\n",
              "      border-bottom-color: var(--fill-color);\n",
              "      border-left-color: var(--fill-color);\n",
              "    }\n",
              "    20% {\n",
              "      border-color: transparent;\n",
              "      border-left-color: var(--fill-color);\n",
              "      border-top-color: var(--fill-color);\n",
              "    }\n",
              "    30% {\n",
              "      border-color: transparent;\n",
              "      border-left-color: var(--fill-color);\n",
              "      border-top-color: var(--fill-color);\n",
              "      border-right-color: var(--fill-color);\n",
              "    }\n",
              "    40% {\n",
              "      border-color: transparent;\n",
              "      border-right-color: var(--fill-color);\n",
              "      border-top-color: var(--fill-color);\n",
              "    }\n",
              "    60% {\n",
              "      border-color: transparent;\n",
              "      border-right-color: var(--fill-color);\n",
              "    }\n",
              "    80% {\n",
              "      border-color: transparent;\n",
              "      border-right-color: var(--fill-color);\n",
              "      border-bottom-color: var(--fill-color);\n",
              "    }\n",
              "    90% {\n",
              "      border-color: transparent;\n",
              "      border-bottom-color: var(--fill-color);\n",
              "    }\n",
              "  }\n",
              "</style>\n",
              "\n",
              "  <script>\n",
              "    async function quickchart(key) {\n",
              "      const quickchartButtonEl =\n",
              "        document.querySelector('#' + key + ' button');\n",
              "      quickchartButtonEl.disabled = true;  // To prevent multiple clicks.\n",
              "      quickchartButtonEl.classList.add('colab-df-spinner');\n",
              "      try {\n",
              "        const charts = await google.colab.kernel.invokeFunction(\n",
              "            'suggestCharts', [key], {});\n",
              "      } catch (error) {\n",
              "        console.error('Error during call to suggestCharts:', error);\n",
              "      }\n",
              "      quickchartButtonEl.classList.remove('colab-df-spinner');\n",
              "      quickchartButtonEl.classList.add('colab-df-quickchart-complete');\n",
              "    }\n",
              "    (() => {\n",
              "      let quickchartButtonEl =\n",
              "        document.querySelector('#df-2d58a638-09c1-4866-9d49-307c4d92c80a button');\n",
              "      quickchartButtonEl.style.display =\n",
              "        google.colab.kernel.accessAllowed ? 'block' : 'none';\n",
              "    })();\n",
              "  </script>\n",
              "</div>\n",
              "    </div>\n",
              "  </div>\n"
            ],
            "application/vnd.google.colaboratory.intrinsic+json": {
              "type": "dataframe",
              "variable_name": "df",
              "summary": "{\n  \"name\": \"df\",\n  \"rows\": 891,\n  \"fields\": [\n    {\n      \"column\": \"PassengerId\",\n      \"properties\": {\n        \"dtype\": \"number\",\n        \"std\": 257,\n        \"min\": 1,\n        \"max\": 891,\n        \"num_unique_values\": 891,\n        \"samples\": [\n          710,\n          440,\n          841\n        ],\n        \"semantic_type\": \"\",\n        \"description\": \"\"\n      }\n    },\n    {\n      \"column\": \"Survived\",\n      \"properties\": {\n        \"dtype\": \"number\",\n        \"std\": 0,\n        \"min\": 0,\n        \"max\": 1,\n        \"num_unique_values\": 2,\n        \"samples\": [\n          1,\n          0\n        ],\n        \"semantic_type\": \"\",\n        \"description\": \"\"\n      }\n    },\n    {\n      \"column\": \"Pclass\",\n      \"properties\": {\n        \"dtype\": \"number\",\n        \"std\": 0,\n        \"min\": 1,\n        \"max\": 3,\n        \"num_unique_values\": 3,\n        \"samples\": [\n          3,\n          1\n        ],\n        \"semantic_type\": \"\",\n        \"description\": \"\"\n      }\n    },\n    {\n      \"column\": \"Name\",\n      \"properties\": {\n        \"dtype\": \"string\",\n        \"num_unique_values\": 891,\n        \"samples\": [\n          \"Moubarek, Master. Halim Gonios (\\\"William George\\\")\",\n          \"Kvillner, Mr. Johan Henrik Johannesson\"\n        ],\n        \"semantic_type\": \"\",\n        \"description\": \"\"\n      }\n    },\n    {\n      \"column\": \"Sex\",\n      \"properties\": {\n        \"dtype\": \"category\",\n        \"num_unique_values\": 2,\n        \"samples\": [\n          \"female\",\n          \"male\"\n        ],\n        \"semantic_type\": \"\",\n        \"description\": \"\"\n      }\n    },\n    {\n      \"column\": \"Age\",\n      \"properties\": {\n        \"dtype\": \"number\",\n        \"std\": 14.526497332334042,\n        \"min\": 0.42,\n        \"max\": 80.0,\n        \"num_unique_values\": 88,\n        \"samples\": [\n          0.75,\n          22.0\n        ],\n        \"semantic_type\": \"\",\n        \"description\": \"\"\n      }\n    },\n    {\n      \"column\": \"SibSp\",\n      \"properties\": {\n        \"dtype\": \"number\",\n        \"std\": 1,\n        \"min\": 0,\n        \"max\": 8,\n        \"num_unique_values\": 7,\n        \"samples\": [\n          1,\n          0\n        ],\n        \"semantic_type\": \"\",\n        \"description\": \"\"\n      }\n    },\n    {\n      \"column\": \"Parch\",\n      \"properties\": {\n        \"dtype\": \"number\",\n        \"std\": 0,\n        \"min\": 0,\n        \"max\": 6,\n        \"num_unique_values\": 7,\n        \"samples\": [\n          0,\n          1\n        ],\n        \"semantic_type\": \"\",\n        \"description\": \"\"\n      }\n    },\n    {\n      \"column\": \"Ticket\",\n      \"properties\": {\n        \"dtype\": \"string\",\n        \"num_unique_values\": 681,\n        \"samples\": [\n          \"11774\",\n          \"248740\"\n        ],\n        \"semantic_type\": \"\",\n        \"description\": \"\"\n      }\n    },\n    {\n      \"column\": \"Fare\",\n      \"properties\": {\n        \"dtype\": \"number\",\n        \"std\": 49.6934285971809,\n        \"min\": 0.0,\n        \"max\": 512.3292,\n        \"num_unique_values\": 248,\n        \"samples\": [\n          11.2417,\n          51.8625\n        ],\n        \"semantic_type\": \"\",\n        \"description\": \"\"\n      }\n    },\n    {\n      \"column\": \"Cabin\",\n      \"properties\": {\n        \"dtype\": \"category\",\n        \"num_unique_values\": 147,\n        \"samples\": [\n          \"D45\",\n          \"B49\"\n        ],\n        \"semantic_type\": \"\",\n        \"description\": \"\"\n      }\n    },\n    {\n      \"column\": \"Embarked\",\n      \"properties\": {\n        \"dtype\": \"category\",\n        \"num_unique_values\": 3,\n        \"samples\": [\n          \"S\",\n          \"C\"\n        ],\n        \"semantic_type\": \"\",\n        \"description\": \"\"\n      }\n    }\n  ]\n}"
            }
          },
          "metadata": {},
          "execution_count": 40
        }
      ]
    },
    {
      "cell_type": "code",
      "source": [],
      "metadata": {
        "id": "lDZWpDagm85t"
      },
      "execution_count": null,
      "outputs": []
    },
    {
      "cell_type": "markdown",
      "source": [
        "🔍 A statistical hypothesis is an assumption about the distribution of a variable that may or may not be true.\n",
        "\n",
        "Now it will be a little confusing: a statistical hypothesis consists of two hypotheses - the null and the alternative.\n",
        "\n",
        "     The null hypothesis indicates that there are no differences in the compared groups.\n",
        "     The alternative hypothesis, on the contrary, states that there are differences.\n",
        "\n",
        "Let's say we want to test whether there is a relationship between the number of Titanic's passengers and passengers gender. In this study, our statistical hypothesis would look like this:\n",
        "\n",
        "     Null hypothesis: There is no significant difference in amount of male and women Titanic passengers.\n",
        "     An alternative hypothesis is that there is such a difference."
      ],
      "metadata": {
        "id": "fFpmiQijaHqz"
      }
    },
    {
      "cell_type": "markdown",
      "source": [
        "![typeItypeII.png](data:image/png;base64,iVBORw0KGgoAAAANSUhEUgAABVgAAAQ4CAYAAAD8ebc/AAAAAXNSR0IArs4c6QAAAHhlWElmTU0AKgAAAAgABAEaAAUAAAABAAAAPgEbAAUAAAABAAAARgEoAAMAAAABAAIAAIdpAAQAAAABAAAATgAAAAAAAACQAAAAAQAAAJAAAAABAAOgAQADAAAAAQABAACgAgAEAAAAAQAABVigAwAEAAAAAQAABDgAAAAA01SkDQAAAAlwSFlzAAAWJQAAFiUBSVIk8AAAQABJREFUeAHsnQeAFEX2xt8mckYEFUkiCEYwZ8XsGQ4UDKgnRoyAeqLomcWIemA+PRUjCmICFPPpX0UUBQVFgmAiSs5h5/++qq4Ok3ZmWJDd+Up3urpy/XqYnv7m1auCmAZhIAESIAESIAESIAESIAESIAESIAESIAESIAESIAESyJpAYdY1WIEESIAESIAESIAESIAESIAESIAESIAESIAESIAESMAQoMDKNwIJkAAJkAAJkAAJkAAJkAAJkAAJkAAJkAAJkAAJ5EiAAmuO4FiNBEiABEiABEiABEiABEiABEiABEiABEiABEiABCiw8j1AAiRAAiRAAiRAAiRAAiRAAiRAAiRAAiRAAiRAAjkSoMCaIzhWIwESIAESIAESIAESIAESIAESIAESIAESIAESIAEKrHwPkAAJkAAJkAAJkAAJkAAJkAAJkAAJkAAJkAAJkECOBCiw5giO1UiABEiABEiABEiABEiABEiABEiABEiABEiABEiAAivfAyRAAiRAAiRAAiRAAiRAAiRAAiRAAiRAAiRAAiSQIwEKrDmCYzUSIAESIAESIAESIAESIAESIAESIAESIAESIAESoMDK9wAJkAAJkAAJkAAJkAAJkAAJkAAJkAAJkAAJkAAJ5EiAAmuO4FiNBEiABEiABEiABEiABEiABEiABEiABEiABEiABCiw8j1AAiRAAiRAAiRAAiRAAiSQlMCqVaukZq2aUlBQIIX6h2P83w5t2srMmTOT1neJr776qvTo0UP23HNP2X33PeSss86St99+W1avXu2K8EgCJEACJEACJEACFZZAcYUdOQdOAiRAAiRAAiRAAiSQlwSWLVsm69atK3PuBV6JmB4hCiIUFRVJUaH+FRdJlSpVTBpfUhNYvXqVrF9XagqAY7KwtnS9rEohlM6ZPVsuvvhieXX48EjVceO+lmeffVZOOeUUeeyxx6Ru3bqRfJ6QAAmQAAmQAAmQQEUiQIG1Il0tjpUESIAESIAESIAE8pzA+vXr5bbbbpMZM2b4oimQxGKxyHkyTBBZa9asKTVq1JBatWrJtts2k6233kqaNGki7XfcUWppHkM8ARWmC5StJkcFVqQj0XKHdWt8WLNmjQx68EFfXFXbV20j2sqQIUOkbdu2cvPNN8dX5zkJkAAJkAAJkAAJVBgCBfplNPotp8IMnQMlARIgARIgARIgARLINwKwXu3QoYNMnTq1XKZeXFwsTZs2NUvXO3U6TE444XgVXbcul7YrQyOLFy82AjRcBYQD9FT3FLHddq1l1KiRsv3224eLyC+//KI8T5Dx48cH6VpP9VpPZoUoG5OqVavJqlUrgzKMkQAJkAAJkAAJkEAFI0AfrBXsgnG4JEACJEACJEACJJDPBGCFWrVqVQ8BBLpQ0DykmNRwlh93EXuESAhXA7CGfeWVV6RPnz7SqVMngVUlQ4iAZ45hqHkvVly1HJ1cGqphosuXLzdsI+lGXI3WgxuCuXPnRoplcwKrZgjBtBvJhhrLkgAJkAAJkAAJlCcBCqzlSZNtkQAJkAAJkAAJkAAJbEICdum6J6kanQ9aoNEDfVFQxTyNW0nPJmKhOoKzwDQn+gIrysmTJ8vpp58u99x9t0vm0SdgWXqEzYJ/PytJpKSkROrXq2dznKZqzrzrFkqrXbt2khZSJ61fv06wcVZ3vVZNGjeW7t27y4oVK1JXYA4JkAAJkAAJkAAJbEQC9MG6EeGyaRIgARIgARIgARIggY1IwNf7rIKqvq+MdArdzkioyPdUVCup2rGE4yYlvN5dZcPSWKlc3bevrFYfotdff/1GnEAFadoTQuP9pyZwjJsONq5qv+NOMmPmzKhbAPURYOp6Dey4Y3upXr16XO3gFNewtLRUZuuGWW+99Za8/MrL8sH7HwQFNLZ8+Qr/WkcyeEICJEACJEACJEACm4AALVg3AWR2QQIkQAIkQAIkQAIkUD4EwqKe0f1cgh5jvhDo9eXyvFObra9eOTciCLNBUOtK7/SWW26ROXPmBFn5GjN8AmipOMbjadSokfTseaHUUyvWgLDGcOIlFBUVyb33DoivGjmfNWuWHHjggcZXbs+ePX1xNRgRigc9RCrzhARIgARIgARIgAQ2AQEKrJsAMrsgARIgARIgARIgARIoHwIQ1eCHFSGii5oEk2xesHkVLCjr1qkjdXT5eWFhoSfBeQIfSnkKnS/NRc4LjH/Wfv36BY3macwu6HfuGJyUGeKYhstxxx0nAwcOlL322ksaNmwohXrtqlSpYkTX3XffXZ544gk5+uij07Qggo3Nxo0bF5SJXKcgmTESIAESIAESIAES+KsI0EXAX0We/ZIACZAACZAACZAACWRNAMvF45eqRxspkKKiQjm7x9nS+e+dZfXq1Wbp+JIlS2ThwoUydepUs6HVvHnznFIYVPeVViRpL3r+7rvvyoIFC6RBgwZBuTyNWTyeumkYBMCcK4Z4NBDDzzzzTDnggANk0qRJZjMrCKy1a9WSjiqwNm3aNL5KwjnagD9XXEsTgm6DssnSglzGSIAESIAESIAESGCjEqDAulHxsnESIAESIAESIAESIIGNSQByn9PWbDym1qoFsv9++8uxxx6b0PWqVavk3HPPlWuuucaIpwkFjFmrtmgaK5A16od12rRpeS2wFhifCY60s2cFOZeWSDE+pWXLloK/jRYwFAYSIAESIAESIAES+IsI0EXAXwSe3ZIACZAACZAACZAACWRPANaMBc7ZqopqTlxFSy4e0/x169YlbbxatWrSsWNHueeee6RFixaRMtq0SoZeK0ZjjRmryZkzf4mUy6cTYzFskACIVTE9QoohiOG6bNqwqfvbtLNjbyRAAiRAAiRAAhWLAC1YK9b14mhJgARIgARIgARIIO8J+C4CoPkpDae3Qu9zEiB8faYLu+66q9k46Zdff5HY+lIjFUKYtcEKh3jFsvTffvs1XVORPCtIxmTt2rXy66+/mr/ff//dWMJi06cmTZrI9ttvL7XVLyxESfiG3ZCA/kpLdfx6XL58uUyZMkXmzpsr8+bOM2OA31P027JlK+27cdZ9GkHbsYTPBC8Y7u5Ej+g/WXDjS5bn0sAgLNC6+SAf6evXr3dFg6Na1cKwNtwrysWXdeNHm2UFlM3meoTHmaztbNtL1gbTSIAESIAESIAEKgYBCqwV4zpxlCRAAiRAAiRAAiRAAh4BJ4P6QFRlc4KfFdx8O1S/SLLIDjvsIMWFxbKmdI1R6lALGissZJ2IW6DuBrDTfSYBfl2/+OILef7552XEiBFmc6ZU9SDw/u1vf5Ozzz5btt12W4FlbaYB1rl//vmn8Wf60Ycfyeh3R8s333wjEHLThSZbNZEjjzhSLrroImnbtq3Ur18/XfGEPMcYGY6zjSEHf4lh+PDh8thjj5mNrSA4QnBFXQjg0GRXrVoht9xyq+y7775+5aeeekpQD+URli5dGmJpR2HEVRs1Zb788ks59dTT1Ferfbwxwq4Krs2aN5cLLrhArr/+eiOeujaNIKztF3jjgSB+zDHHyIUXXpjRtfjll1/kzjvvFBzRZvzccI2aN2smDz/yiD8PM1C+kAAJkAAJkAAJVEoCFFgr5WXlpEiABEiABEiABEggPwhYoc/JfE4YDSlvaTAYsS1U1LSlL05cRdVqVatJ69at07SiIuHKlTJy1CgZOHCgfPzxx0nLQisMG3mOHz9e8Hf//fdLr169jOjZTAW5ssKMGTPkhRdekKFDhxpRNVn5oK/Q5LTg7FmzZfDgwebv+OOPlxtvulF277h7siYiaW7cjnWQaVOsj9Yg1cVg4fntt9/K6NGjXVLS4ymnnBoRWD///HMjUCcrjL4wHuMJ1g1MC65YsULefntUQhVY8F566aUycuTIhLz4hFl/zJLjjztOWm23XXxWwvnE77+XR1Q8TReOOOKIdNnMIwESIAESIAESqEQENmxNUiUCwamQAAmQAAmQAAmQAAlUNAIQEIMQCKMQ/qJ5QakgBoFz7bq1XkJcee+0eo3qZkl/UCsagyUpNsw6+eSTrbga1wyGofaNEXHVb0HzVqo4C0vIM884Q75X0a6s8MYbb8h1112XUlxFfV93hJlnivDmm2/KSSedlFLIDFdLJaA6xLa/5H0VF3v2HIYDWgUg/AWhuChq81FSUhJkxsXKnJvrx+uiuLjECOSwFE4aQkOZ8N0EmakWqWUFbHz2uVoqI5jqrs+4uV155ZW0Xi0LJvNJgARIgARIoJIQoMBaSS4kp0ECJEACJEACJEAC+ULAuUqFvWp8sIIXrBwT88Jlx40bJ2PGjJFYqStnj1Zv01cvuYon0IXruvicOXPkggsvkH+r5Sr6M3Vdc6aQbSeWSujUsrY/kf998omc0b27Wfrv2k92DAThUK5rBK35cY06UF5RmxUUmDljpvS5oo9MmDAh1Fg0inlhSkEtl68pobm6pfcuN+GoZe1wwMlVtK0GwritFenLP9GIH08zN/SDZrwu0BdEbIjgLphmXFtazkWR/+mnnxrfta5ssiNcFrz99jsmy/UVPzdYPXfo0CFZdaaRAAmQAAmQAAlUQgIUWCvhReWUSIAESIAESIAESKBSE/DEszj90AhlXlZay8Fly5bJbbfdKlhuH1HXFJqtr6+qukE0PPOss5KiXLVqlfTv319eHfaqlx8vG0K2ixdd0Wi0OTdepI5XoRP+UdMFWMPaYI/m1Qeh/fkN6niCE1MlPDeToJWn/DRFHn74YbNBltdw5GCEU23fNet69+cWKZ3mBBW9RvzhuoS4apG+/MKa6jKUQSZzM83qNYRIvJ0u++/UqVPQU7itINW4EsBmYekCfO2OHftlUCTJ3E455RSpW7duUIYxEiABEiABEiCBSk2AAmulvrycHAmQAAmQAAmQAAlUPgK+tWRIJMMs/VONOAtWHOELFH/YYR6bQR1wwAG6idJrBozTIJ1w6I5obJuttpKbb745ASDaHDZsmPG5ikxbx+/dG4c9LygqFCyTr1Klim6WVahl4yVS27xto0BeeeUVeecdax2Z0HEkwbaPV/hcLSwsNJtxFWlf6K+4uEg38CqyGztF6umJVjL9eeLl008/nXaDLLTvgu3Vnvnap8tMd/QK235twVCzSWsGM4zPDoRktBFpJ25u+kYw7wVsVHbZZZeZhtwcbD13ZvvAJmULFy6M7zBy/tZbb/nnpo24uVWtWlWOPPJIwZGBBEiABEiABEggPwhEHR7lx5w5SxIgARIgARIgARIggQpMwImnwRSiIhnE1Jdfflnmz59vlntjh/iffvrJ+DidOHFiUC0Ui0FFVDEuCAXy7wcHBaehGCwcL7/8cj8FtYyf1UDiNXmtW28n9947wOxOD4H1hx9+MP5WXxoyRNasXm1KW5HPs8j0+r/hhhvkqKOO8ttPFYGAV79+fdlzzz2NoHfggQdK+/btxfkwxQ732NQKm2/B6tLvSxs0FqBef6t1LBANe/fubQTZVP0lpIdxJWTGJ9jC4SrWvjecYutgTltssYWZB8R0XD+MP1lw1w1z3qLhFlZthmqu/0NQb6IiOcRntLPPPvsYS9Zp06aZptBz5LoBkCbCP234+sb3CxHchuh1Q3sIBx10UFq/vbYUX0mABEiABEiABCoTAQqslelqci4kQAIkQAIkQAIkkA8ErFJoLDedJuppYzr7AmOt+u677wr+0oWgjpbyGoJIVqt2bbmiTx/p0rlL0uqPPvqoLFiwQPOCFqxgGSTtt99+8sILL0jz5s39Ntq1ayfPPPOM1KxZUx5//HEjAFrjR2uRaQRHFQe//PJL4y5g11128eu6yDoVGxE6duwoXbp0kTN0c6xwH64cjs2aNZPrr79eDj30UDnhhBPsmD2TXatBBuP/+OOPjagIMTI++D5Sg+KhmUPTREZZwVY2JfXF4raSZHz9vn37ynnnnWcsT9Hq9OnT5dhjj5V169aZaw4R1NbUTO+6QViGmAy2LkCIx3mdOnVMUoMGDeT000+XW2+91RXxhGY9tcMz6S+++GJKgRV+d3F9TFCIYY6uCQisW6mwy0ACJEACJEACJJA/BCiw5s+15kxJgARIgARIgARIoFIRiBl10kptvuDmS29O7rJTNmfRJL9kGEqTJk3kjjvukJS7zmth5NvgetWGPaEPjTbeckvjWiCV8AkBcfjw4TJ79mxPoHOCoWtP5K0335BkAutee+8t1/brJxdecEFKYTU8H8Qh9kKIhSWrm7TpyaqDpviYMV8YYTq+rjn3lsCjrkOIJFcdQmaiVbFtyRdnvcoGUzBN27xj53UO36Vh/6UQfatXry7YXCquqD+ehg0bSps2baRatWpeK4kHWBEffvjh8uCDD1o3AGGr5dDc4CYAFrONGjVKaGSIWh8jGA5ax07FVsbYtt22mRxyyCGmDF9IgARIgARIgATyh0DiT9T5M3fOlARIgARIgARIgARIoCISsKqWjlwtCKF0ecGPmojLs6mmil/P1YBQ5teSf/zjH8a3ajpxddy4cZ71qhXZbEuuL3vW6bDDjJAX9BKNQXht27atSXTapS2hY9ExYkTvvfd+tJJ3dvDBB8ttaoGZSrxNVgliIXyQumBmjJdQ53PmzHXZCceAsS6Jd7ka8eOaFm+F6oqZvsyJxry54TRo05VMfYTlKtw+hIO7bm4MyEe5ssJuu+0mYGiCKqLBOEJz08xXX301aVOwQEbw0ZkJ2rkhHVbK8PHLQAIkQAIkQAIkkF8EaMGaX9ebsyUBEiABEiABEiCBCk8gLOZFLRqhdqnk5qluyCtQM0tzqooYJDQT94oBBFI6d+4sDz/8sLGahKVkuhDe4MhKobYzN45atWrJ0Ucfna4Jk4cl7ViWbwekSWZMKvjZiFkWn6wRzD08f1cGflQh/k6e/JP6m50sU6dO1fhkwZL20vWlAr+xLhhx0EIx/Tkr0zVr1pjNuFy5+KNj6SxXvaHGF4ue+wpmMDcUcLyihVOfFRQCUBB8lwxBUkYxuAs4TAXwUaNGCZi5cZi5hd4jzz77rFx44YWRNmfNmiXffvOtTbOX3bt+dm7Vq1dTVwbHROrwhARIgARIgARIID8IUGDNj+vMWZIACZAACZAACZBApSEQWY6uupsv+Dm10oiVvmbpzVtlRFfWj9gyr7/+hrEoDZb+p0Y1ZsyYUKaqbOG+9GTZsmVy8cUXS//+/Y2wiXwzXhxLYTFZIMVFxTJ1+lSvrhN+bUNG7NRoJtaYP//8szw4aJAMHTZMsKFVfLAt2lczTn3xRWaTgN6cUiiyePFigUCcGFBGa3pqpI8PEdTXg8tLqBs0b/vyqnjdm+LJBOP4dgpMX5rqutR2IWua/v3X+FrJz+HP9ZFHH5FJEyd5Lbi5Be+Rzz//QhYtWiT16tXzG4FVa2lMLWlNtxC6tbzHABzr1Ksr3bp188szQgIkQAIkQAIkkD8EKLDmz7XmTEmABEiABEiABEigUhAIBDkrsDmhzdfyPNGrUJfFYyd5PxhRDmdaQ8tAFEPRWOl6ufPOO2X+/Pnqp3SQ+vtM7cdz3rz54ea0sjcGc9AO9AhrUViPZhYwCq2m4qUbPwRjLHmPF/jQHoRMbLJ0ww03yOjRoxO6sKOJGxMGZcTRUB9oS//C5QOuQbNIixkrVC1tC5uKdqz2FQyS1Q1aCWJWDHe9etfAE26DUokxf+TxvEMzSKyVPKVVq1ay1557y48//GgFU/SfMLdSGTp0qNlsy7Xyyiuv2KiZto4oVA0Z+++3Pze3crB4JAESIAESIIE8I0AfrHl2wTldEiABEiABEiABEqjoBDxZT6ehMU/sCs8Jq8mxsVOvXr3kjO7dZZ999xH/Sy+ENA2+YGeUNZv2xBNPyC033yxr1661CUle586dE5cajMZk4FT7MN3gxcXDtUxmOMGbBpK8JfUxtZTEEvZwgFXr4MGDzRJ3X1wNt69xOxo3Jq8jqJrhoKdu/uHyyaxQTZqr7h1Nq3jxmne9hrtIGvfmZsqHxpC0bFyiX9Wbod95/Nzi6qU6Pe+8c6VmjRpBdtzcMO/hIT+s2JDs+++/C8p7MccRp5dccklCPhNIgARIgARIgATyg4D/XTM/pstZkgAJkAAJkAAJkAAJVHgCvsWjr/BFplRUXGyW6Q8YMECefe45GfHWCLnt9tttGScWuhpeW66l++67T15++WWXm3BcsXKFScNi+0jQdv0UIx5qLvpy8XBhpJsQbcXU1/HY7ESr0AcffFCwARcsZCN96Ymt69r1jo6T35+W85RKv36oissLJdmothMub5rDS6hdayGbUNNPsONzc/OTTSRlv6Fidim+TXBtmbPwGELly4ruv//+Aj+4mEPi3DRF078dP97f0Ay+d1etXOU1G71uSGzRooUceuihZXXLfBIgARIgARIggUpKgAJrJb2wnBYJkAAJkAAJkAAJVH4CydU1yHirVjkxTKRBgwZybb9+8sADD8Qh8aQ1q6cZoW3N2jXSu3dvmTlzZlxZe1pSXGIiiVIhlrsjeG2aeFkv0VbCs1m3br1xB+Ba+OOPP+SGG29wp35fpjetGK675ZZbyhFHHCEXXHCB3HrrrfLCCy/I1Vf3lapVq0ba9BvzIsksWJEFAdTNzZ+dH7GVw/17zUUOLj+umimTqt9IA6EZ+nJvssaildKeXXrZZbZ/8xpqzLOKXbp0qbzzzjsm991335XlK1Z4Vze4bq7WRRddlLYvZpIACZAACZAACVRuAvTBWrmvL2dHAiRAAiRAAiRAApWOQFkWj070ip84doX/7rvv5Mknn7Q6aJyFJ0RAtA1frD169JAPPvggvgkj1kLsdEGLe8abgSfYKlWqyNZbb6N+VOH/FaPRPL+cV1PPrR2k6dUIn2Zeegr5rnHjxlKzZk3XjVxzzbWydMlSvx3bqhP67FmHDh0EFrg77bSTlJSURP7gbmD9+nV+e4Hgaf2gIiMVV2CK9qeF4QvVJHqZmGAZAfN1Iy6jaOps1ydKuEmkLp0254wzzpDLL79cFi5c6DVmGvfnBoH1ww8/kGOOOcb3qWu7hHWxzkRP3BAgZjOQAAmQAAmQAAnkLwEKrPl77TlzEiABEiABEiABEqiQBCIWj6qJuQ2r3GSMbppE76tWrZpcd911MnLkSJk1a5Yr7tRDe+5V/vDDD+U///mPnH/++UE5jW3ZaMvIebgvxGuoX897771Xytui8eOPPzL9uv6MsOfUPZX5dtLl7mO/+kqKCpMvUFuwYIHAKhaTDcucYcEzwjU0SyMOh85tVDt3/WOTK/8koaCfEO5LK/j1Uwm7fsVwxNvkyiSF2sCmYLkE+Om96aabvKr+hPyx/fzzTBkxYoTMnjM71LyduyN5cteTpV69eqF8RkmABEiABEiABPKNQPJvYPlGgfMlARIgARIgARIgARKocASMhhrS+dwEXLo7Dx9btmwZEtS8HG3D1NFTK7HZV4hvESFW89vvqH474wOK2yqyQpeRjxkzJr7EBp3PmDFD1qxZE7QR6s8l3qAiYSpxFZt2BS4PIjKnqe7m7tpKOHpzC6dHDVZRoMxWbHUtZkqGqmQnjmpF11Uoik2osmvHDufSSy8NT8vEw3ObP3+ewP/q/Hnz/W5RCMN3JM8/LyrCm0b4QgIkQAIkQAIkkFcEKLDm1eXmZEmABEiABEiABEig8hDwfXE6dVOVMae9pZvliSeeKEceeaRXxNYwhpFxtVeuXClwKxAOWC7uB9dfXKef/t+nMnbsWL9YphEIhMmsSI3AqiIpujFdef2F41tvvXXKbn766ScZNWpUynzH0VjHpiwV7lvtVaEwxvFKUzXI0nquv+CyeRMKSkVisHAtKiry02xp+2qvm8jPP/8sWNKfbWjYsKF07949VC06N7T7/vvvq3sF9YkbBu7NvXXr1rLnnnuG6jNKAiRAAiRAAiSQjwQosObjVeecSYAESIAESIAESKAyEPA2IzJTgfilqp/R/cqYG/ybXnzxxd6ybq0Bk0VTES9WuHNSLTY3Mj5bvTY7dTpMiks8L1uuv6CaqT9t6jTpe/XV8uOPP5YxkiD7008/lSuvuMLfVCnIEVmydImUQuDTRH+YcfHXhg8PV/Hjy5Ytk7vvvlumTJmiaTo387+do1/Io5Zyqb5XPOjbxLQpewzaSYw5jkEOBlB2vaC8CHzaYuMuF6y4iza0La8pWOkOHDjQFfGPRhi1Ffy0+EhURLcNYm6Y9uLFi2XevHnale3Lzhk5thz8uIZ95ca3zXMSIAESIAESIIH8IECBNT+uM2dJAiRAAiRAAiRAApWCgKenmblA5vIDMiIJfk7SCKxYjz32WLOxU0FEgLPCmpNqV61aJYMGDfIESpFq1arKOT3OsW2G+zMDC4S3j9Rnaue/d5Zrr71WpkydkrB8fdGiRWbDrRdffEm6dOksp512mjzw73/L559/njDeZts2U5GxJCHdT9Bun3jiSXnooYf9JES++OIL6fL3v8tzzz3npevcdJxubq4wtEMbwnRdGo7J4KrU6NcLl43G4/tCWxlUizQC37nNmjWLpOEkXuAdpAIrNicbMmSIvPrqq9Krd2859dRTBSJzurDjjjvKfvvtZ4rYsdm5hefn3iOWkH2Fv91DDz3UCMDp2mceCZAACZAACZBA5Sfg/fxe+SfKGZIACZAACZAACZAACVR8AhDAnKVlRBdFhqcPeocyJ3vPPfeYDYxgpWiC14at753oYfz48WbDq9tuu82Iabfccos8/vjjfn9BR06c1Sxt5MfJP8qAAQPkqf/+V0rUCrNW7VpSq0ZNWaC71q9avUrWrlkrEHDDS9uLQ0vhXbtt27bVfqu6U//oT1n7Wrx4kfzzn1dpf/dKrVq1jNXrsqXL5M8//7TlU8wNzBxHx9XvwEUMkGButilUdAXSHP3GtYyWN3Xj6qXs12sWAmvTpk2DTiJzCZJXKstnnhksw4YNk4LCAlm6eIls0aiRwLo1Xahfv75xE/DZZ595xezcvG7MoN007ARssQMPPFBwbRhIgARIgARIgARIgBasfA+QAAmQAAmQAAmQAAlUKALOKtItPzcWmL5oB1kMWp6fkHJu8Ft68803+/lJV657zQwcOMjfvArL1e+66y6vnvZnuvT6DcUxLoh7c+bOk99++01+/GGyfPX1OJk+fbrM+v0Ps/Q8EFdt/YLCxK/n1atXly222EL7s2Vcf2GfoBjmqlUr1RfpDGMZO3PGL5646rWbDAfSNNtxTOb/FWnO5tT1Z6p5Q/EgpD4UePPx+kJbrj9/Pr56mbwZWIq2bNkyyPRNSxMHgfGC6RIVV9FlYWHguzVoIBqDwLvvvvtKq1atTB1n0evmbd9Ktq/wewTWq3A3wUACJEACJEACJEACid/gyIQESIAESIAESIAESIAENlMCRgSEcqbBiajJ9LlAxLNlU7326tVLdt11V5PtNesVjZ6tVovTG264QRaq9SkEuUsuuUS6dTtFy2o5U9SWtwKcxrVMzAmBviqHMraceY3og156sslorcsuuyzY6MkUVfnPO6IviJW2P9uO6wdHjLdYXQwElqKujBt+6FyTwgF1Crzx+/35fQUlk4mzNjfUtoniqrk072jGH7QVHysuLjbuHFq0aO5lxdcP13B5Nq2Mpv2K7du3l4MPOcScJ143JNt2XestmrcQWLAykAAJkAAJkAAJkAAIUGDl+4AESIAESIAESIAESKDCEDAiYUiYDEVV9kOABAax0UlhJjHty9NPP62WjnFfi01jXus4qFL30Ucf6RL0Z0xb2Njo3nvvkeP+9rdQ29oviiLF9O+dpRqKSXd92GOqcZ9zzjna17Ghvox06vdle07eUfPmzaVL5y5StWo1W9905fUbajEQYEOJGrUobQ/ICfoK2khV1w7Qay8o7iXbhFRz9mqZw5577indT+8eTgriEY5IDjrKpG3UqFq1qhxx+OFSp05tPUOD2kZynCgu7dVvK6xeGUiABEiABEiABEgABOK+SRIKCZAACZAACZAACZAACWzGBCB6OeHLaWDQ07w4oiZkIbDutttu0rdvX1fTq++ERD01fdpO+17TVyZMmGDKbLvttvLM4MGmbsOGDb2CwfD8hmwk+uqbVnqT0fFC5N1qq62i5UJnjz72mG7GtH+QEpq/QxJk2hg2h7rvvvvk+OOPV5+va2yiFg7k0qBGMjEySAt6SBpLwTtWGpS2181eIZPqWcYGFq3BWJLFLuzZU07uerKf5V9rk+L1o4fw3EpLS/3yZUWOPvpo9am6g1csNO5QRQjJcNlw1NFHhSyCQwUYJQESIAESIAESyEsCFFjz8rJz0iRAAiRAAiRAAiRQMQkUFRfJcrcrvNPAcPTiOKxbt1Y3Ocrua+5FF10kbbbfPgLFNR9OXLN6jZx99tl+UoMGDQSbXo0cOdIIrU2aNPHz0kZCguRuu+4mt6gv2NGjR8tJJ52UshraHjLkJbnrzrukbt26OufQpJPUOvnkk+X1116Tzp07y4qVK2R96Xq/VLK5FSXZYKukpERWr17t10sWWbJkaeC+IFQAYuT69UGfNivUsxdNsB4OtRGOQtB+6MGHzIZjjZs0dpc8XMTEQz1Ifb0+yeaVUEkTsNkV/KqWlGAfYJVvjYJrZdxAD49JHWV/+mmnJWuCaSRAAiRAAiRAAnlKoEB/lQ5/B8lTDJw2CZAACZAACZAACZBARSCAr65//P67rHbWmEkGDWGvke4eX6tWrSS5yZNg6Thv3jxZpuJtyuXuXlUIdlh2Hx8gRP7555/yu47v/fffN5tNzZs3X+bPnycrVqwQiLHYWAtWqjjir127drLddtvp0vQ6KuyVxDeZ9Byi5ZQpU+Srr76S77//3vSDjbPq1KlrxrX77h3lxBNPNO2jXQTMC/NL9dUf6S1atEgQI5E+c+YMKQ1bosaNCuPGnOArNT4sWrTIMEnFFNxRFy4XMg0YExiP+XKMbhz2o/zwww/mb9WqVUYkxbVv2rSpHHHEEbLHHnsIhOlMRVy4YoAbCGf5CmE16ttW5NRTT5UXX3wx0+GyHAmQAAmQAAmQQB4QoMCaBxeZUyQBEiABEiABEiABEti0BOKFTJzHi4zx57mM0PUT3355tJ3LeDZ1HTf/ZP1my2DatGlGmJ44cWKy5oxBKyxT4Iv34IMPTlqGiSRAAiRAAiRAAvlJIPFn5vzkwFmTAAmQAAmQAAmQAAmQQLkRiBf34s/LqyPXrjuWV7sVpZ3ynPdbb71lLIPN3NVytSAGb64qqcJLgB4grrZu3ZriakV5c3CcJEACJEACJLAJCWTnnGoTDoxdkQAJkAAJkAAJkAAJkAAJkMCmIDB37lx5Tf3VrjGuJ+AXQP/3NuHSiD+Eu+66y48zQgIkQAIkQAIkQAKOAAVWR4JHEiABEiABEiABEiABEiCBvCQwcOBAs/TfTh7uHDQGk1UTbGSXXXaRLl26uEQeSYAESIAESIAESMAnQBcBPgpGSIAESIAESIAESIAESIAEKiMBbFrVp08fs3lV165dpW3bNrrxVZFMmjRJnnjiCRk6dGhk2uoy1w9Oa+3fv7+fxggJkAAJkAAJkAAJhAlwk6swDcZJgARIgARIgARIgARIgAQqHYH169fLXnvtJePGjZMttthCqlWrZlyrrli1Uhb8uUDsZllWSnWCKiDAkhVi67777isjRoyQ+vXrVzo2nBAJkAAJkAAJkMCGE6AF64YzZAskQAIkQAIkQAIkQAIkQAKbOYHCQusdbf78+XakTj31x23NVuFyFe5XcQZxFWLsjTfeSHHV58QICZAACZAACZBAPAH6YI0nwnMSIAESIAESIAESIAESIIHKT8Dqqf48YblqzFo9cRWnRUVFcvvtt8tRRx2FUwYSIAESIAESIAESSEqAAmtSLEwkARIgARIgARIgARIgARKoTASMgKoT8oVUtVE1m1mZSRbYPa3iRNcePXpIr169KhMGzoUESIAESIAESGAjEKCLgI0AlU2SAAmQAAmQAAmQAAmQAAlsXgSw9N8PnpDqb2bl+QRAEWRVq15NepzdQ2655RZjxerXY4QESIAESIAESIAEkhCgwJoECpNIgARIgARIgARIgARIgAQqDwFsYrVi+QozoYiRqlNUneCqJQ499FC56qqr5LDDDpOqVatWHgicCQmQAAmQAAmQwEYjUKBfNiLfMTZaT2yYBEiABEiABEiABEiABEiABP4CAnjkee6552To0KHy9ddfy5w5c2XdurVmJDVr1pSOHTrIzrvsIp06dZIDDzxQttxyy79glOySBEiABEiABEigohKgwFpRrxzHTQIkQAIkQAIkQAIkQAIkkDEBiKylpaXmD5VwvnbtWqlSpYr6Yi0wf4WFheaYcaMsSAIkQAIkQAIkQAJKgAIr3wYkQAIkQAIkQAIkQAIkQAIkQAIkQAIkQAIkQAIkkCOBwhzrsRoJkAAJkAAJkAAJkAAJkAAJkAAJkAAJkAAJkAAJ5D0BCqx5/xYgABIgARIgARIgARIgARIgARIgARIgARIgARIggVwJUGDNlRzrkQAJkAAJkAAJkAAJkAAJkAAJkAAJkAAJkAAJ5D0BCqx5/xYgABIgARIgARIgARIgARIgARIgARIgARIgARIggVwJUGDNlRzrkQAJkAAJkAAJkAAJkAAJkAAJkAAJkAAJkAAJ5D0BCqx5/xYgABIgARIgARIgARIgARIgARIgARIgARIgARIggVwJUGDNlRzrkQAJkAAJkAAJkAAJkAAJkAAJkAAJkAAJkAAJ5D0BCqx5/xYgABIgARIgARIgARIgARIgARIgARIgARIgARIggVwJUGDNlRzrkQAJkAAJkAAJkAAJkAAJkAAJkAAJkAAJkAAJ5D0BCqx5/xYgABIgARIgARIgARIgARIgARIgARIgARIgARIggVwJUGDNlRzrkQAJkAAJkAAJkAAJkAAJkAAJkAAJkAAJkAAJ5D0BCqx5/xYgABIgARIgARIgARIgARIgARIgARIgARIgARIggVwJUGDNlRzrkQAJkAAJkAAJkAAJkAAJkAAJkAAJkAAJkAAJ5D0BCqx5/xYgABIgARIgARIgARIgARIgARIgARIgARIgARIggVwJUGDNlRzrkQAJkAAJkAAJkAAJkAAJkAAJkAAJkAAJkAAJ5D0BCqx5/xYgABIgARIgARIgARIgARIgARIgARIgARIgARIggVwJUGDNlRzrkQAJkAAJkAAJkAAJkAAJkAAJkAAJkAAJkAAJ5D0BCqx5/xYgABIgARIgARIgARIgARIgARIgARIgARIgARIggVwJUGDNlRzrkQAJkAAJkAAJkAAJkAAJkAAJkAAJkAAJkAAJ5D0BCqx5/xYgABIgARIgARIgARIgARIgARIgARIgARIgARIggVwJUGDNlRzrkQAJkAAJkAAJkAAJkAAJkAAJkAAJkAAJkAAJ5D0BCqx5/xYgABIgARIgARIgARIgARIgARIgARIgARIgARIggVwJUGDNlRzrkQAJkAAJkAAJkAAJkAAJkAAJkAAJkAAJkAAJ5D0BCqx5/xYgABIgARIgARIgARIgARIgARIgARIgARIgARIggVwJUGDNlRzrkQAJkAAJkAAJkAAJkAAJkAAJkAAJkAAJkAAJ5D0BCqx5/xYgABIgARIgARIgARIgARIgARIgARIgARIgARIggVwJUGDNlRzrkQAJkAAJkAAJkAAJkAAJkAAJkAAJkAAJkAAJ5D0BCqx5/xYgABIgARIgARIgARIgARIgARIgARIgARIgARIggVwJUGDNlRzrkQAJkAAJkAAJkAAJkAAJkAAJkAAJkAAJkAAJ5D0BCqx5/xYgABIgARIgARIgARIgARIgARIgARIgARIgARIggVwJUGDNlRzrkQAJkAAJkAAJkAAJkAAJkAAJkAAJkAAJkAAJ5D0BCqx5/xYgABIgARIgARIgARIgARIgARIgARIgARIgARIggVwJUGDNlRzrkQAJkAAJkAAJkAAJkAAJkAAJkAAJkAAJkAAJ5D0BCqx5/xYgABIgARIgARIgARIgARIgARIgARIgARIgARIggVwJUGDNlRzrkQAJkAAJkAAJkAAJkAAJkAAJkAAJkAAJkAAJ5D0BCqx5/xYgABIgARIgARIgARIgARIgARIgARIgARIgARIggVwJUGDNlRzrkQAJkAAJkAAJkAAJkAAJkAAJkAAJkAAJkAAJ5D0BCqx5/xYgABIgARIgARIgARIgARIgARIgARIgARIgARIggVwJUGDNlRzrkQAJkAAJkAAJkAAJkAAJkAAJkAAJkAAJkAAJ5D0BCqx5/xYgABIgARIgARIgARIgARIgARIgARIgARIgARIggVwJUGDNlRzrkQAJkAAJkAAJkAAJkAAJkAAJkAAJkAAJkAAJ5D0BCqx5/xYgABIgARIgARIgARIgARIgARIgARIgARIgARIggVwJUGDNlRzrkQAJkAAJkAAJkAAJkAAJkAAJkAAJkAAJkAAJ5D0BCqx5/xYgABIgARIgARIgARIgARIgARIgARIgARIgARIggVwJUGDNlRzrkQAJkAAJkAAJkAAJkAAJkAAJkAAJkAAJkAAJ5D0BCqx5/xYgABIgARIgARIgARIgARIgARIgARIgARIgARIggVwJUGDNlRzrkQAJkAAJkAAJkAAJkAAJkAAJkAAJkAAJkAAJ5D0BCqx5/xYgABIgARIgARIgARIgARIgARIgARIgARIgARIggVwJUGDNlRzrkQAJkAAJkAAJkAAJkAAJkAAJkAAJkAAJkAAJ5D0BCqx5/xYgABIgARIgARIgARIgARIgARIgARIgARIgARIggVwJUGDNlRzrkQAJkAAJkAAJkAAJkAAJkAAJkAAJkAAJkAAJ5D0BCqx5/xYgABIgARIgARIgARIgARIgARIgARIgARIgARIggVwJUGDNlRzrkQAJkAAJkAAJkAAJkAAJkAAJkAAJkAAJkAAJ5D0BCqx5/xYgABIgARIgARIgARIgARIgARIgARIgARIgARIggVwJUGDNlRzrkQAJkAAJkAAJkAAJkAAJkAAJkAAJkAAJkAAJ5D0BCqx5/xYgABIgARIgARIgARIgARIgARIgARIgARIgARIggVwJUGDNlRzrkQAJkAAJkAAJkAAJkAAJkAAJkAAJkAAJkAAJ5D0BCqx5/xYgABIgARIgARIgARIgARIgARIgARIgARIgARIggVwJUGDNlRzrkQAJkAAJkAAJkAAJkAAJkAAJkAAJkAAJkAAJ5D0BCqx5/xYgABIgARIgARIgARIgARIgARIgARIgARIgARIggVwJUGDNlRzrkQAJkAAJkAAJkAAJkAAJkAAJkAAJkAAJkAAJ5D0BCqx5/xYgABIgARIgARIgARIgARIgARIgARIgARIgARIggVwJUGDNlRzrkQAJkAAJkAAJkAAJkAAJkAAJkAAJkAAJkAAJ5D0BCqx5/xYgABIgARIgARIgARIgARIgARIgARIgARIgARIggVwJFOdakfVIgARIgARIgATyl8DKVStl7NixMvbLsfLHH39IrVq1ZKeddpLDDz9c6tevnxbMzJm/yFdffSXjx38ry1csl6232loOOugg6dChgxQX86tJWnjMJAESIAESIAESIAESIAES2OwI8Clms7skHBAJkAAJkAAJbL4ESktLpV+/fnLXXXeFBlmg8ZhUqVJFbrrpJrn22mtDeUF0/PgJ0qNHD/nmm3EmsUCrxWI2v127djJ69Ghp2rRpUIExEiABEiABEiABEiABEiABEqgABCiwVoCLxCGSAAmQQGUmsHbtWpk3b54UQG0LhZo1a0qdOnVCKdlHIQbOmTPHrxhTNa9Ro0ZSUlLipzGSOYGJEydK165d5YcffhDxLleBCqQx/Q+nuIbx1xGtr1u3Tp588knp1auXrF692pSFrhqLoZZVWJPVQ10GEiABEiABEiABEiABEiABEtjcCVBg3dyvEMdHAiRAApWcwPjx42W//fYzYqqxZoTmVhqTo485Wp5//vkNmv2CBQukTZs2xrISzS5bvlw+++wz6dix4wa1m4+VlyxZIp27dJEpP/1kp+9ZnnoHI5OuWbPGiKnxfP7v//5PevbsaZIDSRWnrrbI2jVrVXANzuPb4DkJkAAJkAAJkAAJkAAJkAAJbK4EKLBurleG4yIBEiCBPCGwbNkygRXrn3/+GZnxkCFD5KijjpKzzjorkp7NyYoVKwTth8PKlSvDp4xnSODWW2+V6dOmaelAIt1hh3bSufPfZcstt5Rff/1Vfv55hrRt2zbSIoTZnj0vMmlhlwDdunVTn6sd1eJVZOL330vN2rWlevXqkbqV8QQiMq11K+OV5ZxIgARIgARIgARIgATymQAF1ny++pw7CZAACWwGBJKKTSq6rV+/XgYMGCAHHHCAtGrVKqeRFhYWevUCUTBpfzm1nj+V4BJgxIgR5pq4Wbdv315efvll2XHHHV2SzJ8/X2rUqOGfIwKh/Mcff1BZtsC3UL3jzjvkIhVd69ata8pC9MZfvXr1InUry8kvv/wir7/+ulSvUV3OO/e8yjItzoMESIAE8oJA+IexmTNnyvf6oyCO+I4Bv+H77LOPbLHFFmWyWK6raFB30sRJsmzFMmlQv4HsvPPOAh/kdF1UJj4WIAESIIHNngAF1s3+EnGAJEACJJAfBIwE6nRQXSmO6IQJE2TgwIFy//3352T155acq7QXLEbnKvSs31DT1HIV4qkL1apVkwsuuCAiriIv2QPmxx9/bKrFrLNWtVrtIGedeZYvriITlquVzXoVPxC899570r//HTJ58o+yaNEi2X///SmwmncDX0iABEig4hDAD7OjRo2S3r17y+LFi2XV6lXGrQ2+qWAVBlZk/Pe//005oaVLl5q6I0eNNPVWr1ol69VHPNrdbrvW8vTTT9F1UUp6zCABEiCBikOAAmvFuVYcKQmQAAlUfgK++BlIok899ZQcf/zxcthhh+U8/9BeSla5zbml/Kw4a9YsWbhwoT95bED297//3T9PF4FIboJ3bY855hhp2LBhuiqVIg/+aEeOHCn/+58KzPi1QOePzb4YSIAESIAEKg6BVSqGXn11X3nssUcFn+v24zz8KuYHtFQzGjt2rHTt1lVmzpgZFPHuCUhYuHCBcZMUZDJGAiRAAiRQUQlQYK2oV47jJgESIIFKRsBpq3juwBOM2+8IPjzvvfde2XXXXZNaSGaEwTWOwq7hjCqyEAjMnj07Ig4WF5eYZZGZ0Jk8ebIvMKJ8kyZNzKZjmdStNGW89x/dU1SaK8qJVDICn376qZx44oneZov2Hyz+vYaXhpu4zhu59j7l5YOFK+vyYdaoBc3aCY1eecWVctlll6EkQwUjcOedd8qgQQP9Udt3R/jVz0qIwLf8gQceKKtXr9b3TPDDsXkTeaVjasnqVtskNMAEEiABEiCBCkWAAmuFulwcLAmQAAlUPgLxohMeW3bbeRf5dsJ4f7Jvv/228fd58cUX+2k5R/Dgy5AVATwchkNxcZEUFRWFk1LG8fAYfpiE9Wr8NU9ZuYJnBPPEe06lFor7FfyKcviVkQD+XcIFyoIFC8zfxpgjNgFkqHgEPv/8c3niiSciA69SpYrss+8+0nSbpsZdwM8//yzNmjWLlHEn559/vhFXnQCP9Hbt2kubNttLzVq1ZNrUqYIVIfG+y119HkmABEiABCoWAQqsFet6cbQkQAIkkBcEBj44SA466KDIXPv27WvcBMTvUh8pFHcSCFxBRsgba5DIWHoCniYNnhAjgs3D0lczuXGCdpG/8VgGdSt4EV9Q9fzPVvDpcPgkUGkJJLtXpJqsb4nofquzxoypijO9ghLAxosvvvii/P7775FVGHfddbdaI1/q/8iIza6qVq2aMMsPP/xQhg8f7tW1b5K/HXec3HfvAGnTto0pD/cDcMGz1VZbJdSv6AlwiQOBGu6Fjj766PxbuVLRLyDHTwIkkBMBCqw5YWMlEiABEiCB8iLgi1ChBvfaay/517/+JbfeeqtZigkfqsuWLZPzzztP/vfJJ6GS6aPJ2k5fI/NcPHzB4qlABcMt1CoTVi2bU8DDzdy5c421KKxGMx0fmMWLDVVK7NxsnkhhQWHOU62S5EE0l8ZWrFghWH6JDbcwv6xE3yw7RF94SCwuLpbGjRtnVBubdvnMPQGmuKQkZd1k3FMWZgYJkEC5Ekj3bzO+I7dhnxFaM7RK9z8L4hvj+WZLAPf4MWPG2PF5n+HwId67d6/ImJs3bx45dyfY5LBQf2BUBwAmCe5xruvXzxdXkYj7V8uWLV2VSnGEIP3oo4/I5599IT/qBo916tSRgw8+OLgfVopZchIkQAIkkJwABdbkXJhKAiRAAiSwiQnAGMhtRrV27Vq5/PLLZcSIETJu3Dh/ifkn6icP/livuuqqrEcHQ0o8C+OhOJfwxx9/yJAhQ+Ttd96WKT9NkXXr18n6detNa0UqvOFBqePuHeXEE06UU089NZcuNrjON998Iy+88IKM0M2Vli1bKqW6kz1CUVGJLkOsIUcddZScccYZsvvuu6fsC+Lqq6++Kt9//70lpefvvvtupDzERlwHCI8mAKl6Ajj8iMMFY8ByWwieEHnXe2NwDWB8EydOlFJvB+X160vVn+s20qVLF2nQoIErlvSIcbygFkWffvqJrF612rRdoGIvXBY0atTIbIaGJZkbag00Z/YcefmVl+WNN96Q6T9PN7s+l5aCZYERWWGttOeee0r37t0FD9wuDB48WGbMmGFOsRnKu/qAjWDe23qcMH683HX3XWbs1hpYH71LY7Jd69bmupjCfCEBEtikBPBvsdOhh8pUXa6d7oeaunXrmlUU3377rRkffhTBv/87+veXuvXqpXUBUr9+/U06J3a24QTwGT5F3xMI7vtDNn50J06cZL/T6L0RAW4F2rVrZ08q8euXX34pt912uz/DdP+m/EKMkAAJkEBlIaBfDhhIgARIgARI4C8j8NFHH8G8Q7VVrKM2ph4x3djKjOedd96J6cOvn65KVaxevXqxadOmZTTeX375Jajrtf1///d/GdV1hebNmxvr2fNCMw6MJTxOM17sW+G1rdYqJq4CX+yll15yTWz0o1qqxrqf0T2mVlIxtS71x+PGpQ+HapaqjDWvqpY577zzYiqCphzXEUccYedbqPPFnM28g3miXaShL/whjrQrrrwiplY6Jq6WvZrnXbsQI789rz7q7bjjjrHvvvsu5Xh0o6zYvvvua9i7vuLnpo/Apl/1Zxe7++57YirupmwvVYZaScd69+4dK6lSYvsKvSddf+CIvjA3fXCMqdBqmlPBOLb3PnvbuYfmZuqF5m+ZBVyRv9tuu6UaEtNJgAQ2IwL77L135B7QrVu3mP7gtBmNkEMpLwL4nuF/7uvnNOIqwmfc/A477BCpf8EFF6hL8tKM61fUgvpDdGTe6p82tmjRooo6HY6bBEiABLIikPsaP73LMJAACZAACZBA+RHQ7+RxxqXYffeSSy4xXZgsfbRdvHiRXN7r8uy79drWu2TGdbHEr92OO+pyt8f00QqbFOEpK65+6NQtBYRPNVix9ujRQ2AFszHDV199ZXYpfv65501fsZhnLhPq1EwZY9e81WvXmE07unbtKn/8MStUKojqI6A3X7sxE5gpehv0iCjSSrU9/Dmmpes1TS0yEbC5FXiYaq6ynpi20B7qw+xVA+q4NkxC6AU+8HbddVfjy01rJ5TTZpBsX7T95cuXy9VX/1N69uypFrRrQy2lj4Lj1ttsLQ888ICxWDV9xV9rrxvkYW6Yo7u+sMjFuSni5qbjMfM3qTZmmdl5uDk7ZqYYX0iABDZfAmoxb1wEeP+w3b/hzXfAHFmuBHAvMSH0OZ7KHUCyPtbovRZ3AHcPgAW0/upyjlcAAEAASURBVECYrGglS7NzzIeZVrILx+mQAAmUAwG6CCgHiGyCBEiABEhgwwlYjQxfya1AhxbhxxJC2fvvfyA//DDJ5EFQ+/ij/8lTTz1lBEyUKztou0aJK7ukK/HKK68Yn6+LlywxSUYj9Npo2KCh1G9Q3+z8i2XwWDIPf6BObDNPVFrh6aeflrUq8j3+2OMbZZdguE+AUIpl6XiMU9nO0CtRX5/bbNNUl63WUTcBpbJIRelff/F2sQZefcjDBhxwwzB06Ctuyv6xetVqYnwS4nKoZrgOy+MhINqJoQH1p1YSEjvVz5yWqVq1irpKqCKFRYVSVFhkhNP16koB19RcWe27SJfzqxWnaQPXBC4EUC/ZMsJnn3tWLup5sWAjEAT3zqhVs5Y02aqJ1K5T2+QtXLBQZs+e7ReA3zvs/AzfrHfeeaepm+5l6NChcvrp3WVt6IHYkhSpW7eeui6oryzrGpZqXW1828I9AsbjxlRUVCTwLws/rXBbADEb7w2X797ZJfDVG3ovQlytVj1xg5R042UeCZDAX0VA/0W7f9R/1RDY76YlgEvufYDjcz7jYN4n7k4CVz1Z1M24k82voPuR131f4I8Qm9814ohIgAQ2HgEKrBuPLVsmARIgARLImkDik6suH5dL1YpVl5/L6tWrjVAH/6IDBw40Gye0atUqg16CdjOxIPn666/lyiuvFCeumg60ifrqZ++CnhfK3nvtLegXPkMh/v38888y6YcfjOgLP5vmARwr1vX/IS8NkT1230N3Hb6sXB+wIOrqkkMjrhooGKT2p8sS5eKLLxZsFLbtttuqaLhW1FWCjB49Wh4cNEjF1sU+r2HDhsr//vc/Oeigg/w0RC66+CI58qgjTRp4va6+SN8zfljtnOqo2HjfgAHGWtRVxEPUPvtYH3O6HNAIrOtVdAVHHJ2meMYZZ8pe6r/U+GbVRFjLYuOorbfe2jVljmO/GivX9L1G+1hmx6Gv2rsZ67nnniu77LKLisjbCPrSpZwybOgweWbwM2a+7oHuoYceEvhk3W677UwbyV7URYUR8a24ihL2gVhdUcjZaoGMsaJ+s+bNZN3adfLrr7/K5B8nG/+sb454S5br5msu9O7VW/7o+oc5Xa3vi+GvvSafffaZGThabdZsW7nu+n+pD9aVWsY+sYNL06ZNXRM8kgAJVCACmdxPKtB0shoqNoFaqT80Va9Rw/wYmlXljVwYP4RhVUGtWrXMj165dAe/6n7AzUdDNtc7/kdD/PhWHgHzwvzQfu3atbMaUzb94z66dOlSc6+G9W38fFK1BR/lNlhoEJYjLFNVZDoJkAAJVAIC5fNJXwlAcAokQAIkQAKbAQFn5hc3FAh+b775ptlgynvOEWw08vjjj8stt9ySwe60oYZdA3F9uFMIf9dec60R0lwajjvttJMRKA8+5JBwsolvv/32cuSRR8rfjj1WrrvuOoH1q1EDNRdWjFh2fvwJJ8h2GYnBCc0nTejbt69ACA6Eupi6JThN+vW7VnbeeedIHSxrhLsFbMx00UUXqWsAKwKi0KWXXioTJkzwy+Oh6lidRzjAOtcKrJYjdgU+55xzwkX8OITdcPjnP/9pxVQv8fjjjpOTTjopXCQhDkvg6/pdF4xTu4UQibZ69eplhFVXCZtbgf+huklNm7Zt5NZbbzUPhchfoUs8b7jhBnn++edd8cjxt99+k5tvvtlYHzuOKLB9mzZyz913ywl6zeIfqCGGqj9YOeHEE+SLL8boGH/32wzPCxxnqVWtEVi9EhBqL1DBl4EESKByEHA/5pQ1G/Unbj7PIFJh6fjhhx0uLVu2NNUgVD7zzDMCNyXqT1t/iCvUH5y2MZs5ujILFiyQt956Sz8H9aca/cNn8CF6LyprY0A3LnyG48e0xfoDGz7TIHoddthhWW8IiI0GMRdsCLZs2XL90XOVrkCoalZotNbN+vA5fPzxx7tuN9kRKxhGjRplVmZgk0UwhRAJYQ8i5N57723u0XA3kypgTmPGjNFVJ+vMz18zdGVIfHj66WeUX5CKHzDxYx/ue6/rD2oL9IdPsAVjsEawd00xG0DC5Y1b6YLriLHhB07cx9KFH374Ubm/be4nEFcxP6zUqKarfLBS44ADDjDc8aPjhgSsbPn4449l0qRJ5j6KfjDOGtpPjZo1pUWLFqI+2uXoo4/2u/npp5/kk08+MUI25v7BBx/4eYjMmzdfnvzvk1KzRk2Tjh8bsbkjVoccd9zfMvj+FmmOJyRAAiSweRPQD00GEiABEiABEvjLCOiXeUiekT99gEgYjz7sxKpWrxYpp1/mY59//nlCWZeQyyZXH330YaQPjE0fWtJuCuX6w1EFVbMhU/ycBg0alNPGS+G2XVwtZmOYe7gPFYBjal3piiQ96gNn7P7774/U08e/2LPPPpu0vEtU0ThSR0VGl1XmsaSkOFJXHzDLrKMPeZE6mKcK2GXyUwvn2Il/PzFSVy1jY/rwl7TP//73v5Gy6EcFjRjea5kGXO9kQV0IxNQFQ6R9fZBOVpRpJEACFYSA3eQquF9169o1o02u1Lo/Vq1a9ZgKarpyuiD26KOPmhl//fVXMRXoYuoOJ/JZoZaXMV114FPBZpDY4BH1a9aoEdMfgWK6W7ufX1ZEf+iJtW/fPoZNANW1SkwFvdhrr71WVjV/U6Zx34yLqYhnxhB/73H3IaSrpWNs77338e/LuOdszKA/iMYe0HuairsxMHNjiT+q0BrbWjefVJdDMRWbkw5Jf7CN1a9f37QDzjWUc9CO3USxdu06sTqah3z84f6GTSMRMAbUAV/kqZgeqi9mE0qku/oYr/44GMP9LlXAdyFdkRLDfax6jeh7JBibmPeEip+xAQMGxMAk2zBs2LDYrrrZYsMGDcw4w22H47jGDZQR7pMIuL74boNNH93cqlSpGpk36mOuyHd/4NSiefOY/nCQ7VBZngRIgAQ2awKF+qHHQAIkQAIkQAJ/GQFYmbigBhkpA6ww7x9wn833ysHaFBaZsBItr3D77Xd4TQWD0QcIYyWSSR/6ACL33eeNM1Rh8ODBxuoklJRzFH5FMXcX0Oc999xT5lJzWNXAOrVDx462qplizFj9uLaSHeOtOOPPk9UJ0vSrRroLGxT0Y7ffdrsfR6RGzRoCfphnulBF/Zuee865ssUWW2iftiSsiL777ruEanPmzJHnnnsuko4lnP369ZNsNjJJN6Z4TvHnkc55QgIksPkT0M8yqEfuA8bGyx42llqvUtcgOKpJoHFlMnPmTHVzc6hZQbBypfUz7T638FkRvjfCUhJ18bdcl+UvX7osq/se7pHL1J0JNm5aumSZLNW4s6RMN3qMA+54OnboKJ9++qlxyRK+97i6+IhH+hL9vB0z5gtjyaq7yRtLTlemvI9LFi+Rk08+WXr36aMWtdPM/Mx1wWAQvAOicOXzh24+qcK2WUGB1QvxAS6IYB0KTuAMP9sItjnrUXTp0iWyxFwHW2atuo1x5VAX8aVL7HVS7TFy6wPvZXrdbP2lth91d5TqOuC+td9++8nDDz9srJ9XrtD3iJtb3ODxnpgxY6ZxyYPvRMmuUVwVcwoL1RNPPFFO6dZNxuuqoD/VUnrNGmwOqfBcXyGOaBdWuj+rWyQXwA2uftzc1qxZ7bL8I5jCtZN7D4MTXDCpSuKXYYQESIAEKgMBCqyV4SpyDiRAAiRQgQmERaeyvmvjwcH4C3XfyfWLP1wFJBM0gSTy5T30kJAO17vvjvaybSd4wDlOl7VnE+CL9MgjjoxUGTt2bLkJrG/rEs1wOObYY2SPPfYIJ6WMwy/rrrqk0QSzc4fIlClTUpZHRjxHY8uTtkY4UzmWdWFDxfEA997774VSRPr07lPmEkpXAdcLSyY9FURWrFwhv/2e+DA9b948UaswV80cd9l1F1FrpEjaBp1483ZvPSyNZCABEqgMBLx/yzhk88/a+zCAeLr//vsb0cnSiBkfl8VFJeYUn7nhz117nwx2pN+wzxIrFobvvamuCFzwwC1LOGAU1XQjRLgpUItPs8y9pKSK0eQcCgiadoPK98NVyy0Ooa7LSV1k+PDhXpu258LCArOcHT6069WtL2qxazZddB0DPz734S8bbYQD3DcUFxWb64C442M+xrUiekC6/SswR9R3vlXdEZs8ooypYYZlrxvaK/Dr2zLFhbY/tBMOEFdPUvH4+++/DyXH1Ld5ofErC+7wi4ofH4OA61pgXCfdqK5xygq///67HHf8ccaf+Dq97wYhpnMq8jnWr9fA9FlFN6NMFuCqAKFA2dt54wT/23TkIR2bPxo2ygfB8TInfCEBEiCBSkKguJLMg9MgARIgARKooATcQ0x4+MnSXL4u65bdOuxmrCXcg21f3QwJlpnwkxoOrh18zc9E44OPOhfwzIA62KQplweBK6+6Ukb7Yq1tFQ9NnTp1cl3kdPxBN9NarBs7mWAmJtJm+zZmkxFYiYQfyuM7AA9YXOLBzAadoLaBTbAyCY5jqQOfSaUsy+hySVtDO/P2CTM+T2F5VVbA/HQpopRU8R4EtQ34eps9a3akKhjhwdW3EDMTExk0cFCk3AadaB/m2VobcccgskEtszIJkMBfRQCfFeGA8/i0cH583Psw+I/6D4fAhQA/oTvvvJO0b7+jbLnllmbTvunTp5vPMlfdfq4HnynZdepasUd3b0t3r0BJWPhjtUQ4QCiDD+quXbsan97YnBDWjPDBCV/X8MfpAjYgfOSRR8yPoiUlVjh2eRt6xKaR77//vhFBDRXlWldFVfj4xg+i2BwT97off/xRXn31VXnj9deN5aj7LB726jC55NJLjKWtGwt8qZ53/nnGuhhpc+bMlddff81mexXDP8DhfgPrTfgkRYBf8llqJYvvC7BefemlFz0R11633dT/K34AdCtuwB8+dFu0aGHquxf4kMX8poAl3lte302bbiOdO3eRo446Stq2bWvaxn3spZdeEvjGhZWze4fc3r+/XHDhhbqxYjPXbOQIa9ur1af5B+9H/aWiUIcOHYx/XhzhsxbvT/wIO1438Hzn7bdlzJdj1VLX3o/BoOPuu8s//vEP9aVaVYXUArNiBL7HHWtc+9NPP9346nWDwL0XK03QNgMJkAAJVCYCFFgr09XkXEiABEigAhJwDwR4ksDiS3wpT/fg10o3iup/++1y+eWeVY15AIkZy8NPsdFCkgc5a6/jvu6nhvTNN994mToSqKsamuvDDx4isg1tdKMkG1zdmNkYZMMF1h/9BzT3BINNKXr37m3S7bCjc3VkMZIiffizm2MFo8NDIjZRKWvDFJ9j1jzQc3RMtvfE13HjxtlELe5qPPnkkzJ06FAjeAeptlh4biiPBzY85CK4XrHBCyyq3MMcHnC/+PxzU8a8eB1BOCi3YBi5a19urbIhEiCBv5KAd1/wh4Dz+DQ/M4jEf2R+P3Gi+YCqqpafN9xwo/Tp09v/fEItCIOpxDHbqvt0DPrINIbhlvXJNHnyZLlDRTosIXcfpNjMCsLf1VdfHVlR0KJFCyNUdu7c2Wya+Oknn0qp/ocP8Pfee99sipXtKpB0c3nsscfNpmCmjMd+xx3bq3uX64yQF67brl07FSU7m/J9r+4rc+bO8bOvuuoqwcoSZ3WJjaLw5wKEY19g9RIfe+wxl51wxAaL4fDhhx9ErGRP0KX4N990U7hI0jjc/eCejnsbAr4Vdep0mFx//XURQRh5EEEhXt52223qJuhedQGxzF0u850A4nJ8gLj51NNPyQu64VY4FKmF6fk9LzCbfMa/97BBIza2wqaYL7/8sm5k9aFf9eCDD1ZXFwf759iMzW50pm8ADdh4Cz+MO85+QUZIgARIoBISoMBaCS8qp0QCJEACFYqA/Q6uQw5JrfFPo6EJQew8/fTuMnLkKHlbrSnwEIfwpVpV3HHnXfKvf11vE8KvzhRS04JewgVsHJYjNthG69fTJYa6e24uYcstG0fawgmEvg0NCxcuCCwv8Silc4NgGhZNM+kDj26YJZ5PITj+/scfZQqsxqQUjXvMEc0s+NJsmVXn69J9G+zc8JAZLAPNrDdXyuke8PUGX6xOYIV4Plt9sIaDbtyVk5AebiMcjyKytPHKQAIkUJEJuH/F9t+0fmjoZ7BLSzevaBnzw5B+DsG/KSwN48MOO+wQn+SporbfaGuJRctOiX5ChctDgIMwN0lXSyC42yeEPIh/qcLOO+8sECA7qo9vI8xqwcWLFxnLVgiXWLa/oQG+O+/of7ttRiHgM75hg4Zy//0P+JakyfqAhSUsPM8//3zLUd3j4Me8F154Qc4444xkVYyP1PgM3Dsy/cEVVqymMw/gGv0hs6ygG1X6jM13FW1CN8+Sp1UQhXufZAGWuvAd/ttvv8sTT/xH77H2PYLvR7AsPvDAAyPVYFl8479CLgRscXlSRdDTTj9NLVGTuwJAI3C50KNHj5TMUMb5pEUcAe8nuGMIVs7YdL6SAAmQQGUkYJ2gVMaZcU4kQAIkQAIVgoD/sBJ6YsQX8nQBPjZhsdmksRMx8aBVqlYST6rQ+mVC1VDT+ugRPosWnT3bLiV3JbbZdhupViM3gbVI/YzBciMcYCW6oQFtBBtY2Ecp26Y3ajd4v6NQgkbtmVrohpLx0LhOHz7LCqaKPvAVlimTxrWkFV1/oW7jCtnTOXPneuneYyKeoN01S6gcStCoOcNLKBmNlaqA7JZl4hzzDcR0pIhgeWh5BjsEjB3BHt2ZTeMrCZBAxSWQ3b9mfOYEwa7V6LDbbknF1aBcOKZ3LtOEbSfcWrhUyrhWCH5c1E+nJJ+Tri5EPlgpuoC+WrRoYcRgl5bqCGHYiJgoYD8EzT0ZPq/LIzzxxBPBj2MehMsuv0wOP/zwMps/4YQTZO+99/Y+jm3lYcOGlVlvwwrofcwbZybt9Fer4eh7RcwmV6nEVdcmluGfeeYZntWz7RCCcry/dpTHpln40dEPWvzUU0+Tf5yNZf6pxVW/vEbSuXzwv9P5FbIA4NdhhARIgAQqJgEKrBXzunHUJEACJFBpCPgPE6Hv4Ilf0BOnCz9kJ6sfOFPWe5CbMWOG/Pvf/zbLwVHDtR1+tnVpiS1aS4tweul6u8wxnJZNPN5ipXqO1rDhPsPzxbSDuXkAQxxtvVCCRu2ZHzFFID6mW77nrofrK5aRxVZo1Nqde8i0/Yfy4qKwxkHIeW7oIK4T7HAcnh/eA8uX2x2iTWf6ku6B0ZXJ/WjfoI5j7u2wJgmQwF9OwLvf5D4O+wF1S9yS8vTtOXk0x861WvDjIvrHWfK28EMjNo8Mh2v69o34hA3nxcd9i1Dvcxi+ZuOtGuPrZHoOq0y4tHEBvlZPOumkjKxKYUGL7w022LnDFUOqsKGf1+42GdyOgliqPsPCNspgbpluYAkLYvhmdWF96XqZPnWaO/WPjz8edXNQXFyiG4UO8PM3NJLwHcuB2NCGWZ8ESIAEKgABugioABeJQyQBEiCB/CCAB56yH0DCLG688Ub18faeTNaHJFcTDyjw/3XqqaeaHXtRHg+S/uNpmi/7jRo1Ms27tn777becHwxhZTrPdzlg59ZoS9t+eA7ZxrF7cFGBipDaJARP7OY8QB+OsAQy/OCZ2G6ULx4e3YNQdOOrxJo+O49jNptcOdxu2WJZv+w6P7CuPB6KcY1btWzlX8PEEaaeG+YJ34E1agS7LSOtXj1voy+vKjYPK+8Q/4DueJd3P2yPBEhg0xHwVnxn2SE+aDTgA1E/uBs33tJsxmQTs3+N/2zJpgX3mZysDu5bwSqQ4HP1ePUfiryyVpfghywsaQ8H3JewAeOGhrnq1uV3XQZvgjc0+AqFv3P8SFjW5yuYxfsWnTYtUYB04/TbM30FLFx+WUd33wzKoY3UAfcgbD6Fe7td8hHTDcX2M8vyYY2aLmBuWIJft27ghgEbPP7ya3QDS4jnv/76m9eUndNNN91oNldL134ued5bPduvdbl0xTokQAIksNkQoMC62VwKDoQESIAE8p2AkzXxDJr+QcSRwi602Fiie/fusmbtGvNFHg9ad911l9msotBrJ/yg4z80uUZCR+zgbIN98MDDTia714ea8KNYZhkftt5q6/ikrM/xEFWo7gecorxq9SpZs2aNeQiDf7SNErxL4zg6a9RM+oIIbIKnSrjTVHXh/sEGWxL+4uA7tX6D+qmqZJ2O9xfeOyZ4A8IuyRsv2E7Svfc2Xt9smQRIoDwJmH/N9haRRbPeB433gbhj+x2NIJjpvS7oaMM/S2Kev5Zkn0e4fwabPXpj1s5f0g2RsFGgG6+dhq4M0M/SoJQdpb/MHPdfkxkTrC7BJoLhlQTBnDKLTZs+XRapL20TvE5hHYsl7yt0My5zSczAgosTjDcm+CFxIjYXCzUA4XKuuqUJ7v1eth5cXTeHICfHWDyouGa++uorKxJ7zJD99Vdj5f4HHjBubmz16NzcNcRYq+kPiT9PjwrG8H0a3uARP1YGwbYIH61u5UiQt+Ex/96/4U2xBRIgARKoMAQosFaYS8WBkgAJkEDlJOA/xISm5x4aQkkpoyeffLJg19pnnnlGH7D0YU+FPCxvfPDBBwW7BGcTdt11V1M8sHcVmTBhglmil2yc6doeM2ZMKNs+yLj2QxlZR1u1aiXFxXr7Dp6z5DcVc8Es2zFm3Dn68gKi2fejtTJ82sKSz/gwc+ZMad++fQ79xrdkz/GQv33r7UOZ1pr3+++/l5122imUnnsUYrT/Pvau1YaIC7mPhDVJgATKnYD9SM+42fjizVu0yLguCvqfud5nSVaVEwrb0UD/jA/4zJr/p9vsEbm2wyuvvDK+aNpzUyv0mf/LL78Y69cN+QzED55r1gTuATAA3J/79OmTdizxmWBpP5v1G4MOdLoKt8kEVv/zO76BTM+d43FXPglvl4Uj/IKHkJlr/uJLLwn+sgoGvnkx4iqsVlu0aGGacD/82lz1p66is1s1klUfLEwCJEACJJCUQFkr9ZJWYiIJkAAJkAAJbE4E7r//fvMAYSwsvSfZe++9Vz777LOEYfoPqgk5IgcffLBJDT8M33HnHTlZscKKNhxatmypy0KDTbnCednEsUMzlryHzYY++PBDXfaXaDGbTbtpy4aBpC2YKjPzBg45+JCERrCxSbrrllChjAQI1AcdfFColB1f36uvDqVtWBRiP/4zwZt+ehcOG9Yfa5MACWwqAt6/6yy6i3/gcoJXpk34n6B+JNOaieXs6LWheAFQi8IFwMI/F4YqpegQjXgYktEwtUIZ8MG6oYKlEVg9/6uhpu1YU41F04OyNhaMw84t5SqVsNoZIpJ5FO0HvUdu2kka+dO4FLLOcZDtj9NrItySqa4JQVoQC1vcwq0DLFhdmKNuFhDcVW3ZooWUh294137kGBpSJJ0nJEACJFCJCcTf7yvxVDk1EiABEiCBzZGA/xCxAYODX9Inn3wy0gIeLK644go/LZPv+hDejjnmGL8Onl6mTZ0mD+gSvWwCxjJp0iRTxfV7yimnWGE0m4ZSlN1rr70iOVjS+aIu4cTyzo0R3Bxyb1tbyLCROnXrGGtV9OWqDB8+XEaOHJl790lqNm/eXPAXDu+//768+uqr4aQNihfAlUMoYDkrAwmQQMUlgPsVVji4Dyf/R5QypuQELfeZBt/SWQXTr6ut3RcgHpxn0xbGglmU6n/JwrrSDO4jthFT3c0toa1QRlk+RBPqJkmA+OuaxDEyey/D5fvVNSFIC2Iu31xPw9KlhI6h9EhfoSJpo+YSgbSr7Y7Ja+E7CwJGGSnpDTth9JoQpAUx04j3Eu/7Fi53wgG+yc2KmHDiBsb9kXiRyFw2sG1WJwESIIHNnQBdBGzuV4jjIwESIIE8IYAv4dZ2w/96ntXM999/f7n00kuNawBXMbyBRaatwqfrqFGjbBNeJWymdfjhh8s+++zjmk55hIXIDTfc4Oejidq1aku3bt3E903n5+YWwXLNN998M1IZY+zSpYtsv3146XukSOQEVi1Xq8XmSSedrJa7YWvOSDFzEmaHeEwfdLMLWivcSBmV//nPf0qPHj0iVc4991xjpZvpwyCWW/bVna8hsidzO9C0aVPju7d///7+aFarL9t+/foJBGzkZxIgHJSUlCQUxbVu7Pv0tdlYqslAAiRQcQmY5eUYvvd55vxSZzqjLD4GE5oM9wUxLqa7xGcaIE6GN6jC/TYQ/oJWML96oY2SkIN7yujRo5Nuomh4JLH0dOk4Yqz4PE32ORn0XHasVq1akTaKikvkggvOl2uvvdbfjNL9YOv6T9Yq8hDAo6CwQFpv1zpZsciqiZy+m+Bi61/4uiXtyEuspz8UO2kVVSF+PvTQQwIfqeZ6e5wznpvOE6tdwj8k1qlTx/SGa49xzZo1S1aq/9ryDPGCqnrqLc/m2RYJkAAJbNYEKLBu1peHgyMBEiCB/CEQfvB0D0DZzB4PEr179zbiqBFW9Vu+3VcJX/etFUkmDzo777yznHDCCfLGG2/43eNBDBt09L+jv1x15VVmo47wphDIx4MdHkLPPruHbpphl+G5Bs7ucbbssMMO7nSDj3BlsJv6i/12/HjTFh6WsPy8Xft28uR/npTTu59uNq0I+7vD+GDhig2x4LMWrCD4wbdpWQJr+IHJPJR7D6i5TCR8nVPVP+mkk+Saa66VOXMCQRJj3WabbeT555+XTp06mYff8PsE1wAPoXhYhP9diNzI79q1a1KBFQ/7J+rO2Ni8ZfrPP/scJ0+ebHzuPv7443L00Ucb6554jhBVsVkKBH0I1V9//XXCVPD+wHi9hs2D9noVRB64/wHp3ae3Xx7XBH/YyIuBBEigchOwdyOdY/hDNYMp+59BXgNLlizOynXNggULZLHbICpNf+jHt671+pqj97MWLVqkqbVpsrCJoxNpMbR169aaz85MfwzLdpS+WOuJkdnWz/YaYyUO7lkediMa41pst912WXedqkLjJtZNkfsuhB8i4b5h44Zsf5DduKNh6yRAAiSwMQlQYN2YdNk2CZAACZBAxgScRQUquAebjCt7BfEgcs0118hFPS+SdevXqayKgFdrreGfmkjyF1gewqcrNjzC5hfh0O/afvL22+9INxXtIEzigQgCG3ag/+ijj+SFF14I/J15T0n77befsaIsbz9nQ15+WTp06GAejrCxV4H601u/br1AzH3ppRel6yndpFXLVuZhGaIqNorCnD744AP59NNP/WmFRUo/MS4SiKKWI6x+sgpaHOPDQ10mNWGp9NBDDwo2MENw7w3s9nzEEUfIWf84S4468ijz0A8rHzwgTpk6RSZ+P1GGDRvmXzeIlunmB0vVK3UjNFgE4zqah04dIKyQIb6eeeaZctBBBxlxHGOCrz5wfGvEW/LiCy+asR1wwAHmmOwFG6fg/QT+mDdE4H/deIOUxkoF9SDCvvvuu4INYLATNgMJkEAFIYB/0MEHY8aD9qv4kcyq4sca81nm1Vu5cpUsXbYss8paat68eYId5V1I1T0EVt/iUQthmksWLxH4P3XWj66NTX1svGVjY9WJft34N4XbFSdGbvB8k1j6htts2bIlbpR2bt7767fffgsX2eA4vhMguHsq4vhBGt8l0t0rUS7T4E/Tm0N5tZtp/yxHAiRAAn8lAQqsfyV99k0CJEACJBAi4B6ZQkk5ROHrdOSIkTL8teH26dA8JIYekfClv4zQqlUrefSRR+V8XX4IQQ3BPZD87+OPBX8I1apVV2EuurxODVBUINZM/evYcXfBZlstWrRA8XINbdq0kccefVQuu+wyWaSWSaEZytvvvGP+0CFERoiHqUJGflt1TghOpo6VZnmttHh4fLa11K94IPvb3/5mlutjszBYpobD4GcGC/4QnMAazteBGv6Y93oV2tOFiy66yFjy3qGuAtahHzM128Czzz4r+EOAQJ64lFL9GK5PbZ2z2267qXXwISqijrbNatvLVOSI35G7Xbt26YbIPBIggc2NgP8R6H04buTx4Z5k7iveZxu6m6M/OGUS8Pk5derUUFG9m2H8uFnFBbhg2Xvvvf1UN83Bgwcbi30/4y+ItN2hbcKO99OnTzM/HO60005/wYjK6FLh2ctlXx3LVLXwY2xhQaGs1//sDUPkvffek3/84x9Su3btVNWySscPlAjh+/HAgQPl+OOPL7dVFP7bypswVnzk+qN5VpNjYRIgARLYDAgUbgZj4BBIgARIgARIwD1PbDAJPIj0u66fNGrUyDykhJ5Hs2r7iCOPkCFDhqhAdrCpF34gcQ05cdU+ptpXZ71x6qmnqkXr88a1gCtf3scz1MLy8f/8R5rFbdYU7ieduIoNvQ455JBw8eRx70GprAfEZJXNg5VFY7IzbQPC8PXXXy+33367VFf3D6lC0uWN2gmEgnPPPU8tczqmqmrSIebedNNN8pi6BGjSpIlXNnGUUXHVTSgmRcVFKdtv3Lix8REYWC+7etEqmfqVjdbiGQmQwCYn4H3AB/+SEz8rMhlTtoITlsbXrl3Lv6ehj1EjRkj8pkXJ+sYKC2yCGAQdMybgblZBhrFibN26tb+zvJsnfuhyO9CHim/SKKxrsXIERzeuH374UZ577jkpj020ynsyuLfYd4d9LfSVx+Q9wQVC+3btI5mvv/66EVkjiRtwssUWWwjcIIUDVrS4HxLD6bnGcX3CYf6f88OnjJMACZBApSYQ/QSs1FPl5EiABEiABDZHAsnEpQ1dUrbHHnsYy07MN/7xN5sHW1jyYMk5lv7vnMZCJvwQddhhhwl2o3/kkUekbdu2Gx05ltF/9OGHgo2h8ICWSTjxxBPkI7XCxYNpsg2g4tuItyBds2ZtfJGU58ZCNnQRstkgC8Jknz59ZMyXX8ppp52Wso9wBpbdX3LJJTJu3Di57/77ZKuttgpnJ43jgfCcc86RTz75RK677voMrIViAgvif//733HCRWLznTt3lpEjR0qrVi01MwQiVDTT6xaqwigJkMBfQKDAE4+S/0tOPSB3T3PCoDtPXSMxp0XzFiZRva2Y8Kb60v7pp5/sSZpXbJRklpq7zrVsuvHDp+lxxx1nWnR9YSk+3O9kEyDswjpy4cKF2VRLW7bH2Wcb8Rfjx6oSBNxrv/nmGxPP9AU+tuHWJ9Pg+sq0PMrhuwZG6Oom+5E2vr0rr7rSJLk6OOnVq1faVSjxbeD8lltvke+++y5Zltxyyy0J6VhVAf/j5RG23nrrSDNrVq8xLiYiiTwhARIggUpKoEA//NPdYyvptDktEiABEiCBzYUA/FLGW1li2feGBgh78H0ZH2AZGW9hEV8m/hxjhIUM/NhhIys8iPz+x+8Cv5zwewoRD1Yhh6g1KDalgGicywN0fL/ZnGO+EELHjBljHhxnz56l451vxEL4poVVEv5atmxpfOklE7ZT9Ye5hy2EwA8cMwmw/Ax/1cBmZOENwjJpA2XQP94nH3zwoXw19kuZpZteLVq4SBo1bmR2gXbz23bbbY3bgGzmFx4DGGLDMDywQ3D9/fff1IXAHPNQD45YqgtRGsv6MZdM30vw3wrRd8KECTJp0iSzOQveN/DFCj+v8NXKQAIksHkTwGaHX3zxhT9IbKIHsc7fGMrPiUawhB0b4xnFTZ+88OMM3Ltkc5+AFSlEToh2VrqLyfbbt1YXJO8FflOj3crll18ugwYNiqSiflX9/H7mmWekW7dukTx3MvjZwbph49li3cHYHkv0vtZNfXsPHDgoYam+q4cjPkOvvfZaGTBggNkwENaz+Nwsr7DXXnvK2LFf+SzRLlauQGjt3r172m5wDS6+5GJ18/M/ue222/QHtetSlofPct/a0yIwfrQzvWa4J01TFwYm6DW/Vq9d/zvuSNmfy2jYsKFgUzIbbMfwwfvSiy/JAQem9vmN8m++9abZwHL6tOnmh+FkP0ziXnTggQcGorQ3t1pqIX3P3fdIz549vb4TD7if33zzzcbiNZX/W2ycZVYQharjfXtHBnMPVWGUBEiABCokAfpgrZCXjYMmARIggcpDAAJVeQiq8UQgsOUqssW3hTFCTINlDywdN8fg5guxDn/lGbA81e3enG27wfL4bGtGy7sxwPoWfxsrQPzF+3H//fc3f+XVD6xU8VCLPwYSIIGKSwDWhb41IsSpDEJQzFOzMqgTX+Qq3ZAPIquxCPWamTJlqoqs28vTTz9tPvch9OKHKPyI0+eKK2Tc11+bZpwoiB+7YJWKObi0+H5wflKX/2fvTQDtKKr8//OW5GUPCYEsJIEsrCFsI4jyI0AmAaKIsqgMAiPK4jg4zE9nlFHxrwKKqKCAoriACMg2EhTFBf2BiIKIrGETgiQQDSEkIXte8t7/nFN1qqv73vfefct973bfbyfvdi2nTtX5VPet7nOrq0+gn9zxE32CQz26nNbKP+LdcMON9Kc/PUT/9V//zT8OvZXHxCmqR16CJQ7Jhx56iC699NIwazX+ca1cPT1Ju/76G2jvffahVv4hzDZ5gdcpp5xCt952K53z7+foiwlHjx6t2UuXLtUft+QFj9dcc40VUWdpiJQJhLbLo/09mI+k5aNpTFGwTG1JkjikjzrqKJ/gSokz89A5h5KsGS52ivNWxlZxZsv6uvLj3W233kq/5jVbbQvttwS/l7HoW7x++9wjjqD1/IJIm868bu061S9PXJx11lkka4jLi83kB+Zly5bpUgVf+cqXaenSl/V6KKM2RMXZLddL8kOlobv44ov1paDSfjnuHnvsMbqTZ2CLg1t+qMYGAiAAAkUhAAdrUXoSdoAACIAACIAACIAACIAACFSVQLu8Icq8ZbbvqkZbf7MHjjpTLT/+fIFfxidOqtjhJ7P7beamON3S60UTNTY10qy9Zukaqq/Ki7Gk+eKg7WQTJ9z555+vb5h/9NFHg6SYIY/+n332WZomakZtN5rWrF4TZCQg6YJGnqzoyNEncj3ZZHmWb155pc7ONVu1Pv64Y+Ed+id6xXEnszU7ql8chxVtvegza1c4XiqocN68efSJT3yCLrnkEm17rENm6cqfbGPHjo1munrFKuzCndl34IEH0td4FvW55/4nbdiw3hd2/fbTn/6U5E82cVKL87ozXaGwD8iPvWfx8XEFz3SO0YlN8mebHKvyowEcrEYEexAAgSIQaCyCEbABBEAABEAABEAABEAABEAABKpJIDsrsdK6uuOg6kznaaedputRDx6ULClivlspZw5Hm3UqaSf/y8l+pmD8JvowB1dEym777rsvff/736fDeekb22KHmaSJEzXrXLV0cZzJEig2k1TS+2o744wzSNaWtfU+1c+tH0kN69at69C5On3aNNqHZ8FWe1NHtm9XpnkdVi1PzMhj+J/65Kf0aYpytknhZBmBSJWv5J/e9E+6TniUkwrKLFJheNVV36QZM5LlG7JtXLNmTXCuyqxn27LHgaXLXn4IOPc/ziV5yaNsoVQIaDIvU9HS6SxqJ4VPEAABEMgXAThY89VfaC0IgAAIgAAIgAAIgAAIgMAAEMiu672ZH8fv7FF7a6I8Lh1vHc2qjGXKhWX5EnF6Xn7F5TRxgnuBX1lnF3vKZN3Oz33us+qI3GWXXVIOuU0bud3lKsik7b///nTdddfR1y67TB+7z2SXjcrsV1nH88c/vp0uuOACkjfXV2M7/fTTeQmD2+jMM8/kFzxW9pj5nnvtpTNDF95xB73rXe/qtFmV9GtnCnRmaOSx3MozjSvd5BH788//NN1yyy30jndUviSOOMO/+93v0s033UwHHXRQl9WJw/5WXlpAZpLuuOOOncqLS17aJesO/+AH13YqK8fbDTfcQG8++OBk8m7EQgrLRHBsIAACIFA0AnjJVaZH5ddOebviHTzw2npz8ovdVl7jZrfddqWvfOUrutZRpliX0aOPPtq9wVMuZ6IRZWvrVl1kvK/WqOuyIRAAARAAARAAARAAARAAARDoNgFZ71IemZZNnKTyQiJ5sZ7MOuxse+6550juMcRpJ7NZxQElZXu6iY6//e1vtHjxYl37dBGvf/r8Cy/o49ZTp06lt771rfTmN7+ZJCwv0JNH5V966SVdF1PqlPZOm+ZeeFhpG5YsWaL13Xvvvbp0wPLly3W9V3HkTps2nW3aWV+2JTykXnG09scmXP/+97/Tw7ze7O/v/z29uvxVfcFjS8tgbY/YOWXKVG7jLtpX0t6u+kvaLU5xWVc2lhWHc6Xb008/HV7gKc7JSRMn0YQJEyotHuRWrlzJL1r8B91///26xu0KfnnlqtWraDSvjyq2Td15Ku2y8y6OPXMf34WjNCiOArJur6xVK8f3PffeQ0uXLCVZTkKOM1lnV/pWXlQms35l39VL3Uy1rN36pz/9STk+/fQztGYNv5hyhx3UWS9LIcg6rz156aXpxx4EQAAEao0AHKyZHpFHIf6Nf3X90U03ZXJI3xgsvyTKm0C7u5V7i6fpkF/4Tj75ZItiDwIgAAIgAAIgAAIgAAIgAAJdEpAXHYkjTP5kE4egOK1ix2CXSrohIOuqSl02C1ecxlKX/XVDVZ+KSpuEhbTL2mZtsjb2aYX9rKwz+8TO3s64FXOEmx1PxtDYGcvumi164rabHjhWu0sS8iAAAnkg0PnPrXmwoBpt5AsFt9m+95XY4vOmKdZ8KzttsYEACIAACIAACIAACIAACIBAdwiIo0qeupPHt+VPwuLEqtYmLzGSWbFWn4QlrZp1VmKL1C+2x22TeDWdzZW0q69kOrOvL5yr0k7R09f9KzqlD6xfrE/6igv0gAAIgEAtEaje6FtLVva4LenFYRrk8f4ebmEJAK/CaXaRF/kRH2wgAAIgAAIgAAIgAAIgAAIgAAIgAAIgAAIgAAL5IwAHa2d9lvWnZuOdlc3kyQLiuqV9tpr02muvZaQRBQEQAAEQAAEQAAEQAAEQAAEQAAEQAAEQAAEQyAOB5jw0sj/bOHr0aH2EQevMOEPl0YyRI0d2qzkrVqygm2++mb7+9a+7cuakVd2ugvXrN3RLJ4RBAARAAARAAARAAARAAARAAARAAARAAARAAARqg0DdveRKFtmeM2eOvmWT19zmtWZcR9jaNa2trbRo0SJ9W6PkiYxtw0cMp3332ZdG8VsbXXqUaUK6jIBbIHz16tX0Br9pdCm/dXPjxo1BIhuQNzGuWrUqm4w4CIAACIAACIAACIAACIAACIAACIAACIAACIBAjROouxmsMgt12bJl9OKLL7q3LaqX1TlS1dcqTlXttAb/BkpOkAyW28AzTf/whz9ynCXaNZEzbJ/t6Uw6e2vZm61CVtQkpk6dmi2MOAiAAAiAAAiAAAiAAAiAAAiAAAiAAAiAAAiAQA4I1OUarMcee6x2jfg7xeXp/Z7OsSreT/WDOmcou1mDQLsKSlzcqi5fIuIo1S0EJObTLc0Vc6WsqC85a6+9XHl8ggAIgAAIgAAIgAAIgAAIgAAIgAAIgAAIgAAI5IpAXTtYgxNUusw7QtuD49T1o/hCzUeqKX5NAecjlRx2tXoBmdjqNk7g/xr1Cswh60VVzOqaNXtvK4g9CIAACIAACIAACIAACIAACIAACIAACIAACIBAjgjUpYN19uzZtN2Y7bSbgk9UA4n704X4k/+bA1UK2GP+ro+lEP95JX6XSlM5EfGqExmnQZYsWHD0AhfBJwiAAAiAAAiAAAiAAAiAAAiAAAiAAAiAAAiAQK4I1KWDdciQIXTk/COTjlLnp3yw+zNyhDboWquS7BOdhJZLUiQaxTQYxVWaP9SzGqe78Mc+9jE64IADTAp7EAABEAABEAABEAABEAABEAABEAABEAABEACBHBGoSwfr8OHDad68eUk3qfPTzS11j/mL85Mf6jfHavLsfyiT9pe6spoZ6QrCZQPttOtuu9L//M//lM1FIgiAAAiAAAiAAAiAAAiAAAiAAAiAAAiAAAiAQO0TqEsHqzyWP2vWLBrBjtb05lZKlU8XEm8pO1sj/2lKXtM5Xyej6kfpZFaX6T8TRccddxz9+le/pjFjxqRUIgICIAACIAACIAACIAACIAACIAACIAACIAACIJAfAs35aWrftnTy5Mn0T296E9177700aNCgoFxcoG3btlFbW5tPS5yi4j1tbm6iBn7Rlbzrqp2zxK0aS7hCnGrLC3CCyItTt7GxiaZPn0YXXnghvfOd7/T6sQMBEAABEAABEAABEAABEAABEAABEAABEAABEMgrAX5nk7gJ629rbW2l3//+9/T0009Tc1OTOknFEbphwwa68cYb6aGHHipxno4aNYr+7UMfopm77hocsOXwiR5LF+etOHNnzpzJztXp9QcaFoMACIAACIAACIAACIAACIAACIAACIAACIBAgQnUrYO1oz7dsmULnXHGGfTDH/7QiySzUffee29auHAhzZgxo6PiSAcBEAABEAABEAABEAABEAABEAABEAABEAABEKgjAnW5Bmtn/btx40baunVrJMITfP0c3228bIDkYwMBEAABEAABEAABEAABEAABEAABEAABEAABEAABIQAHa5njYBuvwVpua+XZrcnarOUkkAYCIAACIAACIAACIAACIAACIAACIAACIAACIFBPBOr2JVcddXITr8e655570kEHHeRefsWzVxsaG3RW67777kvjxo3rqCjSQQAEQAAEQAAEQAAEQAAEQAAEQAAEQAAEQAAE6owA1mCtQofLC7Rkputrr62kF19cTGPHjqWpU6fS4MGDqbm5mRobMXG4CtihEgRAAARAAARAAARAAARAAARAAARAAARAAAT6nQBmsJZBLksEyMuuym0tLS0dOkjFsfrII4/Qpz/1KfrTQw/RmjVrUirkJVnnnnsuvetd78JM2BQZREAABEAABEAABEAABEAABEAABEAABEAABEAgnwQwg7VMv91333102223UUNDg/61t7u3XInT9fjjj6cjjjiCZCmBeNuwYQNddtnX6DOfOT+zTmsDi/m3ZPkCc+bMoSuuuIL22WefWAXCIAACIAACIAACIAACIAACIAACIAACIAACIAACOSOAGaxlOuwnP/kJXX755WVyiGbOnElz584tyRP5T3/6U5ruXKrmWG1nJy27WCMf6+9+9zs69dRT6Y477qBddtmlRBcSQAAEQAAEQAAEQAAEQAAEQAAEQAAEQAAEQAAE8kEAi4Fm+mnlypX0wgsvZFJdVJyhhx12WMkSAffcc4/OSLVCzpeaeFRj56qTaaDHH3+cPvZfH8vMdjUN2IMACIAACIAACIAACIAACIAACIAACIAACIAACOSBABysmV5asWIFPfPMM5lUF5WlAbKP9a9bt46u/+EPadmyZSwks1btk/cumkpzIs75+uP//TEtXrxY8/EBAiAAAiAAAiAAAiAAAiAAAiAAAiAAAiAAAiCQPwJwsGb6TF5M9corrySp3kk6bNgwOuSQQ2jQoEFJHoeef/55+unP7vRpvByAd7JKQnrmqleUTGzVMrIWKzYQAAEQAAEQAAEQAAEQAAEQAAEQAAEQAAEQAIF8EoCDNdNvWzZvpnVr12qqukTbnWN0xIgRNH78+JT01q1b6Td3/4ZeXf5qmK7azi+08kWSqaxayntWvZ/VMr9z9dW0bdu2lF5EQAAEQAAEQAAEQAAEQAAEQAAEQAAEQAAEQAAE8kEADtZMP21iB2ubn3rqXKLuUxysEyZMSElv2LCBrrn2Gk1riKarNmgR9qS6opofguJ9VScrp/B+46ZNdPPNN6f0IgICIAACIAACIAACIAACIAACIAACIAACIAACIJAPAnCwZvppbTx7VTyg6gwlGjp0KG2//fYpaVkeYNGiRZomDlRdc5U/nDPVfR5++OF00UUX0V577eXLcrrLCvuHHnoopRcREAABEAABEAABEAABEAABEAABEAABEAABEACBfBBozkcz+6+VTU1NWllwknpnaFtbG8mSAPH23e9+V6PigxUxN4nVvKdEb3rTm+jKK6+kWbNm0XHHHUd7z96b2ra1RSpcyZdffjlKQxAEQAAEQAAEQAAEQAAEQAAEQAAEQAAEQAAEQCAvBDCDNdNTo0aNSlL87FVJWPHaa/TMs8+GPFke4Nvf/rbGxaUaiWp4yJAhdOqpp6pzVYT23HNPOvroo1U++7FkyZJsEuIgAAIgAAIgAAIgAAIgAAIgAAIgAAIgAAIgAAI5IIAZrJlOGjZsGI0aNZreeGMNT0llt6lOMm2n11asoDt/+lM6cv58amlpoRNOPIFkVqssCyAzV23eagMXkBddTZ06lY488siU9rlHzKWf/+znmqZqfamXX34lJYcICOSVgJwT7XxCyB4bCIAACIAACIAACIAACIAACIAACPSWQIOux0jU2Niof73Vh/IgUA0CcLBmqA4bNpzXWh3rHKziADXPKcvJkgB/+9vfaAU7Wx955BFXUvOdu1QSxLkq2+6770577LGHhu0jrOHqnbKWvmHDegtiDwK5JfDiiy/SNddcQz+/6+f08J8fzq0daDgIgAAIgAAIgAAIgAAIgAAIgEDtEBg5ciQNHjyYTj75ZPrYxz5GU6ZMgaO1droHLfEE4GDNHAojR46g8ePHkziLbHaqicisvF/96lcW1b1zp0ZeWE4dMnQIHX/88Sk5iaxcudKlpcXxxVBCCgl5I/DSSy/RMcccQ0899ZQ2PfnJoXJLUudbpCAKdqGMJRv45MqcX+UKpeoSAV9Jl3VVXkWq2lR9USVRMCVfGqm84lRdoshX0mVdlVeRal6qvqiSKJiSt0iSX3nFqbpEkVeS6DLtmX3lVWQKRtEuK0lkE9HKK+4T25KKk8ZUEqq0XMqcVKTTWlK2RXVFwfLlY4E4XF66fGql5Vgu+fqotBCXYVG3/jpXHxWLgl23q0vh8iri+jqQcMmsP7GtU8lUZo9tC1oqrzhVl5T3TLpEU3kVoVWqnsv1qN+ClsorzottCWvYVnKMaAJ/8PVFwikcDOlAjK9L4XTREKu0XFyXtKzCEz11TEZ1RcHQlFQgFojDKaEuIpWWY7nEnEoLcRkW7dG5HVcRh7swJ5VdaTmW61fbQiNTFYfUigI9sq0izSrU434LVVRuW6ouKe9t69LEyqsIrVL1XK4nx2TSnsorLrpt9jLyK664gv7whz/oxJ7Zs2eneCMCAgNNAGuwZnpgp512ogMPPFBT5ctQHvkvt5VN96KjeYmBE088saTYE088nkozHaNHj06lIwICeSKwceNGuvTSS51z1Z8D7SVnTul5ZCluz0trqGM0KAgIsv5SK1d6asaSdnYFNakWuXOb8+RKRDZfVHZBv2ZkPligb2xztcQtlppC3SGQqV+jvbGtE8VqW7a+cnU5GdNU2m8up0PbfBWSbzqSWjuuT2TCd7IV9JU4XZaYaAsVsIAXTTK577MlNIUT0+kuJjdD2RxTlpZ3dYW0ULGvL2SktQXbTKkvJ7vSlkZNYYFQhQV6ZJtVnN5HzdWKXHu8jNbnJPQzEo6CSb9JMWujBFkolvNak8RINpSrqm1G2iqOWlc26L63rFRoY3dtiwyPqtHUoDvISMBLWTNTeWUiLNc331tOt/RbvIVoCFhu3MBSS+KU+v1ONlZl9tpv2fSYmssz7Lbv9neyLyi9ZTqSWsvVl0gl/eZL+C53uhK5oM+SytlWwbkd2xZ/J/tqS6qxBNeedBvFWm2OtYmzo2D6e0uK+kqcrljS67UkFvCiSaAC25wWp8TZ5vVmdlaNJvu6QppW7HWIQMhIBdO2hcZyc1m+tMcjPZFsMLJfbLOKyxsUpXZhm1JLf1hhqyKVW0qjNEUKeCVldaQUugjLJd/JVsgakshbitt3cp3MAiYrpUM4BEyn1eWkstlZ2zSf+1e3uKipK7dP2WYC2ZqSNrqccra5nGy1QVMIWB3xPmuJ1JcUSL63fJqvRHaJVKzPh9W2bHqs2eWZDrfvuW3l21Mkr4NWAABAAElEQVSuPquRjysupDFLEiW8OV2W6NL005JYwIumMi3bEjXOH5Zele9kq4z3Vo8kOduSyh9++GH64Q9/SHIfig0EaokAHKyZ3hg0aBDNmzdPlwmQLHnkPz65zSHjlgKQnCTXLohOOeUUGjFiREYz0RNPPJlKs+UEJkycmEpHBATyREBmZl933XWuyTo6y+DHR7edGhL1w7YlyWljA7nbp2PBfruw0wRVFM5IO98sS/eixtdnGu0UtfNN5fhDRd2VgSXp3pWTlrr6ZC8xt0laz2wzBk4P19It21heGyytiSzxDYtSVL2KlrXNKwm2iT7bxDYOW4JGnWZLEknRIJvtJdwt26SA39wxwpqsWbFWX2lcjxSTFqX73gkmLdWGaw2JXJLmMrjNzCdUq4lOtyTGdZptLo0/O+u3oJx1aLO8pjgsSRpP1yNF1TbV4T98XaUtlfabYF/ZxvqCbdJApzc9Avo0yQ6UQkNckuYluSIpW1nbuKgr7Qt5MBXbFupyiqKWhGMypFVkG7cyaor1vSaJolCfmqRWSajXtnndlZzbUp+1S8LpTRrIf9pO31gVkLRObBMZFjFWbp+OqRqViwR9XXaMJP3m9GmZbtimomW/t7Rip1TNKtJ3ctY2330KT/rNmZ1E5WiLZbL9ppJczPpP4hwOx7/End5y/Ra+t0IlkR5l74530WKbikZiVlfSUm8HF0iOkSRN9Ug0l9/JHkpVbBOlpl/2Akn4W5qQ82maZJ1ge87WzhE5F3Qh99nx91ZUyNdVcb/5pmnfs5qoJazJxUJat2zjNquprnQwN9QXWyb1pikpRy4alXYK5TNpkNahmiTN1xdnS547rlUqfJhtISEEpIGqyO3jdK64w/FG5LiY1e32SUy0hk04cpbLdXWZ9b21TXTKeVl+k1a4+mQvMbdJWs9sS3PkesMxIppdXaW2uawAQcWiXvINi1K0mR3Z5qyVQq4+EfYqkjRLUBGn2ZJE2Ii5vWm0VNHI4QptK/edHDT5SsvbJvX4zdeVtFQbrpklx4gZoiJJCVOldfNHaANnWL+5NP7szDZTxPqDbZKm9UZafTuiFC0pLUraTPSzn/+cbFarqcYeBAaaABysZXpg7ty5tNeee7mc8AXgo6mBRk57+6p3Xzay+PJnPvOZMlqJHn300Sjdf3Nwyo477hClIwgC+SKwefNmWr16ddRof07YqMgjqF1EWpIbmf05wDsXCoGgK31hZ4Oq0xJ0SeE4wmGrTxVpnqtB4xp0daXkQq0SkEJJfUG9pFm235uOIBMCLOCq0YDJSTHZKrFNr1GCPlbG4ZQezdMWOZ32KaJJsuermfwhhcw2F3M5sW3pukITYk0s4qpI+tdq6KltojDUValt5b6TvZKgS+y1xvlKjE8ik0iIiIv1xLaYo1TKmrLt0bivL6pLRX2yliyxLRhhKjmhGrZJA1mvttM3XqsuY5tvb5DSQE9tc1qCrq5si+uS9hlL3lv/arMlK7CUQhXYxgpMR2hPXJ/V5Ss1WakvqUti1j9OS9AV0rWEiIX6JEXiapDsZFOkrtK4rpClQlKo721zdWsFpbZpO/XDNTndII5JZ/TcNlerfKZtczW6dEVjCVFdlpQ0jOUdQg2UcAzHiNerCpwW09Xt72RtnKs0rk+TpRrdRLv1m7PU0lVOK+cQ702HtSd7jDi9ybHr9LBUD23z3WfN4X3ScqtLZZLkkro6tU01c+Gq2ubPwQDN1SdVhyQNeCN450IuYMxFPstRbZMM3oIuDnlNnMohzjAdiUwiISIu1lm/SUk7RhItmpaqPChL2qPivr6Q7QLWLlFRaluiOKmxC9viulSpt42ri+tK1yeFKrCNFZiO0J64vm7YxqJaZ/LpQi5dwtLgTJvjuryIuhVFNCkoOb4/JSSF+tk2bad+aO3SCtcOF6rUNpUrY5tpydrmanR1KQ5L4L3xsaSoYVYNF0z61+rIHpPxNYnp6u53suscbmHGNm2zVZzqt5ieP/6t8gGwLTq4fMOSlrsQf/J/Yy4mZTlKQXNSmimaJsKaIAr4v1PokiQvrtxVo2kmpyKSUsl4I8KhclefttuUWDskHtWVte0lXtJxy5YtVgp7EKgJAnCwlukGmX36zne9i4YOHaonv30JpU58/6Ujxf3XrWo67xOfoFGjRpVo/c53vpN5s3pSavfddi+RRwII5I6APydklxpb5QQKg2hiFV9KuUjIc3KqxusKWam4j9guCIk6jkh6Ks2le3GfxwIianIhk2WjsMvmBJ8mu7Rt5eoK4lE7XH3SEtNlVafjUUWiOghJQY5oAyQcb8l3iUt1dcW2BTVevci5NE6Iqkzqq6CuoDS5UDNdIcvrDnVJxb7KpC7fGpENBSVNtt7YxsWraZu2z5qcVKRmpOzgiM/2RUJJTQ6yHBBRi3OmBdPlvbJol7AUBaw+FLQaI44hr4N+83qlpBNNKlLVoXwiYbUke19fkOUA/1fbvLqQFdUXQCVVRueAKAiNSqpixUGFKbW6RMpnalYQzNjmxRKOUpBLmD6Jhs0nhjwn15ltTtRXHu2S+lhC0oNOqyxtm35niqjJeV0a9WEp6bI5wafJLqmLI6LAdEgBv3X4nSyyXlcolopHFYmoCAVBDmgDfCVhl7ZNC4iolfMqVTwKu2xO8GmyS9smCaGSEAgqQh4HLOwzLWq6XTyqSLQFIR/RBoRqfKBr24Ka0DBTzQlRlYltXKKiuly7shyz9bl4UpGqDkIV2qbWciH+H9cX1Hj1XptKV9U2V4Pvogps8/LJzvdbMKBS25K6RFeapcDhxKDTasseI5LOaSbnVWrUh52EfPoE3kkoOUYSCQmlty5sY2Gr2tS78kldEk/XxyU0wUkmn2VsE1GrwKvUqA9LWZftE3gnoRLbTEdSmZbUUiGPA/xf6/PqQlYq7iPRLqlPFIRGRbVlbYvqEqlYvw9LsqufE3ya7JK6pJzTI7LpzZVMOieqz+vyEkG3i0cVsUKNBUEOaAPSNUkrfSnfYJYTUSsXMk2hK++yOdPnyy5tmyQ42fgzqAt5HOD/mu4zQ1Yq7iN+l9btFYSCVmNim7OHBUTU5FiXBc0OKenSODOqsje2aWu8rmx9oS4RMpkgJIkckfRUmkv34hLhjQVE1OQ404Km10uptKWp6iAoCpwqJ2SfCcdEKadZOd8Qi5puF/eZvFPVQUh0c0QTrR7b+/qCLAdE1OJcZv2GDdTa2moFsAeBmiAAB2sH3SBvpjvnnHOopaUl/g5hafkGiE5ujbkzXWa+fuGLX9SU7MdFF12UJDkV4Zeht73tbUkeQiCQVwJyGvCxLcOhPSzkfln2B7w/d9zOfql2eVrUzguxP/wc6hLDYBqzieqTZK1LlLvTUVL0v//wKr0+t9O2qspQH0uH8prjPqK60raZjFeou45tS9fl29JJfam6KrBNm9kt27hEWdtYSWiXV6i78rYF0cDRlemIpYiVty1dl/ByKp3rx/WxNM3LaWbndTlsUpsv4xJ8x8X1JXVpvfwh9aXrkhzTI+HMpjiTutLHZFyXC3dum+h2ch1xdKb4+lSUP0JnuLL2qJbVJVpFpCPbytblC5Wc24Gl1SWCLuzqS+pyKkrbV7Y+baBjr9apytKy6bp8vVIRb+X6rWxdIqyqy/Sb5Hl73M7VYWnGUaS0PjPalylbX2SbaleV2gCJ8sZhS+NYqt80vRu2RXWJdapddpl2Wn0iPlC2lT+3tUE19Z1sfNLntudWpt9KjhERDfxZm4PuDNVPTtBCrp/T/WZi/kDw9aWOERZx57aXDXW5MqX1sZxUydmpuuSg0La5cnaMiFarT5vps9Pnm0vsqC6nOjnflKnWJdrj+pK6tF7J5ex0XVEZCWY3sY119o1torycbb7xCiSqT0W1wb5Vrmx3v5NdP2QN43iPbNNi1oSEpaovZ5uvN2Nb2eM/0mHHiCR5Okld0TFZ9hgJVZbpt6gO1xWuzXZMaDM9Zk2zysv2W6jIH4Left3xR1zW0sSeOBxUaKJlciq3PZT3QrLTBsouY1vERKWjOuyY06JWjdiTKdNVfaK3bL9FdcW2OVnXVm1TqI/1dMs2LS21u4CvL64rbRuLhbpcmc7qM72V2pauy7cp1FfONi6hhRyL1HeJpOtWmW0qGurq2rZUXdrnvjrZaXGnw1h2bFvXdcXHpCova5t1ja9XmsFBO/+y/abcoiZrkPVqO/3xkO43p7dy27LKEQeB2iAAB2sn/XDJJZfQeeedR0OGDomk3DdO+N7hnObmZpozZ06yDmUkLUFZgFnesh42K8x7KXvYYYeFLARAINcE9NiWFXLcQe5+6XXhYJeXERF1m+noyqFw0SGSVsbtLeZ0RDENepkoHOSiNHeBJglRXeGqzemQchryY3zQEzKytjmJ8Gn12b6XtnXMkSuwOrjyntvmW+51JfVpQjBLA14m1FUV23y9vi6pN9TXYb+5MvqZ6jfffK/LbEuOLZ8vO6ciqSu2reQY8cJR8aBA07LHiMn7ve5cuHPbkoapdLDN6wnZvr5Ib7ppmbq6sC1dV6jEq+zItpDNgag+bXO58y3Rm67PlVVtGnT1lf0eSYRK+k3OcZ8Y2iPtSteVtMFldMM2KRBzFFXamdZ+t0/XZ3nWJC+juyhPdEdp4RiR+vQ7cgBs0wZZG93eYmK69XkS9DK6iyU5HKUF2zo8t1WjK6LHkouH+rwu37PpWVMp0ajebL8ljeaQKvSfKQUuomq8jO5cOMoMOnpum6/X66/EtlBXVWzzNkb2hvo67DdXRj9T/VbeNuPuc93OVxvqStnmM0NPWTzWEKd1dG57Gd25cKivrG2i38npZ1e2RXrjltmBGuqKbXOJoR6rT77Sks21wcW7aZvqqafvZKNWrt8ijlFflR1vovxsvw3IeKPHobXf7S1mx4VZ7g5ZL6O7WJLDUVpsW7gmLzkmfZFyx6TXVcn3ltTLR2LpWKoNV0UccnuLlbMtXVcsyWGNurRgW9lzOymnoZRtnqTXla7P59nOy4S64nPbZLxNvbONlfm6RG2or0PbVNgVqcA2a1tosgSciqSulG0+04TCPtZgMi4tzdHy/F53Lty5bbF+hEGgdgg0105TarMln/3sZ2n69Ol055130kMPPUTLly/Xt9UNGzaMJk2aRLvssgvJDNT3v//9NGbMmLJGXHXVVWXTJfGoo47qMA8ZIJBPAjx6y4jox0mxQdYmbk89V+Msc2NoJFhFg5NaklDcxlTVkUgqvcNIBwXK2Nyhil5kJLUnoWrZFmqoF9uCwb3ooA6KJqqTUL/2W1RtqokdpaeE4khpAU1JPpxwqVjn6XEVqXBaUYjFx2RITBVMfS9lcjqIlirSlLguKVkq5vR1lN5BbdnkUDyuLyRmpDtKz4gl0dICmhLXlQj3eSipPQn1HcdIZ9zyWrFNbk65LX4X/GcdtDq2gMNpqRCrFdvi1obGxYmdhdMFQqxebAsGZxh1lJ4R6yyqKpIPJ9qR3o7SO6wgXSDE4n4LiRklHaVnxJJoaQFNiesS4VIxp6Kj9KSCTChdIMTi+kJip0UzmeWipYo0Ja6rXLE+Sgu1x/WFxEwlHaVnxJJoaQFNietKhPs8lNSehPr1GOlzixKFiUVJqCi2hUEyGOTGzsR6hECg9gjwOsT99M1We7Z3q0Vr1qyhJUuW0Lp162jTpk00ZMgQXWt17NixNHHixE51PfDAA7SB1wjJbm1tbeq8FQcuNhDIK4EXXniBZs6cWdJ8HgKTp0V4zB/9+XdT45gRiZwKJNHOQnYTajKpoqmISZTZVyhndXUo3mFGVGclMl5c6pPrBrssShVNRSL92WCFclnbSoqVJGQr4nglMlaMZWNfe6poKmIFyuwrlOtX26RNvBXRtixHtZM/7PisuP9rsN/6xDbf9wkQIVR+s/osN4WkUj2pQqapdG91xeJxuKJ+SxUorSNOsfosLVVUIrKFg8ZFSz5ThUpyQ4LV1aF4hxlBRbe+t6Q+abs1P6U+FYn0Z4MdyDU0NtCWx16idVf/xpcwQbc/Zbdd6IN7TqfN29qyGqsSt9qrodx0274adWR1xnXF4axcb+OmO7vvrd7OyltdIhOHOyvTk7ys7my8Jzq7KtMfdUgbsvVk4121syf5/VFHf9tmNtm+J1x6U6aa9Zpu2/emnT0pW816Tbfte9K+3pTpbr3LN2yif/3tA6HKjsovXryYpk2bFuQQAIGBJoAZrBX2wOjRo2n27NkVSqfFDj744HQCYiBQRAI88sUOJzWR71BtQBz8punUNGG7IloOm0AABEAABECgSwINTY3Uvjl5IYc8IutWx3Ee3V1Hj6DDd55EtHVbl7ogAAIgAAIgAAJFJbBk7fqUae5HT7vZlBVqbaGBlBgiIDDgBOBg7UUXdDb5Vx6JxgYCdUXA3R8Gk91AKLOAvIu1jVPkDxsIgAAIgAAI1CGB9syvkDoiRsOii/MnHi6rw6MDJoMACIAACBiBtjAO2lQdyZHxkSfv8Fjq1gnWUdOKYA8CNUEADtZudIM80i9LBWzcuJGeeuopeuaZZ2jlypX6t2XLFl1jUr4Chg0fTl/+8pepqampG9ohCgI5J8AHv7t3dANh8tsiBr+c9yyaDwIgAAIg0McE4lvGPlYNdSAAAiAAAiBQEAKl95HO91qaXhCDYUbOCcDBWmEH/vWvf6Xf/va3dNttt9G9v/sdtbJDtaNNXoD1pS99CQ7WjgAhvZgEeJxzQ518+gc39A4St5HF7HBYBQIgAAIg0FMC4emOeIjE/WJPcaIcCIAACIBA0QnweNnA6+pgcYCid3S+7YODtYL++9a3vkXf+MY36Mknn+xamk/8oUOH6lvTTfiee+6hFStWWFT3srzAcJ7p+va3vz2VjggI5JqAv1F0j26wJXqziDvGXPcpGg8CIAACIFAFAn5s5F3wsUoAGwiAAAiAAAiAQIYAPxvJ/pNkqZ0wcmbkEAWBgSUAB2sn/GVJgFNOOYVuv/122rRpU5C009n2kuHC/MknvoTj7fvf/z7deeeduoSApFs5WVZA3sA+YcKEWBxhEMgvAbtRDD5VO9rzaxJaDgIgAAIgAAJ9TcBGR9v3tX7oAwEQAAEQAIHiEBDnKlsT7jFDoDgmwpJCEGgshBVVMuLkk/+FbrrppuBclXNatnb/Ais5rSVN15rUTHeiy2f8AqyTTjqJVq9eHf5W+fCGDRvoxhtvZGlsIFAAAv4ESQ93dpYUwD6YAAIgAAIgAAJ9RCB7LSlq3bpyfVQB1IAACIAACIBA3gmYA0bsiG4y4+S8m4j2F4sAHKwd9OeFF15IC29fGByl3qfqpKMrYPklRaaqy8t9nLvVPhPFb3vb22jXXXdNEqLQt799dRRDEATyS0DWxJFNPuPzRVbKwQYCIAACIAACIBARyFxLSk48dkaSCIIACIAACIBAfRKI7i8NAMZKI4F9LRKAg7VMr8gLrW6++WbazI/w268j7Xxym5tIHUiWI4npDI02ZM78T37yk0lNUd5zzz1LTz31VJKHEAjklICeBnxy6CnhB0M1xU6inNqFZoMACIAACIBAXxMouZaUCux6sq8rgz4QAAEQAAEQyCUBNzDKraXdUsZ+mVyahEYXmgAcrGW6d+HCheGFVsm1bjqUensdn+2aK7MRvFi8RIBU8e53vzupKZq1IIk/ueOOJA8hEMgtgeT4lxPBfkfIHO65tQ4NBwEQAAEQAIG+IiCXi/qyDt7bTWNf6YYeEAABEAABECgCAR0f5SO+zTSHSxEMhA2FIwAHa6ZLV61aRQ8++GCS2sFV73777Udz5syh4cOHO6eql5P1WMsVGTZsGA1uaUn0RqFXli2LYgiCQJ4JJMc/HKt57ke0HQRAAARAoNoEbGmd8NBHuQvIajcC+kEABEAABECgRgno3DX94AZijKzRXkKzYgLNcQRhomWvvEKPPvqoopBzWKagOw+qozN//nw655xzaPfdd9eEM888i+6773cs4uRkZmu4UHZFwuduvA7rk08+6eOJ3mVwsAZGfRXYvHkz3XnnnbT81eXU1NhUXq18WUs3lN3SmdKveiPUoXxZJSFxUHMzvfNd76Ltt98+pBUz4I9/j0/WJpYgNhAAARAAARAAgTQBm8GaXEOm8xEDARAAARAAgbonwPffek9pfpnEjVL3aACg9gjAwZrpkzVvvEGvsJNVNucYYseaDx955Hy6+urv0M4776z569evp9GjR2nYZCSiL7yy56M1133MnDkzcrCydl/I6otEEewlgXXr1tFnPvMZev75F6h5kHOwNlAj92mb86kyfvmOlvmWspyDdIXEzDmuX+Ka7xoiszEbONGOBs3XEq6kHC3ujcAsKOmsyOnndE6Smc4HHnRQoR2sylIICVslmvBSKPgAARAAARAAARDwBPj6ITzq4a8dwAYEQAAEQAAEQCBNQO8tJcnfYeoNuxs304KIgcDAE4CDNdMH4pjbtGmTS/W+M7n+HTduHH34w/8enKsiII45W2tVXEm6mWM1XDS75LKfUoTrWPayc+iWlUFijwhIv2zYsIG2bNlMW1r9TYz0Z0ffxdxvDdKfndUWl+ewOVmlD0NYyssxkOl/eemZHSudVZHnPKUXbGeSCrNTonk2F20HARAAARAAgZ4TSF04eDUYMnvOEyVBAARAAAQKRyDcWsp9uGx2fxkyXDI+QaBWCGAN1kxPrFmzRlP0HJZfR/zFrjzavSs/4p/dbMVJkZfzXBxrUkQcatlt8YuLQ1LIZeG169eFdAT6jkBbW5tTZs5O35dla+jKuSqF4vIcDtE4rHIhJ1TVJvqtHSG1WIH4+A+W8YEejvWQiAAIgAAIgAAI1DcB8a+6za4kLY49CIAACIAACICAEJDbZ72X9H6ZMHQW/L4avZ9fApjBmuk7c4y6kzecwtTc1ERDhwzJSIuTLZJMxMs60154IXGwOlH5uuAQPFAlXHub0MT9NWPGDHV0N/P6p7KJg9P6tzL9vn9KhDtKLxEMCcOGDqWRI0eGeBED6XHOM+LDOzotimg2bAIBEAABEACBbhNIxka7kuTxEteD3eaIAiAAAiAAAsUm4MbLZNQstrWwLu8E4GDN9ODo0aOTFL3Q5Q/2HL362gp69rnnaNr06Ul+mVBH8xDuuusuWs/LD6Q390UxdMiwdDJivSYwatQo+uY3v0lr164NTtXuOVidg9B9VtYccd7KTFWZFp4dAsThO72LY6eyWmpfyjHLEqj9dqOFIAACIAACINCfBMKVhi0XgKGzP/GjLhAAARAAgbwQkAFTZqWlZ/TkpfVoZx0RgIM109lDeJZqY2Mj6ePleqHrrnZXvLqCrr32WjrkkENSMxGzMyKTeQhpxR//+CeSBHdFHeLjCv9m+WBqvwXEobnHHnv0W32oKCEQ7g/5ONeXfZW4mxNZhEAABEAABECgXgm48dJeDokHmur1OIDdIAACIAACXRCI/DJutAx3nF0URDYI9C8BrMGa4S0zWKdMmaKp2WVUb775ZvrkJz/pnK++XNl1Ndmx1NiQoD3zzDPpqacWJTVlvg9mzJyR5CEEAnknII5VsYGPcz3UNZJ3o9B+EAABEAABEOg7AvHQmLks7LtKoAkEQAAEQAAECkAg7ZfBqFmALi2sCYkXsLAmds+wSZMm0f7776+F3Ax08RYll8FXXnkl7b7H7nT33XerjMx2Ldn4nN+6bSs9/PDDdPjhh9P3vvc9fXRctKgmr860HnnkkSUqkAACuSXAxz/Px/HN10huTUHDQQAEQAAEQKAaBNx6qzZW2r4aNUEnCIAACIAACOSUgA6PDX5lAI54v0z2KeKcWodmF5AAlgjIdOq4cePooAMPpIULF2oOn84lS308/9fnaf78+aGknPf6O4oPvP7667qMQGtra5AR16rKSEoIuAJwsEaYEMwvgXAiiAnOxaqftrZcfi1Dy0EABEAABECgbwnwtaBeY6rWcGHYt3VAGwiAAAiAAAjkmYAOj26MjP0yZZ8izrOdaHthCJSZflkY23psyNELFtCuu+6q5eV0Fr9R2KLZrC4tcZyKH0k2mfmqzlUryHuTsiSVYyfUAQccoG+714L4AIE8E/DHv54xfKC72TmcGNLzbBzaDgIgAAIgAAJ9S8ANj3Jl6K4OMVz2LV9oAwEQAAEQKA4BGSNjX0pxLIMlRSIAB2uZ3pQlAo477jiegc54gqPIC9qb68LZnVwOW8icqcGxxBnO2VTqa7rkkkvKtABJIJBnAn6BADsh8mwK2g4CIAACIAACVSUgg6UfMMO1ZVUrhHIQAAEQAAEQyA0BNzTyJ/83n0puGo+G1h0BLBHQQZefd9559Lvf/Y4eeOABlpDT2rxFLpx+6jnKlxOfz3yXImV8nhb3YZkFy47a448/jg477LAOWoDk3hDYvHkz3XXXXfTqq69SU1OT7z12/GmXSD8kmzxiIOu4pB81cH3l0kU26Us3iTktb+W156V7uYRztDu5QYMG0Tve8Q4aO3ZsUnERQ4rNA2AK/lAvoqWwCQRAAARAAAR6RcBdaSQqGnDnmMBACARAAARAAASYgLt9t2UbsyMnEIFAbRGAg7WD/hgzZgzdeuuttN9++9HKlSsjKTnF3YluvlMfczKazV8ALmaSIaYBdujttdcs+uIXL6bmZnRBGk7fxNatW0fnn38+Pf/886WMu/29nC4QYuo9lPZyb4fETPt9+rBhw3Q5iMI7WDPHv034zlBBFARAAARAAATqnoAOmanrh+Tqse7hAAAIgAAIgAAI+Pttd08p99z8h6ESx0UNE4B3r5POmTx5Mj344IM094gjaMnSpaWSenLzlbGe6P4KObpQdsH4030bjB8/nq644nLabbfdSnUipU8IyGxUcbJu2rSpA33cLx30mysQ91usIp2ejsVycVhmsbZRW1tbnFjAsDF1pjk2Ek5CBTQaJoEACIAACIBAzwnYtaT9WNtzTSgJAiAAAiAAAsUiwPf0yZ0khzB7p1j9W0BrsAZrF506Y8YMenLRIjr66KP4UfPEH+0eExfXEV8Z83/3ODgrswtlOf9Vd/Ips1X33Xc/fXR97ty5XdSM7N4SSD/yn9XG/aJd4/rHd1YklPRblMjBdHo6lpZMYvZIQ5JSxJCdC+pQDce/WOoZF9Fo2AQCIAACIAACPSSQupYUHRgue0gSxUAABEAABIpKIBkak5CbwFNUi2FXngkkHsM8W1Hlto8cOZJ+/vO76Lvf/S5d94Mf0KKnnqJVq1ZprXaa2941hWNRwtBhQ2n6tOl0LK/B+d8f/zjJ8gPYqktA1l2duvNU2rZtW1giwDlc5Tcwt6lDkO9uJD1ZQ5XzJI3/OUnxFHJnSsR3q8lKmq7p6rISHXLHxGWS39saaBgfA3IcFXlLDnkHSpHJh2xJpovjEwRAAARAAATqnICs2S8DZHK9UOdAYD4IgAAIgAAIlCHgRss4AzeXMQ2Ea4cAHKwV9oU41c4880w66V9Ool/+4pf0yCOP0DPPPENLlizRR9HlcfQNGzdQy6DBNGz4cBrBfzvyUgCyDMDs2XvTMce8g3baaacKa4NYbwmIM/Oqq66itW+sVcenOk35EX3194kD1G/mLLW9pcveZLMzYcvJyu1RY0NjylnrHLOuLnH4Tp8+PVZf+LAOexj7Ct/PMBAEQAAEQKBnBPTnXL1M4MHS/e+ZIpQCARAAARAAgQITcLeUPGBiDdYC93IxTIODtZv9OHLESDrxxBP174033qDly5fTxo0b9U/W+5S3xQ8ZMoSGDh2qM1UnTJjQzRog3hcEZDmGWfwiMWz9S0DuE20mTgO7qMXxjA0EQAAEQAAEQCBNwI2XnBYNk9Hvv2lhxEAABEAABECg7gngl8i6PwRyAAAO1jKdJI+Vy5/MVJTNZjBKXBx3lj5q1CiSv0o2ecHR1q1bS0QbGxvDI+wlmUgAgTwR4NPFrTsud4veuRruIPNkCNoKAiAAAiAAAtUlYD9G6uMykZO1urVCOwiAAAiAAAjklADfVzbw0jo6gQf3mDntxOI3Gy+5yvTxmjVr6P2nv59aWlpo+PAR/MeP+48coTNS3/SmN9FTvP5qT7bZs2frsgGia8SIETSS/2QvM15Xr17dE5UoAwK1RcD5VbVNMvTppjsZAbGBAAiAAAiAAAgkBJJxMoySPimRQQgEQAAEQAAE6phAGCA5wGNku38BijhasYFALRKAg7VMr2zb2qapra1baGtrK7VuaSWZgdrKM1BtNmuZYp0mnXDCCVpedLWyzi2il/9ku/HGGzsti0wQyAUBGefsfjE15uGOMRf9h0aCAAiAAAgMCIEwSqbGzgFpCioFARAAARAAgZohkDhS3XMf5e81a6a5aAgIEBysZQ+CcKnLv5IkAg3u+eckoRuh4447LkhHKjXtJz/5SchDAARyS8CfNnp8h1Moe7Tn1jo0HARAAARAAAT6jICNjrZXxWHs7LNqoAgEQAAEQAAEcksgfp9HX/llcgsDDc8FAazB2lU39dHFbjzzNavy5Zdf7qoVyK8ygb/97W/0wAN/1PVwxY8u6+xKn7n1dq3H3G2QftHrN7ylu8bZ2rySGt8wiR5Zu/eII46g7bbbrsqWDLz6NJV0bOBbhxaAAAiAAAiAwMATsNFRrxn4okGuPeKbx4FvIVoAAiAAAiAAAjVEwA+c8X12DbUOTQEBJQAHa2cHAp+9ssyHP5c7k+wy7/LLL09k5FshUvraa68leQgNCIH777+fTjnlFF1z1xog7ziTG57KNhFstFc7aZEGH5Oc4cOG0W9/+9tCO1jV3nDCJAd5EqqMJKRAAARAAARAoOgEZGyUn2PlR1u71nBpRbcc9oEACIAACIBANwnwAGm3meElkd1UAXEQ6A8CcLBmKI8ePZoG84undGPPWOxfa2xqopEjR2ZKdB5d/MJiuuTLl9BNN92UCEazH+ViesvmzUkeQgNCoHXLFq13/fr11amf7562bdtWHd01otXN7LXGyOxf56COzyHLxR4EQAAEQAAE6pmAjo3+blGuBSVujtZ65gLbQQAEQAAEQMAI6PjoB8nknjIJmRz2IFArBOrOwSpOrvE77kjDR4yI+qCBGnk12rY2mUXQTitXrozykuCzzz5LBx98MA0ePNg/Qi55mROcvwDkerl16zZavXoVbeUXY8lfO78kSzf9grAybuZCg1SObWAJiDdQNv8F7iJRVPqVE93NT0bIhP3eZq6GZClr+kNiAQPeo9o5nQLaDZNAAARAAARAoCcE/OWg/e4u4yc2EAABEAABEAABR0CHSXOdRFBK7rejPARBYCAJ1J2DtYlnoY6fOIGeWvRUp9yDkygE2Gna2kr/+Mc/Oi3XUaZ8CagzNvqCaGBPrDjsZsyY2VExpPcTgUG8Rqr00PDhMkPZOol7jRPTMzMlTVJ4z2ISEqd9cKRzh7a7DG35MF4aQI452Q8ZOqSfrBmgatj2cJwLRcM4QM1BtSAAAiAAAiBQywRkzIyvMbAGay33FtoGAiAAAiDQ/wTCSBnNfOL7zOh+u//bhBpBoGMCdedgFRQnHHdC4mD1fk+38xGWkYtcPW/jaQXqMIoKiLIgmJRVT53Img6R40to3YKYe4mSpM2atZfLw+eAEVjwtrfRw3/5izpDXSN8B/oWuRdeSUT6zX2/S/9u2rSJXnzxRXruuee0/AN//CMtX77clyI69bRT6V9P+1caNWoU7b7b7iG9mAF/o2jHeOr4L6bFsAoEQAAEQAAEekpAbxClsF1r9lQRyoEACIAACIBAIQnI5KWO/DKFNBhG5ZxAXTpY337M2+mCCy9wXef9nu7a1nvOJI3/XJZfRjk5szmTz/IwPc8EnbQodT+oOBlf2tyr7iLaeW6dl46LzZo1S4phG0ACY8eOJfnryXbQQQeFYr/+9a/pym9cSXf+9Ge85MQ2+va3vk3bj92eLrrooiBT3IA7B8Lxz0e9Hf/FtRmWgQAIgAAIgEAPCYRLRz9+9lANioEACIAACIBAYQnwEOlGSfPLsKXsakkcLIW1HIblkEBdLv45Y8YMmjJlSrq7+KyV89ROVA27lHBCJ3nuFJcSTs6psmU27QvApbovAheWT86N6moZ0kLvfe97k2yEck1g/vz5dN0PrqOTTkr69Atf+AJ945vfzLVdlTRezwX+CMe/BMTbig0EQAAEQAAEQCBFILl+jK4lMWSmGCECAiAAAiAAAm68dJ9hmAwB8AGB2iJQlw7WoUOH0rx5811PJFe43jEUn7zpM9dEk1RdOSs4WcOkVtVs0uJwSsJxUMQu/eqlpc5e1zJ85pTA6NGj6bOf/Sztv//+wYKLLrxQ12oNCQUM6HkRTg5/zGs8Ov4LaDdMAgEQAAEQAIHuEgjDJV8lWtj23dUFeRAAARAAARAoKgE3NqZHSNxdFrW3829XXTpYhw8fTvP+ea7rvXCuJqdpCIWAiXKCT4uzREUcd+GgmHOjsA/K7pBDDqEPfOADTjk+C0Vg1113pcMOOyzY9Prrr9MNN9wQ4kUM2DnQ6fFfRMNhEwiAAAiAAAj0gICNm1Y0G7d07EEABEAABECgHgmEcTEEHIXUBLZ6BAOba5ZAXTpYpTd25RcOjeW1MZPNnKDJTAK3orI/m3XHMl7MpK18HI/Dlm/7xsYGflP9cPrIOefQL37xCxoypOBvljfD63C/F7+8bMSIkSRLR2zdupX+wi/RKvImx717z2ORrYRtIAACIAACINA3BNz1Io+cmRvHvtEOLSAAAiAAAiCQbwLBkarvw8n4ZfJtGlpfUAJ1+ZIr6cvJk3eiww8/jP7f/7uHBg8e5Kag8pVuW1sbrV27Vt8Or95U85bySS0XwNtttx3LD/aHA2fqyS5REZS3qGdms3IhcaLKsgTiWJ02fRp99KMfpYPffLAUwlZgAuO2H6fH1vp1cly105IlSwpsrTMt+nlCT4QGPj9SaYUnAANBAARAAARAoDsE5FqyO/KQBQEQAAEQAIF6IWADZDRWiv8FA2e9HAC5s7NuHaw77rijrpP5wQ8upcbGRnaeigO1gdatW0dXXHEF3XPPPepQTdZVbacddtiRPv3pT9Mee+yRXk/TZh7o+e9OeNHVzoWbm5u53A40adIk3efuCEGDe0xAHKobN250X//t7Lhft7bHunJVkE8BebeVnDtwruaq59BYEAABEACBfiIQ3x7q5SPXa/t+agKqAQEQAAEQAIFcEGDXit5busbyaBkPormwAI2sFwJ162Btamqi2bNn61/c2eIQu/322zVJHETxuSuO0qOOOop22223uAjCIFCWwKOPPKIOVskUJ/60XaaVlStcIp83cpMYnzuFsxEGgQAIgAAIgEAvCJQbJ+UGEhsIgAAIgAAIgECaQNYvg18k03wQqx0CdbsGa0ddsGXLFl0mwPLtAljisnyA5GMDga4I3HbbbfS/P/5fL9ZAzYOaS5z5XenIbz7fIfJ/fXpDjMANY367Ei0HARAAARCoGgG5xnSDpB8oXULV6oNiEAABEAABEMgrgdgvk1cb0O7iE4CDtUwfb9u2LZVq17viYJXH/rGBQGcEvv/979N/fOQjvJYvL76qGy8V0dhEs2bN6qxYgfL8cuR2qgRPa4FMhCkgAAIgAAIg0CcEZLB0A6YNm32iFkpAAARAAARAIO8E3LwdtsIFcFuZ9w4tfvvrdomAjrq2uXkQHXzwW2jL5s3UxOunyibrqcpb4MVBNmHChI6KIj3HBFpbW8Pj/JWaIcfFpk2baOnSpfTSSy/Rc889p+v3vvLKK06FTEjxd0vbjRlDb3nLWypVnU85b6/u4rtEXZA1nyah1SAAAiAAAiBQNQLRdYLUwW8DqFpVUAwCIAACIAACuSMQ7ik5wP/DsBkCubMIDS44AThYMx08fPgw+s//PFf/MlmIFpjANddcQ2effXYfWsi3STzbWcaEQYMG0bXXXktDhw7tQ/01qEqM5cGunX9adGMez2TVeA22FU0CARAAARAAgQEmUPr7owyk2EAABEAABEAABBwBfnE4/7N7SvecJI+VGC5xgNQoASwRUKMdg2b1L4HBgwdXXKE4D3WTb3p1JfI+JPo8HQpc+FOf/BTNnz+/PpaX0MFOhkE36mFFDTsesAcBEAABEACBNAEdKePrhzicFkUMBEAABEAABOqQgIyU7GS1tQHkl0lsIFDDBDCDtYY7B02rTQLt4Se06As+Clqr586dS6eeeiqdcsopmiRLCtTHxnaWTsupD9NhJQiAAAiAAAhUSMAuJ+TqoMxlRIVaIAYCIAACIAACRSYQjZBRsMgWw7b8EoCDNb99h5b3IYHNvOZuxVuZaZniPJ2681TaeerONHPmTFqwYAEdfvjhNG7cuIrVFkeQRz7+rzeM5lPGYFic7oUlIAACIAACfULAzcjRhx9Znxs7+0QxlIAACIAACIBAgQjgh8gCdWbBTYGDteAdDPMqI3DaaaepU1QcpSUzTcWh6meftnO4oZEfU2iTtWDkcYV2amlp0fVVm5qaqLGxUf9k3dUSPZU1Jb9SPPKVTFw1R2t+rULLQQAEQAAEQKAqBHRlOf0h0jlX+RMbCIAACIAACIBAhoAbH+1mU973YQvSZQQRBYEBJgAH6wB3AKqvDQLyAqqpU6fWRmPy2gp3fxhabzeKYTHykIMACIAACIAACICAjpM2WDIO/1suwIAACIAACIAACCiBeO6qu9ls4Bk99gQIIIFArRHAS65qrUfQHhDIKwH5UVHbbp9uj5Xl8tqhaDcIgAAIgEC1CNgIWS390AsCIAACIAAC+ScQ/QrpjXGr9ZWm599WWFAEAnCwFqEXYQMI1AIB+VFR7xhlwPMPbmgct5G10D1oAwiAAAiAQO0QcE93cHviIRL3i7XTQWgJCIAACIBAbRHg8VIWB8AGArVMAA7WWu4dtA0E8kpAFmOVTXe4Y3Qw8AkCIAACIAACRiAeJ30a7hsNDvYgAAIgAAIgkCLg3vVh95UYMFNwEKkZAnCw1kxXoCEgkHcCPNDxmKfDnY19+JUx752K9oMACIAACFSBgN0a2r4KVUAlCIAACIAACBSGgHtS0swJN5uWgD0I1AQBvOSqJroBjah1Ai+88AI9//zztHbt2lRT5as9vjnS9xmKk5HfVNHOC8TIXrampiY64ogjaLvtttN4IT/cz4pu0mow0AhhEAxIEAABEAABEKh7Au1yfcDXCfEo6daVq3s0AAACIAACIAACjoDcStttpO05KU4GKhCoJQJwsNZSb6AtNUFAHKOLFi2iT33qU3T//ffTypUre92uwS2D6cEHHqT99tuv17pqVUED/6wot4rqUnb3jdpUvxprrTYb7QIBEAABEACB/icQeVN1Vg7fOPrfZPu/LagRBEAABEAABGqRgB8gY4eq/32yFluLNoEAwcGKgwAEIgLiWP3iF79IN9xwQ5QqwfhrPcriZD9xs0RGFuF2c1OIBjUPosbGYq/IobaaY9XuFplKFIzAIQgCIAACIAAC9UtArirk2kLHTpuVY/v6xQLLQQAEQAAEQCAi4AZGuZ+0e+523FxGfBCsNQJwsNZaj6A9A0bgiSeeoHe/+0R69tnnyrShg7seTk5ykpAoMOeqhLdu20rbtm2TYLG3gECWR2AGEg9pxTYd1oEACIAACIBApQR0aPR3i+JsxVBZKTnIgQAIgAAI1AsBHR/9IJmMk0moXjjAzvwQgIM1P32FllaRwPp16+gj55zTgXM1qXjkyJE0ZsyYsLaq5Igjsa3N7YOkfe/LgMDb8OHDaYcddnCRQn8m83ajpx8LbTGMAwEQAAEQAIGeELCldeySwa2x0xNNKAMCIAACIAACxSOg46MNkt7RWjwrYVGRCMDBWqTehC09JvDAgw/Svb/7nZZXnyh/iIOwpaWF/u3f/o0WLFigL6gaMmQIDR48OOVglUIim1o7LR4IOF+WB5g0aZLqL/YHz9u1wY/39ihHsW2GdSAAAiAAAiDQfQLtMkjK5gdOu3RwifgEARAAARAAARCQHx/1ntJuMu1eE2hAoAYJwMFaxU7ZsmULvfjii+qYGz9+fBVrgureErjt1ludCvaS6g0Oe0xP+9fT6GuXfU1nn4pTFVvnBGzuqnOqupFPXnmVrETbeXnkggAIgAAIgED9EOBxMjzq4VyrMnJiAwEQAAEQAAEQiAjwEOlGSfcyZV2DFbN4IkAI1hKBYr91p4ek5S3ybfzMd7k/yets+8c//kEnn3wyTZ06VWc/7rHHHjRhwgSd8Thnzhz65S9/qXo704G8/ifwkzvvdJVK//LfEUccQddec60uBwDnamX94V5yZbeHNhLGK9FWpgdSIAACIAACIFB4AjZ7NTa080vMWBJhEAABEAABECg8gfCEqNxi2m2multDpPAMYGC+CGAGa5n+evLJJ+mee+4pydm6dSvNmzeP9t5775JHxMUZe9NNN9EHP/hB2rRpU6qsnP5yzXzffffR0UcfTe95z3vosssuq5NHxlMoajaynB3j8Xb1d75T0sdxPsKlBGQAlB8gUveHnIYfGEtZIQUEQAAEQKC+CSRjI570qO8jAdaDAAiAAAh0REDmPqkvJbuUjmRgA4EaJAAHa5lOufHGG+niiy8uk0P0uc99jmRW6qBBg1L51157LZ1xxhnqYHIZ5lYV52oSlrxbbrmFXl+1in543XU6uzWlCJEBISBrpG7btk3rnjVrFg0fNmxA2pHnStPjnD/meezD8JfnXkXbQQAEQAAEqkEgGRuTHyb1/rEalUEnCIAACIAACOSUgBsvk1Ezp2ag2XVCAEsEZDp69erVtHjxiz6VnURhXjrRjjvuSPPnzy9xrj722GN08Re/qM5VmYfgtvhLIAlb7t2//jV94aKLIodspiGI9iuBnXfeJdQ3btw4am7Gbw8BSDcD7hhPjvluFoc4CIAACIAACNQRAb5ytItDDJ111O8wFQRAAARAoHICPFCGwbLyUpAEgf4mAAdrhviKFSvomWee8al8pRtNy5s79wjad999UyVkOYBrrrmG/vr885qezEPgqF0wRyX02tmnX3HllfTKK69EuQgOFIGZM2aEqhcvXkybN20OcQS6RyDcH8o4WO4k6J46SIMACIAACIBAgQnItaYzr8xlY4HthmkgAAIgAAIgUCkBGSvtLhOjZaXUINf/BOBgzTCXGaxLly7R1PhHkpaWFjr00Dk0LPPouMx2XXj7wrQWdSxxkjzrVe78t+8GFvkOr/WJbeAJnPavp4VGLF26lFatXhXiCHSTgB32Mg5K0XLnQDdVQhwEQAAEQAAEikQgHhqjy8IimQhbQAAEQAAEQKBPCMR+Gb3DjAfRPqkBSkCgbwjAwZrhuGnzJnpj7Rua6n4kcWfvyJEjafLknVLS8mKr3//+9/TSkpdS6eJVCuuu2lUzfyuIJtXmVGqZy6+4PF0WsQEhIC8fkyUgbDvrrLNoy5YtFsW+OwTC8S+FNNKd0pAFARAAARAAgcITcOut2gWh7QtvNgwEARAAARAAgcoJeOdJ8Mt4TyuekqwcIST7lwAcrBne8mj4tq3uZUeS1eDm4NGIESPYATc+Jb1u3Tr6/jXfT9JS18fmWfXZ/K0gKZrqs+SLYfWq1XTHHXckOhAaEAKjR4+mr371q84Bzi144IEH6OMf/zitX79+QNqTy0ozx7+L8mcqPZeWodEgAAIgAAIg0LcE+FrQrjH91WHf6oc2EAABEAABEMg7gch5omOm87TiPTZ579cCtx8O1kznitM03rwvVJcG2GGHHeIsXT/1QXbE2dZgwuJR8k6lPfbYg05894m006RJKhb7mmy91vt+f5+pwH6ACDQ2NtL73vc++uznPheWgfj6179Op59+Ot17770ka+1i64JA5vh3s3M4MaR3UR7ZIAACIAACIFBHBNzwKFeG7uoQw2UddT5MBQEQAAEQ6BYBGSNjX0q3CkMYBPqJAF6VngEtj/3LJievXuiGAKelF/+g66+/XmXtQx1KXEh+XZEfV3bffXe6+uqree3WQ+nXv/41HXnkkSlfk6le9soyU4H9ABF46aWX6C9/+QvN4JddHbD//vSHPz5AbW3b6NZbb9W+W7BgAe2yyzTaaadJNHHCRGpo5PnHfDy0+1/R4rCZEKc1NzfTnDlzSGbKFn2z47/odsI+EAABEAABEOgVAb0Q1KtNp0bi2EAABEAABEAABAIB85kkDpqQhQAI1BwBOFgzXWIOMLncFX+q95/R66+vInm7/PTp07WEOGKvvPJKX9qf9lpIyjTQIHaonXrqqepcFaH58+dr+L77eLaqifu9OPewDSyBP/7xj3T6+0+nUaNH8dqrm7kxyQ2PvPjsRz/6kTawpWUILxcxnMPiYJUkkzNnqyaqrObzASQS8nK0u+66q/gOVjZfjn+hIJbH55BCwQcIgAAIgAAIgIASkCef7CpCEhrcox+gAwIgAAIgAAIg4AnIOGn3lOE9N6ADAjVKAA7WTMcMHz6chvN6q+t5qQBxFOmlL+/+8Y+/0y9/+UuaN2+elpBHx994w70MK3V5rFfK7TR5ymR6+9vfntIuL1JSB6u/mrYLa3lrPbaBJSBLAMgLzja9Wm4pAH8ccBM3s4z8dXfbuHEjbd26tbvF8ifvj39/iIcfKPJnCFoMAiAAAiAAAtUloGNlconBldnoWd16oR0EQAAEQAAEckFAPas8Ovp7TP4lEkNlLjqufhsJB2um72Wm4bjtt1cHqzt7+crXT2OVGat///vfafny5XT33Xf7kpyvJ7q/QvY7edR8v/32S2mfMGFCFNcHqXWm39q1a6N0BAeCgDzOn95cR7rP+IYnTpd5rHKUuM90+Thms13jtCKGmUM06CVUklARrYZNIAACIAACINBjAnqJ4cdJ2WEDARAAARAAARBwBNgPk9xJcsj7ZYAHBGqVABysmZ4ZwbNX5WVWyWP7iXNNZjnecMMNWsKmqdt6k85dylksLo+RH/vOYzOaKfNGehZkJbKGZ6lzr6QoEqpMoKWlhfuthR//H5GqSXq/5H5H+o2XiOiy3/xoILuh7LgfMmRISnfxIkxLgAkxdrQm458mFs9cWAQCIAACIAACvSCQupYUPRgue0ETRUEABEAABIpIIBkak5C7Q4/jRbQcNuWRABysmV4bP3487bPPPvTnP/85+rUkEbKLYVs+wH5TiU9vWaPzxBNOTAr50BNPPKEh73cLv8CMHDmyRBYJ/UvgqKOOooULF1JTU7Ou8WK16zqipS7WDh3jHTnMm5qa9KVnprfYez4b+L8e5/IhW3yCuBR8ggAIgAAIgEBdE8heS9Y1DBgPAiAAAiAAAh0QCP6TkI+by4ACgZoiAAdrpjtkDVZ5IdUtt9xC63gdVpuNZw4im5WnM1b1TC89uY855hiaOHFiRjPR448/rmnZEumlA0qKIaEfCIwZM4ZkjVxsfUdAj/Pswd536qEJBEAABEAABHJOgAfJ6FoSQ2bOuxPNBwEQAAEQqAoBNz7ygBktR1eViqAUBHpJoLGX5QtZXF5kteeee3rb+HTOXPGGX1Ay6TbR8YILLijL5dHHH0uniyLexu843gXwCQI5J+AOafv0B3jObULzQQAEQAAEQKCvCYQRMrqWlKeksIEACIAACIAACJQjUOqXKSeFNBAYSAJwsJahP27cOJJHxpsam9wEVvOc+gtftywAF4wuhDXI5/xZZ51FU6ZMKdF626230eaNmbfP+4vqadOmlcgjAQTyRkCXz9BGy4HtVyWOzpG82YP2ggAIgAAIgEC1CJS7lqxWXdALAiAAAiAAArknwPeV/OpoZwbuMXPfnUU1AA7WDnpWZqGe9C8n6UncLlPReWtotzPZe0Z551LEmUQ0e++96fLLL1fZ7Mdn/r/PuKQy3wlHHX1UVhxxEMgdAV0+IxzfyTliZ0nuDEKDQQAEQAAEQKBqBJJxXUrqmwAAQABJREFU0q4uq1YVFIMACIAACIBAHgmEAZIDPGyW+mXyaBTaXGQCcLB20rvXX389nXLKKdTY4DDJC4+ym6RItsxave1//1ffRJ+Vueuuu+i5Z591ycn1dBCTNV+xgUAhCNjxHQZDsar0vCmErTACBEAABEAABPqAAEbJPoAIFSAAAiAAAoUjEE9w09vLcK+JkbNwnV0Qg/CSqy468rrrrqOpU6fSz3/+c1q6ZAmteeMNam1tpcGDB9OY7bajMWPH0mGHHUbnn38+7bTTTmW1XXrppbStra1s3qGHHkqDBg0qm4dEEMgjARn87GVwbvYqBsA89iPaDAIgAAIgUD0COlayettrTRguqwccmkEABEAABHJHIJ7gpg8T+3ES77rKXVfWTYPhYK2gqy+88EL68Ic/TH/+859pxYoV9MbatTR65CiaOGmiOl9nzZrVqZb3ve99tGDBghKZrVu30iGHHFKSjgQQyDMBGfd0PVYdAHG3mOe+RNtBAARAAASqQ8BGx3jMDCtRVadKaAUBEAABEACBXBKIJ/BIGBsI1CoBOFgr7JlJkybRscceW6F0Wuz9739/OgExECggAVl0XNfF4bvF9ugnxtTsnALaDZNAAARAAARAoLsE3A2ieyGkPfWBm8buUoQ8CIAACIBAPRCQW0ubtepeEmk/U9aD9bAxTwSwBmueegttBYEaJqCPcISxjoc+f6cYkmq47WgaCIAACIAACPQnARkbw8s6fMXmaO3PdqAuEAABEAABEKhVAno7KR88aCb3lEmoVtuNdtUvAThY67fvYTkI9C0B71H1ftW+1Q1tIAACIAACIFA0Av4e0ZYGwPhZtA6GPSAAAiAAAr0hoMNkGX+qPDmJDQRqkUBdLBHQzlMClr78Mj30pz/Ro488QtuNGUMHH3ww7bvvvjRixIhUv4js+vXradOmTan0akZGjx6NF11VEzB09w8BPnfcYOdGQczE6R/sqAUEQAAEQCCfBHRpnWhajjla82kNWg0CIAACIAACfU0gjJSpt0LGL7/q6xqhDwR6Q6DwDlZxmP7irrvojLPOpmWvvJxi9Z73vIcuu+wykvVVbRPH6le/+lVauHAhDR40iC97/Untp6aLXAPP1AsntfiSOM85lmTtSVsVRBI5zFfLKuJ/ZFGnky4gooVoG7/o6jvf+Q4dcMAB1gTsQSCnBPx5Ice6nRe8lyA2EAABEAABEACBmACPmXI9KJt6VjFaOhj4BAEQAAEQAAEjwF4X51ZJ3vFh95omgj0I1BCBwjtYn3r6afrIRz4SOVedK1QcpLfccgtNmDCBLr74Yho6dKh2y+bNm2nRokX06KOP9ls3rVmzpt/qQkUgUD0C7ubQLUDOIx//mmA/N1SvTmgGARAAARAAgTwS4DEz+FT9+JlHM9BmEAABEAABEKgmARsudfKa3mLqBLdkDK1m5dANAt0jUOg1WLdt20a//c1v6IXFixMqfGKa20cSr7rqKlq5cmXIl9mpzc3md5afR0q3JNXmrToZe6lPtkQin+TEaY2Nhe6GxGiECk1Aj2n+cLeJ/q7RZucU2nIYBwIgAAIgAALdI5BcB0bXkn7o7J4mSIMACIAACIBAcQm48dLdZIZhMgSKazcsyyeBQnv2bDaq6xp/KetPRjezjqi1tZVeeumlDnovfeZ6DdGPJeKqdT+giAJ9/D9oMmlxOCVhCzrNUXoohwAI5JOAHtPhlPHHtsZxnOezR9FqEAABEACBahEIwyVfJVrY9tWqE3pBAARAAARAIFcE+DbSjY3pERJ3l7nqxbpqbKEdrOI8XbZsme/Q9Elpp6pkbty4sXynZ85cdZT6tDhLNMdxF47ri8JRsHylSAWBfBKwc6DT4z+fpqHVIAACIAACINDnBGzcNMXZuKVjDwIgAAIgAAL1SCA8DJkZIFMT2OoRDGyuWQL2LHzNNrA3DRvEL6maOHFilypaWlrKy+iKypwlU1PlpJa9d5C6HT/WJUsOJMksFr0Aq4xWWUYgqPPKZFkCbANL4NVXX6Wneb3epqYmkqUl9tlnHxozZkyPGyU6nmF9r69apS9Fk2UnDjroICrychByTnR1/PcYKAqCAAiAAAiAQMEIZK8lC2YezAEBEAABEACBXhFwjlRxtrC/xPwxtu+VZhQGgeoQKLSDVRyne+yxZ0JOzks+OZOHsUjXW502bVoikwpFnlM5qcUh6ndOLMr35WLdGWGVEOeq6NC9L9PW1uZD2A0Ugdtvv50+9KEPhep/9rOf0YIFC9Q5GhK7EZBZ0ef+53/Sb3gNYNvuu+8++j//5/9YtJD71PHPx3n2fCuk0TAKBEAABEAABHpMoPRasseqUBAEQAAEQAAECkVAnCeyRWOl+WVcBj5BoKYIFHqJAJmNOHfuETRlyhQHXc9L/hAnqd/OPvtsGjt2rEV1X97h6U9uv7MCmagl+30HuZnk9tjbmtGAaP8QyM5iltnPvdlGjBhB73jHsTR06FBVIzNY77rrrt6ozE9ZcazqrwgyFGYO9vxYgZaCAAiAAAiAQJUJuAtSe9QRI2aVcUM9CIAACIBALgm4B371JpPbz6Nl5M/JpUFodGEJFHoGq/Ta7Nmz6dJLL9XZiStXrnQd6a9g3/nOd9J5551Hw4YNCx0sjrDRo0fToOZB1DJ0iJ67bewAbeSzWhyh8ieP9Ms53dmPJ14ici/JFwJX7OsWPaKzdetW2mGHHUL9CNQGgb5weu80aRINGTJE1/gVp/3SpUtrw7hqt0IPc3ugQ8+UatcI/SAAAiAAAiCQOwLJM1Xu4tDdQObODDQYBEAABEAABKpKgF0n7H8RX4yvxvZVrRXKQaD7BArvYJU1L48//nh1tN57zz308F/+QmO3H0tzDp1DhxxyCI0aNSpFTZytF198MZ1//vnh8XBzqopgHE4V7GbE9Mh+woQJ3SwN8aoR6EN/4LK/L6NNmzZxU90t1OrVq6vW7FpQnKBzPybouOdGw/DDQi20E20AARAAARAAgVog4O4PZfSUjWP6y72L4RMEQAAEQAAEQCAhIGNmcr+ZpCMEArVEoPAOVoEtTtbdd9+ddtttNzrT0+/oxVKSLi836s0Ljmqpg9GW7hGwL22dpdyLqSTLli2jW265RWevSguaGppo8uTJ3WtMzqTdjaI02s9etYTOpnrnzEY0FwRAAARAAAT6loANljJ6JuG+rQPaQAAEQAAEQCCHBNy8HXd3KS8XFxMwVOawI+unyXXhYLXu7MipavnV2G/lJQBkLdiBqLsa9uRZ59///neyZSJk5rBs0i/igH/ZP75vjx0sXryYHn/8ce07k41ttxnIliZ6tmzZQuJYfeKJJ+iqq66iJUuWWDY18jGQeuFayClQwHundRcPfNHSGAWyFqaAAAiAAAiAQO8I2K+6XotbXqp3KlEaBEAABEAABApDINxTcoD/h2EzBApjKQwpCIG6crD2V589/fTT9Prrr5M49F5++WVdhmDixIm6FIDMoh0+fHh/NQX1RAS+9a1v0ec///koJR1saGjkJSDa2OHaoGv2pnO7H4u/9wcPHkxvecvB3VeSpxIyALLR7Txj1dku6xVLPE9GoK0gAAIgAAIg0D8ESn9/xIDZP+RRCwiAAAiAQD4IuKX27J7S3vKBWaz56L16bCUcrGV6XdbNfOONN0heTJTdxo0bR/IirHLbmjVr6Oqrr6bvfe97JDMgW1tbU2Ljx4+nY445hj7wgQ/QW9/61lQeItUnINw7c7CKc1W2trbkBid2kloLkzQJ+a30Lin1vX/66afTgQceaNLF3Su65CFHOFeL29WwDARAAARAoHcEdMjUiwp/ZRFdVvROM0qDAAiAAAiAQBEIyEjJTla7PS9zz10EK2FDcQiU9xQWx74eWXLHwoX0la9+VR8PFwX2eP/GjRvp7LPPpg9+8IMkMxLjTR4N//CHP0x33HFHnJwKL1++XJ2vv/rVr+iyyy7Tl2+Z7pQgIlUhsPPOO9MB++9Pf3nkkaDf39L4eDomifZdHgpImv2EFueWE/SFTj/9A/SFL3whVlHwMHPE4FfwPoZ5IAACIAACvSVglxNufk5vtaE8CIAACIAACBSRQHSjHQWLaClsyj8BOFgzfShrpv7hj3+kP//5z5kcFx0xYkSJc1VyPve5z5U4V9VdJx+y8ZeBue+W8nqf4qTdZZdd6J/+6Z9cPj77hcDJp5yScrDG39HhRoeXCGiPZrGWNCz8hFaSowkjR46kGdOn07777adO97322ovkuKmfjana8R4d//VjPywFARAAARAAga4JyJI6MmDikceuWUECBEAABECgDgl4B4rfJQBKEpIshEBgIAnAwZqh/9prr9Fzzz0XpfLZ62fj7bvvvmUf87755pvpxhtv1DIl57o5mjg3dubJcgJnnHEGPfjgg2UdtlEDEOxDAh/9v/+XPnLOOSmNMov4uuuu0/7Q/mPn6p133knz5s3TF2DFL7mSsLwUK04TZZYuYXmpmW0iWzdbcqokJkfHf5KIEAiAAAiAAAiAgM5clQsPuUJ0/wEFBEAABEAABEDACHgHitvZzSa/74PvyX2WSWIPAjVBAA7WTDeUOliTK97DDz+c3wS/R6qEvJX+pptuonXr1ml6fKJbWGYmqONOvwZcSOazPvroo/TYY4+VddqmKkGkzwiIMzW7vIMoN6eo9dmgQYOopaWlz+qtC0XJqaLmGkvb1wUDGAkCIAACIAACFRLQ8TEaJOVJGmwgAAIgAAIgAAJGwHwnEucBk/838OQ3ewLEpLAHgVohUEfT6ypDvnbtWpK1UrObPOJd7nH+p59+mn75y186cT7/3bVx9gpZfmFJrqBdrot/6UtfylaFeA0QkBmp2VmqNdCs2m5C5vh3PyvUdpPROhAAARAAARAYCALZK8WBaAPqBAEQAAEQAIHaJpD4UKydbrW+0nTLxx4EBpIAHKwZ+lu2bKH169cnqf4KWBys48ePT9I5JLI//elPSV5+pWJ8nutyWpEzNXG52qV07Goluv322+nVV19N6UWk/wnYDNYhQ4Zo5UOHDg0vN+v/1uS0xuj4F+dqcqTbsZ9Tu9BsEAABEAABEOhjAuHWMB4iQ2IfVwZ1IAACIAACIJB3AjxeYgJP3jux+O3HEgGZPt60aVMqxV6GLg7WCRMmpPLEsfqDH/xA0/SaWC6S7eI4hF2COJtCUqSlra2NbrnlFjonsy5oJIJgPxD453/+Z/rFL36hSwXIzFVZbxdbzwm024mjKuyk6Lk+lAQBEAABEACBQhKIh0i5UMQGAiAAAiAAAiBQQsDdXtqgWc6zUlIECSDQ7wTgYM0gl5dPxZt/wSvJzMbR220XZ9FDDz0UlhPQU9wLu7ATPfvss+lDH/oQnXfeeWEpgezXwTPPPJPSi0j/E5g0aRLJH7beEOAjm53T8fHvZnDbQNgb3SgLAiAAAiAAAsUhYNeCti+OZbAEBEAABEAABPqegPllnGbcX/Y9YWjsCwJwsGYoDhs2LJ3iz11dOsC/yMoEvvGNb2hQH4fWn1ScsJ3uCxYsoAsuuIB22GEHuuOOO2j77bfX5Qcs3/QsWbLEgtgPEIGtW7fqS8dWrVpFjY2NJPFDDz2USo6HCtq3efNmeuGFF/TFZ6JLZikfdNBBFZTMuYiftZo+viWG28ec9yyaDwIgAAIg0McE2uWNVrLeO+u1UdKtK9fHFUEdCIAACIAACOSVgA2Q0v7oJjNOzqtpaHcxCWAN1ky/jho1KqTIiWvbq68up8cefdSi9OKLL9LChQv1qlgehxbfkrtEdiKi5+STT1bnqqTIG+mPO+44l2mK/R4OVodlID9fe+01dYIeeeSRNG/ePDr66KPp29/6Vo+a9NJLL9HRRx1Fb37zm+nAAw/UvR4rPdKWn0INbgFivVGM34Qsq7FiAwEQAAEQAAEQiAhE3lQ/fPLa71E+giAAAiAAAiBQ7wSi+0tDob9PWgR7EKgxAnCwZjpEZizKTFPZ5Hy2a93Vq9fQjT/6ET311FM6O/Gd73yXKym+I/MfibAvMHXqziTresbbwQcf7KJ2Je3LLVu2LBZDeAAI3H333TyRRDrEdaDMOj77Q2f3qCUzZszgsh9Klf3yl7+SihcxovNwGJ+eEnaMs6F2ehTRZtgEAiAAAiAAAj0h4C4Z/UWjDZS274lClAEBEAABEACBwhFwA2Psl2mP7jMLZy4Myj0BOFgzXSgO1rFjx7pUPp/ja90777yT3n3iu+mwww6jJ5543MnE18bioOP/8lj4AQfsTxMnTkxpHz58uI8nWqV465YtKTlE+p/Aj2//savUTUXWpR2GDbP+6l57mpqa6L3vfW94UZb8yvbww3+mxx57rHuK8igdDm2e1e3PjTyagTaDAAiAAAiAQDUJyHCpL4TkPcbLapKGbhAAARAAgbwSCLeTPGiG28wolFe70O7iEoCDNdO38mj/TjtNTlLDWe2Snnr6KXrllVd4nqPPsDPdRyV9CC8HcCI7YrNbdikAnd7O5ZoHDc6KIt7PBF5c/KKrkfuzublZlwnoTRNmzpypSwOIDvW788f999/fG5U5KRvODLU7J41GM0EABEAABECg3wnY0jpynaBb5pqz3xuECkEABEAABECghgjI8BiGxhCooQaiKSCQIQAHawbI5MmT9eVGkqznsE1BDye0C+isAw2yQ0n2Xk4ek95hxx3pHe84JqOZ6Iknn4jSeGVK+cbgv3Hj3JIEUSaC/Uzg5ZdfDjWKc3TIkCEh3tPAzF1nUsuQFi7Ofc0vuso62Huqt7bL8Rlg5wrvLVjbbUbrQAAEQAAEQKD/CcTXklK7+Vn7vyWoEQRAAARAAARqk4DcW+o9pd1k4gazNjsKrVICcLCWORDmzj2CJk+Z7C90+VFnkUnObI5wineOSkCC8Xn+sY99TEqUbE88HjtYuZQvtCM7ZLENLAF5yZVtU6ZM0ZeSWbyn+xnTZ9CwocO4eDttqwMHq81djV/4JmdPfG70lCXKgQAIgAAIgECxCKSvJcU2jJfF6mFYAwIgAAIg0AcE2G0i/hb51HEy+GX6QDdUgEAfE4CDtQzQOXPm0D6z93E54WpXzmwf8et0hqJ60rvTfrsxY+gjH/lIyLLAunXr6Nlnn7Wo27siNHFCeq3WtBBi/UFgJC8NYdvy5cuptbXVoj3ey9q67sVZRG3sYBW9Rd7cS67shNGTgs11P0AU2W7YBgIgAAIgAALdJpC9lhQF/rqw27pQAARAAARAAAQKSCCsUS63mHabqYNliBTQapiUZwJwsJbpPXlJ1Qc/8AEaP36CXuwm17sulFwT+9l54cwnuvSr5d8Wf/HFF6dqir8SZu8zO5WHSP8TmDB+fKh00aJFtH79+hDvaeC5v/5V9eh4wMfIiBEjeqoqF+X0mOZ1L5LzhZsdH+i5sAKNBAEQAAEQAIHqEyi5lqx+lagBBEAABEAABHJFQJZUdPeY/MnhcJ8ZFi/PlTlobB0QgIO1g04+/oQT6Gtfu4y23750fdRwYvMprmF/gp977rl0+ukfKNEozrqrrroqle50OO/Tsccem8pDpP8JTJs2LVS6bdu20tnGIbfywOIXXtCZsNLXjexg3WGHHSovnEPJ5LyQxrtjOxkFc2gQmgwCIAACIAACVSKQjJnJD5P2oFSVqoRaEAABEAABEMgdATdeJqNm7gxAg+uKABysnXT3SSedRNdffz11tUbq8OHD6X/OO48uuOCCstq+9rWv0euvv14mr51Gjx5Ns2djBmsZOP2adOSRR6bq+8R5n6C1a9em0roTeeyxx+j399+vRWSCc2NTE+26667dUZFL2WTFVQyCuexANBoEQAAEQKCfCfDI6X+TxI+S/Ywe1YEACIAACOSEAA+UNljamJmTlqOZ9UUADtYu+vvoo4+m+9lRdulll9Jb3vKW4Gwdz4+UH3bY4fTRj36U7r77bvrc5z9PI0eOLKvtxz/+cdl0STyBZ8piG3gCb3/720MjxEm46MlFdNppp4W07gTEMXvJJZfQ888/74qxr7G5eRDNnze/O2pyKZvMw+HmyzhoM1lzaQ0aDQIgAAIgAALVJsAXCf43SdwzVps19IMACIAACOSTgIyVfrDE4x757MI6aXVzndjZKzNnzpxJ5/7HufTvH/53fWmRvLiogX9BkT9Zr7W5uXOMf/jDH8LLjuKGiJ6uysbyCFePwOTJk0mcrD/72c/cfQ7f5SxcuJD++/9n7zsAq6ru/78vOyGDFTaEsAVEZSoORLRW68TaOqpVu9S2Wmvrr+K/WuvqsEPbqtXWVutu66p11YUgLkABGQIBAoSElYRsst7/8z3nnrvy3stLyHzveyDv3nvumZ+zP/d7vufHN9Cvf/2rNkX8l7/8hZ544gnbDw8FQ4cOpekzptt2MX3DxKo1BqphkFeM1ngY0/mWzAkCgoAgIAgIAlEi4B4aZYiMEjRxJggIAoKAIBCXCLDwquFX1cLSPYjGJSKS6Z6KgEiwRlkyTKSmpKRQamoqpaWlqSs/R0OQGj/sz/2Xnp5OycnJUaZAnHUmAnwA1fXXX29Fweygvr377l/TYZMm0TvvvEP19fVap6rTuyvivLGxUb1bvXo1pJyPVlLNWnCTe35t2krSGn+98qrgM3l3sOyVeZFECwKCgCAgCAgCnYCAFsAxY6W5dkJEEqQgIAgIAoKAINBbEVDDY8AiV/FgqQmQXZK9tUBjP92RRS9jP//tziEfhFRdXaMIt4aGempubrbDYjJ2yJAh9rPc9A4E5syZQ9f94Af0O+jMdUyANnz+Oc2fP59OO+00YjcTJ06k/Px85aS4uFipAlixYgU99dRTjjdF0GqWltVMLFy40HkXF3eQ8kY+1a8SZ42LTEsmBQFBQBAQBASB6BDAFAFLRut7rp4vROdRXMUkAgGWefHVA9cH/ZjMs2RKEPAjYJFnqi34moPfqTzHCQKqHujKoMZMq17wTmAxgkBPREAI1jaUCksqrly5kjZu3Egb1m+gHUU7qQr6NlnnZkNDgx1SdnY2sd7VRBxsJKb3IJCRkUGLbrqJinYV0TPP/FMl3Fn8EL3yyivqry05Ou644+jxxx9vi5cYcMtfF61FIw9+Mv7FQJlKFgQBQUAQEAQ6GgE9PPLnSDaGbNVP8hs/COytPUj/3rKTKuoblHAWT50unTSahmSko1rIJCp+akIc59Ta/72xrIJqsN4el5NFmakpBAmmOAZFsu5HgHtDLcDjfyPPgkDPQUAI1ijLgvVxPvnkk7RixXLasmWr2hoezms2DrsyX1X4yrpaxfQOBAYOHEj33HMv5eWNhu7VX4fkBt0du7k3V3evz1Krd999N/Xv3793ZL6DUun+uthBQUowgoAgIAgIAoJA7CGgJg8uAo2fxRwaAikdoHqrCaQOdqp1icEaobCymn70/idU3dBoRzlrUH8a0idDCFYbEbmJZQRqUffvWrmOnt+2kxqbgzQyM4N+O3c6TRmQI20glgs+yrzZ6+wo3YszQaA7ERCCtRX0eev/5ZdfTs8995ySVDXOvQ3d9YTb5JRUm2BlcvWBBx4AKbvF+gjdDNIOFBTC7devLy1adJM6KMuEK9fuR4DVO9x2221KLcDtt99OfEiZ2yi9afrHtjYb4pmRZQnmW265ha644grq27ev7SYublD/g8BGtwj+uCDzorgod8mkICAICAKCQJsR8GvQCWjFrG0ORzxoBJiY+d4b71OlIiot4lqJPGHerQQerDmKAh4TFHu3jZ618Jy9DsTqxeNG0VmjR1BSAtt3vuF407DrzU2w8vxJjCAQDwhwE11SspduW7HWzu56SLJe/vYH9NGFXyKCZLeY+EbA6sYVl2KvueMbEsl9D0ZACNYIhVNeXk6zZs2igi0FIEStiZrlXj3p+RhsXO/UresZbz/44AO1TVzv8nHesR7XCy64kMaNGxchFfKqOxDgg8lYd+qJJ55Iy5cvp4ceeoheffVV2rt3r1Xcuhyd0gwq/awstXrllVcSH5rFunjjzihAnG2Ous7HHQqS4d6OAPftSZ2o4oXHE5aQEiMICAJxjYAaMu25JEPhzCriGpj2ZB6MJG8t/lfBdio72H5CphkTl7HZmfSlvGGURJ04DvjyKAe2+ACRx7hBgD9+fLK3XOfX1R9+sq+MgmjLodQTxw04klF8CEOlwNBo8yj+L5OCkSDQwxAQgjVMgdTV1dEXTv2COsAojBNrHoxGb76Ec+vngcFnvn/NNfQU1AscxCn0jtEOH3roQfrlL3/lWMtdj0GAJQrS09Pp+OOPV3+csD179tCuXbtAtO6hqqpqJYWcmzuIJk2aJDp3ufK7Bj2u4Xqp6Nz1mMKVhAgC4RBAdW3aspeqr/4rBdN5qynX39YM13SrnqPfCIBA1YJoxi/PDHHP0lJNQcpcOIuSvr2A6KCzHbS1GOS9ICAIxCgCaqA0/UeM5rGrsgUs+fsV7xXTnbACV8VuIYx7586bLMfeqPnyvu/MJ06nk9bOjEnCFgS6AoF67NRsxF9KQmKrkuC83hqUAX2rbFzNIAvqPgIpoCpcqjO0I/mNKwTArDq9M+400xpXEEhmexcCQrCGKa8f/ehHtPyjj8O8xfTMat9G36S6sms1MHA34JgZ06fTrDmzaemSpbA0XYQeQR555FEhWB2oevzdoEGDiP/EhEIAddrUfyaSdBWHQ/smlCexEwR6GALooyuqqWZvRaelK3X7fkqGhLu0jE6DWAIWBHoFAp65JKdYOoVDKjcbPtzY83IrRPtdWJAdF4eUiHZ55tR6jTOH8trLkyDQUxFowteN7dU1tOVAFXSpFtEHJfvp57On0mmjh0c8rIpXxguGDaGp/XNoE/w2BZspMzmZfjpjiv5i0lMzLOnqMgSc/tG567LIJSJBoI0ICMEaAjDe0v/iiy+2mOywUzMZZj2TPBM231S8zd37xP5++tOf0qlfOFX5MRQrX3fv3k2LFy+mefPmsTMxgkAMIID6j/+qnvMPm5ZNQtvLryDQIxEwFbf9iVP1P4z3BAwk0iTCgCPWgkAcIRB5LhlHQHRQVt09t+ljjxuSS3OGDIBkK8/YHdpVu9Ub8/XpCPpdPdS3nDxiCKTuulbNkzvtDIf/uYMgkmAEgc5BAPqKd1TW0LmvLqFV+/R2/1ToFa6KUvp0VHYGvXDa8fTfwmLoUG6gw3G41ZljRnbdYXOdg4qE2oEIcJ9o+vUODFaCEgQ6HAEhWENA+sorr9COHTs8b2xi1bY1Tdxc7Rchb05ecLJtb3yY6zvvvCMEq42O3MQKAqp+m0oeK5mSfMQFAgFL/6p7gctV2f3MQISr3m537nvjPpCEhbuIJ8VFXZJMCgKRETC9grlGdi1vIyMQCsWFIGmugxQdYbty1IZ1ZLfFfdQBt+7QrDdaDDitexUXgkA3IhCg8oP19HlZpZ2GZJCu/EE5KoPGO6ZvFn0fUqxqtgUpVtFVHxVycePI3b/b/WTc5F4y2psQEILVV1olJSX04Ycf+mxda2G0bj4A6YwzzqDc3Fz65z//Sfv379fuMYawCkoeGPzjCR94xCfK88FZPNRYztRN8a5i7V9+eywC+/bto4KCAqWTd/v27dSAr6tcnueffz4NHTq0x6a7qxOm67b5dSRFujodEp8g0G4EQHwmjBtMAx//HrpyS4LJdNrmisADfVKo6rZnqXb5Fu7yVV+eetgwyr7mNAr2y7S2tXFPj5f8no3q+IOUyO9F/6rGRH4FgThFwNWd2Aj45472C7lpGwIucBtwoKzS4dhNhGm0CVfDAxybb2/mGq1/cScIdDcC3H8pyW9uc+0xSoFyO/22Jz7x02sRkP6x1xZdXCRcCFZfMTPB+tlnnzm2GCwCUAfAygDYXHXVVXTzzTfjcKN+VFNTQ0y2vfzyy2Z9bbly6590gho3bpw6kd5MoizHVLSryHEkdz0GgS1bttC1115L70CFQzMmC834mtoMqYZmTNL5AITRo0fTcccdJwSrVWI8sdIDHtdwq83AztTzHlOwkhBBoDUEUpMpadKwiHU3kJVOiZnpmjy1OvWEjFRKHjuEmgcagjVCRDI7jACOvBIEYh8Bo2LKnkDGfpY7PYc85VAGfbKZfrRBbtX47pYrz6E8xv/seSkPgkBPRMC0OusqdbgnFlLvThPqlM3LmOrWu3MkqY9BBLpWwVAvALCyspJKdpdYKUXLxSQtqMVS6dJLL6Xf/OY3NGTIECXFmgwF3CyZykatr/nHGkz4RES/YULOGPfboiIhWA0uPeHKJPvVV19NY8eOpZdeeomqUSdqamuorraOGurrqbGxkZpAuPKf/6RZfnf//ffT3Llz6aSTTqJjjz2WHnnkkZ6QrU5Pg+KLrIrN9Koy6uKu7Z2eDIlAEOgYBKwqHD4wOOAtbKbTxx23AXV6dXhP8kYQEAQEAQsBq5PBRUbJjqoUjKlG00LXPHZUBGHDacIAwHpe22v8Xq2lR7uC43TwX/tT0zJaDovD5Hzif481Ju+dlUCDAV87yxisOY7Oi8VJPcdxqPVXh6ZT610D4E2MdXBdXT5OScXpnV1/cAPwDS/DRKsYQaAnIiASrL5SqQKZ1tRotidY8gVozLwN/OuXXUbp6ZBYchmWZrQNt3M9tthW7huWeDXGOGMvu0RFgIGl26+vv/46fe1rX6O9e/eqtNhFahWYKbdwCWXCnaWb33//fdvJ2rVr6aKLLiIm5GPeGJxs4DjHraEW86hIBmMUgaD6kIb67anvMZrZaLLFOBgwpNlHg5i4EQQUAtJcOqYihJIKPhSiskWquI+D6piDUBNVUlNHtfjQXoc1A99vraym7KRkGgs9ktkpieoU9OF9sNOBBTFaJeOQctV/umL0P7te2bfsCX8VdQdVGmqQlr21B2lbZRWsAzQ4PZUGYd2SnZJEubjvn5oSvU5M+Gf1CnsQ3h4IGHAe+e8g7PqnpdKwjHQajF0bubjvm57WaTpruW1wnjheNvzMcaazrnQLo314z2nbjXTurKqB22aa1DcbeU+lPslJNDIzQ/lt8w/ji7Lj/DMOuxFHcU0tVdQ3UA6wHJqRRkOAA6cnF/fKtFrWIVKBeGpwGBTHs7e2HnmpQV4OIuogDUPahyAfHM8QxMH1idee++vqqc7ChJOZjTVGdkor6wzGC/W3DukvQVxcd7nOMHbbq6pVnsZmZVIW6ksmcBuBuJXAUJg8MQG8s7pWFUMK0rUL9+zUOgcahDyRKhuUSQPrNbYM62XluqjK0LJjgpfLucFaV3M5D0G9SknUgkzVwKcMQi4mKRxGDvKbibS2ZZnBdaP04EFq5MTBcP6ykdeI2CFvtcCM68De2lraVcN1oVb5H4iyGZaeQYPQFlR9Q766S3+zSlAs/uiiQs4cXoaz2TWfH2IRUMlTZyMgBKsP4QoQrG5jBgkmzfJGjXK/UvdGglU9GMd48Es28nvW4cmGxzfTV/D14ME6thbTzQhs2LCBfvSjHyly1Zw0a8qJk8Z1oKKiQkmuhksq14cvfvGLdM4559Dzzz+vyvrAgQN0zz33qLDD+Ysle1W/beDctT2Wcil5EQR0X676CjPjbwsoybw45PZhGSxy1GqEH3EwBOF9ICGREjCpb8JJvIFEyIQcbHDcsF8OwxhOQyMWMNGmhf3zYVvuNDQgDdH653g5+bzI5T/4TajGgrC+kQKpSRTAYqMZ4Qd5UcXhihEEBIGQCHAzMkNmW5pfyMDi3JKxVAaAunE11od0BdFTBVLrw9376eXtu+j1HSWKUCrFwT5+k4E+cXxOFl00fjRdNmk0DeoDgs8tkOH3wKk1laDFuzAWmG/uA6H1Xsleem5rEb26vVgRjKFcM/l27NCBSMsYOmf0cJu0CuVW2WEM+rz0AD21eQe9gnA/3L0vpNNhIJDnDRtEF4/PowUjBlMaiCp7HAvpo+2WTSDCfvDeJ7S2rJySkWcm2n5zzFF0+uhhVIf7JzYV0r+37lT590uVZiHf43My6RuHjcHfWEpV6XOIvoipQXnvBjH474Id9DzwfWfXHpv8c/vLAsl37JCBdMHYPDoTaerfB0Sri0x0u21xb1XSt3fupn9v2UFv7Cyhz8u961DjZ86gAXR2/ghVn7JTUujGD1fTyr2l2EmJITiQSJdOzKOrj5iEeUCY8RZ18gCI1PdL9qNMd9H/ilB/q2rpAOYYfsPk6gTU369PyqeLJ4ymAWEIdCZmT/vPYkrHB4UE1OH9IPr5o4OpyzXY1XfXJ+voLxu2wIpxxzwGnVx6UhL9dMYUOjUPqpisdsGE8XfeXU7b8aEiEfWPCfWH5s2ho4cOUPOU/23dTXevWk+1mOfwtAWzIrpg3Ci6DuFga6E/C6GfUaZLgfXPV3yGeoR0Ihwmhr+J+nHF1PEtseOIkN4Pi/fSk5u305vw+1lpeciwub0vGDFEtQWuDwGex0mHHhKrQ7F0US1cfKaqHUqQ4lcQ6HAEhGD1QZqaan2BhL1quNaEh78W8vZvv7GJVLdjvyM8s//NmzerN/YcSvnBD1/FdCsCLF1844030po1azzpSEtLo29+85t09NHHUF7eKLrsssuoYEtBxB6dD7/6BvwsWbLEPgDtD3/4A333u99tIQHtiSyGHqw5CXJk1/YYyp1kRRDQCNhzZ9WXtwEVeGx+fxM1l1Ur6Ql8taHE6fkQy8lWpGliBaSE3lxDBzfvpubSKkVUJg/OoYxzZ0OkAyfsolkllEMi5OPNShopiAVoIDONAtNGEfVJbT0h3EARd/PaHQSxDLV4CWLxlXhkHr4k9YlugcwEcCPy8cFmddBXQ3EZBarrQLA2UQASJUywpowaQMlH5FHg2IkU4AVnuIVf6ykWF4JAzCKgRknTh/BVTLsRsLEEjqZ/VgvydodoeUSf+dq2Irrvs820tGQflYJI8hhVfqYQSUkFrtpfTqv2f0ovFRbRXUcfQceCiDRkksev78HMn0z6fa/1I0ghJkBv/GCVIsvqIhF6SFYFJG6ZKGVpwFNAhKYkQsounIGbR9dtoV98uo7Wl1Z4XDk51NYssfgkCM4XQUB+e8pYumXmVCUFaYPv8d2+B5ZSY1J7S4VDPO7CnH0/pAm/t3QFPY34VblbwbvTWIl8r9xXRiuXrFDldtecaZQHIixSOXBYARCzb4G0vWX5Z7QU5JrHqAicWCpBUDK5/dqOYjo7bwTdfeyRNLY/xukoxjvmFhd9uIr+tmGrkl5tGQ/b6Lg+3LOf+G9x8R66avI42lheQZ8gb8YcM7g/nLK0ZwiCFZXq2Y3b6GHEs7R4H0hV30cBkx3rWgXiWuG2tIxeQL3/5dFH0szBIDotMlTFCbdMzq4rP2CSYF9NHWaLQhCm/Oc2LDVawhKgHJ9lmFB9H21rLyRrjWFJXqKBas6TA934mw9UKSli8z4NH5+/PXks9WHJ3YgNRvsIgpzldvDuLqdM0/AheGTm1Jb+kcZ6lOFvVm2gP6HdF1U7u1BN/M41QJsOVKq/Z0GUL5oxma45fDyy58qg41ju2omAqp5WY+c65mn47QxTvAkCnYGAEKw+VLOwNcIYnpTx1iJuy8XFJbR69WqaOHGiee25Kneu1q62VLhc3HfffY7ko+kUVCcRpOxMLKrFdCsCu3btUhKnJhE8oTvllFOUzl0+nMyohsjKwsTM6tyN21DXk+bPpzmz59DLr7ysXu/Zs4dWrlypdLKGch8LdkqSDw1BzXFcnxhNdY+FPEoeBAE3ArpuW4MEv8AYEFV9x2K4+o+vUe3WPZBMhZRnTT0NuOU8SjxjOgVW7aCyX75AByGt0QR7Y+qz0ylj1jii4f2UVfPnxVR6x3OIEv6x6Ekd2pcy77yAEsYMbrlQMIGYK+JsLiihA79/hZr2YdGKRAdAzPa/aSEFToAEDKRQwxru/9KSqXn1dqq+9xU6uKmYmkD2MsnrN7WIJ5CTQSmHDaN+15xGzVNHgnlgQtfvUp4FgfhDQDcD1lbo9CHSNDqgHnBXhD/Gkm87CtOXC4vpRZBNbNR8R4WuHq15Icemjfv9EhB0X3/zQ9p88RnmdYir4zfomj+FcIjIQU5BsvLKdz+md4r2hHTisXSCplTukz0vfQ+QXPzlR2voVhCLtRZBaHBkl66glEde9vCcrxoCKL9b9TnsAnTbrKlqW75y0EE/7s0aOsgAnfPqkpbkJ1560+iknongMuwCeeXs+SAKwycsALLu6fUFdN17K6kYHw2VMRnlBxWBNxZljXJ7fttORWb/7aQ5NCoLHysjkX4gyS/73zL6B4jPkMaOwr5Rlfk1EIQFIBpZkteYZEhLJily1eXWvLSu/9qyk/5buEs9ubOjLIw3c2VLC7q3ILX5jbc/pFUXnK6cun/YSSjTWh1m4U7/OpnDSuUXLmO7wRxn/vDBNK1/P/pfTbGVtABtBun+Acj3BaOGRsaaw0TQ2yqqaQkkvq1HVZST+/WlUyDV7SfEmxDndZCc/vO6zUo/rcFDeW7xYwEHYFnNw/Xwl4ry/c6UccpbC+di0S4E3LxMa3WsXRGIJ0GggxAQgtUHJEsspmLrxUH+uof+0ow1Bw6U07333gtJxqNp5EgsEi1jOn/lLsJA+vOf/9x4QaA8gJiQ8W0uF1/nxHQrAi//978qfjPpGDFiBD399NNKLYA7YbbEsrFkDyFMRkYGjRg5Qr3RpR2kLQVbYppgdS8SuX4bLJ2aHgIosRIEejsC7u6cx4BoKjzcNFfUUjO21NveQWo2F5VR2dV/oYYqR4JDwcOOsPAIIHwTPG/Fb6p03DXzPasIiMYgvMDBJpWGxkqtRyyBJaAiEasm3D4p1PTwO7T3t/h45JZmUe/t3KgnVg/AEri1yzZS/boiGnDr+ZRw0hTCvk4TmlwFgbhFQLVl6yu+3XJMA49bVA4t44yjYTQMlBGm5tFHhkDc289NT7wApA9vVT8M+j7TQF5+VlZBr4DEYik5tykAEcTbkm+GJCu5iDHHDRPtxui7MNNL6OpsoB+9/4mXXEXGmTq9AioATgPZ1Bck4XaQsLzd/GNIPb5ZtFsHrtYfJh7fFbsYHltbQD+BRCUnRtVJ/DB+rGeSt8DPGtRf6eZk6dzHQAxuqajyBPJ7kKxfHTuS5rC0Y0caX7q/D4lU1qVpDOtb/VLeUDpmcC5Vgex9r2QPPbulSG1ZN274+sHuvfTCpu10NraW886RFgZluBRld82SlV6JUoCQDpb33NEj6PhhuTQCKh/WQYL4PyhrR8JVl9tbwPqxzwtp0SyMdeEqH4jsG5CHUORqMtIwf+hgxDOQpoL8K4KU8PtQ0fBEASR1rQ+ZmyEtqeq6lQGOOeIBm/76Cw+sw/QLI4fQ6aOGKTUKrH5hDcr1P5C4fstH3K8rO0C//WQ9/XAm8mTqL8Jg1RODoRKhD7b8KxUBUJdRDulubh9mDcD6elnfqmkzDAnrXh2Qit02nHDL8C18mUd15e7RNpBWPTN/GAjSPUp3LLtmCer3gI0iWG2H4W4CtAHt4SMQsmxM0N+CeoAWBom/e+V6um/tJueV5SE/OxN1fBRNz+1H9aiDLOn76OdbaB9UHJhAWZ/s9SDoWUUI6z8Wc2gImL6I8TXl5r47tNDFtyDQ8QhIq/dh2r9/f8ofM4ZYH6ffLF26VJ0uz6fE86FXTK7ahJur9buHB5ZcPP8rX6F91qFJesZiugfliSZPnuyPSp67GIHnX3xBxWjmQk888UQLctVJki43jwfnpX3Hkq+pmEAcrD9IzRiEC7cX2u9i8saaTbnQiclsSqYEAQ8C6M5NneeragYeB5EfzGjAfUT1Fffb5CqHpQLDjVpUwSEv8JW9K0h+5jB48WLCcr0Of+sLSMvehnfObxKxwKyD1Gvpg296HKqgWJ8rFmisdyzYhJQgPyxZqww/QiVB6e3P0QBI4gaOHN1CWsQToDwIAvGCgNVo7e/uvnYZLzB0VD4VnPhR/aL60ffhwmf3UUEOR0agIh1Ez7cgmXbrzMOpL1ShuD80zYcOxu9Bl+PvV39ON7z/qXOQDuL545pNeDcOB0RBFZmZbIZLGOzDOSnBATuPbyxUPq0sEh+mtfL8L7bU9Wplbt2+A3Tdsk9wIFCynQ9P1Oi3C/YfoG8v/kgPKBw/O8DPeSBMH51/NGVgi7ZJ1EIQlLfOPpyugGTjI+u3aIFQxMVrol99up4eW3CM5wAjT1zteFBpgT+T37pmTY6mgahj/aq/P3Y6VIFDF7gF2tdhd83UcrrgjfdoLYhQY8ohwfrQhgLoMoXEot9g8C6FTtEfL/vUJldNfDNBLD960tF02IC+dhxnIIwbQDj+ZsU6SPyuJVZHYMwzBdtp4dgRNKkfdij6CxLj5PKivfRrEJbWtNl4o6lQLfDGmfNpcFYGD/i2/XcTJtJt5YfTmS+/a+eH37olpVuRTbbDygQZejW2r7MO1EyQn+76uwCE6/emTaDbl6+jO/BBoNGaVfCBUA+s3ayw5sO9TJ6GZaZTyeULddjI1/o9pXT0v1+HFC98IoGsA/dv82fTWdDR645HeeD8mTmClTrOk9t4nkGIXzguj+4A1upwL6vTXAaVB8X4mMAHjkUytUgT6551GyZ6WbWFR3oVbeH9Xfv0hwY4dpfR96eNp3uPm2VVRJ26i6Gn9vbZ0+jc196l17aXWMHj0DLMgW7+eDX9/viZLfLpToPct46AQtpTGbQfd/1vPRRxIQh0HQJCsPqwZsnFGTNmOgSrGV3hjidXL730Ei1+ZzHddvttNGvWLHXokQrCav3c2JswCHzyCRSy4/T42++4gwqge1UvXuHI1UEErO3UX/rSl3ypkMeuRuCjDzCptAzXgfz8fPPou6IkzTZ43xv/I4fBkqwHcVplM+pEYWGh30lsPWM2Zddz5Mw/p4ytzEpuBAHMmQGCGiJc44Sri48MEftRRnuue/Yjqtuj9d0lQOIhcVg/Shs7mBKxxb6+cD81lkNSyCcJYQeBcAJYbLifrcDDXprZsctDkPs1PLusPH4DWIgcfH4Flf7tHfcwpgjVtAnDKf2Uwylp6ggKDMqmhMK9VPfRZqp8Yy017Tmg3SPgRtxXv7iCMqdAup9XLWIEgThHgFut+jRidRxR9x9xjltr2bcJazjcBOnRt6EfszHEpISt3F0ROBEai0OR+GAkrwmobe+zIZn5+EnH0LiBINqasEU7hBQkh3cVCNhV+8rpkc+3WsEEcNZfE30KovOkUenw17Kko+0RQx049erpJ+IUcw7XJ5VpRTN5YA69ds4CPTHzu+EUghy7ZulKJRlo10lY3wQS7nboLVWLFzcZZmH58KnHKUnEu0GqmoHhWWxF/+SIcprLhxO1zCbH1mbjYMN3CBT/WQLzdpC814PopkaQm770TR3cj/6OrfrnvbYUByc5+jPXgkjmg56OgSSqxw/Cexhk8UeQ+DWGZ7ULRgyiZ089nrLTQSxyBTFG5Q2SipBKZuL6ysUf6zdI4qr9ZfQypFu5HiW6Kxi7AIF33bKVyq27Si4cM5IeAYmbyeO8Ox52iTJjycnVXzmNvvr6MvrXlu3aP4t4qnTg4oCk3nl/AorsPAF6gJ88eS4N64v6zeeKhKgLSagLPzpyIvS7ltoqMTgs1su6HhLaRw8Fbu6Em7QiHfUoAys5Knru2xqYSGU37vLxJs5+4vWV23iyhDgHAs8Thw+ip3HglMn4Mmz5Z/28Q/GRwZMud0C4L4e+WD5IjI1Vi+hbh42jBBDOHoIVby95833ljn9MVh8/+Ri6iKVdWXWGO5lwkI4PzK+ecSKd/+pSlM1OvU6E33tWb6LrcPBYXmvqIuzY5CY0Aq5eyRQeHLZRrCB00GIrCHQCAkKw+kBlHZtHHz2HnnjycUtqyGrJuPCXWW7ilVWV9IMf/MD2yWOn0QXCjb0M6gRmz55tv9c3Vm/s7hgsK9b1KaZ7EaiuqbYTMGbsGCV5alv4bsxgy9ZGosHnRD9yWfMfDB9ytmOHHti1TSz+WgtFU8dxdc39YjHDkqc4RwAymx7DXbp73u152eLB6hzYB26rN7BkRYASU5Mo6/ITKePS4ynYH4sgnrzjL7hqOwVH4BALVgPA0qJmaulqby2iiGThSyiPbWETj/iaNxZTxV/fpKB18q5aB0GiKfucmZTxHSzcB/elIC88sJgKghhO+8IRlHziFKq8+yWqg18zRh58Zx1lfPFISpiZr9xGSqK8EwRiGwGMmYZQcDOCsZ3pTs8dd4na6EX5X0Ga8V+05gqQKPefMFOdLm77QR/8LZxCz1J/GSDTIp5ajr41DarGvoQT0p/DQUkV6pR2EE0IQxF9fsLNjsRKOV98/bPbCW8ZN8Y4mzIAhypFIrCUtCAItVAGhNr70LP5MU6kV+FZE7eTWBoXko7KmIj8/rEl/KYZh9ETm7ap7dom6b+DBO/cYcchHy5C0u+3Hc9uQuU4EH3Xz5iKLeuO5KgnSIxHM3Ga+1yoDdhRifHTApVVCOw76KjXUX6Q8CIcxPQSJBzNThHO8lBsf+cDnrJZUtnSSeuJgx+wJf47kFp+aF0BrQCGZt77FKRYL5kwmnKhXsE22P6/bMduEJWWVK0F2BED+9Hvjj2KMllKOFw5ov4kgJy9c87htALk51aoZ9BxcSAGeb6GMLD+0ZGT1McDJlDtbf4hnPKcIxPSoKxy4Q3UixomYuGfpUbVQU9h669VbU0ScFXzilBxhLPzs8QmLOMeJO81h0+wCFZtWQm7ZSDM5wwaiKmR34PxSEpVBqsUYGOq8zVHoH4bgphfQAr6X6jLBUr1BYelXV6F8j0fktxh6wD7hdPrjzyMXgdmus1ry3vWbKTfoj+JiDk7FRMBAbRerk/A2Mwl7SofwZe8EgS6CwH/+rC70tGj4j3nnHPoqCOO0mlCa1bdNfexuFEDtLJwkoyxCEb9wA2GE+tWu9CObSu+YSsrjIULF9KAAR2sq0hHLL9tQKBPpiOtUFVZhY+6PikAOyy7JJWNrSLCfu/cFGwuoJoqTdyqYo8wKXF89eY75NJd//FotZ7enClJuyAQFgFu1/xnuv+wDkO+UD71G75VY0KQ+l57OqV/6yRqhrRMELpYg9DTyodgEQ6KCvAiTw84xoNvvAkZUVSWavJqjUt+DwGQqnWvrqKG7ZZkD9IbRFvPOv1IyrjhTEUEB2uRRiZfebECXa5BbGNNOm4i5Sw6V/ULnFAOvgE6WetfWwVG2XcKtz9SeRYEYh4BbkjIJP9ZnUiYJhjzSHRkBh04NaUWFaYuR3wyud3NuhI2BtJzGdCdGZYAc7nlACZje/gwliqF4TQ1oG/civklz5NaGrgwiweVAbgI48xN2Bkn72GbNPbItww2GhuQfs9D7+Y+EIUqTsTfD9vAv4PT2YdEIXnH28CZfGZj+LHPSstDpz+a9ETp5s8nzEJZhJurW4EA669AnUEfPiXLAqsShPe+WiuvdlwB6KutsPWpmiK4bGI+zYDEZERijcNA2D8GucbGYLAVB1Ed9K8lULee21ZEB6CqQDvWkrgL80foQ7HCkavaNQIP0vi+WXQ1CD82Oi6dWl1nTcqNB+uKlxP7Z2sCUjv0OfA9Ih1HDewPdRaQ2mWDYJlg3ckEpal0+k3LX5MEXM1tS0fhbFrxgXTNRXlMhM5dt/lnwQ510JrbznOPenDfZ5s9VqdAHcLY7CyFqf0Cbeh+qELQRqdlXE4WXTl5HCWzCopWzESUzakIVxkLp7XQaxu6zbcSmLz2IsD1iTH18TJeR/IkCPQMBIRgDVEOvEX80ksvoeRkDCzcoI0b68bMgXiUUf0nOm7V5vkHA5ftXvkLQTGxA8vRXXfdZUKXazciMHzYMDv2NZ+tgXACvtiGMKq8Xfb+Z9cr2rp1mzosjd0kYGAeNAiTtBg2Cgt//XcaSwznXLIWrwjo9h+pF4iEjONPtx2ijMOGU8rXjtXDg1uqgoNhydUQC0HQhCEAAEAASURBVCMz3phrpBjd73jw9zRP17jkdscLg+Yd+6n+3fVm2FKvU/IGUp9rT6MgS8OEOVyrGcRwYEY+5ZyBD5YI36SxfsUWCroO6PLEJw+CQJwg4O4B7HvTSOIEg07JJvosNvzLt1FB6nLUEI7k4v43RB/M2+tZ8o14qzFLt0J6lWPnE+vdG6ZZRcGuamxVt9LHaXSMXQNsK0//bNsSTQfxxcadt69hS/Ma6L/EKb1hwncF4LuthxTqhtIKZA3rFQuHYTjE6UvqZHY45vxF+EsEQTszV6fJgL0RhzB1pPGvrKZCYneSktp1FVyoCCG5e1i/LEpBGk3e+HAsdSCRXsEpX3xiPOtqbWJJX6so+HLVFBCZXB8i5F+9g9vjhw7UKbCSxIQ1b5n3GHx8ZOlVt7qK8diufwEfuhWyXnh86wekZWq/HBrA+lOtuHj/mE52y3pkh8B5s9zbduyc8+auv0rHKkEK02hg1a4Zt92KYI0QB5x6ojCg2xG2duMN2xOWy6stWW3Z8UFu2yGBHNIgyJKqWnoNakLYmBh+iK37nvYM/CsRxiYchMWujLtjIQU9hXXpcvm0Ug/6QVp5giF/rcTzgWRRl61KofyEQkCVBzOswNWuF/ZNKB9iJwh0HwKiIiAM9tdCBcDid9+l5557znbBjZvbstOera/jmJQoO+cFXBnX7N65d9/++Mc30Jgx+quvHYncdAsCRx55JG3cuFGVWwO+bj/8t4fppz/9KYqLy84xVonDQt95itxxRmvWrKF3l7yrbNhNEgZmPhgtlo0XC6vOK0tX/Y9lACRvcYcAV29LMYbKO9d0LFX0gR/KJvxPwCzU4cnc9sFWe32glbc1hQ/F/QZ+OAFRGt4GaWIx3njuau7tYGDRUFxGtZudwxu4/8v5GlQYDIDk/8HQH6OM/yCkXtLPmEHl/1lprKhxN/SyYvHWIi7bhdwIArGPgGl/Zj7BOXbsYj//nZVD07cqLPFzGMgo/uMej/vrZvxy38PvE9zPsGgEITYXhAqfqB7R8HvM6xrQj63au4/Wg6BcDwnIDdBRydfi6joVVq2SYNSxcfwhVK/a0ZhxwFio9JsH13UYdE3yoVaOqoAAFYIYOuG5N+jrOHDnZ3z4Fra2typ1yWEiD9vgdwcOCWJj4mSydTO2SVdD+o7t7L5aZQX44aq30usRcHetd8t9M8i8/TgwSpOAJlQVRbt+OD63OXIACF0/YG4H5h5uhqSnKz2o7lSUgVR2SyLXYvv/8r1l2pflkGvLvro62rGzGhhwnlGCeGdqjzs8BYuJ03XlLeljoDtVGcYamJYAF8sClyANRfomsE7fcCoILNf2BYlg1QWDQebtZ6ljGJ2WcKmwfTo3iigM4IyIeugF3k8bQCquBfH7OervBtTfEpRnEyqrrr+WN8TrJoadwELdWWlBwtw4hXLptjNuTU742sKA6GXJ4muXrLQ+YGjXT27aTofzIWR+g7z+9fMtti3HwRKwR/ndQr3ASuhNrlHl4MyPOM+foh0oaWQVlZU6rpQqf3qVz40iGX/lXLeMgRM+WK0RO3ySEtm9yaFxINeoELCh8+IH6zbVr6jiEkeCQAcgIARrBBCfffZZmnbENFqzeo1ypbpQ/hqH/+5Gzc3d/azv3Z2A6966Zb2r//d/N+CDd+tbDiIkUV51EAIXXnghPfPMMwhNF9AtN99CZ3zpDJo+fbovBi5dbZw7Y6OvNTU1dP9999H6devsF0nYQrVgwQL7ORZvTBuIWP9jMeOSp7hFgHsLV++u7n3yKmGxsf1ZN+m52ZQ4f4reZh/Wl3nBrUzHZLc768u+cdHaNcC6ytgzjFo8Ih0hhU3qsQVzvSP5YZYdCfOwHZLJVZaKiWSgNiCY75Xer8dioxl+W6EwIoUq7wSBmEDAtF+TGatJmke5tgMB0yMZbC8HGfPjWVM9hJruucOgzSRIGCKkCfYs/Xjfmk305OZC2tQWSU1OWJhwVS/sSw7zN6FMf0gY3nPsDPry60ut1zrHfIjPPas3qtPeLxw/mhYdNZnysjMUWRwmKOW/CiRxtYvcY7frQLYd+cyroaJvxY596/RsBFl3DA5VCp/nVoJyv1Z7gx0LVr8QlQHefaGmQekdhQeTOrdkMYfDxPpeH0nM+Zj+z9eiisZxZMVgXTZDTcCx0BXLj/zDUq1u/ZxsPwT6TrUUbCvqDpxIQFynUE4qJFjZqMD1bWu/XH+ZDL9n1ef0DLbVM7ke1nC4uiiVE1YLFPHcCSsgnRzHYxuSp0hsDkZTlprQtoL1XPpAVcfXJo6mR3GInPnI/TBI1DuOntYSDhCsf7bUA5gsXYz20c+oP7BDDqAO1EKK2TuLe3zjNuK/thmm4XX6GfNCqAYZy3U2bPtvW+jx5tqiXpwGbAFg6km84SH57fkICMHaShktW7qMFn55Ib311ls4MBSDnzVm6IvzRdMMJVaXGjHUY445hu69917RvRoRpa59OW/ePBoyZAiVlBgpLaLTTjuNnn76aeLySrUmMnpyYUobfb1vBrxnzx7l54E//9nKgK4jOTl9Y55gZVSiqf9dW7ISmyDQeQhogtBM2fXcLwENwTs9Dx1/or0M0P5Txg5pnay0g8LEnRc7eDa9kW/9absMe2M8KgeYpiIwX3emvWLx3bhpl+XKCa1hyQYKQAWAiZfTYoxJl+kPElhaxhjrZcIuSAuNweLb7dG4kasgECcI6Gao5wmy9u7YQjddnLoyaeIjTpzeM4p40TkWQcrzjhXroKNxk+2B+8yoy437urD9HegYd2dqEm/H5NxwnKfnDaWbZ04lPkyKdYq6DW/l/vuGLervzNHD6VocVDVr0ADKZkLJ/0EMYVVDJVatSy1WuDpp+nN3XO57jYVDeSip1rD5dfuM4t4XziDWR26Pfq34h/5V493ACoUBHk9MgpXVuyQPPW/12MjlzL5MGPaTqQTqpfXWuuxhXa98r6ILAOcmj9qARIyNeVmQcI26ElkJ4zCNHzt8+8Zy5LogjSw9+7OPP6NHQEp6jDdTzisOzuTY5E3ZOU78dy2DYpoxehMMmrmC9sXQhjJs/U0cRscEqwl/NySD3921h+aNGOzUc6iGeLewmHawag4YdpsFNR4njxwMtREQcDIY8ksEWoa2xIfR8YORWOZXbKKr/9otx2TlQEl6M7Eu+1UNNm2/2r0K95Fc+FxG5tr24MSHINDpCAjB2grEmRj4Xnv1Nbr55pvpkUce8Z0Er79OuYMwXaq2U63ffp2Tk0PnnXce3Xb7bTRs6DDbXm66H4Hs7Gy688476YorrtCJQdExWTp//nz64Q9/qMpt5syZOATS2Q7L5CoTB7X44llSUgy1AJ8p4vzNN990ZUjXkRtu+LFy63oRk7ee+g8MAxgMPXYxmWvJVPwiYKbQeuLOOGib1hGBXKflSF8ThvXTk8bWvSoX9hd9yz2PNm0xvI3WLbHK81Umhs3yxg4LpESwwmxptGwRWenP/207adONle2molJKUJPktqa8TbGJY0GgFyCARmG1i16Q2B6dRN2bMBXiQOqXVmxPBnjr/7cXf0RLdu31eOcujE0i5oMDoROTpeL4gCiWMs2ATtbFIHz2GMnIVsrYpqIU0Rq5TqRDgu/WOdNoav8cJbG6tGQv1YNY9Zv/4EAl/rtgfB795KjD6Aj/tmggxf5a6ArlmZsvva3N5Yx7x1sH9u2GfLYy6OeJ/fn2PjspMvb+A2o5vFo+pBEmFJHWMm/s0go39Et2YG1hV7fqpwYn3te5pIUTsZNkKEuwtkyi4ynEHTu3y8Ou7PZNCx+fQv3BN975kFYaNQhuFwgsCUTkQAiS9EtNVvV3AOpvGnZY/m9HCbFktPqSqiYMkRNqoHAH37Za4A0/VHgm7MlQ+8EqAdaoQ6RgC69//GwTzcvD+rrZWquBRP3z+s3Gi7qeMnwwTcJhVC0qON5yHWDVFyowb1IcvD2hOQ+h0xq0VA447uSuPQiYwsDVvg1f39sTg/gRBDoSASFYo0CTibTbbruNzjzzTKWT9YUXXqD169dH4VP3Arm5uXTWWWfRueeeq6QY09IwmIrpUQgkYhBm8vuNN96gJ554wunAkcrf/va39Pjjj9GMGTNpx/btdrr3799Pt956q5JiLYbk6ycrV0KfEetD0p0+1xuexB1//Al0zTXX2P7i4wYYIO/2BDA+Mi25jDsEdFs38z1+QrO3538R4WCHLpM4nAlWl0Ubb0NP7sMHwhKwZs3qS4rHE+uEDVZo6Q/9gjPYMqGcG8MLeAKwqQ7lwnSPFKzhvlKMIBDvCOh2YSR0WraseMenPfn3zjzcH5LaE1oNPqzf8tEam1xVfbxVUKeNGgbp0P40LicTW73TQbKm0EDoxhyEeT6Trie/9DbtKcIHKtwb3bCtp0EHHrEucB+Mv/Oh/uCEYbn0dtEeen5rEb1UWETVIPHYuPvkpzYV0nIcBPS3k+bQcUPd2/aD6gColARLXRk8McE4fWA/4pPtDzYz6agpRw6T02T15JY9P2li153eRowbR7Be0bYxoQgrtPGWKNyEGINC+3TZugFRuXDescYcJsTZmLhGZGbg9PixxIeeufPGbgwGfOUn48dtz5LEC1iaUjvSLrke2M96jaD0nNp2ylmrP0zUKp2g7JIT1+LLqBNEKXSCLvpwdQtyNQEJ+RIkoWfmDqCxqv6mqfrLenMHp6epYGf+63UqZwITTyZvTsgh7tiRyktUrlsEoLxyELjhIjbPLRzCIgeSqBfhw8GNnD6rgF7evouqIcnahw+bgymrqKbFaBvGJINIPgll0o9J7RAfJDLw4SIhwGDyJ/AAVEsQfXHkMJqDNt4Y9NcDbhecQufDhrue8Bt+TsP6UunhbU+dhX8xfgSArALXqiBu0P1O5VkQ6CYEhGBtA/CzZ8+mo446ir75zW/S7t276cMPPqAVINWYaNsHJeHl5WWUkZFB/fv3V9v/J06YQMcedxzl5eWpv8xMS9F5G+IUp12HAEux/u53v6O9e/fS//73PytiPUTu3r2HXn75ZWWnp5pBqqiooOeffz5EAnVvz+Qq6/B99NFHcUCnNXkN4To2rcxkzEwxYjOXkqv4RsDM60wt52m2M9WOjI1/sR3ITo/socVbjtVl+NFn5Xrb4taQq/zCXsiYDPlcBz0LkdCOlG3IV8bSulqXQGO0SPkSI4+CQAwh4FAzumE45EsMZbIbsmL65I6I+oPdpdBX6Xxc5/4yHwcX/WPB0TQhJ0sRqgGjBsVFouzH9nBbWhF+uIR1KYdKVcs3UXXnIH8Hg9i9APoovzhyKG0+MJFe3l5M967ZqA9AcgXL+kB/sPQT+s/px0Nq0hpv8J6JxTRmktjgmeMdndWHFh1zBA4j5G3zUaWEfTuGw+EgXXg4L9t+p4ks9ncIJavyZqhQbxqYDM+G9KY2Og4+6OymoxkDENbtgEBhqTAwcQXVoV/ZIP/0QVc49AzD4LZKfMBsS8NHWkpRLkqy1AQd5srwvwOC8RUQj9rovPGhb387aTaNQz1WB5H56y+clVTVUoNr7EdQ0RnlMGrXdpicMt6WzyaaasNSt8cNyVUSt+rQMhQSH1D11Obt9A2oxeBC+/fWnaTfqWBVfk8ZAXVMoSJA1Nk4LyOJE6IMDsSD3YnDc+n66VOID+xsj9HB4TdUnO0JMM79qDHTVC9zjXNMJPs9DwEhWNtYJsnofMeOHav+mHBtxOSmGV83+c9sOeFt4/yXBFItOQU6j8T0GgQGDRpELKF83XXX0Z+VHlXde/MAaaSzQk3P1HtfLk899VT684N/prxReb43sfnoYIA7TJIUcjyhcF7EZsYlV/GNAOq31p0XVEIkvJ6KhjrUPYsDnbW8dSyivrMaGMagtkgLBXBCcMAtXcTB8J/fYOGXkGl2Xei40nFoVfavL6YgH3JlmURkqCmUf7znd2ya8Z7XT82QBEkYMRBSN2E8aOfyKwjEPAK6aZh2gCf3l4+Yz33HZ1DhCTjNJ95DjYHn9c9v3eEJJgnM4StfmkcT3YfWcP/rNujb+AT5AzhBnA2TAuqqL+re+2NceG2jeuJ5FvrzviAIZ0LS7qjcfnTV1HFKX+w90NHqnoOt2FtKr2Pb9yUTRqP71fUuEzpK+7gO3GU5ve3QN8vjiUNsRpUSxxEHHTavjrPo7yz8EGi7grXyGs4v60JlFQ/aaFeFVTgACqRaW7hPT378GCDYwdAd29esC/FeHYAE3ahtiyRAe7ADZB8Oi1SGE6iSzD8cqWNY9cNLhRa5qtITVBKVXH/zsvvAn85rC/3EqOPbkX/Wz2sbOG2tPujY8aviYp/RlxenxNZDbCLVAZon7xVpPwxt8HgcIvYi1GAoEBDI36GX9RtHTsLJZY1KPQaTrmw4qFmDB9AEtA/oe1N23p8gPpYkE6ttMDiyuoDiakig4xopKd5wQj1ZOId6JXZtQoCR5LIQRNsEmzjuYgSEYD0EwJPw1Zf/xMQWAunp6fTAAw8otQ433ngjdKuuwdwHk181gXZ1665bXhPxthIm1gcMGEDs76qrrqIUM5GKLYhC5sYZ7KyljbEwzHRIX2IpCPReBLgLYMLQLCF4ie1bZkfIHPuGsfoRJh/bJOdueTfTzKbKOmqGpI1aG5i2p2No+Yv+rOlANTXhNGxjOLhQJG+AA+zjLDzZXSP8JkweQUE+wMMyHGUo//zaJMckWbkzlpZ/uQgC8YuA0xhMXxK/WBxazrmP0UJwDqaHEiKHsqEcBJjLnDpqCMjV0DocHWcB2omDdfjQHDY8DVLpMp2g49B1533Z3hywNGYuyMLfnzgLagtS6cYPViMODluHuBx6OPkUdTVWwG5EZh9ItGbQp8RbwbU5AAnJneUVNAKSrDYJZ15249VMJ5lTbIvx7xgxWJgw0iEQw/ppHzcWwKsZBPOK3ftpxmB8DPQT6La7ttwEKRdb73MsSVlTIrtqamk3dPwO7gOpYkN4RgoWbraBAK9ssMh79mOTgt5awwTu5gOVOjTr1VmjR1BeX+yodEmntogOAG/F9voqJlhNQvmqG1cL58ZCR+H+vNEaJWt86mvQF35rxTwgM12pyGA9wzruAH2OeluADwksPb4B99pAQjkliS4cO0p9OPDGaj2hvKcN6E/pibyud+ZG2yqr6AAOqWKVBGK6CQFUBK4aqmbhRpW1LvBuSpBEKwhERiDceiiyL3krCMQBAqeffjqtWrVK6WW98srv0PTp02nMmHxIpI6iYcOGqYPKRuF+dH4+HTH1cLrkkkvo4YcfpuLiYrr22mvjilxV1cGaCfHFM0f0TZjioOpIFuMEASZTzaSes8x1P+rqbrUXKwD2Hr3hBjY4R7k3wTRBmiVYpxdcrQXEH4wa91ZSc42RgNFt1i3QaoeBbXhJuU5cnN+G0moKlEHCiXPMFu35syOQG0EgjhEwDdiCoG10RBzjFibrpivSvbENahjX0VkXGILKcs7bqlvtt9GZfrynlHaDPLMJKvbPCQxrIr4M6yvciyCk9H4y5wilzoAjNlVt1b4yfAi04sKlD0i/0SzNaAwcbgG59pcNW5B248u8bOXK7tvqp5Ug1WszsJpktxEq27mVHfvZipu3m/OBYY6BC7i9CbpL22w4jlAYIMhUHCTFB6CxMfPk9SBXH924LbQf5dL7swX18ZH1KBvLmLwo8tlYWleWwNzCErIuMy6HSXOXRahbkK/LSvZRGT7CGuiVs9b84T1n3+SN9cTWGpI2VDw+Oz4YVxnrEnJO4vYDByfh0CrWIatNEMRzI/0XUrvc/py8B2kkdOp+MX+4kkp2B2HfI9ED0baHsH5Wl3l5ewktKd6rM+ayb/VWtYVWXYmDaBCw6x1uuI6ZZ6ueRBOEuBEEuhIBEb9sI9qsEqCsrEwdZlSPL7xNvPXgEBo4bz8aOXIksdSkmJ6JwEknnUT8x4b1rpaWlVKFmnAHifW28h/r3Y17wwMe2gJv8eEmwd8YeX5hJlpxj48AEHMIhOr6VZ2PKqfuGaKz+I3KK7aDJg3DNjcY9mnaW7AMWxpbXZGgmYJYbd5VxvNUbXhRw4GEylBqEgUOw6IERjdxpQGLmt6CZP/C2Th215H0UI7kRxAQBKJGgBeKdjtUvrxPUQckDsMicKiIskSo22zjrePYrRRWqhHShMtL9tNf1m3W3kwCWiFcvLGgO/ZbWIngw5P4VQok8iJJISrvILhY3+ZWkGwmGY32nRUgpDNZL+WTOAirHAcicZ3kA30e+3wbnTN6OB2JbdWR4lGhqLwFaDPIwiTkPw9SseHSb8Xapot/63jbw9ZgmvaWEGKw44OIpkGKdbU61AnuMXl9Z9ce+gfIzEugciH0tnJfNkDUluKQJVYPMQEn1adwPXEb4HostrS/gAPJuBx5nsyHaD0NvaFfHjOC8vtmh69XOgv0D5Cxn+wvc4Vq8sYlbDlyvU3ypUHpfI1YfxPozR3F9JSld1jPThC2mie0DN+JCmsilvJE4fA/k7dodMWaMEwdNTrZWi1nYHfUoAEgx/tCUpeJ5ICSXH1r524aA9KVD1vTmATpmziwTLVb4B7WoHwuGDeKWJWGMUwQ//qTDXTskIHUDwfYtTrHsqSJPwXBOxRk7WAfYWvClWtbEND1iesDrymdOtmWMMStINB1CAjBGgXWdXV19Nprr9Hy5cupsLBQHYJUW1urSNZG1uPC46f66oZWz2MPX6yr6QTMifLmahw2oeP+y1//qqQjo0iKOOlmBAyh2s3J6LnR81xGTausGq6ee25yJWWCwKEgYC81zKoNgUVd5W2H+sZ+jCZBPMPs34cSQX42QQ+q8du4eD2lnADdY9YWxJBBYfLftLGYDi6Fbj7b6BB8S0H9FgvGxFEDKRE6+viDovpwgjflD79DA46fRM05Ga0vvk08fJAKH/jHh4bIlxeDilzjGAHTds2cUM0h4xiPQ826t0/WE3Hbrp2BHzGwH21ySbG+Bom2DyHRNmckDsuxVACooHnij/5yw95ydWr7DpBsxkSXhuhc/atgB72+s4SuBuk3B2SdMkwk+ftU9Nl7QQYv37NfOeHQub6Ny8r0qnNpbqKzRw+jsZBiXbEXOyGUa6ICkLLXL/uU7sRBT3OGIR7eJu/+gMcB8klWGFMOQtfs3zZspfvWbqLzxoykRdMPo2R+10EmOmQiRaZzZfLWwiWwmwhC9AsoU02wapdMgt7y8WfUB+dvLBw7QuVV4eAOiAk1K6/PgqR+cF0BZYFo/ONx07HtH9KQbrcI71uHjaG/Qzp4JVQ1mDJhQu+69z6he+AnD+lQOJvy5HoFQjSI9eLtK9bR3Z+6x27OCUfAIZnQ2E6bJPhlydzCSnwUsAzrZF21ex8dwXXHX38Rz6dQi3DLR2ug5xW6Rz1hcjzuzJgQrSvSmw+VElzqZp7Arlcgn/VYK6egbdje1T3euuuTJ7gI8Xjc4QFpPgeSqa+DFK6xDs98H3lYB7JfmyB0DCfRNyeNwZcDrY/VH4T9jPdXTRlHt674jKp4nmKZd4v3qPL5fzOn0DiQ8CocUz7shsvIKqfdaDd/ASn/l/UF9LNZh9PXD8uPkE8Tg1wjI8D1ASSrwrxlPY/sV94KAl2PgBCsrWB+//3304MPPkg7d+6kffv2teK6fa9ZKlKMIBA7CPBEA9OrNsyPYifvkpO4RMCq6+oSbb3nybjLJETrz/LTDP+pg/tSzXaMS9Z8s+rVTyn9WydRIJ8Xw2EChH3dsx9R/W5H354KEs65zXpThTewTBzVn1JnjqGaDzYpB+yuvnAv1YJkTV90LlQNYCEWLj4OnAMF6du8AYdtrNlBiQumUrAPtkmGSSJ7ESMIxAMC3A3odseUhJhDRcDGEDda5unQQmShiKNAsP5LSfPpjrYOUqEXvLGMbps5jb421ZKKQ2y1UAfwBIiVO1esdW1N1vFzurQe0BY9rJ1Afw3getHCID2rIGH5KA7yeQMk65nQp/m18Xl0OEi0nCx87GLDlQppfBeHWS3CFvc9tUyUoZ5Zle0skFF8qJNtEE9CchLdNnsanf7fxcq7ifutot208NUldOWU8XQpDsZS5B8fiMXZwPbx9aXltHJfOf35s020AqoHakACnjR8SKfXZZM+Ow9R3lgQhE4fiNLLQcI9t2WnIpdNkFuhg/Pytz+g/+3Moysnj6NpqA8B8xEThFxheSV9VnYAGBTQst17aT/0dZ44bDCkgEMUIOzSoCLglpmH09mvvOtJxwvQI7oZ5NwdUOtwAsjPfqyKAi6agfPy3XvoZhC9b0Iys5GJbtvoOmk/+m74wKYpkGDmLfPGVGD35Vdeew/E+TQ6b2K+Iii5QCtBxj8G6di7Vq6nHSylrYw/DxxfGAOngbQUykpOoQPQD2uyz9K5rN/2B0dNJog3K3LydeR1FLbsT2K1DMZhmGBbteb2OC6PFkHXcE2j/qjBdX6PS0f8RRNGQRUGpE9bI1iRlj7QX/ybY46i7yz+WFVzg8AjaHMfgLi95vAJdP7YkZTL7Y0/GKNS1eNjyloQuot37Ubb3EarSw9A6LuZKhSBHbmMWs2fOLAQMCVhrgKMINBzERCCNUzZ8FeSs886i/73xhvEEqzGON2kuTNX48K5qjf8w4YHHn2xr8oePzyBEyMIxA4CqOymvpuqLeNh7BSv5CQiAmozQ0QX+qXdJKyBoa2HXAWxUEg/+XCqefht1d54YGGOs3LRU5TzpysoOBBSMO7FBBZaPNbU/eJFOvCvD1ukkIehkEMRwgyAyE2dO5HqQLByHCrJGCMPPL2MglhApH/vixTMhKQOFjqeFSNL9kBSJXCwierv/g+VPrmM0qflUfZskBLq4CwEJkYQiGME9NZnl7yXNIlDqg3cNxnTEVByeF8eM5zu+mQdJNoa7Pn7tooa+vbij+gnH66i0SBa9mNr/V4QOnzqOh+uw6YvSLh6dJhMOpo5kXoR5sed9jBOlHWSJS3J29BZDcETG7eqreh9EB/rh21AnNtB1JUiTVW8y84Y9NmnjhoK8m+QyoexVlek+TQQrz868jBISK63XnGKgmq7++3LP6PffrqB0kCQjcL2fz6dvqimhuohkcl/ta6xJpF3dHS08YUZLVYmGca9097MG9cVuE0e2JcWzZhCV737scqjKTcmyv4CydQnIKGaDHJ6WEY6ZWIHyTYc+MhbyBuAbbULaxbQNHG6YtC3wOosEHTzUA6LoYLAdgjY1oKYu/h/yygNAQyEbtyM5ESQnTVQJ9BElZCoNGEyoc51iw90MnYt4oEFp/XLkLz9IwhwVQ8txxsrKunSNz+gH0JqNg9SpyX4SMrEcA3Sxh8Q2AwE0VgForQO5WuM/yOAsbevqBdfHjeCfr/qc5Uung/VNjXioLVV9KtPsMOGgYFhPP94/AyaBLwJKo/CmgivbD/APhXE7jlQscAS1Moof2YPKdFPmNx15cP2G+oG+f8GpIzfKtoD1Q2FHheM9/XLPqH/99FqSDUnKez2g8zdB+y4POrh142XrO898LX/gestytS6OOG0sHBeyZ0g0J0ICMEaAn0mV7/+9a/TS/99CR/W0HpVA7Y0yliNWX0Z53u0eFbKrQYddooOwDMeuDoEY2+uVlAhUiBWHYkAlyf/Jbi/2HdkBBKWRqCV+i8wCQKxhgBrUDO6xjhvTFCyJKqzHAmfY/tUYzMghHca+k1DEyVfMY+SHltCjbzwQjgcVM3nu6jxnLup38/Pp+BR+ZQASdGEuiZqLiihil++SNUbiqzwTIN1RiJOt0uuyY43iEVT2pnTqXbxOqpbsUXbcz6hnqD8qfepfuU2yrzsREqYNoog1qHTUl1HzZtKKLh2Bx34xxKqL+dDsWAiLaa0C/kVBOIGAfdckhswt2Ex7UdAU9Xcp7nMIYI6LieLfnP0kfQdkG7qAxrC43KrxdZ6JhmLqq2+zepSOeZ0SHn+31GHEasTYD2ebJTfiCVs0q375JAfvBAOx60MnPEp8XyoD/tgknc7DqfyGx0a0dzBA+l+kFpM3IWUGgQB9evjjlIE8R8/2+hZ0NRDN2UDJB/LoXKbyThjTNjmma8JHagawAmXY+K8W21EPyq7aH409ho7hZ6PsLXDAAZXHD5eEYA/BpHGCnhM9WGsmRjkqJmMdAxsVHh26oBBKwkEEffi6cfT3GffUKSqExYpkr4avDiXp99wWib1y6Y7oLaBifDPsRHF5E2nwe+DaEZuf7oJpPFN+BhgMsOpYzJ1O8hb/jMpN6nOBHn489mH0/1rC2hNKfS9WhWf5zsRDcjmOyGB+xDIaEU4I8Hsg0nbYj7wzTKpIFoZz5bGF77vsaV7ywbldjW29t8HIpm9mJD5yh8UWL9uyDofJkDWu/zX+bPVh4MXt+1UmTBzLM4LE95lKJ+dwC6UMWkIpes3lHuxawUBq0D1BeiqwkBtRB0yZd1KCPJaEOhSBIRgDQH3M888Qy+88ILVF6Pp4n8AjVmNBVZLVhf73r7xNHTLFnZ6SNLdgOl2nQEgRBLEqgMQYFK1oKCAXn/9dXUw2bHHHktz587FwQD6BE93FAcPHqRSTCISWOKqk0witpLwCaJ8oFkS9AHFnEGFN3We82buzTXm8isZEgTQt3umd1zZo+5CvA7bqiJAgQ+pjexvLaDSP71mtzdOQH1VHe3+4T+Uk2RIljbg2W0C+NiUljeQGvZVUlNlrfLL45taI7odmntIZgQHZlLfq06m/bf8ixqKnAMgOL4a6HStWfSkcp0MYiGQkUL1Fc5iygSjrliouxLreSUPgkC8IaDGR9cg2RovE2/4tDW/LDHWwH2My7jgddlGf8vzwgsn5NFmbBVn3ZksqeovNxUaLDn+kX3S6aczp9Jlk/LpxW3O1mzuY70p86aBD5bSRqfYO0IYt0Eahq3VLD3HkrKsFZuN/jVunCvXp9y0dJo5qB/9Ftue80HORZTkA1H1h3kz1ansTODthnSeOigIEYSKw9ilod8fDcnWS7Dl/HtTx7c83MlJUrvumjEGsTHx+Q+9ihxoAGpTvf7tgEJ4DIKw/sGMyZBM7gMJ5dVUCGlgJtXsuFv4wRv8h7ApDU3PoNPyhtENkATmcopE6vGBUO+fewpd/Mb79Ba2lrslYFtEAQt2P2NQf3rqlLlUAZ23pVAdoAzi5nrHel9DGRYuuWrKWJCB1fQM9PcyOWzyYtybZyaG86Cj966jD6ezoH7i3tUg2tVLPdNpVgth4yvEFW7TUTcfnj+HvosPEvuQRhO22zV/Zw1Vv4N2G3C7juIeH4Gn4BCqI3P70afQ+eo238OW/vYYbmNPnnI03QR9tE9sLERe6uziDJUnEwfr652IA7a+P20CXTIhH43etGvjQq5tR4Bri0EdV64/ipdx27c9VPEhCHQWAjHI8hwaVKwP9fnnn1enxbtDco8pYZszXvAC1dmUYELwLMGNpR5dTH/h2MpdByGwadMmOuecc2j9erPdieiXv/wF3XDD/7WIYcmSJfT9719DmZla51ELB2wRtuBDuvZY8uSnT58+lJeXR+PGjaP8/HzKzc2lyZMn04gRIzxue+2Dr/7zZ4UwNb/XZlESLgi4EeAuQRl33xBln25LIVlBsDc7PMsumkvywtnUZ8VWqvloEwXVItKbAJtcdaUx89RplDFzLJU9+CY1gmBVhiercBM2DXWNlDB3AvW75ct04O6X6OBGQxyY+HSLb8Cin8KQq0kghJPGD8UKrOVHrmjyKm4EgVhCwNUkYylb3ZiXIGVgC/tXx46CVGeDSgdvl+eT4W1mpD2pQxfH5NWvIP15JsizP0FKrgjb81mCrRxEF89zskCq9EP/djRONP8adJXOGD6IGkEufXHkUBoBwpWJK5ZmO2HooJaECxYYA+GXTy9n8ovdMpE1IhRBh7TwITyHD8ih57fupE+h//QAJEursaOB1RM0Ib9ZKUmUjfQwQTQN7i4eP5rmjBisiVUQqK0aEEI/wCFV52LL9d9AKH+8u5R2QlK3BjslqkE0cj5MHNmIKwdCC8fhEKwrQK5mc5p5q7x70dRqhJEdMB7nIS2bcEp8EshuVkcwRenujOzPfos0XwgdnbssCcoG5I+lOsMZNQYiD+egPL44agj9GVKcS3Co2TYQ7BXAoAZb3pkzY3xzUC+Y+GSJT65n34AO13yQfMT1zyJ1w8WDakNZUOvw4hnz6Fno+OXDyzZCn+sBSMmy2gEeWTlcrlvjIUV9Bg4iuxj6dglk9rrSYtQ/Xcc5fMaoL3SfKk/+CFEW/bDd/74FR6syfQD52Q0pZFV/UXe4PDNRjv0hAHLs0IFK1+5UkJX1+JBw5ujhNK2qr5oXcByzQfC2mi+A8xV8kJgKMv9O6HPdAtzK0VZYXUUqBE2ykKcJOMhrMpP9rnrCeJ4/bqRSScESpHzA2Ni2SJ4Cs1tnTaW/r4fKDEjIMvypIJe/wHW/PQZpywD2v5s3iy5G/XkS6gJW7T9AxWj7TLizBDDXxxy44f6B60Eu2jGr4eByYr3GHjVN7UmD+LEQ4NbgNbrqtLT3upInQaB7EBCC1Yf79u3b6eOPP7ZsebVpNV5XG3bden3jhd5F4XZhptCGbnK9c916A5KnQ0WgGV9Bly5d6iFXOczf/fZ3IQlWLvcNG9YfarRt8p+emkZzjsGE59xz6Stf+QoNGTKkTf57nGNX/Te1XafRtIEel2JJkCBwCAigljOZ6OrHg3VYbEcpBR/E9nq3UQeQuC2ivA/0y6CsX1xAKc+8T1WPLoW0qkWY+v0jnamDsint9OmUcfk8alpfRM3QI2ibKizs7YcQN2jGzdVYjM0dT33vuoBqX1pJB19dRQeLjbRI+M8pyThcIm3BFEo5EX8z8imYk976Ii1EEsRKEIglBOyuw5pqqmfbMpZy2kV5AXZJIFQe+sJcb4QgQyJKbXpdh37i1TwIouNHDKHjseV4LyQ7maTS0qwgsHBw0VDo5RwCyTUVF0gyJl9uPuYIrCN4DmQZkE+sP9tlo17kgUi6f8Ex3i9cYYhKHmJOAGl0Ak68rwQJxgf6MCnHf0ywcloGgOjhaw7SpNhADqstBmnMy+5DP5t7FDWA9C2AFOcBjFlMXDPR1t+Koz/i6QNiTuWRcUYaOtow2XYXyG0Pjjz2MssZhWGJ1N+eOMvrn4lmTm8kg/dp2G12LaRZr0V8W0Hw8rb9SpCSjagOfUGosZ5SxiAHV9Y3rsKEm6gN1yv8LQQhtxAfBrYdqFR1qoIJWo7Dwnk0CFYbY5QxE/Fl2HlnDNcnLm/PhMS85KtVf0/JG06ngPTnuruH6y+kMrXfVBqGDwGDuP4ytihHJil/dYIPd+AWBC7++uuOSt3D3WQcBvbYF46hPSAkixEXk6wZwJPTycRpgPFylWF/YHjPibO95QTStFVC10QOXM4aM4rOwgcFjwnTjjxuwj1YuM0E4TwTba4KedkKNRxMFlchbSlojAO4DqANDEhLxi5F6+Mx1y/GUUwHI4CaF4KX6eBIJDhB4JAREILVB2FpaanaVq6tWb+qe7jiIQUWkUyL18Yi/OKz2TXARApa3kWPAEtyVVVVaQ88ueVBEqYBA2IDJi7J+OLoNrZ+Vl8Rex+dJ33n/jWhwc5bacwL2OOWk2Fdaw/W0TvvvEPvvfcePfzww3TzzTfTwoULHfe98c6q7kEPBqYN9MYMSZoFgdAIBGsOUvq1p1HKJcfb/UtCdgYFs6IgDyFllfmriyi9GgskrDGC2C+XMB4fWKx+KnSMYWzR11F2OqVdOo9Sjp1I9duxfX/bbmraupeaSg5QIrbrJwzKocDhIykZf4l5uRRMT6aECUMp54+X45AqvfAOQCqGxkLSA5JQYQ33XSCRA2MGUcZVp1D66UfqeD4tpODucmosq6Yg/CfmZlPCkBxKHIx4h0D6ZWg/SoJKgmC/Pup91AumsAmRF4JADCGAJmyPktzGxBwaAp1A8tkJski5XOgx5T+H9LMK0U9k+p8RUMgiVkROG8hJJnBgWHJObQ1XgZqQXRWKCar2Gh5bgCUflDQJJ9HrhIeIozWisr3xu/2FwNH9OtK9SnF7/VsEG4efD/IxPxzOvI47lLWcRcaNBvE4mklOu5ZYZekOG2ngQ5VYgtKsJxJB9E1lqV4us0jGKqvBGWnEfy3qr7/thMDN1IBI0ah3VpoHgeQfBPLWTiwnkXF154k9uLDmx3YZzl9n1EdOa30zJH2T6XA+mMtdDzjdyuAqpGq7ii16T+3gZaIPXFwKAh2GgBCsPihrsA3GbSy93paV6UTdLg79ftAgbBkS06EIsL7TqVOn6jDtwY9owoQJLchVdtRkBmRfEXsfnSd95/41yYed48xY6quxx5XHZvPIhO+qVavowosuoqeefFKpNWCVAr3NGKlVlTeTOeSUt0Lbj70tU5JeQSAcAljgJoKQTBzn2n7GFd3V34TzyouaxKkgO93NvLWFUdjA8AJ+gyBtA5OGU+rEYZjkH6Ym+kzcqq6EJUV4uxqurJsaSvUUKZt85GhroYAwTNqjST8v7rGgC4wZTEn5gyjpuInoRHmBqdt6gEWsOE7zh0SoeC0yN1JW5J0gEC8IqLESmTXXeMl3TOTT9JPm2l2ZMvGrSZb66ZyUcDydHUfnpLzjQu0KDKKIYw92qbywdZfKl5FlSMXBYtMH8/Z9jMPRGLvedGKdMemIIk/GaY+/2rhxSrsAux4PSNcnsCt4ma7PlcQYawgIweorUdbB6jEh+s/snBz67tVX03nnnaf0Zw4e7FpgezzLQ3cicMIJJ9A999xDP/vZz+jAgQN03PHH0zNPPx0ySQsWLKA777yTUnmbDwzTgsa0dfHDRAITpObK4dTW1tKuXbuoaFcRbS/crlQX8MFajvQyDqbB8yWXXKIkqHtjnTJSq94mw4RLWxE0yMtVEOjhCNgLh3ak81D8hovOTP5ZGhV/Ti9meTDvjf9DTYMJD/rbjGkRJ78w7owjuQoCggBUSqG1oG3wmGlGSe/4KSAJAoKAIOAgwP3Du7v20CvbNcFq3syB7lScntspKhpMHHIVBLoNATNAcgJcg6TbutvSJhELAiEQcFZFIV7Go1VmJvTcWMbdcK15MJ122mn0NEi6rCzHnXEv156FQBImG9dcc436ay1lo0ePphtvvLE1Zx32/kB5Of39kb/TX//6MK1Zswbh6hGjurqaFiEdf3344Q6Lq6sCCuCzoqFTebVoOBWRYO2qEpB4BAFBQBAQBHoNAmaQRIKNVA7PO8UIAoJADCOARl4OVTv1kDZlXbmJUMFgT5gjZRv+Csqr6Kc41Z4N9xWGa7rhSOwike3pChf5iUEErAHSXecNLxODuZUsxQAC6NXFuBHIzs4i3l7OhtszN2Y2PA9mEu4Xv/iFkKsaEvk9BARy+vala6/9Aa1YsYLOOONMT0iPP/GE0hPrsewFD0oOBw2GJ3xBNRjqRJsJYC/IgiRREBAEBAFBQBDoEgR4fmnvljEDpbl2SQokEkFAEOhyBCD88ZtPN9CZr7xLf1yziT7dW0YNvLWfd56wWh0mXFnNDl/5Gep9KqEb9Z+bd9LZryyhDeW805JFF7SZPWggnTgKqoGiVQ/Q5RmWCAWBQ0VA13YvL8MjqBhBoGciIBKsvnLpC+IrLy+PtmzZopgiM4CxsxkzZqh3Pi/yKAi0GwE+bOsPf7iXCgu3WZKsRKw6YPny5XTMMThRtrcZu8Fo3Y8uAZ3elhNJryAgCAgCgoAg0GkIWEtGHT6vFe3xs9OilIAFAUGguxGA6F0p5vkf7d6v/kZnZdIpOKF+2oC+NDwznYb3ycCp9ClUBjc7oG+1pKYWagH20tMFO5By00noaz+4e/DEmVoHenfnS+IXBDoJAXt4RLU3LcB910nRSrCCQLsREILVB92YMWPohBPmaYKV39mtGh8SIdlqnzbv8yePgkB7ERgyZAidOH++TbByOEzw90aCVUvjaJ1yQq62t0aIP0FAEBAEBIF4QIDHTDVimlWjCOXEQ7FLHuMZAbT1BD4kEm2d58nbKqvoofVVlJKQSFnQZ56Nv/TEJKptaqQKSK5WNDRSAx8iaYy1Lk2FdOsDJ8yiIwb20wGZ93IVBGIMAR4ebTrGvomxTEp2YgoBIVh9xZmRkUGnnHIy/fNfz1B1VTUGLacl79y5k0pLS0VFgA+zeHjkst+4cSP+NoH8LFBb+Pv370+XX365OujsUDBIS0ujMfn5niD27dvnee4tD0ZNgPrEiKZjTjjtLemXdAoCgoAgIAgIAl2FgDockiOz5pqGZ+2q+CUeQUAQ6GIEMDdm/atKCME1T65vbqL9dfx3MHSCjFt0EkMy0uhv8+fQqSOHCrkaGi2xjTEElHoA1H2tgg43pj3EWD4lO7GBgBCsIcrxoosuoldffZUee+wxNGTnDPRly5bRyy+/TN/5zndEkjUEbrFmtWrVKvr+979PS5YsCZk1ViVx+umntyBYuc7wnzEBfKbmv3Cmvr6eincVe14PHYpJUy8zRhJHk6qcX6ZbjW0vy4wkVxAQBAQBQUAQ6FQEME7acwU9Zwg/U+jUhEjggoAg0FUINDbStVMnQmVqgJ4s2EY19U2WdJ5ZN+j5s2WpUsU2PJtOhtTqtyePpZtmTKbBGemu/qOrEi/xCALdhACah24hFi8DxlV9oDTNppuSJdEKAqEQEII1FCqwu/fee2nz5k304UcfUdC1NeO6666j4cOH07x58ygnJyeMb7HurQg0NTXRpk2b6I477lAEuycf1pzH2IUiTRsxcXrggQfooYceonRIph4EeXrFFVcootb481+Lioropf++5LGeMmWK57k3PGjpVYCkFoxmJFS2vSH5kkZBQBAQBAQBQaDrEAi1xUMWi12Hv8QkCHQHAs1Bmjwghx46eQ49dOIs+mdBIb22o4R2VNZSUXU1VTc2USPm0QkQzEjEXxYOuZqZ259Ogp7W0yCx2j8rgwhrDefjTHdkQuIUBLoOAZZRUktLXoezUeMkrzN9C3P9Vn4FgW5HIKYJVia7WJdlbW0tgNaNkEkxLV2IZ0xulXwdt1q7jeqblJQUkGx30re//W0QrZvtguIDiM4++2xauHAhXXrpJdS3bz+lMiAJp0IaqUUdB4JE+KpDMIFzlPhn3PFTMNhM48aNo8zMTDsOuek+BF544QW6/IrLqeIAn9LpMyEWPlxb3Ib19DIBv3r1att60aJFimTt06ePbee+KSsro7q6OpoyeTI1o8IMGjSIeiPBqloO0u+BSTcnd3blXhAQBAQBQUAQiHsEHH5VdnrEfWUQAOILAV4cgkhlc/6EfDr/sLG8aNQYsN7VugbKSE6kpNRkVtiq2SUW9oFqAYJOVjGCQDwhwM1FrzH1otJZZzp38YSH5LXnIxDTBGtlZSX98Ic/pLVr1xIToMYwBcTTWb9h4jMQwECG93zPJ7zz9m2P0W2bnn32WfXHOltzc3MpBW5NM7eceLz5H3QaEvARsoGefvppmj17tt+JPHcxAqs+/ZR+/OMfu8hVb0kOHjxY6eBtUJMbTSSaMjdJZXL95JNPpgsvvJCefPJJZV1VVUW/+tWv6NZbbzXOPNeph0+lV6CSorGhQdW7fv2gsL4XGoOFRs3Czlj2wvxIkgUBQUAQEAQEgc5CgIdHPVLq+QTHowRyOitCCVcQEAR6HgLYOUf85zLZaSBW2QiZqnGQ37hHQC0nna+ScY+HANCzEXBYx56dznaljrd7F24rpG3btrXLv8eTxRfZLKp6GaCamhoqLCz0OG3rg5awbasvcd+RCFRjW851IONZ4lkZVd5BJVl8ww03KJUQrBf1zDPOpM83fm47CZWGrKwsdfjV22+/TSUlJcrJgw8+SNdffz1lZ2e38JKSnEITxo9vYd8bLRw5HGFWe2P5SZoFAUFAEBAEug4BPVJi5DQ7nmTo7DrwJSZBoKciwCJ7YgQBQcCLgDrpCla2SKv3tTwJAj0FARbXjGmTAIXgtgFpFkpyVYkQMKEWyRixAo87rWhZyyCE8Oxx63rvs3dUBrjcyG2XIrB9+3ZiQpSN0q2Kuc25556r9LH+5Cc/oRNOOIHGgwRNY6XyURjW0Ttr1izlkov7AFQOrFyxMgqfvduJI4eDfCDjIdtb786ipF4QEAQEAUFAEOhABDDhsPgU3/SwA+OQoAQBQUAQEAQEgd6MAI+V1mBpeJnenB1Je8wiENMSrO5S40krt0nVLNWD663VVl026pbV4Zh2rHxa/tzetVdfAHCgpNjZ2u3YROB3bvTumPdy7XIEXnpJHzKliguFPmHCBHriiScoDQdVuQ2/dxtFxrotrHvW4TtixEj1xMXd3NxE27Zvs97G+MVV/1VVD9UGYhwCyZ4gIAgIAoKAIBAJAffQ6JsWRvIm7wQBQUAQEAQEgbhDIBwvE3dASIZ7PAIu8c4en9ZDSqCRNVVEqZnJoqUqwkz96OCdZz6Aiu1gYxGgxpn+aGKezNWVPPiz4/PFpVxbXkL4dAUit12JAB9uxcYU12OPPdaCXFXvUSnc5RZJ+njs2LFWGAGoVwLBunUbBxH7xl3/GVEDauznXHIoCAgCgoAgIAhEhUCrc8moQhFHgoAgIAgIAoJADCNgkScteBmRYo3hQu/dWYsbgtWhPNFKDUOGlqq4Hw8BhJcuS9CseNYOrIt6r+xV2bs8m3Dd9saOg4G9cm17sV7aAffuytSbU79ixQo7+fmjR9OwYcPs55Y3plBbvnHb5OfnUUZ6BqyCkGBtPmRdve6we/69IaKBVXRw9fwsSQoFAUFAEBAEBIGOQgBzwZBzyY4KX8IRBAQBQUAQEAR6OwIu8sTDy2hWpbfnTtIfgwjED8EKkkd/6EAr5Rs/6aOeudna7CeKG89s73cLK+3K+4LVAmgDe/PKsuMDDPzGjktUBPih6fLnuro6O85Ro/OIt/iHMizzbJcbHJhiDuW2Aad/NtvkfDMVFRWFchaDdkAJwOgaj9+WVT8G8yxZEgQEAUFAEBAE2oaAHh6dmYQMl23DT1wLAoKAICAIxAsCFi8TL9mVfPZaBGKeYOWt2crwrNWeueLGvrfKTj2HsGQrv7Xlxf/CcYY750G5jiSkaqfRDlduuhqB7KxsO8rysnJqbGy0n/03zlLI/8b7vGXLFqqpqdaWqA9JScleBzH6pChoX/2P0axKtgQBQUAQEAQEgfYjoCYUzoAZ7fyi/RGKT0FAEBAEBAFBoHchoMdGjJX4L+Nk7yq7eExtTB9ylZiYSKNGjaLi4mJKTg5FbnETZXlE3s7MXDOusPKToXyQEevaVNKLqlXjntu45dgcdKTcWG79lcmEoePjzoH/ETWAyBs5Uh+G5Pcjz12HwPARw6lifYWKcM2aNdTQ0BAyclVbdLVR751lUUvnW0Gw1tfXqxeBhAQaPHhQS0exZqPaj67bql1Zz1zvxQgCgoAgIAgIAoKAg4CaSzqPuOMJhhhBQBAQBAQBQUAQMAjwKtJwNMzIyLrSICPXnohATBOs/fr1o5dffrkn4i5p6mEIzJgxg9avX69SxfpS77vvPrrzzjspAcSo37RcEPldEH388cf09jvv2C84nOHDh9vPMXujeFSmVrXRHyvMU8zmWjImCAgCgoAgIAi0GQE1OnrWijJethlE8SAICAKCgCAQuwgoZhWUqhoe8RPNQjx20ZCc9QIEWrJHvSDRkkRBoKMRuOiiizxB/vKXv6TFixd77MyDe/ljpJfNO75WVFTQH//4J9q8ebNlHVAS1KeccorbWQzeY5XIC0XLOLfOnXknV0FAEIhxBHhCzH9iBAFBIDICalJhtRVpMpGxkreCgCAgCAgC8YWA2kXMAyX/YZB0L8TjCwnJbS9BQAjWXlJQkszORWDu3Lk0btw4TyQLFy6kZ555hqqqqmz7hFZIg4KCArr77rvp0Ucfsf3wSJCbm0vz5s1z2cXiLUY8Nehh8PPyUEbjAABAAElEQVSMfzISxmJpS54EgbAIoP3T3goK7iylQB3UrYTYCRDWr7wQBOIIAfMNgnWXKyPDZRyVvmRVEBAEBAFBIBoEnKHRuYvGn7gRBLoDgZhWEdAdgEqcvROBrKws+vltt9FFF16oMwCCoLy8nL761a/SpZdeSgvPW0jzT5xP9aybVe9RUOoDWM8vS6wWFhbS+++/Tw899BAtX77cAgG6SJlohPubb765dwLTrlRj8MN/5liC/MNGxkONg/wKArGOQFMz1f9nBR18dTU119VT4qhcyvrmfArmDeTOMNZzL/kTBNqEQJAHSWx3VFcMlNJC2gSfOBYEBAFBQBCIEwTUupJXl6IiIE5KvPdmUwhWX9lVV1fTH/7wB3r99dc9B2OxXs7R+fl006JFNHr0aJ+v1h8vu+xy2rWrCISbPkzL+GhsbIKe2P9SamqqsZJrNyDAOlLPPussuvLKK+mBBx6wCEHdlT/66KP04n/+Q+PHjaetW7faqSspKaGrrroKZRqg0tJS2vL/2bsOALuKqn3ee9trNr1XQgqpIIEQElpQSgARBBHiL0XFigqiiKAigoiAXVAElSJKEymRnkBCEkI6aZDeyybb+yv/d2bu3PLavt1sNrtvzyT77r1zZ87MfDNzZ+53z5zZvAmbWvHmWNYQgAOTq7NmzaJrrrnGjtdVTtSLorwtdpXqlnIKAhqBj/dS2c//o559yuPDHUR7DlLBY98gYm1WcYKAIOBCAIOka7Dk2YM4QUAQEAQEAUFAEPAioF8p9ZipFZi89+VKEOgoCAjBGlUTwWCQVqxYQW+//XbUHaJRo0ZR1Te/GeOfikcg4KfXX389btCXX36ZeDm6uKOLQF5eHrHtVSZO//Of/yAz+lHOuSovK8PGVe/rDGr+lGpra5XWqvZ0/1r7G4JcnTp1Kj3yyCOKhHWHSNdzi1pG8RgDXvToYJiuZZZyCQKCgIUAHgBNIFT5w5L1nUndqF6+jbpVN1IwEx8YRYtVmosgoBCwphJeNNhTnCAgCAgCgoAgIAgkRECmkgmhkRsdAAGxwRqnEjw7x2Oyy0QRO/aPt6lRHBExXldDgzWR++c//5nolvi3MwJFRUX0/PPP00033aTq2tS9yoZ58YnmDF1txITjIJdccgn997//VfZX27kYRyU59TVRpcylt8hVg9lRyZEkKggIAm2CAPdj7uCpuIIcHcr1nOSxszE/U8jVVPCTMF0GAf0pFsVNsWt1GWCkoIKAICAICAKCQDwEMF7a7+YydsZDSPw6AAJCsCatBPRcvCRG2NbHYbpuJd20BOth4H4m8MZI4joWAvfee6/SYp5x2gwqgn3WrKws1Rbi5pLbCP5lZGQQ23IdM2oMPfzXh+npZ56mnj1hd7CLOPU10W7fVp85/K7TRdCTYgoCHQyBMJ5qFXUUxpL/xgdeoZov/4VC63fjS6N79IrKM/q7b8oxlNOnG/kQzhfgPz91v3I6+SFPnCAgCLgRcMbJJL3KHUHOBQFBQBAQBASBroWAPUDiBMOm4WV89kYfXQsOKW3HR0BMBMSpI/vLCHox92mjht5a7VVOYs7/5uiUnPm0umb5Bw6U6nvy26EQOO2002ju3Lm0ePFi2Ml9hZYuXUYHD5ZSQ0MDNTU28jNeEa9ZWZnUrVsJTZgwgaZNm0YXXXRRhypHu2bGtG/Vcdo1ZUlMEBAE2goBkKK04wBV3vg41W3ep6Rm5GVRTl1jsylkds+nkj9dS/UvLaVwVT1ljepPWZeeRKGmULNxJYAg0FURsIbOrlp8KbcgIAgIAoKAIBAfAXuA9PIyYoYuPlzie/QREII1qg5YAzEj04FFfRyxOrYfSyQL8vOjYiS/rKioULZX7777bjugm3ti0dU1VfY9Oel4CJx00knEf+x4E7TKykp1ZDuDBQUF6o/bjTiNgPujhF77aI+MApEgIAh0BgSgfRo5WG2Tq5xlXyCAH+7dyZ3q7cN7Uc5Ns1T4SChMIdncKjlocrdLI2B6Ffcd80G/SwMihRcEBAFBQBAQBOIg4OZl3HxKnKDiJQgcNQQcJvGoZaF9Ew6Hw3TllVdSvk2U4vsHZrVGO7UBmonvLVigMuUlioh27tpFN8I2Z0lJibqvNvLgMwR0h2VZoVCImFwtLS1Vm2ZVVTGJqh8FNt2kLvFjeyix8nMUEHjzzTdp/vx31TL/EAiBvn370nXXXafs7rqzw+3GaTvuO3LuRoB5GP2iKI3bjYucCwKdBQGYTeWBET/owy3txsEwRYLNa7t2Fiwkn4LAkURAdS+rq6XwDeNIZkVkCwKCgCAgCAgCHRIBNUxa81EzPe2QGZVMdXkEuhzBypttzJs3j/bs2eNUvjWxdTz0GX8lYfOrui/7qLy8nJ577jl1k80IxKqmeyJEi8O166nA7JO6jFD//v3jhBWv9kTggQceUGYA2NYqmwC49NJL6dprr23PLHT6tFSfQIdRxKrrE6NDtnb6IkoBBIEug4C1EMsettT3wS5TeimoIHDkEeCpJ394V3NJa3p45FOVFAQBQUAQEAQEgc6HgJuXibjeMztfSSTH6Y5Al9zkKsZGpuqkTlWrSS//GA5U3fLOfm0Dy3xPz5KjIyReTekVRccdd5xKQX6OHgLbt28HMRhR5CrnYvbs2THaq0cvd50jZe9LIugZq19oTdbOUQbJZRdEwH5+p1HZ26BManLgktMGez2mEcBSFEHg8BHgqaBnLskio+aHh5+KSBAEBAFBQBAQBDovAmoqyj8YH50h0jnrvCWTnKcrAl1Og5Ur8sILL6QHH3xQ8aL6A4gmgzQRlEybwOrdLMTq1/YHFHVL33eF4pDK2X7qxDwUtK8QrAalo3fkHa/dbvDgwbbZCLe/nCdBwFJVtdt6kqByq4siAFucbJNT9TZ+4OZkEmXAtqdxDbhf10TBiloK7CkjH85pRG+i4jwVzoeNlmzm3sRJ9ciJ8k72yEO4LkjhsmrK2F9OoZpG8nXLJ3/vIqKiXJ2nXKTT2i8D3A8agxThstbUU6S0Gn8wEQPGMtK3hAI9CsjP8nNRdl6HD7M1nKcI8qZw4fJkYWjOdOGSqIyutFhOBBtJhfdVUGBvBUVK8sg/qAdFIMvHsvKyE0nR/kg/UteAc+iio07CtVjij6xxnnjE4g9QEd7kqqZB5VVHsqojG2XhjbHYMW5WefQ1wnBZzX32bAoCo5AZRnWVcpndbUFFbuYHbYm4zXAGLedrDjsXZhGUMby/ggj140P+At0LyNeriML5WeTLQR0xbm7hJhE5CgJthYDVdj1zybaSLXIEAUFAEBAEBIFOjoAaJl3zPFOc+KuJzV05CgJHD4EuSbCecMIJyo4mb1hk3vDMO5TPWuJsXirtt0tVR07vtjs1e9mB+QXZvoh6L7P8HRGIqIndM8888+i1AElZITBh/ARatXKVjcaaNWto4sSJQrLaiKRwgk6UuP2nEF+CpDcCILaafj2H6jftBY/mVxsf5V17BvlnjCaCzc7Qsi3UNGclVf9vJQUbQay6XFZhDmWN6EtZnzuFshE+wuQXE5OpOib3DlVTcPFGanptFVW/ux52smPjZ/copKxTjqXsT59AmaMHUIRJyTjh4ibLxB3ChjfspuDba6h+3lqq3bQvJijTkPnTx1DmeZMoazrKDjK27oFXKLT7EPFGihFssphz8YkUOGeiuhcjAB5MmEbKaym0rZRC89dT47x11Li3nBpBTEe77G55lDWqP2V+fhplfWK4JlrjlMm/4xBV/vhfRNnANuAD8ag3XzTET1N1PdX9dg75QXbbwxhIWT8wyvn6J8k/qp8msEHC1v/yRQruOkQR3hiroZHyb5xF/gmD9f3sDAq+soIaXl4Osj2kssuEbvbFUyjz3IkUAR6pOCZSQ29+SHVPL6YISFZ2PhC9OZ89iQJnYlUIyGaP449ooQiFt+6jxtdXU9PcdVSDuornCsYOoOyZ4ynzrHFEA7vb84R4YcVPEDgcBDxzSQiy+9bhCJW4goAgIAgIAoJAGiFgsyv2CY+XMmKmURWnVVG6JMGak5tLM2eeTS+88B+7MnV/xcutxbRyl1V+5u3SDsknCGfWS9p9W0tQnd10fhx9iK8fAHZAJYk3wuK0rrn6Gpo+fbpHuly0PwKzZs2ixx9/3E74qaeeUpuh2R5ykgICVltX7V81flf7TyG6BEl7BGqXbKK6bQfscubsKCU/NEjr/jaPav7xDgWDDimmH6P6t7GqnhpXbKUA/vIvn0oFXzyNwn27pUZ+spbs+5uo8q9zqX7BelbKVE5Lxql9Ai7wYBU1vLiUauesoMLPTaWcq08nAulKrnzp2FG/kBFpCFLjE/Op+qkF1HSwWgVwidYR4MFKtFXvriMf/oouPYlyZ46j2pVbqWn7QR0HY0PG5KGKhPaOGlaaIAqDb6+l+tdXgcRdR0x8Rjt3ug0gYhtALAeAfS5IzIL/m0E0uIcitd3xQih79Yc73V4uaLTEmo/3eu7zRQD5zbziFEUOq+kuiM26RRupobTSDlu48xDRxCG41iXygWWuXr4VZKpDpIehRZx5+hhoseJm3ILb4tSJD3VSC6K0+r0N9o1AYS7lzY4znkJT2Afit+4/S6j2sXcVGa2F4NeM8aqI+MHYXr12l/rLeWkZFX7jUxQ4A4RtHFLaTlhOBIFWIeCeS7p7bauESSRBQBAQBAQBQSAtEeBpoRolzZwtLUsphUoXBFiZpsu5AuwE/8lPnu0pt+qv/FbHvddyyg8vW7aXOWFylXs6/7FTR+sCL5uGe2V/83XFBNUR4A9ydcDAAXTX3XcbLzkeRQTOOeccmjHjNDsHc+bMoZ/85Cf2tZykggBaud3+VeO3238qsSVM+iOglqqjmOZRGsnMpOo7n6PKR972kKuMhH5m6l8TgenXyn8tpMqf4+NYc8vJEdUPkwJhkKVlP3yKam1yVaduSTYJcZLa4XYI5F354/Op5nevEpVhpQPadTLHpGndvf+lij+8apOrHN5Ow0Q2HhDHp5XPLKbKP7xG4UqLJIW/n5elu5fTm7h8xH3OSdXf36EqaIAyucrX0c4ko/ytACFksvrZxVTzq5cpwJqlUS4cR5CSY37i3FcioO3qgYefAZl6amGiRBDGdjANkDlzAmX1B0Hu8g6u30WhLfubxVqn6afwxn0U/Mi7WWU2tGgDU0fGEOJ+mD6o/f2rVHH/yw65yoJM2dznLvDqN++nQz9+hsIgssEgq6TlRxBoMwQ8c0nd8KSVtRm6IkgQEAQEAUEgjRBIyMukURmlKOmBQJfUYPVDm2X8+PGUk5ND9fXWiy3mtjyxtRRYrXPl47wkWy9eZk7MMZTOniKVtABlpy6qbWgpXs+ZM2fSfffdR717w76guKOOQHFxMf32t7+hK664gtatW4flwyH6Bchvbh8/+9nPKBNEkLjkCDDJEtP+4ef0l+Tx5W5XQEA/RK1HKZU/9AbIxVr7GZvVs5AKph5LvuMGkh+akE1rdlAtlvM3wu6nfo7q39oPoI35xocUmAnNQmiOxnU5GRR572M6dNd/KMgkKTsVPUKZIGfzThtLfiwFD0BzMgJij9NR2rXmOY/gNS8uo+wpx+il61heHtdhWXoQxF3V80vscphwzMnlTR5GWVgez/ZQw3tg8xXakRWW1iVLrIXWKI8jKnMYgKwzIyLmqPpTRNux5bD8x3Rm/onDKePEEZTRD0va0RmbNu6hhndQps37LOy0KIUdyFn/rMnKVqr2RZT8HMpm27CwP0pQMQ1X1FET20pFnizYKKMghzLY3ioywemyOm4Afr4Ym7UcQ+dNnSgJ+ozlRWDrtmDGGGp8vFQ9M/hO49YDyPN+yj62P66UdCtC7IFXgDSu3UkNG/faZWMzAwXnTKIwa8C6NY6RXsPjC6jinwssQda4jass2MQtOG0M+Y/pQ5HaBph32EvVb6ygpkaj5wyyvaqOKtCGus+4BblKnq/YnIqPIJAYAWdsdNqkNLHEeMkdQUAQEAQEga6JgJ6Hql9nmJQpWddsDJ2g1F2SYOV6GThwIE2YMIHef/99u5rc/VSfu33sYE7HxpkKYb0Uu244gXHmljJ4yGC66+d30eWXX04ZGV0Wfg8+HeWCba6+9NJLdN1119HcuXNhOrCJfvnLX9JfH3mEbvjWt+j666+nnj17dpTsdrh8oBu4nB4EufFb9Izrnpx2XQQ08abL76NQuSE+fVQIwrPg9s8o8o1JOHaByFTKAIlWfcs/qR72Rs3TNIxNlKqxHL87yLGQ1dRUBPMDZtOPzaVK73aRq0zFQW7e6P5UeOdl5BuMvsxfBSxXjKXgOfe9QmXPLIQPnu3cdvGhpe6/SyjwiWHkwwZIMY7JvBXb6NCjc2Nu5Q7pScUPfQkmBhCPi2PyiWPequ106MbHqUGVX6elA8WIievBfUqJxMfC7ldOo0xe9s8bgblc4FPjKRvL5TMeeJmqX1qOOzoDIRCJlbBb2gP2X0NsPsHC2j+yD5XMvV1LYO3gZZtp35f/otLhtDJhB7f4vtnKfIGyc+BKS2l3shqv5XyWTLvM5oZ1ZJupWZecRJEn52ubCfDn2OFFHxNNHwWSNzsqhvcyAluzTR9sUXH0HRBUIHmzLjiBgm7CHfXrW76NDv7pNZcAPW53v2wq5cI2bEgr29r3s66fSVU3PU61H7F9Vo1ZAzbCavzbXMr80pmJCX1bgpwIAqkh4PQY3SY5luOXmgwJJQgIAoKAICAIpDUCmIrpaaV3hNQztLQuuRSukyLQZRm+AQMG0O23304rV65URKexiVpXV0fPP/+88o9+OczPL6AvfGE2DRs6NKVJMGvzZWVl0ZAhQ2jUqFF07LHHiiZkB+0ob731liJT82E+om/fvlRQUEBVVVXqgV564ADddttt6i/gD9DQYcNo6NAhVFRUhPt42FtPeNOG1NFswGMRONnZ2XTPPb9AWxjaQRE4/GyZgU4f3YOg+/zw0xEJnRkB3Rai20g32PDMvfViioA4VZ3O6jfctzKgzVp05+UU/v6T1Li7zC58E2y5BqHJ6jvpmJgNjXzYKIptujZt0fZeTXq8uVQxyNUwNChjbGpm+Cjv55eSvyCLDroI0xrYE81ZvZMyZ4D4M/mycsHplP/0GXWl09A3imaMpbx7LoeKJLRBzTOCb3EguAhsrJY8/R2q+u4/qGb1du3pFqB94v4ygn7WwB0zgIof+AJFBkBjlW2ZxulmTAoXfuMcpRlajyX4JolwWRU21QKW0NzkjZ+U47KZpfxMHMOMgFckyEoQusp8AaveJXHa5A4C2MHsEx2L7ZmO7keFYwdR1apttqR6aPZml2Pjs2QEK7IZBuFZz2Ss7SLU/fzjKVgIYra20fblApff/m99jXOjMdj37iuILjhebbTmBLaCDSihbg9eQ75vP0Y1rrxVPDyXen12KkVYw9dFJkfHl2tBoCUIoFk63QTnfC1OEBAEBAFBQBAQBDQCZu5mT2ItYESBR1pIR0WgyxKsTHyef/756s9dOY2NjbRx4yZNsPJbopr96pfDYcOG0o033kgjRoxwR5HzNEBgy5Yt9OqrsLeYwDH3wDxJKByiTZs2qr8EQeN6s7byD77/AxCscW+nhSf3ElAweFnU/SUtCiWFaGMENH3gbiE5Q3tT3s0XUbgexJj7hkkZpgIC4wdT1gnDNMFqdUbWggyVVlFGFOnJ2pQRLDevBzEawYcO0yYzQUQWfPlMCpfkg5CMb1YghM20sr56NmVB47PxQAVyoAYACj69kDKngsjFzvW2g63UyMKPLc1aJ+u5IA1zoYlL2UmIOCboehZQ7tc/SQ3fe4KCWIauNlvS8KhU7XTcJ4gWBsdZjHgZ2DQqxIABh4SOicyhPSkXdkkbYDIgEsQ1XAQmF8KHqgFV34RR9Q1d/mYCxdzGllKWX+L4TKbnQsO26nvbEBa1hBl0A/IUXLcb9llL4GVkRIkHIRxZu5sarU20TKjMK6Zpgt4ER/2E/7eS6vZYpDygwn8qhuYqnT3eYx7BRFFHPOgjMBuRi83U6mCiIgwMOSvB+gZq+NcCyv7qJymCDbPECQJtgQC3SdP+eY4hThAQBAQBQUAQEAQcBOyh0c3L8ORPBk0HJDnrUAjgVU2cGwHWYA2FzMs3urSr8zK5xvfFpR8CbJfXceaV3fFRzSDW2wmgzuIHYF/WYGXN1nR3hlxVJXV+0r3YUr5WIsBNpOSHn6Yw/sUlVy25EWz6lH/6cZTBmqfWMzlSB4IVhFxMv0LYJmgeBj/eo2Jzm/RBI7PgvMnk+8TwhOSqFZgiWQHqxkvujQeOjdCEZbLW7fywRVr33w+UJqzp2XzMPn8S+UqwXL85LUfIywRpnHvOREusM97Yk0l3gta5D3J9xw+F4iny01waiBNuClMWyu3LAeFrOSZYI8DO5kHNjThHUzauINO/4wTzeIXtytQliVseJs5h4iGzGIQ3S7YChV5cmrQtsH3V+peX6fSQOY5WcDLs9g7v5cHDh/qp/se7nnzlDOpJOVdNb7bcLDMTWsY5sJ3Lzs4ba0Qn2oBMhZQfQaA1CKDFWe2/NbEljiAgCAgCgoAgkP4I8FhpDZYyZqZ/dXfiErpZpU5cjLbNejBoCFav3KamJgqn8ELrjSVXnQEBb50neGon8HbKFz8A+9bW1irtVydsep+pZRsKjviYpHfppXSpIpCN5dgEspAszcqE8UCq+YZjQ0BFEoJVw8eKMDZgCiqS0KEAOb4PNjiD2P095N7oKCuTsi8+UZGhxPZFk/1BtiJiXZlp2FcO8s7lwUnClmndx3sV8WpaefboAZQzDaYEPB9sXPHcp4gUYbuhWOofyMXSduV02dzB4p6DnIwhZPgDDpcrG1q2kMubVvkKc0kRsowfC1I/KAqW0Qdh/zWGnI5JzE2psi6wJSAmXLSHN5zfABQVLAIt08LPTPH4Vi3YQD7elMwrwg4TOVBFNe9v1NeW3LyrT6ewWysZWsy+fZV6gy8lRwvLPH0M+foWK/MHSdsAk6h9EK4f2iecio1Jff2uQ6nVrc6d/AoCyRFwtU291DG2WycXIHcFAUFAEBAEBIGugICex6kZmVFYMl5dofhSxk6FgGu9Y6fK9xHLbAB259gEwNixYykLSzz5hTIMTSP+mzRpEnXvrl+4jlgGRPBRQeDkk0+ma6+9jvJyc1T6rIEVj0xgm6t+PNiVjUEm262HPPsbskJ/XHOu+WtbTm6ussN7VArXXonyQGcTKfp10fy2VxYknc6FQO7I/iAo0WhAiCV13L94aT80UZURCqudRbDTvQ/kod3sICRSiVUIm/ZrcaZN8hFL6SOrdyg7nCyDXRj+yrYTjkwC8jVP3vyQ4XbMrYYPVlMgH/ZOOSoI1DBIXE6LHUdT3kN7UQBEcMhN9qkQCX6w/DwDy+H9BdkUqmtQZePnhcpGgigeb37+wGyBL9NP/nKUe8Nuou2lFNp2kBp3HKCG7QdBpNZSBGQwk6qcSZVXjGcRNh+QNCEENuE50aRhPblSmJoojItZ1eUNhSsu/0XHk//RtxV/zUkw1sHXV1PgqmmxxDtwD76ywsN182ZivuMGICKnZDkQzeGVW5V88zzmO2y7lmA+grVg+Tkexk3OmyGAdf1zSB8FQP76mMiGU5LxEwKWPphziDDuWrC6Lz+CQKsQQJtSzzMVWbdfa0rRKnESSRAQBAQBQUAQSE8ErDESMzJ7+qW90rO4UqpOjYAQrFHVx5sb3XnnnXTHHXdE3cFEGDNfJmDFpR8C48aNo4ceevCIFizd245thJyZGFyocY9HQWZNZBA8om2rswhXHyZUZnWj8IGQVO2juQKgHflKCpSGJjcl06SYnFUErYmPGxFs+MS7zLMzbTJS00j7Lvu1DmUJMPe0Z/Sv02BNWj5sqkVDemhije28YqOlSD1WO3CaKBgTJRk9CijMG0SlaqIT+ff1LiTK08v3OVVeVmJPHqOz5b5mLcsyaMY/8S5VvrWGGlm7EsSpcowLhPnw45RE3zJpcLmSO4RAEhHFOiKf0YKSRI5YgU0UJjDNeXQ0f49CyoeN2CrYs9XUcoRqnl5ExV+cYduMNXEC2ISr7OnF6tLUS/alJ3tt4/Jdrh/Y5/UC6aOKv8+jysfeRQDEthuAyRn7KdFOZi08TVoErenI/koi1oI1m4NZUeQgCLQGAd36XA3PeUi2RpzEEQQEAUFAEBAE0hYBHjPtOVnallIK1tkREII1Tg0yEZYKGcZai6FQyNZwZVFsy5P/OL7RaIyThHh1MASEPD/8CjE0BbMTavAzHuqF0VwcfjoiofMiwISfdvrox0ZPKTkOziQkk4poXCq2ERUtAFqH4ep65esEwRlruioPPTWLbZauKRtO9RWIOouIixwAsWYcPrZFoHEKOwQWT4c2D03SAAhWjyalCZ/k6EdGmFRVDolyvlTejF/0EWn7oU1b+5s5VAFbpE4ZOaDOtTl471mCrCBx70Wl5QNfayjaVMI70TkROCutEI52GfUd5zcnk7LOnUwEgtWqWaoFmV28dhfRSGzCxZq27EBch7FxWcMhXQ+cnwyYjMg55VhFqKow1g8/z5uYZLfbG2eFyXh4wZY6OytrVgx9QDRXFFxEEcUEe7bEcvuBYBUnCLQZAk7vMh8n2ky0CBIEBAFBQBAQBDozAtZ0TL1dYl6mRkxn2OzMJZO8pykCQrC2sGLZVufevXtp//79tH79etq+fTuVlpbSoUOHiHeKZxMCvXr1pgH9+9Oo0aOpR48eNGAAbOyJ5msLkZbgnRUBRVx4Bj7PRWctluS7TRDg1uFyLgLM5ZvkFG0J/1UbQ6h4RCQvfY/UWyqkVkBvm7TaY0yzdHngVF/ZJzF5itQ0qSXsOhw0WLGkPABtTP7w1hLHoe0ouGBOLwolRxwYwPDGvVT2o39RA+y/sjNY6EAwYQIi0g+brj7YYWVbrPznh+Zn40d7KBLPdquOGPdX4at/4t5v1tOCImF5WAB/kDxuIGX37UYNe2Hr1nINzyym7J9cqswbsJcPdnRrnlpobqtj3sxxRD2hARzlVJarQYBz+hZAVlbskNHXfMOuBxUKIaICRZikT1oYW7ycCAKpIeDtwOj/0sBSA05CCQKCgCAgCHQJBOy5mJ6XRQ2bXQICKWTnQkAI1hbU16pVq+jZZ5+lN998k5Z+8AHVN+AFLonjneOPP34ynX76GTRr1iw65ZRTkoSWW4JAeiDAXxj14GePiOlRMClFB0BAkw+WjrTiv6L5CB8IOybjlLOaYEavYsqaBk1HEGTMuBmtTNYeDVtaiobWMLJZ49K04Ag2zso4pq+HgGMZ5r4KyRdK29JIUjlI/oOgkbpGbQ/VCsnpO3Jd0dlOLbRoq3/5ok2uckdjUjCAj3vZEwZRZHBPysFfBshKf69C8vUqIh82a8pAvnZ/+lcUKq2GQHe+XfKjThPkIipUoktTAsYCJTKX8YKjAAHkMeeUUdTwnF7+z8Eq562lPrX1FPJprWUfTDJUL/rIkgAtXnhnQnvVV5TrwY8DqPSgGaucaiDIA+yv5kweSn5gwxt/seUDy6KvDqeeWhodrvuwugZhjSPb5GYXKM5TtoA9ZinUHfkRBFqHALdVb/fwXrVOqsQSBAQBQUAQEATSBQE9b+fVSazEYObp6VI6KUf6ISAEawp1yp35xz/+MT355JO0adOmqBj6BdJWkzGXCNUAAnbhwkXq76l//pPOOPNM+ulPf0oDBw6MkiGXgkCaIKDavyZwXF0hTQonxWhrBFpHJTTTsngjrHyLXLMynNmrgIp/cQVRldd0gFuS+5yjmWt9RE7ZPAGIOeUwJvhhDsCXjXTYHAECRbCxVRj2OX1s/1OHav4Xk8VQGUjPemjDKgdBYFw4zRgHkrRhwUdUt3SzcwsJ5WBTrcJvnEOB0f2xdL0bWEfYCed8Io98jCA/4R2wz4r4eorK2eUU4qZiy7YW5qv8mAKlXC5bto6hyUxbdOxJQQ5lnjCMAq8so5CFRai8hoLvbiDfWdBSBfaNL79HYWDMueYnTPaYgZR5HEhlLmeUYz9fETYs5DX/1pZYbJ4i75IplHXORGxepSnTaASMJJ2GFuo+17DBx7SDqHTlUhBoKQKmzen+iKvoRtlSgRJeEBAEBAFBQBBIKwQsSlXN9zyzsrQqpRQmfRAQgrWZuqyrq6NLLrmEXn31VWVr1QTn9zbu584LqyaV9IsobkapJWzZupW2PPIIrVy5iv74xz/QlClTjCg5CgLpg4B6W9TtX42D6VMyKUkbIBC9RaDZvT110dzAVCNTUfgx63nU8nUmbKHm53pENuwuJz+0V4OsBepqmI4kt1Qd1dzTR8Rzk2o4D/QuJr+tJYn4kN8IgjWb00jVMfm5r4LCtWY1BFLjBE3ibjk1DRRc+JG6xSlwkIz8HOp+72yKjOgN26KgREGi2jZLTVx/gILYAEuZTjB+CROxA2Bss8ph5SVelpzQyc+aq2fOe8aEwZQBsjjEtlfZNYao9rVVVHD+ZPJBg7ga51w2k4+sScPIP7QnhdnsQbRDHQd4UzS7KoAz4obLahRwat8uxDGyYqK7PGLCuNqPK5icCgKtQiB6LtkqIRJJEBAEBAFBQBBIYwScuZhzlsbFlaJ1cgR4JZy4JAh84hOfoDlz5mhyFS9r5n2Nd41mZ3SNvN0dV/ivQvCPFYkPS5d+QJdfdhm9//77HF2cIJCGCMRv/2lYUClSCxGABUtPjOjl/Z6bcS6sR6l9J/pa3YA2JC+VdzvWLo1sPhCzGZI7TIvOQbJFsKw9jE2WjOOShfaUqWX8WnPS3El8ZHuLjTvLKAQzAe6yxMOFyxDaBflwBsXC6aMpMgqmC9j0gZsAdicJ7c8QNo0ixFcOCZn47mDR59F54Py58xgd3n1tx7Ui2NfuQO5zzvuwXpQBjVSTBmuh1m/YTZEdBym8YhsFd0ML17qZCbur2dOPtXRT3YKs82AYGr0DtNYxezELD6c0eYG1OEGgoyAQPZdMqXN2lMxLPgQBQUAQEAQEgSONgDX3M/NDO7kYD/uOnAgCRxUBIViTwH/F566gtWvXWi910OfBO5p5UVSLQLljw9PW9MF1TF9HHOvdzp43b922jW6++WbavXt3ktTlliDQyRBopv13stJIdo8IAvoJGfOcTDEtTZM5DY21v9QqcFd8X0E2ZQ7tpX2soLzpVdUjc9VGVK6grT8FIejvWUT+vCzn+Q9pwRVbqWnhxyD2Uigha6+u3UlN765T+XCXLd7AzBtUhVybQHGkzGP6QHNVx1RC4vwEQiAql28jtiOrXPLgtgQet+yxjX0beVOvONqidgznhJfjK5diWiosylF42hgKdMvjhNVYyiYXQsu3Ut3ijyl0qMYeS/0DupP/5JGJ88PaqiN725rMZgyue2kphbaXOhlN9SyF6kxVlIQTBNwIuOeS7N+SLuOWI+eCgCAgCAgCgkBaIuCZUloTRJ6hyoCZltWdDoWK9x6XDuU67DI89NBD9Nzzz2k56MA+9GLVj92dnM/xZ92xzp2kraC4z6+p5g1Nn8+bN4/uvfdej9kBJ6acCQKdEAHVF5x8O+3f8ZOzro2AId5M22gdGk5DY27RcHlGFhOOGSAeM6Fhqp/POMCvdt4aCs/fQJSVomUctrkKm62R0qq42qH83M/jjaVco2gTtCNrX1lBBDIwhvk1GeQjzw9BmDbOWUn1m/a57uiymQ95rhu6LGwGwOWC2PTKx/lM4Hywx9r45odUv3CDZatUj0P8a0akuFFZQzc3yxnbECgIgjZUy9qfSWNa4rxhmjMRoCIBD//UY8nfB3ZkrSoOwb5tAwjWxg17LBMH2NwKG3oVwY4qwRQEh0vkfICq6FOw3wpnVpo0VtZRw9/fIWKzAqmYckAYtanCTmjPctm9xUqUtPgLAikjoJow/1htOfqDUcqCJKAgIAgIAoKAIJD2CGCwxH+bl0n78koBOyMCid/MOmNp2ijPZWVl9Nhjj1Fjo7OU0P0Sn/AdCzf0Pf51h+JXcWv2rM70+a9//es4m2a1USFEjCDQ3gjYTd70AtujvXMi6XVQBCJtzB7EbWGWPc+scYMUCqY1BmF/s/LBN9Rycx82wlKbVrkF8DmTlSAlfdi5PvTeR1T9s+eoAZqvZNtIdYCN1DVR3v+dRpndYevT5erfWUe1j8wjX1Wd3nDKXWY+Z/mwL1r/r4VU+cxCV0x9qj7BmeHCddeXnUGZUaYPauatI9/Og9jpyrupF5OHTK5GYM+0+h/vULC81hqSHMHOmSsRcwpCOjCwuyZ9LIw4fGQ9Vl24SV6rPDFkpXvA5HhuDEwa0UcmdaERXKg2tWIUtKsHKR5ct9O6guZwYQ4FYJeVGszGYNGC9HUE97OvmkF6kuOUtnLOCqp/Yj75DmFzMcYtmmjlvPJGabyBWWk11T+zmCq+/Q+iJZvhH21FOH7a4isIpIKAaeOphJUwgoAgIAgIAoKAIKARiJpmCiyCQIdCQL97dKgsHf3MvPzyy7Rs2TInI1GzYOdVzQmiznBD3+NfE8qJrM6sS+N72223RQmRS0GgkyLATV41bK0v5nxUMK29k5ZLst1mCBgN1tYLjHqAxhOEdsjal3mXnEx+tseqwujfOizhL/v+k9Tw17kgJg+R3w8irSgXpF0u+UCe+bAEP8LE6h1PU/nt/6bqtz6kYGllXA1WRTSChCy8+nQnF8heGLO+qsffocpb/0W+ZVvVBk2ENPgvANugtHoHVf74aar89SsUwsZVjtNli2C1hFdPVYdgws8/xGtbtgH5Lb/13xQB+efLzyYfyMcIyhKowoZYzy6hslv+SVxm5TQE+ry5XxCskR4FFACpaw9liFP9zCKKvL2GCLj6i3Mpg7P8/iaKQJPWZkRZtiFUrepyy+DbiRyT1jmfPpH8AZDDVtwm2I9tYg1SK4GCM44j6lUUv07cgrkMMCVQ9MXT3b4qK5W/f5XKf/gvCmPjLH91A0w9aOwyuJ5gq9b38V5qBAFe8cN/UsUvXqD6LfspUskktSmQR6RcCAKtQsDdJe2W5fZslVSJJAgIAoKAICAIpCMC1khpD5jpWEYpUzogkOJayXQoamplCAaD2IBqCdXVQfsIjvuw85VEXSl//snPz6dzzz2XBg4cSIMGD4IijJ927d5Fu3buolUrV9Iatt9qvVnaMa3Js5lD//vf/6ZHH32UcnPxYidOEOjsCJj2bTd4LpBp7Z29cJL/w0UgWpOxNfaT3M/kMAgvQ8R58gaSLDBtJHX73Cl06OG39C2rTTZhI6ryP79JgWcXE4FYy+oNsg7kaiOTqyA8fVjmH4R2o2m1rM2ayIURNuuykyn36YVUt9Wx7clxaxZsoAZs0uQD4ZnZu1BpcQb3V1Gkuo6CsC1qXN6o/tQIgpLT5CzaCZsA5gjtzsxTRpH/5eXgdpGCVZ7aDzZR402PKY3TrN7F1MCyy2soBO3LUE29ip0J4jCI5fa8EZb5/GEISyM+5oiw+dPHUOUbq/UtpNeEPB6863nyQavXz9qcvNQeaRXe8VnKYNLTGixVOTiWqhykiYq2/WIScnlAOzY8oITyYV+1CprA7Ew9mLP8/5tBofrk2qu2xKYg5fzfdMpfsYVqsFGWcUxg172/EaYHUD+w+RoAPoxdU1k16gHmHSA/DHMCYbfmMpOrzmTAiJKjINAmCNjtPKWO0iZJihBBQBAQBAQBQaATIWDNYD0Dpn3RicohWU13BIRgjarhvXv30ocfWi+UuGe9H6pQvBkBd+OiwkK69Uc/oq997WuUnQ3NF7x48R873vmY/5iofeedd+iHP/yh0oZ1d38Oaa457BtvvEEXXHCBii8/gkBnRYAX9dr0jWng8DP9prOWS/Ld9giYZ2BccjRpckzWIYDVvlgjlklau7m544L8y/36J6k7yLJDj79rB+LoYSwfD+8uU6GDm/aqI0TFd7wkPtE99ocWbNH9X6TItQ9SPQg6V/ag/Ypr2HBtggakcXzfuOwRfajomjPo0IOvw24rSF3c5PvuMCYse2ZhE6jc8yZT7UvLMM5wKD3ZDB4EMXiwhhp9O9T4Y8fBSQZslRbfcB6V/eFVbBSFZfFWYbhfJnO8KVbOd2dRNQhWDsnpcZxgGTQ5+Q9XfO1nLVdsKqVzrWU6kvVZS4j0CEjRvKtOVQSrLiHnUp8VfmIEhYdCi5eJ3VQdCO6in36WIrc8RbXYVMyRiWxX1JIPf7z9V6Nvpws7XTZPEtwOrHHe4y8XgkArETBt0RxbKUaiCQKCgCAgCAgCXQIBzzsA5qDOfLNLFF8K2UkQSKya00kK0NbZ3L9/PzRPsQTSOFfP5dPi4mJaunw53XzzzVRQUECZmZmUgU03AljSyH98zn6skfqpT32Kli5dSmeffbZNwLJYl0iVypw5c9RRfgSBzowAa6mx87ZvQ7l25pJJ3tsKAdM2zLElxJvKA0c0kXHKxEQyFwLxl3XzBdTr5ovIn59DPtjbdEVXUZlYjSZXfQEfBUDMlcw6gfK/cz4R72yfyDHJO6Q7FT9yPeWO6geS1J2r2PbP6fuzMEZMHkIlD16HZewlxJqwyqmbIPdAWvLHN4/jS5g+KLx+JuWfNBIytD1QJxTSci4UGZjZq5C6//xyyj4dy+pdjoO5g7puOacQ5u9TRN2+fZ5VpuiJrL6OX4de6axpnLKDGYWMk46h7F7FrjxqeblXTVebXaUsywoYge3aovtmU/6MsWqTM84OU6jsTE69eFv1Bpu8OTAD0fvWi8l3wQnKfIAlUg6CwGEjYJ4V3AZNDzHt8bCFiwBBQBAQBAQBQSAdEDADJJdFBsl0qNG0L4NosEZVcU1NDZUe0Es9uT+7+zFf/+Y3v6FjRoyIipX8ks0ATJw4kbZv364DGsHW0WPvNbkouSsIdFgEfPisaNES6m3RkD3at8NmWzLWjghkHzeQmrC03I9NhCL1IBX7l6SceiQYomxsXOWD/U92PmgUZgzt5TATiSSxuYCrplGvs8dR49/mUt2yrRTChlcR+EfYJmokrDc0AqmpNjbCB7L88QMpe/Z08o8eALMBeml9IvHKHwOFb1hP6vaPr1M+bHey1meQ7ZJCC5S1LfmLuw+kqg+kaEa/blRw3iTK+PQUimCTpTAvXQcW9rAAUs9fAJMx7sHHJM6aorArWvjwVyj/3wupHH8RLGOP8JJ2/DGB7MvCsA7TB7kThlAhyh2ZMJjC0HDNBPZ+1jxFeXl5f6BPN5zGS8QkhiM6cfYXT6M+I/tR5Z/foBDkRBoaKYxNunijMB+0Y3njLb/a6MuShfxnjR9MwW755MM5583HZhjMA8ElPtEpE+MF151O4WffV+XhfGYCK//Ukc3bXo0nlHHrW0yFf7qG8l9dRbUvLKH67aXkYxu4KEsY7cAPUt3H9QH81IZixflUcO5EClyMemIym+tSnCDQlgi4+oTRyuHngDhBQBAQBAQBQUAQsBCwppdmnsy+/KHcNYQKVIJAh0JACNao6mhsxMsjLwWEUy/F6NTmFfT4E06g6dOnR8Vo/rJbt250zTXX0E9+8hMd2MykLcGlpY7tvualSQhBoGMioPTZzIBn2jiyavpPx8y15KrdEMBMKPcXV1AeiDnVKDA7UpqbIDpTcRHYEC2690pF2qnwiM87xTOB16xDGr6ehZR72yWUC9uaEWxiFATJSlWwtQ3yzYcNnXw9CimAIyFcBCQby43w/VQdSLoIiMvM686gbiBnad1uEJuVFK6qVysYAiX55Ids36gBFILaJ+fdB+IwBBMCEWiwcj9R5ApISV9BNjBK0HOQ30gIhOzlJ1OvC09Qpg5C+8opDDlsSzYD6fgG9iDf8F4UwqZRxCRibiaVPPxlz0oKJmQVaagSTVxIJrb900dRd2iVRmBWIQQbtry0PoA8+rqjPCP7UgR5JoRjxwR4/m+/SAUgLO165jxY9xOn5LoDXLKuPJV6XXOGjQOjoeojASyu2PFPmWQFzv6Z46j4/ElUsOMQ0dYDavOqcA3wBLka4LpHG1D1VJxHIdQBm0oQcjU+pOJ7+AiwJrUaO612najbH35KIiElBGDyhfh5xvXBz0Z+bljvBCnFl0AdCwGuS65Te9xAb8NYlHTYw2pExd6YkuCjZITnCeZajumJADN23F7smkajacm8JT1R6RCl4r7HXdjNyxgzWR0ig5IJQSAKASFYowCprmYbdZZDb7bHZHjxZlZMlrbGTZ06VUdTTwkjVT8yysq0LcDWyJU4gkCHQgBNW7dqLJvGibwsdqjaOeqZ4U2kzNOvxZlhQvVw4uMFKcwbPfEE+rgBFOAGyn/suKHiT20exRNqaJ22ykFGpBaauSx2bH9sfDgAf04aSj40QI2LQOO06WAVhSztSMaGNVAD0FJtVrsUBGkQ8WkwyFTYJVXlQXxe6q7igti1HRcP1zHYW1mzwyU4YW3fEJdjUHeYQ+hBGXxuYcYvnp6XEE4fOMeklUB2Im9FcKdCnicSkMify8Kkfvd8IphQYPvp2tgCisQavci/qidjtiGRHPEXBNoAAfQWLYX7Ik5T7JJtkLKIiEaAa2LR7gP0vx17KAvjRBDPg1P69qCzB/drneZ8dAJy3e4IvLp1Ny3ed9Aa74n65ObQdeOwEiKUeIx/Yv1m2lLF9tR1bxzdrYguOWYI2kDiOO1eMEmwbRHAPGBzRRW9iPZSjT1U2OXhg/U30FYyec5oPabbNlGR1mIEUA9OVThnLZYjEQSBI4yAEKxRADc1aW0oa66rZ7tWH+YNrdi+amtcz57YmIOd63ngYy0meOXlJbHvpyLJjyDQORDQE1LdyJl/EScIdDgEuGEGj3DjZPFsfiCZY3IUy9Sblm91QvHAk5MFLVfYcmXisjnHZQnxX3MB2+B+e6bVBtltVgSTqfLC3CxMEuDIIhCtwSoM65HFO5n03TV1dNVbC2lLZQ1lgnBphObqOxfPTBZF7nVgBEJ4xj+/eSc9tHYjZbIWK9wxRYV03YRR8QlWjL+NGLcfWbeZ5u3erz6O8jBx3pB+dMmxQzFeKBHyk6YI5GIPlSc+2krLSstR96SI1Rp8bP/RyRPx0T2FlVJpiktHKBa6oRoa+eicdIScSR4EgfgI6BEn/r0u6VtUBFtxcEoN3ZwoH6IDBw5QRUWFddWyw9q1a3UEfoFWDtpY/KTAH9t9FScIdH4E9FJHZR2AC4O2bjf3zl84KYEg0LYI4M2tfv4Gali6WcnVfcWnN8qCDVU9QLRtkiJNEBAEOhYCanNI1fn1E0C9QHasLHaZ3Nwwfxm02GBnGpNzJle/Du21U/tCOYJZtmSOyTuLwEsWTO61LwJca6yFzK4JxybUaUMk+ddIHSeszMNw+BDMAzSl8rFTpSI/nRYB9Pl+hXn03UmjYFHJT02o91qQq38GOT932y7LdECnLV1aZDyGl8GQqUfNtCieFCLNEBAN1qgKzcrK0j4YZfWwjKXO8OHzLVu20J69e5WpgKhozV4uWrRIh7ENiECiJbikW+obvTSbkARoUwTYJm9lZSUtWbKE3nrrLdUGDh48SIcOHaKcnBzq3bs39evXj6ZNm0Znn302de/enVjTmZeddjVn+gnvKm56DR8tC3NdDQ4pb1dBoAnLyXiAyIyy29ZM+cM7D1L9E/OtcUaL8MFuaf5lU5V91maiy21BQBDo9Ahg1FRf2rkg/BCRF0YFQnv/QF3tkbWb6dnNO+x5+SgsC79zyng1TY+XnTDqrQ7mZDaCkP0LlpRvq6qhv59xEnXHCgRxHREB7l/c35rPm56/usLx5Jb/xKU3AiDSPzf2GHpl21567KMtKGuEdlTX0j3L19FxJcXUKxcfvsUdPQTQd3X3td4wwaeoD5Qp9Omjl2lJuasiIARrVM0zaVZYUEBVbIvVDKhW5926dSs9/PDDNHbMGMrPh/22FN3q1avp0UcftUJDmHkYWMc+ffqkKEmCtRcCVVVVtHLFCvrDH/9ITz31VLPJ/uUvf1FhTj75ZLrpppvo9NNPpx49ejQbL50CKIMXTCyrF0bTzm0Lc+lUVCmLIKAQ8OVmUd0DL1No037KBjEaYLur2CyLMrFJFvcDmzxBcO4beJH3YZOthlXbqeG+l6gemyzZXQZBckb3JzptNFE1NoUSJwgIAumNgP4a6S2jmR96feXqSCEAzdN1B8vpurnv6xSAfy5sL/5h+gnULTsBWYqH9vLSQ3Tp/96jrbDVya5Pbq7SetNC5LdDIsD9LQXHSgEex5dRXp77cpE+COCD+V9Pn0KL9pfSx+XYOBTuf9v30CP4iHLjxNGUwbYDxB09BAz8qj/iR/rl0asLSTkpAkKwRsHDGojDhg+nVatWoeNyT/YSRH9+6CEaOmQIXX311dS3b9+o2LGX69evp9lXzaba2trYm5bP2OPGJrwnN9ofgU2bNtE999xDhjR150C3CLeP95w1lS+99FKlzfqzn/2MTjrpJG+ANL5S2IBQ8ox3zQGWxnhI0boAAnjRjuyvoqpFH6u/XBCk2Z8cTxlD+5C/W57680GjKYzNucJl1RTCRlOhBRuo6rn3LXNuiG+RsJkFuVR8y8XY6V5sfXWBliNFFATI4VedlR6e8VMwOvIIYI5y3bz37ecwJ8imAWb075U4bTz3t1XWKnLVTHGEeEkM19G8wx8wjbP5VZefuec5WpFM3Splm+bieATIRadFAPOxTKxGevysqXTKc68rUxFcljuXrqGLhg6g0SXajGCnLV8nzrjqj3F4mU5cJMl6GiMgBGtU5TJpOm7cOE2wOrNfT6jbbruNXn/9dbro0xfRrPNnqSXi7o2qDpaW0qbNWG707LP0wgsv0IYNGzzxnQs9fJ977rmOl5wdVQTWrFlDX/rSl2jhwoVx89H8y4+uU24fG0CuP/TnP9M555wTV1a6eRpsNAJW6YxnuhVWyiMIGARclszr1u8m/svIyQS5mk+BEqx0AMEaqakHwVpDwUPV2FcpdqeMTGhMFd9yEdG4gTAWl9xGnElWjoKAINC5EeDhUY+Xrg+T7CGufRDAc/fVLbto+YEypKdrYgQ2Qbpy5FAsQsDrEWxwxncRmFzVFSVTnPgIdThfVBd/y1S11lylWfebC9bhyigZahsE0O+n9OtJXxg1jB6F5iq3mWpotv5twxb6BW94Je6oIKD6YwJe5qhkSBIVBJIgIARrFDi8ydX48RPg+6TWYOUnqxmVrdE2FArR22+/DRJuEf3+d7+j7Jxcys/LI7bfWltTS3V1tcrEwO7duzE/807Q+MOoI04LPO+886JyIZdHA4G9sK/77W9/OyG5ynkaOGAgDR02lAYNGkTBYJA2g0jfsmUrbLIetLLsTMm279hBV111lWor48ePt+6n98HRw0nvckrpBAGFAD/PG6Oe8bgRrIcW6t5y/eeCiocT4/icaZWsXkVU8MNPU8apo4RcNeDIURDoIgjoGQNGTrw48tzQuwSki4BwtIoJwP+0ZqOypcpZ4Gcya65O6tMdu8x7n+uJsmjm9Inui//RRcCekVsn9nXSbEWF4ssor6TR5WbnRwD9/6ZJoxXBaqr+16s+oh9MHpPYdEjnL3XHL4HaxwbZdIiUjp9nyWGXREAI1jjVftZZZ9KIESOIl4rbg6qllm595Fax6uvraONGhGmBUxNofim3ntiXXXYZ5cJ2k7ijiwCT5qxx/MYbb8RkpLi4mO666y66/PLL1cZWftjs4j92HI9deXk53XHHHfQQTEgop9kT4g2xLrjgAmL7vV3BufRw1NuKD/3G49cVQJAydhkEIg1NlP35adQN2g0V89er4cJMxnmsiG7/9j1GCG/m3S47mbJnTydf325dBjMpqCAgCEQjgCeD9XDgqYO4dkAAc7h3duyjZQcO6cQAfHdsUHrN6GEtS7yz15tqcPzjtMGWAZBiaGvZvf3yk2K0ww3m8Dj//gAAQABJREFUMQtg1VXzMhUoTjC+jPJybh7BM4PZka6bI1iEFom2y4tY5iW5RQLaNvCQwjy68tgh9MRH25TgBrzvPbBqA/2UtVhT/ADTtjkSaZ7nlOFlBBZBoAMiIARrnEo58cQTafr06dBO3OR6xmNk5gHWOcSJaXkhnK3FbsXxBHYN8nfeeafnllwcHQTKysropz/9qZW4rkDWxvzud2+kn/3sjmZJcDYR8eCDD9Itt9xCX/3qV2nOnDl2QbZt20a//vWvlXas7ZnOJ6b9o52rph6vD6Rz+aVsXQeBYJgCxw+lwInDKauilnwvLqW6xRspCO3V+n0V0G4NKc000xEyCrMpf8JQyjjlWMqePopCTKw2BrsOXlJSQUAQsBFwD42uaaF9X06OIAIgcP6zZafaJVylggqY3KMbnToEGw02xtrBDiN8U1jXUgZe7JssgsXUG+u7NsKvIYp4Yc4oC2RuE1azWdFVcuyfCX9uAy1xzDs1Rq2MY/mGm+L8cFpufsp9n9MKIiMsg5c9b6usodKGBuoBcnlQQT608zLURj6ct8NxIYVXWGkH74aJnF1Y3RdAJvvm5dCA/DxsJOZHOn7ldzjpNBdXcTAcCMC0FGtbNoPKf0fYcRvTdROivbUNtKu6jurCIWyglk0DsbFyAWyDcr20xN5vdLvjuFwP7LhI3GZDkTAdbGikTF+AirIClB0I2GE4HOeJ69M4ju/OA8sIQkY5Pjjz/u7FWRmUAxnuMCau+8gyg2iHjZB/oK6B9tXWU1ljIxVmZtKAvFzqlZeNvsNptaydcE6j+0Am5PitcjPO3P65XPuRbiE2JS1EnrmfmDCcz3zk4+pRw22Clf3uWbGebjthHGUEgKEDCd8S1w4IcBU6TREVwE1Z6qEdkJckWoqAEKwJEPvWt25QS7uZHFMzF/RoQ5rqjyamV5ujSxA6Ow8yqtebjo+ngs96Khiva6+9VmnKumLK6VFCYPHixXTgwAGk7tTbN7/1TfrVr+5tUY6GYAO0xx57jD598adp/rvzrbg+pQHL5ge6hHO3fx75TIPvEoWXQnY5BPi5HgyRvyCH6P9mUP41ZxBm6VSIv8xDNdjYqo58eFEIY9MrH2z+Qe2dIiBmQ4gj5GqXay1SYEHARqDZuaQdUk7aFAHMxzdVVNGCfaVaLKZ9THXefDw2nLVWJUWn99bO/fTz5WtAHGXg8R5B/BoriJ4z7gGB+IW3FiliycRlAql3bg795bQT6fYlq2nVoXKVDuhPKgJ588fpn6BeIM9Sdsj30v0H6fuLVlA2xhJF+oYi9MgZJxFr27HbUV1Lt72/mvbW1VEAZQoiD7+bdgKN6lFMTTBrtfpgOT358Q56eP1GqgAhFu2GFBbQJcMH0rXQ5B3ZrZAyQZS5GI3o4N5r5I83bdyJPDy9aYf6W2Qw9oakU/v1gq3bIXTRsIHUD6TrkXJcO8ZpshU+bk9zM8kRxWpxnCTiYm9B/kEQfa/t2Iu62U4vbdsVGwY+Y7sX08VDB9LVqJshhfkg+UCC8/wjkcMc5NZFq2l56SHK8PmpDm37OxOOpQshg7Ux39ldSvcuX0tv795vE6hMZr466zQ6c3A/raWJdnbfkjX01u69qj3Vg5jkPHxl7Ahlh3jVgXK6c9ka+h/yXof2ZdzjZ51CV44ZGqvpCTAbMPdZX1ZJr2zbTS9u300L91r90ER2HU8f0IdmDelHnxk+iAYX5FEA+UtaZsStwAeS7y1cQdurahRhWo+y3j/1eJrcu4QqQSQ/u3kn/W71xwoXkxRvXvWfc6bTqO7YxArEq3LAdhz6zTnA4n/b9ygvzvuj67fQlyaMVPM+E1+O7YGA2RTW6sOoH8PLtEfqkoYg0BIEhGBNgNbkyZPoZ9AuvfqLX7SXgdvDGE6chc+2r83NaZGx/i4fmjJlCv385z+3l5onyIZ4txMCzzzzjJWSrqWzzjqL7r///lal3qNHD/r5nT+nKz//edq5iydKEdjkrQLh+i6dCs3oruHMJwYeCIGpu/F3DQCklF0NAX7RaQiiqeuXDH4nC0LjhHoUwg/36hqlG3S1NiHlFQSSIYDHQty5ZLI4cq9NEGAScANIHuVQD8XYmPBs1l6NQ7Dyo31DeRXN3bU/Km1+yuOm9Rt7nxQR+ttTj6dKkD6vbd+rwpqf2SOH0YXDkGaqDmTXL1eso7dc+eiGvR9s7UJkp6y+UWnmcnrGba+uoaHF+SDT1tFdS9cqoo3vObk3IYm2VVXT/SvX0yPY3OfHnxhH1x83gnJ4wy8GIZkDcdYI8umfG7epHdc3VlTHhHanN3/PAeK/h9dtxsZBE2jmIBB6zaURI7F5D49IVQT8NFOUaKlKRgvjRMtIeA0S9E20izuXrUX72pcwGN9Ye6hC/f113Sb6yYnjQLRi5Qx/tPUU0i3Cp0jMNYhn3MwBfWnW4Ajd8cGHdPeydcbbPvKHBtZE1a0DBxCab+3cR6/tdNpuP3w0uG7McHrww41044IVSnvVFmCdlEMT1ZZhboKs34o+97s1H9Gj67ZQGcjOaOduI3yPMeG/38L+6U0TR9N1IHZzoXGauMxE9WiHL2DzugN19bb4jZVV+GBQQF+Zt4Se2rjd9jcnrJFeowhibw76QJP2lD49bYKVw78CUvhLk0cLwWrAa7ej7oRqzLT645Hqlu1WJEkobRE4vDUgaQuLLthsbFD0i1/8Im4p43Zql6f64mlisj+TTJY79thj6fe//z316dPHeMnxKCOwYuVKnQMeW+HYdEOAv9y30s2YMYNOO/10OzZrq709d659ne4n3P51i8ev0/TTvdhSPkHAiwC/+EDjw9aI8N6VK0FAEOjiCEQPj9HXXRyeI1N8PJc3gQBkTTfjzujfW608MNfeIz4Yu+bw3nvJrzJZYw/kzS2sHRvlHl7fgj0cIKcCS8bnWJp0RtQ1Y4ZR//wcc6kW3GWzZqPLcZv6zvzlSrOVtRiNS9bWykF+sRbgvVgSXe/STDRxo4+NkPuzpWvoyyCw4pGrHD5eekthA/eqNxeBxAOB53lxik7h8K6tqX2KQqJyypFbJiC1dECOPg5tyCvfWNgsucoCdRZ80E6upxsWLFMbtDW56jNeotl+73tMEZbC//iDNXHJVZUG2rkvqh6yeDm8y3XLzkLam+hmtA82DeC9qwO6oyg0QYq+Ay3Xz7/xHt2/YkNccpVjRiFvy96ODyI3LFhO35q/LKX2mBPVB9hEwA2I65Cr3lxzmflfTA4Qbwy0W1nj3LgPDmBTYyahvSLMbTkeUQRArzLugv0RRVmEHz4CosHaDIbf+c536JhjjqGrZl9FNfgKbLs4z2HzbFa33KOEKyxrrj766KM0dmzsZMuWLSftjsCmjz/WaaLeioqKqG/fvoedh5EjR1IGvvwHMTnlzbC2bt122DI7g4CY9t8ZMi15FAQEAUFAEBAE2hsB1/yQk+ZLcUcWgRrYHn2fSRKXu3DIAP0xzOVnTpl8YVIpB4RYPv7YTuMhECwh/nimnK7EEoQBH6Pu8ysA23jsDw049htalE8zB/alN1yagC9u3aU0Tktysiw5SQ744P/Yx1upFh/rdSuJwI5pgM6GzFgNU28ruhuaq+9gGbhxeYh3Ut+edHzPEhoEe6ibKqvpPSzTZrJTOV0cZR/zDpBx50C79MTe3U30uMffY8n1nSBYjbNEUN/8XDoP8Xl5e02wCSYKKun5zTuU1q0Kgx+2vfnluR/Qxqtmmehtd+RE4OxXMuta+zbzqzJoRbYFNBMn1duozzlYqn79vA+05iTSUskhnTysfDl/8ACaAJvATBSuhdbnf7buVG3FlIRJezY7cd7g/kozM2Gy1ocBUxTWGn4JS/PN+yrHywP52Q/tdCvaAcvldutxHJmdJYQ1Yl9A2zX2hjk0k5PDoSW9u7oeGtJBZVdVxeF7KOvqfQfpmrcXq7Zm/M1xEJb+s/3j8T1KKB8E8A4s7V9xsAymAw566o3NTzwM7d1iaG3/avrkWPMDRmCc44soM2tlOy5CPXNyqAg2hzfjYwtrr7LJDbuQJiD82HzAQJjgYA1ihqAKdvPfh6mOKehDBIJZXPsgoJsf6gj/rabYPglLKoJAKxAQgrUZ0FiL8aKLLqIl7y+hm2/+Pr300osqBo9Z/CjWzurq7IHTCD6vsA9rrarnNfxZzq233krf+973qKCgQEeT3w6DQFW1s5xp1KhRlIOB93AdE6z5MExfUYHNbtAQSkvZxmuaO1f752XR/CGc+4O7t6Q5AlI8QUAQEAQEAUEgJQS8c0mOomaPKcWVQK1DoIoJ1n0WmWiJmDU0McHKQT47YhBsQfZXtcN2Kp/HBlmseahdBARVHr178ZnUKyfbrkF+JWAyNl8tsYcW6YRRmmDVEyMV9YmPt9E3Jo5KSO5aCaBZ+OjvG7a4SCCiqVi6PLEnNkqMds7LiWpOTK5q8ohoGmyfPnrGFLXRlNnwKARCjTcu+jeIz9lvLgRx7AjgTYjugVmCf86cqjZYik6KC7sEWN743nLrlp7vsYRrx4ygX0+b7No8SG+WtOXE8fSZV+fTujIQVgjIYTdhCffvVn9E38Qy8HhmGmLSbbGHzhen16wzXdCE5foyfs1GTiEA5O2DRuZsaO4yscfieZ7Mc2a2OfrYmSdTz9wsZTeVpbHN3l9OnUifR928bpuZ8CmzE7/5cAP9Ztrxnk2pPDlQ82/GmAugN3ZrsjjBYUUF9MjpU2gSiHZuC1zXT6I9ntgHZLr98YClWYW35vJM0vI7Dbs8tO0n0TZmoF1lWVqjj320laYP6KVloHBV0Lj92jsfoI4tJSWdFRX/rpMmwAzFMfamWPz2zG2V/7Gd43NfmadsqZp2wpHuW7mOzoD882G/15tPJdL7o9Ly0T/QdywI6FyQ0ncj3WH46MH982B9gzK7MRR2bVEwb3z0hbElxdhkLFcRrIwjE8vcp6YMgNa7BydvVLlqSwR0/9B9xWnPbZmCyBIE2hIB7zqStpScRrL46/WYMWPoxRf/S/PmzaNLL72UioqLKQtfqzMzMqGliB0XQaD6MekKYDkGX2fgi2AG7g0bNoxuuukmKi8vV7vUC7naMRtGFr6IGtfUhJ0wowdZc7MFx2zsyup3LVPJdC0xaYGYzhVUzU305IgzrmGMmrB0rhJJbgUBQUAQEAQEgSOCgBodLf5CJZASA3REstJlhLIG6/LSMru8vJlTD95sKslUhXdvL8rKxG7jmZQLLTvW+nM71lItgJ8Jw+H4nP2YFGA3BcQVk1puEufBtRuTmCbQ8dgO5mJovm6DZp92OqOn9etN/bAplVueFcA5ICgTVpw/tpv56vmnQ+OxCMRYQBGfTKwyMRZAgCuOHUprLj9PafY5AoiexYZVvDmWIqjcN/gcmycxUeg4nbe/n3UyPXzWSar8LJ8JPCameYf60SWFNPeiM6EV20NDbuFz++LVVM9mGwxgjtA2ONP50r+JxIHes/KSKESb+KNNMOF4CMQeOzNP/tb4Y1E/p9HAglybcGTceHf7niDuX7vwLPrcMUN0FqznxB+gOby1qlb7Jf3VJW9S5HmEjoG26YKLZ9Lpg/pCO1u3U9bS/hryMBQape425bwOaRls85c5Wg6/5NJP0kX4+MBa2PkoF/9dP24kHdetWMtA3f957WZaDA1W20FMH9hxfe5T0+mWE44j1vxmbWzuY6q8iMPtZGyPIvroc+erDa50yrYE+jZsv6LROh6JzlREWMZHuf04vwg2j//9yVNoYq8Su3/yhmFXo2/0YE1yp7C2RD/68TiQrNxXEIB406xF/IGmXRqLnY2ufaLaO0hW64OB2+xi1wZGSt9REfDOEDpqLjtQvti2Jv+xe2/he7Ru7TpoJpbSvn37qa6ulkpKSqhnz55qifnUqVMVwdqBsi9ZSYAAmwTYvn27urt3715ikvVw3caNG6kWO8vyrJQJ29raVCZBh5vqUY6v5x8qE67To5wpSV4QEAQEAUFAEOigCCgSQEbM9qqdmqB3We9JfXq0OGmuLe1Srze243jVyCHKVinPC5ms4eXW67ET+2iQSWBCjVDvEcTTc7xEXG0+pG8NAbF6DnZXj0cIeSPrqxN69aB7p06mfCyJTpgOtPFGYSn/n047gT776gId0SreTe+tpLc+c5Z3WTYIrhc37cQGYNZmYVbCTFbNBlkLVVjLJ/bQOy+HbsCO9lexFrDV/isx7/7d6g30vU+Mh30FvVlkbMyW+Tj1lEo8KAdwXqKrgT2j/VIRFy8M6nL13gP07p79SqRpPSdDG/k70GROumkViD3WZH0O2tNs89Y43rjsrzNPSoo3hzVpBUCKv/vps6kvE6nRGphxCMZEGL554RkgQaFBnUgGCMg90Fp9GZtCNbnC5IA8/Qm0mC+G/WCKs9GVKRcDlJ3hVxrXH1VU0YdM8rNDhjZWVNIrIP7PGwbN8yTtTEfQkYaBVP7X2adSNm8+Gt3X4pTbjgszAMf1KMbmWgGqhnkAdgfrsYFWsjh2ZDlpEwTQFrQOK0tDAxDs2wRWEXLkEBCC9TCwPWXqKcR/4jo/Av369fMQrBWVzq6brS0dE6wNDQ1qUuPHhGLIkCGtFdV54qlJKAY/fG2U8a/zVJvkVBAQBAQBQaD9EWAlKB4r7ZdHNYa2fz66UoqlTI64XF9o07XUmWqy6y0FAUyefWpwP/rVyvVUx7ZUrcp/aO3H9MAZIMhcm27Z4hCmrKaOFmBZNi/hNm5c9yJtA9LlZ+6pSae6QOMCS8WE1ndAZnaDZiRBezepg7yLYC6Bba4u2Q8tPaugb+/GDvem0EYA5N6zYq25UkfWBrwVG3pxys05XlZ+Kv54ybnBcQ3sjSp12+Yip3g/eh7KkDfvvIG8V83HThoCpPTjWIavyHII5vyxtvPXxh1DQ2Hrk5SN3cQS+oKYvn7sCPotzCkYt+Ig6ikh4k7uTfV9aexw6ovl8c2lZeR7RbO8CF2INjIeZHwMuWpH0llaVVoObc9Sl69P2Za9dvSw+O3dFdKcshb4t8aPhJ3eJdoLBeFc/H39Vjpv5OAEBKtTbhPpyzBFkM2a6vH6mUks3hHpdYeWLXTRcZf/IrAxG6YwyFbw5bH9Ip4M8TtsBEz7FcAPG0oR0A4IpKBf3w65kCQEgaOMwCmnaKLcDMl/+uOfDitHH330ES1apJdN8YoGNh1xzMhjDktmZ4is8cMwiP/qnH+0Z2fIvuRREBAEBAFBQBBoPwT4rRFjZMRifpyXyPbLQldKifE9gE2V3I6XK7f4pd2qKG3b0i0tyTnYtFEwRzBzYB8VyGexf7wBT0TtSh5nsoQl4u9B43E9E49wbKOSl1N/7hgQS4rdUd5RP6YV6eOI4gK6YvTw5slVS0oG2uINsBcb7Q7UADfDUOJYV1tHq0Ggud3FsIvJJKvKG+cv0R/i8+ZGwzgsnDbv6aMt2HDITsMt+DDPTbajCde4Yq1qiFMbcYO3xDMCcu9DYKbIcquahsNsxCzeZI2vE+Fl+WeC1D45SuN6A7Q7E86zfQ4pz/nkMn1v0pjUyVWE92KmM/1VEMJs8iGZi0BLdH15lf6YYAUMIAM/OH4MZYKwjBKcUBSb35s5oK8yKWECcS6WM7Hc5Gjymnv6aIFreTJB+k2YLmj2A4NXiHUVUeYQdHm13EZozbLGdWLg4woSzzZBAI1IdU710yYSRYgg0NYIiAZrCxGtrKxUxNmypUtp7bp1agMj3sSosbGR2OZmt27dqFtJNxoxYgSdNOUkYjMBYne1hSAfheC8kdkDDzyg5jec/J/+9CdVd7Nnz25xbtgUwL333ksffvihjovxOIAJ8SfP/mSLZXW2CO4pjTp3e3S2wkh+BQFBQBAQBASBI4iAM07qwVJeGY8g2CwaMB+wbF+alHrnQrOzhXMVp55aFrEndms/A2TRS9v2gF/iuD7aD8J3zo7dWO48CNp4XsIoDI3Gd/eUYklyo8ouW7jvDnucV4wcGhPWlMchfTiXEbWJkbJXGSXbCe89430njgUpG+3YFECv/N6aGAPxuwC7vDeCRGPSl/PFjm1wbsGy8BBr1jKriTKqjwe4zaHYj8vNOcvGvDho2DvcYhmqbqxl2Erg4fwgEZ9lq9Qkk5I4XRTkRuNnXaYUNWkglH0jyNBdUQR/FrCsAvG6D5tBmf0fdMpaGtcH46iJ5wg1eLSWfVQDvGrRPvJ46XtMZlmS40ZBS3YANmw6HNcf8YfDRIVXcqzEamXrmLVrue51G+FNpS4ejnbeEhMQKHv//BwaC63tJfsdW66M2VbgOZTbavSS/6jsTO7VnXLRb1pFsALT7ni/ZzvFxrEd1gqYN2A7tOLaGwFUiOoOeGLEtPf2zoukJwjER0AI1vi4xPiuWbOG7rrrLnr99ddhV7MGz+ggxocgVkdEfR3E4OGDfRve6Io3NeIvb2eeeaba6OrUU0+NkSseHQOBcePG07Bhw2nLls12hr78lS/T2LFj6YQTTrD9Ujl57LHH6OGHH/YEHTRoEI0fD7tSae54+mEmpWZCleZFluIJAoKAICAICAItRkCPl1HRnHf4qBty2RYIMIm3P4pg7ZMH4qWlrtX1FKEz+vemkSCFPoJ2H8+YqvEu8fRG2JPkDYyiSNDt2G1+7i4sz3e52SBXA9hoKzFZ5GUdJvaMYyfTJS/eaS52h+el60xiGccE66mW9i2TfTur69QO94ypcfevWA87qli+Hrdxm1D6yEGUqQSXdx3Kvxd7F/RlEvBw2ROVLaeinDNXgklPrXJxxJZHjpUMGWwagDdZM47nycsOlNGEf89xoZh89hzykIk6jx+hbibBrEMsZqZuuAAREKNaY9ik35ojm9TITmGDKdby3FdrbeRllW4g230FCd/SZfrZmVnUEySncrooxJttHQKxPLTY8nAVxltqUv0tFhtXhGSnSIc3wMpkottq2I2hCDRYUY+xSSeTJPfaEIHDfTy0YVZElCAQg0By/f6Y4F3PoxYbV33961+ncePG0ZNPPkkHDhygGiyLYY3VMAxfG8fPWH7Q8tfHcDiE+xhEQcRWV1XTCy+8QNOnT6fJkyfT2rVee0UmvhyPLgLdsOPlD37wfZ0J1CNPb+rxNXnKiVPoK1/5CvHGV7punTrnwMaPj2wW4LTTTqPrr78ed1SLsA+/+tWvtOw0/uW5h57U8K+l0aBgsLBI47JL0QQBQUAQEAQEgZYgoD9GIoZ7iDTMQEsESdgWIVBmaYPyPI8dLx9usWttPYEcm4Ql3uN5cyDLMVGwAsvG95TxUm93Y+DNfKposUtrj6N8C/ZUk9nP9Jmdtq0Z2eB8767wJt1kx1wsRe/N9irhTI424X3GyZ+PSrHHAOfd4Mhh6/D+U4n3n0oQierI5/yH5dRV0LS0/XBdAX+2ZWkngPhNIOVKmQCPwoFlt8Zx/oyz+5vxSHS0tF7t2yzDJcf2b/GJD2R6E9WFDMGq58khCK8ENg4+jQobxszGy+CIYw3i25hblbPLbb4hbr50AQaDYHUpYsYNGe1pp2Xd4A3K2ExFc47NIFQ2ac1rI2M0TGSoRtNc5Oj7YCtMe+S64GIzwVqBd3F3+zHRTHqm2tgMQ6vStQTyBnV+KE/phuBDuw1RrSLKTe8wKcvxiCMAyE39xqv7I56+JCAIpICAaLAmAWnr1q106rRTadfuXVYofpDy49p6ZFsPeR601Rdc9raCWD4mpIq/YsUKmjR5Et3zi3voq1/9GuXwcgVxHQKBACaT559/Ps2YMYPeeecdu96YRP/zn/9MTz/9NF155ZU0ccJEZUuVN8UK4Uv77t276aMNG+j9JUvo73//uyoLP/jtL/poE+eeey5dcMEFHaKcRzITaiIb1f41kFZ/OZKJi2xBQBAQBAQBQaBTIWCNjTiY2aU66VRl6HyZdcghjb/ZGbwlJTGzGrveWhIZkS6FOYDXtu+lKrbjiOst1dX0zt79dPmxQ5k5UtJ4GfLzW8z7h07g3MH9qR8viXZpQUYnHTEEoZW5XkyUmgxHB05wzeRVg7U7u4kaUKSndQXZTKLyXJf/qaSs9OKKRDR7XswBjNCoc07XfSuurFZ7pig5KpgqNpetDVx9U5hYs5Od/aaA9OKWOiofdvLu8HYY+8QOptKwyXbt3Q8mKpTJAU+oZi6i7Lj2xLtrNt6ZmnNs/qEcxDE7U74hvLlW/KwmF4c4xfgQkhPIoHoQzCwiDPms8ayfntHRvYkMZs1Zr1d0hKTXnE7YFhAB2eqjzBS0eJMKlZupI2A/W3DCzwh+xnF9auPNqcuRkIJAOyEgBGsCoHfu3Emf+cxnXOQqB4x9Omsfy99+ALj7vL5nbjXh6+N3v/tdpQl7++23g2Rt+e6lCbIs3oeJwIABA4g1TZlI/fjjj5U0U29lZWX0+9//PoUUMGUyD36EZhu8TzzxRArx0iSI1RVkzEuT+pRiCAKCgCAgCBxxBKyh84in09UT4Dmd3tTKmdHvq6trMSxGwbJV9QaC7TPDB9KPP1hN1eUgKTFhqgBZOX/PAbpsxGCbY2cNz39v3O7J282TRyfVXuXAXEblWpU5HZUJpT01Xly6Z3mVQpioZoUCQxTy5ljHw9ZlP2g4ctJm/qwlNv/LJFwvLD/vwRrFIFGOnrMRVFloy5xkYpcnxokdz5P5dWEYtCsnQaM5VXI5GtcgFEEGFzBxGZtTm2xXKWJ1PszWeUtn3Uh2UBN6DqBT5vynsvyVQ7N9WScm7B/XsHay8mrZD+KwNi+Tq6ZhsUZpQUYm5MSWO1p4KiYNouPY1ygv20BWG5NZnjkgmIthQiMe5nY8OWk7BOwqtj7muK7bLhGRJAi0HQJCsMbB8uDBg3TDDTfQ8uXLPXd5TFB9mgdHDGRmjLC6u/cZb3d+Hcu+tCTefffdVFhYSLfccosnDbk4ugiceOKJ9Oijj9KNN95Iixcv9gzbdv0nzSJq2qrsCy+8UG2cVVJSkjRGWt60G3xqqKUlBlIoQUAQEAQEAUGgGQScuaSaWjYTWm4fFgKYv/eKsrm6t07biWyJXMNl2TMcU4mpCEHkLGiVXjRsIN27fJ1m2TBnWoRNozZXVNMIaxn1vF0H9HJ5SyYvr57et1ezjYQJW7er5p3WvV7u23HP2U4oE34qoqU00BN2KM38lt+BSkCE2uW3pNw0aRR9duQQiigtzei7HCien+OvtCutdyxL5OEd3OVmuc245kM0I6CZ2/mwbZsNLUzlAC+X9zTY5H3kU9Mogk2T4juTK3tijWBePx+I0/gbPZlw8SW3zFen785FsvhM5pYwCQln4qw8VEEttlGgBGADNNNPLWaaNarVJlNGuEop/o/HbG38IIl9AWEZzGEEXUKyoL1aZJUtcUS5cyQQUI83q865dadQ/UciGyJTEEiKQCofoZIKSMebvJHVK6+84imaZ1y2ZlbcqVVHx+RDD2HOrwnPX3Ydp++b6x/96Ee0evVqcynHDoLAtGnT6Nlnn6Vbb72VCgqwFMtydk2qavTWpQnDRyZUWRP20b/9jYYPH+6+1SXOGRnT/mXo6xJVLoUUBAQBQUAQaCUC9lwS8Z2xs5XCJFqzCPSyzXPpedw+7KvQUuDNDDCKy2w2bTsACMzvTBiFdwdIsiaXHxw4ROvKKnUQkFO//xCbRbncNxHe31IDmoj/YRlIrRY0LF56vbWqRqfM7zdW/iZ0h91Ys/cE/Nj0gCPWpwio0jomCVEq3OB7+miuE/k5/ipR6x1LZ6ANf1OQq4tqFdhO2tS27dHKkwgVwJanMVHB+DDW2xlrJOlD3cbiZbCJxpKvHb+EmpRWUZwSRJet+aKYGI4Mu8kmjZyB8nS3+xoHxcZo2JuELBMJSSNH3WxCf2Gbv8pZbTIDGqyDClLbDI2xar3TGqz8wcGIYY3YYtRlaki0PmWJ6UVA4W/atKkMbxC5EgQ6BAJCsEZVQxPsIS14bwHV19fzWGA/TPmLsHuQwZCnY7Kn94a6NF+Q+ZbzYLcCWh5hGAC/9tpro3Iglx0BATYXwCYc2FTAfffdR1NPOcXJlqpGU+mO96mnnkr3338/bdy4UWlAd+9imquqT6BbMDKm/TM6Tvt3sJIzQUAQEAQEAUGgKyPAs0jPXLIrg9FOZWfMlU1SlZ6ex+23Nr1qSRYiZmJjTQUNCZmyDJA1/WCP8tzB/TxR3ti5lxqCQdpeWU3vwmSAccVZWXTOoL7mzcN4xz9GZWYZiFsws/HDxvFtwrvJX9dt1ndQPi4ia0hO7I3VWEaLD0TrpJ4lxCSaHRAnvBFWQxL7sFbgdjuY3HGCnv6WNAc6lqliRV5a9Zw0WnM3IWMQbIGa9mfmyYeguVpWzYS2O7fNCUvxvlUIO/utScJqT7aMFHNaCAJyPJPytouoTcxe37qLKAUbrnY0lGFndR2tO2R9fLAyMrAgh0qwaVc8ctnOqym/7WFLTf0EmJVhMy22KWvEZKM/ZCkTAamLkZCHjwB/0DJN2M3LHL5kkSAItC0CYiIgCs9t27bRgvkLtC+epOZhGnPGAw7+q45uPcD5HM9fy+FLFzz42vGzb5lAtASbI23AJkmjRo2y/eSkYyCQhQlt3759lc1ctpvbgK+nW7ZupQP799N+/AUxCe7Vuzf1wR/XXwaW/nRlp6YeqbT/rgySlF0QEAQEAUFAEAACarh0zSXVtT2GCkRHCgFlO9ElfPXBctdVqqe6otS8H1FqMB+Mmes3JwpE5ncnjqJXtu/WLxMQ+cK2XfTjE8fRn9bofQCMiEtHDMQu6inu2eBRq/XR/N0HqKq6lgpTtG264mAFvbVrn3q/Mc3xjH699NJuawMuJlpHwG4o28CsYRMElntsw1a6ZvQwGltSbLyO6tHknzPB59E2SZNlzq5PrmT+O1wHgSUgWAfkQ+tSOf2euL68kv4FW7vXQ0MZu+cebiqe+D67ENo7inv3hE144WlPOpQb10TxMmCjd0JPbztgLdBbF62ms7FZW8oOcd7evZ8W7Su1+wnHnTmwb5wX7CipqWQ0KkrMJV7mN5ZXU33QqZsCJldRvraur5i0xUMhoJ6z1sPWqVLnTGASBDoaAql/0uxoOT9C+dm1a1eM7dV4SeVk59CQIUNo3ITxdM6nPkWzZ19Fs2bNokmTJ9ExI0ZQr16YjLhGZHtsVifmoaB9H3vssXhJiF87IxDBIG7+4iWdnZ1No0GkTp8+nS655BK6/PLL6cwzzqDjjjsuLrlqZJljPJnp5afbs93W06twUhpBQBAQBAQBQaBtEbCmgzaHIQNo2+IbR1oePoYPK7TMPwHvJfsPUh1Wr6XsUGcF1gd1U29l0EJsBGHaIgeS8qzBfZVWo9Hm2FpZQ6tAcD6ynjVIncZw4dCBpEidVBIwLJqKHlFLq7/zHvaUYC1WR2SsJBBJXIbb3l+l7nHZTPBvjQf5Z7RX7ZgRuhibddkOgffX1dMDKzdQIy8DN5HtAHFOlIKKj/YhXp2LwIoTsnVe5nXLxI6+Nv7JjhynNfHiyYTm7xkDesNUgKOQweV+dP0W2szmIRQe8SJG+SEct7mqRmz6lMSZbJuqMNdJosTc8pn25Lpj5Lm8Yk/xTsVE+2RoOtsOEdfCZMWDq/EBAcvsm3Uo5y5stvaHD60PDigAp50FcvNLY0ckJDid/LWmxFG5QlteVlpGrNnNctm27KQerM3dwv4eJVYuU0dA1WLcqnRqOnVpElIQOPIIOE/4I59Wp0ihtrbWm0/uu1GdmjdCuvTSS+nqq6+2iFRvFL6aP38+MXH62muv0VZoPeohAYJcsnjQwvhDb7/9NkcRdxQRWLduHb388stY8pEFTdV6kKefo8GDB7c6R2xiguXt2LEDc1peSpJFX/ziFyknJ0UNhFanfDQjsn0ip8Nw2xYnCAgC/8/emwDYUVT7/2e2LJNJSEIgZCUhG1lkEQSCrAEBgcdfVPBhRFGfz6fP7Yn44I8IKMpTniwi8lNU9McigmxPQJ6AisgmWwQJBEiCEkjIQsi+TGbmd86ppav79p25M3PvzO2+30rmdnXt51NVXdWnq6tBAARAAATSCciYGb79gWEznVM5XYeycuug0aNoKb/O7ubk9762gk6ewnO+EpUmU3caaookFWanPU+xEmYifxHepyHKMvnrLE1WWp659yz60sNPehHPevQZWrmZ95u06c7lsu61c3wloA+cYqlzWl/bmNo4j9uWLKN37/YyfXTGZH47m1fehWWSMrKya/WGzfTtpxfSfcxCDceXJPZgmY7fPWW1ICsGv7rvTPo/z7/iw4vlJ7y9wDt3GUmnTd2dhjfznFfyCieEIpeyqae3eP/b+197k/5rwQv0jf3n0ImisA3LZlIu269k3bWx4LoO2P0QrKz75ym7038veJFeenuDx/IXVvJ/lxmcs+8s2n24tCGBnyiHbU+tvFr6QV7ReSkrso+ZMIY+/45pJB98SjVWOZpIKTVoMUe3lUHoX1J6XP4ZI4fRCbuPpQXcNzQO/8hqb5FVtkp43+Rxpj2KrKG8tk0u5o9ifY9Z6TYXXACRUtKZP30STeYV1LS9Gw9GQgFKtXM5XmbF9zLdwsFEGsR9RT5MVsl2Wmrxaimcq3vfCFR4bVW1hAGyZoQAFKyJitq4kSdcoeGJik5/5WLPF/+5c+fSjTfeSJMmTQpDFdhlP075ky0APsKrW19a5Dar95cIP5YsW7asID4c+paAKMTPOussn+mc2e+gCRMm8BxQ6qv7RiawN9xwA91+++0+8tixY+mkk07y5/mz2BtFFYy58cROJvp685g/YSERCIAACIAACPSCgB0fo2lhL9JC1FIJyIeGDhw9kn75yqs+yv/wvpAnT5tUmtKE7wXG+9e8fRL09cefo0lDmmlfeXWZZz7bNm+lJ1e+Rfvx3qWDRKlZxLxv8lg65/EGXcEpTeEJjqPG6g6O4BWPk0RxGyqgiqQlzpHKwTQsmcbKascvPvw0PcsKq8/MmkbTdx5m9sHkNDfx6tFnlr9NlzzzAgmHuAKD6L8O2pvkg0IFhuNOHj6MFXzT6crn+B5HMrJl/OyfnlRF7b+z39xdd6bm5oHGn8O08dfgX+V7radWvU03vPQq/ebvyzTaKtkLV4pcMSP9jU2XeSQCyGnCqcdFZD5DhwyiL/F2AMJI0nXz5B+xovrZ1W/TF/aaTseMH00juS3pKk/hyorEZbzNwyJW9t308j/o1qWvaZ3Oju1xmlaqRMElrW6a7seIZ/CpmVPo7r+/Qc+wktW1kaW8x/AZf3iM/u3NqfTR6ZNpOj+wGCjKeKkhVkKv4VWrf2Ql8iWsiH38zTWGP3tJ/U0fPpS+dcA7iLqx6rwHYhsheI/hF0XByuURI88uBvLq9UPHjjJKcBMKv31AQPuu5OP0Mn2QJ7IAgZ4SgII1QW7IEN4w2xkdVewVnQfFUbuMogsuuIAmTZrkQnR5lNWuv7rpV3TUUUfRW2/JpInTk3TdlYLtGzZs6DIdBKgsgSb9GmSUR4PsrdMLI+m997jj6L777iNR2sv+rKLEzbeCVdo2P5DgvuJW5EC52otGhKggAAIgAAL5JSCry2Qu6OaDbNVpZ34lrgrJ6llpsueIYTSQlZ7b7J6X9/xjOcNPUSIWKbF83ElWlj765mpff39762364H2P0HRWhjY08CvcrDB8e1srPXDSkbRbc/E5pazkO5VXz/5i0dJ4btwYxjYP1lWKxPmR2/80HqrwzK5adAWzOk99nfz7z75Ev/37ctqFFZ6TWobw/qn8QS1W3K1gJevrfIzdn3DK/zpzKp3IKxCLKqiY3/n7z2YOa1iZHCnCpFC3L13G+2auoXH8pfdR/DX5CayUXrllO28HsIXWcb4rWGklil9nRMSKGscl6G8l59eTOMUSZ9k/M2cq/fH1VXTz4r/HQkl7evFP62kSf7xp+KABNKG5mba1t9EbltVb/LGlN/iDT840lAhN0KoIZZKj5KrilbgTeUXulYfuR0f/5ve8j6l9rZ4T2MjbG1z67CK6k9vJCN6CbQy3jxEDm+g1bodruO/8nY9rt0YruUXmZr43+/mRB3J/4n1sXcN2MIKjvE8Xmk6ChsFS7bJH7hoth7m/mTNyJxos+yFXevVsamlq3FGrlRuxa8dy7uw1jgbiVxcBKFgT9dHS0sITCX7KKVdjeVTFPdf13Zl7zqQ999wzEaPr03322Uf367z66qtNYE7QXxPYXvqUruu8EKJ6COw0fDgrVpu0rtu5Pcn+vnk2MgHX/WZDIdnN3UOGzrCDAAiAAAiAQC0TiMZGv1EAbhb7qEFM5I8NzeCVcM/aD1yt4VWVz7zxJu07eufSVrFyOb/NKzuPvPMBLbHM6WWyt2TdBv1TR/4Zxgojmf91ZkRp5BSssZB8sievED1i3Ghd1ddZGnE/LY13+s7cvenrT/yNtvEr/VKWRawwWsTf9XqYVvn7Gxc4apNEJ08eT/81dy8a3MWCg51ZeXrdUQfRh373sPKU3J0cy3kLAPkTU8+TxCSLMGxrF5w0kW7+hCScfrXLJGwkXzYnTJcRuxGA07x23gG8r2ebKqJ9XpyEKJ2d4ln0p7JbQGRs4ayD7nUbeRbY7JpdXx86IS8I1blDLHsbNM2taCq8IvXd/JG0B/+/o+ko7i8buR26umhn4V5eJ2+Oyl+dPkcoaCOcmeQ3hpXNNxx9IM3djVePdtFWnNyuTHFqzrXr41q7Cl1Dcp5SjuN432RsD9A1u3KH0D6S0MtEDbvcuSE9EOgdAej2EvxEwbrraN5bRU18CBk/fjztvDNPvnpgjuSPIamxV3mTsjmZwB/LgqkWAqZOVMHeyyItWbKYNm/eZK7/vKdUwfYTvUy/2qLH5ztRQ08+Sa62cqM8IAACIAACINDXBKIZZvQgP3Lr69LUUH48WZm6Uwvtx/uEOiNKnYueWWi+DO4cuzi+a5cRJK8/i5F6S5sD2ZmQhin6w4Fm8orad/Gr9M5IPFFsfmDKhNI+BuQiipbXNSKb+TtHjaT7TzySFVTu6/UmsAvmo1rLAP5uwL+wXNcdNZdGsPK0FCMrgu9876F09ITddJGKWUbCMW0ZJA2nOAuctKi78avhlx/yTjpjxqRuKpIl1S5MkFkxeQtSsAH93FXSCNIpCN9DB1Gs33TMwbxdAC/cCZcIB3l55ap3M4WTfYS/wNsvnPvOmcX3X+VyFe6f6hPqdqnDmGFxS0qIO8cB/PDipfn/xMrWUaa/OKg+4Y7UNiKKeVHQ/u6kI+hIbl+lmGRdJ89LSUPqZCFvD6DbZgQRTp82ufztNEgf1hQC3EZMHcZr0jedlChwAoH+JIAVrAn6u7Oyc+5Bc+mOO+4wA2rQl+XDRa3d2PMlTHqPPfYwp0F6zn/mzJnOimO/EzAVJB+m6sn+qzt48/bt/ArPs88+SzfecKPaRaQ6Ts+3gX6XsbIFkAEvul2UvFIafWWLgNRBAARAAARAoOoJmPEyKiZuGCMWlbTJNk7vmzROlSfy+q8o0x56fSX9bcVqmiNfPS/hQ0tDBjTSj494F+01arjuQbqOXxnexqv12jluA8/55MNDe7OfbEXQqeEp0mhWMsqrx0/Ia/ZspDwjBg6gD0/jD2/ZbQw6TcN7BvMta5W57CG86u6R9x9N5z/xnL6avqmtlbbzlgOyglBeM5cvow9qrKf9Ru3MH92aTofx6lWS1/fjWmOfS4GFw8k+sfe972i6hbc6uOpvr9DidetpM69W3MF+bfzHs2oawB8IGlDfwPkRjWTl7cf4o1tf4I801fM2Wt2Ts6AEBQ6yjYNsT7A7v24v+cpUVPbvLDolZf8BHGfSsGb+cn2LrriVuax85KtonIJcu+cgyuzLDtuPPz62O33rqed5X9q1tJG3EJAv1u/g8sj1QMok5Zc6GtzUQMdNGKuK1V2lXHzP0VnZZowYyqtht2ncjRxWtpzo1jWG623aTkNoCudVz1tobG3bQROGNqfvyduV6JyWbAPw5/cfQ3fzXr+X8/YAL7ECc5O0EZa3jQWRNiLlaxRZWQE9mz+S9ck9p9Ape05mWduSy3lTc2xiXrNY4S9H2Tt4C8cbLa/0c/7dMVuZ1y9f/jvLzCtuOaLEPoPLMZYfzij37iSGsL0i4FfWu4qwqZmHIN2r114VBJFBoEQCULAmQMkK1aOPPpruvONOvhbL6Ma92V6UFy1aRCtWrKDh/Op3d82CBQs0ikvOXCPMReGEE07obnII3wMCjz/+OD3//PMkytPQyORT9kcNzb333kvy8bFSlazSVtp4EF61ahUtXryYbrv9Nlr7Fm/oLpMFHhnqeUI5Y8aMMItc2oMXHXMpH4QCARAAARAAgXIRMLNAM0/o5v1/uYpQm+nwq9knTBrLq1hH0O9eW8EMOugtVihes3AxXXH4u0pjYu/rP7fPTPoUK4FeWb+B/zbS26xo3ZmVo6KYm8UKVn3Hu7PK5Tnosk2bzcd8JGe9Qeig4yeOpeFDWZkjis4eGHe/ofcyrPidxIqhX7z3MHqTtwj425p19Abvuyr7YI4c1MR7pA6id/GK3mGskFRFZ0/yFBlZKXXK9El0yqwptIKVZ8/xR7VEgS1MhrASdTynP46VfKL4HKJKLxaMlXblVq46XBfM3YcuOGQ/PrWVxQrlDi6LIE4zMuf/xXGH8n4Gcp8gcTgkz+07WOlZLE5aOt1y4/T35dXLvz5pHr/ptpmeXv0WreK9at9ibg2sIBzLSknhJseR/Kdl4/KQ/HVmWGl54/GHxWWROJxfqUbkvuyIA+gyfUgQ8egy72IZSBvhvxNYgX/C1N1pDfcX2bt4Fcu6jvcrbuY2IorkUYMHkKy8HsbKXFWsdiVrkN/O3K7+9wPHmPt3V4dc56U8NAmS4T2Jt9BPX1iqTiK5tIWv7z/HtFc9x09fETD8OTfZIkA6orQjd+yrQiAfEOgGAShYU2C9//3vp1/96lf00EMPmU5sw7zwwgt022230TnnnFOy4k2iytPsn/3sZ5qKXBPkoqBHts6aNYvmz5+vfvipLIHHHnuMvvSlLxXNRCZWMhGt4wnNpZdeWjRc9zx4Msd13sx7Bx3zHh7wc27kab+0b/+00YyAOZca4oEACIAACIBATwmYeUJPYyNeDwjwVKVhQBOvoNyD/rR8la5Sk1WW9y1bQS/xvqzTeTVpyQoZVioO5JWFs3nl62zZdkBv/LlMMvljxWZXRu4RHuGVswvXrjNB7T6DZ+7Nr4738K05SUiyFyPFUSPvm7PidDQrOEfzHrQ82TXuGo5/xF8UUb01osDjv91YGbibKMh0UmgTlULpH593Q2nW4yJJHol8PI9iiaYw6DJOsbRKdec2IHXTwm3ysPHyGjzn6DJ1vOQoqzh5rWfJJkWWkuNyQC1CCsPupJEa1raRnfkDb4fra/+hvBLDtseeKvp7Ei8sKCt5f8QPW2TFrjDg0tDHefXq5GH8IWw5gekXArJgSbqBGnfsl5IgUxDonEB8KV/nYWvGd8yYMXTJJZfQ0KH8KokYOwkR5ds3vvFNVb4aj9J+zzzzTHrk0Uf1Iu3GSxfzsssuc1YcK0zgox/9aKc56FN+DtHREUyIue6TdabnBY7GwTQV6+kmr5zmhRdeSHtM2aPT/HPjyYOeeW1DJMIImJt6hSAgAAIgAALlIxCbTJh5A0bM8uHtMiVWHH14+u680jRSmrzAqy5veuXv1NGNVX6aj9z1i5JM4okSTI5yXoKRV6R/9sISE1LnjR265+SebvVrCWnEgrgpqHUsaFNSVlH8SjldWeXcay5iqfX8xOXjmGhenI8ocsudV89LWV0xizKrQP1Ug+Sp8kr/6Ud5eWuBl/lhxxXPvaSEtP9wn5I9b3FL05+NRhZBSf5cGe7+2l7r+rNUyBsE0ghAwZpGhd0OPPBA+tOf/kSjd+UPXgUTgW3bttInPvEJ+qcTT9RXwYtEV2dZ8fre976XrrrqKr0oy3VBrw3808CvW9xyyy10zDE9W9XolIGd5Q+/OIERI0bQUfOO8o7+uuwtzksu3tbOdaV15rz0yJ7s6ILo0bYRc7Ax+KSRN6K/+Nvfps9//nOxFHJ54oCocE7FGnPMpdgQCgRAAARAAAS6TUDnEW6GYY7uvrHbaSFCzwgw8J8dcWAs7vcWvMiv67/Fbn0zf5HX9R/iVbRi6uxc8tx9Z/E8k5VMvTCuZfWNFL0oKKKCQDUR4BXk77/3Yd6jmBW91pyz72zd19Wd49gfBOwYKTfg9jqZcoPeHwVDniBQQABbBCSQbN6ymX5+7c9VuTpw4ECa84530JsPPBCF4snYli1b6K677+a/39IUXpU4Z85sklWv8iev+rz44ov6kaOXXnqJH2LzBZpnNzLBkUuDO06bPk23G/if//kfvk64aVDk7zOU2Tb7m7iyTxfRIN4r6cc//rEPAkvpBOZ/ZD498PsH7D6sZsdQqZN2JqzVoO+2i3KQ/zXwn1zH9YyPrvI4vPiLMb+8xRHbtY64giZOnEjTpk2j/fffn77whS/Q6NGjNWzefwwrkZKp8Im2aoEacMs7A8gHAiAAAiAAAqUS0HHSzyT4TCcapcZGuF4T4Dn7gWN3oYsP2pvOeeyvmtx6Xtn65UefpnuOP5yG816qlTZnP27ylXykPey983A6lj9KpSs9e5A5r/PSWH7q5SaqPUgLUUCgpgjwopgv/eEvvC+sbNdhetARY0fTZ2dPoQH80S2v2KspKNUlrFzd/LWtuoqG0oCAJwAFq0dhLNt535Y//vGPurrUewU9WZ4um6mL+LbzKlb+Uib/FTccWeLYNFzcF194keSvJ2bw4MFQsPYEHMf5+Mc/rn/J6DfddBOddtpp/qItq5cPOeSQZDCcd0LAtW25RdDm7hxc4+8kLrxAAARAAARAoDYJuMGSR095UgnTtwT4deSz3zmLfv/6SrrvteV69/7oijV02bMv0QX7z+aFDTKjKYPx6Ugdm3uDn764hP70xko/95RcLjpwL/2CfU9zdO8PuZakiwd6mhjigUCtEOB9V+9Z/BpJn5T7GDG78Qezzt53Txo/nLcMlC0uYPqHAF8u3YKnaAFP/xQFuYJAKQSwRUCCkkykGvkrhqEJ57tuwqKzIR/ITr7iB+vLMcTdR/SRYknYqJGbc4iCe1tTU+WfqPvMasSydetWldRNRDdv3lwjkpdZTG632txj7T12UuYMkRwIgAAIgAAIZJRAYq5XhxWs/VORPPm75oh30eShLX6+/o0n/8ZfdF/Lk5pEJfWwhE+8uYYW8sq4Zfx18hdlj8dnF9G/8Gq50MwbN5oOG7NL6NR9e2LKVZ7Sd78YiAECmSHAfXz1pq104RN/o432o2iDeMXqZ+dMo2P3mADlan9XpL+msYX/h3qZ/i4a8geBNAJxTWJaiJp0c9MROcrqUz46zZvloU9SjLeGUWd7AbDr92zIyDupaTXBORGffLA6Fqv+In59YAu3aZDs5Fz+yrZyoQ9kqIoszNjHTVpeUrMdoioKhkKAAAiAAAiAQHURiM8lpWwYN/urhiYOaaYb3jOXHub9UJv4Qzc7+GNM9frIuDwlOum3D9HIQQNoNK+KW7F5C8kHtdTwPYbMN8dx/ufvP4eG8Zfky2nQospJE2nllcC29jb611lT6LRpE/UeZtjAJvrnKRPNB+vyKnRm5LIbn6jeJV0vkxlRUNCaIAAFa2o1u43lZVritZ+xkDph0R/t7SacTIxt548CG3/zqxGsl3MXRZ5TvRo3EyAM61Kz/nh044CU7Sj77crK5ZaWFpJtIoYNGwblak/o2iYqytWwNfckKcQBARAAARAAgTwT0Jme/rj5XZ6lrW7ZZC3FXF49OnecfNzWlpX3aNVJehmKLkpV+VtIsr+jMVrrfBMwkD98+40D3kGH8X6w5TaSBwwIgEAnBOQBR0szfXLOVA7kegxfBMrY/zvJHV5dErD3lG6sFMUJDAhUMXDh8DEAAEAASURBVAEoWFMrx11cxTO9E7tFrW6dnjua4BxflyVE8aNUJG054z/71DotlLg5tauxy5ldExgl5rxw7CWBk08+mY488kivVN155517mWLtRdeWrW3TtH+Mf7XXBiAxCIAACIBA6QSSc8nSYyJkRQiIQsWtsahIBvFEZco0kh/wX3P4/vT+KfwqchmMfLQ1NPbOIXSCHQRAIElAblra4n0nGQTn/UcgqpnIltST9F/pkDMIxAlAwRrnoWduMuJUoT6I0RsZ9ah9hd+t0wu7uypP2UHjy48Yd84Wn67TQFkH725icAIcluO5tIOYLgSOZSIgHw6TP5ieE3DttFj773nKiAkCIAACIAAC+SPQkZhL+glf/kSteYlGDhxAb/EbUnpbwJr1qTu10NHjd6Pvzt2bWpp4WwB3T9BTUjwJG8z7Rs7gD/Is29hADZzHDk5z5KCBnGI0Q+tp8ogHAiAAAv1CoBM9CS5t/VIjyLQLAlCwpgByHxkomI6wQ+TGNu3wkUsyKfUJvJ3VHX1465DmHnMLta0+MiwgUCUEuD8UNFFuwHZcrJJCohggAAIgAAIgUB0E9M0kGSRldmn+V0fBUIqyE1jz6VNp05ZttG5bK41pHkx1Axq4zrnS5evkvVWu2tJOGz6MHj71OD7TRmVcd+zgVbmcDwwIgAAIZJGAvXyZg7vZ5K998HUTV7YsVmj+ywwFa6KO6+vraaA+7SXdk9N5u9e43Hn3jvLJH5k7y2XA2KL4yXMOwU5mrlXoJ/Fkr1AYEKg6Aty8w4HO2d2x6sqLAoEACIAACIBAPxLQ8TEYJGX+B5NTAvx18iFNjfqnsyX7tfKySis3D5VIt6yFRGIgAAIg0FMCfI3j/3W8oqdMz6V6WhDEA4GiBKCpS6Bpbm6mT3ziE7T//vuTKFuLmeRX0uVr86pA1YmymyHrSYFONVKgFku9c/cBAwZ0HgC+INAfBPzzANP+/Z7B/VEW5AkCIAACIAACWSDgx84sFBZl7BUBaAR6hQ+RQQAEapwAj5fypnEHrqU13hCqW3woWBP108Bf8jz00EP1L+GFUxAAgc4IyPMEvVFM7haMu8fOsMEPBEAABECghgnIahwWXx/J2+fyNUwDooMACIAACIBACgEeKVmx2lGwH11KUDiBQD8SKL5Esx8L1d9Zt7a29ncRkD8IZJOAvTnU73Z4CXDH6FHAAgIgAAIgAAIJAn6UFE0rDAiAAAiAAAiAgBIwGy2K1SzgMU8j+RR76igf/FQfAShYE3Wyfv16Ov3002ns2LH0ne98h9atW5cIgVMQAIE0Am4A1PvD4G4R94tptOAGAiAAAiBQywTc2OiOysKPnbVMBrKDAAiAAAiAgCFgvmFj7cGAKR+5ggGBaiQABWuiVmRPD9l7dfny5XT22WfT8OHD6YMf/CDdd999tHbtWsLq1gQwnIKAJeAGwPhwJ67BaAhaIAACIAACIAAC/JqjGRtlzHSjZPztD0ACARAAARAAgRon4AZIwRC/yaxxMBC/WglAwdpJzbj+fOutt9IxxxxDBxxwAF188cX00EMP0YoVKzqJCS8QqD0C4QrW8K0N+dgVDAiAAAiAAAiAQEAgWH3jFKtu3hmEghUEQAAEQAAEapeAvY0Mx0f9YHjtEoHkVU4ACtaUCnIdWCa8zi7BXnnlFTr//PPpuOOOo49//OO6hcCjjz6KL9mlMIRT7RHQFazcYWQc7HB3i2KvPRSQGARAAARAAAS6JFBnn0bKNzvEBDpX44BfEAABEAABEKhhAk4XE+plMFbWcIPIgOiNGShjnxfRK4TY4u1BKTZv3kz33nuv/k2aPIlmz5rNStdj6bTTPkw777xzEBJWEKgxAtxhZCDUjQFE2ZrWgWoMCcQFARAAARAAgTQCsi2VGH0macfPtHBwAwEQAAEQAIFaJOBvJdni7bUIAjJnhgBWsHZVVe6xSSKcex361aWv0t13301f/c//pHe84x30YVayPvjHPyZC4xQEaoOA6xciLZSrtVHnkBIEQAAEQKBnBPyY6e4ai8w5e5Y6YoEACIAACIBA1gn4kTL+ajHGy6xXbG7LDwVrJ1Wr/da96swnph+b3w55n0ut3On5uGXzVv0w1i9v+iXNO/oomjx5Ml122WX6YaxOsoAXCOSIgOy2yv9MF9H+4aw5EhKigAAIgAAIgEBZCIRzSUnQ6VnLkjgSAQEQAAEQAIHMEzD3lnpP6W4y+cRtrZN58SBA7ghAwZpSpf6VLfWz30DnDm36tEx/uVfLQWfC3On5GCqSOtra6dVXX6Uvf/nLumXAaaedRn/+859V2dra2pqSI5xAIPsE3MeszIBneoT0nrBvZF9KSAACIAACIAAC5SAQn0tKihgvy8EVaYAACIAACOSKAOtaVO3CvzpOer1MrqSEMDkhAAVroiIbGxtp4sSJNGLECO/jOrTt2amPTGTlnprw8+nsIMram266iQ499FA6+OCD9cNYj/GHsVavXu3ThwUE8kBAe4Bv/3ymDr5n5EFEyAACIAACIAAC5SGQtvzGTiXLkwFSAQEQAAEQAIHsE1Clqvz4p5DuPjP7skGC/BHAR64SdTpkyBD6yle+Qocfdhj95Ykn6amnnqQFCxbQsmXLopB+Aiyr8yIFkuiWRKHqvW0MuRaI24svvkjnnXceXXzxxTRv3jyad+Q8evch76YDDjggShs2EMgoAW3nvv27Vp9RYVBsEAABEAABEKgkAT9ZjOaS3qmS+SJtEAABEAABEMgQAR0b9VXiQj1LhsRAUWuEABSsKRW9yy670PEnnKB/stJ06dKlqhz9/e9/T/feey+tWLHCxoo6uVEuGeekaik5Yd68eTPddddd+jd1yhSaNXsWHX/8CXTKKafQyJEjU0oEp+4S2LZtG91zzz20atUqqq+3C7V1LwepnTKbZIVL8pKXGLuiU1ZGn3TSSbmuX9fODQ53ZjDgFwRAAARAAARAIE7AjZcYMeNccAYCIAACIAACMQLy1gcGyxgSnFQnAShYu6iXUaNGkfy9613vopNPPpk2bNhAzz//PN1+22102+23e2Wr6+/ROoT0hM0qV7PCXeK8snix/t1//wP03e9eQrJf67nnnkODBzenJwDXkghs3LhRVwsvZr6i3FQTU7AK/VDZKmuR29kldCspK5sOp2fulEwkzUusJr3m5mbab7/9cq1gNdKGa7oNCvyCAAiAAAiAAAgUEjBzR5558I2jey5bGAouIAACIAACIFCrBOwNtqxgVWvinrtWsUDuqiUABWs3qqalpYXkb8yYMfqK/+VXXEHP/vWv9PNf/IJuvvlmWrlyJSvpzHRZk7XXgzALnUCze3IiLatalyxZTN/61kV05ZXfpzPPPJPOPvtsGjBgQBgd9hIJyFYNmzZtpq1bt5oYibqQUzFBbRkH/i2qJE+k4SN4SxAgaW0nauePn+XdJNt/nWxCnko57yQgHwiAAAiAAAiUQoBnInYy4uYmpcRCGBAAARAAARDIPwF3tx6NlebL4849/wQgYbYI4CNXPawvee28qamJ9tt/f1aIXklvvvkmPfbYY/TFL36J9pg8mUYMH07NvAq1viEFcZHrgfs+0Pr16+n888/XD239gpW3oiyE6T6B9va2KFICoZwmnHzYogrBYhGCmMWs7R1cllq5c2I5VVTmpchqRW5f+bCAAAiAAAiAQOcEwqHRTS/csfOY8AUBEAABEACB2iLg9CRGah4tw0G0tlBA2iongBWsZaygAw88kOTv8ssvozvuuEO3ELjrN7+htWvX8kWA10VaRambQMt1we7XzDZe6Sf+dg8BOciq1jPOOEM/tPW1r51Hu+66axlLm++kGhoaaNKkScpUtggwbCPg0SpVrQULQ17TEyurWH0l2Xpjd3WSKpIrupxrID3z9Whe8xN/Ca2B9NjcPJjkA2o1YVj0DpFdielJTYgNIUEABEAABECgVAJm/ufGSnOUXxgQAAEQAAEQAIGQgNWT2HtwvVGXW20YEKhCAlCwlqlSWltb6dlnn6UFCxbQU08/Tc899ywteuFFevvttzWHtH2ZVQnFSjozrTZXCVHCis0r+Nh+5ZU/oCWLl9C1P/85yQe4YLomMHToULr66qt1z9w61pqKMlSOXRkXol1VhO4sihVLRyrJphlz5+CBl5408mrnqVOnRgnl3ubaNQtqGnjuJYaAIAACIAACIFAyAZlC8FwjGC1LjoqAIAACIAACIFA7BKyeRMZMY60d0SFp5ghAwdrLKvvTnx6iBx64j5544kla/Mor+sGq9vbCvTY7CjSskdZJ92zmi4VcL6IVraZgLtTd99xDX/7yl+m6667rZYlrI7qsWp01a1ZtCFuFUore2Q+AGAirsIZQJBAAARAAgf4mYIbHaJCMbP1dMuQPAiAAAiAAAtVEgB9J6huiXCYMltVUMShLggAUrAkgpZz+4Q9/oF//+td0//336+v/skpVVrA645Si7jx9BV+wZiG4SHg9rE0k8KLrr7+eZs+erR+/8mnDAgLVQsC2WT2EDbegQ1RLgVEOEAABEAABEOhHAonxUU5hQAAEQAAEQAAEIgJmqOSbS/7vh01vicLBBgLVQAAK1hJrQZSq8sGp3/zmLn7tn/dU5eV57X6JXpAId/YOXoaqfV61pepgA9grgT2EOiixm1V/ztMeo8uIpnHBBRfQWWedRbLHKAwIVBUBbcRB++dRMNamq6qwKAwIgAAIgAAI9C8B/1DdF0PmfjAgAAIgAAIgAAKGgN1Mh4dHUb34JWrJ136BCwSqhAAUrCkVsW3bNv3A1COPPEI333yzrlaVD04VGKcDDT1Ua2r2UTXL19UhDEH1dfU0cNBA2nPGDPrMZz/DCtt19MMf/pCWL19B27ZvlSsHGxfPHm1eUrbLL7+czjzzzFiaOAGBqiBg265vvfa8KsqGQoAACIAACIBAFRHQITKcS7rXH6uojCgKCIAACIAACPQbAbtgzaxr41HTP5l0d5v9VjJkDAKpBKBgTWDZunUrXXbZZfSNCy+krazM7NTEZsZ2hhxMlI01cmhqaqA99phCBxxwAH3yk5+kww8/3Ccvq1Jlf9Vrr/05PfLIwySK1JgJ8vo/P/oRFKwxODipGgJRc0+sva6aEqIgIAACIAACIFA9BIL5XfUUCiUBARAAARAAgSogwGOkWcMqZeEbzbQ3iKugmCgCCDgCULA6EvYoCtann3m6S+Vq9BEfnRlzbHsMJsrGpYNGDB9BBx9yMB017yg68cQTadq0aYlczenpp59Op5xyKn3/+5fTeed9nbZvl31dXfrRxWXFihWp8eGYTmDVqlW0adMmmjRpUnoAuJaPgGv//HRRxz9RuIqJmrE5xy8IgAAIgAAI1DgBN5f0N48YK2u8RUB8EAABEACBJIFoaIxsyTA4B4FqIQAFa6Im6ni229TYFLiyhsguTRctkZsMq8JIlUf8456kuKBWmzRp0u40f/5HaN68ebTPPvvQyJEjg3TTrYN464CvfvU/6e9//4duGxAuA5StRur4p6O9nZYuXUqTJ09OTwSuSkCU5ddccw3ddNNNtL11O+0+cXe69Hvfo4m7715AaNmyZXTPPfdQU1MT1zEz5ut3ndS7PDMzJ6Yq2G78zQXe7LYrLSNyD/1d/TVymzrxhONpRAltoKBwGXLgJqospAuo3WDKkAQoKgiAAAiAAAj0EQEzzZAhUwZPc+yjrJENCIAACIAACGSLgCpDeLA0d5zZKjtKWysEoGDtsqbNjFeUbaJnkz8xeoh+vKM4HXzwwfS5z31OtwAYNWoUDRgwwPh34/eb3/ymUbDa/DQq20WRJwq/1atXQ8HaBc/HHn+cvnzml2lH6w4N+eQTT9Lbb62l+3//QEHMhx56iD796U/T0KFDAz/7sTJ/yxNezEO7ieKV706rGqTU3NxM++6zd+4VrInmGhCAFQRAAARAAARAICSgY2YwcMrMAgYEQAAEQAAEQMARCO+5VRmii6CcTsaFwhEEqoUAFKwl1kTYicNu7qI3NDTQaaedRmeffTbtueeeVF9frysdnX93j7LadaeddqJ169YVquu4AC0tLd1NsqbC79ixg/66YIFXrorwUm8vLHoxlcN2u+fthg0bUv3tekzjl9YAisRyzu286rg9bETOI09H5qKLvW2LFfW0PBCAAQEQAAEQAAEQiBNInUqIIwwIgAAIgAAIgIAlUHgvmfdbalR9tglAwdpV/anSyCqK7GzYdfNBgwfRrrvsSmeccQZ98YtfLGkLgK6yC/23bN2ip/zyudNc6bkorkT5ClOcgCi4ZdWoGl9v5nV/UXaKf2hcnYZucXsQIrDGwxQ/k1XHutVA8SCZ97GYWQ4BFPaZyCfzQkIAEAABEAABECgDAZ3byXgZDpE9mF+UoShIAgRAAARAAASqnwCPl7pdYnLsrP6So4Q1RAAK1k4rm3uxKMbMsjzVG8n+muPHj6eZvEr1Y6xYlVWr4lZu8/rrr9P2bdttsjzj9nPwOmpobCDZegCmOAFRoM6dO5emTZ9GL7/0sgaU/W1POeWUAuWqeA4bNkwV5G5lsNzjmFoNbGytlyahqcV/ZKWm2VDAuMfOuQ0Nbh5CLUPyvepYnyYKNAbk164qrDRicX44AwEQAAEQAIHaImDHRh0z7dyi/NPJ2kIKaUEABEAABHJKQG7CQ72MvenMqbQQK7sEoGBNqbtIURZNfmULgIMOOoiOOOIIOuGEE1R5lxK1bE7fvOiigrRMaTpod/5IU0/2dS1IMOcOc+bMoev+73X061t/TZs2baZZM2fSZz/72VSpjz76aLrzzjtJ6tmZ2MeqnKNdapLu5wPFLLJytbGxkaZMnRJzz+WJ6zIY83JZvRAKBEAABECg/ATs0Fn+hJEiCIAACIAACOSCgH3vww+Y3pIL6SBEfghAwZpSl7L60Bn56NEHP/hB+qd/+ifaf//9acKECc6rosfp06bRh079ENU3mFfZnb5KXm8/5phjKpp3nhI/8MADSf66MrKC9ZBDDukqGPxLJeC7kGu5pUZEOBAAARAAARCoAQLRlzHto1tdnFMDgkNEEAABEAABEOg+AX97yVFxh9l9fojRNwSgYE1wlpWJsvfpuHHj6Ctf+YquVt1tt90SX5dPRKrA6b//+7/TJz7xidTtBwYNGlSBHJEkCJSHgAx4MurplgHBw4rypI5UQAAEQAAEQCAHBMwgqYJ02DvFCuw4lQNQEAEEQAAEQKDWCYQKVR0rQ21rrcOB/FVFAArWRHXISsYbrr9BXUWRmfwYUiJ4xU4HDhxI8gcDAlkhoNsmsEJV7xnd3SIXPlikkxVRUE4QAAEQAAEQqCgBfRjJTyP1rSncKFaUNRIHARAAARDINgG5tfSfxQnuM7MtFUqfRwJQsKbUqv/6fIqfvKLf1tbGSiRRJJm/lGDdcpL9VPtLkdutgiIwCHRCQPpDZHifHB4IxSnmHAWADQRAAARAAARqloCOmPZu0a/MCYfRmiUDwUEABEAABEDAENDx0Q6S0RAZ2cAJBKqNABSsJdTIjh076PXXX6eVK1fSK6+8on/r162ndevX0fbt23WJnq5B4L4uq/hUo8RHp3BSN85HVynwMfqIFqmy9txzz6UZM2aUUBIEAYHqJ+BvFKu/qCghCIAACIAACPQfAXuP6BfjyAAKAwIgAAIgAAIgoAR0mIQ+Fa0hQwSgYO2ish577DG644476H9/97+04JkFXYTumffHP/5xKFh7hq5PY23durVX+dXaSmWsXO1Vc0FkEAABEACBnBOQB+7hFgG4h8x5hUM8EAABEACBHhHQBTxYxdMjdojUtwSgYO2E98UXX0zXXHMNLV26NBEq0bsTPd748i+/+lXHyxLcylWTSBDXWrE9QAJvFZy+vux1uv/399Oy15bp6uVVq1bR1m2sYJW7H1eFvEpZraxJNE7Wgw9ulbJbxSz7+X73u9+lyZMnV4F0lSqClV+TFwhp7b9SeSNdEAABEAABEMgSgeT8MEtlR1lBAARAAARAoO8I6ANI/jF3m+E9Z9+VATmBQCkEoGAtQumb3/wmffvib9PWLVttR+aAri+7HZZdXNfj5dxtESCaOP2vni4kH/ncpZP0CkLB2n8ErrrqKpI/2RZiy5Yt1Nra2uvCyOrVr33ta71Op7oTkLbNjVuXrrJd/6ORV3edoXQgAAIgAAL9QiA5l+RCyPQQBgRAAARAAARAwBBwahM/QOqtJf94D5ACgeoiAAVrSn38/ve/px//6EeqXBVvryKylmhObF/ukpWMolRS3VJ8varEL+j/uCYIlqozskr10//6r3Q7bwkhpqDeUtzSwmhk/2PaSBMrWN1evN4rZxajW020fwYU9ZecCQxxQAAEQAAEQKCHBKKx0c4lJR0/4exhoogGAiAAAiAAAjkiIMOi3m/bzcr9MOktORIWouSCQH0upCijENu2baObb76ZlvHqxaSRzi0m6s9GmSTKVXHThXsaQn5caAkf2Z3VpBG4+3iw9AeB9vZ2uuP2O7xyVcoQqzdbqGS9RW3BBEjWqCod2UsV8DaNvB5S2z8DSuOYVwaQCwRAAARAAARKIRDNH6IHk5FbKSkgDAiAAAiAAAjknADfXJuxMT5CJu+5c04B4mWIAFawJirrH//4B8mHrdRIzw36siqK7JKD0EuChOfGHkSMJ2LSxm9VEXj11VfprK+elShTBw0dOozGjRtLLS0tvBfvq7RmzWoN09jQQHvtvTeNGTOGVq9eTevWraMNGzbotgIawDaIObNn06TJk0m2CJg4cWIi/Xyedtr+8ykypAIBEAABEACBbhMI544SWc5hQAAEQAAEQAAELAGnUkkMmM4ZnECg2ghAwZqokZUrV9LChS8YV1mKrp2Zu7A72t5sDvxaFytcZeWeddZ4oT2RfOLUhHQfQkp44rQPCdx2222qJJV6dq/tHX/88XTqqR+iE044nkaNGkX/8R//QZdffjmXqoMGNzfTddddR7NmzdJSipL1pZdeop/+9Kd0++2309q1a9V93PjxdMUVV9DkyZP7UJr+yyp40bH/CoGcQQAEQAAEQCADBMwsMJpLZqDIKCIIgAAIgAAI9D2BAr1M3xcBOYJAKQSwRUCC0qZNm/ijRtvVVZSn/r3/VK2pUa4mkuj2qayOhOlfAs8++5wWwClXTzzhRLrhhhvoYx/7qCpXxXPs2LE0aNAgDbejdQc99dRTapcfUcAefPDB9JOf/ISuvvpq2mOPPdTv3nvvpeOPfy8tX77ch82zRV90FCW1FzKyeSdYQAAEQAAEQKDGCUSjY3nmkjWOE+KDAAiAAAjkmEDXepkcCw/RMkUAK1gT1bV+/XrrUse6VdGqWm0R2+UjRW616SmnnELHHnssvyI+lnbddRdq4FfGe2Ikvdn8GjlM/xJYuPB5LYDU+KDBg+mib11Ew4cPjxVKXvEXBeu2rVtpR/sOWrJkScxfTqSNfOhDH6L1G9bT5z73edrOe/q++OIi+tSnPkV33XVXQfhcOshzCVWxCk35gwEBEAABEAABEAgJmO91iJpVxklzxIgZEoIdBEAABEAABISA08FEehl/qwlAIFBlBKBgTVTIwIEDrYuZ5nJ3jhaxsjJUXgmXj2BNmzaNGhsbVaGW96/DJxDl8vT5542CVYSbNXMmjR49ukDOCRMmkGkfddS2o42WLF5cEMY5fOLjn6D/vfd/6dZbb1WnBx98kF584QXak9POrXH3iSqgU7HKQMh9CXeNua12CAYCIAACINADAjwu6hxTo7o5Zw/SQRQQAAEQAAEQyDUBN0ZGehncW+a6wjMtHLYISFTfTjvtFHOR7ix6IzEjRozQ179lxal8tKi+vl4VrMYXv1km4FYmiwxj+aNWUr9Js/vuu+sKVnkNvr29nZbyB9GKGVnRvPc+e1NTk6RTR9u2b6Obb7mlWPBcuIse1RjzdFFX52D0c1BwBAEQAAEQAIEYAXfL6Gaa5tFkLAhOQAAEQAAEQAAEmEColwEQEKhWAlCwJmpG9kONVi+GiiLSPTbdR40S0XCacQKyItmZjRs2Ultbmzv1x3Hjxvk9WMXx7bVv+Y9Z+UCBZfq06TRkSDO7sEKWV7wuXfpq4Js/q9evsrz6UMI5uGP+RIZEIAACIAACINBLAjJIuoHSHXuZJKKDAAiAAAiAQE4ImMVucb1MTkSDGDkkAAVrolJlleJBBx2krvLqlvx3K/OGDRtGg3l/Tpj8EQgVrK+88gpt471T08yuu+7Kq5aNz9q31tLChQvTgqmb7Ncqq5zFtPGK1zfeeF3tuf4xY5/fViPXskI4EAABEAABEOgNATufcEnU+XemnAuOIAACIAACIFDbBMyjx7hepraJQPpqJgAFa6J2dt55ZzrmmGNUMWY6M+tY7QR45cpVtGHDhkQMnOaBwNSpU70Yy5Yto9dee82fh5a5c+d6pembK1fSo48+GnrH7LKv64aNpr3IPr01oZw3Y1+MA05AAARAAARAAARSCMhEM6ZkdTPPlLBwAgEQAAEQAIGaIyCDpPuL9DI1hwECZ4YAFKwpVTV//nyaN2+e9eEObee7D//5IXqsE4VaSlJwygiBfffdV0vq7nOuv/4GXoVZeKNz7LHHsoK1QS/zrdu301133UWrVq0qkHL58uV09913U+v2VvarI9mTNVwlWxAhLw4OoEqdF6EgBwiAAAiAAAhUiIBONezgGYyhFcoNyYIACIAACIBAhgjI1nMyUMofD5KFt+cZkgVFrQUCULCm1LJ86OrKK6+kUaNGsW/Ui7fya+P//rnP0csvv5wSC05ZJnDUUUeRrF52tf3DH15FK3mFatKI4r2xsdGHe/DBB+mMM86I7cUq8cTtkUce0egyKMhWAdOnT08ml6tzvS9UgGzD+JeruoUwIAACIAAC5SfgthwyN4/lTx8pggAIgAAIgEDWCbj781AvY1a1Zl0ylD+PBHKtYJUViK2trbqfpuyp2Z2/GTNm0P333x988Iqrn5VGb7zxBs1gRdnXzjuPNm7cSFu3btV0t/Nqxu6kH4aVL9LD9C+B4cOH07/927+ZQqimkOjTn/50aqFOOeUUH06C3nPPPTRy5EiaMnUKzZ49W9vM7373O/YxCclzN9mP9dBDD01NLy+OscGPT1R6+TEY8iIm5AABEAABEACBshDosHtQ2U9Dxu8dy5IDEgEBEAABEACBDBOw95EFt5PuIzkZFg1FzyeBxnyKZaRav349nXnmmbriVF7RFiN7YYriVY5i9DVwttexmyiInL/4DRjQROPHT6A333xTfCSwP3zrootI/nYbvRvtMWUP3V9TFKUuvqRV75YmmJTtK+ecl2StadXRjh076Pvf/z7tvffe7AjTXwQGDBhAH/jAB+iqq67SfXZlxemdd95JN954I334wx+OFetHP/oR3XfffSTbAEg9a6Pgi/ySxUuicFzH2qZsXX/qXz5Fe+65Z+SfR5vKnLg/NIDyKC1kAgEQAAEQAIFeEZCVq0bHyoOl+d+r9BAZBEAABEAABHJFwN5LmoO72eSj6FJgQKAKCeRawSqrSh9++GF68cUXe42+jhVo2o8TfXnFmytI/npj3nrrrd5ER9wyEZA9Un/wgx94hbwo32VlatLIatRrr72WTjvtNLs1ADcK/i+Kc3OtNxZtKvxz0EEH0bcv/nYymfydGwxeLpXfn8ECAiAAAiAAAiAQEnDzBOfmn8s7BxxBAARAAARAAAQsAXOz6fUy4AICVUgg1wpWWU0qKxONYaWXGFaU1vFyAbNe1TgZd/5N0whxNA0fe0oiaXFge/Cp+HOxiIkS5HWrhXmaQP6r9PYUh34i0NLSQvKBs1KMfOzqV7/6FV166aV07733apSoiZh6b2oaQF/4wuf57wtBOywl9YyG8e1fyh87yahAKDYIgAAIgAAIVIqAHScxXFYKMNIFARAAARDIEwEeLwv1MnkSELLkgUCuFaxhBXn1Juu+nNpT57RuYsuOzhrFYxfWmnXIHh8uknraEx/HxhRntZrdtEwo4ycKXbXZoPYQZQVb5gi85z3voX333Zeef/55WrRoES1cuJBef/11mjRpEu211140c+ZMPUZK/syJ2L0C+/Yv3SB8hIHW3j2QCA0CIAACIJB/AmaWKPNLP0pap/zLDglBAARAAARAoDsEeKRM1ct0Jw2EBYHKE6gZBavuceUnrt4SKE4jlVC02tQqRV1weXcrWqaotaNeTgHrZ8gczNtN5MRpXF9b+XpGDhUiMGrUKDr88MPpkEMOoba2Nv2T/X4bGxtrc2Wy7StR+xfwrgNVqBKQLAiAAAiAAAhkmIAfJWWyCAMCIAACIAACIKAEuqOXATIQqAYCNaNgjXQ8YTc1VWCUn356y0EDu9eM8goDeWrCUZyTO4qj2q1WydjDtOMqJh+vGlpAzsvw93/8nS773qX0j9deU4WnbANwySWX0C677FKS5PIRstCI8tR9IC3p7j6kFrrXkt31rLD9S8+IHl3UEg3ICgIgAAIgAALFCbi5oDtqyGj6WTwifEAABEAABECgRgh0pZepEQwQM0MEakfB6itFumlsOmuVpkXUQCmT3Q67kjVStnJcXcVqAodRknlJMUJ/XyxYKkJg+RvL6fbbb1cFq2QwdOhQuvDCC0vO6+tf/zq98cYbrFSt59WpO+g73/kOjRkzpuT4tRTQDYDx9u1ca4kEZAUBEAABEACBzgkUziXt20+dR4MvCIAACIAACNQmgfhNZm0ygNRVTyD3Ctb29vaUSijsnaWogXysYJsA48a/3jOZXVEPHzC9jN4bll4QqK+vpyb/oTPSj02VUtcuy1/+8pf06quvulM655xzoGD1NOIWt1ZVHl/IMwzXTeKPM+JxcAYCIAACIAACNUnADZIsvNtWR8fPmoQBoUEABEAABECgOIHwfjJl18biEeEDAn1MINcKVlGuDdtpGNU31NMA/qK7dEaZxZasYOPwbnvVYvXilEriL6+OdwTbCIQXgtDfp8UBWre30sgRI7wTLOUlIPWRNFJnpZqBAwfGgqZtDxALUMMn2q8YrSJn7G7wK6yBGoYE0UEABEAABEDAEnDjpJtrpkxZwAoEQAAEQAAEapaA06e4B5ECAmNlzTaHTAieawXrsGHD6Gc//Rlt2LiR6lW7Wn11IgpA+do8TGUIiEK0OwrVypSihlIVxSqLC6VqDdU5RAUBEAABEOgRAXeT6G4cS3/826PsEAkEQAAEQAAEMkXA31N6S6aKj8LWIIFcK1jlS+4zZsyowWqFyCEB3R/XOoQrjsMwsJeHgFFmmxHQ3TiWJ2WkAgIgAAIgAAL5IuDnJO7GERrWfFUwpAEBEAABEOglAT9SxlfxYEVPL7kieqUI1FcqYaQLAtVAQLcIaHd3LrJDhHx2rPQ7GGwJ0J1aNNtv6EocicaYSyfdnXwQFgRAAARAAASyT0AfAOtAaUbLaLaSfdkgAQiAAAiAAAj0ngBvQufuKd1NppxjwOw9WqRQEQJQsFYEKxKtFgKqIK03Ny6q7uvmxThtD9dqka36ymHgmgHP3Sw69tVXWpQIBEAABEAABPqPAI+PMmzq0GnHz/4rDHIGARAAARAAgeokwEOkGSVloRQbVrQ6XWt1FhilqmUCULDWcu3XgOyqIDVXZDzq6ov69nsdu5HQwe+LzJEHCIAACIAACGSEQNryGwyZGak8FBMEQAAEQKCvCKhSVX7UIrm6+8y+KgHyAYHSCUDBWjorhMwgAX8d5rKn3ctkUKSqLbKy5o1Xzf1hSL5qi4yCgQAIgAAIgED/EPDK1GjjIu/UPyVCriAAAiAAAiBQdQR0bJQf/sM4WXXVgwIlCEDBmgCC03wRCC/Czu6OpUgKNWEplEwYx9Uwc2elx0dIEAABEAABEKglAm68dCMm5hy1VPuQFQRAAARAoGQCGCBLRoWA/UsACtb+5Y/cK03Av7IeZdSd67Pd6SWKDFunBMx3HjsNAk8QAAEQAAEQAAEmYBSrPHLaiYlTtAIOCIAACIAACICAEHADJB/dYNmdm3lABIE+JtDYx/khOxDoUwLJ66/sydre3q5lcMdiBaqvr/fXcRdG4rs/cZPrPDt1aeRjW/rBrS5DZjuA2yBApZBxUDYhx8sc2a5UlB4EQAAEQKCCBHgSYecRyTlLBTNF0iAAAiAAAiCQAQLuRjsaK80Xrpx7BkRAEWuKABSsNVXdtS2s3Lhs3bqVrrnmGho1apRXtCapiAJVlKGiYF29ek3M+9prr6XRo0dTe0c7P08zq05EwSqXeHdjJOfuAZukJT5NTY00f/582mWXXWLp5fJEFatG8SzSw4AACIAACIAACMQJyJzBjZHJYzwkzkAABEAABECgtgnEFzXxqBkOorWNBtJXGQEoWKusQlCcchNwty18I8MX4s2bN9PFF1/crUz89Zstl1xySbfihoEPO+yw2lCwMnKztYKwj/iHLGAHARAAARAAgVomIHOSaBWOmWnILwwIgAAIgAAIgEBIgN+ItIuWjGJVbzbDALCDQNUQwB6sVVMVKEhlCAS3K17XF7hxpm61qeYferFdTn00bwkDmVIXuhh35ztkyBBqaGgIHXNsF3AMy0FxxxxLDNFAAARAAARAoFsEdE4hPzJI+glGt5JAYBAAARAAARDIPwEzRsrGc3WqaM2/xJAwuwSgYM1u3aHkJRCQfVbb2toSIeM3MrHrdOjF9vA0SqTQtdAlCi2ptHMZutrzNYyRbbv9NJiD4o7ZFgqlBwEQAAEQAIEKEIgGychWgWyQJAiAAAiAAAhkkIBZq8PqVbbo2x8ZlAFFrh0C2CKgduq6JiVtaWmhMWPG0MaNG3VfVdlb1bxiwGtGrF2P7awUrDd+ci6mQ/ZZravX8MZJ/N1aEw4vjuwgN0QuLY1of6J0OqiFV7DutttuoXf+7ILN8QnvEq17/gSGRCAAAiAAAiDQCwKJ8VH2docBARAAARAAARBIEuCbS3efKV6J8TMZGucg0F8EoGDtL/LIt08IzJkzhx555JE+yavmMxGlKg92Hfxo0Yx5ooQ25zoi1jwgAAABEAABEACBiIDspiNDJwwIgAAIgAAIgEAaAV7gxP/suiaxcSAZPO0xLQrcQKAfCWCLgH6Ej6xBIHcE9E5RhkFzy2i2X8DtY+7qGQKBAAiAAAj0moCOjnKP6IxoXGFAAARAAARAAAQMAR0X5S1SO1j6cRLjJZpIdRKAgrU66wWlAoFsEghuFANrNmVBqUEABEAABECg0gQKtKyVzhDpgwAIgAAIgEBGCPAYKWtYzfsefHcJvWpGKq52iwkFa+3WPSQHgfITcDeKbvwTLSs0reXnjBRBAARAAASyT8Bs8M5y2DtG3Dhmv04hAQiAAAiAQFkJyNBobicxSJYVLBKrCAEoWCuCFYmCQG0S8IMfj39ql3EQY2FtNgZIDQIgAAIg0CmBOvflTPsgEsNlp7jgCQIgAAIgUKMEzPjIg6WOl3bQrFEWELu6CUDBWt31g9KBQKYIhDeHoT1TQqCwIAACIAACINAHBHSclB87YOKWsQ+gIwsQAAEQAIEMEQhHRh4s+X+d3Zc1Q0KgqDVEoLGGZC2LqB3mqz1lScslUudfEXMuOIJABgnw+Cfjnfu6Yx0/YnQfu8qgNCgyCIAACIAACFSMgNwyWr1qlEd4Hxm5wgYCIAACIAACNUqgYKTkD14JikL3GgUEsauMABSsJVTI5s2b6e2336Y33niDnnnmGVqyZCmfr6V169ZRe3t71MlFwcTK0o52o2LiE01dlLKqROWj/wAe+8jFQeJfeOGFNGvWrBJKgiAgUL0EjHJVyicDnlWu6h2k/lRvwVEyEAABEAABEOhjAu5hpL7u6O4T3bGPy4LsQAAEQAAEQKDqCYiuhZUpuoAHt5dVX121WkAoWDup+ba2Nvrzn/9MN99yC91+2220fPnyTkL33Ouzn/0sFKw9x4eYVUJA7wvtYOfXrqoj7hirpIpQDBAAARAAgaohYMdGPvj7RLHAgAAIgAAIgAAIJAjwAKmL1XjQlOFTV63ZcTQREqcg0J8EoGAtQl9WrX7rW9+iK39wJW1YvyEWyk2E3THyNC6F7sHkOQrsbfX12ArXw4Al2wTcjWJaJ8i2ZCg9CIAACIAACJSdAIbLsiNFgiAAAiAAArkjIG8Eq47VSgblau6qOCcCQcGaUpGtra109tln05VXXhnzdZPgDtu7pVsbN/7V96NNR493dxMidHPpxBLHCQjkhIC2dd/g0dpzUq0QAwRAAARAoJwECuaS4Y1jOTNCWiAAAiAAAiCQfQKyvaIzuMN0JHCsNgJYOplSI3fccQdde+21MR+7napxC3q3rk5n5aroV4261fy68PKqdGTkUmBWtavFnKoVPyCQfQKmQcuva/9Ba8++eJAABEAABEAABMpFIDmX5HSjsbNcmSAdEAABEAABEMgygej+0kmBsdKRwLEaCUDBmqiVtWvX0q9//WvauHGjakqdDrRDN1Q2gVWBpGtX+Vz0p06HajyMk2pejVd0EbABnYOLlygDTkEgiwS0WXMf0C5h27/I4Zp7FmVCmUEABEAABECgEgQK5pKSCeaFlUCNNEEABEAABDJLwAyMcmsp46aYUC9jXPALAtVDAArWRF28/vrr9OQTTxpX7s/RXDdu6zBLVk1Ht0ol2Xg5imD2CZGEgkUKPl1jsb8FAWK+OAGBTBDoKLX9Z0IaFBIEQAAEQAAEKkdAZpWxuWTlskLKIAACIAACIJBJAqpUlZ9QzRIpXDIpEwqdbwJQsCbqd/Xq1bRk6ZKEa8qp1bfqwdqToYrrTeMR4mfJVHAOAlkiUOefLmap1CgrCIAACIAACPQ5ATsB9C99uOU5fV4QZAgCIAACIAAC1UdAh0koS6qvYlCiogTwkasEmk2bN3kXfVgi7zfHNKX2EYoPZSz19XFdtbkYuK/d1VE9p9Nh/9W5mTQn1d7eTsOGDUukhlMQyCoBbuW2i8S6TVbFQblBAARAAARAoEIE5JGkrmK1AyfuISsEGsmCAAiAAAhkmoDeXhboZTItEgqfUwJQsCYqdsvmLd7FK0nZhVWlvJckK49YayTK1I985CN02KGH0ahdRtGQIUPUzUfshqWDFawzZ87sRgwEBYFqJWA0q7J7hvQX+fKbPEyQBwswIAACIAACIAACIQE7PprJZugBOwiAAAiAAAiAQEAgqZfRPQMCf1hBoFoIQMGaqImh4WpS0ReJsZNfWZG333770U9/+lOaMmWKKlbr8AUfwwi/ICAdxT9ZZLv+5x8YEAABEAABEACBOAHzNDLm5qadMUecgAAIgAAIgECNEvC3lm6A1FtL/vEeNQoGYlctAShYE1XTwqtRm5qaqLW1lRVE0pOj9XejRo2iSy+9lPbee+9ELJyCAAiYcS7qL0qEu1DKPSRggQAIgAAIgEBNE4jGRt0owD3Lr2kmEB4EQAAEQAAEQgKywE01Mgm9THwLxzAG7CDQvwTiG4f2b1mqIveWlhYavdtoW5b46rsDDzwQr/NXRS2hENVIIL7nqn3MyF1ItwuoxgKjTCAAAiAAAiDQTwSiGWb0YDJy66dCIVsQAAEQAAEQqCYCfEtpxsb4CGnvNKuppCgLCCgBKFgTDWH33SfSwXMPNq6Jnjt06DBqbm5OxMApCIBASMB0m3AQDO1hSNhBAARAAARAoHYJJKaZukqndmlAchAAARAAARBIEHC3kYkB0zknQuMUBPqdABSsiSoYPnwEzTtyHjXUN5jHJfLeszWvvrqU3nrrLXeKIwiAQAoBP+BFXSclFJxAAARAAARAoLYJmPFSPqJa2xwgPQiAAAiAAAh0SkC2CMBg2SkieFYHAShYU+rhAx/8AL37kHcbn+C95yeeeIJuvPHGlBhwAgEQ8ARk/JMTvXPEXaPnAgsIgAAIgAAIWALR6MhbBPgnk8ADAiAAAiAAAiCQJFCnG5djsExywXn1EYCCNaVO5GNWV1xxBQ0fvpPxtU9L2tra6GtfO4++edE3U2LBCQRAQAnw2Bftu4qBEK0CBEAABEAABJIE9HsdflMAo27FiJmkhHMQAAEQAIGaJqDDY519EMknVi9Th9WsNd0sqln4xmouXH+WbZ999qFbbvk1nfy+99HGTZt8UXbsaKWvn/d1uuLSy+gLX/oSvXPffWn69Om00/DhPoxYpNPLioQO/knr/8ZdXgurY0XucBowYEAsPk5AIHMEZAD0d4dGxaq/0aeSMycSCgwCIAACIAACFSHA4yXPFO2waQZPo2atSG5IFARAAARAAAQyR8DcRroxMnrjQ3QpMCBQjQSgYO2kVo4++mj6C28LMGvWrCiUaEu5Q69Zu5bOP//8yL0XtgceeIDmzZvXixQQFQT6n0CkR5Wni/amUZ8y9H/ZUAIQAAEQAAEQqDYC7pbRlEvGTahYq62OUB4QAAEQAIH+IxCqUcUuo2To1n8lQ84gkE4AWwSkc1HXhx9+mM4888xYiLoSn5ZEq1btZLlgzhw5NDTwB7VgQCDjBKLBzt4iRg4ZlwzFBwEQAAEQAIFKEZDB0g2Y7lipvJAuCIAACIAACGSLgNGa8C//N9vrZKv8KG1tEcAK1iL1fffdd9Ppp3+E1q59m/ty8iUu7t/Swf08WLo9n8iBTR33/GjZunX3YU2YaDLtznEEgRwQ4D6gK1l19Cto9DkQECKAAAiAAAiAQHkIxOeSMo20E8nyJI9UQAAEQAAEQCDzBOSOUj5yJboXq3XJvEwQIL8EsII1pW6feuopXbkqylUxHaIxShhVrvp5sPWXA//Zl6OjGD66j6B+8bMoOGwgkFkC2v6l9L7RZ1YUFBwEQAAEQAAEKkkgPpeUnDB2VpI30gYBEAABEMgaAdGYyOI1oznBCtas1V/tlRcK1mSd82z3tltvpUWLFlkf7szF5rvq7tSk9uhOObaxhr9hQrIqFgYE8kSA23pB+8+TfJAFBEAABEAABMpMIJxLBmNomXNBciAAAiAAAiCQQQKy9ZwMlPLHgyQUKBmsw9oqMhSsifp+ZfFiuue3vw1cw14czXzdHqtOTeqOptNzON//TfwoFZcGu7hEgtxgBYGsEtA+oA09bP9ZlQblBgEQAAEQAIHKEnDTQD+HrGx2SB0EQAAEQAAEMkcg0qNEttiqnsxJhALnmQAUrInaXb1qNb388svq6lShPghvFeDc/DJ16xJ2d320wg4aVn5sJHOI0gg2cfVZwAICWSUQ9QG2pbT/rMqFcoMACIAACIBAJQgk55JYmVMJykgTBEAABEAgswRiepRAipQtHANfWEGg3whAwZpAv3HTRtq0aZO6GoUR92rt2PwjeiPbyfUkCJVIJvKRRExC7uCPLk70QSzngiMIZJOA7x6u+EH7d044ggAIgAAIgAAIyPSSB0kZOO2Nop0uAg0IgAAIgAAIgIAQiOlReMDUm03+wYCJ9lGlBBqrtFz9Vqz169cn8ubey//dl+tcZ25sbKTJkyfT8OHDqaWlhRoaGnhBqlmdWtjfzXdh5eNXapNrgnzZgN8Na9uxgyZOnJDIE6cgkE0CYdsP7dmUBqUGARAAARAAgcoR0HEyGCzdlgGVyxEpgwAIgAAIgEBWCfCAmRw4syoKyp1bAlCwJqp28ODBcRd5UMLLVsNVph+ZP58+9M//TOPHj1flqsSpr6/vRMEaJWkeutj0ZCbNitaxY8dGAWADgawSkMbtbxTtScwtq4Kh3CAAAiAAAiBQbgIYJ8tNFOmBAAiAAAjkmAAPm6qXiW44cywsRMsqAShYEzU3bNgwahrQRK3bW9mHezErQDvk1S2rOPr6eefRf3z5y7pyNREVpyBQ2wSkj/j7RVmvzUZ/rGNt04H0IAACIAACIBAQsBNLPvhR0joFgWAFARAAARAAgdol4AdItgR6Ge9cu2QgeZUSwB6siYoZOnQojdnNrSi1H6SyE94DDzqIPvqxj0G5mmCGUxBQAsFIF+1VLD64Y0QLAQEQAAEQAIFiBPwoKeMoDAiAAAiAAAiAgBKQFavGxPUyHdhTBy2kSglAwZqomEmTJtHhhx3mXX2fZpfdJ06kXXfd1fvBAgIgEBFwA6AOg8HdohsWo5CwgQAIgAAIgEBtE3BjozsqDT921jYbSA8CIAACIAACQsC+E6kwQr1MnXzPBgYEqpAAtghIVIpsEXDsccfSzbfcTNu2bYstvmttbaW2trZEDJyCAAgIATcAxoc75wpGIAACIAACIAACjoCuvpHXHdlBlKxybJCfNv6RPxgQAAEQAAEQqFECA9LGwZShcUBdQ40SgtjVSgAK1pSaOf744+no9xxNd991d8x3wYIFtHTpUtp3331j7jgBARCQG0T+eBvvVyxbFhO/tuE+DOduHOuaB1LdkIFABQIgAAIgAAI1SaCugV8cG9RkZGflqhsfdVUOj51/mTiMfn7IRP4OwI6a5AOhQQAEQAAEQEAIrF69juiXEQv3tofeZrKz07Ves/IJumDSxCggbCDQzwR4dTXWV6fVwQsvvEDzjppHK5aviHmfdNJJ9Ktf/YoGDRoUc8cJCNQqgcWLF9PUqVMLxJetccKry8DDZ1HdYLmxdLeUxiYR3c1lQSKBQziwBs5qLe5XmJdEcINyMh2fGAfQmFH0WNAizhwm8hGbmKqVzRQv9uvLHHN1J72QjaOGbaEwRefijoV5iU9X9abK/SLh+ly2IjKntZE+l00y7MJoDUTVEAud7NuRZxRBbGrYklb3zlu6TM/qzeVgWkX8zKeeapGwxfpl9cgWtfb+kK0YnxBoZ+Uq7qf0NRkXRk4iacMcrN1G0UMUPRawiDOHiXzEJqY/ZavjBtb25jra/vRSUxhbPF/K6WOIZvJ3ANrajb/8es/IydhSPFKcfCzxEyOwi4Ur5p4WoWhYzSWeR7Gwxdy7m5+kI6avZQvzNSUwv8XcVS5X0CBCUQ4cJkyrWLhi7t3lKEVyaYX5BkWNlSd0L+bh0ouFtSdhHsXCFXP3BQ0SLho2yM+1EXESe2jC8oTuabIVDWsjhmUJ7WG6xdx7K1tSLsmzu3lJnLR0kmkVS7eYe1pBioaVzNg4f3c0rtFvMXcfMQqqTnJaDbJJucVIWYrJUMw9LUKYniac+AnTCu1hsGLuxfLrjKOk2xvZtmwneuB5k3PRcnEev/43av/A1RouFAV2EOgvAlCwdkL+b3/7G4lCVVatOiOT47322ovOOussmj9/vnPGEQRqlkCkYDWjnxsDQ0WFc6tZSBA8lUCe2wVkS63yqndEvVV9FaUWMGv1pm98hHf4VSJAlRQjtY576wjZekuwf+Kj3vqHe29zzXO99ZYN4hsCpbWRrkMNvO3ztOXk70PBioZVNQSgYE1UxZYtW+iGG26gRx55hJqammjNmjV06623FlwJmhqbaNDgQbTHHnvQ9OnTafjw4fxWNF8E7FKdtAc6ZrEwT6vl02IaoIP3dG2ns88+m6ZNm5YoCU5BIBsEIgWrPIA1A2Gy/RfcTLJoGtL+8IYCpkuY6EbwwB6Ln3CXzlRSfhzPdDubQJCOZuidfWli5eiWbEFePrUwv8DemWyFkhnGSXe99AhTXpqlfkH6+ZHN1l9SNlNL2vaSXMSr1/Vm09dDkbxts+80SJiMs5shI2gBYfqBPQhhO45JoVeyBemHBY/lJR4+XIGPjeZbuJ67nyzJ1h2OVmhujAEPz4h9A3sQosC9J9ctJR2kH5VFkk/Ugw3XHdk0iv3xqYX5BfZYfgn3nsimvTtIp+yycdru+t8b2YpdY5LuuCantEmtVOPekzbi682mE7aR0CnpnmxWLmysDVvHLF23ihEuKq/0gRxet6TqslRv3bkma7PUCg1aa1jBgT0IIU3DXvB63t80gSCdqCwpLc+G645s7hrZ27E0ee2VcsZYaMHZjcsoYwDmyck7JsNL6CR9OuPYp/WVFgDKAABAAElEQVTWxXULClbbyHGoGgLYgzVRFdu3b6f77ruPbr755rgPX5jlNUa3Y1ZrWyu1bmylv/71r/oXD9y9s9NPPx0K1u4hQ+iqJGBvf9yEzPcZKawdtq2fOfCvPpDgQd2F9ZZ4f5O9XXUKwOFNSiYFPROr+Gr/NHafn7jzn/TbaDcU24slL0nNHWx8k5d4xacWPi8pAMeJ8hMH4+aTs06SvhfJW1xck7HmF8vLuktiNt0oL3Fgd1dmPYtkc3vgyk1ULByfS/kLZQvyslE6ly3Kq1eyOYE4T2cVyWJl1rMoP48vIZuDUapsDqvmJVk6udkSthGfXxDGlNVG0EPYRoy7K16coyTCJozq80u0EVu/YV6lyGZuME02oWwunULZTJvwZeJmpf3E5h9v/8Vlk3alpgyymXLbvHw5PDYrXJRfMdm004XxnWwSQQxXkpWeT+IchIdJVwPKjy+AKRn/pl23LAdXJpHF1VuUXkI2SVrLprnwT+eymboyaRi7i88ySEJiKiGbLaQ5WBlsftaLMy5RNh+Sy2wfSIvcGtt1HieiZZMumxJ22eoxKkvEUZCatAWOmER/s5HMwcqgJ/E2YnKL0o3yMmn6+tAcItmk7Bq2QDbT7gpls2XwBecE2SnKLyqDCRLl1fey2XIlZLPEU9pkumwihzFx2SSdsI1INp6DScqeuxNOhQMZspKizc96xzmaGrVB7MHll2gjti5M3i5NW1afn3UP6q3/rsmGZjlkE0qeYygbu/pqczZG4Bgl603qRWO4A0fW8UYiiPEc5cTWoA0rcvh6D/ISqwnS/XrzSjabgo5jkpjkrmUzdi+lL4PLS/xdAUwpbFIRgzLJVvHxRmRWaeKyqVsl681WvXCUbJS7t7h6MCXT62SijWi8oD0U1JuJWiBb5a/JXLJ+ky3g6NuntNWAo5x6ltY9DMtOEUsriGUp6ST7tqk3n4Vv/6ZeOb7PSzIOyiFJx/ISf3a0eZmDyy/RRmy4qJwSGgYEqoeArKWESRBoaIh/jU67LV8g+D8be0WQg/xZI1M6Z4zN/Ubuxp/PnZM96spXFxlHEMgsAdMhZMBzjdzcNgddxXSioC9ZYTmOiW1uRsW1sL/pFFgjuC4kJyY/iS+90PiYtDRolE4QyeclQWJl4kDiqQGi/ExKLi+Xhzta31g6LoZJy+cXCyOuNj/O0IRx5Ez8SJ6EbMl0TFG03D4vScKHC/LSADa/aBZoOTqZ3NGUI5aOy0vTN6j46hjkZT06kS3ZRiI5wzLbdFx+koU48a86iWzGwm5sEU8NYGRTLwnOxufH/rG8xDNMJ4zEYSU5k4XxMDitqxw4hB5cODmqgw2vuQWJ+vowcU3imoxNJ5KtIC+XHx+DFH1+UpVpsvl0wkgcVkquTsky2aL1h2ySdVjMqG93TzYpe6pswlD+VHo5Rvml1ZsGlUBJRq6QylED+HJ73uJi83PpuGgSQ/PT+Im+bZKzWXKAIJLprqXLZoX1bSQsqStTSbLZwN2SjTOTkha0SXFXmRKySeE0hg9gw0Ucxd+XW8NbjhaSJROFidWbjSAHTsSkwzFiYcTV5schXF5BFdicTEljsiXTcZHCvDRv42EUqzYvzcjm11/XZClbwLHHsql4AcdANodEc1J34xLLSzwtS62lMBLHsSn7MCaoddU0C+strW9LNmq6UW8Febn8+BgW0+VXvmsyp+7yssV2+bm8xDnsb+WSTdJxealdy6EjPrsbH3USTwbkGYWRbNnVKclb/Ky/S8dFTZPNhXFtpCA/DmDC2KuBnJuMOSO2iKeGMaFcXuzar9dkKYcpkVhMqXy5XSG13FJSd6VzQSUmB5KDD5NWbyZmQb1JNM2DI7u8TFL6a7yMhw9n85IUxWqMsSXrTfx8mJhsNpoNYMKU85ps0vdldrJxRj4vzdvJJq5sl4MG6Ok12SQjSavhtEzKYnF5iY9xjeXFrq6Y5mjDs2us3pLpuEg2L0lbnWy4WF6SLfub3PVEHEqaJ2g6Li+JZPML8/K8pQRBXpqH/LBJtpGeyubFMxmZxPELAlVAAArWzipBrhj+QmKvIhLeXBliMeVSpUHlkbUac9EKhx7vbrzshccGxwEEMk6goP3bgTUulm38rg+wp+sxzhJ5WZ9kf+MA2q9Mhm785pTENYodz1e9NbNkfr4jatSU+OxksnIx2SE1rI1rDxLJxXCWqHzWp1PZrJw2ryiuSOYysVLa02R+Ppz4J/OyUTVOeN2y+VnveAbip2nFZdMovkxdy+bDqyVZb8bX529PTTnZ1QvJHi5oimySaoFsWnwXyeUQpCNeHMlnwRYT2sVxPu7cpsGnWj9heA2SRdkcl/LLZqgpLJN4st4cR/HlNmnCm6DK11jtb5COBGT2rnbEYuLaFKJZeCwFCdTTepO8ND9rsTlxgurKnt7F5OnykrOYbMk2YoJ74SUZTtKmGlhs+olsbGwFoHF8RC0AeycjJNLhUx/FWqIY1qGYbOLtZNNIRWRzhZQwHMemGlhsjjYNF9wf2V3jdOe6JZFT8oralS1FZ7JxElGRkrLZMrtC2tNuy2aKyWV1MTmhKFOXuiuJ8RP/hGwme/NrafHBndtk+FTl57g+vFq6IZsU0xVVUjEJFealJU65JmsUF8mWyyeikTR9n0VYVg3ufBJpuHTD8BqkD2WzMjupzFEL5q0l1VvIQ2KWUTZFYhI0ZSrWRsTX9W1bHm07Jpb97YZs7joZi88nZZdN0rRtpCTZpEDJNiJubAwsc+QkXcuLLDaAy8/Ein7ZW+P4iCqsJuySNoFdOjaqiyenNm4U3joUk028Xb1ppN7KZsuUPLgydue6JWlw+awE3hK1qxJk4ySsWGqL4kriCWOhJfPzFRsllIhoi9Yd2SSthGwme1sIJ3Un9ebDqyVZby4dW1R7qrLJjxcyCJfMi4OJr4njIrCLRgniaRbBuVg5uIshFuPrwjgfd64JaCCtnzC8BumFbIksbE44gEC/E4CCtbMqkI7LfwX9N3BwlxFJRp35kbXxDn0Ce2ANLk+dlQJ+IJAJAsXbP1G9n5gUiuK7k7fYMG4lT9LdJWEydGfFj2F8tvvT0F48tvpoHN+3uwjsvMP0fabWsyTZXEKdHBPp+tMwbxfdezoHc1TnrMgmha0G2eIIo7MijKMA1pYIp6fyw38JrxQHk4aJ48abghzSHcL0kxm5Npkes2g5CoIn0jXl5FAJd42X5uYS7Ko8Lpw7clo+OW8JPJ017VgQPi0QuwXhxKqn3uLi2ED24Fxjx17K1lnSYT4ajn9KDe/i+vDeYn1cuZPuYUQXxrmlHcP4bPenoT0tXuCmcTgvHzfwK2oN009GdOVOurvEirk7f3dMhPOnbPF2DhubCtq47m0mDZcV2aSwCdlUnFBYK58cKiZbkEfMWqQcsTBykghnymncE14FYV1aJk4F2qTLIHksKFgygD1PhDPlZL+Eu4ZOc3PJuj7izrs6clo+OW9xkQocnIc5duHtAyfC6an8xNztSczNp2Dz68wzEVZOObiPEdo1qPcpiKg+BeELghU4+BS9xQZxdZJ0dymIuwvj3Lo6chyfXGjvIp7Gycp1S2TJq2xSEWmyaQUVVqI6V6LeCrMyLkXKURDchbP3j6acHIotzqsgDhxAoEoIYA/WzipCZsCxXswO8gSI/zsv5+3OJTljdz7iEtgDq/jAgEDeCBS2f6J2HrzvPfEIGtM8KG/iQh4QAAEQAAEQKIlAA98sPrDsTfriw09r+HDuKHvbNX/wQGo+7d1E23eUlB4CgQAIgAAIgEAeCbStWk9rv/DzSLRwwFRX6yAHGBCoIgJQsHZWGfKah/Zd1oq6o1WQmgPvGsIKV54TexWq7CPS2fNreRAj4TU5G8utWuisKPADgSwQ6Kz9zxwxjCa2NGdBDJQRBEAABEAABMpPoL6OXlm/0aebnEvWj2yhphljqGNrqw8DCwiAAAiAAAjUGoG6loFWZKM10e0+nD7GHSWEGUhrDQ/krWIC2CKg08oRzanttW5PHenQ3oi/P1FLZ8pVCaDJcRphtPb29ngiOAOBjBKItX9u527j8oyKg2KDAAiAAAiAQPkIyOQvnABqyuxg3WJTzPLlipRAAARAAARAIFsE/FjpLDJWWrvTy4hEGDizVa81UFqsYE1UsqwmbWw0WBobG3jOK9pQ7syu81qr3aqfY9uObtORYLrwlZ01DDuoG7vXcTrx0ERtbW00cKB7QmMTwQEEskxA2ry0f+0DWRYEZQcBEAABEACBMhOQSSEbNzcUu5sbuqO4wYAACIAACIAACBgC7i1gc8ajpRtEMXCiiVQZAShYExUyePBgOvXUU2nK1KnU2NDAndf2XunHbJc9skyHNjNk09mjnu36uk+WAzg3/SYya1877D6uEkZWr86cOdMHhwUEMk+Au4N5ACH9IuobmZcLAoAACIAACIBAmQiY0TGaIWK8LBNYJAMCIAACIJAzAlYHI1oVHTb1ZjNnMkKcvBCAgjVRk01NTXTiiSfqX8ILpyAAAiURkMHPKlbl4O4fS4qLQCAAAiAAAiCQYwJ2eDQSukEyx/JCNBAAARAAARDoFQE3cPISHra6M01S7jNhQKCKCGAP1iqqDBQFBPJBwG6g4UY/d8yHcJACBEAABEAABHpOoOBmUAZJDJQ9B4qYIAACIAACeSZghk3+5f/h9qsqM4bPPFd9JmWDgjWT1YZCg0AVErA3jXKQnTS8se7+HBYQAAEQAAEQAAHzhgc4gAAIgAAIgAAIdEGAby75v3tJUt+Q7CIGvEGgPwhgi4BeUJf9WGUPVfnTvVk5Ldmntb6+Xv/EDgMCNUNAlKrc5Dv40aIqWXkUNHsUm7Oa4QBBQQAEQAAEQKAEAgWvOpYQB0FAAARAAARAoHYIyFds3D2l6FjtfaVfzCPnMCBQPQSgYO1mXbS1tdHKlStpzZo1tGjRIlq6dKna5byBP4o1atQo/ZswYQLNmDGDRowYQaNHj1a/bmaF4CCQPQI62MkwaIxZyerOsicOSgwCIAACIAAClSKgoyOeQVYKL9IFARAAARDIPAEZKeUjVyII/xQ8mVSPzEsJAfJDAArWbtTl888vpDvvuIN+d9/v6C9/eZy2bNnaaezBgwbRfvvvT0cddRQdf/zxdMABB3QaHp4gkHkCwY1iYM28WBAABEAABEAABCpCQO8NMWJWhC0SBQEQAAEQyAEBp0TlsTK2D10ORIMIuSMABWsJVSqv/1/0rYvo+utvoJd41WqpZsvWrfTnP/9Z/66//no69phj6P8/91waN25cqUkgHAhki4Ab/1yp5Z5RTNLduOIXBEAABEAABGqYABSrNVz5EB0EQAAEQKBEAma0xA1libgQrB8JQMHaBfytrCQ99dRT6Z57fkttbTt8aO3kVnlUx3tO6kvRfB6uWjcXAt2WkhYvXkw/vPpqevqZZ+gHV11F+73znT4tWEAgFwQS7V9lwjiYi6qFECAAAiAAAuUnoLNHnUvyYInxsvyAkSIIgAAIgEAuCJgh0t1sOi0Li6ZjaC5EhBA5IVCfEzkqJsaBBx5Ev/nNb6xyNerB2snlh//8jpNqj4qiYTSIfPTHxH3sscfo1FNOoSeffDIKCBsI5IFAkfafB9EgAwiAAAiAAAiUm4DOE+XHTRjLnQHSAwEQAAEQAIFME4j0L1bxwh9RlkHTumP8zHTt5rHwULB2Uqvz58+nZ5/9axDC9OCwm6unc+Cjsbpf5yEqWNf762jJkiX01a9+lZYvXx6kDSsIZJxA0fafcblQfBAAARAAARAoMwE3Q4wlm+oYC4ETEAABEAABEKghAk6HEonsP3gVOcEGAlVDAArWIlVxzTXX0K233qoaU7f61AXtcE9M3ESY+31g5WByITDbBri47qh+HPgPf/gDXfq9S6m9vd0liyMIZJsAN3szBEbt33QM1zuyLR5KDwIgAAIgAALlIlAwl5SEzSBariyQDgiAAAiAAAjkhwDfUkY6lfyIBUnyRQAK1pT6XLduHV133f+lbdu26WS3Q5ehS0CnKLIzYD7EXIxeSVMU9aoYt3JVjhpWfmz0//7ef9PSpUs1HH5AIBcEbIdw7d+0ddvgcyEghAABEAABEACBchCwYyMf3FyyHKkiDRAAARAAARDIHwEeKXm8LNTL5E9SSJRtAlCwptTf3XfdTU899bTxCRSiTjMaToQLVEfRfFnjF4RNRLjgggtSSgAnEMgoAW7fsS6TUTFQbBAAARAAARCoJAE3P8SYWUnKSBsEQAAEQCAfBJI3mQmlSj6EhBQ5INCYAxnKKsKOHTvo8b88Tps3bzbpBn3XTYad05DmZjrm2GNp3LhxNH78eKqvr6c33niDXn/9dd679VlatGiRW6waK2M4mb7xxhtItiMYNGhQLAxOQCCrBFz/yGr5UW4QAAEQAAEQqBQBP5esYxtvJCdjZjgvrFS+SBcEQAAEQAAEMk0guMnEuJnpmsx14aFgTVTvm2++Sc8995y6hh1X5sG6LJ0PQ4YMoXPPPZc+85nP0ODBg/lLdnWqXJVIsqeq/LW2ttKDDz5IX/va1+ivf3UfyjKJ+GsDn7a3d9ADDzxAJ5xwgkSHAYHMEpA9ccKtMMwG5LhxzGyFouAgAAIgAAJlJ+DngG6Q5Bw6wgln2XNEgiAAAiAAAiCQVQJmgAyHSaeXyapEKHe+CWCLgET9ioJ14cKF6ioTXunMYjr4RCbFLS0tvH3AU3TOOefQ8OHDaeDAgTRgwABqbGzUP7HLatShQ4fSiSeeSAsWLKB58+apElY1tJKYXhUkUTkhuueee4wFvyCQZQLSWfhPmrX0F28Cq3eDBQRAAARAAARqmIAZMu0A6bWuNQwEooMACIAACIBAAQEzQKbpZQqCwgEEqoAAFKyJSti0aROtXrXKuHJ/jua8xnbFFVfQ9OnTE7E6P73lllto7NixUaAoUXV7+mm732sUAjYQyByBDlmN49s2f9TN3Td6t8yJhAKDAAiAAAiAQEUIyNDoPtaB55AVQYxEQQAEQAAEMk5Ax0f5CW8zoxvOjEuH4ueRABSsiVrdtm0btfEr/mnmne98Jx1++OF2NWpaiHS3kSNH0ic/+UnjqVcJp3EyU+rVq9ekR4QrCGSOgGwUAAMCIAACIAACINAlATsdDF/66DIOAoAACIAACIBAjRDQYdKpTmpEZoiZbQJQsCbqb+PGjd7FKIoidZF8yEq2BeiJOfjgg0202AXCnKxd+1ZPkkQcEKhCArwLq+0ywfZyVVhOFAkEQAAEQAAE+pmAjJfy5wbOaMrZzwVD9iAAAiAAAiBQPQTM8IhBsnpqBCUpRgAK1gSZHTt2eBej/uRXna2L7K0qe6z2xOy66642mkuNT61V9nGFAYHsEzANuk47Dtv11Dby7AsHCUAABEAABECgjAR4fJTxUsdMM+MsY+JICgRAAARAAARyQ8CMkk4vg/vL3FRsDgWBgjVRqcOGDYtcpO8G/Xf16tW0fv36yL8btueff96G5suDS1OuFGzfumVLN1JCUBCoVgLStoPGrSOh/lRrgVEuEAABEAABEOgfAuZpZDxvDJlxHjgDARAAARCoaQL+1lJuMd1tpjyZ9B41jQfCVyEBKFgTlRJboSqvbHH/dfPdpUuX0ooVKxIxSjt94oknooByTXBnbO/ptgMuCRxBoBoI6DjH+wK4/qJl4obu23o1FBJlAAEQAAEQAIEqIBDpV7F3eRVUB4oAAiAAAiBQhQRkyzm9l0zoZQh70VVhbaFIQgAK1kQ7kG0AWlparGtMVUSiYP3Zz35GmzdvTsTq/HThwoX0k5/8xASy2iaTsjnZxW8f0Hk68AWBaiYQH+eihu5e5qjmsqNsIAACIAACINCXBKIZZuLBZF8WAnmBAAiAAAiAQDUT4FtKM15Go6YU195pVnPJUbYaJQAFa6LiR44cSZMnTzauKT33hz/8IV111VW0cuXKRMz008WLF9NHPvKRSCkbvzZopNmzZ6dHhisIZJCA6TZhQw/tGRQIRQYBEAABEACBchEIhsSUaWa5ckE6IAACIAACIJB9Am7MTAyYzhma1uxXcd4kaMybQL2VZ7fddqM5c+bQc8895x6XFCR5zjnn0P33308nn3wyHXfccSQfsGpubvbh1q5dS0uWLKE777yTbr31VpIVrN64i4NeFcyl4b3vfa/3hgUEsk4gNuD5k6xLhfKDAAiAAAiAQHkJuCFSpobOXt4ckBoIgAAIgAAI5IAABskcVGJtiAAFa6Ke5SNX/4+98wCwqrj3/2/7AsvC0jtIBwUVwYId49M0S15iEqPPJJrEmMSaxBiNaU9TzP+psaSZp/Ep1kSNMXZBURELoHQQpEuH3YXt5f/7TTlnzrn37t5d7u7ee+53YO+ZM30+M3Nm5nfmzEyZMoUeeughtXdy8LNn7bixsZFeeOEFmjdvHt1+++3UrVs3ta1AQUEBHThwgKprqqliXzlt3LSZmpoagzHEeTiIkBYKBCJDgGeKsrecbjuYNkamXJEREAABEACBgydgXrS7vWOcoeHBx4MQQAAEQAAEQCAiBOSsj3hyGbydjEgBRygbELDGKczTTjuNxowZQ/J5v9rhQ42CeSdJbtnN0rLVfQ5VV1fTypUr44QQx4j95pinguzRbB8G//n5/3T2fI3jD0YgkGkERLiqGwmnHNPGTCs+pBcEQAAEQKDjCeixoB0Q2mvHx4sYQAAEQAAEQCBjCBi5i5LByPxS3TtymYzJCBKaLQSwB2uckj766KPpuOOOUzYsUvVel+iGzcZKxuoLjqSdK+VpnFtrJsGwsfLle6Wbb7pZO8YvCGQ6AVvXVT7s0VZsGDDP9Ewi/SAAAiAAAiCQAgI8FlRjTBWUHhiiu0wBVwQBAiAAAiAQGQLyVaSRoOg+0y5Yi7ucNTLZRkYymAAErAkK78orr6Thw4crgWhgwCvr01n5Q2EeHhsH+gEgtmzA/73ngbr1fYgLURdddBGNHTtW3+AXBDKcQEz9V+2C672u+hmeOyQfBEAABEAABFJAwOkT/ZGh6jDRXaYAL4IAARAAARCIDgGny1R9pO4tnfwZ2YxjAi0IdCkBCFgT4D/qqKPoZz/7OeXl5QUGvPYzf+1Nmjz/mZbvPwDs6j0TuDgxTwPrRsL/9a9/Tbm5KIIERQDjDCNg67Y0CCtbzbAsILkgAAIgAAIg0LEEYmaH0nv6PWjHRo7QQQAEQAAEQCCzCOhuk3/5v5WpeDnASlYPBTTpQQDSvRbK4etf/xr98he/9F3wGxI7BA6+LHFGy6rtszvr0Pp27mV/1zvvvIsGDRpkbXEFgWgQUE0hXu8XjewhFyAAAiAAAiCQKgLO6NEEGWuSqrgQDgiAAAiAAAhkIgERo+SoE5RZEyNhzcQcIc1RJgABayul+8Nrf0iPPPIIde/enRu0LyVVWm8c7JuLBLbZE8PGBj59+nT6xz/+Qccee0ysJUxAINMJqKYgLcBpE5meJ6QfBEAABEAABDqAgOopvbGkRIC+swMwI0gQAAEQAIGMJSCdpCxeM52lvyddxuYICY82AQhYWylf2SLgC1/4Ar311lv0yTPPDLoOjIxto/eduGNmWfF63XXX0YsvvkhTp071HUEHApEhwJXcqfS+1tdFJqvICAiAAAiAAAikgoA7lkR3mQqiCAMEQAAEQCAyBGTrOeko5Y87SdVnRiZzyEgECUDAmkSh5rB0dMqUKfTvZ5+lV155hc4++2zq0aOH2p81LzdH7aPKF166znpu+Lm5eZSbxzreX1UOyrrqqqto7959dPPNN1Pv3r2TiBFOQCDzCKjOz04UA/0fesLMK02kGARAAARAoKMJ2O2m9OSRY0N32dHIET4IgAAIgECGEfC7Rl8XWNWTYflBcqNNID/a2Ut97k499VSSP1FvvPEGLVmyhHbt2kU7duygqqoqKisrowEDBtDAgQNp5syZNHbs2NQnAiGCQBoS8Ls81vF/lrH62+T4lmmYciQJBEAABEAABDqfgP7kUTbVUT1m5ycAMYIACIAACIBAOhMw3WNsL4nJZToXWzanDQLWUOnX1dXR+vXraf/+/cZGN2dZnSr7rjY2NtDkyZPVCtbjjz+e5A8KBEBAE4jp/ND3oWqAAAiAAAiAgE/A6Rdl5areVo4NHXPfMXQgAAIgAAIgkMUETN+oLzzTVIddOTNO0UKBQBoRgIA1VBibN2+myy+/nFauXKm2AAhZU0VFhdomQLYMgAIBEAgS8Do/NVN0Or+gM9yBAAiAAAiAQNYTUH2mmTxmPQwAAAEQAAEQAIEWCXCHGe440Ye2SAyWnU8AAtYQ8927d6sDrcrLy0M2+nbEiBHUq1evuHYwBIGsJuDJU6WnU+tyzD4BWU0FmQcBEAABEAABn4C32sZ0ml7f6TuBDgRAAARAAARAIESA+8sc/uxDNtaBAoF0JYBDrkIlU19XTzU1NcbUjILNRQxlX1UcVBWChlsQEAJarqpYSNenlLo4DUib4hcEQAAEQAAEspyA30+il8zyqoDsgwAIgAAIxCfgdZCs4W6zWbYIYJWj9i6P7wWmINCVBCBgDdHv3qM79evXz5jqYwesrEgM+/fvT/n5WPgbwoZbEAisVtV7ylkoZhJpb3EFARAAARAAARDwCHi9pDeR9KygAQEQAAEQAIGsJSArVrUKymU846wlg4ynKwEIWEMlU1paSkOGDPFMw413y5YtJAdhQYEACIQImMaiukFntmi7xZBr3IIACIAACIBA1hEwi2+8tTeBPtLrO7MOCzIMAiAAAiAAAjEE3O0AXLlMjpw+DgUCaUgAAtZQoQwbNoyOP+F43zTUdhe+9x5VV1f79tCBAAgYArqxBJuM2y0CFAiAAAiAAAhkNwE7QWzO0aJV6TMDQtbsxoPcgwAIgAAIgEB8AsFJZnw3MAWBLiYAAWuoAAoLC+n8L59Pw4cPVzZ20Guv6zdsoD/+8Y8hX7gFARBQe+GYhpJjJo5CxbYdEAIBEAABEAABEDAEePWN3UPOCl3BBgRAAARAAARAIA4BnlDaOaVcIWuNwwhGaUEAAtY4xTBjxgz6/R13UHG3bl7jdRvxTTfdRL///e/j+IQRCGQvAbVW1TSUZpk4ml7QbTvZSwc5BwEQAAEQAIEgAe+wDnSUQTC4AwEQAAEQAAEmoKaTRqJqu0p7BSAQSEcCELAmKJVzzj6b3nj9dRJhq6+0xKixsZGuvfZaOuqo6fT000/71tCBQDYTMBJVI1fNZhLIOwiAAAiAAAi0TsDMEu0KVvSfrSODCxAAARAAgewhoLrJOBJV+wVI9pBATjOFQH6mJLSz0llVVUX33XcfzZs3jwoKCmjSpEn03sKF1MRCVZKTCUwDr62ppYUL36OzzjqL8vLzSPZunTB+Ag0cMEAlNc5zgGRVn7yHybFibb5vbGyin/70pzRhwoTOyiLiAYGOIeB97qhrv6ruHRMTQgUBEAABEACBjCcgE8TA1x+QsGZ8mSIDIAACIAACqSTg9ZR6OasRsqgvQOIJXFIZNcICgXYQgIA1BK2+vp7mzp1Ljz32WNBGBr2qEWuN/ayLeNlBY0MjbVi/Qf0FPSV3941vfAMC1uRQwVVaEzATRdtW+Oq8k0jrlCNxIAACIAACINDZBNyxpPcGv7MTgfhAAARAAARAIG0J8GtIO6dUn3uwQMbeqzTLxBMKBNKHgF1LmT4pSoOU5OcH5c6q2aqWLYkTKSubyEUJXNWPrEsVS6W0zv765p6tNTLX3FwUg0GHS0YTMG1BXXTlliM8oEAABEAABEAABMIEuH+U/lL1mbr/1PqwO9yDAAiAAAiAQBYT4C5S95JmZslyGSVrVUhM/5nFeJD19CIAyV6L5cGDXzP+Vc3atF9Zp6eVLzyST7zUHe9DaR8A4sYzNz7ccLxgPDtoQCBzCej673eAun7btpK5+ULKQQAEQAAEQCD1BGz/6L6iT30sCBEEQAAEQAAEMpmAlrjwL//35Cy2C83kjCHtkSQAAWuLxcotN07j9Y18nQSj7ryNJ/WjQJv7+uCCPse8xXTAEgTSn4Cu/zadqNuWBK4gAAIgAAIgkJiA2oU1sTVsQAAEQAAEQCCLCWiJC/9qTRaTQNYzgQAErC2VUoyMiA2MWdjKvdd69wng6B1tS1HDDgQyjYBtA7H1P9NygvSCAAiAAAiAQAcRcMaBtt/soJgQLAiAAAiAAAhkNAGvn/Q0NjvGIMbc2uMKAl1DAALWlrirfVfdxsujYjMw1hf+rMtY2/GyPucucaDWvfZmQrGGib3BBgTSnoDU5tbqf9pnAgkEARAAARAAgY4k4EwGw2PJjowWYYMACIAACIBAphHwzvOIJ5eRzFghTKZlDOmNLAEIWOMUbbP3mT+3WKuP23j5s66QeWsfein3PLh2vTU1NcVJBYxAIPMIBOo/13PsLJd5ZYgUgwAIgAAIdCABdwCoomEDY+bIXjswAQgaBEAABEAABDKFgO00pa80ev+EK+/r4kzJDdIZfQL50c9i23KYw6tJCwsKlKeCgnyvHbuhyADYNnXX3NO7Dly958DXNDQ0ULdu3XwD6EAg0wlwnc8xfWCL7STT84n0gwAIgAAIgEBbCci4kJU7PLR9pb1qF/gFARAAARAAARAQAvLBr5WvKkmM7UTRcaKCpBkBCFhDBdK9e3f66te+RtNnzKC8vDzdmkWc6jZe1aDlxzZ239K2dTdYEdqKC/XLb1zcVX6yenXSpEmuc+hBILMJqOaiNwtw63pmZwqpBwEQAAEQAIHUEdDjwuCYMHWhIyQQAAEQAAEQiA4BEa6q2aVaxcP5kk4UCgTSkAAErKFCyc/Pp1NPPVX9haxwCwIgkBQBfs3AnZ/q9/QMEp1gUtzgCARAAARAIPIEnEmh7in1C3t0lJEveWQQBEAABEDgIAhIn2nlq14wtgv1DKABga4lEGkBa2VlJf3ud7+jmpoaypXVqP66cho0aBBdeOGF1KdPn64tAcQOApEjoLcj95qb2ifHmVFGLr/IEAiAAAiAAAgkSSBmMoj+MUlycAYCIAACIJBtBPS6HRGtBhfwWA7oQi0JXNOEQKQFrJs2baJf/OIXap8r4e22v8mHTqYzzzwzRsAqwtgnnniCFi5cqLcIYH/yiX9jY6MSyp5//vnqmiblh2SAQPoQkEkjNzJ1cRtbzKvG9EkyUgICIAACIAACXUbA9Jt+/GIABQIgAAIgAAIgoAh4c0rW2HmmWMT0n+AFAulBINIC1kWLFinKsoAux6yisxsk9+vbj8aMHh1TCrW1tUrA+thjj8XYjR07jk4//XQIWGPIwAAEmIB0gNzWmrmt6T6P3zWae20JSiAAAiAAAiAAApZA7PtHbyZpneAKAiAAAiAAAllMQO9VbmU45jtJZ2ops04oEEgfArnpk5TUp2Tnzp06UPXCQw9a7WfLQ4cOpfyCgriRyj6sWpkGay6FhQVqNWtcTzAEARAwnZ3skOO2N0wYUTVAAARAAARAIExA9Y6YG4ax4B4EQAAEQAAEDAHpKVnIqhbLiTY8rwzfAxwIdC2BSAtYy8vLE9DNocLCwgR2rrFu0EZWJEvzXEvoQQAE4hLg2SImjHHJwBAEQAAEQCDLCThDSVmRI2NMdJlZXieQfRAAARAAgRYISMcpf9xbOn1oCx5gBQJdRiDSAtYwVTWAVT/N9OHaD6m6ujrsJHCvB7x+K/Z1AWe4AQEQCBDglsL/vfamG1LABW5AAARAAARAICsJOH2iXZGjP3nMShrINAiAAAiAAAi0SiAsl2nVAxyAQBcRiLSAtW/fvgqrM5b13nq8+/Y7dMcdd8Rgz8vL87YB0AJV9m0CkMOuxB4KBEAgDgG/qfiWImjVDck3gw4EQAAEQAAEQICHl+ZtJDpK1AYQAAEQAAEQSEggKJfR530oxwFBT0LvsACBTiNgNxvttAg7M6I+ffqo6Kx8x17FsLaunq699lp67rnn6JxzzqFJkyZR7969qbKyknbt2uUkk30Zj1VVVbRo8WLav38/NTU1KTcidBXV3Mr2AeIukRuJu7S0VIWDHxDIWAJ+U1FZsO3N24w8YzOGhIMACIAACIBA6gmoftJ2lqkPHiGCAAiAAAiAQIYTEFmL7Sj5yv9z+KWk/gJE32d4BpH8iBGItID18CMODxSXvOuwh+/YhjpnzhySv2TU+vXr6Svnn5+M0za5efnll2nWrFlt8gPHIJB2BGQFq+rndEfotzc2hAIBEAABEAABEPAIuFPGgKF3Aw0IgAAIgAAIZDuB2HmkXtcWa57tpJD/9CAQ6S0CBvQfQCNHjjSkjXBVhEDmm38Z3HoqcOOZimPPvW9qHDt+lNa5Vx7Zgx9XwNIPinXYdiCAAzeZSoD7Od3Vya/f3mxbyNRsId0gAAIgAAIgkGoC3r6r7vBQd6KpjgrhgQAIgAAIgEDmE+D+0spWMj8zyEFUCURawNqzZ08699xzVdnJUnKl+BJ3/Nocr7mymbi3frlJe4GIxglIaeXHOvFETdqRrJz1rHQg+AWB6BEwldxtb4GGEr0cI0cgAAIgAAIg0A4CZhDJF4wP24EPXkAABEAABLKIQCK5TBYhQFYzgkCkBazFxcVKwFras5T36bDlIYJUK/TUZnpg628eYF2KYIjlro58SPuzA2F7Ffdaz7+hgbLrxkuCHwF0IBAtAqb+u+0tWhlEbkAABEAABEDg4AnY8aFcMT48eJ4IAQRAAARAIMoE4stlopxj5C0zCURawCpFMnPmTLrkG5c4pRO7llQGtvHWrypPzqjXDoab7cFWyp+4YpGtstSOHS88aLa+VGjqJ9bEt4MOBDKdgFv/MW3M9NJE+kEABEAABFJJwI4BY8eSqYwFYYEACIAACIBABAjYTlOy4kwyXeMI5BJZiBCByAtY8/Pz6Ybrb6BTTj7ZKza7gtWuOxULbxsA1Vp1k3UbrpGp6jD85XlasMpbCOhdBHx/1r0fl3jV9t6zwY1Ah4xfEMhYAvYlhVRrW/8lM6jmGVukSDgIgAAIgECKCXhjwPBYMsXxIDgQAAEQAAEQyHgCehVbYD7pzjMzPn/IQOQIRF7AKiVW1qeM/vXMM3TaaadRUVGR8/LDDHOlldoRr7rqG2nPVjjUzDfWiZhZYZIyDFpoI/MwECv/IWAcWgPrTxIJBQIZTkBVZ9OUpL14ytF6ZtCAAAiAAAiAQBYTiBlLZjELZB0EQAAEQAAE4hPQApNEcpn4fmAKAl1HICsErIK3R48e9NJLL9Gvf/1rOvzww6lv374+dWcVgWcoI19uz74MNKgL79iqbCUcz5mncfZ/NaGH4wvfe4mABgQyiUCw/nvvEfymkEmZQVpBAARAAARAoMMISNdov57Ce8gOw4yAQQAEQAAEMpiA6h9bkMtkcNaQ9IgSyI9ovhJm68orr6SLLrqI5s6dS++//z5t376d9u/fTw0NDcpPXV0dvfvue7Rx4wYdhmnQciNC2uOPP5769OmjBamqxWtncQyUhZKdsjsVjNwovfYot42NDTR6zBgbCK4gkOEE9CFyauIoP1AgAAIgAAIgAALxCZh+Un30gT4zPiOYggAIgAAIZC0B1TXa/lEJVLIWBTKeIQSyTsAq5VJWVkbnnnuu+pP72tpaFrA2qk/5y8vL6YorrlACVi0U9VvykCFD6Be//AVNnTKVV6Xali4hsHiV73PMkj2x0X797QH0w0H78dyZMERwCwUC0SDgnPDIjUD2Jta1Phq5Qy5AAARAAARAIGUEZLAoykpY7b02xS8IgAAIgAAIgICdU7p9JSaYqBdpSiArBazhspB9Wfm/UrKSVQ7GEqXbLQtOjb6goIBKepRQt27dlD1+QAAEXAK6pWihqtb7rcd1Bz0IgAAIgAAIZDsB7ie9l/WYKWZ7bUD+QQAEQAAEEhDgLjIgl7GC1gTOYQwCXUkga/ZgTRZyYGWqyIjkzyixC9hbC1xBAASYAHd9duNV0aueUHeHwAMCIAACIAACIOAQkLeRYRXHKOwE9yAAAiAAAiCQLQS8qWVALsOdpWeRLSSQz0whgBWscUpKVqrKZ/xFRcVsq0e7srK1uLiYcnMhk46DDEYgoPo59RLCZcGdIbYJcIFADwIgAAIgAAJu3+jvXQ4uIAACIAACIAACPgH50ENkq81m1ar3HtL7AsR3Cx0IpAMBCFhDpSCf/19wwQU0ffp0ysvL8/ZWbWpsouHDh9GIkSNDPnALAiAgBIL9nOoK1fsJryMEJhAAARAAARAAAUXA7xv56ygwAQEQAAEQAAEQiEtA95HoKePCgWHaEYCANVQkhYWFdPrpp6u/kBVuQQAEkiCgRavoBJNABScgAAIgAALZRsDpHs2ryGwjgPyCAAiAAAiAQNsIJOowxRwKBNKIAL53T6PCQFJAIAoEvLkjd3jo86JQosgDCIAACIBARxCw/SX6yo6gizBBAARAAAQiQ8B2mCpD6DUjU64RzAgErBEsVGQJBLqUgBWsckfYDBFrlxYFIgcBEAABEEgzAmZe6E4PA/PGNEsukgMCIAACIAACXU0geKaV02s62q5OI+IHASEAASvqAQiAQGoJBASr6PVSCxehgQAIgAAIRIGAOq/DewnpilujkDvkAQRAAARAAARSQEB1jznmrA++MZJWOZAcCgTSkQD2YE3HUkGaDprAjTfeSO8vXkwFvKeuOtmeT2CSB7E8ivUhhErHd/aqo7QPa/FjTNgJ+1VCQznIqZlyc/i9BHuzbsRPU1MT5ebmembaHXcG7K6hvoF+9atf0eTJk02YEb0EUOq1q+rXwototpEtEAABEAABEGgzAR5X8CjBHHClxxzSjUKBAAiAAAiAAAgYAqp7tH0k95la6825wQkE0o0ABKzpViJIT0oIPProo7Rq1aqUhJWKQK688sroC1hNh6ekzyxU1f0h/3rmqSCJMEAABEAABEAggwk4faLWWrGqFbZmcN6QdBAAARAAARDoIALSZwbW80g8WMnaQbQRbHsJYIuA9pKDv7QmUFRUFEifnb4EDEM3QTfmLmjIPhwD1np3niYUqLm1K2Pj20bNVK9ehWA1auWK/IAACIAACBw0gZjxgkwZHanrQUeAAEAABEAABEAgOgR0t8m//F9vr+PkzS5pdYygBYGuJAABa1fSR9wdRqC6ujoQdjJTl6Abcxc05DAdA9Z6d54mEK1309jY6OkjrVE9oN/74aVipEsbmQMBEAABEDgIAqrLDPiPNQlY4wYEQAAEQAAEsoyATLNz7JZzMRLWLIOB7KY9AWwRkPZFhAS2h8Cll16qtgjIy8tTe6/ql1tmZSVL/ez+qRK26O0KU3u19nIvfq2g0JqrNImhJ1jVGnGbm+uHL/5lD9YjjzyyPdnIPD8Kg/+Zo+aeedlAikEABEAABECgowmoLlNkqnoI4Wo6OmqEDwIgAAIgAAIZQEC/eNRzSu4sraA1A1KOJGYnAQhYs7PcI5/rK664IiBE7eoM5+dnQ1PjDtDp9Pw5o6/r6nJA/CAAAiAAAiCQVgRcKaueR6ZV8pAYEAABEAABEOg6AnqBlH4PyZ0kVu90XVEg5qQIZIPUJykQcBQtArJyFapzCajTkO1EUQ650j0hJ8LTdG6CEBsIgAAIgAAIpDEB9SEMd5Gq/5R0ortM49JC0kAABEAABLqCgN81+jrpOdFpdkVpIM7WCGAP1tYIwR4EQCApAn6Xxzr+rxbiyI/SJBUEHIEACIAACIBA1hBoNnvJmQ2MsibfyCgIgAAIgAAItIVA7HTSn3m2JRy4BYGOJgABa0cTRvggkKUEVLcnP+j/srQGINsgAAIgAAIxBJw+UVauqpeQsr0OFAiAAAiAAAiAQFwCupdkMWtY0hq+j+sbhiDQeQQgYO081ogJBCJPQPdx9hc9XuQLHBkEARAAARBoFwHpIdWEUX4gX20XQ3gCARAAARDIJgLcWYb7y/B9NuFAXtOSAASsaVksSBQIZCABni3qPk5+zY5ykLFmYEEiySAAAiAAAh1GwPSL3rYA6Cc7DDUCBgEQAAEQiBAB7i9zYpawRih/yEokCOCQq0gUIzIRJnDbbbfRqlWryB521WxPXOJrTq7/XsEz5wDsHCfmRZixsA9014+NN4dPqhBze7Xmcm1qaqKrr76axo0b5xpHT6/lqkrKGjywQwDGUI1e/pEjEAABEAABEEiagOkX+YJeMmlocAgCIAACIJBNBLwOkjU8126WLXVUv+nNNrOJBvKaAQQgYM2AQkIS207gnnvuoWXLlrXdYwf5OO+886IvYPU6QO73HD2Eqx1UqRAsCIAACIBAJAgYUav/pjcSuUImQAAEQAAEQODgCOTwpJLFqhyI/u7DWzMVmGseXBzwDQKpJAABaxtoygrFyspKqq6upvr6empsbFSrE9sQRFyngwcPpuLi4rh2MGwfgfx8v2rb52/4KiFrM/dXm9pHuRu79e+aKX3Iwr21elnZGnllZogqz4HZoncTeQTIIAiAAAiAAAi0RMCeZ+WND9ix10t6mpZCgB0IgAAIgAAIZAcBLVzVeXUX8OTIatbsQIBcZhgBXwqVYQnvzORu2LCBFi9eTMuWLqXVa9bQli1bqKKiQgla6+rrWEgXT3gmjT5sY4fTfuobGhpo9uzZNGPGDN8QuoMmUFtb64VhH77hqzjQZu6vNrVuvUA8t66J0Yccu7dWL8L4bFE2zzq/wbtsYYB8ggAIgAAIgEA8AmqCyBbN8uLVTBBjR4fxfMIMBEAABEAABLKYAKaVWVz4mZN1CFhbKKu6ulq69dbb6Mknn6QlS5bQgQMHWnDdfquOCrf9Kcp8n5/+9Kdp5MiR5K5kjckVT27s2y+1wlS+OdDzHSUyb+kZ7u61auZIHHz8KZII0ceOHRsTfdQM5HWC3RfHZRGfStRyj/yAAAiAAAiAQBsI8JhD9Zv8qrel8UYbQoRTEAABEAABEIgmAZ5Qmu1XOX/xvjWNZraRq8wjAAFrgjLbvWcPfflLX6ZXX51LdXV1sa6M1EhdEkiQfMFb2HvQg9xBpZbAjTfeSHoVa5C1HwtPa9jKHlhlBab2U35r7rsP6qx7kamqCZIIZ+UmwTSpf//+wQAieKemiN4sUQ78UotzEhCJIABkCQRAAARAAATaQMC+lEw8emhDYHAKAiAAAiAAAhEjoPpH00l600zMLiNWytHKDgSsccpTVpR+7atfoxdffCFga1caKEPTwuVTL/U2xWn95hkQ8mtEb8rSPh6MS5FEQaWUQGlpaUrDQ2BJEDAS1Xj1PwnfcAICIAACIAAC2UXAGUvKfBGjwewqfuQWBEAABECgZQKqm7SiE8dpQC7jmEMLAl1NILerE5CO8T/88MP0wgvP66Q5o1210sAkWBq1Utzg/Q2Xg7uuqkWNxr03bHYeEDnmpAO7atJzCg0IZCIB87mjTXqw/ltTXEEABEAABEAABISAO5aUe7s/q+ihQAAEQAAEQAAEvJ7SE6cIE1cuA0YgkE4EIGANlcbOnTvVnqvyebkSodrRrtwo4agWrKpGrbS20RtzdmS9SADaVCIxklXPgPcOMUatfY4eSiJuQSBNCej9cOLX/zRNMpIFAiAAAiAAAl1EwB1LdlESEC0IgAAIgAAIpDEBLVtRIhQ7yZQbb9GaJ1xJ4zwgadlEAALWUGlv2bKFFi1apEx1u5VVqaykQWsN37BGLJUDbvTmKs5E6YWp2o3x7T8D3HBUeNoPfkEg8wnoFuPVf86Qrf+ZnzfkAARAAARAAARSSSA4llQh6240lZEgLBAAARAAARDIbALcN+ruMSyXkWyh48zswo1e6iFgDZXpvn37SISsWmkJqG3Qtv3KOj3X3tx4F8+9MrFurTXfWyNzbWxstJa4gkDGElCtxcwXVSWX+m22wcjYTCHhIAACIAACINABBNyxpB5tdkAkCBIEQAAEQAAEMpyA7iP1rxaf8K+Ro2R41pD8CBLAIVehQq2srHRMgi1XmrWY+KZaV1ZWRiUlJZ4/fcK83FqXxidfZEMB2RJA/uVQLtXX19Hw4cM9v9CAQKYSULXdVnlZ5S3137vP1Fwh3SAAAiAAAiCQegJ+9ygjQigQAAEQAAEQAIF4BHQfiZ4yHhuYpR8BCFhDZVJbU+ObWImqMdGL0pupZ88Suuqqq+miiy6ifv36kQhUD+agqu7du/txQtfpBN599136wQ9+SIWFBV7cWkhuS1wbWzO1RYSZDtlyF6G56Jv4mstXd1/dhoYGuvXWW2nq1Kle+FHU2Oair+gEo1jGyBMIgAAIgMBBEnC6R9tvHmSI8A4CIAACIAACkSTg9ZOexmbTGMgFCgTSiAAErKHC6NW7t29i90uVTVZVG26mk046iZ566inq7brzfUCXgQR2795Nc+fO6dCU79mzp0PDT4fAZc6oVmhjLU46FAfSAAIgAAIgkI4EnMmglrXKS3q7n386JhhpAgEQAAEQAIGuIeAtd4ojl1Ep0h1p1yQOsYJAHALYgzUEpUePHlRcXGxMucWKcFUUX4YMHaJWIkK4qpFE5dddbSp5EiFhXJXA2HfrOHC0vn30dYEPHZlBQpbRR4EcggAIgAAIgEAsgZjJoIw1Y53BBARAAARAAARAwHaQ0lcavQhbrXK01ghXEOhKAhCwhujLfqqjRo1Spvyld0BNnz7dswtY4CajCTQ1NQXSHxASujb2+e6aBfTswNSZUNUJbBkQ8BLFG868yr/0g5g1RrGEkScQAAEQAIH2EogzTmh1eNHeuOAPBEAABEAABCJAICiX8efcmGpGoHAjlgVsERAq0NGjR9MpJ59CK1euVC9JZBxsB77dirvxPp2FIR+4zXQCcsjYBRdcQAUFsgerfKonL8hMqfNNDuttHRBdLv8TCWJ9fT1t376dNm/eTKtXrybZa9U6FO8nnHACTZ48mWqqq2nChAmZjin59HPehZfbdpL3DJcgAAIgAAIgEH0C6CejX8bIIQiAAAiAQGoIyNw6MLeUThQKBNKQAASsoUIpKiqi/zjjP2j2w7OporwiICjaunUr7du3j0pKSkK+cJvJBCZNmkR33323yoJ+OxY8pCqcN/XZOz/hZeVrNQtPDxw4QBUVFXTXXXfRPffc4zlfs2YN3XDDDXT8zJlU0rOnZx59DcOR/eQko5hBRr+4kUMQAAEQAIHkCTiTQq2VKaMox0Ib4BcEQAAEQAAEQMAQiDutDC5tBSsQ6HIC2CIgThGce+659KUvfolyc/PUqxK7zce8efPoxRdfjOMDRplMID8/n3qyAFT+Skrkr8S7t+butaRniXJTWlpKAwcOJFn1fMQRR9Cdd95JCxYsUGbCQ1a3ysrYA1VVmYynHWnX25F7c0XbgNoREryAAAiAAAiAQKQIWHmqlymZMkK46uGABgRAAARAAAQsAVm3o/RaEzOttF+dWve4gkAXE4CANUEBiLDsqKOmUW5OrizG89R3v/tdev311/Xn4J4pNCBAJKufjz76aLr//vt5mwHdFezatYs+97nPZQcenWX9+YbTZgINKDtIIJcgAAIgAAIg0DoB02/6DmMMfCvoQAAEQAAEQCDbCHhzStbwf08ug+4y22pCxuQXWwSEiko++y4vL6e6ujp69NFH6Pzzv0Lz5883rnKoilcjnnjiifT1r3+drrzySurevbsSrOXmtl9W3a9fP+ztGiqHTL6dNWsW/eAHP6Df/va3KhtvvvkmLVu2jA499NBMzlbraZcOkDu7Zn61KH2ebBIgcma8WGwdHVyAAAiAAAhkHwGZKErX6avgnW8OHQiAAAiAAAhkIwHeus+ZU+rvJN3OE5LWbKwV6ZxnCFhDpSMC1Ftu+S39859PU3FxMRUWuIda+QPf//3f/yX5K+1ZSsOGD1NCVnUwkpYseSsYtXBJBE16X0+7slGiFfeNjY1077338mrZo0IpwW2mEpAtB4499lhVJ2pr4h0/TAAAQABJREFUa1U2/vjHP9Idd9yRqVlKPt2qiZj9V9kXhKvJo4NLEAABEACB7CKgukwzbsyunCO3IAACIAACIJAMAekpRY4ibvkn5s2kskgmILgBgU4hAAFrCLMIPNeuXadWHIasArd2ZV5FZQUtX748YNfWm8rKyrZ6gfs0JzBo0CAaPHgwrV+/XqX0YOtImmc3lDyeLcZ0fiEnuAUBEAABEACBbCTgzAXtWBIy1mysCMgzCIAACIBAcgScjtPRJucXrkCgcwm0/7v2zk1np8aWl8eHW7GSAW9YWTP5DForew27dKyNk0Qu3VWtCUKBcYYREEG9bDdh1bp166w2C67c8/F/Vd/lJ1HFzwISyCIIgAAIgAAIBAg4faIdS5qjIQPOcAMCIAACIAACIKAJOF0nkIBAWhOAgLWF4tEvSLg5qxZt9pU0rVt2A1HmvFJP23BA1qkJUzkVZzog8aGUCUIHa8xwiRaBbdu20Xb+s6p7t+5WG91rqP6rjDr1P7oZR85AAARAAARAoO0E3LFk233DBwiAAAiAAAhkBwEtR7GTTU/6YuQ02cEAucwMAhCwtlpO3JxFSMRSUrXCQLduLSwVvbL2DY1OhWr1WgTri1V981Yjh4MMJCD7+M6ZM4dq+aA0q46cdqTVRvfKFdvWbcmk1WNlTnSLHDkDARAAARBoPwHVT8qP7TDbHxR8ggAIgAAIgEAECVgZimSNO0v+78lljFEEM40sZTABCFiTLDxvY2V27zbzgHf7UsW48N+tiHDWHz17/j1NIBTcZDCB/fv304OzH6S77747kIsjjjgicB/JmxbqfyTzi0yBAAiAAAiAQDsJYAjYTnDwBgIgAAIgkEUEfBmKzbQrl7FmuIJAuhDAIVetlYQIjXi/VVdAqlfkyesT9mzavNXqW/nVfkTIqte+2jCckIzf1pIA+/Ql0MxPeDmkTP5WrFhBjz/+ON17771+gk3FOPbYY32zqOq4PusqLb+mvqv829YR1YwjXyAAAiAAAiDQNgLxxpJtCwGuQQAEQAAEQCCLCPCUMiyXyaLcI6sZQgAC1jgF5R5OJBIjRyRqXGsxkpEmKTNlYoy1I31j/dprnOgChyHFs4dZxxJYtWoV/eEPf6CCgkKOyC9EOXxMBKgBJUf+sspl43o+yKqiopz27t2r/hYsWECyPUBAsbtTTjmFjjnmmIBxZG+MLFV9uiHoFD71E9ksI2MgAAIgAAIg0HYCpm9EF9l2dPABAiAAAiCQdQTkXBtfpoIFPFlXATIkwxCwhgoqPz+fysrKqKioSP1ZIZu6ilsWuNnmrERtRggX1vOiV3bHP+xejZ3FQUAjwrsmktPmBw0aFEoFbjuTwLp16+j2229PWZSqLnBoUtx9+/ale+65h4W3BSkLP60D4kyrqq7quqTUq/hpnWwkDgRAAARAAAQ6k4DtHe21M+NGXCAAAiAAAiCQaQREvqLlKZJyb7KZadlAeiNOAALWUAF3796dfve739F///d/axtZsSirGNXKRb46bTnQxtl1zL3xq7yELZ14RaAL1XUERHgeq2ILzG734LmNdaKsbBUpLCyi+++/n8aMHu15ibTG8LD513mVuwSgIg0DmQMBEAABEACBxASanTEiesnEnGADAiAAAiCQxQTcDtKZZLrGWUwHWU9DAhCwhgpFhG09evRQfyEr3EacgPugtjvm6ixrm2b9XYKRF7KZ2T5AbEUAn5srZkTdWEj/1a9+lX72s5+pFawRx+Zlz+6Jo3l4eFi86n/M4TmGBgRAAARAAASymYAZQwiC4KqcbIaCvIMACIAACICAQ8B0kDK/tPJV837ScQQtCKQPAQhY06cskJIuIiCrlocPH85bQhSbFOjHt314q6tahcnWzoRIHOewULVPWR8aOXIkjeaVqvJ32mmnqasJLGsuSowqMmbB58wWHW3WsEBGQQAEQAAEQKAlAuplpH0FaWeNLXmAHQiAAAiAAAhkHQHdQcp80q51asbkMutqQSZlGALWTCotpLVDCJx00km0cePGDgk76wL1Jom8V7EnbM06CsgwCIAACIAACLRIQHWXZrYowlav+2zRFyxBAARAAARAIHsIqP7RdJJ+P+nrsocEcpopBCBgPYiSamhooB07dvBJ8pXqNHk5IKtnz55UWlqqPg2XeygQyC4C/k61ocW+2YUBuQUBEAABEACBVgjYrXUwVWwFFKxBAARAAASykoDqH20nibeRWVkHMi3TkAC2scQqKiro3888Qy+98jItW7aMqg9UU21dLdXW1vKKvVz+zLyQioqLqEf3HjRx0iQ6mVdHnnvuuVRSUtLGmOAcBDKRAG8UYDs/vtpPOTIxJ0gzCIAACIAACHQkAbW3u0RgO07pP6FAAARAAARAAAR8AnZO6faVVuhqt/HzXUMHAl1KAALWJPE3NTXRXXfdRbfddhtt27adamqqScxaUvPfmk8Pz36Irvn+NXTZty+j66+/ngoKClryAjsQyFgCdu2qFqpqKStvFGB3mMvYfCHhIAACIAACIJB6AtxPep96eDPF1EeDEEEABEAABEAgkwlwF6l7SZlZStep55k6S+g/M7loo5j23ChmKtV52rJlC82YMYMuv/xyWrduHVVVH0gsXOWNJ6XJi2pqbKIDVQdo546d9POf/5wGDBhAL7/8srbELwhEjIA+5MrWftsTKtOI5RTZAQEQAAEQAIGDJCBvI8MqjlHYCe5BAARAAARAIFsIyJkeSsnV6kXc6lkYe1xAIE0IYAVrKwWxYMEC+tSnPkV79uzxXPqfPZvVeSJUlVUI3Oib+RoeH8uzQMz27dtHn/nMZ+jWW2+lb37rm5TLWwpApT+BxsZGqq+vJ7lK+eaYB7q38MSUuDJX9cB7+qvMiZ9u3bpRXl5e+mf2IFIoWGLqP5v57eUgAodXEAABEAABEIgCATNI9PtGfOkRhWJFHkAABEAABFJPQE2tOVi7atWTs/gT8dRHihBB4CAIQMDaArxFixbRrFmzqKqqKuDKa9gsWFN6buD66jqzYlURrvr6mpoa+t73vkdyANYll1zieoA+jQgsXbqUtm7dqoTisoJZ/srLK/jh3qT22tUic5tgKX0pY1ZGa4WtciuHof3o2h/RhIkTlJOo/gT7OVPnGYAwgAIBEAABEAABEGACznBB84h9MQ9OIAACIAACIAACmoCeS2JGifqQGQQgYE1QTiJQu/jii2OEq9a5Fh8ZIZI15Ku/DsF9CPh6WeUnArfrf3w9TeJDsGbOnOmtiHSCgbaLCIhgdfbs2fTEk0/Q6lWrE28F0cb0XXjhhZEXsFokulX4dd6a4woCIAACIAACIOAT8MaS/nJW3xI6EAABEAABEAABQ4B7TNVpYo6JKpHeBCBgTVA+t9xyCy1etNix1cNg3bDtqjx3bap2GliHYLw4gfAKSL5j8x07d9A111xDb731lmsNfRcSuP/+++n6G26gzZs2xaZCylJUi8/0OAWufVFubvZsB+EhYhw5vAl5oE0YHriAAAiAAAiAQFYS8DpJO6TgsSSbOcZZiQWZBgEQAAEQAIHEBNyO0plz2zl6Yo+wAYFOJZA9Up82YJVVjC+++GJIMMSN2rRltx3HHRCzA+VGTrhzHds0GE+yv+vTTz9tTXHtQgLz58+ni7/+dSNcjVNuUmZxC9tNdGIHsn9r1iiLj3EoIvHaQNbAQEZBAARAAARAwCFg+kS3a0w8enD8QQsCIAACIAACWUrAHIFics+9pu1E0YFmaY1I32xjBWucsnnuuedo+fLlxoZbrzRgXnpqP/8XuSnpnzj7cfre1HJV2+j5qaAOwvK9KofX/uha+uxnP2s84dIVBORgpjPPOIMalBBUFa4nTM3hlafyFqJHSQmNGDmShg8bpvbP1XUiNrX6oCcThnEkW0IcdthhsY6jasJ13l/brW6imlPkq40E5HFYU99ItU28lzHr5b5XUYHStzEoOAcBj4DUI6ukXnWGsnF2VnydkSfE0bkE3LGkGWh2bgIQGwiAAAiAAAikOwE1YeAvIu1nwOrel8uke/KRvuwjAAFrqMz3799PS5Ys8UzVB85mJqUbNlvxfZ+y3nTY1Kl09lln0fDhw2nkiBGUy6fEb968mTZu3EhyQJYIanfv3q1OoBc/dkJmNSKwXbF8hfIzjAV3UF1D4Llnn6WKykoVuf2gvbhbMU2cMJGuuOIKkv1T87hsoVohoDo868aKWNkQ3z5aKKm9Bl/ltj9sNWBpv/e2+NxdU0uHPfIsba+q8bw9dsYJ9Pmxw4mavCekZwcNCLRIgNtAVX0DPfzhRnpr+y4axM/t88aOoMP69GrR28FYNnJ7mbd1Jz25fjM1cJ09a9RQmjV0IOXnygMQCgTaQIAfeXbMYUeIqEVt4AenIAACIAAC0Segpgd6jhBXLhN9AshhhhGAgDVUYNu2bQsIWKU5B+RGfC8rTq+++mo65ZRTQr6Jpk+f7pmJsPXuu++mO++6kyorrADPDqPlqh8W/3rmX3Tpty71/EHTuQTkUCut9FQnhyfKP73xp/SjH/2ocxOS6bHp6sy50EJVdSvCO8880zOYXulfvHMvVdTXq+dTe1LWxGUzqHsxje3Vk/JSJaxtJSHyLC3KNS8rzIO1iVezQoFAuwhwvf3OvPfovpXrPO8PrNlAT5x5Ah3er4yfPSl++HB8/16/lT7/wutU16jr7V1L19BdJ02nyw6fKCdYeumABgQSEnCqpdbKw1CUHRXqO/yCAAiAAAiAAAj4BKTPNNMH39B2ob4JdCDQpQQgYA3hlxWnH374oTHlFsur79w52ic+8Ql64IEHqLS0NOQz9lZWpd58883Up08f+sEPf6AETc642ntAvPzSyxCwxuLrNJM33nzTxKVL59uXfpu+//3vd1r8UYvIfbsYtbylRX74sVTf2ExXvL6Q3t25W21TYldB6TGGeVHAiVU1Wj/GYuTctSwgOn/cSLr9+GnUmz/T7zSlE+ktbM7pJOFup+UPEXUOAX4Rtr68kl7avC0Q30cV++nNbbvo8P4iYA1YHfRNNa+WfZHjU8JVp13dzULWy45gASsUCCRDwDwDlVPRu4PMZPzDDQiAAAiAAAhkEQHVVdoFPOGxXfg+i7ggq+lJAALWULnU1NRQpf1c3BOu6mY9cOBAuv76HyclXHWDFWHdK6+8Qs/yp+hK6eDsNq60du1a1zn0nUxg3759XozdirvR5z73Ob3PqmcKTdIEuG4388ZyuorzNgHqPmnfcJgUgRxq5FWflQ31VNUgh6e1/wC1yroGkk+eu0bZWtI1sSPWzCdQz5/oq5M6VVXS9UlyJauzk1LygMrjEOQqbakVf00ssW1oNiuuOQoVi3jF9hZJ4YajWAKxO+hIPYYCARAAARAAARCwBGS8lROSy1g7XEEg3QiouUm6Jaor01NbW2ui51Vg6gQCvpURMKvx48fT6NFjlL6tP5/61Kd8Lzo4Gyzt2rXLt4Ou0wn06cMrnYwaMXIE9e/f397i2lYCqm7LZ466krcir2hr6HBvCOTkGsGSvffIyOTcTNATzdNdc/Ns87x3hsY8/2wdMVWlM2JGHFEiwELNcWWldEivEiPp1BWrX3Ex78Hau+WcikA1P58O8AuGP76/ir7zygLavL+qZT9s24P9HN2/b9AdR3vWqCFBM9yBQJIEVK11n8l4ICZJDs5AAARAAASygoCM2XhuE5bLZEXekcmMJIAVrKFiq6ioUCb2k1slrDBSokGDBlFZmS+MC3lt8XbGjBkhe/8zXjlYC6rrCIwZM5ZXEes9/GQ/SOwJ2d6y4A7QWY4j3aEWefi69oYMf0ECzU16sKFN9bNEDtkRAZDIV/UgRFYQy4CEjZSZ1shhfblsUNvYSH2Ki6igsw/nkaQ7So2bnHtoQSBpAlyXn/yPE+mKNxfSyr0VVJSfSz86chKdPHRA4kPTuMJtrKiib7y2gF7YtF0aC/Xnw7G+e9g4lqB2azXqr4wfSft5q4BH1m6iyvo6+s/Rw+kn0w/jfTuw/2qr8OAgPgFPyirP6PhOYAoCIAACIAACWUmAx2nSNaquUk9yshIDMp05BCBgDZVVvggoWOlGHNQ1skBC/tqjfKGdfUTIQFqEH81U0qNHe4KEnxQRkIPJXnjhBRXaho0baPt2nnRDtZmAEvOphsN1nAWtXLWN8jTWANeUEtB8zxs9gh48e1bbDtqRA6bUNgMpTVCLgeV4XwawM066X09a9AZLEIglwJWnd3EB/e0/Zuq3COJC+uiWPtnnfndleTm9sNHfu1XqYLJPqYLcXPruERPou9Mm6fRIGzIHXsUmECYg0DIBecEk9U+/JmO3yVbEloOFLQiAAAiAAAhEhoDfNfo66TnRaUamiCOVEWwRECrOnj17eibSbF21ZcsW2rt3r2uUtP6dd94xbvVbGHVjJAvVtTVJhwOHqSfwrW99ywu0rraO3uRDr3yBuGcFTSsE/C6PdfxftR/5CTekVsKBdfsI1MnzpK6+bX+dLFyVnDXbbQlMhclBL9S+Aocvn4DUY1lBKn8tCVeNj7xQpRMhV5seUyJQtfFBuOqXA3RtJmA/eXRGhm0OAx5AAARAAARAIOoEYsdpZiIR9YwjfxlHAFPbUJEVFhaqz2rFWDdbf+a1dNkyWrJkSchHcrdPPfVPz2H4cdCvbz/PDprOJzBixAi6+JKLvYhvueUWeuaZZ7x7aNpHQNVz+QlX+PYFB1+tEIgdeLTiIV2sUT/SpSSyJh3e/r9Zk2NkNK0IOM88WbmqpfuOYVolFokBARAAARAAga4noHtJXy7jpShjJ0BeDqCJGAEIWEMF2oM/1w8ecsTN2Yx7D/Beqdf9+Drats3/tDDkPe7t7373O3rttVeNnfMUMNohg3FARlxwnWj485/9nI455hgVY3V1NV122WX02GOPdWIKohGVrtL216nr0cgeciFFKnu2ypK/VKmDkStIWlKdHsma5I8/BU9pPlPFy4Zj05jq/Nvw7VUt73R4CJ+OUBJuR5RnvLTaOtdReYkXZ1eYdVYd6Yq8RSBOqX6qKtr6GIE8IQsgAAIgAAIg0HEEuMMM95nh+46LHCGDQFIEIGANYRLh6qRJZm81seMRcI7z8eDyZcvps2edxQLT10I+Y29lf9U77riDfvWrX1Gj9ymu8xQw2uNPOD7WM0w6lcDQoUNp9uzZNHOmLovNmzfTJZdcQmeeeSYt45XLUEkQ4Laiq7T8mh3loi7ASAJLZzlxniypi1IENPl5RAW8N3VhATXzl9Gr91TQhsoDLAxjczZT9uIuaWVTavy0xasI4CQtBRwvx7muvJJWcXr28dYelGfM8zhdbUoPJ1zciz8Ou5E/Md/I+Vu2ay9tr6oWSx1nXid0lxKH8LZ/kl9XSTpV/vOpsraelu/eR+v2VVJtA38aL/uHi7+QF9d70noRLkt4HFcN911S3suZx5bKKmpo4PKz5R5OX9IRGIcSjylP2cp0DZflGj6saj8fHmXzScKkpfJUaXWYxSsn8W+Z8rVYylqUqYqCrEjMHDdKr+qScun/2LriunXTF5MeKZN2FEoozap+JhOOLTtO+96aOlrBdWQt15H9sn1Ifnvaq5916FJEwFQHb1uAdlSPFKUEwYAACIAACIBA5hDg/tKTy6DvzJxyy7KU8gwKyiUwcOBAOvTQQ+nVV19lY265LCRVewbyREwatHxa+C7vp3ryySfTiSeeSN///vdp3LhxdMghh1BxcTHt2rWL1q1bR2+//TbdeuutSm/Dl+eAOt9FheXN7eiTn/ykdYJrFxBYunQp/eY3v6GioiLq2bOEunXrRrKKtaKigp5//nl6gf+K+JTpiRMm0uTJk5W7cDL1ae08XeIJsAjWlZIr38t+rtdddx1NmDAh7C1a95JtVcnlYj7CVSiMYbRymza56TC6LKhZsnMP3bl0DS3dW86Cr0raXVvrHUolsp6xvUroqH596TtTxtHxg/ur52VrYOzAyNYR21xa8yerG1/YsJX+3/uraOmectp6oJrrmeRelK5v43r1pK9MGElfGjuSJrA+KcUZ2VhxgP6yYh39bdU62nygSnvjuisCEMnnjAF96HwO8zuHjSc+qL5jFPO+i/P2PgvEcjnSWt7bU+KcNWwA5fF9E4NasH033bRwOb206WOqk70/TeFLMxtW0oPO4xPtrzlyIg3pXty+NHI8FSy4fXr9Fnp87UZ6dvM2qrMvBw1qKa+B3NedPWYYp28EnTx0YFLlHpMgjuuR1evpziVraFV5Be2qZqGqUuqhwQuIc2hKn1504YRD6ItjRtDQHt1ighCh4xMfbqAXOZ3Cp5G9Ht63jC6eeAh1EwGoUSKE//Xi5SxEzWV5bQ4LHSutlbruqK6hH761mPp1K5RCZyXPbaLeRQV01eETaLDlyWkWYeWfV6ylfXV1UjtUeDccNZnddFernh/jPM3ZuoPT06TaSklhPl00/hCa2q8seU5cF97Yup0eWbOJ6pobVZJ6sMD7Qg7nyAEcTqJ9Zjl9T3C53btyPT2v6kijlu1ynqT4evIWSOeOHkrfnjyOjh7UN/n0KEr4ST0BVdlUnTNNOfVRIEQQAAEQAAEQyGQCXgfJGh7reXIZFqqY2WYm5w5pjyABCFhDhSp7sE6bNo0X7+TzSp0GNSmRCaUoc9E3/Dtv3jz15xm0oPGeDaGwSnhLguOOO64Fn7DqaAKbNm2iBx54IG40ttxqeAK+ePFi9RfXYSuG//Vf/xV9AaswsPXbglNcwi2nFViwbhMBSzdVcr9aPoX9zW276FcLVyjBVTAxumDlt4kHNqv37Vd/D7OQ67qjDqWrp06gvsUspGpB2cGQfdmkHrItuG/kB/Dzm7bRdSwA+2B3ecClzrslwCsgeUXrz95eSk+t20yPn3ECjRYhq32AB3zyDQuj9tbU0p+Wr6Ub315C9SJRE2P+0yvLJFxOLV/eZsGm/N20cBn96eQZdO4hw8RpahUL/u5d+RG9x0JtqwZ1K2IBZn/aUVVDX5/zNj3HQjNPuW2M9Zv3H6D/+WAl/62i3x53OF0xdTwVygrMRPn3AmIN+y9nwepj6zbSjQuW0sdq5a5x4MYjSPh+e00N/XnZh+rvE8MH0W+PPZyOYAGiOG1N1THnh9dspJ+8/QFt3G+E2daTjYuvspJ48a59/LeI5m7ZQX+bdQyVFYXqFgtMn2Gh+19ZOG7VSSzo//zoYdRNVsZy3iXJK/gFwX3MNkbZ+Nji72s3xVgXcvjnjx/pCFiJ1lXup7uWrKYDVvDMvkQQPpgF3PISYOneffQHfinhqt4FRVrA6hq2pOd4f//BGnqUhaVW9S0uojOYNVEf/pNc+Uru3tmxmy597T1aZOuPKQxb/NLeylkoLBzk7+KJo+mXx0z18+YHB10XEPBK1JRbFyQBUYIACIAACIBA2hHI8QSpZnRuOkxvHpF2KUaCsp1AqubkkeIon4VPm3akypNqvCZ38p5ElB3/2qux9i6uuV1h5Q2eHf/i4fobbvD8QdM1BHLlk0pWfrnZUgtOY337UDpDFu6t1ds4Qj4jeavy7FV4SyCSWU2rTHnIDzJVj7KgadY/58QRrkrAOhb315re/N4y+q9X3qIGK9FJkA6vdZkEt1ZDHuAVgec8N88XrgY8BHNtrbrxCzJZTZ5QcZtfX7GfvvLSfBbcvu8JV21ebD7D/ndW19IXnn9DreoVwW+qVWFeMM09WEj4Fgt2j/nHi0Hhqp9QnQSPpfhvph/OX0zffvVdqqrnz8Jb4iC+mcVaFpR/c+7b9I057yjhaiAVNpvhq3livsTC71lPzaHHP9ys09LCbwMLV3+zaAVdxPVEhKuBeMRfKA5r340FxV69CYWfl5OrVvxa43zOj/VnzRIi4PjCbq0fuUrYYXsxKZDtMYwq4PhkhbFKO7+c+PqEMdSHBcGuv3kf76BtvOI6KcVC2g9ZsLxkz76A8+n9y+jUIbJaWL8IsJZSD0XAfMpTr/jCVbG0LK1D716n7K8r19GXX3qDtki6EgKynnFNJYEcUxa2jtirisMrp1TGiLBAAARAAARAIDMJ2IUZkvqAXKYDxuGZSQipTjcCWMEap0RkP86zzjqb3ntvITXyhEmUOwBuVpMp3dz1vEpseVQcZ2DsPhR0KL5Jnz596Jvf+qYKHz9dR0BWKovyi88vIzdVvr1rGvCoLFx3Vm/rUchnJG8lz6aJsM4SiGRWI5cpKS3ZczOs+vHquUP5c+0h/Jl2IQuUdvPKT1ktuoo/l7ZKnoL/5tWEj/Gquy9PGM1LEGPDEbe2Rpinpm9gA7JXdvD0+q30nXnvUb18Dm8VByBbAUzp25t6FuRRZV0Dr6isVVsGfMRCU1E2DuslcOX0b2Xh3pdfepPe2rbbe7ZbP5LPUT17cNj5LGysYcHuPtore7yykjSLQOtGXiU7uawXzZIVhWblq3JwkD/NZuRo2Ujcf16+jjY5Kz0Hde9GY3hrhqF8reJn10e8P6qUhdoywIn/f1mANrykO/2MV7NSnDJVTpnFJmb2xRffDKyctSz6cLmP6NmdhnFcIkjcwZwlLbJHrVAWoac8LeVz+fOZZ17uTPocr/iMF18Dr0i9hwWBv3zX39PaxnNYn940qayURJC6l8PayV8MbNpfzcI/vcJVP5GtayeTrBVWWllqfOcbKqsis12AEryziXBT27lI6k2wslpVCUp1YOor/FLeazY/LHyUsEPhGy/q0/2RXC+P5c/v/73BX2382sc7VTkN6sFbN8TPhhcEsVD3Fd4eQMpVKY6rmAW6nxwxhApldXi97q/EToL6P34Bcfnr71G1KWP77O3FQt6pps1WsZ+NzPJ9FtzqchPfRK9u2Unf4VWvT372FC4zP1xliZ8OI2AniLYqyNWWW4dFioBBAARAAARAIIMJyNDLjtkSDcMyOHtIeoQIQMCaoDCvuuoqevGlF+nVua8qF/4nozwQVq1bTyx1Qze2aiJmJ2zqMaD8+gNnO5zWkd56263Up0w+94PqSgJjx46lc845h2R7iOQVl68UfhJPeBHgBg5OSz6SjHKphC2yNEf+qxmkru9+S8io7GRcYlVVlIeNeg61lnxdTmFXEobs/2mVCBu/feg4OopXz8kemPKJdj6vsBOh5jb+jPwu/kz8T/wnyj4jr3ljMX125FAqkYOQ7EjIBqiuOnzrPmEb4iRezsLVA45ASbzfMvMI/lR6MA3j9IhArpoFueV8gM8+/sT9zW076W5OzwFuc95eyIG4OUksrBWBlAhXRelaSjSgexH9csZUOoE/Me/PgsViFsqVs2B1PQu6fs6rc2WlpnW7l/ei/b9VH6m9WUUQmypl0Vs2T360JbC69tojJ9F5vO+prJCUv1oW7u7iVbXyKf31/Mm9CJglDItdPjH/4rgRNIkFmDGCYHZYxytcv/HqOwHhqs3L96aMpy+OHc77khZTX342yt6lFVzuezjv85ndVW8uVEJdG18Dr6y8dN67SvA9roy3ZgjtEyrlI2m0WzHYeP5y8tF04pD+NIj3ORXhvZRdBZfnLj6gac6W7XTbB6uphsvYsrf+Yq/xXUhtO2ZAX3rxs6cqAWoB5+MN3gLjR7xy2aqeXFd/f/w0GlXag+ORcDRE2WJBhO0BFY5GV2ffSWMDXclbZYiA1QqgZduN13ibA1mFKoLqllQ117nXP97lv+jg+Mq4Pl44YVSM4FoE8Fe/sUgJV/UKXz3++MyooXQd15VhLGAv47xJPdnNPOfy3rCSbzkUzib7qfWb6eUNW+g0FuAmeinSUnph134CugzcsWT7w4JPEAABEAABEIgyAZlammkmj9SkBw0PyKKce+QtkwikbmaYSblOIq3d+cCKh2Y/RJMnTqR9fNiR24hVczYtXDVv/lETWjurVeFz0zfmAWMTtwhwv/CF85JICZx0NAE5pOy+++7j8pLSTL0SQU+vXr1SH3CahagEE15f59T/NEtndJITrK/qk3VexVbvCKOkOORRpZ5FTsZFGCOCVBGaedI4Yy97ZIr6zXFH8KE6I2kgH/omBw4pZR5mxd3yqD8LxG46eqo6nfzBNRvYWhe+7N85nwVYp48SgY1XIbR//tUvqOQ21s53lEOLduxVwk0xk9jF9c28Z+QVLPgrYMGXTbcIQkUAJWpq3158iM9wPiCqkQWwfOhQ+OHLwtA/LV5Fz/JKW1fJwUj3nDqDBcl99HPA+BPB2zAWsD3Nh1xd+PJbfPCTv0/n31Z/RN84dAzNHNjPDerg9B4SrbHCSBHiPnT68WoPznxeaamUSWN/FoDK6s8jWXh3Eafxbd6L06oVeyvo0Q830k9nlFoj/8ph/s97y2nO5u2+Get68cFOt7Gw8Tw+WKq7FR6buITzSOrBB0n1VsLlr81ZQMv4wDGrdvKK3x/MX0RPnn0aEQvxXPXuzt20h4V8rrrv1GPookm82lmUiUMOpxKh7mh+ZE7jfV2/PG4kryLNpV5cFvGURWbriFdZHMfyYkD2ilWKBZz1IeFvMden4wb1owl9mJMN0Po36bK3KnzryEbq+mEB/uksrJQXEurze+PxkbUb6NuHjaWCwhYErNwmV/NqZBEAWyVRfHLEYOrDwlJ39ao06m/PfddbXS0NXZJ6C7fbSw8dq19wSCBsyOJuxXR8757qYLqvvrzAP8yN7X44/316TwSsUJ1KQFUbdyzZqbEjMhAAARAAARBIfwJqqGXGW/5wy9elfw6QwmwjAAFrCyU+ePBgWvDOO3TSSSfR9u3beV6lVxooL6Zde29TnNZvngGBkF2zL533RfrJT35C3fgkZqiuJyD7o2aDALTDSSspHt4pdjhnLwJ3cJFD/1i3ifL/8JBn25JG1gOePnQQ/fNTJ6qVmlZeJH5O5hWcc8+eRScPGeAHERYyiQ2b9eVDmL42cQw9woJH2V9TKz6lnbcOOF3qQxzlplqs4wUtwqMPK+z2A/5zV4SnagVg2JO5F6Gxd+J7OG6228efnT/x0Sb+RJxPV5e4+a+MP7u+nk+Bn84CNj5ZKZggE24x7+n6Zz7c6u9rN7MfnQOxuoMPIpo2q4xEQJcK5bJx+5sHPjGTPn3IUL0KNUHeJ/Jq4/93/BH0mWdeUytAbViPsIBVhKWT2N6DzSx2lO9nFpvJCtRFjF3MwtvfHnsEfXXymFgWkkGH84yBfeheFpCe+cxcLTg1QOfx5/DLWUA4mYWw3qpZjk8ORAurL7Lw1IYZsDPxyGrpESJYbFX5dcStywFvlhtf7XpYWwfET5PYhwSvAf+BG1O3BTJr5RJWIuT8CR+eZtUiXmW8obKKV/i28LKN07CYV6WuYyErIzNocuh7U8fq8rCBseWrLBifv2MXR++vgDyLD1+75oiJkiTr2fpQ92J+2tCBdAGvhv31wuXajg1X7WNBPG81cN74URxP/K09/ICgSykBU3nsRx+q7FIaAQIDARAAARAAgcwloLrJOAMtO/7J3Jwh5VEl0MJSiqhmuW35Gj9+PL3//vt09NFHU26+j0satVLc4O3AmHVqsmNjsPM5uZfnggjxLrvsMnrokYeprKzMOsMVBKJBgCu81y44R279j0YG0zcXObJ6jR9JIiSSlawiQFJXe2+uIj9SK135KodR6QWmwSm9CMZOZiFMcqqZ9wPtQUfzJ9ie4rSsZoGNkhB5hr5GBEeuCt16VvYTf8mbVfJpc7sVR/wGbyHgr/DUq3g/w9sZfGHiIUEBVjgSZlXGqyqvmzY5YLNw1x512n3A8CBu3Lw2m3yfPmwgnTVmmC+sTBQ+C7hP4LycxJ/b6zW/2qGsYt1s9jL1vLLg8oXN22j5Pn/1qfRSR/NK3S/xFgRJCRq5WERY+OWxI3Wwpphk+4iH12zkE6L8/lI5cAva6NXetuEK4SUyeY3iZsJUFzeueMGYtKq+O559S2bGrzix0cRkgcvim5NZKBpSsi9uonYhTmWri3+u26x8cZVT6oh+vemIQfyyw3uBwcYs0P/5wqXanakn8qLgrhOmeWnSvuP88gvFL/CLivG9zKpmjkf2731/917ZHySOBxh1JAGvzzyYOtmRCUTYIAACIAACINClBLye0h94cXrsOLlLk4bIQSAOgdAMKI4LGNHAgQNp3rx59Jtf/4amTTuKSktLeSrqzLIC2oCNoif+zzzzTJo9ezbdddddIAoCESVgVlLZOTpfrTaiGU6TbDF3eQbxn/co8jTBJLpPpybeM9MKMQOuJDAr3XEtRIokf7KHpPzJqk3+dFtOWi+xn5Kze5H3rC3nA3pipE46sHDQcYVc7OgI/jxclOv+t4tX0A4+AClGeKeDbvmXAxJho+wFqlWzWnl6JW85oCKx+Ut0ZbqfGRn8jPqjigN65WPLMbfB1rQYuZgyvP34o1oW/rqh8361Nx1zOHs1nk1wO6tqgyB5oe7y3eW8vQMfbGTcSBlezCtXS/nT9gB0N/yQvpg/2//c6GG8apj9GCXbGizcucfe6iuzl20FlOL4rMz8p+8soSreB7Zd5WlikGG3qiMmy+pi9MZJqxdx3iYvxnHcumti68cCz7OZjSiDmGQrjUZXUGrc2st23mLhmY36cCzr5/pph8bsvdrMzF7dulN5sywv5pXkA3nbDtXuEtVh1Sab+YC2Ut7CwHxBwxHJ6vMNcqiWsrepwbXjCXDdlQJUhW1LvONjRQwgAAIgAAIgkDkEeFTLXaTqJe3AS268gRv6z8wpy+xIKbYISLKc5QCka665hs4//3yaM2cOLVq0iFasWEEff/wxHThwgCr5c9a6+jrqxvsV9izpSaW8OmTUqFF06KGH0owZM+iMM85IMiY4A4FMJaB7Opkvqo0CWOqBDQM6uCzVAENz78ECskG8ylKUmOixh/nVF89cVrEOL+kR/3N7FYL5kVWIIkxl9+Us/BEB0A4+VGlHdbW6bme9CGZW7vVXQsrYp5xPgk8orJG0OCp0q204vnG9epLsx+mdjs42T/DqPkn7JRNH0xm8L2Uh762pTqxns9ZUBa9+/cDZL1R8yKnxI/lgo5386bYnlAwEZFOnifYsDHaZIkzcx0JK2as1FcrLhsnO6NISGlriCy9bjYPTM4VXE8s2Cmr/VhPOR/sPqHt7wNIeFlKvkFXGotRgtZlKmeV/jT+EebLQNVnFS6Kn86rX8b1LSPbetWor62U7ht5y6r3J1HguT6U4TSZK+svytap8vz7pEDp1CK+a5q0Y1CfqHggbYktXk0nXiS0218zRe3LEOF4dZ/G1ErYN3+YljkvZ0/sbLPR8iuusiob97GTusuftJ0RQHxK0ipvnNm5T+wdLcHI/gNvz2XZrCDEUxW1yLrtrMtsZWJZjua7Iy4Nmsqu8JZEqZuXN/8mhIg7D38tXvxj7mNt2OE2+H+g6hgCXj1dERuPdd0yMCBUEQAAEQAAEMo6A7S55kqnmmdJXesMcdJwZV54RT3BwthjxzKYie7IvqwhZ5W/Xrl20Z88eqqmpoaqqKp4XNqqT6EXIKodkycrVHj1CJxCnIhEIAwTSkIDq5/hHy0ZMZ6elrWmY2ogkiTHb8cVxfNjS7/kTYTlxvTUlpSOHBomgJa6S1an8ufAbLMh5btPHShgnwqFyFuDIZ8z7WIDqrwQNhaCK3pR/yEpuJb3JqByO/3+Om0bfnveO4zyH/vnRFprHq/dm8p6pn2ZB1VfGjeJVlyxY5n1VrTDP8eBpD7D9lv1V6t4yq2Zh4n8+93rgZHtJuZ9G61LLQeyKX22qf1eXV9DwnrLq04sqZZqJfCiR7CvbJsXOR7HQeA3vg2uVCMHlYKcCKW62r+AVkNtlJbBSOuED5KAwPuAqfDiVcRT/wo29lP315BeQrpJDxnZxv9i7mwhYtU1f1l975GT6zSLe+9OYSc4e4L0/X2Kh4wmD+7EwcRh9mfeLzROBtdTjNgladTxtpKU8tQmxU84Sl/w5RjoRxlwO6ZJP8aWOWEe3L1lNnxgznL/L52XEjhKB7B9WrHFMiL47ZZwWhLoc2J2sxPaUifz3S1bR/zFLiaiJUyViU1fJnU1rAYexzHspot1VcruWlyi95KWFG58bCPQpJWDLQ0pGi7lTGjwCAwEQAAEQAIFIEND9Jf/y+MQb3XiaSGQRmYgQAQhYD6Iw+/XrR/IHBQIgYOQHXmdnpo7q3p9GglNqCOTkeqC9gYaclD5J9kJtywrEeIIUXv344oat9Mt3l6mVqftY8GJPsw+kPk6xekYtSKz8KI3rRG7Z4QUTRqqDfO5f9ZHJp8637N35DKdxzpbtdMvileoQp2uPmERlJUbQGkiovqlraqRy+RydlV1ZLfvQvrp1h3bQhl+dCv2rPq32RFdtCCQJp7LKWFbZtklxnuS0eCVgNYg38FYGugzlMK4cJYTfb1hI2OJMrTD1C0eMk1MsjO/Ph525COTgrP31LCB1DAu5Xn2PBYbv7txNL7NAVZStxdt4xevjfFDa8/x5vNS7r/GeuFdNmUBFxSxoFcF5C0qHYTJqw7QBJ/AXL5vJU2aXJnwvGk8TjFCEyp8fO5xufm+ZZ/ES19mKA9VUKkJkmxAu44U79tDKPY7glKO5YPwo340XQg7trOUtH1j5ueYtH1yhq+c2CY0JRA5+211TqwWsSXiDk4Mn4FcbZ8J48MEiBBAAARAAARCIDgEZdqkO0+81JXPuGCg6mUVOokAgwfKlKGQNeQABEOhMAtLRidJXtxN09doNfg+OQHOTpe2Ho1asyQikLX++d6WTQ7L+uuxD+uy/X6V5H++gnSxwiStcFddxilULLsUqjmUoLhtAs/nUOcaaDWRf0D+dPINu5pPtC+Ostq1qaKKPKvezkHUFDfjbE/SLtz7QWxrECayeT/SSA5i0SpQ+ZyN9cRjAbG4CZrI9aqKwTFRtuLiHXIm3frw6tM0CVvbXqE8vs4jVYWZ6cKoTU8uHGu3n/VqtknKTw8o8gZ+1SObKAcvWFPm8F69WOWq1bFWjH74NZijv7/rkGSfStw4dyztPaJAuzkpO0xreuuD6BR9Qfy7PP/FqT7VFhQ2ghasbTrDc4ngKOGb7thShrMqXP6s4rEQy8EIWPp/Ch451l60PWEm0cqDUg7LS1K3PLHz+w/IPxYmnvsgrefvLquKw4kD28NYcomx7k4Al7LCyZvYatlf3Jiv2sRHXDQxTSyBYfVIbNkIDARAAARAAgQgR8IZcocGMOwaKUHaRlQgQyKoVrPIJfx1/2prLkxnZU1U+yYMCARBIDQGZM+JDx9SwbEso8hQT9t5Aoy2eQ27/vnYzXTL37ZApkezvWswCoeEl3Wlav740oayEJvXuRRN4781hvMryB/MX091L5fNmLTkIiSkD4YUfu+H7gGO+kXivm3EofXbkIPrpO8toDq84reTneIMSbHJ8/J+P61KHTcmhSS9u3kb3zzqWDulVwnY6PRKmyPPyQ498WVUp+4TKfpbWyuZABawSZ8LwgzJJzKGqhnq9EtGYHOylmYyQ0hRqa2zixsee1rHQWZT4FwSlRfkBeZ6yC8TVTLKFQnuV7JPrC9WbmXOOOkAsXnglvI/tH7l8LuCtHX767hJ6Z/se5tjIQmD9ybxglq0YRBh+6dx3aO7mHXQ7b30xQFbJxlG63PzYlZOYsorjsb1GKoG2tnAgvAmqU81iQj2sTy/ezqKv2gbB5m326g307SMnsVvNvInzrz/v971/aeyIwOFxvg3xVg9ywBybmIhFK1t+5LO5COnd9LT2TJY6Ii9W+nI7iPcSw40X+hQRcKuPCpJLKVRuKYoJwYBA+hGQh06HKX7KduTzv8PSjYBBAAQSEdAjdGnb/OyQx4cMcuxVPKHNJ0IH8y4ikBUCVhGsLl68mN58801avnw5lZaW0lFHHUUnnXQSDRo0KIBeJnY7duygffv2dYoAVuIbMWKEOhwrkBDcgEAGEgiIOaQfFOEDer6Ul6SMK6yy4wp7teZtvcrqwR++tVh5s0IZORTppCED6Jt8uvyZwwdRKQtT1cBGhGEywOH/NfypeU2McC5xamJsYgzipJzDP6xfH/r72afSio930Z95td/LLHhbW7GfhXPBlZKvf7yTLpv3Hj142rHUx9kDVPIS3it0Bm+p8Prnz+AXb7Wqluaw0FF2sBSlxm7qKjqpx8E9M8WNmBfJ6kQjHNRmB/ErTEWZk4tk9XAyeLQn/3c9H2olygYnwrdclSPtpphXVpYUyHYBrExcy/fwnq3MqD1qM3/yrlbyGmgiqOtZwJ/AJ0o9l9kJQwfQy6POoLc3bVPl+cbHu7k8K50V0zrnD3+4gbcgKKTf8CpmOfQsFcq2H1vGElN7OOu0tOCTC2BwzxI6YdAAJWC1aV9dXknLt+2iybxHq0j+Z/NhX7VOGzqyfxlN7dubqxen0Bai9czR9ZWtE0y5ibFw+ceZJ9CJg/uzsFTXVfuSQ56/br22wcgLZhl/iJ28osjlFcjq4KtwfNYDrqkjEFNl2CDGLHXRISQQSBsCvIK/cfXHSSfHPqOT8sDPrtzePShnCD9XoUAABCJEwHaQTl/pjIGc4W2E8oysZDKByAtYRbg6e/Zsuuqqq2j37t2Bsjr11FPpz3/+M40dO9Yzl8Oqbr31Vnr88cfVKlfPwtUk1eMHHcmjQUxcJff1PNF88MEHacaMGa4V9CCQuQS4YivBKg92IVztmGK0Q42Uhc6CtafXb6H1fBiSKFtul08ZT7874UgteOOJEUsiY6KUT8138Z6oStnHXhsSmLRTOXW9po4mseDp1lOOpl2VVfT3dZvowTXr1aFXbsKe27iVHlm7kS7lT9Htc1cJWHklrqs2yEpPFgYWmk+4tV0iIWMC81QJV92EGWnLBj6Uq4HDL7KrTQNu4tyw0KychZ11vHWCLQpxNYJXHkv+tWpWq4J7yh6gSrGQjR3LVgvtEfI08MFnFbb8TWEWsQBXVkS2GJ6UJ/s7mg8rO5qF+Bt5a4BHeR/W2Vyei3bu1UkzmbhjyRo655DhdCoLZW15msSrjjWemWcfR2PrnL2K/5gw4vjzjEKOhV9Cxc/B04cPpL+uXEubzCFr5dyOnuTD2ibzwXQC6Z6V6wLezxg+mA8qC67A9h3IalPea1jgSrx8qeL9bmu4feYrYb/kypa17yu+mbU37iFctUA69hqnvti62LERI3QQ6EIC/DKpaed+2veNP1GzWm1v0uJUftHKKyL9K990sB++Vy+MzPNO+2I38uC1fkXLXz2U/MfhVPyLL/CNtTBx4AICIJDxBFST9wSr8gzgLElTR3PP+LKNWgaCs82o5Y7z8/7779O1116rhKu6HfKvbObB/+fMmUM33XQT3XHHHVRSwpMZVg0s8Fz/0Ue0du1add8ZPwf26885OyMuxAECHU5ANS8ZEEszs71fh8eKCA5mhMGjltd45acoW2KHsIDnh/IZs3yKzwdExVXsbx8LybYYwVFySeDwHCUDpjYpEczxXz/+ZPxbfGjSuXzy/I945e29Kz8KBPPW9t30lXEjvU/4ZT/XUT15Ba6nOO1ycjoLFnvJXpdpMCEz25J6KVy6e1/b9njllYwPLNnA/mWK6nOewkJp7/NvNu7L+R3JQtc3TEyS9XIux7U799CYslLF10tESxpO8Efl+2lbdU3A1eDuxdSH91tt7YAq5cmU54jSHvT9aZPo86OH0XfnvcuHmPEqJz8LNJe3hjiZ9zMN70nbrmIz4dq63uY6GMhtKzecv5m8snRCr55awMqRyh6487btpCaufx/yKuwPuJy1yqGBXK9PZYFzLgv+ufBjA+f2OLVvL23u8FnHB5k18Qvl3A7NTGxyYHJwBGwdPLhQ4BsEMoAAP5vy6xqpvka+Ogl+eZKq1DeWV/mDmFQFinBAAATSgoCM9wKjW2cMlBYJRCJAwBCIt8whMnBEWPrKK6/Qxx/rz1HUSw+ZsUmDlFEtq/vuu4/27Nmjb8xvXmA1k+dU2wYmLxII/5mwzCVgpjz5TqxTHZb5zfFWFgWMcQMCGUUgXP+99uZbZFR+Mi2x9pPgdqWby2i5OcFclxvREf16J/VJ9o7qOlq5rzwYbeA5GbKyEZh60e7xkYy0WAA1gIV59/CK1lEsoNMPYx3wSl4ReYD7AKtKeMXm5DIjmGInMkgTQdfvZe/Y0MpW66ezryLLdtXSPeW0rUofaOSax9VLtnk18e1LVqm8WTe9iwrV3rlqtY8xLGEB60QRpDpqDwtYb3l/VfDwJcc+vjaHnuXVwkt2++UvgtyjeesFN774fkOmknkuj1G8d+7sT8zkfWPNCltTT97dsYf3aQ0BMkHEmMYYhOLy/OnAa1kwmSjsuD5D4YduY72w4PtsfhEgWzPYwxpW7K2gpXv20aNrNtB+OXxNJaWZDuU9W09hAau8RIir2PxYtfLVgDGO7lmxNnBwWVy/MEwPAk6F0Vopy2B5pkdCkQoQSC2Btm16w20iQdNI1FryElmkNhsIDQRAoIsISJ8Z08xbmHN0UTIRbZYTiLSAtba2llat4gkjK9X2vEEtN02nha5fv165sT9N3ief7E6cOi05JzDBk0B4jZ4J1wtezGxgKgA/DN+N78JzCg0IZDABv26b+m8N3AaUwflL36Sn4FnCD8g9/LxUypSb2lMz8LyLJbCfV+DdsXQ1HeBPlF3VUopstbBu7PPT9d8mPacxl4WnJw8ZyN4kdB3DHt5OoK7RxsbGnEc5nKusSFar6mey7HF6/6qPaDUL79QpWMlGLB2K6lSS9ZCkuzgwLpm7QG/R0FoQefn8Gfo6Xk1cHeizTuLVk2PCn5szMxGCDpZVpkbJQUfPbdhCr2/kF5LJvPRjBOt5L9EHWUDorpbtzun48tiR8Vdf2shaurKgtZS3FziBtw4QZevJzhreJ9cpThtE+MWCdW/t410LZHWoUjrAcq7HdfFWi8bz7JjpuPg3TrocZ2ol74UTDqHuLGi1TjfwdhwLecXwG9t36X1n2UL2Uv3UiCFUyEJxz2EgIHPD7j4xjIWwjlq8ay/dF1rF7Vgn1nZEPU4cG2yEQEwllVphawYQgUBECfADPIef7Xn8oimfX6AV8F7SeXyVP7m3+jx+/uWoZ3RwLCnP+ny2C7jlvl/M8vgqq/dlD1Y0pYjWH2Qrewlwn+mNt2TIFe5D4w0Os5cWcp4GBCK9RYDsv7pzp/7sNdj2eCArjdOMZ0UQ6yp/wsYOXKfSqI0f178eAvgOVdDWXSAANxbPl2sIPQhkLgHTpoL1n7MjQiOvPWRu9tI35SmAyw+2qX160zJeMWnVG3wIzx7eX9Pfq9Pa6GsDC8Lm8EFTD7OAzVOmDoiwLpGS07JFeU7ET1jxRGkdf3q+hgV4spqvyBOIhR2aew7s4wP8aaCj5NT5gD92c9zA/jRjQB96YRMLEU0SP+R4frt4Bd154nS1N6kTRFztPmbyf3wKvAikrz58vDnMKa7TthvGjBqJ5vHWDX/iVbbfnDSGcmQPAQ+cEzzzWsSfnN+yaGXg0C9BewYfTtavR3cWeDpCcBYsi/l0PmTpad6z1fZnsufrLe+vpJEskB3uCF+dmDxthXBYtZ7e5q0YXHX6iME0YRCvYOUVsa6SFZs7qmtpJtv5+8G6Lhw9161tB/S2Aza7Q3sUJ5CBm0m4471FLQc4WgTOSpkKy/oNfDDYND5cqu0qifg5zl4l3egMFp4+9OF6r+49vm4zreMtApTipMjWDV8aNyJYVvESxGX546MODRycJc6umb+IPjlysMpfnqor8TxrM2m/sq2A+LmOtwKZ2dKq2cTBwOZgCfhV0IQkBlAgEEEC/Mxp7ldCAz74TYuZy+lWQFW3/psq7nhe7VAkjvMH9qKB915KTWP4RSrvMZ5INcuLMvkiAAoEQCA6BLwpBWv4v9dteproZBU5iQYBu4wjGrkJ5UIOfBg8eLAytUJTvViDW6RqrHog26OHuy+fONfm2q041U7sSFQAAEAASURBVPeun+BCI9Py5aKCltiMH22g0mDDtVZx5tLGHS4gkIEE4tR/1YZM88jAHKVtkhVX+4gxqTwozDzxmda/j5dfOWF8N68YvOKN92gtCyDVak0RchpB53bec/PWD1bTWc+95vlRGvNQa2kfyGbjxj4jrQAtEBCvoHycD7A6819z6XPPv04vb9lOuzg99ZxOtbrSpoXdVfFn8bP58+hXNm8PBCHbAci+q57iiMpYyHWO+VRbm2uIf12xjs559nVasGO3/sxaANs4WF/FJ7x/XFXNn8N/TGc8M5cuf/1dWrxrj06PF0FHaHT6Ln31Hfo+7zO7mQ/2Urxs2jjKvSzI/BcfmHT2s/NoFW+L4CrZ+/Mszm/cz815FeR3+BAzEer5ywFy6J8c1hlPz2Eh9HYVthKW2/gUiwZawfFc9MoCuvGdJSY6nc7+LNS+5djDeYJb7yZD1Z+/LF9Lpzz1Ml08922az6s2ZUsCEfJ5nCUOLs99fADUnUtW00JekSl9pq0nsuI2Xr2Seq+rlE5Dq+2AAQ4vCff5RLdxfZZVpby8Sv1JOFLmMStbJRodlTskYMNWFNeh7zFv5Un5z6HnuD59yC8RVD45Qlm1O5S3CIgrRHeD5zycOnQgbxXQ35hqSsJz4ux/M781SkCtVqHLamRTfrINgtQXEXbf8PYHNPGhZ+hf67fQJiVkN5ly44G+wwkEx5ISXas1uMPThAhAoMMIcPVu5m2FWvyrYnt+XjZzf2Of//JMbKipp2axa8E/hKsdVnIIGAS6kIBs6qWGkioNQbmMGGH8osDgJ20IOLPPtElTyhJSxJ+CTpkyRYVnP2HkPpqVHcA2q8OtRo4cGYpT21tBQHAFnrETH9KebVA2BHVvYxPDsAPfCAv7LLSuvzZzxZA/UbkyIU2BUoIJDlOEVfKXFSpU/w3SrMh652aSQYceLXr40c5UcEGdMWIg/WC+9i9tQWrsUyxs+7D8AF3Aq+qG8CpIOdF+Ewv5XuVVlXNY6ClK6nYBr5bTgiidqGTK3T4lEzWNItMO/71hK6/U20anDxtE43uXqv1E5SAgSZ8IXWUF5aMsjG2QSM0zWQSrXxgznGTf1YCwivdk/dbk0Srtj63dqNJvf57ftJXe372XP9HWJ7gPUysmc2grr6RczwdhreWVhi87Qty8FD0nbPzhq86KX8j/s3glC5F30CdHDKKRfFhXITNfz6sul+2uUPkRgaWrehYU0HV8aNQwPlyJT290rbSeJ7Bn8IFScpDZtfMXG3sdnwjgzmbh+Vkjh9JY3hNV4pPVwFtYELeehZAvbNqmhZHsy6ZTVqX+9ZRjaGRvjs9dLWtCLmaBrihZ9fo0C/VOGzpIrbQczkLvfizklTVJO6pq1GFrT360WbmVSi4pGti9G32eyzN8wJVxZLbp8VmpRFnLeFdmdziv2H6f90C16jU+REuEv2ePGsryyFy12vYdrlu3Hn8k1zvOk1VONJL7ZOq68sqrho/jQ7qkDq9WgvBm3vfVD1S0Vx8+Ue2ja01bvHLEfzhpGn3i6bnqZYgKigtD+p0r31hIj63bSDNZADuM+YoQXQ4x28QrlNdx+c3ftpv1LEw2SnP1EmONce0EArbcws/zTogaUYBA+hKQhsHPMvtUstf0TTBSBgIg0HEE5Algx1usjxGg4AnRcewRcnsIRFrAKvv8zJo1i8aPn0CrV+u9WMOQrrj8curXT+/1Zu2aeCKklWmwidptInMbUMw16MHeyVYGUF1HYNHCRfTj639MhYVFVF1TRZd/73L69Kc/3W6haE1NDf3lL3+hZ/79DBVxmI0s3PjTn/9MQ4cO7bpMdmrMPMuP6fw6NQGRj8x7+ZOqnPJEZgoLnH42fQr97F29KlGeTyI8W8ZCqOsW7FOrB+N9+n80f3I/sFsx/ZOFZlqJr8TKW5EizuxDMI5z+8KDG6IS3j7Dglb5E1XIAjAR7MrhRFaJoJazwYLAPLrpmKm8wo/3qBQDV/FtLtv//sRpaqWqHNCkc6ndbeMVi//L+5haJSsm4+VZ7KtZQJnIzvo/mKukSFbbvvrxDtrL+8mKklWz8teaEsb/n73vAJCzKPt/dvd6v1ySS0IqJCSEdAgQOgGJFKU3QaQLgoBYEVFQP/CPflT5EBVBESShF5GiFCkhjZAe0uulX+9l9/97prz77t7e3t7l2u4+k9y+88479Tcz78z83meeefS4w+gMkIURyVUbAaR/fwhSj2H6CSRk2Vgc61G+OS4Smnecs8BpuGGnQujAe+iYafS1UUjPVSduv+6qYDULL4IUt4bJW37e6Iy99glRf5DpXJbRzrb+4DO2qWbUTlsKDYE7pHMPJG3PePND1yOPItDdJDqTxnXh5eG0HMOlD3FwnkS0oJC3TRpL1/93gQkXBHQK1DVMh8RxW/hFim8ywjA21/93IZUzwY7oLBSf7NhL/McmzesDtsG+Eh4XH/bWoXKERyD3HUMgWO1Of7P11rGIxLcgkMgIoFeYuST3DxZ9cHWd/Ss4R8hvS/fAtH8xdl9oHnz5jwvP+Y00EHdf6hKzINBHEHD1fpe1j2ROsiEIhCCQ0AQrl3TcuHH02GP/R5df/i3avt1KxWgMrrrySvrebbcRS7paw2oFioqKlGRrBtwj9WE9LqtfjHWtffDC30qAuZ9yCC0XFnRtwlbKoUOxhVNMryGwc9dOeuutt5z0zzjtdMfeGUtGRoYif95+620n+FNPPUV33HGHc5/YFrRv/FftXXcTPTFM7EL3eukivIo6nKfvThpDy8vK6YX1mvziN5V+b2nJuPAITxlaTH888Qi6b/Gq4CNeEEV8c2pXRyaFvSmfxqJvzW9ASRGqG1fBbF7cRJx1Y28siXffjMl0M2/FtkxhSLy4Abk2CBKRz5xyFN0xfxk9Bv2mrYyJtC0CdTq2q/9g8iHUzzV2tIqjCxym9C+gn0DC9OJ35yop2liiLM7KoL9AkvR06OKMZSHGMH1/8lgaW5BDN4Co2wkpUm0ssvrOvaZzP5lYVEAPHztN6cqNtlhVOkFtARBB8BsME+X2o6b1oK/9QNw+euzhdB4kbds0wYiCXiI1qeBTNMQAnYy2y1LOz5u2btusKpspYGqkI6kRt6tJmv7RXoImcbS9Sw4eQTd9spCarfiqSev7UyC92ka/cWfdbeegF40ervQkM8m6FdKpkXJiyVV32TgelhK/ZdI4OhNS0RHVSLgTE3vXIcAVYYz+WMZvRdMQ7AO5CgJJjIB+j/HLNjiXjPRuawVRKqt40bvQVI/iscV9CCcO0yL48eCjJR9aHMB4GYDqAccPB0rD0hgDo9MjOXwbY1Sr9NkB4VlfOudXxdHR8BwHlwM7cVinrGdPJXnK8G7PSKGUwlwK4CCvFv5gxrpm3QMzhxMjCCQwAk6fTOAyStESA4GEJ1i5mliKdfHiz+mjjz6iBQsWKAL1pJNOoqlTp7baDs76WB966CG6//77e6yG09LSeiwtSag1AuHb97tCRcDkyZNp2NBhtHWbJqrmz2eJpQQ3GPlacR12cpzgRe/Z4gUoDcSPQ1SaxFNAluyvYULr2VOOhuTkFvrex5+TOrk9QqT9cBIwE4w/mToe25z9anu34w11nmq2gztuxsJLlpQw0ioLW9nVSsTtGYuKa8YdqFQPPLZyHS3dq7dyR1pgsVs+Fk3fA1H03YljqNC+T90smDtutuMZS10+DKnLq8aNou9/upj+W7In6CtSQnh6GKR1f3PkZEXOsWee7HWtsTHqaSTr1JyKg5eWXvhV6GBdTE+u2qhPnI+QaB7UIXz70NFQCzCeClg1QgdMChaDLC17PCQoH1uxjh6EDs+90LPblmF4xmKr+20gZq8YOwrtsZ22B7y/D8nNXCwYH4cu1o1QtxCEOGiz6Q3CAVs/Rdu68pBRlIOPntEMS5mGE+Gx9AWWmn3ypCNpYlEh/RJS20ofLBJSuTFZYjULLC3tGLgzUWwPamP3JpCmWSmx452DvnHpmBH019WbdLSIMxNS1d8AUdqhRbwOrX5ZrcXKi0/DIWer6GHoki0P14Fr/Kpi4Scb9cAfIZhYL0A/UCoCovUXV1pi7QIEVEXoeNSbXHV7OLrcuyAViUIQiFsEXG9dXYZY+gYTo69/To1LN+MdjXEBuzB8U0ZQyskTFOnpx26EwINvUvV7K6hhR5kiL1Pwju/3i/PIMwvq5PDRy1tVTw0vf0z+ndABjnc9JiyUcfx4ChxxYJCEjYYqSM/AKwupYXUJeVJ0HjJnTaHAYSNjI0P5iycK73nzC6p+fRHVfL4J+XTtPsDzlMIcyjtpPPkuPpq8w7EDE2OQGEEgGRDQrwH0EbXY5BWFWQmpMTQZEJAyxgsC0Vcu8VKKGPI5YMAAOvfcc9Vfe95ZipX/xCQnArxYVxLIPNHppGGSVp34bcKXlGzvZExxFCxsfWjnw/YaRyXp21kFoLx1fdHFkLR2t1GeZEfStdnB0rA+1UtBmrF03/LSSvyV00ro5KyFFMaI3CyaWFhAp46AxBunjTRTcH38pCPo8ZOPCqYEYjCALcvhPagIxOz6y88KzTcWQSEigSaWTEhwXA/C9HoQQZtx0Bbry2QJvS3QA1qDRczwnCw6EPpBD8zLpmnYKs0HJHV0ocHE4uGQRv3wvFlUVlOrtohvgo7ZktpapR9zJNIYDR2mB+FvdD70njJxyZIs3URGaZkXhoffQSYZXHOxcHwcZODvZkylt6H/lA+zYt2weWk+OgBkJKt3OIFPgWeisyOSNsEaU7Z+0NV5x/SJdMcRk2kpDvxagL8SqE2owJb+bIyJWSDmhkA37SlDB9Ng4KG2s8coQVOIuv8xTr7/8WHjaeW+ClWGLdADuq0aC1rkeRTq8SD8jczNoUkglZVpZ+EYAJH4yAnT6RFg4xjODy9IY6gjJhrvnD6BbpwwGqoXymjpvnIcbFUPlReZNA56V2cOHUgZPBewceF6Ig6XKrvuIlSSSRHJaRxiW+Ry330KHzGeOvVYJ8uKWNvPvstE9N0g/+9GG/li5x76dOde2llXB/2sTUrSeozqKzloyzk0GO1amXbwDWZQbF2KgG07iJSbjxCrXYquRJZgCKg+EkOZPBgnq95dStUfrHR855ZVU+px2B2wbgdV3fp3qoPOcrdpwrzGv6tcf2TiKURpNVW9upAaN+1W3ngu78W8J+3oMRRgSdR2TABzE0WMLtns+PSBEE1lgjaKmhY1nqCgAYSrvPtFqtvs+uBrH5oYm5Dffc99Sj785V59EmVccQJRFgR1YgXKyZlYBIF4QYAHTdvAuaPYebJxt4/ipTiSz4RHQFjEhK9iKWB7CAQlWPWL2osv30G39kJHfr5mzRrauXOn87CpCVuQEt0APi3BqnF0fVtM9JL3TvmYmOwuA+KFJfemDSykacVFPJPRhJJl/cJJRr4PI/a4FUQ0Hcm3Iu8CNALE2whsYVf54MWGamI8ydITLUWsdpYs4jhAbhWCXDz/4BGmrCb3trx85bx0JO8RCx/dESkow8mxYdgdA3xzQfCejwPHdH3gofKHH84blz+sDpywHbEoHP0gOQtoEiR2FdacEZsWX9kP9Ld22Jg6Gl+UT+Oh/sApB0cUgjXij8EoeCK0vRiCBr0gT0wszxw2mGaOGAJ3jhWFVHWOfNjKsCH4fj/JUFVPXVFXNk/2yvjibwo+GkwZxLrlURZTnM7ga6OVa/cgYKume2KXWAWBeEdA9xCeS7INm+Yp6qwH7+bwHWgBkK7+NTuo9MfPUFNp8GC/EGTcAy3bIXnqGLZzwjEazqeXJV9dxi1s4XIOWpGmB+Rt4/NzqfR//6mGWo5BDbnKV9AWDKSxKH/ifSrYvJcy7jyXKCej9XjlDiB2QSBuEWjdB/TUrLV73BZRMp5QCAjB2s3VWVNTQ6yTkw/cEtM3EQjWjX5ReyEF1hmClQ+3Ki0tpQ8//JAeeOBBamzEoSNmlnTooYf2zcJ3Za4AX0CVl3F0Nm4ou3uq2JVJSlzdjIAiOKMuabo5AyZ6nklZnZXdlWJPpNFe3kPXZa1992Qeu7PuVdz6fdu6kL3gwrjyX2y8bi9ksINJKqK1g2HEe48j4PSAUDalx/MhCQoCfQ0B3Tf4NziX7NDr2fQpP7b8V/729RBylR+l5GaSH7tAWngsUh+7bCfkNHXqQUz4Wewm4CZsEYx3LUQzHny4bZw9l8oeectJ2eYgNT+LfFAD4CnMJk9NA/l3V1LD1r2OP16rlP97GRXkZVHWry4gf50+EDNaevJMEIhrBNCdPFhsGuUAcV0UyXziIiAEazfU7dNPP02rVq2iTZs2UXl5uTpEKz8/n6ZMmUIXXnghDRnCUjJiehKBV199lZ577jmsoXGUhJns8MuZpVVLSvgk8aB54oknlL5edrFTLv00eKdtwV9WK8BkekVFJS1dtoQqcVXGzJImTIAOqGQyWpTVlNhOFZMJACmrINAJBMK6SthtJyKUIIKAINDnEZCO3uerSDLYswg4XcLMJfmeCVaedcdi7BS0YfFG8vNhUDAcNvcbx5Dv0GHQY5pNfhx01Qx1Ar4x7kP+kJKTuAq23z+8PnDJxLaKr3nRRir/47+Vzli1qtBLC8o9ZSJlXHgU+QZhtweIVk8tCNa91VT/35VU87f/UnMD9L2a2Kre+oKyzjuCaMLQ2HTFtsqFOAgC8YGA7tu25ZvOEh9Zl1wmEQJCsEao7LKyMtq6dasi4xyGDX04gC+dY8aMIT4IK5JhQvWaa66hBfPnUzXINj9LkbjM7Nmz6bHHHqNbb72VbrjhBtcTsXY3Arm5uYpgjZaOfU0vXrwYh6Itjua1Q89Yn+8VV1zRoTDx6Zk7iTkL2Y59TgeKzxJJrgWBnkTAfXhST6YraQkCgkDPI2DnHPba8zmQFAWBvouA6hdmLslKAngfYOiqqu28691UEE6F1CcbDlvwywsp9Ss4zCpDH0rIh/ulHn4QTuXEU5ZiVYc1cqpaJYEzjYXFsXNkUYzyx1G4jMqL695tDUBHds1Dbzn5VOHxM+D7Z5Lv7MPBCGPbP0vZ8n+oAPAU51PWwYMobXAhlT3wJjVX1ano/CBfK//8PuU+/C147QO7jtyFFLsg0IUI2L6to1Q9pgtjl6gEga5BQAjWCDg++eST9IMf/AAHmkBpuMs0NDTQ7bffTj//+c/Vtn/XI1r8xWI6+6yzacuWLW5n2INTZ95Czro5b/zOd6h03z764Y9+1CqNsMBy20UIzJw5k4r696d9e/eqGHWt4Nd+5oZr6Gs6WG82CzzlCtmS0NpLMG6WkgXZyObPf/4zDR48WNkT+sclaRAsJ2PQBlBBT2ITBASBSAiEvpQi+RA3QUAQiFME1FZizBNklIzTCpRsdysC7uGPe0ms5KrKlDswHArvuZhSmFzlublb/zUfDhViOGDITF+tE2KdxbI/DxOiLsNT44iGPc9bR7Vf8iG4wRQKZk0m3zdxCGIzSsx/boO4AtALm/K1aZT2yZfU8p/l6v3Bog31yzdTNtw8M8aIFKsbM7HHPwLB7hGyWHc7x38hpQSJhEC0XQuJVM6Yy8Ik6OrVq5X0aiMIVSZV7R9Hcswxx7QiV2tx4vQdt//UIVe5w5td6IqSCybOT/S74Wd33kn/+te/tJRs0IPYuhGBiy/Cyc/G6PkOz1Ssi57e2HoLeeCEcXlmt7BbdmJdS17o202F1CqTqo8++ih961vf4kcJb1gnDht3+9f3EYBSPuVHEBAE3AgEbB/SXckZR9x+xC4ICAIJgoD5CMuliSblliCllWIIAh1CwD2XZDtOR4gpfLivrIOKyXf0wcGFWQyxuOPQ+h5jCOR4cYd2HFtbsF6o/csHyp3FN9ik4TDPtDvPa02sqqfmB14D6amUf8508hXYHZUghaFvtnnzHgAlS3s3XGJPAATs3NhVFF6vy+rSBYhY+xQCIsEaVh179uxRUqbszP3ZJeBIxx9/PE2aNCkshJZQfPudd7Q7d3ju8eplYCQTrJt9Fai3QoCuu+46OvnkkyknB6dji+l2BHib/icff0LpODHaGiZEy6AnV5Hq7Ii6GzFiBA0aNEiRG671jw3S6orqNTXroeLigTRy5EgaN24cXQRCt18/nMKdJEa1dtvWTfvnossAmCQNQIq53wh4jaiLJlrRo6Tz7DemEoEg0FcR4LkDf5JUY6f09b5aTZKvXkCAz0rgaaQzFiIP/hhnk9yVuG/ZLpV2wQzytJJUbatQTE5quhNZUCaAcdkdX1shw91b7Xpze0CE/tpGqlqxVadhnuVefhx5M3lpbhJ3h3HboYLOO2E4eaA2gMprdP6gk7V5bxWletsJ645H7IJAXCCge7Obl7HvhrjIvmQy6RAQgjWsyvdh6/66tWu1K/qzHaDZ4aSTTqJhw4aFhNi+fTs9P2dOUN+qE4APU+LJgf4LCQRHHv52795N7777Lp1zzjkhj+WmexA4/PDDlSqH8Ng//ugjOg7kuTV33PFTuvba6+ytXDuCQIT235Hg4lcQSGYE/OrDBCOgO5Isk5K5NUjZEx0B1cvNV3w7X0z0Mkv5BIGYEOB1Eq+f8I/7Bo+F0JTarnZRO4TaqWgqCMjUiTj4KQWhw7but5cPXr/pMbhjI3EwDyYXlql1J4idbt55q90uyu4dXQzCtFbb8auyzOW3BTIhFNGUiiW80hurZwx8iG/jvmrKdKtAMP7lIgjEMwLcA1W/Qj8IdoWgLZ7LJnlPTASEYA2rV97uv7e0NOiqejWUoxcU0Pjx44PuxrZkyRL6+JNPHHerGp27PQ/O1oR/ybSP7rnnHiFYLUi9dK1BnbMxVU11dXWoO57UsYuYjiEQbOnu9t+xOMS3IJCcCPBpw24Tq8SOO4zYBQFBIH4Q0NuPRVo9fmpMctoTCOi1lE7JDouho2PkXDhEpJnQ+wbkkQfb6V2sTOSAbbiqGW0sCbvCe41/OxtWEuqu58oKKdOW9TvDXakKB1XpQ7gCSiUCR6XIVBWniZjd8OcBadyypzIkDg/IWU8l1jCZnS9zSIRyIwj0AQRUe8eP6gF2sd4H8iVZEATaQkAI1jBklN5V6GFlo/qw+WSSnZNNAwYMCPHNZOyzz/7DuOkerwbSiJ1fvRaCLJ6h8xYuXEhLly6NqHogJDG56TYE/Nhqw8bUEPTfhymV77aUEzFi9ADb/nE1wjmJWFApkyDQtQjgBdQ/M53SoD8tBYuv2uYWyktLVdI7XZuQxCYICAJ9BQHefqyMHTh5/BQjCCQ5AryWsl2Cl0vcLWLpGhyG/dntw56CLPJkgGzsgAlNB/3T9tEOxMFeVd9uKzjGeH9ZqHAHp1u/dHOHUtF55V/zHqnG+rWmgSiTD+8ybh2KUTwLAn0TAdW30aRt39Yd3eZV9wR7J1dBoLcREII1rAZqIb1ojR6a9G9Odq7Sy2mf8ZUJ1heen6OcXMObIZXg4mKXnGHOmTHAxQR67bXXhGB1A9vDdtaBO3ToUBxelklNzU00fDj0Gon0aodrwX6t181eN25WhmE0zHU4PgkgCCQVAi0t9NKsY6jFiOvwmMFka6ocWJFUzUAKm0wIYJy04nlChiRTxUtZ20GAx7+QuSTWTna7fLSgXnjS6y3968vPBsHaMbJRpY1E+KrsSFvHFi1l/Yz9+S0hawKpZV9YUF5jNJVVK1c9T+a0bCpmcWguYUHVrX2kl5QcTrsEICDCO/DECAIJhwCatW7Z3GNg58bv8CzS5hOuvuO8QEKwhlVgdbUe8JQz92A26Lep0HWTlZWl783vOzjYqqGxUd05AyMTc2pwC1BGegb9+te/pu9///t00003qRPl7evBBFKXLZu3mBjl0hsIHHfccbR1q1Y03xvpJ0qaqg+42r8eCZ2ekSjFlHIIAt2GQDr0sokRBASBJEHAWRy6yivrRBcYYhUE0CG4T6CvONPLKKAE2BMbviCcJ9VLHl/sBKkKq4NaayeudvGog1q+1R0Rk6ApRn8qZ1R1e+Tdk45lOZfBRqHKborjsusAiNGCwv6bsfuOD/NCecUIAomEgG3mIf1CdQJu66r3JFJxpSwJgIAQrGGVmJeXF3TRnwbVvdLNunevOmHeenjwwYe0lQdFJlXRz3nQtF394osvpptvvln5+f3vf08vv/IylWwvUffuV8KmzZt0PPLbawg0gihvampSkqtch5mZmeTtpOQYx+OoHUBcGRk45TMJjB4Ag+1fFdnd0JMAAymiICAICAKCgCAQFQEzSQzyq7LTIype8jApEbBrKS4821vwx1PKaMZrH5rA7jjso6hXs5ZjP2r6ins/rw1wH1Nc7Km+iYM7hufGrQz8eQqN0I6JPC0nnQqfvIFSBxVCCrZViKAD8qTeGMoPdLVirar8wz0AYaAASOWOHugVjFxsgkDfQ8B2S6sewOmL/ECMINAHERCCNaxSeLt4SkoKNTc340mw45Zs306fzZ1Lhx12mArxyiuv0IIF83VoHtTYFvSu9LVecMEFkHwN6v4577zz6ZGHH1ZhtFc9qm7ZIhKsGsje+73vvt/S9u3bFKna0NBA5557Lp122mmKcO1Irjjsw6jjnTt3qrjqoc/31ltvpYMOOqgj0cSl39BxzswYXX0iLgslmRYEBAFBQBAQBLoSAUOeBIfHsA+TXZmWxCUIxDUCei7Jv0yeBvtM5EKFn6AQSXo0ckgTOZOT0I/KRtGYkApt2YudjcZNPYj2A1U/jSWug5I5nkiZhqO3IFvHZJ43VdWr8jVnBdeN0ZKyz0LKzHEpXQr2qVwFgcRAQHeTSJ0pMconpUgsBIRgDatPVgNQVFREu3btwhMMsmpsD1A9iLPH//hHyi8oICbNfvazn6mQjti6icfKIQwfPoJmzjwpJPaJEyaE3Nupwl5IxorpPQRKS0vpzjt1fdpcHHvssdba4euyZcvo6aefdsI1NTXSH/7wuHOf2BbbA2QQTOx6ltIJAoKAICAIdA0CGDfBBEUkYromAYlFEIgrBHgmqZZfLkpVSXyzY1Rj5p52cdauf3dkoFTz3Idi6T7ZtK8Ka8HYIgo0gWAt14dX2ZjVZkh7Y6/QleobM8TeqSvn3LMN5OwIHKgcW3Ih4eVGEEh8BNAxuG/wYKmuiV9iKWF8IsAfBMW4ELAEq3ZCB3ZmvB5i4uy7N3+Xbrn1FkPAwpcay4MjIcshsATsCSccrw5NckUd3HIe9K4et+CLp5jeQ+CZZ54JSfzw6YfTrFmzOiy9ypGkp6crtRCFhYVOnE899RRVVWGClhTGJYmDdq6nyElRcCmkICAICAKCgCDQPgJq3uj2xnNN973YBYFkRyB0LsmzSSWp2W4/MQss19otZiRZ8rNfDlFmekgQfwUOPy6rQRbCFm8hvnCD54H5G7Sry2vEhXYLCNZpI5Vf9zy59plPRIeqRlB+BYEICPBYaV4C7i8Xrv4WIZA4CQI9jkDE936P56IPJdivXz8aNWqUylHoWIoOjQ5cXlZOdTXBr5O6m5vObsqRkZlBF154YatSrVmzRruFeqe0ND7hUkxvIfDxxx/rpM0L+vpvX0+DBw/udHYmT55MV199tRO+oaGR/v73vzv3CW8BjgpKtHPV1A2uCV9uKaAgIAgIAoKAINAeAmZMdA+NYdPC9mKQ54JAgiOA3qH/Ox8fQtdkbRc/tF91sGel+iiFdaO6ImnZtJua560lSom+ZPY3NVP5/a+rjLlVE1g+KCTHyFZLdhpljRuCeTJuTHpVC9ZR4O2l7aYVEheHRb7bJYBDAsmNIBB/CIS+A4L9Rj5Qxl9dJnqOo48WiV76COUbOHAgnXzyyeqJHhQxcpkebb8y6o8mdvS112Bkow8aTUceeWTQwdiWQwJWGRPEhiwuLm7lVxx6DoGtW7fqxPCuzs7OppEjR+5X4qx3l0lW2244stWrV+9XnHEVGDiy7ipt1E1cZV8yKwgIAoKAICAIdDcC7c0luzt9iV8Q6KsIQBZUEavuuaRdg7WXZ4SEsXNQh59tL5h+jq37aYMKyOMzy2Os/5ohvVr7IebwtY2R4+CkoKPV/8jb1MTSrkjb3bcDZg3ZKjAWmbmXH6+dOdPGX/m9rxLthcRsLAZSt4GNe6nue0+Tf82OjhGzscQvfgSBvoCA6s7oV6pz48b0lVjfCX2hCJKH5EJACNYI9T3zpJPo4IMPVk/0IK+Haz5dXhlclLu90a7sqMxdd91lXUKuS5bhqyQbE40NUAxSV0zvIbBt6zYn8UGDBlG/fsHt/c6DDlo4nuIB0KNkzMaNG601ca+m/esC2mkxD4SJW2QpmSAgCAgCgoAg0CkE2ppLdioyCSQIJCICei7Jvy3BxVOUguoFVnCNFsVrhEeBxhZKO3kCeXMz9FOzXqt/bSHV//W/2MZoiM8USIxCopUlVVtKa6juf16mvc+Y3XCGHLZ58Ni1Y3h6COs/dhxlDe8fklZDZS2Vnn0fNb29hKi6njysuoClZzk9vkK9ANXUk3/zPmq4/5+06/z7qeLDleTdx4dxybI+HGa5TwAEVD9UP5p/MX3K4WUSoIhShMRCICWxitM1pZk8ZQpNnz6deEs/d2fmh3S35hvcoWPbbu56oqwTJ06ks846q1VG1q1bR9u3bQ9xt7EMGTo0xF1uehaBunr+4qwNq3dISwvVv2SfdeRagMPQcvPyaNfu3SrYhvXrOxI8Pv0GOwn6iWndPAg67vFZLMm1ICAICAKCgCDQZQi4xkRttV8hXQ+6LDGJSBCIPwScfmHnkphI2l4SrTRWoq3TPam5hVKmH0TZR46hyreWKDKH42oBqVn+h3cpd3UJ0dSRlFqcB8cAtewsp6Z/L6PaVcH1nS8zjVrqGp2pr1tVZHjefZmplH3bGVT/o2fI39isHnM5G6sbqPSO2ZQNAtY3cTh5B+WTNyedApV11LSjnLzb9lHdZ+uosRSkKoxHVAQoHOQn8RHg/sh9JKSPx/JySHxopIR9CAEhWNuojDvuuIOWLFlKy5djW7+7J9svkcotpHsTH5D1+OORT4v/2c9CT6nnZG20Rx3VWp1AG9kS525AgNVC7N27V8W8o2QH7du3b79TqaiooKrqKiee6mo9CXIcEtjCX+1tN0ngYkrRBAFBQBAQBASBjiPgXgxGmEt2PEIJIQgkHgLuuSR3E5bNVAddxVJUu8CKxW+YHyZHs278KtW+t4KaDelpvVR9sIIIf1ZO1ObHyN5Q7jFjKVBVR9VLt9gg0a8I6DtqNBV+5ytU9ug75G8KyunyCrP6Y6gmwB8XJyUthZrC8mMjD9Q3UQAHJrM/MYJAIiIQtUuH0jGJWHwpU5whYMeIOMt292f3kEMOoVdffUWpCtBkkR229NWtwNzmhsnVGTNm2FvnumHDBnr9dVZ8buIwF/tV8+yvt5Z4dQKLpdsRCOrA9VBpaSntNlKn+5NwyY4dtGvnLieKAcmiBgJtm+UMrBSBUZPj4CAWQUAQEAQEAUFAENAItJ5LmgmiACQIJDkC7rkkQ8E75e0yqi1oeO+U6kH7Q7jwFvyhhVT46NWUfaD7jAzTN3FhYpX/7ByX14kF50yn7NuxnktLVdlzenJ7eUlNodRLjqGin5xNKZnuHXQ2Bq1sgMlVm54biNSMNOp39UzyTB5BBAlcMYJAIiLA3ci2/9by7LavJGLJpUzxiIAQrFFq7cADDyQ+YX7SpEnwZUdIfbV3HHzYsOH02muv0cUXXxwxtvvuu4/q6ngbugllA+M6fPhwGjxkSMRw4tgzCEydOtUkpCvmo48+MvXVufRZJ8x6qIRQxrzzWSdrUhgFIU9xNZYiyZoUtS6FFAQEAUFAEOgEAmqkDFkb6rGzE1FJEEEgYRDw4NAoXjM5c0mQi17eBt9O9/B4faFe4N/DeknbCdcKOJCsvqkjKOfxayjv7OnmsYnEFRfPcTOwfb//XedTxg+/RoHcTOzg0nKt1luA8x3NcCQ4VMv39WlU9MoPqOD8IykllZfnTgxO6OCcOkApWWnU//pTqN8/f0xp156EU3pBzioW2vEuFkEgMRBQzCo+NFjJtFZfJm1fSYziSiniHwFREdBOHQ7AQUVLliyh//znP/TUk08qvazbS0poKPSmHjrhUDp6xtF0/vnnU35+fpsxsS7XQYMHKUXl7tMk6+sb6KqrrmoznDzoGQTOOeccuv/++53EHn74YTr11FPp9NNPx9eykJWP4yea5fPPPyeOQxnzzj/22GOjBUmQZ8CKBz1TZj095qIFbQlSUCmGICAICAKCgCDQNQioMdOMk3wRIwgkMQK83T3j2pMp8/qvBFEAs+hn6UyWLm3DBGoaKPN336As72WOj4DfT4HmtsM4HtuweAqzKfuu8yjnx18n/7pd1LJ6OzWv2alUBHiH9aOUQ4YSTR5OAT58CuSmB9v4c5+4nvIUQawjDXCesfW/XYP1hqcomzLuOAeSsGdT06KN5Fm5jZr3VlFLVS2lFeVRAGl6hxaRb1gR+Qdi3cnviyiYtJumeBAE4gEB9P/gShK24JeGeMi95DEJERCCNcZKP/nkk4n/OmpYmvG9997raDDx34MIMPlZUFBI5eVlDhd42WWX0bz58+ngMWM6lBPW5frDH/6QysrK1FYGOwYwiZv4xpKrGPxAtNqyO4xr4gMgJRQEBAFBQBAQBGJGgL/h8lip9E1yKPOBMuYIxKMgkIgIgDRUxGRHywYyFVRsR0NF9c8EbSANUqgThpIPZGoKpE2VZC0IVZVHJnDdkqMggverG6PsTMd6jziQaMZoSsVLIg1/6sR0Tgeksd9co2ZcHgoCCYRAsE8FbQlUPClKgiHAexDEdCMCnZGA7MbsSNRtIPCb39yrnrAAJi94ysvL6TyQorNnz1b2NoKFOM+dO1eRq++//74hVxERzNHHHKN0+YZ4TugbgMg4chn5R8OQ0CWWwgkCgoAgIAgIAh1FwG551PI5HQ0t/gUBQaBHEGBOhyVFoaoggEOwqK6JqKEZOk+7lswNKQvHzWnwAVacJq6cvkrTTeiGBJIbQSBxEZDlZOLWbaKVTCRYE61GpTydQuCSSy6hJ6ECYt68eY4EyfIVK+gb3/gGnXXWWUq/LutqZdUQmZmZThq7du0iPsTshRdeoDlz5tC2bduUWgH1pdl8w374oYcc/8lk4fno/n3GTya0pKyCgCAgCAgCSYGAGhxtSe2NvVp3uQoCgoAgIAgIAoKARcAZJZlpdW7sU7kKAn0HASFYw+qCiTE+kKqhoUERZfYxS6Jq0sy6hF7bex7qO/QuJyeHUlKkKkJR6dm7vLw8euCBB+kSHFS2ectmJ3E/tuK8/PLL9MH7H1D/Af0pKyuLCgsLKTs7m3bv3k01NTVUWVmpiFUbyN1O7r33XgoeomV9JO5Vj3n219n0mLgFlpIJAoKAICAICAKdQEDWiJ0ATYIIAoKAICAIJDcCQq4md/3HQemF1QurpKqqKrrtttvomWeeofR0nMiIGbAHp9YpfTs8G2ajTrFD73bNjpXVdW8CwosmZtXVfm5x4sFOj+Zmevvtt+kYbCMX07sIzJhxFP3+0d/Tt674FpXuK1WZsfVWBv2s/NeWsf7cz2+44Qa68cYbycsnmCaBYdUKWu8qj3yuPiMDYRLUvhRREBAEBAFBICYEzBzQObYjZO4YUwziSRAQBAQBQUAQSD4EMF6G8DKyxky+NhAHJRaCNaySWPqwtraW6uvr8deAp0EiNRKJpufFrtmxsQZdwmytnmuSNSwbcttLCJx55pn0/nvv00UXXURr166llpYWzaNHqDf9QGc0wMpbzUs+KzOLvnvzd+lXv/4Vpaak9lJJej5ZRa46OKlPEgaTYB/o+VxJioKAICAICAKCQF9EwEwagtPMvphJyZMgIAgIAoKAINB7CDjLSFiw2LRrbodo7b2cScqCQEQEkkO0LmLR23ZkIlUbc+yAMwc2FldQ7WLcnRcA+r+NwrBuziMnLlckYu1TCEyaNImWLl1K99xzD40ZM4byCwrI58UJojAhLcB1w0Rq//796dhjj6UXXnyBfvOb3yQVuepUoG3fTvtvhZrjVSyCgCAgCAgCgoAgEDa3EEAEAUFAEBAEBAFBQCHARKo27fMyApkg0BcQEAnWCLVgZO/UE6sNgG8sSRp+daIwntVzh3zTvp1bVzxOOLH0OQRSU1PpRz/6Ed188830xhtv0MIFC2nN2jXEKiRYR29jYyOlpaVRZkYmFfQroAmHTlBqHk455ZQ+V5aezlCk9t/TeZD0BAFBQBAQBASBvogAb3hh0+ZcUj+WX0FAEBAEBAFBIOkRaI+XSXqABIA+h4AQrFGqxE0UsX5JK75oyVK+Kr2TdpqsFVDqGB3/1jc7a0fHxfGjg8hv30MgIyODzj//fPXHueMDrfhgKz4EjQlWPqCMD8gSE4pAqD7W0GdyJwgIAoKAICAIJCsCVhjHzgWduaR1SFZgpNyCgCAgCAgCgkAbCCjaxIyTbBcjCPRVBIRgjVIzPAm2qjUDLlFW3an1IT6aUzVHFRgWVrm5/SOA9aeS4wj4BSGT6Sjo981HTKYKoRq5bpSOYnSYVu1fmnpkwMRVEBAEBAFBIGkRaD2XTFoopOCCgCAgCAgCgkBUBEJ4GSvcFjWEPBQEegcB0cEaDXcQoEEONNSmFCwjrJogM4HK8TCz5HgD6apnz4ZcdSWkyFf3vRPI5ShWQSC+EFBbOJym7Gr/8VUMya0gIAgIAoKAINDtCPBwGTKX7PYUJQFBQBAQBAQBQSC+ELBcC3MszjLTZYuv0khukwEBkWDtbC2bHu4IqnLvNzfKGhav46Ys9vVgXC0TGxZGbvsGAgEQ586f6+3u8/lAonMdilEIMBbAyrRqAUUQEAQEAUFAEBAEoiEQNpeUGUU0sOSZICAICAKCQLIhoIZJS524Cq92TgrR6kJErH0FASFYw2rC6/VSv35FVDxwIKVCx2YIW2RnvujkIZ06zL25uYnqoaOTdXXyYUjaGNoJYdPT09WJ8z6flxqbmqgAp9SL6VsIMKFaUlJCZWVltGnTJlq7dh2t37CONmzYSA31dZSBw63uvvtuOvzww/tWxnszN4pcNe0c+cCtGEFAEBAEBAFBQBBoAwFnLmnGy/ANTm0EE2dBQBAQBAQBQSBJEHBGyhBexn34VZIAIcWMEwSEYA2rqOzsbPr5z++k73//NvMkSBipjyS4ZalF26kDfr4PjaS8vJy2bNlKS5Z8Qa+//jotXLjQ8c8++/fvTz/+8Y/pjDPOxF2ADjzwwNAI5K5XEdi8eTO9+eab9NBDD9OXX66OmJeUlBS66aabWj3bunWrImRZurWlpYVGjhxJQ4cOTRJJV9MvbJfhvoJFo/CsrZqJOAgCgoAgIAgkPQIYM3mQZONsh9K38isICAKCgCAgCAgCjABYF7umtGOlXWsKQIJAH0RACNawSmEJ1oGQXt1fM3XqVDrrrK/TVVddRbf/9Hb6+9N/N1F6aPv27fSrX/9KEatnnHHG/iYl4bsIgQZIHT/99NP0pz/9iebPn986VtfLnKWQua2EmwULFtCll15KhYWF1NDYQEfPOJpeffXVJCFY9UJRk6oACyKsojAgvIXIvSAgCAgCgoAgwAi4v0BaolWQEQQEAUFAEBAEBIEQBHi45HU4ryzZzkOma10e4lduBIFeRqA1Q9TLGUq05Fl68Y9/eJymTZtmiqYn0Xt276HLv3U5rVmzJtGKHLflmTNnDl1//fUOuare4+7SoOpaubmfwz5jxgwaWFxMO3bsoNJ9pfTGG2/Qp59+GuYrMW8tNrqF6181CiZmcaVUgoAgIAgIAoJApxGwYybPLIL2TkcnAQUBQUAQEAQEgYREQI2RzLBieWlWmC5LQhZZChXHCAjB2gOVl5mVRddee61OyTWLZgLum9/8Zg/kQJJoD4ElS5bQddddp7b1W7/OCxw6ICZNmqQkm7WbqxKtZ3MdNGgQ3fM//xPi+tOf/jTkPlFvHLxUAQ1GyrFtvBIVCymXICAICAKCgCAQDYHgmGmVTkXzLc8EAUFAEBAEBIEkRADLSD1eBkdNRkFWl0nYFuKkyEKw9lBFTZ8+XacU8m7wKGnJxYsX91AuJJm2ELjgggupvr4+5PGwYUPpxRdfpIDfD326S+i0005znrf1Umf9vDNnzlR/1vNHH31Ey5Yts7cJe7WY6Ku7obvtCVt8KZggIAgIAoKAINA+Aq4h0Y6b7QcSH4KAICAICAKCQPIhYFWVhzOqWg0d8JCBNPkaRR8vsRCsPVRBFRUVKiXwb/qqfvUs+5FHHtGO8tsrCPChVmvXhqpquP6G69VBZeeee66TJz+IVm2iS5sMHjyYZs2aZfzqCl+0aJETT6JauDXrcx4TtYRSLkFAEBAEBAFBYD8RcC0G9SwQI6fLbT9jl+CCgCAgCAgCgkDCIOAQqeqkKzeRYr5WmkvCFFgKEvcICMHaQ1X4yiuvqJSsUmb3u0AkWHuoEtpI5rnnngt5whKo9/2/+0Lc+IalU90moCrT7RK0M8mqja7p9evXBx8msC2EegZcolkugStbiiYICAKCgCDQcQTcE0AVGg6t3DoerYQQBAQBQUAQEAQSDwE7QPJYaez6xCtd1NDleeIVX0oUdwgIwdoDVfbyyy/Tn594IpiSfU8Yl+0lJcFnYutxBF577bWQNG+++WbKzc0NcXPf2Pd4OOHq9sMEKx92ZU2yEKy2vIpY5XFQVo0WErkKAoKAICAICAJh2xn1jMKR0BF8BAFBoO8gkOojSk8lSsG1J4wPy/L0FKI0/IUJdfRE8pKGIND3EWDpHR43sci0C/IwXqXvl0FymOgI4A0uJhwBlkzkPybQ+I+3hlsyzbrbMM49f1Exg2FNTQ2VbN9OX65ZQy+88AK9+eabVFdba4M4VyahmIBqamhw3MTS8wi4yc/hw4bTkCFDImbCfjRz3uhBh1b+CwsLqSA/n3bv2qWerV27tpWfRHbgdq2HPzMIJnJhpWyCgCAgCAgCgkAnENCzQA4oK8ROwCdBBIHuQYCXdFlpRJ9vIv+WPeQdMYDokAPUmq1buip3f05v425qWb6VfFnpRIcfCDdcm1u6p4wSqyAQhwioMdMOl/Yah+WQLCc2AkKwhtVvVVUV/ehHPyLeNp6ejsGOaSIQaQEmW+3VCaOnxopC4sGYLTB+f4Ba/E3U2NhEtdU15Ec4SzPZK/tjEopNajoGUDG9hkBLU7OTdl5BLmVlZTn3bovHyHvbenMq3O3J2CsrK6m6utrceWiXIVojeE0Yp2Dbhg0ayVXrZhI6+CBhyioFEQQEAUFAEBAEOoWAnvqpoNrKgyQb1wPtIL+CgCDQGwhkplLjfa9T2ey5eg4LQZv8q06i9G8ep6VLuzpPGank/9cXVPa//yR/eY1ac6YdMoQKfnkh0ZBCwqKyq1OU+ASBuESAR8lWy0pLwMRliSTTiYiAEKxhtcrSquUV5VReXo4nmihSXsy8t1Wn1r5aTYu5rzO3pF8DsJuAwelzMKZBg4JbyVVa8tOjCAwoHkh7S/epNHfv2k1lZWUR0w+AOA8xXIVtmJ07d9Lu3bvN0wDlQ5o10U0QHfNBwTrYxp/oAEj5BAFBQBAQBASB9hBoNXewg2V7AeW5ICAIdDsC2Kbv2bSX9v31wxAmp/Kxd6nojKnkHVTQtVnAgtFbUUsVz39GTTuC64+GRRup9pUFlH3LaRQQgrVrMZfY4gsBjJmQ2wHXoi1qxHQPm5pwia8ySW4TGgHRwRqhepX+SOWuerPq1OoW/drpz7Bbo+kk3Bk3vgT7OkIoB+vbXp1QdOIJJ1pHufYCAqNGjXJS3b17D23ZssW5d1usmghTza7G4Pal7evWraPm5qBkbFtqB1qHjGMXA4xq7k5HQXl4VBQjCAgCgoAgIAgIAqEIOBMK69zKwT6QqyAgCPQEAl7sTtxkBCRc01feqO8tr4s9B4iH+K89Ay+BMkitVtWH+OSk/XurydMk0qshwMhN8iHg9ENY8N9ZVsbQvZIPLClxX0BACNaItaB7rJU4d6hQ1cHNM6ezcwTmhi88UOInSNIqB5OKDmtutFQrbi666CLrJNdeQGDmzJkmVV0/Dz74IG3btq3NnLgPLozk6fPPP6c//vGPIY8mTpwYcp+QNxHav+pDIX0lIUsuhRIEBAFBQBAQBDqMgLNQdELKgOlAIRZBoDcQwG61AHSuevnAKZfx4aArf0GmyyWCFYSqBwdUeaA31b9uJ7Ws2u4sESP41k7o8oHCbPIUhKon4xWJb1A+BVJC89FmPPJAEEhYBFglIygWQ6OE8jIJW2gpWBwjIG/tiJWnJ7gBxaShN4fMgM0zDmc6eusoWP+k9mdHVu3VupnAuD3ppJPomGOOaR2FuPQYApdeeqlJS9fPggUL6O6776a6ushfqkOaQ1gua3GY2V2/+EWQoDVt5IILLgjzmaC3CkLd/rnoQUnuBC2vFEsQEAQEAUFAEOgkAmrIVPMEM1noZDwSTBAQBLoIAWzH9w4votxvn0IZA/IoJTON0nHNu3kWefvlRE9kdyU1/ONTqrz3Var44bNUd8+rmAi3I4HKE+XcDMq56GjKGjuE0nIzKTUng3JnTabM06ZQQA65io65PE0CBHikBMkakZdJguJLEeMOAdHBGrXK1NTXcqQhPvkrCo+JikTCE3vVvCrumIUzwTlg0Gp9Bqi4uJj+8IfHQuKVm55HYNCgQfTtb3+bHn/8caci//LEX4i3+d933300ffp0lSmvV3+P4APP2FiVAeoGP++88zbdc8+99OGHHyon20ZGjx5NRx55pPWWBFfd/oVcTYKqliIKAoKAICAIdAyB4IRQSeTouWTws3zHIhPfgoAg0NUIBJpaKPOKEyj92LHkb2giLw6h8o4coA+4cvXf8HRbFm6g8ntfIUup+oYVuReA4d6D90gvBWnlDutHflYVgJeC74B+RP1z5YCrIEpiS2oEXB3PZU1qSKTwfRYBIVgjVI2d5loq1O3FuumvKOxTu4T2ddzhv3rCP2zsvaFaBw8eTC+99BIdfPBY/Vx+exWBO++8k15++WV9MBXqzI9/H3zwAZ1++un0lVNOoauvuYb27dMHYVmxzAAmQJs3b6aFCxfSs88+S++99x8cjlahKl7x6+Zwp0cf/b9eLVvPJx65/fd8PiRFQUAQEAQEAUGgjyFg54XIVvhcso/lVLIjCCQvAtju74VEqVKjimmtmvvzNZqpa1Dkqlr/sb9YdLCa+HhN4YFqAp99P/CXFzncKhra8ixZEDAdyulXttytHOwDuQoCvYuAEKwR8Lf6U/U4it6r2DJ2BaHqdHJjh5sHjoqUtV7dcSIS2/85vpSUFDrv/PPpwQceIJacFNM3EDjggAPomWeeobPOOot4mz8brre9e/fSP557Tv0pR+NeU1NDX/3qV62TqWQO4TQXNRm77rrroAbiROWe8D/ttP+EL78UUBAQBAQBQUAQaA8BPblUvpx5JX98d7m3F4U8FwQEgR5AgEnOTvRLu1bscA47mV6H05EAgkA8IWD6oL7YxSZ4GfQX5aaX3/FUIslrgiMgBGtYBfO277w86NrBX3p6uvPUbvd2HGKw8JZy/ktNTaWxY8fRcccdS1dccQUNGzYshtDipacROAWSqqwm4LbbbqM9e/aol7ah1ZEV+/Y2L3OHNje5xBveAyLemRvh/txzz6Xf/fZ3qv57uiy9kh7KrAa6ICTK5nbrlXxJooKAICAICAKCQF9BwE4nkB81Psog2VdqRvJhEeA22lPt0vaH7k6vJ8vU3WWx9dSb157EszfLKWn3AQTcjQ2dC//1mtu4J0N/6wO1IFmIHQEhWMOwys7Opttvv13p5AzVsenu3Jpuc/dn9qu2dyA+dvf5fMRx5eTk0MCBA8NSkdu+isBll12mCHA+5Gru3LlUXw9dSMq4als1Bde99WGcWBqWD86MCGwVAABAAElEQVRitQNc/0ljgItWPaz7SpCcThoEpKCCgCAgCAgCgkBMCITOKmMKIp4Egc4hwCfRs6SINc3QEsoSAdb4vOTBn3KpayRqbMaWOx8RdI8S3MkP/xxmfw3nAXvgPXymARILQL8pp8WSaJSWQoH0VDzDeorT4+3xrix2OGmUmcvEJlCPdGqbyJOKMqVj6ZuKtFQaSICvkQyHdW/x5/z4wzLEz00aKgqs/UIMl5fTdPthD1zecDw5LsYFF2Ui+Qmvx0h+TPCol/CyxRIPh+E/YOBhPFFvAbQRL/AMoIwBxqalZf/qLGqm5WHyIhDW7wAEN1lpbMnbIvp6yYVgDashJkZHjBih/sIeyW2SIHDCCSfQnDlz6I3XX6c33vgnzV84n7Zu2Rosfev3vCJSx44dSzNnzqQzzjiDOI6kM8BFb4tizcRGbYYCgWeLEUBLOoCkwIKAICAICAKCgEbAGRUxROqPk4KMINANCDAxuGwrtVTVafIS974J2EmXn6UJRJCNnk17qGHeOmrYWUZUXkdUA+ECkJ2E0+zThvajtPEHUMqUkeA8EVc4MRhLlnkayPHVNFBg2XZqXLeLGreXkR/peOCmCNasdArkZlDGoAJKGTuYvMhjAHmjJpC9HTEgaj0g+/yLN1HjmhJqLqulltJqCuDwKCYDKSedvLmZlIZDq9LGD6WWoYXkaXF6o06JSd5V28m/r0oT08DMA//eIYVBohplCmzZi799FIB/LmLTym0hOW2uqCX/x186z/mhEsbJziDvRNSBJb2ZXC0pJz/HB4z5fUDZyOchB4B4BkHL9/DrX7SJArWoG9i5jL68LAocCj82Hk6gPcN+1++ilhLUNafLTBXyo9oE34cbkKoeJqRXbaNGtKOGrfvIW4ly1YKIT0slH/LpG5hPaeMGk+ewUfogMBzaJUYQ6HoE0D7RORzVjF2fgMQoCHQJAkKwdgmMEkmiIdC/f3+64sor6ayzz1YHWW3bvo02b9pM+6CTtbQMk0JMgFiNRH5+AQ2Hyoehw4ZScXExjR49OtGg6Fh5zBw1ELJaNI4di0l8CwKCgCAgCAgCiY8AhkgZJRO/mnurhCwlWvvAm1QH8s4DCUg/JFSLfnUheU+eAHKznuoefotqP1pNLSDOWlhyNczUQUrRNyifMqeMoKxrTiYag/MjWMo1VgOCzgcSr+mfi6ny5fnk31pKLXsqI6bFUar0BuZR6kHFlPuNY8l7wiEgFRtiSi2QkUaB/yyjmlcXUSMTpJxOc2SyLyUvk7xFuVR4E85TOHl8CHHsAUlb98T7VPv5RiW16YfEZt43j6N0/LGkLRue5tb/awnVPPuJloqFm78mFJfGshoqu/tFeFZB1E8AZG1acQHl/fUGxG0eIM6mD1dS1d8/Ij/ISSacU4YPoIJfX0iBwSB1AyC2QX7W/eFdql+7E5KjID3h5EO43Je+p67BFKLbfCCZy3/9EjVu3qvKFgA+mWMPoOz7v+mUQ2cUv5mQKAbxW/PH/1D9gvXUsqucWlh6NcxwKVIH5JHv4MGUe/WJ5D0Ca6E6+HOVOyyI3AoCnUCAyVUeL+2IyQ3M2jsRnQQRBLoJASFYuwlYiTYxECgsLCT+mzJliiJVm5ubsQNGT9ZYvy5LPPPBZWJ4HqWlVtVw54x31lUQEgQEAUFAEBAEBAGLgF0a2qt1l6sg0KUIQNKxCURjc3mNE62XpQ9La6nqtr9R9RcbHY7CtkV75QBMwDVtK6Xm7aXUsGI7Fd55LtH0g4h4e397hreUl9dSxW9epdr/rlLkLgfh+K1xp8VuKj1IVzbjr37RRio4+3DK+tk51Mx5jmJ8OZlUC+KwgklcJmTNPNTGH35troSkLv78IA194RKguG/ZV01NIEitCUAC2Map3ECCNsOtid0h6GqNTYfv2d7EUrBhxhcmKcpq5vzVDdS8p4r8wJvDEcpDTA6rG9wjvfTpB1IViE5ruAbyPlkDgvjQ1uoLrCf3letjVQnVfLHZ7UopLHnK6gfcBpKpgfdX0N5fvUQtuyu0CgA85+wwtPbKQfi+EW2M8NcAUrrox18n34VHQS1D9DrjsGIEgY4gEHqAnOnkHYlA/AoCPYBA2Nu0B1KUJASBOEWACdW0tDTKzMxUf3wImpCrwcpUUqu4DR3u+DsjT8PECAKCgCAgCAgCgoBFIGBIHUtWWHe5CgJdjoCdhplrC2ZmVTf8iaoXb1STNvu4dZvEh3PzEPweNWzcTeX3vEwB3gofRhJGynNgdyVI3Kep+u0lDrka7s+2f73J3pUePDJRWvqPTxHH3yF9i63ybRgv1A/UP/wmlc/+FFKkQXLV7T20bFwoU7BwctUGasvdPudrW37C+rYtm5OkOw5rV1nSeVKYhMfNKgG+Pp3CUah/aZ7Wl2vjiXJlydzaF+HfZVLglgIpYTfB6mWdqv/6gvbdMZuad5aHkqttlc3EyRLSe0F0B95c4kj7upITqyDQcQRMV1UBuXMY43a2bnIVBPoCAgktesd6bqqqqoilDvuy4a3mQtT15RqSvMWCgNWJowY8/PBknI2Wa9V2+e1dBFowQd9TH9xql4oFUkF6Wmvpjd7NpqQeIwIt6GS766DDzqzauMsNzIQ+tPCFWYzxibf4QaCiEdt+jaQTf8bKx8e/rCgERPyULIlyagdJFDlUKieJMJCi9gwCdkww87Ly/30T0pnVKm0+VCp9VDFlzBhNGYcOIxo1kFp2lFHLF5uoGqoDmkCq6g/l+rce+lNT311G2dBJ2urwJndp6hup4X//STUgcXleyEnzldPzDS2inKPGKB2oKcOKqLmpiZq/3EFNy7dSzfwN1FJRo0c1NZcMUCW2/fueHEzpV51IgXD9niADm5Cfir9/rJ45acE9+7ADKfvMaeQZOwQpI+1t+6h58x6q/Wwt1a2ECgFIsHoxL4pubIyhvgIsdAF1CTkszWsOn2rCtvsGSPraCTBLpmYdNVoVnGPhjs46VtOhZ9YM26GRuu94L3SY8UB/bM6Jh1LFByscTCvnrqXc0hpqgf5am25YMH3LGWhophqoNXCbjBPGkw/b+1UF8QPUT8vybVQO1RFW6lk1H2SH/eUeP54yjkKZocKApYxblm6m6n8tpqadlYjCiFRADULFH/9NhSdCvQMHdr3r3GmLXRCICQEzQLp7ojSrmJATT72EQEITrEyufu9736MlS5Y4BCYPdky8hpiwXup0YFjUBmf4jxjORuIKb/3Zq/USenVSUNvNH3/8cZo2bVqoF7kTBOIMAaUTB01bdS/XajGst8VZqRIouyBfZq/aQDd9tAhrIg81YAJ86rBB9Ohxh1FxJibmYuILAfS1LVW1NP4fb1I2JFB4cVSDw0DWXHIGDcvF4SViEhcBbPN8avVG+slnSygbh4/UQ23NleMOpN/OmEIZvAVUTFwgwDNBnmWqsVMGyrios7jNZNi6h8lVbn+ejFTKOX0q5d40i/yDCzR5CQLQx4danY73yaa9VHk/SNL/LKcA3jM2msbXFlLmrMnkHQWSNZIBudn4jwVU/g7IPE7ItG9vJnaBfWUi5f3gaxQozqMAdL7yh1/2knbsOErDeirj0zVU+eCbVA8CVIdDDwGpWv38Z5R2BIi9Q4eG6kvFoVt1n60hteWfk0JkXrwXC64+kTJvnEXq/Creas/PcHiWD+/IPOiSzcOhXhX/gP7U4UVtbK+3nVJf7YdMFZGKLEBp5x5B6ZccrfOJdFvmfEa775zjeMkaMYDynvg2MuR6L3NhUeYAS9q2MjZNPHBZHW/Qn5py2hQiEKzux/WvLqRUlJci6Ed1wmKe4Ae52sQHiyEPXJecldRjxpKnMBv1C6WubHAYWO1f/0sNIKL5OafDfjNBJOd/96vQr3oQ+VlXL7eTQ4ZQyqkTKeOMaVAD8QrVQD1AgAlrVEIjdP42vjSf0i45hlgPsBhBoPMIcCtUzcroYOU2aVtn52OVkIJAdyGQ0ARrQ0MDffrpp7R69eruwq9L4q2oqOiSeCSS1giU4UCqffv20YgRIyg1FSeYiuleBPQYiDT4owQPgN2bnMQeIwLQFbxsVynd9uliKmvQOrHS4XbasMHtk6u8MOA/HLLAE3Ce0ojpCwh4qKaxRZFr9XV68ci5ampXGqcv5F3ysF8IYGF74ehh9Ptla2hdpZZCY/u0/oV05XgQEHgupg8jYMZFdTEHQsp42YfrK4GypigJw0uwZGHBVSdSxtUzqYUPWwoh/DDeg0QLFOdT7v9cRD4QphVvfK6RgNcGbP1venMxpX/7lJCt5coD4vVCorLq0Xe0fzR0butMbBbedgb5LjgK/CJcQOS5jZVM9UKyNf93l5H3J/+g2iWbnblkI+tk/WAlZeIgJbvdXz2EjtfADrOOMmXz4WCorOtOoWZFBKqeppMyJKJyOXwU5R05Gqwoxs9wqVjlmyMLGlcsQUfGiNMwxh9GJLK0aoDLGfOHL6RpysBXa7Xx81wsZdxgyhzeXx1aZt1r3lhE/a45iaK9+T2Y81W/+YUmUk1h0oBl2sRhmKsbB1yaV2yjGibGYWyZM8cdQAWok0BRDnTFuusN5WOPyFP+HedS001/oUaW4IVrAGRvDdJLOxEHiPXPbYPE5sBiBIHoCDj9AI3Ntkm3LXpoeSoI9DwCCU2wshQp68xsyzgd1uXBTnKdZ47F5QlWJdnq6uZ2FNRfODGwhHpv7Z/jQNw8pvFBSWK6FgFWCzF79mx68MEHiYn2fv2L6KEHHqTJkye3Smjv3r00+7nZWsoZix3+KsZ1w4brUVkdS4gr3wSN8cO1r9oB7tnOulszoLd1xPDhdPCYMTR4iN6qFAyYODZ3+7fztcQpXZyWBI25BmoBfvzZF7TLnMTL7fvi0cMh9TYq+CIKL545vO3zHXvove27aXL/fPrKCLRdK+UQ7l/uexwB+55yJ6w+6rsdxJ54CGBsGZydRX+eeQSd/NoH6JJ6WX3Lx4voqOL+dEgRtnsK0d53693MLziDVrWOjJd9t7oSIWe2yanZKRobT1ezIH2YcdVJSuKTIAUa0UDyMwByMOt7Z1LtO8tAWDY5H85rX5hHaVefCN2oYessSFk2PvMRNSlpSp4VmvTOnk6p50xXh1hFTMs6gqT0gkDMue5kqrv1ryEqARpxoFP61w4jzwGFQX4FeSKoI2BjvlconaT+XBwS5TrYy0bvXJlUjUisOj5CLLGMra1QtMCHxNTODVeOMS6rdkHdeQfmU9ox40CwfowCwxmeGrfuI+KDq5R0b/CDq42HCV7P2p1U/2UJ/OtYOWjapOHkO2ggDtYyOUd9N6Je3eXwQRo47+7zKVCAnTFtSMgymUpjipU0dPmTH6iDujiVFkixtqzZofJM/gj5cjIoFkGgbQS4LZmm7rK07V+eCAK9jUBCE6ytwEXvdAZf+9D0WH3BNMAMPDyQKr9qREXXNv6sxR7owzMTjyHlNJ3m8uuE4cT49QDjuLnSMmlqD/LbFQiUlJTQVVddRY2NetLFcZ533nm0bt26VtGzCombb7kZJKjeJq2qyF1d7ADD7YErUE8V2aonjsqNn8EDL5bYaK86EnzLV2cBpELXZVpqOmVlgWyFRO23vnUF/i5X/hPlR2Fj2ziuqg8lSuHitRyoh0eWraV3tu7UFYJyDM/JVtuJvSxVEYGIqcdk+7GlK+mvX26g7dV1VI+J8a0Tx9FXRg0VgrWPtgPb7fpo9iRbXY0A5g3HFA+gXxw2gX6+YCkPQ1QFFRHnv/0JrbjktK5OTeLrJgTcc0k1c+COLEYQ6GIEmFjVBrM0M1hk//QcCrDeZrN9vs0k8VE1UJRFOVefSGWPvau8cRQNVXU4JR7EWkYowZoCQq70LbyTlNEz5vT8LMo8F+SqcW3vEsBBST4cvJQ9ZRRVL1jnLJ0aVm+nLJCmKQf0QxQcG/6y0onyQKbyHTKm5p2QaqXFm4igEoBcEqbKUyd/PDGs1XyOHwNyB9JyPpjaoG2AFYCahZTDRpDvtQXqQC+uW5b+rXv7C8qYNjIigc2HW9V/tIoCpXrHA2crBWoBMo87hPy8Q8lQqgGMITXvLVe5ttnIv3AGeSDp2h4ZHcC8MQPqH+hZEL9WJQPaSEtZTSznoak05UcQaAsBp2/bF5jt6yoAt1YxgkDfQYDfqklidOdTX2/NREONXaqj6kFZDdS2j+KhHtvMtET1bIaKXeGJL8qDnjzYYOzDEnHK7k6LHUx6KrA7ED8T02UIMGmqyVWAbHBev3491dZi0hVmWNrVDwmguppaPK+jmpo6qsOV/dbgr5bd4VZTx/c1VIsrP6utqYFfuOFax+7sB9eaOtjVvQ5bU1NNVdXVVFpaSrt27qQNGzbQB++/T1dccQWNOnAUPf/882E5is9bLb0a2v51f4vP8iRErjFjn7dzLz2yfA30kOGFhf+QY6D/O/5wGpCDBUkEcpU/HOypr6e/rt5AS/aW015IvzY0B/SWvoQAJRELgQWWec8567tELKaUKQSBFOhSvuqQUTTzgGIzHyFaWVZOt0DPMoHkENPXEUCndc0l+3puJX9xjIAZH1QJ0OYyoHc0ZfJwhwhrt2QgzzKhq1UbFjTQEfohochzBsfgo20Ah2A1l1U5TmxJQ1gvDs/qiGGVREzqsrFrN9bX2gy9sI4aFJ7WgLz194fUvvaoulTzvkoqvesF8uDQqdi35+so7G8shKr1a69+NxbWMcarHru5QAZPF6whUWC9kjphOKXggC1+fTA6jFXN/PXkwaFdIfXBjzkebOuvg37UFkgH27k64aAt73FjQZwaFQcYTzzLtpGVM9Vxo+5mTYo8V+S43Qb58uLgK48ibJEo/jeD+G0urwum6fYvdkGgIwhw11D+g7yM7Sr2SUeiE7+CQHcikEQzcNszNSEaBNUOIcYFtzw+qoGOByU2yguHZwf2wHb1RP+oW+PgBNZ+wlMLCeiOwxWdWPcfgbx8M9lSFWXrjedk7o0vpvoMI6Gqw20PyYauT+UUod60k3kQ4bkNp9qDq41s2riJLrzwQvra175Gf/rTn6i4GAvlODXhZbP9pi044rSYcZXtRugWe33TDioB+a8m2aiMr48cSqePwcIqTFdY9IJJLUbHp7efon5MFe3H+q63CyHpdwKBA/Jz6JpDD6L5u/dRtVkoP7N2E91+2HgahN0SdjtoJ6KWIN2NQPhcktOTV213o56c8Zu5rZkNU+aYIaxWvUOmJT+TeNEIraNOOC8TrJCadJxAsDat2gaJSkSOxGwT94woIsqGpGkHtuSzOqLAQXZOHFxNeThN3tIOvbDKgBjMmjJC6YRtZqlaLiRM/YqttOeCBynnyhMp7UwQvCBiCdKfKrPBIii/kX78iNdtQu/cT4J2r8E5CEjwWWw2TqWdzIFk9oAgTz90GDUu2eLsvPTvqaTm+evIe/whoTiD8PSv3kotX+5QWWAkPSleKjgVxGk6zqaAtLAymDw0s5oBGJULk5UmSA17Nuxu5W79qSv8ctH9WWlGghY3thilINt5vhmGp4pQfgSBGBBwls3cJtmotsVtzDRS7Sq/gkCfQSCJCFaDuemLrbok+ql140FC2U3HVf1YBdc2O2FgX64N44aYDU4CbC3beO09XyO5uZ+Lff8QmDxpMs2YMYPmzp2rRn3Wg3rZZZdRTk5Oq4hzc3NpCPSiZmSYk9RN5YTWrg6mHwVrL5If9sn6f3m2wd/ZAtheXQc9sPV12GrNf7AH25SO9/XXX6cbb7yR/vznP1NBQYF2jLNfhYoqsyvjQahcjmLtKQR4e/+TkERVxjS6Xx+JLVztbJkLb589lV9JZ/8R4PFLTBIhABKCD6ubOqCQPirRpz5XgsTgQ69+fTQkztrb/ptEUPWZopo+2tZcss/kUzKSMAjwXJWNHR58o0FcdnSwwLw2dWgRNW+Dvk8zt2vatIfSeL5rY2YpSN6ezwnhjy8+qCFIyc+GrYMGRKKXpSwRp9+128bDhyy58475TNppUyhz0QaqYf2htpBIrhm6Wcsfe4d8T7xH2fCT+lX8QeeoZ0Ae5uacQZfnsOxx/3SbsFv3I5dd4+xy6Lw1SoKsEiDrpENxiNRitQWfU23ZV031CzdQNghWd1CWxG1cWUJN6vApnR0f1Cqkff1wJdHqZBD1GDCSxyo8r4Hxf989rzheOmPx76tSB14RyFcxgkBnEOBuym2cz0jht0qwfQdtnYlXwggC3YVAwhOsLXw6pNuYvhipS7rdtN3tEowk6Oru5G2P00H/keKILFUZ9Cm2ziDAJOUzzzxDzz7zLJWVlymdp9dee23EqA477DB66aWX1GFjrIOXyVFds5o+1a91HVTr6IU7Zl76Rc/uuoYtqaqYdldKTc1NVFlRSeXl5VRRUUFr1qyhjz/+mObNm+fyRfTiiy/SqaeeSldffXVcHnwW2s71IOgaBUPKKjc9g8Drm0sgvRpUi/H1kQfQof1B4IOUiWa49tzt3qzNogXpm8/Uws9mDS00tJHaB/t/5XRMk4+2YNv/hNqPoVeERNzl5yxGWbS2X4IYfFisY/DaLV5C2hVS6O7yRisE0i7IzqRzRw2j+bv2UQP6dhPmPW+g73/n0DE0JAdSW72Zv2h5T/JnwddR6FwyyWGR4ncLAsHWxtF7QTB29L3Ac1xvDqRQ2Zjo/KzT0/0+hL2lQhOs9jXthX5UH0uPduY9hEjShxRS3bZSnS5+/bwN3s2icnYQd/Z3voL8ZVLNc5+AWIXEpMu0gIStfHUh+fCXPuNgyph5KKVCbYEnG6QfS8NGNKGYRfTSyrEzYdyRuMNrWtzt4vjEhzPfYaMobVgR1UEnrYW2afk2oh3lRK76DUAHauO8dbbKVBQ5x4ylAB8UxmS1NcC6ubTG3uGKlF2J2/p0eVDWcHd9H3QN1KEuwtfi4ZHIvSDQDgK6KboapNs/NzcxgkAfQiChCVaWWiwqKqK0tDRKTdXbQhR5xiORmRAoKk31VzuQaYKN60hNec3XEvbO3hTlhvA6uB1AEItyM55USCbhbBwckG90OJU8YuL4mpsaaeDAjuklQjAxMSAwatQouuNnd7TrkyVXjzzyyHb9daWHjRs30qJFi+jyyy+nOki1WvPb3/4WB199Ky4JVi6D6h+qZatOZYsl115AoB4T8HsWrwhJ+U4ciNMmuWp1NuJdlZWSErKbi990aaxXy/qxsXI1s9oNfqn5sF2PPbIx7gE8s076QQy/HI+bJcRCKoDJOcfD0XrCnzNZ7Fb9we9aPrgD+Q1Af2xJbT2lwj6QJdRxurHKK0v1cZ47azgNPiCM/yBJUlpXTzXYnl2Ag+xyM7AAZXfOVy8sKvanWB2CQ5UfOKN+aoFzKSTzM3wp1J8PPMGYq/afdgRniylf2XD1tEA3nK0mmx4/422maUibC2v1x7E7B1Xt0MTBbu48cBvmtsFpNGHRh/yqMBxHNOBs3jg8/DU0QCoKklGs17gwPZ0yUe+ELZeqvrneo8XFeTKGi6b01XG8NssclvNsDeeXy86EAsfNfZCfu9sW7q8dfxA9uHQNbYG+b45iZWklvbJxO31n8thQvzZeufYeAraunRzwfJE/2joOYhEEuhQBnptpw1c0tExsDe+g4XWOH2Sd23jtlnvjyK/KgFI/FPxo4OF3GG/n72T75gOa2jX8bizMoawbv0LpIB7rXpxHNR+sNEc3BUPzm7V27hpqWLie0j9aTbm3nEaeUQP0+zXozdgsZq0edMCho3GYtaPCKohhqwTxvAW4ZJ86mepWbNNjAzw1rS6hlvU7yTcoH1v14QnJt+ypovpPvwyJIvPKE8lvVQO4ngRCdjdx3oOVFrS5AoT40O7aX9C3p5H1vrpjCg0vd4JA7AigJanGhPblblTB5hZ7VOJTEOhGBGIYtbox9W6OmqUY58yZQ/U4sEVJF3Zzep2JnicsBxxwQGeCSpg4RmDUqFHEfwMGDKBZp86ihsYGVZp169bRypUraepUe5hAfBUyZDrI4yA+UIS4xVdx4je3IChf3LiNdtUEpRPOHDmExhXmRiwTcze/mbeUmvE+8mGFtBOk5NbqoORrEwjMf24tocxPvdSIhQw+FWG2DL8gfo4fPIAGgFRjMqeRJ/RebOtDHMcM6k8nDhvkTPwjJhzm2Ih05qzZTOurqtRhXDy3H52fS5eMG6niYTLqpXWbaXlphXrOOmZPxAE/JyAPPiZlQa5tqaiiB5Z+Sf/etouqMbHnvPPikp8PhqTf10ccQDdMGE0FTIS6idmwvLR5izJXgVx7Bvl8bv1m2gqdb01QA8JkG2PHZO40bNc+Z9RQ+sa4g4ATlnQMcDcYd6xcRu5rPOfsVsMraCyY396wjZ5du5nm4hC1etQDl5/rnQ9eKs7MpLNGHUDXjDtQH6bGi99oBuHWV1TTK4izlklVlCIN8Vw/fjTlM2ELwv/t9VvpqS830rLSckVmc1rfHDuKfggCMdsQ/2Wol3+s3UJ7GurJhzg4T9cdMpoG84FuaBtfIK+PLl9LC3aXUgXaRgqKwu2H1WYUt6WvFGlXQIfxCxu20r+2lNBiHPzG/YQPW+Elo8/jBdfrofGF+dBvfAB9A/qNFeHaXpm5lGgrn5Tspg937FbxcYzDc7Lp4oOGUQaXCTj/Ffmds24rrausUn0vBWHumj6BLh0zAr6NQX6yM9Pp6kNG0i/m8wnQHtXu3962ky4cPQykt5E6s/7l2rsIuDuuygkcjFu399/eLbmk3ksIBOdh+9HQ8J5p2FWhSmDHGypgydRgoeAFUqFG3ZZx9kNKMhDp8KVgsLZtGAcaSsrUuOYkk4c04d7K8NwE44Lv6IMpe+Iwyoau1rrZn1HlPz93Z1EFa8FHurr/rqIWEJL9Zt9CAUjZtvuFI0KSrfKgcgpX9ssZZkBiNEqexx0EcQTViESIBER26lmHk/eRt8hvxptmzPmalmyFdCvmHvzRD9K5TfPWUjMTpyZPuROHEx08OPRDHkePrCpJYyepAKUVZlPeXReQBx+nMbWjFs6T9ko+3PtxY688ylu7jYLVMCiyN6xN2OdyFQQ6hgAaHf4rYwTglJ0bpRhBoA8hkNAEK0uwxvOhQX2onUhWugkB1hN7zXXX0KO/f9RJYenSpXFLsKpC8ASMx0A7DtrZmFNCsXQ7AiB9XgJZpYzB/7KDR1KOIaJC0seCpArSh3fMX6om0IqiQxj++GMNWxdg+/FC/LkNk5a3TR5HJw4ZSPcuXqlIK7sgOH34EE2wugNEsyOuL3aV090Ll9M6kKScbf4wdh6IykvGH6iJWpCbjy1fD/J0hxJC5HztA6l2ZHE/yval0nfen0+PrVjrLACc5BAZ52tzVS19tmsv/c/ny+n+Y6bRddhC3RGSlRH5x+qN9L1PF9NukNARDdLaWFlNL4AQvHvBcnpy5pF09AHYpRAD4RYxviiOjBEbvnLe2LRDZWpPnf3FmPrlvnK67L15tBAkZVtSd5sqa2gecL5n0Qq698jJdNNE4BzNoJ6XId5fLlpOlUbaJSc1lU4FQX9oaj5994P59CTI1WZeQLviWba3TG2JzzbCWLshSfxr1O0OLDItJkcV9wexnkG/Q9w/n7+M6tzSoYgrD4d8lGOhqghWV9zcwJig/+2CFfS7L1ZRnZGmdafP3uFNvevWgSB+bdN2+iHaxi+PnEQ3TWinzBwY7fk1fJh4YNmXTtmmD+xHs4YVUyryec5bH9EnO/cE1+imUCvwgaGVgf8bxh+MMjLBqnPJ+GzDh5L+mSA8XP25VVhx6FkEuB5hbBtlu21X9spuYgSBrkKg1ae3Pby1v4OxV9ar8cXdbj398NHW3WhBqHkLQFa6CNCW2galNoA/aHXI4OXqL62lFrXdH4HN5MKHw7bc8YfHqeYuOXjnjR9Kmb88nzJvPY0aX5hPlU++r4lGE4Cz3bC7gqpv+xvl/e3GUH2kyo+7YHAIuzXRRLzYeVDEh204es1HO+cx0rOkq+PmtrD/ftmUA3UHlf/6wnnS+NlaSjt3Onn65+KwsRZq/NcS/czkP/Py47DBJNJMAa0kL4wcxwdkHw4Q8/ABZTDhpAHkkpUBlYuP3tpYN3MrF0GgyxCw8y0dIRq0fRmZtt1lCUlEgsB+ImDfh/sZjQQXBBIXAT8mIo2NjVRTU6N0qFaUV6hrczNLWu2fSYF01IyjZuhIeOSA2b7NEGPaNf5+MdAFJ/PqJv7KkAA5fmfrLl0KVEFeWiqNzsMBb6aNRSwe/LGsJ0u6OOQq/HOrVC0TP/Ci/4zdj9l/A/rHCUMG0NgC1ukWrPsvoXf4850gZEHKxWY8NBekHJOrnCCnlQmpw8vGjkDG+E4bJvXYWL6IpUb31DXQkS++q8hVDhz0rcME84Un+F+DRce3P1hAt3y0yBTO+GvrgjRYSpPDXPrvuS5yVSETGkolod3XoCxfef19ev7LzUgngt/QkJ2+0/1Nl7rbkkHEf121nibMeQvkKhPt3E7azjLng0+1/+7Hi+jG/y5CFUbxrGNz4mOf3A7rIX1z1/wV9MeV66EVwJCriNgiydIzoQYLcpMMSzKx4XSfhbTxDz/9wkWuBgO2la2lICePf+U/9MuFTMrqc7MjlUCHR3ycL1zKICn0XbSrWW98SFVKaiiYVmhe9Z0qK35s3F6Ubh+2bl7w9if08Y49+oGNwniyfkPiQ0b64yCZg7kfGrOxqoa2QfpWTN9EQJMntnLttW/mVXIV3wiEt66mlds7MDaj7EyYLtuiQHCPNymQFHVe3PwU8wFfcQHehfBvEuX3VROITKXaRcUQ4w92Bng27jaeEYt9/43orz5OxRQLhwEJmQbVAYP+fSflf+2wVsGqFm+C1OdmtWPA/ZB3QbAxxXBZ3L4i2x1i1Akc2Z/blccs/c/tGt3OW/ozLz7aeNKJ1S7dTMSSxny7rYxqV6OujUkryKYU6F91Bkr7gK/AKmVQP7cLNWMM9oboZQ15LDeCQM8goJo25vbqHYAbfr/AcH8RIwj0RQTCP0b1xTxKngSBHkeACaYVK1ZQSUkJbQPhyTpTN23aRJs3b6YmSDVlQCLo3nvuoaMggbo/JkTKWo8cUBfQuD9R9pGwdgrOAyFGRDUo9pGsJXo2sBBatqcM5FawHU0qKqCBUaTY9NZupnb0hIXpJHVqr7vqYE+DxB2LVDD5xfMbPt03BZas/Dw6BpKCiyDVyNuy2WwGucME0bRBReq+vZ99kAh9H9ullTHtZVBWBn0dh/eE6Js08dv4ylDOC9/5FNu+mfRjE1CSurwtOh/Sic1g3Eoh5boXekKbmH3jQqqLhx6GKoEibEH/OSQOlV5LFT7sB+Vjgu3Sd+fSy1C7oOZ1CK+zGCDOYz/o4EwHGVwJvZ4sPVkL/zoZD+wtdMunn9NQHDY0YwgWhpYBDEtm/251bjiOMHj2L1oTmmP/C0hOJg6bsYC2ZWMUciFpWgwMciEdzSR0KfST7kJdcj7YH5v/g1TxAGxhv2vGFODc9ocphS0HQEAO/09syb83TI9whpflY0C+sloCYBksOQeEsQ4GiJVlFfSjuUaCR/tQ6gd4qz3XDW/3t0HMY6VC4Px3PqEtaMNs1HPjifXs9oOO2Wzov2PythzlLcMfx6W96N93tu4AyfoBvX768VSEE5vbqne1QLBAIa3mgF9J8n5Qoj+Q2LRZLzKr0GD8tXoClbXQH5DQrALjd+WVpo6IFuNdMAuSwKy6QkwfQwCVq9+mnC/dbvpYDiU7CYOAbl/63Q09pCu3Ukak92cb5eWT6CueeN881XH5MObRCOgvxTPH4B3kmTxcbSkn7Ayw6QX+u5rozGlEg3DIZozGi3de7asLTBw6phSM6b7hGEf5feZON1qcnD0Qkc040CrzF+dRAKfZV86e6+SNLQE+HAqSmu55gB2pbOnsNVpSzjPjOdDSoVDqLeAO0e70GXinTB1JGcOLqH6LngNx+Mb3V1L6hKHU/PxnTpbYkn3BUeTneVwkg/bghf5aNrbe2N744SpKvfL4jhPkHFiMINAVCKhOoXuGGjNNJ3GEQboiDYlDEOhCBIRg7UIwJarEQICJ1dmz59Df/vY3EKqbIhYqFaRCWUV5q2dffvmlImZZMpUlXMePH09jx47VX/Nb+WauoZk+/PBD/cTMaEaN0hOcCN7jxAmUAWaFeu6LUdAMhHGS+fjPJhYe/9xcElKOySBYi5lgjWRQUazD8v6jp6KqWI8mhB+wpe/PqzZAF6uWfmMp0eOhBuBi6Jfkw7OsYWJ2Wv9CzMAbiVUQ8DZuJpxYeoWJzU+g8/JKEJtMwkU18L8B2+rf226kbo3nqw85UEuVuA4y0vReMLbnoZ+yAWSbNWeOGEIXjR4B3a05NDI3W0ktslTsgj2lIPrW0XarW9asXJ5avUHpszyIJf9AXkUyP4V+WiZXtdGUCGN29SEH0WnDByvp4HwQbttBri5COr+H3swvIAFpG/8OSBGyvtKpAwpwEFQ3bKAz7w7OH9dfV5tPduxVKiTqgDOqSndptJuZ0F96JfSsTirKp8HQYcpE4zrU4+x1W1DeTaoN6Lx4gMkaugJ+R6Je2sLZrpe5ajitJ1E31hxVXARVEP3pEK4neJgPdRXDoK9Ukf7WE+fMlt9g8vtlaxURyl4Ohj7fk4cOUvpSM7BflQ+CqsE7OAfva2t2oM1fC5UETK6qspr3F+uW5YOkThxSTKPQrphUZrJzE9ROrEX7moMy2/bL7Z8n/iyR/TOo3nj42GltEpyK3uU0TH6/LK+i9VCxYA23rynoYwdCAp3VG/wbelXb0qXMuJ4N3be/W7JK1xEi4T5oD2Czccq1lxEwbYpzoa220boe9HIWJfnEQsC2LHtt2LqPmt9cTD7o8KQIhx2FlD4jlVregST/up1wRls1Y2fOCeNw6KRtuyYExn1PvxzKxPb8amxVt+nVrNxGaf9ZTumXHhsSdZs3fIjhqu1Uha3vShrUDA7pkJj1FWEMcWI2MfDAx35sgpEi5ucgF9PPPIxS31pCTRVazzwXp2njLqgsxcGY7nD8wGXCbl1Pgla7c8K6tJTjXc4DSUyG07PCCbBykWII2oJxIfey46n+npd1IMRR9+4SSr/+FKgOWOyk7MNBYyknjm9b+hf4eCAdnIr6blJqGXTQyr+8R/1nTaQAk+MgdGMyXB+skornbmgTYgSBrkKA+4R5BQWjjKGfBD2LTRDofgSCq4ruTytuUpg3bx499thjaks4Z5r7rR3k6qHj7fbbb6ejj7ZbMqIXa9euXfTzX/ycSveVtvLYgMO3fnbnnXTEEUe0eiYOPY9AXV0dPfTQQ/Tkk0/SmjVr2swAt4c0SDB5oecy3KxatYrOO+88KurXjxohzcaHVb3//vuKcAr3y/dlZWV033336UdmDnLssTFOQCNF2Afc3F8X+0B2ki8LWEC8Dck/x6DBHtovn9J4stsGgchE6XenjtNBYN8DgoelBy3Bys/5MKvrpmFy7iI7VQCePMNt2uD+NLFfAX2EA3v+P3vnAVhHce39o15t2ZYt27j3CjbGFJtimgHTTAnwAvkCSYBHgDwgQCB5EF5IIHmJHwmBhJ7QWyihkxAI1fTuSjFgMC5yw5blIkv3O2fK7ty990pX0pV0d+9/bN3dnZ2d8pvZnZ2zZ87Yr8qvrKxl4VMdL/rE087MAMnLl7MjtjVfYO3Vjawdbl0R319nThgdp1Fiz3lbLpsVrsoY5ordJrEQbDj1ZsGbKqtJcxgv7jWTBVV79utDP37lHXqHhZ82OyIgE2Hyr0W7Muh4kaFHeNGkv/J566Rsg1kb9XfTJ7N9WB7syQrJMizj/30qymkyCwL3H9iXfsD2YP/tCIxlgabvjh1KuwqLTDvz7JBobbkylYQI50RIKFqp8uxTjtP7KbeFH+04mvp3F9ZS/hiXv5RGc1vbj4XxIuD+33cXKuGewFnH2kxXvsPT/Q9krf9k7dAtAycknL8209uP4MWjfsf1M4bjthLk73FbqWOtpArF32ZMLtT79gX8c6OFKlrc1+8zlaZxO/bMVvDiZKv4Y0I1a6UqcCxovejVD+h9tgcrzmZJtI9FSHoEa4cWyorWprwSZjgLfPcf3E9pjood4hsWfKIWo5Jz4kTYPJvtCB/Ci8wlG5xKu3WdmFWwTuwbX7TzOKrh9C38/zdmiNIat2HitsxsV7ZHXMyCAtF2FTeXbbhu4gF4D1aihcsSAm6dy36mb9osKSaykT0E3Km0qslx1r7hxZH6TB1OjTvwR1JHoBaXaxa25fMiU+v/9A/l7b7fFc3m6fYstAu6xs0NVHHa/krAKs8t+yzeePO/qWTXEUSThjQv1OXFmfL5m+nGm5/TK92bB7G8cRfvze8pNdwPOPdMngj91m2mGNscVc9Jntae0nFcIhTO53IRz6IXJ+O7AtaM9Z/4ylvlW++ZY/cg1T4vCuW6Bl7gS7RnedVC1zvFvtSMkwvbAaUI7Xlzf5Q/YxwVXvU4bTf1uGXZOmp69SNq4P7NuvK9xlLBDiwkbcbFivKpnDWNv3ngdYVSstDAC5TV/fZR6nbdaVwfHF9LQlYua976etr+9JtUyPmKiUBc+kw4EGgHAfvc8l7M3LjQvFwa2M8CAhCwJqmEf/zjH3TbbbclOaO9Lr/88pTngidkka1X575KH374YfCUOq7q0YPuuOOOpOfg2XkEZDB/2623KeG5TtV7lCdkQgvb9YtQ8KQIR8eNG0ciaBX34osv0rPPPkszZ84MBlXH3bp1o5/97Gckwl15raqp6UtDhgxJGjYUnowlxoA0Pf4aro5DkfNIZfIjtn+qRxox6s8ruo8SrcGWnNVM5UoT7UHfZqZu62p6vYSx4ZLE95+s4ScCVpv2srrNaoryzqyBp2NJchF7yZR60fB03fGsLVslU6sd7VT3vNq3X7743vktC+B+vNMYlp3xMIzji3Nmmt4MFnz+ZtokOpHtqK6WgQLnSu79R3ihof8YMZgm9eGBpjNw28KmBe7ifMmK87ZMMlX7QhZ6HT9qqBYUusJCc+0w1pS8acauNPLux73r6viDy43zl9COe1dlTIvVMpU7LmZGsdaPE86Ie5kFdCL8Fqd0a7iMh7Gw8Ao2q6Ds7LntQb3kxqiMhfkXTh5LL7KJiH99uUI9B6Q9PcN2gd9Ytop26yemEgKDYMm4zbzEI/u83Y+1ZP/MglERcqprzGUiROzF5h0SnIlD5VUi4IgGVpbR3SzYncBCVlW/TpuqkTamguXRIhas3vHRZyZtjojzXMUf0/55+L40rhdrzko4t7ySuKnz/pyGCGFFkCxtuYmn+ktWRKtXFrKawYLdsjhhsFwsUUqkakdvTcFFuPo/u06kbiLQdfLbg/PTnBMu0/lDgjUxsJEFtmqBruYuwrkuI2CFT34GTAP2PbAHAu0moPoHE4t53NG25etp7fl3UtUlR1PexEEUE+GceZ6pD1ll/Kx5fymt/cUDtOVTnl2iHonSPmNUztPpC8YMYL8k7ZWfkflThlElC2/r3lpinqf86OQFk2rP+iv1OmMmFZ7CCy2J5qwI68wjUNLM42dkXu0G2vC7x2gTa7y6qzYWjuxHxftN0B/Z7NR7Tj+2eiNt+PUjJItEdTvvMIqN549ZItQUoZ4tj5Sdw0p2G9/5jLaKjVLzrJX0C4b2ocTp/LZsusze64bElcLl81R97VSvrIoWe+xtyjt5H37R4fKKkyn68id5THA2TTnh7icEjPPI61ZKlQfuROsff9vz/2bOE94+p0ZFe48jYjvdCX2vF4p3mH8BC1gLWcDq544XfGQTD7Ef/YUqf3IkkQhptxq+9lp572LBeIzLFbv/VVr3l+dJBN+9RvfnL8/cd/LHTDgQaA8B+9ySW9p/v7Mxpn+v2CuwBYGOJCDPXDiHwPLly+mVuXONj7lhnfv25JNPppEjRzpXtLx7wQUXkLJVlKSzvPvuu3nshI6nZYodG0K0ln945g+dRORRrl15OdtOZFurO+zAL23sZECk3giTvFhWV1fTFVdcIQE899OLf+rtB3dKS0vpUtZivpLtuV555a/p3HPPJTE/EFpn2FihgftuG9oyhSnj8qxiYeA2GXzohqrskYrdSH8Uk2aB/FsgvQt4UHXSmGG8Knt8Wo99scwIKFNHI1qu76op9X6YiyfzYCAohPNPmz3JZIynfHenH/Gq7aJpGzegCobn+GayNuE0nmruPNZpIdvpXLCOhdLuPc2DvVfZrutLK7RwUdKRa2YM6ENnsyC32bxxOiMkT6zh6XJ/lTV6ZbGmTDlbRd4080xF7MTza9ZC9V2M67eI7tx/muaX6gZn/1IWBJ4xfiRrThZzlWjaa7ZuUazjONvIdVXaI4VNhNknjBhEA2WBtlRp+VfoPTsKNu1fZrAePXwgTWDN4qRxWIg8sPz12/NNHLLRJy7ZZTx/oGDNKBtOh0j8lfzxIPPSXcbxPae1uuwlz7A9VqVJ6zY6G4PNrz3mhMT8wIn8gaEbL07XYrredf6OCJRdJ4tmwWUnAdVG4tqFbTXZmV/kKpwEzOPQ9HHyYVE3us28cNWaM26hrX99gQrW8XR2EZSJoPPLtRS7+d+07rzbaQtP1VdONc0YFbDgtYynpOf1ZU3SFC7G/Vz3y0+g4spS/7HLSTauq6PVv32E6v7zZsp7k4Wvm/hDpwgb+fnbyJqyjQ+/QetOv4nqeAp/jN8p7LtkAc+O6Pn9/SiPBaEJGpSiscrT/evmLqblx/2etl10D+W//gnlra1TAj8dfz4VrK6jLXMep7W/f9LkWt9r+Zw2zZqcROAZuBcDh0mL3r2M7NPfBq/l9Br//hY1cd+ZX1JIBbzAWOMNz/I7hA2hY0roCrj0Xr0lTczx5A9xBYdyGRy3dZm2ySpeJSKcZpus6XQoxaP6Ufm39/Rj4kxIfdY98yGtPfnP1HjXXMpbwQJqMQPAdZfP7ztNHy+n2IOv00bmX/urh6mBTVA0WSFs3PPNjxZ7IJA2AfVu7j+3Em+M+Hsp7XgREAQ6iAA0WANgV6xYQR+8/77xlRuWewYzsBNBmwhYReuwNe673/0uXcZmAj7//AvnMulxZCGZJqXBesoppzjnsNvZBI4//niVpK4VftcrLKKxY8fQ//3f/9FBBx2kzn3/+99X5gNMq/DahZtX0egSLdZZs2bRU089pU69/c7b9O677ypzAW5Yu6807uxBqLdMT94GTT9nWap7yHqGunxhyHwerWXNTPXebuqhjLUKKsU8gDlOrxRSe/InTi60+8oj9Q9Ls86YMIJ++44vlHvyixVqkakeIixK5vieuYlto4qzbWYXnkY/XmkMppfpq/acwrY49bAmWRJxfjxQ+PkuE1mbcjkvlOQLO1ex+Rf7rLfhF7PQdQXbVbVO0jh/Jxb8uoJYezK45X7jWyzYu+bDj7wzYmdWFlXKlMvL9+Oy7PwStT8VMb/wAmucqpox9/b5rFnZQ02nbCF+1uDcm7U2u3PbE7u8EsemhkZaLlMWkzUn8XNHk3wsZgaOZc3iZoXZcdngAamNw6ARIe2Pd+JppS19yOR6+cfS5V4blGjH9OjG6Q9ixZxkGY5LWB9wfz66ppqOYSG+mISwTuzSSvsaRyKQ8OtMznv5lX1z9kg2iTC+Z/w0WAmbrvPtLesYa9kOMlwWE1BNwtR+mk0ti0uDrGUhAf15kDPGzzlpYnmsud8kH174uIGFnmvnPEbEf0WVJcSPbtruTC33nkx8YR4LYCuP2ZVK2P5qk9N/JityU0036nnlf9Dq8++gRn7220efCOs2Pr9A/cl1Jb0qaPuGLSS2RD1nbgc5lun73Y/dlfKPnkoxEcgmc6ZPZhEMrRUtTqPJWcjC4GI2HdD4zWbaukHbXNWXmwTYFFHNZd8i4oWv+OtnspjZL/6ZnSKQ8s7nxRwr9p1AG543H+vYt2lbI9X+7F4i/hOtJumji3uUU6/v7s17kg/tbNdlj1u15WgKB1VT2dgBtHkRC8RV8UwZOaLCiYMpnwWnLdWZSpPbRvnxe9D2+V9S/QdL44q/jYXgtcrWq4yT2KZrdTfWBl6fnBC3Lfnnl7BVJUJgEPAJmOeWvhO5RfExHAhkMwF51sM5BLawXdQNG2R6rXX+TSwLFg0cKF8AW+++/e0TzUW2q+F4zQvByy+/3PoIcUXGCMjCVF9++aWqD1vbF154gTLrYIWrkpinacz1ZsMly0SfPn1o//33jzv19tv8whd5x1QUGG7j0v955fX3PC/sdAwBbptrWJgi05OtKy0oZAFrCuGmDRTYqhYe97Zvn1uBgMFDHjidzZqk1skjroGnhj3F9lxTtYItPJ3/zk8+V5fYMBKHmn5uI2pmW8OLd41jbdE0c6iEdVNZC9VfHElfuYztfW51BnibeKr3+6vXx6Usi31NZTMCm1hgKLYym/vbxJrEsvCT62SRIrGHmSnX1GRKzRvLLlNxi3bKc8tqVXSqPZgE9uLp582V254TflUsVJeFQ7TjD4r8Uryinge5yTIrfo4KTz7X6DTWOu0t5i3SfpnmnAbinsL1NZQXFwtqC5lM6Q3ncUHtOtrIbdG9/HheLG2I2PNtjeP6PXcSazizk/Zv3cK1G1nxyr8vrb/VJJNjSbuEhfgimC5LZv7AXtTCVpk9UGF0aWpZuOuWq4XLcboTCdg24r1VoKI6kX4OJeU8i6SJ9fnZ0VQ5nRdgDSBoqNvqCVf9c7pRFrDwsPuxe1AFT8NPuRJ9IL78vcZQ9f+eSCUD7dR5G8CPfevaTXHCVXXG3AeFfVhIe9ZBVMr5TS1c5WenEfYGb5/tLESuZ21KK1y195s8bfP5Gdv7kqOIjtqlGeGqza96rfUPUu1VlFDRiXtqW90mjHdv87HtAfKTfBDWeZdfn43TJaZKUfvzZXk13aloT5k1w06OzVO/oKqcSvcek3adiYZw3si+1P2/j6bSnYc6uZGIdd6E43bu67akEK7m84f9wsE8U4g1mJvteyVKOBBIg4C+PySgv5fGZQgCAl1CABqsAexbt26lehkAspNuRH970zdz//79qRcvXtQWt+NOO5rLnBjNSHDVKjsFtS0x45r2Erj3Xv6yLM7UxzFHH02XXHKJ9ov7NQ/14Ag+Low+kLaSx1/GY0bQ9emnS5KEiqoXc+L/6v7R72LoDzuxqtew8E+9xOsHGJWzlkE31uJrjTMtXV2iq9D1aSYmvjcG8Qrrhw7ZgZ78goWq5rKbFiyhsxzBqxcDTy978KMvlGajvLBLeNG+O5BXerdNxwvr7cSfGcECOLE72SrH4Qd2K6cFa+Rjms6kCFjF9myJTFdkJ4LQJWaBJOXBPyIs/ikv+LRFhKQmG5Jn2bVTGcXymnYxsmbijIfafMorzg+siBe8uudbs++V2ssD58Um35qIkoXliN6uXavOaEI60A2sbXznRwWGmn+hTVbCWutzpTyIFIG/5qPDiu3brdu2KUGif7Xs2Rj0biGnP1ym5icRSsZf5x4ZEI6XCN8TppQ659UupzV/7TeclOmfTYYHcD3JQLHF6934uEGMYs1XcUp4Kh8q+P/STSxE4PgLAqtu2/qSrbSlnqyt1YfvgfYMSmvY7rLrVsJEgIsjq/ZtG9GCdm4AcCDQIQTi21aMZz9U/e4kKrzxX1T/2Du0bc3GhFTtFQXcXxZNYpMlR06loiOmUJNo9AemtydcbDxi8sw7YCL16NuDNvH0/4aXF9PWFfLh0saeeKWcEa3T0mmjqezIXahg+mhqksWikjoO3a2MSlmw2MQaqltZmNqck2dsIQscS6aOoPKDd6KCAydqe6JJLsoLLJalbLQ63VSSS9RDvHjCQKq64HDayHZIt3FZk5XUCj/dOGSqfczRolU2cW0H4QZMsZ/Hi0uVsEBUNH4b+QOnTbeQTTkU7jkmLu4UUXjeMZnez+Xo8asTqP6BN2jrc/No2xe1HKeOVTgm5GRK2QAAQABJREFUc/IRuoTt7xbvM47K9htPTWyTNsgx2XXwA4F0COhXM/2bTniEAYGuItC6UXdX5bIT090s00SNM92IPaQevCBVRUUrtVnM1RPGTzB70q3G90xi9xWu6wg8/rgsRKOdvEh+j00BiDmIRNfSm5V/hQhY+/atITE5IW7JklwSsGoOqpXHN3V9Ar8dR4BfbkWg1Shvv4Z9qQhYZaGcVG/EqXJjVCdaXYU8oDqXbZSKgNW699eso0XrNtLY4LR/1q79/fuLdTCVXoz+Y9QQ6i2La6Rw9i60AqkBFTxYMkLRFJckevNAZmxVlRGw6pe1r+rqSTRMrSmDBg6zgQWB4mxaDSy5vm7ex4nxNeOj8+s/9z/l6eIzeOGmVtdHkjTcurH7ra3mJNFqLy70am5LrpOy3P/pUter1fvrWLN3Ay/u0aecTTrYTEssIoi0lcu7BTyIHygawO0s0PBuaWjAcrpr1YcJ0ztz+vJhordokbp5TKe0nN/yEp5iyR81ZPE2e72YSfAXjvMjssWzArYKvq5XwI6xHzq9vX6saea6Wp6ZA5dFBOLaFB+o4zjPLMosshIJAgFVyDzuyxp5WnwZa4eW8JT2Bl74qWHx19TEC0zFeDEqWTQpnxdEyh9WQ4UsaCscuwMVsEZikyz4mKZw1XIToWEe2/+sZK3IpiN2ocbPa3n6+VfUuHwdxXjqPvFHJ2n9BSwozecp5wUctnBEXyocswM18buAMmVgIwtu5UK2e1p68gy1ANaWxTye+og/7rI92UaeNUDrOX4WOOaxJmwBC20L+vWg/B0HU9GY/uo6V6DpRh3jPqr0RwdT/qoNbBaB88fC1qLR/Vg627IpohgLOouP3Z16MLOtb39GJPZIl62jJu5PC7qXUx5r8xbtPkLbMDWJSnqFM3ekKrExK3z5fz7XQaya+680PzKKzdoCLlvVnO8oYbP92ioC1pi8U/Gsm1Y5WfRsh55U8V+HUBnnbfuSFbRt3ldEy9g+L9dbo5SH20hBH46/TyXl82JWhRy+kM0U5LG5AskPhKutIo7ALRCQ292+VNn38hYuwWkQ6BICELAGsG/c6JoHiD/5zTffKO1WWZiote6bDbJipXYyhlQPCbOz/GsIWC2brth+8aUvMBg0eDCJcLRZZ4UAzQSqYuFN9+7dPQHrxx9/1Ezo6JzSTdr++kKl6JQw+0si9N0mKgIceV8XpZPWOf0qo69p3cU79+5BY3t0p0Xr/efpzYs/pTl78lQ8awuTP2YsXLma3l8r2izyTOSFkVjj8eBB/ahUNG6t5ElnwPnV+bKnRQjWag1Wjk00LVy3hfPlCsBEwPqNDCbZ2bTMkztOI1MFkKgkW2qrD6wWp8mtCiY/28xURs+jHTvxJdAReVqt7YjXXrqyPl4wZ+df2LLZcHob8LVM4gPRduaqOacIIOH5lAhYB7GWsQM/EFOyQ77QbbYcZFh3/ijqV2Cyizg9LUyWYLYUPVnIWV0qgspAhMljCPjGaDinO4+1Yq2TtqQ0y62H2QoF7XQ68jGkWgSsbUnWxNRK+YfNALadTKCZO6CTc4Lkok5AizD9UioLQPzAi/GzL4+1U0vG7UDFrOmuBI7SR/FHyzzR3pePTCyglGdoE2tFttmJZibHmb/jIBYCDqIi1molFiqKEM4KAvPkQykvEJjHgt8Yvx/IGhUk51tyUo7SQspjoWmZrFq/heNmgagqi1wvLz9sCzxP4i7m2Re8H5O4HW3RhCSYQQFruZZJhyrPYrlZ5cGazsNV8sPB8ycOUjZRSbixRqikmScCWuFZxn9uXJyeCLNLh/PHV3H24SB1kW5fIOHYhm4xm2Xwrpe4xL+1wlW5ThynL5fnje1PxfxXxMJ4r94k/1we4arqTbhKm2H/WHvaikoYPyDQPAG+zeBAIGsJQMAaqJqywNQ66aTy+MuvdJdff/01rV27tk1mAj547wOTku541YF5OGyq55U74bqMwHbRMjKusrKSUgnQvZpL46EuwnjXlm8umIHwvyYKICNctS+JFjC2HUuA3zh6sVAonwcUVlAkgsNNDWwPU4RFbX4jSaPROyUT25snsSbqpW9+6Pn+hc0EKAGr9eHB1M0Ll7C2LQ86THuZ3q837VTdw4ZIvo2zDStjJ3lIJw+a0pevEY1V7XTZKjnPQaFrKjuwCTSsh9rqA+95EciEym/Ar/2HqqNKfyCWZoL5hrW6jdVPc2ULlNgyCaQlTVBzDQSQw4CXaIEG/QLRpTy0bUrZHw7Em+wipfWt2iEPaMVJv6+uUwXXfq343WoHz+Zy+QgguwmOGbv+hWxaxrcPnBA6LQ+7qJV9JvdmjVq4LCJgKtx+sFANII02mkUlQFZCRiDYvJr44SCyQ+VEiCbCTbaX6T6L7Ol0NSi98M3tiPBNzrOWp/wlS089d0Ww2Bonkdr3GxFg8iMvadwSZ7pxixC2ldmIy7L0ASLcFe1R/ovLj+0f3AuUX7Cm3ABp7Mvl6ZYvjei8IOnUmwTuiLS9TGAHBJgA30hWLqNuqnbeMmAKAh1BAALWANV4EwB8F3OHHZNBJv9funSp0kgcOXJk4KqWD998600dSHpYjstslJ9MP4HrOgID+vWndWu0rcEVbK5BhOjJnAzY03XLOZ7a2loveHV1tbcf1R31buu1b/MSrTo+t7VHtfTZU65erHGSL8Ih89ySae8bWVOjqvWK96pQqtWn3/TVNUWsiTpzcD/6zXsLWbgrHzDyaB1PkX5qyVc0a/gAreHAGn2PfPaVNyaSC/fZoYYGdOcpcVbLVcUW/6OnUvt+qt2pdub7tbyXR7Kyu2qZpnnKavdFzrO4iAViQdu103mBpxdm78dT3LUmjwxRpaWbzwlesiZK79juSDarS7gi7EDQnmjj1hZbpW8P2hhXsst6S17Zqaj5R9rWi7MP4MW7EhuTLbNm4o9Krb/u9fKorJD/mLWONFmqJkG5sE1OX2jbvwgZW3RcH6I1agXKEn4Nm4eoZZvsbXN5JLZ2lTP1ItqwyYTrctoEUcElv2nlWcee9NdqHttm1jdgMiDpRfDsAgKm5nkjzdRtB12QGSQZaQLmQWgaWr59OES6zCgcCIBAJAh4HSTv8LPLe78zCnCRKCMKESkCELAGqrOENT2KioqpoUFs7xn9AvPWK1qIf731r7TLLrtQgqZrIB73cNGiRXT//fdrL/99Wh3LM6O8LJm9TzcG7HckgWHDh9O8+fNVEqvXrKFPPvmE9t5774Qk0x38yLSmhQsWsIzIn9q0ww47JMQXSQ/bvr3OUEqZLrlIEuncQilBUYnMxPOwy8JNG1mDta1O1V5rq5DzMap7NzqIF6t6mIWoKjPcJm5ZtIRmjRzM0oQmevjTrxwbnzG1WvssNg/QkvBRmpbrlm/eTFv5nuOJ4Ok5ll6J7TDR6nXL1ocFYLKCu3WFLGztLpownsujL+s2USEvQNTLCeedTnenAwa2/I7p1bfaTzcvzYVjONUBwdzaLduonIWjvWQRpjY7jjhVe7KVa8pjD1uXlIk8VRopIqsW0z+OZHMLz2xYwwtytdpxHOs21fMsyfgMyMJVjvzej5YrzC2nuiz+Uj9smnsr+Z5wnaTtpuGew352EGhnlWdHIZCLrCXgPdpMZyEbPBOytrqQMRAAAZeA10HGy2WMKo8bEvsgkBUEvBkiWZGbLMiETBGXxYmsCw5W/3LLX+jRRx+1p1vcyvTzM888kzY7Ax73pUaeGTU1bNQcrssIzJo1S6Vt62XOnDn0+eefJ+THzJZN8A96vPbaa3TDjTcqbxvnzjvvHAwW2WNVZq8ztAQiW9wsKxhr4rGWoTu1fTM/g+pEi7SdVdHay3uxluP+vJiTN+2e28SLy1fRehZSinvs86+MjVMd88TqKtqtf2/WbvW1H5PBzQvciB/x4llb0rHTZiNj6fPTXy5nE21eI1VnxvWsokrRrDROFjmSVeR9F1MCt/pNRnglkrC2/PkRZm7PKUoAT9vT4LKNl0XJAu6LjVx/bSm3d00gQu+Q24EtR7Dj9cJ00A63hXE9u/lTZs3N8tH6jWxuzjchk1bqLEV9c1XiLAiJX7SiE1zgxgocJgRPx6OWbSm6rqZdAnE3JuxngkDwHs1EnWciX4gjugTk8audt2M9sAUBEACB0BBwXw/Rd4am2nIuo0ne9nOOQVyBa2pqaPz48cpP3bjmXUS+/tob+bzzzqNf/vKXrOXavFbYxx9/TCd/97v00ksvmTR0DN7rjYlwwgQ2yA7XZQROOOEElbbUi9TzAtY+veCCC6iurk772zdT2wDsNkmO5ZqLL76YVq9e7cUpO8cff3yS0NH18rQlPIlJdMuaVSWTRlxcTLzsgJetjbyQxFq1Grzv551MsRMfUk+AFy3R1rkY7Tughkb16KYv40jFXMBDbCZgxYZN9O7qdSa6GE8bL6TjRrBma76vQZoqLWsiwLaxheu+oVWb4xdjSnWt8udiXP3BRySLWNmnumiuDufVcNl4rXdpN57JMKGntgdrn/8N/Cy4lbVwZcGMrHLxFZaZrLFt3P366wU33Oivn/9JHKfMJMaxiNTJTUgiDh6nlVj8RfFHKSLgtjCpppq68wJT2ule+p6Pl9LH3+h+IMWVid7chua8vyjOvw9rAg/pxu3LNlr3rE7K90kWxj+b1t6nbP7CdWLaAS57CLgDRMmVagJpNdTsKQNyEjICgfYVOAxZYZBdEACBXCSgnlvmnSkDr0q5iBBl7iQC/miykxLM9mRkBfmJE7XAU16C7UuIDOrtOEjsa17xqyto2rRpdPvtt9P8efNZoUef3bhxI4kG45VXXkkHHngg3X3PPeQvohR4KpjDQw89NNuxRDp/vXr1oosuukiV0QpvHnroIdp9993pueee87QBPa1Arxpt69B4HnjgQdp11109gbqd+LnjjjvS5MmTI81QCqfKy0gEj+Wo/OMxiRdchxKIsWCwyqSQRytZ+KiERK2oB7EV6duLjCltzzVbWIjZmjca1gqc2KcX7dy7p84LN4x61jR96ssV9MLXq2gRawda15On4n+HF8VqzvaqDWs1WG0bk/b232/wYlrplI+1Uv/15df03pp15nkuVxNN6t2DduzFzOzHFPFkTcSxrHUoWq3iLSFFKPtnFjB+vW6DOi/B0nIiuG2PWYEUiXhFdiQ2IjbOiOMCV/PCHKN6dNesTN3f98lSenbp8tYJWeVaWbCqpfajq0PXpRTOHqddIL4goB7oVmmz0XB9HzaE7QM7TqbaX/PhRwnT/Z0g8bvcvp785Euau2K1ao62D9infw0NrmRTQEkyo9szT3szlSnvEq0utpOLbXzfzV3h2//uzh9cRBsbLvsISJXbNtKuSs++oiFH2UYg8OxpzzMm24qG/IAACOQGgVRymdwoPUoZJgIQsCapLRGSVXbjhVb4DcR/CfH35JKtDVvp7bffplNP/QFNmTqFKsorqHv37jzdv4ZmzJhBP//5z9WiWEmidyNVpw8//PCkweDZeQREY3XgoEGcoK5nGeSKJqvUjZgQ+Pvf/05ig9c6GRhtYYHTgoUL6bbbbqP999+fTjrpRBJ7u9YpI9x8cP3111uvSG+VWMC7TVyBQaSLnX2FYyHgQYP7m3zpCvlw7XravLV5jXu3IL14wZ+ygFBm+SYWsLZmKr6J8FvDB1KVY8v07do1dP2CT2gr24a1QqUTRw+lAgkTGAS6ebL7VrBq71Xxf/KLr+muxV+wELOZLo0TW7Wxnn777kKqDdjW3LNvHxouQmk3fd7ftaYX/8UvULeANWaVhqLNvM1Yym0e/f3TL+n37yzQphpShmv9Ce924+eWzU4zBFqfAF/x453G6OscNt//9+valINNtLmYWbi8ktvOac++SovWtiCYtsJRSUv/by7mJOeMlNI54zNyPJPtctu+fFf9cdU9fQML1B/n9uVqN7vnvX1mUcft6jfvLlCa2pKu9AGiHX3k0AHUM9U0ffXxlj/gmoxqoZsXa+t2WEj8EpvhcN20vr2oInAvu+ex33UEbBuRHCS23K7LF1KOLgHbztJ+LkYXBUoGAiAQEgLquSU//ODyn13+XkiKgWzmEIFMj8UigU4EalN3mZpQFk/TQM6Y+7qB7bM18OrYm7dupo0b65TQrYFXH5YFjtyxp32p0W/R/kNBpo5362am0CakCI/OItC7d2+67977qLo6XpiyhTWYnn76aTr66KPpqaeeMtnhgfSmTTR79myawOYkTjnlFPr3v/9N27jexXnthKv5/PPPpz322MNcF/GNafBeW494cbO2eCxgPWRwv7jsfbCmFdPoWdJTxgs+ufZIJTIRLP6btU/Vg81U8jZOS/5SuqZGOmb4IBIbkOoS/vmMzQM8vyxeCPRfE0enLbz1n57xqX6HBXhXvDmPtW2bPGGVlVqI5uknrDF71FMv0TNSBna2nQ6vqqTvjhnKz/RAzHzclz+0HcwLb1nbmXJvS7Dfv7+YTnnmVfqa7bF6tlxthBx3Iwfa2shp8lTtI558kY5++iX6N2vtbnEWvpM8ZNIFs5+puI8dPoB6m8WubBGX1tXTgNsfoRe5HmUxp2Da4ifMN2xroF+8/iH1u+1huuujz+nr+s26/STLHHPN8zRxdUo2vWTBU/oFqpFljuk5zvOA7pV0+oQRXni5VP5mc7v5rxffVh8FpG49xyflSNrAu7XraK+/P8sCTl97VE7u3b8PHT6UFzl0r/MiYDm1sy+7CkG6eQ5cK0LgRz5jYTA7G8V0/nhQkW0mLYL5zuVj05xs07f1lstIUPaOI2CfXvl2p+OSQswgAAIgkBEC6nGV5JnljbczkgoiAYHMEbAGxzIXYwRiqqqqom9/+9tqqv+Wray1ZW5qd+KeGmjLCfkvb8QqjKxu5x0ExlPG38RlMYkpAbjsIDB9+jS65ZZbSGzsfvbZZyZTfn3aXMqUTl3dphUEgsjZQp4O+122vyu2evNlenAuOBYgpG7/uQAgS8rIwp5JfaupW1ERbTR2oj9Yu45NBWylISxACjyYkmeapVLD2WakLFBlBUoiVDv3lXfo51Mn0MAKnu7M7f5htqc6kKc+nz15bHIBqdwonI9vjxxMl7893zwn5VJt11VkTjMH9adBPBWfZCGuNFy+1XIMhJU4L3n9A3qap6+fNWEkDeOyFrNG61ec7zd40aG7P/6ClrDA096u0lqLuJxnjB9Jk3fghQZZGJjgWCD6XzuOpme+WknPfrVCaSTqm5/otsWf0Ss8FfvUccNpx+qe1I+FyCLMW8WcF7IJATFDcOsi+xxh5Vr3i1tCQpnzsIKaTMVYzcL2q6bvTCc/+5otuopahMv7PfocfW/scDqQFzMb2r1CaT2Lnd2PvtlI89Z+Q39jzd2lsigWu8KWnoPMzs+7eZZIZbXTqWd1unGwUPyPe+5Cb61aR+/Uro0r7zUfLmYh+Qr6/pjhNJ61nfuWl9B2bsCfcZt6ncP/ddGnbOuYP7LZBsZpDmUB/a9225F6lfNiaSmE6wlF5AynkMW2XApuY08s1QJW+14ypU9PKhLzFG2OtOVkEaLtBOyz0DY2/x5oe5y4EgTiCPBzIY/7QvWskX6InwVNhfnOon5xoXEAAiAAAllHwHu18nb4UWY7zqzLLTKU6wQgYE3RAk499VRlf/O+++7T4yXnhpYRlJ3+7UtXdQB1s9uwvBWNHP0AMMM8e47TFbufI0b42jIpsgLvTiQgWqmD2FTAb37zG3riySeoflO9l7quOtFgs0N282i3hybkmNGj6dTTTqOzzz6bSktLveujv2Paum3jce0/+qXPthIexILLB5csVdmqb2ikBTw9eyrbRE1Lo4+nS/9g3Ai6l+1JrhfNbFOnH6xZT9/6xytxRT1z4igzfboxzt87YC1/EWL+mqfmNzTKzSL3jX/T/GzKuOTCWS+C+B3PRIDJ007VPUiEv+t5JoHk82XWIJQ/cWI32b9f5Zg9reSJ83D2hDF04c4sHE4mXJUI+F4vY3MJV+81RQkY32ahmweD4/qEF0C6+LUPJCQ7EdiKnVa/bNpf/25lbd7kZ9xQ7dg3PDKdiNjiPYbNPLy/Zixr7i5ijVXOI6clfZtoqt6y8FP1Jzkv5w9L9Vzfcc7kazO3KSusjztvDzw4+gLVRjw/G6ilLV8gl7fDlbAg4o4D9qDv/OtVfyE2U4Z5rAn+47nvqtiLWWCcVHvb5FmEq3P2nEy7D+SFwlr4eOBmWdqoe5x2UfjCZaylvYSF2yq7nI/h/JFBPoDAZSsBfj7ZD0becylb84p8hZVAXnEBlX1nLyqq5WeDvAA0NFHeGNaqT9FXhbWcyDcIgEB0CUgXKd2lHgOYF63oFhclCzmBHFGta30tidbhn/78J5o0aZIer6o728Sj7nDeV/e33O3ib252HuTY92XxsoIEc9YLdsQRR9BPfvITEyE22URgypQpdNNNN9EDDzxAZ5xxBo1mgak4XYdeTcZluQdrPe+77370hz/8ge7/299IbLrmlnDVEErR/uNg4aDjCfD0bLVolKRkpDW3sIZd2lPU+fqprNX5g/HDdV5tszdx2ThFK1MJbO35ZCVjIVz/Ht3oUBb42rvIRjOa/ffux9qj3keLZBGk8DNpHsgCrBtm7EoDKlhLMJAPJVyVNmmikGTkmSz2ZX+12yT63fRJfMaeTZEOax5OYC3Auw6cRkcOk0WQTCKBtMRfhKvJYhNt2hNGDKHurM2bSReHLSE/mUupgvP9P1Mn0v/suqPWRDUcgyko4aoFYLccVjSJf8CavjvJQmIpBvWSfV0eUxCuN9t/BtNJfcyJ2stNIFfAnvq6+DPjOZ/3zpxOx40YrE+YOL3K5WQ84aqU05bVRDOTzUrce9B0OlYWbmtBuBqfsmZgkwuea/a4uIjmvLdIBbHXT+aPD0NZE71N91ezieFkRggE3yUlUlt5GUkAkYAAE2ATISUn7kUV5x1K5efMovILDqO8YW3sdwEUBEAABLqCAPeN6jsk95veK5e30xUZQpogkJoANFhTs6HqXtX06KOPKnMBc+fO5ZByJ/ONLTe5us5M7lJCJfbh0zKY0+f8iPVV/vE0tsl51VVXkaxeD5edBMRMxKxDZtE+e+9Da9asodraWvr8889p5cqV6lhs7Pbo0UPV4bBhw6hfv35qkbO+fVlbKUedaufB9h9s/DnKptOLzUKsgwb3VdPkZQqzONHqfG3latqfp3On5Xi6tCz6syMLm/7zhTeVTVHv4WYecqKRKFqL9omYMl6Zas+LJT3y+TKlRaoFaUQ/4un3+Wmp1KaMmYXGTXTEkB1ol9496ZI3P6R72RRAnAu0yWNGDKKLJo+jnTl8gaRtMxN3UeCAtS/H9OxOf9l3d3p21Er65Vvz1BT4QCh16D7/h/C0+f+ePJ4OZRucNWzH1NpyTXZdW/yKC+QG6wTHjCpZgPcT5nYYs/7N2wvob0u+TJ6wBcDbIhasnjVhFJ3GwtVBLOjrVsxtJRVvLsomR/u1jrWKi2Vqeyuc9L6bzVR8mw0R7rbacR5Hc33fst+udPKYYWrhKqUVbSO1W4nY2Z/Ki6JdtPN4msF2V/tU8OwFbjctOcmz2Ku1rp6vadGcgg1st/wOsoK1Vx9kkx3SImJ8XMblPmRIf+oh9nOd+O0l2HY9gYR3ya7PEnIQUQKxVixyGVEEKBYIgECICah3GzPTw3vt8nZCXDBkPZIE8lggiObZQtWuX7+efvSjH9Gdd96ZNKS66RPOuL7+/syDZtI9d9+TsJhSwuXwyDoCSnjOt4vdyvRj+WvOxmpdXR2dfvrpdO6559Juu+2WdWXKRIY+/fRTGjlyZCAqv83bDxNf/L8jaTCmqwY4ddyhPNj/snAJnfr8G14i++xQQy8cdUBqIZcX0t+RaeBrefq92DF9f/U6+pinxXdjYdsAtiu5H2uPTu3dQ90H/hVJ9ljYc/W7i5QNV3u2krUiPzzhEK1hZz1b2rImzoEP/UvZQ7VBxUTBb6dN4pXSC5WgamX9VnqM7VAu4kW5vqrbwoLBArYZW0Zje1TRQYP6UjVP+W+1AMsmxlu5/xv473NerOsfvGDW5xvraXl9vVroSLQFR1d1oxG8cNbIHpXUh+2XylRymWbfEU7yIgI5JVWTBLjSReDdQcl5RRDtTUn332yb9i02m7Bi8xY20dCgFjMbzeWWqemjmMPAyjIqLyhk3i2XX4T1sjCYlEnKI1eUsoC1NeykrUocstWSRo6DtZXbY/9W7qNtHOc327bTv75cTh+ybdkV9VuMcJ6opqKYRnTvRgcN7E/92C5rYR7bOmy5uB5LEa562rCcmAj9S7jcrYhCaaj94tX36Uq2c2zjEnMgTx02g3qXs6BXeMBlBwFuHI989pVacC9ZhipPP4C6/dchFNuSxCZ0sgvgBwIgAAIgAAIRJND49TqqPfJ33vtcsIjyniRvNyUP/Yg2H/3H1r03BSPDMQhkkICoHsG1QEA0FW+//XY6/PDD6dJLL6UvvviCtvPiMWoQx9cGhy76hvd9C3mAV9W9O13805+qqeMtJIfTWUrAClTTyZ5ouD788MPKxIBowJ7GNlmj7mxHF2z/iXdI1ElkR/mkHmaxBtsQFvp9YRYaepFXsn9n5Vqa0o+151NM1Q7mXgRcvVlQeChrLh46VKbIW8fPOHnMpSW8yfOmL9urj2dNUom3tU4WmXOdSt54iYaoCPV+OFEE/kzANkq5QAKmlVc39sR9eQ4U85+YNxjdqzsHMOlIUJdHBtJKTD3eR/LSFSvEi9C4uDifjuY6PJoXMFPOYy2c2aeV5RchaDn3le1x0lbF/EMmnRRL7LLWlBXTiWOGcnWLT8C1o21Jm22XZjPnp5aF/U+wdrgVrkr9zB42kHqzBnVrTRQESobDjiAg94dx3m1jPbAFARAAARAAARDwCHizPQIdpjYWwB1qktcy72LsgEAXEICANU3oMpA94YQT6LjjjqPbbruNnnjiCVq0aDF988162rp1K23jhWAaWOiaz9orRazdVVxcTBUVFTRw4EA68MAD6fzzz6fyciw2kSbuUAf74IMP6Le//S3dddddXjmk/UTdyZjRGM2IelFDUz7RoDx9/Aj679ftQkxEP+H9f83et/VlaKsQiQVeD/G0/a+cBeMk8SNZWCvTzlsriIvFzJRv86Klbq3g7aWEx44Uo/WlTe+Kzkonvdx0fqi2tonOz2lmUszG8nLbf4g1IuexxrZ6AvNIpC9rrf5wAn9kEO1muOwj4Dyv9FNKZsPI7JjsyypyBAIgAAIgAAJdScDrGu16ONJZqjGAOeMF6MpcIm0Q8AlAwOqzSGtPpoN/73vfU38y/fvDDz+ktWvXkpgR+GbDBjWdUWyritbriBEj1F9aESNQpxPYvHkzbeA6E8F4dXU1lZXxIjntcMuXL6e7776bfv+H39Oyr5a1I6bwXir2BD3HnZ+sNB7n553ETmcQKOKpxrIC/O2LP6PFbKNR3LNfLaeb5n1Cp7FNVHJsXnZkfq754CP9LmQS2aNvb5rMpgXa5uwLlXq70kIJp9m1LU5cBQIhJMBfFz5Zt5Gum/cxbTbCVBl3nM22jatFe5Xt2MJlIYGE5xV7JPhlYb6RJRAAARAAARDoMgJOX2nssaqsOB8tuyxrSBgEHAIQsDowWrtbWVlJ06ZNa+1lCN/FBO677z564YUX6Msvv6SNGzeyjGm7WqxKFqgSW6Lf/va3afBgM+01zbxKnNddd52KVy4RrTpXG0XSyC2nAUC42sW1zo1wbM8qupgX3vnRy29TnVnR/H/enMeLPPWiqTv07lgtN9Ze/edny+gdtt1q5QcyjftQMV3AdjrjbpI0UfnvUTpG/zjNCBAMBCJCoIFN0VzBC469v2Y9l0juhBh9a8RgunDyWAhXs7mO7UNLVZmuN2+qYzbnG3kDARAAARAAgS4hoPtK9a6jdnkMYL3sAKNL8oVEQSCRAASsiUzgE1ECW7ZsoZNOOomeeeYZJVhNVkwx7XDjjTfSmWedSef/+PxkQeL8li1bRhf95Cf0OJuM+OYbmaKpnStcHT9+PE2YMMGeiu7WdnSqhHa4GOcZ3bJndclidMrYYfT81yvpjo++ULajv67fTJe9+SHdPXMaVfGiT20RdLZYZBakbuGFj/7A2qsbWJPOtoRRvAjSiaOG+C9GLUYUHyDBBmv8aRyBQG4Q4Pvr/k+W0q2Ll5jyxmgYa63esM9U/sDHd5vbCeUGkfCVUo0P7WdIjBDDV4HIMQiAAAiAQOcQ0H2kmhdpu0u77ZwMIBUQSJuAMWaXdngEBIFQEpg3fz6NGzeOHn7oYRau1pkyiMhHy3m0Rx7PqNxGS5YsoQsvuIBmzZqlvVP83nvPPTR1l13oLjYLsMERrtrgRbzi+f+yLdbXX3+d+vXrZ70ju/XXHmKuMr5XeLn305gjW+6sL5i8gLDA5c/77ErDurHWqKmQJ5d+TdfP/zRz2ZeV4tmECttJUVvRrvvJa+/RU5yOag/8I6vJHz5kAI2oZvMAaS6yFcxgTDcsz1tkSWhjHg7s5AIBbvRf8sJ133v+jbjS3j1zOvUq7aAPJnEp4aBdBJxBod51H2KyDwcCIAACIAACIBAkoIY0QU81EAh64hgEuo4ANFjTYC/Tu0X7cenSpfTaa6/RwoULSVaGF41FWdwqlkRTRDRIxF9tZXKs80Ktk9Qv0du3N9CcOXNo4sSJaeQEQdpCQGzkHjxzJn3NNlLjna4Uv2r8ehIhztNPP03nnHMOXX311XGXrVy5kk47/TR67NHHtD9XpYrDRFRUVET77rMP/fn665XJgbiLI3zgcpTW7d0Wrp2cCJc/q4vGlVHOC0rde9A0OuGfr1A+/9vW1EiLeGGc2vot1KespH3Z548Jv3z1fXqzdi2bHuip5J33L1lKC9duUPHqFUBjNLx7N7pkF9bmbsfiOzFfkq/jbl/OcTUIhI8Af6i475MvqR/bDS/m/SbugS6cNI6mstkPuBAQSJCh+r1nkpfFEBQIWQQBEAABEACBDiLAfaYeR+gdd8ytUvQGnB2UPqIFgVYSgIC1GWBNTU20aNEiuuOOO9SfTAfvCHfRRRd1RLSI0xC46qqrqHb1an2kJH96t6qqB/Xs1ZPKy8to65atasErEZxLvatBDoe99tpraeedp9App5ys/EXo+p2TvkPr1q/zlObsc10WQBs7biydd+55dOqpp5rUc2+jELvjxcSvC7kHJRtKzO16at9q+vT7x/q5kbYu9oHj6ss/nfYef1B6j+1APvb5MvVnr5OPynJ/SPS9S0vpwYP3oh4izG2Ue6yNLqDBqhRh25v/NmYFl4FAlxDg++eCXcbTBbvv6CcvHy1YaxwuZAScdxKdc/GAAwEQAAEQAAEQUAS8d3w9oEjoNoEJBLKMAASsKSpEVpa/7s9/pl9cfjmJBqR2/i3t7wUiUCfylPDNWtbyQwSuMocimIPrGAIfffQRPfzwwyT1qZx5SO+x+x501tln0a677koDBw6k1SyAXbBgAT311FN06623ahutHLYp1kQ33XQT2249kW677Tb64Q9/qBbFkjnJOir9O3ToMDrhhOPpvPPOI1ksK5edWF/VTVs0uLWALZd5ZFXZRRq5dVuHZKlAKttzpgXo24PG9+xOc6ZPoYk1rGHXDu1Vid5+0LBJJT5n7RlsQSDCBESYCoFq6CtYa+W4xTAPTdcL+yAAAiAAAiCQswSU5VVvTGlX+chZHCh41hOAgDVJFcnU/t/85jd02WWXqWn+RlrEIf0XX39PCxLio0kc8htxQzBY/DGOMk7gueeeY5MOC7x4xWTDjH1n0J2330kDBg7w/CsqKmjIkCF08MEH0wEHHKA0UEXoKm7Jkk+V4PTvf/+7Ea5q8aq0gcKCQjqZtVtFY3WPPfZQ4fGj279q8/6NAiyRJ+BWtt4fWFlOx40cTKeOGUbj+/Rst3BVEFawOQJxItBt5Gd1aUEBm32V1gYHAiAAAuEi4D81k71LhqssyC0IgAAIgAAIZJ6A7im1ggX6yszzRYyZJgABaxKiMg1c7G56tlX9N2AvtIzn5UbX31Rka8SvKiwfBdQS/Ci8kBzGROLFip1MExCzDvqBrGOuqCinK351RZxw1U1TtIlnz55NH3/8MV144YXq1KpVq1iL9WbWgt2qg3K9SdsQgew1f/wjHcj2XcvYFh6cJaDbv8vdnsE2ogQatrOG6s70nxNGUu3mbVTASvnDeUGtKrb7OrCyjEoLuatpj1kAi421X6/Zawr9areJ6pkrCrk15SUsZMUsAIsIWxAAgSwn4L8Qeq+B9l0yy3OO7IEACIAACIBAFxJwOtAuzAWSBoHmCEDAGqCzceNGuvfee9UiVo4oVIfSciOlx6pXshZNPR0q/nbnI/6vzsiPOHvsXSF+8VepcPjJGIHNmzeTLEglTtcS0f77H0DTp09vMY0LLriAbr75Zlq8eDHF2E7ltm1GuCpXcr0dftjhdOddd1JVVVWLceVegOTtP/c45FCJ+Z4YzNqq8tfE+2IkIk6pNFPPOo5nSLdyBit/cCAAAiAQQgL2vZCzHnyXDGFpkGUQAAEQAAEQ6DgCZhBvx/JeQgke3hnsgECXEoDaTwC/aDy++eabyleLP/nulRtYBAYiN1L7csQHss+e2uKkCqK8JLTnJJiOSK5Qzm5NVF5Q7GSWQF1dHa1YsUIzN7B33333tBMRm6rigvX1rW99ix57/DEIV4MkmXFCm2Z4tv0Hg+M4mgRkun6ccDWaxUSpQAAEQKBtBOxLBV/tvku2LTJcBQIgAAIgAAIRJmD6TL2xg00tl1GlThh8RpgFihYKAhCwBqpJpoMvXLjI8eXbmf/nsZRI3dj67vb31Wnf0+yp6+2+3TqRxp/PlHZXMIEcPxYNVm+BMlMJo0eNSpvKpEmTnbBqGERTpkyhv/3tb44/dj0CzNht63bfbr1w2AEBEAABEACBXCXgDAZV/yg/6ChztTWg3CAAAiAAAmkT4M6S/3tyGbkO/Wfa9BCwcwjARECA86ZNm9gn8U5tTgZaVFRExcXFoorA/1kQpy7Xmq3WiICodGmbriqEToHDb2fbhd26dQvkAoeZICC8m3h6v+uGDh3qHja7P378eOe8bhOXX365qkdZLAsuQEDaP2OyZjOclh4IiEMQAAEQAAEQyG0C8haR+LaZ20xQehAAARAAARBoiUBzcpmWrsV5EOhoAhCwBghrAav1NK+/duMJSYlmzZpF++23H/Xq1UsJSEuMgFVErHZxLE8IJ08B51oRxConwig+Fy/Is2lj2xEEiktK0o62srJShbWDILG3OnEiL64D4WpyhtKeFSwrYrVDR0sw+WXwBQEQAAEQAIFcI2B7SCk3eslcq32UFwRAAARAoHUETE+JDrN12BC60wlAwBpAXlFR4fgYQZF5CxZh6NChQ+mGG26gyZMnU01NjRMWu2Eg0BbhqB0EDRo4iAplNXS41ATsvRLX+VmCqS/DGRAAARAAARDIVQLoJXO15lFuEAABEACB9AjEy2XwaTI9agjV+QQgLQowl+n6BQUF1NjYqM5ojTwdSM5de801dNBBBwWuwmG2EggKVK12cTr5DYYtLS2h/HyYLU7FzpoEULJVb7RofVNdBX8QAAEQAAEQyD0C9juk3eYeAZQYBEAABEAABNIn4MplZHUUb7iZfhQICQIdTgAC1gBimRbet29f+vrrr/UZ587dbbfdaGde5AguPASCQtLt27erzFsBeqqSiCA1GEaaQmNjU4J/qjhcf4kvKOx1z0dhP6YNsAY6O2uF2LmRolBYlAEEQAAEQAAE2kEgJuaGeGaU9I4QsrYDJC4FARAAARCILgG3g8RwMrr1HKGSQcAaqMzBgwfT9OnT6YEHHkh44e3LJgF69OgRuAKH2UwgKNS89tpraezYsbS9cTvXrzyxfWef32Iyt6Agn9auXWtO6jMrVqyg6677E1VWxi9KJuFlqYpgWjZmSevk755M0rai7PL4s6IVpwpazUUGjvjCGOV6R9lAAARAAATaQMB2knypq5XThphwCQiAAAiAAAhEk4ARqtpxuhTSfJ+MZnlRqtATgIA1UIWyaNXMmTPp4YcfVpqK7s28hgVudXV1VF5eHrgKh9lKwNVglbr861//2oas8pOdn+TLli2jK6/8dRuuJ5o+bXrkBaxKjGoFq85o0fSLbeKGi0AABEAABEAgigTkncT7BImOMopVjDKBAAiAAAhkiIAMLc1kSVbikR4UHWeG0CKaDBOAQckkQI899lg64IAD1Bn31n3jjTfovffeS3IFvMJAwK1LT3lVjXD0MEfKIF/EXOcdOpomMiDy/N3AZj/ZWbHrmxOOIWs2otGbEyVGIUEABEAABEAgfQLmZUQ23vwO9Jfp80NIEAABEACBnCHgdY/caZruk8vu7+UMCBQ0NAQgYE1SVdXV1fTHP/5R2WJ1T69bt47Ov+B8pcno+mM/OwmI9mpTU1PyzNnnstraA35c+7vqusChicsbEiWNO9nZlPlIGkN4PV3hcpBleEuFnIMACIAACIBAhgh4o0Xnc23yl40MJYhoQAAEQAAEQCCcBKR79LpNbyecZUGuc4MATASkqOcxY8aQaKweMusQWrhgob6z+Q6f9+E8mjRpEl1y6SV07jnnprga3tlAoKSkhAYMGEBi9qG4uJg1Ko01UGcgo/xcSaA8uO15Dq+f4ywytX7Kh7UzTTAnhGojsSbHFisHknBbtm6jQYMGZQOSDs+DEi77cLypHB2eMBIAARAAARAAgZARUItDSp7tdEfpP+FAAARAAARAAAQ8Ap55AKevtOYCHPGrFx47INCVBCBgDdCvr6+nW265hZ5//nkqLimmcWPHaQGrd2cTrVmzls479zz68Xk/pjGjx9DosaOpvEzbZRWtSS2049vdvCiL9qJdAMlurW1QWan+F7/4BY0fPz6QExy2l0D//v3pwQcfbG80uD5NAiJsFgGr7vC0lFVE0VjkKk2ACAYCIAACIJBDBLif9L7eel9xc6j8KCoIgAAIgAAIpEGAu0jdS8rIUrpOHl16Elb0n2kQRJBOJAABawB2Q0MDvfTSS/TQQw95Z6yoyNds1He5CEkXLV6k/rzAbdg588wzIWBtAzdckl0EtPaqHTDanlD5ZldGkRsQAAEQAAEQ6GoC3uDQyQjGiQ4M7IIACIAACICAISACGXGqn7TjTO2FXxDIJgKwwZqkNgoLrdxZ38nB9115J9bOThA3R/bGt6e9UAEPPnSD5uejGhIJwSdsBFSb5o8O3u0hBXAbetgKhPyCAAiAAAiAQKYJmE4y1btkppNDfCAAAiAAAiAQZgJ6jMm/3H/GjTPDXCjkPbIEINlrrmr9t9+4UHJja7lRvDDJzvQKypSSPQi0XzBkXDI4AIFQEbDtPK5VW89QlQSZBQEQAAEQAIGOJSDdY7J3yY5NFbGDAAiAAAiAQLgIqOFkCrkMlHnCVZe5kFsIWJurZWV31YiL4qRG9usJa7AG/LXFydSR2vD2pVpCWrusqa/CGRAIB4GW2n84SoFcggAIgAAIgEAHEXDeG/U3yMR3yQ5KGdGCAAiAAAiAQDgJpJLLQJknnPUZ4VxDwNps5fIda9VS5aYW57wY+3rqvmecTqvvra/lXxUd+7vPAlkECw4EokAg2P5F4AoHAiAAAiAAAiBgCLgvgMpL3jX1OfSYaCUgAAIgAAIgkIyA9JWms7RyGQmGjjMZLPh1IQEIWJuBb7VNdRC+oeUGNht7mb7Nzc1uPTmcutfFO9lNHwwen5CNBVsQCCcBp/2rpp7sHghnyZBrEAABEAABEGgfAdMnul2jfS202/YlgKtBAARAAARAIFoE4sUl3FvaThQdZ7QqOgKlgYA1WSWaryP2I4kXxNzALd7HHMAL4+14sSTsxBISSggCDxAIDwHV/p1eL417IDyFQ05BAARAAARAoP0EtAKO7Svttv3xIgYQAAEQAAEQiAwB1T3mGeVVPjCS1jxXizUyhUVBokCgMAqFyGQZ8vPzqbikREVZWFiY+HFEbmoWiJoNhxPbWSJB0i/HVliq7n0RNPGOOmOCyHl1rVzBD4aG7Q1UXl6u0sMPCESHALdzLoz6lftD2j8cCIAACIAACICAJsD9Ig8ZTfeIThLNAgRAAARAAAQSCKjuUfeRqs803aXtPRPCwwMEupgABKyBCigrK6PTTjuN9tl7b8ovKFBntaAoENDz9Hb4Rdl/VTbSJX29lcby1hWwylu1HI8fPz4QOQ5BINwEbJNXklXTEYa7RMg9CIAACIAACGSWgB0y4itkZrkiNhAAARAAgagRYDmKUmrjcrljSxHFwIFAFhGAgDVQGaK1uueee6q/wCkcggAIpEFAfXJwO740rkEQEAABEAABEMg5Augwc67KUWAQAAEQAIHWEdDqbDy45P9637keY04HBnazgQBssGZDLSAPIBAVAtzriVkAYxjDmMmRrhAOBEAABEAABEDAJWCVcXw/9Jc+C+yBAAiAAAiAgMwQZsGq6R61ETqXCvpNlwb2u54ABKxdXwfIAQhEh4D6iihWcfTnRL1+Gz4tRqeCURIQAAEQAIFMEVC9Y9zYEP1lptgiHhAAARAAgQgQMGvdxOyiVglfJtFvRqCWI1UEmAhoR3U2NTXRtm3baPv27dTY2Ki09goKC0jMDBQVFZEsmAUHAjlFQAaKpp/zd/29nGKBwoIACIAACIBASwQ8KSsGiS2hwnkQAAEQAIEcI8Bdo7/KDY8ptfZOjkFAccNEAALWVtZWQ0MDLVmyhJYuXUoLFy6kZcuW0bp169SfCFarqqqourqa+vXrR+PGjqWBgwbRqFGjqMAsmNXK5BAcBMJFwA4U+eui3/9h0BiuSkRuQQAEQAAEOoOAXRDSHzx2RqpIAwRAAARAAATCQ8AfSfp74ck9cpprBCBgbUWNz507l+6++y6aO/dVmj9/vtJebe7ykuJiGsNC1t12242OPfZYOuSQQ5oLjnMgEBEC3Pnxf6W3Kj/i0B9qDvgFARAAARAAAUtA+kZRyFE/6CgtFmxBAARAAARAIJEAd5hiIsDtLu1YMzEwfECgSwhAwJoGdpn+f+6559KDDz5Iy5cvT+MKHWQrmw/44IMP1N8Tjz9Bu+2+G1111VU0fPjwtONAQBAIKwHV97kdYFgLgnyDAAiAAAiAQKYIOP2i3086nplKB/GAAAiAAAiAQKQIcF/J/+3sD1U0dJ+RquEoFAZGQluoxQ0bNtA+++xD1157rSdcTfmhRD6qqPjsrx9y+Yrl9Mgjj9Bhhx1GL730Ygup4jQIhJOAbfmS+zxzN4SzJMg1CIAACIAACHQAAfNq6L8hOmkk9XTOYxcEQAAEQAAEcpyAb4Yux0Gg+FlJAALWZqpF7K1OnjyZTQLM1aHMi6+ayiU+zouw3dUfUeSXLWqxCrsVMtntokWL6PjjT6AXIWTVTPEbGQLqa6IqjWn/6hNjZIqHgoAACIAACIBAxggke5eMm/aYsZQQEQiAAAiAAAhEgAALXKxMxZXDRKBkKEKECEDA2kxlHnfccfTZZ5/5gtRYvBjVlx/J8gTstFxJxah8+Fj5q1PmVZqjWLFiBf3kwp/QF198ocLiBwSiQEB9TTS3iLkj/BsgCgVEGUAABEAABEAgYwTMGyJv7NtlxqJGRCAAAiAAAiAQBQJeB8k7IlsRG6zs8jy5TBQKiTJEiQAErClq8+qrr6Ynn3xSv/Sad+Bk0iJ9ygSQB4DZ9e957eGd4kP58vL666/TFVdcwSutmwtS5APeIBAqAgntP1S5R2ZBAARAAARAoNMJ4E2w05EjQRAAARAAgTAQ8DpIo6xmx5pW6BKGMiCPOUUAAtYk1b1q1Sq69957SUwE+IJSR8NA5kKzk19/jw+8B4C7r0O4p2zAm266iebPn8+B4UAgYgS8Bq/bf8RKh+KAAAiAAAiAQJsIGOUb71r/XdLzwg4IgAAIgAAIgECAQFK5TCAMDkGgqwlAwJqkBp544gl655139BkjKDIyVeOnPeXX30sSEXt5U6XV6URh689+9rPkF8IXBEJKQA0WPbmquYFCWhZkGwRAAARAAAQyScAdIEq86l3S6zMzmRLiAgEQAAEQAIFoEFDdpBlWxsllolE8lCJCBAojVJaMFGXbtm301ltvkWxFPVU0DdTLr3ojNne1SalHjx40e/ZsGjx4CA0dOoTy+G7/6quvaOnSpUpAK0JauUIeAtoSgLne96DHHnuM6urqqLKyMiP5RyQg0FUExPSF2MVRbd25X5zm3lVZQ7ogAAIgAAIgkFUEtExVPsPzu2H862VW5ROZAQEQAAEQAIGuJiBDy+bkMl2dP6QPApYABKyWhNnKAlTzPpynj+Leef233z59+tBll/2cfvjDsyg/X78iB6JRtlVfeeUVuvjii+nVV1/l4yY/iB+V8vvnP/5Bxxx7rH8eeyAQQgLxg0S2k2M+LMDMcAgrE1kGARAAARDoUALqVdCMFuVNMvBq2KFpI3IQAAEQAAEQCAMB1T+aTtLvJ/29MJQBecwtAjAREKjv2tpaWrBwQcDXP+zbt6/ScD3rrLNTClcltGiz7rXXXvTyyy/TkUceaWy1ygk5ax8K6oCeZgErHAiEnoBIVNnp39CXBgUAARAAARAAgY4lYF4H1aQPTgn9Z8fiRuwgAAIgAALhIqC6SSs6cbIuMyfhQCAbCUDAGqiV+vpNtGbNGt/XuXcLCwvp97//PZsEGOyfT2PvzjvvpJGjRumQzgMiTzQX2H3wwQf6HH5BIMwEWFXV7eyguRrmykTeQQAEQAAEOpqA12ead0MraO3odBE/CIAACIAACISFgCeO8XZEXc0RqoSlIMhnThCAgDVQzVu3blPT+8Vb3cPO2+7OO+9Mu+++e+CKlg8rKiro5JNPTghoBVCiNQsHAuEnoG3J6VuG7x713+kJw19AlAAEQAAEQAAEMkTA2F9V3ST6ygxBRTQgAAIgAAIRIyCiVNVLOnKZiBURxYkQAQhYA5W5ceNGz0fdw6xlal97BwwYQD179vTOt2Znjz328IPbCMWH99evX++fwx4IhJYAd39sJkArZvO++i9dIhwIgAAIgAAIgEAcATOLSSvhmL4SXWYcIhyAAAiAAAiAgBAIymU8AQ3wgECWEYCANVAhTU16MSrvK4kSEulAxcXFJGYC2uJ69erlX8ZxejJW3q8oL/fPYQ8EQkpAmWBltey48SE3dK+th7RcyDYIgAAIgAAIZJqAla9KL4l+MtN0ER8IgAAIgEBUCKg+UiSsjlwmfsAZlZKiHFEgAAFroBa7d++ufLSQKE5URKtWrmyztul7772nUzJv0TpmfVDHdl/hQCDsBKzJC10Ov6H7OuBhLyHyDwIgAAIgAAKZIeC/YQY+TGYmesQCAiAAAiAAAuEnoOWqXA6/15RCmZFm+MuHEkSOAASsgSoVLVXPBe7cT5d8RsuWLfNOt2bn1blzdfD4Z4Py69XT0W5tTaQICwJZRMDeLnrrNnR3P4syjKyAAAiAAAiAQGcTcLpE2292dhaQHgiAAAiAAAiEgYA32yPQYXoKPAH/MJQJeYw2AQhYA/VbWlpK3btXaV9RRVfznvmQd7/8cild+6drqa6uLnBV84dzWbh6+513qkBOdHys37L79u3XfAQ4CwIhICCtWSY6OmPHEOQaWQQBEAABEACBTiTgDAZ1f8k9p+PXiTlBUiAAAiAAAiCQ1QS8cWVALmPlKBh4ZnX15WTmIGANVHt1dTWNGDFc+ebJJxM779nc3XfdeRf98pe/pKVLlwauTH741ltv0Q9+8APaumWLCqCi4xdp72HBvjvtODH5xfAFgZARUBMduX2rsaL/E7JSILsgAAIgAAIg0EEE3BdAlQT3nAl+HZQ2ogUBEAABEACBEBJIJpdRxW3w/a4AADeaSURBVFDjzRAWCFmOLAEIWANV269fP5o4UQs89QuvSIv0nWs1DOb83xw66qij6bLLLqMFCxbQhg0b4mJZsWIFPf/883TqqafSMcccQ4sWLVJxSCwqJvMirWMlOvSww+KuxwEIhJoAt281bUO1c4waQ12XyDwIgAAIgEBmCdiXP7WNO8hsOogNBEAABEAABCJBgGdIqiEl95lWIGO7Tww1I1HDUSpEYZQKk4myVFZWskbpjl5UMuHZahbYbVNjE7377js0b96HdP3111NxcRGVlpZRQVEhbanfTA0NDbSFNVbXr19PTU1NOi6++RPvf3kyxOiggw7y0sMOCISWgG7OJvvaMo79DW2ZkHEQAAEQAAEQ6AgC/FKo3jFV3PoN0Y4XOyI5xAkCIAACIAAC4SRg+0hfLpNEsBLOoiHXkSMAAWuSKj1w5kwaM2YMLV68WN27cXIj+WpiJK0NDdtp1apafkPmm169KFshKofxLDJzAupQTZ5WGqz6ESFhY3TyySdTSUlJklzACwTCRcDcBpxp3f5VO5d7hQ/VjRSu4iC3IAACIAACIJB5AvYlkGPWu9JJipO3QruvffALAiAAAiAAAiCgCUifmTCstBqtgAQCWUIAJgKSVMTkyZNpxowZfIZvYf4vNpWty7NqrMpDbnN+HdZvyOZFWU6YV2TlLxH4cZig6mr5ETMDcCAQBQJ+23bbP5fMvYGiUFCUAQRAAARAAATaSsB5p9RRSO9pe1C7bWvkuA4EQAAEQAAEIkSA+0zdbeqdhGFlnGwmQuVGUUJLAALWFFV37rnn0siRI9Q7rxWgSlDv1dd5QfY0DoyfbPx7na9QHokJnXPOOTR06NDEE/ABgRATiG//UhDvrglxqZB1EAABEAABEMgwAekw41yCR9xZHIAACIAACIBAThHwhpG8I2IV7zinKKCwISIAAWuKyho3bhzNmTOHCgoKkoqH1M3tvQebO1027OcJXG3c3oPAu4D2229/uvTSS9lOs+9ng2MLAmEmIO1f/sGBAAiAAAiAAAikJhD/LinhvBfG1BfhDAiAAAiAAAjkDAGxVs4jSyMziUF2kjM1H9aCQsDaTM3Nnj2bbrzxRsrPTxQWqVdg9WPP2a1E6L4ga3/9q/0nTZpEV1/9B6qurm4mdZwCgRASUA1d7MglfGYIYWGQZRAAARAAARDoOAKJ75IdlxZiBgEQAAEQAIHwEZAxJY8s1fRgHmj604TDVxTkOCcIQMDaQjWfcsop9Oyzz1GPHlVxIe3HE7nhxdmtPuSbX0tU+Yw+r3+J9tlnBj366CO04447quvwAwJRIWBkq1wc3f5tm49K+VAOEAABEAABEGg3AadzDL5LtjtuRAACIAACIAACESPgd5v+niNsiVhpUZywE4CAtYUazM/Pp3333Zfee+99Ou6446iAj8XFjIVlq6fn3u5KqMoeSuBkBK1lZWX02//9X3ruuWdp8OAhLaSK0yAQPgL+PcB7bvs390D4SoQcgwAIgAAIgECGCTh9YvBdMsMpIToQAAEQAAEQCDcB02c6XacuD4yxhrteI5z7wgiXLaNFGzJkCN1///305ltv0Z+uvZYFpc/Rho0baHvDdmpqbKLGpkaWKcWoIC+f8lgIK7Zbi4qKaNCgwXTMMUfRT3/6MyouLs5onhAZCGQVAe75pK/zBa2cOyNojfPLqkwjMyAAAiAAAiDQiQScDlFNe1SjRvZ0/DsxN0gKBEAABEAABLKXgOkb9cYONtkmK5sKUH4JktfsLQpylhsEIGBtZT3vOnUq3Xrrreqqd999lxYvXkxr166l2tpa2rJlC1VVVSnbqjU1NTRlyhQWsA5qZQoIDgIhJcC9nOkDVQHsvt2GtFTINgiAAAiAAAhkjoAzGFT9IzrJzLFFTCAAAiAAAhEmwB0m/89jjR7PFCv60AjXdziLBgFrO+pt5513JvmDAwEQYAIyaFSdnB496kP0emgbIAACIAACIJCSgNd3pgyBEyAAAiAAAiAAAqa/9ISrIAICWUgANlgDlaJXqAt44hAEQKBlAiJLVbJVs9qjp8+qPFu+HiFAAARAAARAINcIcN+JXjLXKh3lBQEQAAEQaB0B7im9sWbrrkRoEOhMAjmjwbps2TK68MIL6Ztv1jNf/SorwtQ8tYSrqJnn0YQJ4+l3v/tdxvg/9NBDdN111yXYXpWvLrFYE/Xs1ZPuuP0OZa81Y4kiIhDoSgLS8bFTa8CZfaPWqk/gFwRAAARAAARAII6A113G+eIABEAABEAABHKbAFtbZbmq9JJ6aXFfe1XkOeg9c7t1ZGfpc0bA+vLLL9Pjjz9OdXWbvNvUVoncnk1K2Gp9MrPdtm0bzX3lFarfvNkIcuPjFQHvzy/9OY0dOzb+BI5AIIQEbAeoujuvv7O+ISwQsgwCIAACIAACHUTADg3ttoOSQbQgAAIgAAIgEFoCZikrlX9XgceKXUNbMGQ8sgRyxkTAa6+9RvX19UpztImFPyLctH9KuMpi1/PPPz+jFb3XXnvRpMnaRqtNy91KYnfeeWdG00RkINBVBGJscFycJ1s1R/p7ozrADwiAAAiAAAiAABOIqRlUus8UISscCIAACIAACIBAgIDbQcYPMgMBcQgC2UEgZwSsH374ATU2Nirq8sUj6MaMHUP7779/0LtdxwMHDqQZM/ZxTACYJ4TzoLjnnnvblQYuBoFsIZCnPitqAxxm3Kiylux+y5Y8Ix8gAAIgAAIg0CUE/HmO2qxOl2QCiYIACIAACIBAFhMwYhtHfMIzg4MKPVmcf2Qt5wjkhIB18eLFtGLFKq9yE8WrRJdccol3PpM7J510EtXU1JgoTcpGECWeS5Z8SvPnzctkkogLBLqEgJrCYTo8sWlsXbL7zZ7DFgRAAARAAARylYAY0VEOHWWuNgGUGwRAAARAoBkCdkQpQ0tvH31mM8RwqqsJ5ISAdfXq1Wx7dWOzrGfPnt3s+baenDhxIg0ZMsR7IOgd+1TQj4l/PvNMW6PHdSCQXQS4aetWLQvIZVfWkBsQAAEQAAEQ6HIC9hWQM+LZlkN/2eXVggyAAAiAAAhkHwGvy+Qdbz/7sokcgYBHICcErGJ7VRacCjqrOVBZWUkVFRXB0xk7HjlyJAubDGrnyZBnbFYuW7YsY2khIhDoSgL2npI8OLMfuzJLSBsEQAAEQAAEsoeAI0z1+kzn3TB7MoqcgAAIgAAIgEDXE/C6TW+H8+Tud30WkQMQ8AjkhIC1rq6Otm7dqgodfy/qN9rhw4d7QDpiZ/jwEb42n5cBtkxpXqiXL1/eEckiThDoZAJ6PUfPOgC3da+5d3JOkBwIgAAIgAAIZDsBtTik6ihNb4lOM9urDPkDARAAARDoZAKeeQA7yOS+0uipcU7QcXZydSC5FgjkhIB106ZNrMHaoFDIiuZWY8AqDIwYMaIFTO07PWIEC3DtfGn/CeE9D1asWNG+BHA1CGQBAbuYle7wdGen77csyByyAAIgAAIgAAJZRYD7SXkRVS+j9o00qzKIzIAACIAACIBA1xPgLlL3kjKyZMfyFCtrtWe6PpPIAQhoAjkhYNUarFtMnYvFq/gX2b59+3Zoexg6dCjLV7XAST0EbPJmuxIC1g7lj8g7h4BqzgntPHi3dU5ekAoIgAAIgAAIZDUBX/3Gz6Z9P/R9sAcCIAACIAACICCiFCtOEVkO+ku0iSwlkBMC1hjPxZc/5cyN6d2f7LmxhQWw2lt3RUXFjoA1Mbba1bWJnvABgZARUPeU3GshyzeyCwIgAAIgAAKdRsC+jnqdpZ1X1Wk5QEIgAAIgAAIgEC4CorLK/abXdYYr98htDhHICQGrLGJVUlKiq9Xcle7Nueyrjl1kavXq1b6AN65x6Zdqa74g7hQOQCBkBOw95X68CFkRkF0QAAEQAAEQ6BQC0mfq/hIfJjsFOBIBARAAARAIL4Fksz6kNBh4hrdOI5rznBCwdu/encrKylJW4dy5c1MIQFNe0qoT8+fP8+K3M6jjX6rxZGgVUATOWgLyycAKWrM2k8gYCIAACIAACHQVAeeVT/eX3HM6fl2VLaQLAiAAAiAAAllLQK1jYzpLt8/EwDNrqyxXM5YTAtaqqioqLS1VdZxsIta2bdvo5Zdf7rA28PTTT1NjY6OKX1kq4IeC+yzoVlnRYWkjYhDoTAJxejjczpPdb52ZH6QFAiAAAiAAAllFwH0BVBljD+PnjhmzKs/IDAiAAAiAAAh0KQHpK01n6a9wBQ3WLq0TJJ6MQE4IWF0NVnVbJnmDvfbaa5Pxabff0qVLacmSJfHxmGeD9RwwcKDdxRYEwk9ACVa5GNIPSmmS3G/hLyRKAAIgAAIgAAJtIGD6RLdrtK+FdtuGWHEJCIAACIAACESWQPxMD+4tbSeKjjOydR7WguWEgHXUqFFUU9PX1BHfhd6NaPTr+Ab929/+Rm+++WbG6/G6666j5cuX80NAp6WeBeaBYJ8LO/Tvn/F0ESEIdBkBdYvZ1u3eb12WIyQMAiAAAiAAAllFQCvg2L7SbrMqi8gMCIAACIAACGQBATZBp+Q33FdaSasnz8mC7CELIOAQyAkBa7du3Wj8+HGUny8vsHJjWgJmQrO5Qc8++2xas2aNPdnu7ZtvvEn33Xcfbd++3dPmU0l5DwSdkTFjx7Y7LUQAAtlFIObfZt79ll05RG5AAARAAARAoMsI8Lugb7XcezHssuwgYRAAARAAARDITgK6j1R9pjUTkJ0ZRa5AgHJCwCr1PGPGDCovF1unfIMqI8mJtf/GG2/QOeecQ5s3b0482UqflStX0nk/Po8+++wzfWWSle+svcojjjiilbEjOAhkNwH5uOgNF72d7M4zcgcCIAACIAACnUkA3WNn0kZaIAACIAAC4SXA4lVR2oHiTnirMEdynjMC1oMPPthb6MoR/SRU8z333EPf+c53qLa2NuFcuh4iVD388MPplVde0ZfIgyDFW3RFRQVNmzYt3agRDgSyl4Dp8FRzT9HeszfzyBkIgAAIgAAIdDIBDBQ7GTiSAwEQAAEQCBsB3VXy4JL/ezpr6D/DVo05k9+cEbD27t2bTjrpJGO2g+9IJQAyd6ba6P2mWBM99NBDtOeee9Ijj/y91Q3hpptuop122oneeustc61NSw7d9PTpQw891ITDBgRCTkDuKdXcxd6wbuvaTI5p9yEvHrIPAiAAAiAAApkk4A0UvUjRX3oosAMCIAACIAACPKZUQ0zTPXpG6LQhc+aDfhONJLsI5IyAVbBfccUVVFZmzAS49aCErepHfxVhqdDHH39MRx11NE2cOJFuuOEG+uSTT6i+vl79iQkB+dtUv4nq6upo4cKFNGfOHOrXrx+dfvrpys+PXsfrH/Oe43XeeefFncIBCISagLmXrPkLbSbHafChLhwyDwIgAAIgAAKZI6B6x7ixIfrLzNFFTCAAAiAAAqEnoL5EspDVClS9L5O2v7Tb0JcUBYgIgcKIlCOtYsh0/J///FK6+OKLTfjgDSlfSNiPpULyvitn58+fT2eccYYKX1NTQ4MGDaKePXuq49VrVtPXXy2jVa45AXshh9C77m98eocfcSTtscceKi78gEAkCCS0/0iUCoUAARAAARAAgY4hoF4Nnc6zY1JBrCAAAiAAAiAQPgLcRxoJDeed+0oschW+OsyxHOeUgFXqVhaxevrpp+n555+PE4Dqepc7WN+48aJQfXbVqlUkf8mc92psX5T564qrvefHp0PmcTo/vfgiTk6O4UAgIgQS2n9EyoVigAAIgAAIgECGCZhXTmfwmOEEEB0IgAAIgAAIhJyAL0fx90JeJGQ/wgRyykSA1GNpaSndeOONNGHiBDNTX9+oVsyZl/BVhM+okzqElYd6XsbDkyupxsJH/F9f4W91O9LpXXDB+bTLLrtoL/yCQEQI6DYf3/4jUjQUAwRAAARAAAQyS0BeCbnjjNmXy8zGjthAAARAAARAIEIEuMNUg0094lQFc3YjVFAUJcQEck7AKnU1atQo+uPVfyRZ+Mo6azBZiz/dO9UIi4y9Dyt/VeHkx3pIRDqojdIIcMXbX/RHTh522GFspuCnVFJS4oXFDghEgYC6L0xB3P0olA1lAAEQAAEQAIFMElD9pPy475KZTABxgQAIgAAIgEBkCHCHyf/zPDusXDDVkUamgChIBAjkpIBV6m3//fenm266iaqrrZDV3J1Ktpp4p7rvvq74VbUB68FbvWt/7Qmx7KrjHDNmLF1zzTXUq1evCDQfFAEE4gnYli++8lkBDgRAAARAAARAIJFA0h4yqWfitfABARAAARAAgVwl4MplcpUByp29BHJWwCpVctRRR9E///kPGjFiJOXlm7faoGyVvT1BkRfE7JiN+pJi6lhfLr/aHLO9tiC/gHbbbTd68cUXaNiwYSY0NiAQHQLKlpwqjt/+tYzV3ijRKStKAgIgAAIgAALtIWBnTul+0sQUfAdtTwK4FgRAAARAAASiRICHlFa2Etd3RqmMKEvoCeS0gFVqb8qUKfTaa6/SwTMPpuoErVK+i/llN2bV0GNWUGTegHmjfUSYyk5+TBDjw14xqqqqou//4Pv0+uuvU01NjYSEA4HIEVBfEwPt378xIldcFAgEQAAEQAAE2kEg+C7ZjqhwKQiAAAiAAAhEmgAPMrnbTJTLRLrQKFwICeS8gFXqTGyxPvX0U3TzLbfQMcccTT169DBV6b/8ag9zbM7KRvsYf1+FT/mLGYBjjz2Wbr31VrWwlnMZdkEgmgTsLWMErdEsJEoFAiAAAiAAApkjkPh2mbm4ERMIgAAIgAAIhJ+AmffhdZjeTviLhhJEikBhpErTzsKIyYBZs2bRc889x1P5X6Q33niD3njzDarbWJdezKzCJwtXTd1lF9pt993pkEMOoX333ZeKi4vTux6hQCAqBLw+TySt3kFUSodygAAIgAAIgECbCHjfH9VHed0/oqdsE0pcBAIgAAIgkEME3BEl+s0cqviQFRUC1kCFiYBUhKwHHnggrVmzRv0tWrSI5s+fr/Zra2tp5cqVSmhaX19Pffr0Zg3YPtSrupomT55E48aOUwtYVfNxaWlpIHYcgkD0CajBI/9oA+RuVxj9sqOEIAACIAACINAcAa9XdFbpUBaovBPNXY1zIAACIAACIJB7BFyBqnyfhP5O7rWBsJQYAtYUNVVUVET9+vVTf+PHj6fZs2dTU1MTC41iapvHd7bs5+fnk+zLX2FhodqmiBLeIBBpAmJ0XOziqDGjM1qUTtAZR0aaAQoHAiAAAiAAAukQkPGhGO4XW/0YKKZDDGFAAARAAARylYAMLWVZHPkWGXPGmbnKA+XOXgIQsKZRN1Z4mkZQBAGBnCUQP0hkOzlGsArhas42CRQcBEAABEAgBQGlsGpGiyJsVccpwsIbBEAABEAABHKRgOofTSfp95P+Xi4yQZmzmwAWucru+kHuQCB0BKQPhAMBEAABEAABEGiBgBkjKmWcFoLiNAiAAAiAAAjkGgHVTUKemmvVHuryQsAa6upD5kEguwiImQDroLlqSWALAiAAAiAAAokEvD7TDh79LjQxMHxAAARAAARAIAcJeF2jt5ODEFDk0BCAgDU0VYWMgkC2E9C25PQ4kXtA9R89YbbXGvIHAiAAAiDQFQSM/dWuSBppggAIgAAIgEBICNhvkGJLR48sMb4MSdXlZDYhYM3JakehQaAjCEivZ/VxeF/95x84EAABEAABEACBeAJifzXokngFg+AYBEAABEAABHKOgMhUPbkqd5befs6RQIGznAAErFleQcgeCISFgCxqxcs6xi/UwX7o/8JSg8gnCIAACIBAZxHw5av2w2RnpYx0QAAEQAAEQCA8BNRYUoyVs1zV+w7p7YSnHMhpbhCAgDU36hmlBIEOJxBvc9WIVVVHCBFrh8NHAiAAAiAAAqEi4I8NAx8mQ1UKZBYEQAAEQAAEOpCAlqtyAn6vKalhdNmBzBF1uwhAwNoufLgYBEAgSEB3eG4n6O4HQ+MYBEAABEAABHKIgNMlYoCYQ/WOooIACIAACLSegO0zAx1mzIpYA/6tTwBXgEBmCUDAmlmeiA0EcpqATHS0/WBOg0DhQQAEQAAEQCAZAWcwqPtL7jkdv2SXwA8EQAAEQAAEcpqAmAiwnaXqM82IEwPPnG4W2Vh4CFizsVaQJxAIKQE10VH6Py///p7nhR0QAAEQAAEQyHECfu/IPScGiDneGlB8EAABEACB5gjkieFy21m6fabfmTZ3Oc6BQKcRgIC101AjIRDIEQLS/3kiVrcHzJHyo5ggAAIgAAIg0AIBUcbxP0dihNgCLpwGARAAARDIWQI8Q1INKbmvjNNiZSAYauZsq8jWgkPAmq01g3yBQNgIxI0PrYhVOsKwFQT5BQEQAAEQAIEOJsCDQt+ojh4horvsYOaIHgRAAARAIIQEbB/J22RarCEsEbIcXQIQsEa3blEyEOhUAjJzQzstVNXaOZ6nPYktCIAACIAACOQuAadb1LsiVtWiVftpMnfhoOQgAAIgAAIgkJyA9JkJHyKtRmvyS+ALAp1OAALWTkeOBEEgmgT8MaMZIloPu41msVEqEAABEAABEEifQMLoUDpJ21HabfrRISQIgAAIgAAIRJYA95m629Q7WoHHKa3VaHW8sAsCXUkAAtaupI+0QSBqBEwniL4uahWL8oAACIAACGScgB41OtEmeDjnsAsCIAACIAACOUaAvzvqT496x58xmWMcUNzQEICANTRVhYyCQAgImE4wL3ECRwgyjyyCAAiAAAiAQCcSkFFjnExVDyM7MQdICgRAAARAAASymIB0kvaPha1xfWYWZxtZy1kCELDmbNWj4CDQAQRMpxfjb43o/zqAL6IEARAAARCIFgElU0WPGa1KRWlAAARAAAQyQ0DGlNJRmi+S+A6ZGayIpcMIFHZYzIgYBEAgpwjI8FCbBuA9nr8RNBNQUVhAVIRHTk41ChQWBEAABEDAJ8CLcZQVcF9onKzNIX2lDB7V0LGogPLKS4jyIXC1jLAFARAAARDIPQJ5ZcVeoX2Zqr+ntVrdYy84dkCgSwlA2tGl+JE4CESHgN/F8R7/VwJXO0bk495/fTg6hUVJQAAEQAAEQKCNBKxgNabmOto5HzHa+Kd/qr/molV9a3MBkpxryzVJoulwr47MZ6q4W+vf4RDakEBry5AqfBuS7vBLUuW1Nf6pwnZ45ltIIFW+WuOfKmwLSXf66bbksy3XdHrBOMG25LMt14SlbOnmM20GJmBCeDHGyv/hQCDbCMBEQLbVCPIDAmElwD2fdH5xTgStSTq/hHDeRX4kKowJaPfjbLv6QePSNZe4Mar9oL/KrY2YQ9jznhfveOmpfS/K+LC+t5eOjSv+lESiz6hfE8jue2nJRexpTntb4x0XZbIwOoCNwIRwN7KvTvueZk9davftNi5BfWnQyxzrK9Svudjuh7psthC27KZsqmJ4P1g2C8cGk2N33z0O+puKUVf8/3bOJUeS6zrDRYAcyBqYIAeiBAjWGqyJNOcKrCVoA9bMW9CYS+COpIkMEPISrJlhwAJ9/vO650ZmdWV3NbsjxC9QdR/nfb4bmVkd1d2uS4NeTwdbz63i6ronuy+vAOHhYzlrtu+z9zbLVY/r8uJtGxY+TpGvQyeftXp+fbTTfl0VPP0zoE+uSoEcfL88azUsXFT7mstuBQiNjzbUHPFDJ5+12tcrXqym3a4zTSp9OqyP90iqy8VDlazi1r7mknsiF4am9C2yRefz9eZ5N5eE8vcYbjEHBQmNj2lU684lFxOmuucUz4CtK9ulrAChqX/h4f/sUSL7oOx8ZZrO4bHyHz9SS79y1So0Guv/rHOJDZ1Lpr4PH9fHsnvJbe+nTXu5MDVz0tq+O5+vK6KrfJMuN39WLvnyiHjl6foy0mzfnUtOpdN6XFMsnrWvWabB2SQuzKhpkCLXdb4yHXm0TJeD9Bl5B+604Se5xx/RxnIGn+LX9tZxPXfvejFzSVj7mtswim8L19tQ87G3W/+INOWzt5XneG6R4/b+Hx5VxxBpOXPN/VHuli4MTS1rfrS3mf51vUUdHs+Wtat59lI5S1dzye/2Zkq302Dfz93/FavmeD1F5HRdaXrlAX0nm9tzq2imXKZRT8YYFh1Hi6N8Bdg1vtNg3++9t6xC4T9ob95UMnhFb/c5FtxI4mPmk/3GMfcuPwzTZZq5PG+emEziQhvqpvL9ISBbCHxEAjxg/YjwSQ2BfygC9kFXn3Xqq9aa+4eU/OFi/Q+tx0/FFcRtMohPrkpBJqhdzSGubBG7coXNzGcS+/oknwBXDJ812Hf8o81aK3pc07ay5Se+9x36mUt+ChiaD92bFxUVeBleyhBWP1mlJtOqs+qh5nCvXt0wh8XRbDOgTzY0xwhc6p5DXDli3s9tZvKAfW4VpHJp3/nCtJ3dxnZv1Zs53evN885c0cRNrhC/fW9eaxbc69x7ElvPbSV+vLcI8KF7i9O5vUe2Zh7srfqPuRgHccU79uZ2Guy775HYFr5DGRUz5ron27gXHtB3buOJ8nwOuSJ3O/bieG6VK0JVHTKPXK/tbb2Gj73NXCtfrEz3YG9pJjdzWe8ktY9Z48x37E36xTFaXwXsOZbtyrZ6C9uZKyN/rPfkKDdwqjj77nvS12kQKt/I7NibFJLvHF1wc/9L6rYeP7zc0vfhM6RmW7wWx44R5jlGgLons6DOpcXLvamzPd/KVfKVrnJ5jVW05plrBXDHMgtxxXy8N/fPIL22xXO9eVIb4v7f80UNGkuutV0W70P3Fh1YHXd6i6KirlS3SItjb2UT8+zNJPZ17M3tNLjadx5/rbqslFfMmNc96uoxeMDlkwF9WqqwP+4zym1vlVMGVYfWEeC1va2Ylady1KxculbB3r9tU3rDcZhq2dfem9wqp0xmvju9mYXH0uBq3+Va/nGl1G2Pr23lC/3MJT8P6AFe15tCVE81L5knyFx1biF7H71ljI2joq+uX9Nb1Fk91VzV1xwcu7c8DJ80uHoJc+XOtVaNx3OTQegjrzuksHLN3lxvDv0embblV7lCXDGrp5rLumYP2O8lLp2ByowZAh+RAA9YPyJ8UkPgH4pAfTZ6U9tmfLjWp+BxvkOi/+rrHkuWLmmxFvbtX1rXR3nm6DjyrLzlYj/kDZEs/FKYeW37bdPZttjuey9wBu2a9ljZRv1caMbS27d/af1D9pa5ssS9n2Mvx71Zl6h760CxiDbe2FsYZqA3xjmem2q3K6fYxD5EGqeyipXlXN/bv7a3GfOCval8XY0vf+juffHzH6vNrvbh1qPbl1PY9A/vJa40vdciNjHO2GPtyrF3r3GPzJoiUJe1L7KitqmYj/SWkTJX9zYSeNiOrUVswrZe23JQ3sztJlWHdPIavZVdKFzfQ+e6p6yYz80dZS2a4xbY9S5psRb27V9az96keqa3tO/3Eo+cg8LMa9tvm5HtQ/ZWPVVOFTvW79Sb+tp7WzFHbOdy3JtliYq3243Ba5opMp/Lta4AOb8xzrwnlUP+a4pN7EOjMW1cWbm0met7+9f2NmNesDeVr6vx6R3BNr0vfi+/b8V7j4KFT+87Vobt8FKEMsbKtWJoFSZTJ9G4R+a9FIHcrYeWZUW9r5gv99axjr0tRZTZsbWITWStXHLQOvduMnWH3spObh1bG7u2/bYxZcV8bvYI+5Ac+9yG1qN3Ci3s27+01nty5ZEq11JtcrmMczvoZN2X+9Zu24xclfM4l9+YqyYVfbhc0mIt7Nu/tK7OqqfKpSBjnfb9Pil1XQozr95r0Ru3qGxb7NTMEFp39ud6s9AevVNoEcL9nrzX28jmLvPcpMugObV177Xoja272sNanlOnvUlK1L2FvEcL7dE7hRYhDFEFyPmNcY69dRYWEDgFAR6wnuIYKAIC1yXwfX2q6jMxPzjto280FEIfUz+U7TMWrv6k/v3MnVgevfNpYd/xtYX2jcm3tFWI7McH+PYDavukp+0ryOptRa2QN8nbxBa9tuWht1DZqJoUJPNFrhC6vBJULBPWslQukcvobekidueTQoFdoD+wVJaw0A+OvoqtrNfVMlv02pbdW5iGykbVJFGmuNeb21Yss6vlllRxbnrLoO2Tnm4bSV/qbcvVG1v0+l17iwA+Vqyu02ormRZerw3blfvpI73bxuLdejPfzv2G3pRiXMrlf6DwsiKAj1G+19Vh50L2eW71Wus/mIzePKzbKum6J/NO9NyVTxa+dqfaSGqe4x7Z7snO1cU1h+hNzooQ+srlovZtdSykzHCVq3szVV0VYxXtkkjnRtVleHjIMOn40my9VWJXlFkWM+saWTarNI2MObasF66o3hLQZny3NxNW+TLuaCb0dSl9Y4Ps57ktD9eFf4weOJfr/s+SKlfql7QUkphy6I+9hSpGL1ODu2ihQv1LgfbL5CNs6kwi+9Hb5tQ+6Wn7CLLu/4raqtskZRLOQ796i6yhslE1SZRBg2MIXR6RVlwTjrARTBK53PSWEdonPd02kq5zC51eM75K05wiT29s0WtbvtPnTQTwsWJ1ndmWT6b0em3YrtwffdxWhvfO7ZHezLXq0fK53pRiXPG+peQSRgAfo3yXd9i58HrdybxC0e9bJi5Tt3BbxV+9ZUcmudNbhF1B5Dnuka23zlUZlSeu6M3WHi/0PtrgovY1m3ZPZe5vesvYmipG+Grnkhy1qy7DyUOGychndrO3VYiHizKyGPl2XRVIsYdV6pe01WtRMfIe6XOTU8by6J1PC/uOL7dalqHykDLT5RsbZP8D9RaJKlcmzb581/d/FZU2NrlEQxetQlMus3mZfIRNzW1v00Wxwic9bV+5ju9b8nOrNN3itMwWvbblobdQ2Vg9ZL7IFUKJdLltxTJhLUObFnIZ5xa6jNA+6SmxL9dru6L2/Z+mW67e2KLXtuzeImuobFRNEvkgFy1CWK8yt61YpqplRNKYcbK3em3/7//9zzJhBYETEOAB6wkOgRIgcGUCP/nJT55+9tXPooX84Nw/X+Oj01Wpr49N//Bs4/qIVSj76L354UDy8Ykr544nna4Q7B/Khx+HPF/mav/bfKGyUcFGri535HLbEUuVeA1tbPmG/thbqGyswjNfuyvgyLf6PvSWdpHbNzZU0NpXpCwoc0m78oWuVWlasSJ+xX2H3rZcnllDXCNXLSuTKo/cZbw0JQmf9JQ6ly/1tuVqY5OWwjI/dG5KuZXVAfZYXXAZH3rL/xuyzDR7pDJ/uLfDPZLFeZgu7YHespBjb13GjFVFt/He25Hj1XoLdj76qSyWtxwLRb8MG5hpKkTeZFMlZSGN+GEc64p6my98bAzzvuf6KNw1zsNtK0k6zFxyrjBez3oTqwJsHrlk3PHKJAS76l5v+z1yL19Eynwj4N5btO624WCFRBc+trHlG/rjPRkqG8O1g7a7txdWZRIdH3rzALe9ddzE1Pm0V8AQjPeSlctXqa8Cf6jevLyRq5ar5zu9udMawic936K3LVeDN2kpDNRD5yacq2DtjsXZfp5bGR96u8h7sprzDrvN1dsCsfd25NgxCsXD57ZyuWuCj7Wi6nrg3MJwlev7qPlebzOXul/5bnNl6HrpxFys3FEWIdC2VPs9IkUYr1zyu80X/jZW7Ax4vCc7VycMlhF/Ocf+fi5JveIy19zxXNmCXRW5ZBHxQxvr8nuhtxHwkd72XNrZuXWtt7miCjPwomxX+WrvBhFgE5lhhQ15OPq6FAoWykhjY6hslFzfabt6C0GrUl+BPFwbv7m3cLXRnVa+djdRF7Atj72FMnJrrauCxk5j59NG6qx95QtBq0ove7sifsU1ZeqlOb6XhMrGMs955VLEDjCWs7dynq9tmX7/9Iuf//zpT7/5jw6vaFwQ+NgEeMD6sU+A/BC4OIGf/vSnT7/9zW+7C/8Y7M/K+P1ib80qPiZDMkcFWB+464eR+litWZ/DkSMkLTdprStf7GtXn9uZtYy98shXoppT1YW5vMOFVW/NeEoyi4fQ8KbeltHe2/qZ49HeItLK5ZldWD3VLKGv0zjWbtokf6jeZi5VUTVVvtjXrs4tapu91Y9f5V/zm3vLODH5OP2O57bM9nty+sx70uVd+su9ze623vJvhleemmcu1bby3eYKfReTt1N22AFl9e69rehZS2ZR1Od7C22VUPPb9rbFH/kmx9mbTDqXNla878cssaSSP9dbyJd25ds5RiSNdnWOqKDyVq40cdOwGPFdmllD6ZKXezvmktsH6s0rvL0n37a3ardmDysUCd3ljeoYPc83TzIJeggN73RuI1fVVKJj9plv5fLM636wbcWRxtd3eiuSlatt36E3+fplwWa+dcNXNi/TTe/3lmFmAxmkRDXL0td3e8s4Mfk4/SbHYWLL/fU2fVRG5Yu5PB/pbVGe5/bJRd6Tq1PNwWT1s07UVgNYPdgqUc2TY8fzcLccI+/KFascO6Cs1rl1zHD28tzU3GoOVeRb0ffeZi7Zr95Wriqh5rfpLXxW9plv5fLM4yFh1RgdRL6I5GOH+0C9eRm35/a2vYX9bW8F/dhbUEkGNs18k6PbVfBxj5So5ptzO3Cc+WauJc+sHTA0eg2UqGZp/LWRh+zyzFckO71s5aACD6PvO+jtPekO6RQ50riDV7aKvudK1xWmcy1NiWqWxtd3e4tQnb5sQ7x16KIOuvfWYhlZsMoXcwYzadlVvtjXTq5jXcbp/i+/+tXTL/7p8wrGDIFTEOAB6ymOgSIgcF0Cn//z50+///3vn7744gtvYn0Matv/wKQblH59nPqmdeMztGXf598aWX76DanUkWnleyCX3OrDeTlK6teeK+v0/MdcMr8NIMm79KaSwm/vTVnierC3ZV6rnu/1dp/j/sNMBXifve3kPnRvdQNUZ3dO8tZkGdtKLIPH7bm9dW8z1+7sOY/npoz3z+2WowLYj7sep4fa3snl9hfqbXutqfgXevP+0mx/vR3vgVuWcd6VYOSqoJrH9Zpzu8mluJX63rlt75Hzngzj3eV996bCHr8n37a3I0c/tw/wnrzqfGVvdU/sh+DSe73df23r/rwNsGrMJHWPaHtr7u9bUsWJ3Z6bdHE9cI+UqeY35Ioa4558vrdZeFUwE9j61mQzEMuZa96Te3kP9DZz7c6e83huM5cMlsttrl3v4VZvyzEVMV2pN96Tt6O7c0/GIe9HfXufSL+xfKt7UsavfN+qfHuh3tzx/q/P0rrzd5d9pwBn7U113evt+fet99dbnNjtuTlwHx64R5ZxHcWUvGVvdQOsEDfdTpMbZbCU+F5vu/kDvb0h1x//+MenL7/8chXKCgInIGC/kK3/QPEE1VACBCBwSQJ///vfn7799tunb7755um//vrXp//+298u2QdFQwACEIAABCAAAQhAAAIQgMD5CHz22WdPv/71vz794d//8PRvv/vd06effnq+IqnoR02AB6w/6uOneQi8XwLffffd05///Oenv/zlP58+sX9X87396jf/cpUlqt9lallrm/03k/nrSZP337gz0fZLS9PpN+XuaQrNPsavl7d8+r2R+67kmd68zF4uETtqjH8D1NE9shJ4Lo0ZR9XJ+fHeIkuUunqbZXkXL/ZWtdg8e4sCJYyGRm9SRQNhtP5+T8hDKr8iEfK36S1iyO/l3szKa5SPF6ZDsGuyeG1vXoUYKO48t0j62Ln5vwerGBaoerNyF6lc+VnEWsrZ2+xLfe69maUMjudm4izV9FqtezL8q670j/IU/r33tgpR8KpLBer+j71Nft305qRUo6nrnpRr2j/Wm51m3yOxXsgUO7OLoRKJV+VSnj630Bc5L0GiWlic2Ib/8f5/rLd1/6/eMkPeI1GFjZ4vcsli5ttySSknXcfeTOFsDveI25aPnF/oLRIcOLqfJ/VwzdFFCq57slTjPVk1+ZmYzd1z+5G8Jycbcdvu/2Zmi2fOLejKLwhrH8e47v8IE5a+rvt/nLd71/1vRhkuXG3c3kvM2PNo7HMLmeJs92SlvdObx3B9GNXrzV8Zel2qjqxRhXjZkhmLF39OSF4RI5z9brICvdeMHnHjntRaSvn4aDXc5yC7NFSwe71FELOLCrobsx3v0BEnQ9j0wXtrPl7DeL05bG/OipLSOrBZ7VRrj/UWZ3XsLZBZpAJc+TxB5pKTyePc6oxGxV1IxImtjX5u+z2y35OyvNdb5vJiw0ZWurb7XwSsblmv+3/l23K5s4dIeKM3RSio465wa6WvhefSJvId7/8tX3GU7XZuj/f2od+To9X7vXnP3ojal2WdW51MyPPO7dvJpH5t52YuM5cM9pfxuP/DPXJOjimPUqIe3QlRl022jJ2NeW9rL+Hx3MpS6mNvESPk7723Cq4mDr1JFQ2EUfXmd4/eA0ztY/XmDg/29jHfk63Xn3311dPXX3/99Mtf/lJdckHgdAR4wHq6I6EgCEAAAhCAAAQgAAEIQAACEIAABCAAAQhA4CoE+D9Yr3JS1AkBCEAAAhCAAAQgAAEIQAACEIAABCAAAQicjgAPWE93JBQEAQhAAAIQgAAEIAABCEAAAhCAAAQgAAEIXIUAD1ivclLUCQEIQAACEIAABCAAAQhAAAIQgAAEIAABCJyOAA9YT3ckFAQBCEAAAhCAAAQgAAEIQAACEIAABCAAAQhchQAPWK9yUtQJAQhAAAIQgAAEIAABCEAAAhCAAAQgAAEInI4AD1hPdyQUBAEIQAACEIAABCAAAQhAAAIQgAAEIAABCFyFAA9Yr3JS1AkBCEAAAhCAAAQgAAEIQAACEIAABCAAAQicjgAPWE93JBQEAQhAAAIQgAAEIAABCEAAAhCAAAQgAAEIXIUAD1ivclLUCQEIQAACEIAABCAAAQhAAAIQgAAEIAABCJyOAA9YT3ckFAQBCEAAAhCAAAQgAAEIQAACEIAABCAAAQhchQAPWK9yUtQJAQhAAAIQgAAEIAABCEAAAhCAAAQgAAEInI4AD1hPdyQUBAEIQAACEIAABCAAAQhAAAIQgAAEIAABCFyFAA9Yr3JS1AkBCEAAAhCAAAQgAAEIQAACEIAABCAAAQicjgAPWE93JBQEAQhAAAIQgAAEIAABCEAAAhCAAAQgAAEIXIUAD1ivclLUCQEIQAACEIAABCAAAQhAAAIQgAAEIAABCJyOAA9YT3ckFAQBCEAAAhCAAAQgAAEIQAACEIAABCAAAQhchQAPWK9yUtQJAQhAAAIQgAAEIAABCEAAAhCAAAQgAAEInI4AD1hPdyQUBAEIQAACEIAABCAAAQhAAAIQgAAEIAABCFyFAA9Yr3JS1AkBCEAAAhCAAAQgAAEIQAACEIAABCAAAQicjgAPWE93JBQEAQhAAAIQgAAEIAABCEAAAhCAAAQgAAEIXIUAD1ivclLUCQEIQAACEIAABCAAAQhAAAIQgAAEIAABCJyOAA9YT3ckFAQBCEAAAhCAAAQgAAEIQAACEIAABCAAAQhchQAPWK9yUtQJAQhAAAIQgAAEIAABCEAAAhCAAAQgAAEInI4AD1hPdyQUBAEIQAACEIAABCAAAQhAAAIQgAAEIAABCFyFAA9Yr3JS1AkBCEAAAhCAAAQgAAEIQAACEIAABCAAAQicjgAPWE93JBQEAQhAAAIQgAAEIAABCEAAAhCAAAQgAAEIXIUAD1ivclLUCQEIQAACEIAABCAAAQhAAAIQgAAEIAABCJyOAA9YT3ckFAQBCEAAAhCAAAQgAAEIQAACEIAABCAAAQhchQAPWK9yUtQJAQhAAAIQgAAEIAABCEAAAhCAAAQgAAEInI4AD1hPdyQUBAEIQAACEIAABCAAAQhAAAIQgAAEIAABCFyFAA9Yr3JS1AkBCEAAAhCAAAQgAAEIQAACEIAABCAAAQicjgAPWE93JBQEAQhAAAIQgAAEIAABCEAAAhCAAAQgAAEIXIUAD1ivclLUCQEIQAACEIAABCAAAQhAAAIQgAAEIAABCJyOAA9YT3ckFAQBCEAAAhCAAAQgAAEIQAACEIAABCAAAQhchQAPWK9yUtQJAQhAAAIQgAAEIAABCEAAAhCAAAQgAAEInI4AD1hPdyQUBAEIQAACEIAABCAAAQhAAAIQgAAEIAABCFyFAA9Yr3JS1AkBCEAAAhCAAAQgAAEIQAACEIAABCAAAQicjgAPWE93JBQEAQhAAAIQgAAEIAABCEAAAhCAAAQgAAEIXIUAD1ivclLUCQEIQAACEIAABCAAAQhAAAIQgAAEIAABCJyOAA9YT3ckFAQBCEAAAhCAAAQgAAEIQAACEIAABCAAAQhchQAPWK9yUtQJAQhAAAIQgAAEIAABCEAAAhCAAAQgAAEInI4AD1hPdyQUBAEIQAACEIAABCAAAQhAAAIQgAAEIAABCFyFAA9Yr3JS1AkBCEAAAhCAAAQgAAEIQAACEIAABCAAAQicjgAPWE93JBQEAQhAAAIQgAAEIAABCEAAAhCAAAQgAAEIXIUAD1ivclLUCQEIQAACEIAABCAAAQhAAAIQgAAEIAABCJyOAA9YT3ckFAQBCEAAAhCAAAQgAAEIQAACEIAABCAAAQhchQAPWK9yUtQJAQhAAAIQgAAEIAABCEAAAhCAAAQgAAEInI4AD1hPdyQUBAEIQAACEIAABCAAAQhAAAIQgAAEIAABCFyFAA9Yr3JS1AkBCEAAAhCAAAQgAAEIQAACEIAABCAAAQicjgAPWE93JBQEAQhAAAIQgAAEIAABCEAAAhCAAAQgAAEIXIUAD1ivclLUCQEIQAACEIAABCAAAQhAAAIQgAAEIAABCJyOAA9YT3ckFAQBCEAAAhCAAAQgAAEIQAACEIAABCAAAQhchQAPWK9yUtQJAQhAAAIQgAAEIAABCEAAAhCAAAQgAAEInI4AD1hPdyQUBAEIQAACEIAABCAAAQhAAAIQgAAEIAABCFyFAA9Yr3JS1AkBCEAAAhCAAAQgAAEIQAACEIAABCAAAQicjgAPWE93JBQEAQhAAAIQgAAEIAABCEAAAhCAAAQgAAEIXIXA/wMQuzLios0yDAAAAABJRU5ErkJggg==)"
      ],
      "metadata": {
        "id": "jZHz4gq3ZoQB"
      }
    },
    {
      "cell_type": "markdown",
      "source": [
        "Statistical tests\n",
        "\n",
        "This is a strict mathematical rule by which a statistical hypothesis is accepted or rejected.\n",
        "\n",
        "Conducting a statistical test consists of the following steps:\n",
        "\n",
        "     preparing data tables;\n",
        "     checking the normality of distribution;\n",
        "     formulating hypotheses;\n",
        "     calculations.\n",
        "\n",
        "Tests can be parametric or non-parametric. If we are sure that the data is normally distributed, we can conduct parametric tests. If not, then nonparametric.\n",
        "\n",
        "For example, we want to compare the average ratings of two book series. One has published ten books, the other four. We do not know whether the data is normally distributed, since our sample is less than 30 observations. Therefore, we choose a nonparametric test."
      ],
      "metadata": {
        "id": "jkNvEPl9bCIT"
      }
    },
    {
      "cell_type": "markdown",
      "source": [
        "Binomial test\n",
        "\n",
        "    Type: non-parametric.\n",
        "    Used: When we have some guess about how often an event should happen and we want to test it.\n",
        "    Data: a variable that takes two values.\n",
        "    Null hypothesis: There is no difference between the actual and expected distribution."
      ],
      "metadata": {
        "id": "ObYPVD4idVP-"
      }
    },
    {
      "cell_type": "code",
      "source": [
        "from scipy.stats import binomtest\n",
        "#binomtest\n",
        "num_of_people_per_sex = df['Sex'].value_counts().sort_values().tolist()\n",
        "\n",
        "binomtest(num_of_people_per_sex[0], num_of_people_per_sex[1] + num_of_people_per_sex[0])\n"
      ],
      "metadata": {
        "colab": {
          "base_uri": "https://localhost:8080/"
        },
        "id": "wCYv8GqlhyRe",
        "outputId": "c5899dfe-433f-45e5-e93a-ed8f68cf80fc"
      },
      "execution_count": null,
      "outputs": [
        {
          "output_type": "execute_result",
          "data": {
            "text/plain": [
              "BinomTestResult(k=314, n=891, alternative='two-sided', statistic=0.35241301907968575, pvalue=9.419916252965797e-19)"
            ]
          },
          "metadata": {},
          "execution_count": 178
        }
      ]
    },
    {
      "cell_type": "markdown",
      "source": [
        "p-value is the probability of obtaining our data in reality where the null hypothesis is true."
      ],
      "metadata": {
        "id": "M4pXtCoFnNJ9"
      }
    },
    {
      "cell_type": "markdown",
      "source": [
        "T-test\n",
        "\n",
        "  Type: parametric.\n",
        "\n",
        "  Use: When there is a need to understand whether there are differences in the mean value of a variable between two groups of observations.\n",
        "\n",
        "  Data: must consist of two variables - according to one variable they are divided into two groups, according to the other they are compared with each other.\n",
        "\n",
        "  Null hypothesis: the mean values of the variable in the two groups do not differ significantly.\n",
        "\n",
        "  \n",
        "\n",
        "\n",
        "\n",
        "---\n",
        "\n",
        "\n",
        "\n",
        "---\n",
        "\n",
        "\n",
        "\n",
        "  What else can be checked with a T-test:\n",
        "\n",
        "   whether average ratings for fiction books in English differ from ratings for fiction books in general;\n",
        "\n",
        "   On average, how much better did patients who had laser eye surgery see compared to those who did not have surgery?\n",
        "\n",
        "   Does the average taxi travel distance differ between passengers with and without children?\n",
        "\n",
        "  Fun fact: The T-test is the basis for a/b testing in marketing and product management."
      ],
      "metadata": {
        "id": "2YNeWyKekkeM"
      }
    },
    {
      "cell_type": "markdown",
      "source": [
        "Before performing a T-test, it should be checked that the variable to be estimated is:\n",
        "\n",
        "     continuous (for example, age);\n",
        "     distributed close to normal;\n",
        "     has minor differences in variance between the two groups of observations."
      ],
      "metadata": {
        "id": "lRBJHUJFgqUn"
      }
    },
    {
      "cell_type": "code",
      "source": [
        "#T test\n",
        "from scipy.stats import shapiro\n",
        "\n",
        "mean_male_age = []\n",
        "n = 1\n",
        "\n",
        "while n < 1000:\n",
        "  n += 1\n",
        "  sample = df[(df[\"Sex\"] == \"male\") & (df[\"Age\"] >= 18)].sample(100)[\"Age\"].mean()\n",
        "  mean_male_age.append(sample)\n",
        "\n",
        "shapiro(mean_male_age)\n"
      ],
      "metadata": {
        "colab": {
          "base_uri": "https://localhost:8080/"
        },
        "id": "BhC-PsKzh7Dg",
        "outputId": "f44a902a-3050-4fc3-8ed6-cfda209f60b5"
      },
      "execution_count": null,
      "outputs": [
        {
          "output_type": "execute_result",
          "data": {
            "text/plain": [
              "ShapiroResult(statistic=0.9976567625999451, pvalue=0.16727431118488312)"
            ]
          },
          "metadata": {},
          "execution_count": 140
        }
      ]
    },
    {
      "cell_type": "code",
      "source": [
        "\n",
        "mean_female_age = []\n",
        "n = 1\n",
        "\n",
        "while n < 1000:\n",
        "  n += 1\n",
        "  sample = df[(df[\"Sex\"] == \"female\") & (df[\"Age\"] >= 18)].sample(100)[\"Fare\"].mean()\n",
        "  mean_female_age.append(sample)\n",
        "\n",
        "shapiro(mean_female_age)"
      ],
      "metadata": {
        "colab": {
          "base_uri": "https://localhost:8080/"
        },
        "id": "53sU1NPviMcm",
        "outputId": "f532d16f-19c1-412b-f42d-a72ad53eb78c"
      },
      "execution_count": null,
      "outputs": [
        {
          "output_type": "execute_result",
          "data": {
            "text/plain": [
              "ShapiroResult(statistic=0.9973649978637695, pvalue=0.10463817417621613)"
            ]
          },
          "metadata": {},
          "execution_count": 141
        }
      ]
    },
    {
      "cell_type": "code",
      "source": [
        "from scipy.stats import levene\n",
        "\n",
        "male_age = df[(df['Sex'] == \"male\") & (df[\"Age\"] >= 18)].sample(100)['Fare']\n",
        "female_age = df[(df[\"Sex\"] == \"female\") & (df[\"Age\"] >= 18)].sample(100)['Fare']\n",
        "levene(male_age, female_age)"
      ],
      "metadata": {
        "colab": {
          "base_uri": "https://localhost:8080/"
        },
        "id": "RXz8_OG5iWLB",
        "outputId": "2630dec4-e3ba-485b-b142-417fb2d201a3"
      },
      "execution_count": null,
      "outputs": [
        {
          "output_type": "execute_result",
          "data": {
            "text/plain": [
              "LeveneResult(statistic=5.30408997543476, pvalue=0.022314202430942908)"
            ]
          },
          "metadata": {},
          "execution_count": 138
        }
      ]
    },
    {
      "cell_type": "code",
      "source": [
        "from scipy.stats import ttest_ind\n",
        "\n",
        "ttest_ind(male_age, female_age, equal_var=False)\n",
        "print(male_age.mean(), female_age.mean())"
      ],
      "metadata": {
        "colab": {
          "base_uri": "https://localhost:8080/"
        },
        "id": "Fh3_JZyQlZ1Q",
        "outputId": "166ab270-5e58-4d32-9c1c-2d4df1b21461"
      },
      "execution_count": null,
      "outputs": [
        {
          "output_type": "stream",
          "name": "stdout",
          "text": [
            "29.968915000000006 49.10070999999999\n"
          ]
        }
      ]
    },
    {
      "cell_type": "code",
      "source": [
        "from math import comb\n",
        "\n",
        "comb(6, 4)"
      ],
      "metadata": {
        "colab": {
          "base_uri": "https://localhost:8080/"
        },
        "id": "ILbuLSFZP9tC",
        "outputId": "fd76d1c2-74e2-4424-cd18-056ed5d4c3fc"
      },
      "execution_count": null,
      "outputs": [
        {
          "output_type": "execute_result",
          "data": {
            "text/plain": [
              "15"
            ]
          },
          "metadata": {},
          "execution_count": 187
        }
      ]
    },
    {
      "cell_type": "code",
      "source": [
        "import numpy as np\n",
        "import matplotlib.pyplot as plt\n",
        "import seaborn as sns\n",
        "\n",
        "def run_binom(trials, n, p):\n",
        "    heads = []\n",
        "    for i in range(trials):\n",
        "        tosses = [np.random.random() for i in range(n)]\n",
        "        heads.append(len([i for i in tosses if i >= 0.5]))\n",
        "    return heads\n",
        "\n",
        "\n",
        "# Amount of iterations\n",
        "trials = 5000\n",
        "# Amount of tosses per iteration\n",
        "n = 100\n",
        "# Probability of success (heads are considered as success)\n",
        "p = 0.5\n",
        "\n",
        "heads = run_binom(trials, n, p)# Plot the results as a histogram fig,\n",
        "ax = plt.subplots(figsize=(14,7))\n",
        "ax = sns.distplot(heads, bins=11, label='simulation results')\n",
        "ax.set_xlabel(\"Number of Heads\",fontsize=16)\n",
        "ax.set_ylabel(\"Frequency\",fontsize=16)"
      ],
      "metadata": {
        "id": "fJ9PRvCxhQSX"
      },
      "execution_count": null,
      "outputs": []
    },
    {
      "cell_type": "markdown",
      "source": [
        "## How does one display specific statistical datatypes?\n",
        "- example discrete vs discrete => contingency tables\n",
        "- taken from https://www.kaggle.com/code/hamelg/python-for-data-25-chi-squared-tests/notebook"
      ],
      "metadata": {
        "id": "ulZOxr2NaT0I"
      }
    }
  ]
}